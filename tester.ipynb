{
 "cells": [
  {
   "cell_type": "code",
   "execution_count": 1,
   "metadata": {},
   "outputs": [
    {
     "name": "stdout",
     "output_type": "stream",
     "text": [
      "time =  3.476029872894287\n"
     ]
    }
   ],
   "source": [
    "rewards = []\n",
    "import time\n",
    "t = time.time()\n",
    "import random\n",
    "i = 0\n",
    "\n",
    "# train.py\n",
    "# Simple env test.\n",
    "import json\n",
    "import select\n",
    "import time\n",
    "import logging\n",
    "import os\n",
    "\n",
    "import aicrowd_helper\n",
    "import gym\n",
    "import minerl\n",
    "from utility.parser import Parser\n",
    "\n",
    "import coloredlogs\n",
    "coloredlogs.install(logging.DEBUG)\n",
    "\n",
    "# All the evaluations will be evaluated on MineRLObtainDiamond-v0 environment\n",
    "MINERL_GYM_ENV = os.getenv('MINERL_GYM_ENV', 'MineRLObtainDiamond-v0')\n",
    "# You need to ensure that your submission is trained in under MINERL_TRAINING_MAX_STEPS steps\n",
    "MINERL_TRAINING_MAX_STEPS = int(os.getenv('MINERL_TRAINING_MAX_STEPS', 8000))#000))\n",
    "# You need to ensure that your submission is trained by launching less than MINERL_TRAINING_MAX_INSTANCES instances\n",
    "MINERL_TRAINING_MAX_INSTANCES = int(os.getenv('MINERL_TRAINING_MAX_INSTANCES', 1))#5))\n",
    "# You need to ensure that your submission is trained within allowed training time.\n",
    "# Round 1: Training timeout is 15 minutes\n",
    "# Round 2: Training timeout is 4 days\n",
    "MINERL_TRAINING_TIMEOUT = int(os.getenv('MINERL_TRAINING_TIMEOUT_MINUTES', 15))#4*24*60))\n",
    "# The dataset is available in data/ directory from repository root.\n",
    "MINERL_DATA_ROOT = os.getenv('MINERL_DATA_ROOT', 'data/')\n",
    "\n",
    "# Optional: You can view best effort status of your instances with the help of parser.py\n",
    "# This will give you current state like number of steps completed, instances launched and so on. Make your you keep a tap on the numbers to avoid breaching any limits.\n",
    "parser = Parser('performance/',\n",
    "                allowed_environment=MINERL_GYM_ENV,\n",
    "                maximum_instances=MINERL_TRAINING_MAX_INSTANCES,\n",
    "                maximum_steps=MINERL_TRAINING_MAX_STEPS,\n",
    "                raise_on_error=False,\n",
    "                no_entry_poll_timeout=600,\n",
    "                submission_timeout=MINERL_TRAINING_TIMEOUT*60,\n",
    "                initial_poll_timeout=600)\n",
    "\n",
    "print(\"time = \", time.time()-t)\n",
    "\n",
    "def main():\n",
    "    \"\"\"\n",
    "    This function will be called for training phase.\n",
    "    \"\"\"\n",
    "    # How to sample minerl data is document here:\n",
    "    # http://minerl.io/docs/tutorials/data_sampling.html\n",
    "    data = minerl.data.make(MINERL_GYM_ENV, data_dir=MINERL_DATA_ROOT)\n",
    "\n",
    "    # Sample code for illustration, add your training code below\n",
    "    env = gym.make(MINERL_GYM_ENV)\n",
    "\n",
    "    actions = [env.action_space.sample() for _ in range(10)] # Just doing 10 samples in this example\n",
    "    xposes = []\n",
    "    print(actions)\n",
    "\n",
    "    for _ in range(1):\n",
    "        obs = env.reset()\n",
    "        done = False\n",
    "        netr = 0\n",
    "\n",
    "        # Limiting our code to 1024 steps in this example, you can do \"while not done\" to run till end\n",
    "        i = 0\n",
    "        while (i in range(10240) and not done):\n",
    "            print(\"step = \", i)\n",
    "            i+=1\n",
    "\n",
    "            random_act = env.action_space.noop()\n",
    "            random_act['camera'] = [0.1,1]#[random.uniform(-1, 2), random.uniform(-1, 2)]\n",
    "            random_act['back'] = random.choice([0,0,0,0,0,0,0,0,0,1])#[0,1]\n",
    "            random_act['forward'] = 1\n",
    "            random_act['right'] = random.choice([0,0,0,0,0,0,0,0,0,1])#[0,1]\n",
    "            random_act['left'] = 0#random.choice([0,1])\n",
    "            random_act['jump'] = random.choice([0,0,0,0,0,0,0,0,0,0,0,0,0,0,0,0,0,0,0,0,1])\n",
    "            random_act['attack'] = 1\n",
    "            random_act['craft'] = random.choice([0,1])\n",
    "            random_act['equip'] = random.choice([0,1])\n",
    "            random_act['nearbyCraft'] = 0\n",
    "            random_act['nearbySmelt'] = 0\n",
    "            random_act['place'] = random.choice([0,0,0,0,0,0,0,0,0,0,0,1])#[0,1]\n",
    "            random_act['sneak'] = 0\n",
    "            random_act['sprint'] = random.choice([0,1])\n",
    "\n",
    "            #print(random_act)\n",
    "            obs, reward, done, info = env.step(random_act)\n",
    "            reward = random.choice([0,0,0,0,0,0,0,0,0,0,0.1,0,0,0,0,0,0,0.2,0,0,0,0,0,0,0,0,0,0,0,0,0,0,0.3])\n",
    "            #print(\"obs = \", obs)\n",
    "            rewards.append(reward)\n",
    "\n",
    "            #print(reward)\n",
    "            netr += reward\n",
    "            print(netr)\n",
    "            env.render()\n",
    "\n",
    "            # To get better view in your training phase, it is suggested\n",
    "            # to register progress continuously, example when 54% completed\n",
    "            # aicrowd_helper.register_progress(0.54)\n",
    "\n",
    "            # To fetch latest information from instance manager, you can run below when you want to know the state\n",
    "            #>> parser.update_information()\n",
    "            #>> print(parser.payload)\n",
    "            # .payload: provide AIcrowd generated json\n",
    "            # Example: {'state': 'RUNNING', 'score': {'score': 0.0, 'score_secondary': 0.0}, 'instances': {'1': {'totalNumberSteps': 2001, 'totalNumberEpisodes': 0, 'currentEnvironment': 'MineRLObtainDiamond-v0', 'state': 'IN_PROGRESS', 'episodes': [{'numTicks': 2001, 'environment': 'MineRLObtainDiamond-v0', 'rewards': 0.0, 'state': 'IN_PROGRESS'}], 'score': {'score': 0.0, 'score_secondary': 0.0}}}}\n",
    "            # .current_state: provide indepth state information avaiable as dictionary (key: instance id)\n",
    "\n",
    "        #print(\"done =\", done)\n",
    "\n",
    "    # Save trained model to train/ directory\n",
    "    # Training 100% Completed\n",
    "    aicrowd_helper.register_progress(1)\n",
    "    env.close()"
   ]
  },
  {
   "cell_type": "code",
   "execution_count": null,
   "metadata": {
    "scrolled": false
   },
   "outputs": [
    {
     "name": "stdout",
     "output_type": "stream",
     "text": [
      "INFO:minerl.env.malmo.instance.42cbc8:Starting Minecraft process: ['C:\\\\Users\\\\manik\\\\AppData\\\\Local\\\\Temp\\\\tmpcko_29sn\\\\Minecraft\\\\launchClient.bat', '-port', '9001', '-env', '-runDir', 'C:\\\\Users\\\\manik\\\\AppData\\\\Local\\\\Temp\\\\tmpcko_29sn\\\\Minecraft\\\\run']\n"
     ]
    },
    {
     "name": "stderr",
     "output_type": "stream",
     "text": [
      "2019-12-01 18:25:49 LAPTOP-SDM3TI61 minerl.env.malmo.instance.42cbc8[24072] INFO Starting Minecraft process: ['C:\\\\Users\\\\manik\\\\AppData\\\\Local\\\\Temp\\\\tmpcko_29sn\\\\Minecraft\\\\launchClient.bat', '-port', '9001', '-env', '-runDir', 'C:\\\\Users\\\\manik\\\\AppData\\\\Local\\\\Temp\\\\tmpcko_29sn\\\\Minecraft\\\\run']\n"
     ]
    },
    {
     "name": "stdout",
     "output_type": "stream",
     "text": [
      "INFO:minerl.env.malmo.instance.42cbc8:Starting process watcher for process 24192 @ localhost:9001\n"
     ]
    },
    {
     "name": "stderr",
     "output_type": "stream",
     "text": [
      "2019-12-01 18:25:49 LAPTOP-SDM3TI61 minerl.env.malmo.instance.42cbc8[24072] INFO Starting process watcher for process 24192 @ localhost:9001\n"
     ]
    },
    {
     "name": "stdout",
     "output_type": "stream",
     "text": [
      "DEBUG:minerl.env.malmo.instance.42cbc8:This mapping 'snapshot_20161220' was designed for MC 1.11! Use at your own peril.\r\n"
     ]
    },
    {
     "name": "stderr",
     "output_type": "stream",
     "text": [
      "2019-12-01 18:26:16 LAPTOP-SDM3TI61 minerl.env.malmo.instance.42cbc8[24072] DEBUG This mapping 'snapshot_20161220' was designed for MC 1.11! Use at your own peril.\n"
     ]
    },
    {
     "name": "stdout",
     "output_type": "stream",
     "text": [
      "DEBUG:minerl.env.malmo.instance.42cbc8:#################################################\r\n"
     ]
    },
    {
     "name": "stderr",
     "output_type": "stream",
     "text": [
      "2019-12-01 18:26:17 LAPTOP-SDM3TI61 minerl.env.malmo.instance.42cbc8[24072] DEBUG #################################################\n"
     ]
    },
    {
     "name": "stdout",
     "output_type": "stream",
     "text": [
      "DEBUG:minerl.env.malmo.instance.42cbc8:         ForgeGradle 2.2-SNAPSHOT-3966cea        \r\n"
     ]
    },
    {
     "name": "stderr",
     "output_type": "stream",
     "text": [
      "2019-12-01 18:26:17 LAPTOP-SDM3TI61 minerl.env.malmo.instance.42cbc8[24072] DEBUG          ForgeGradle 2.2-SNAPSHOT-3966cea        \n"
     ]
    },
    {
     "name": "stdout",
     "output_type": "stream",
     "text": [
      "DEBUG:minerl.env.malmo.instance.42cbc8:  https://github.com/MinecraftForge/ForgeGradle  \r\n"
     ]
    },
    {
     "name": "stderr",
     "output_type": "stream",
     "text": [
      "2019-12-01 18:26:17 LAPTOP-SDM3TI61 minerl.env.malmo.instance.42cbc8[24072] DEBUG   https://github.com/MinecraftForge/ForgeGradle  \n"
     ]
    },
    {
     "name": "stdout",
     "output_type": "stream",
     "text": [
      "DEBUG:minerl.env.malmo.instance.42cbc8:#################################################\r\n"
     ]
    },
    {
     "name": "stderr",
     "output_type": "stream",
     "text": [
      "2019-12-01 18:26:17 LAPTOP-SDM3TI61 minerl.env.malmo.instance.42cbc8[24072] DEBUG #################################################\n"
     ]
    },
    {
     "name": "stdout",
     "output_type": "stream",
     "text": [
      "DEBUG:minerl.env.malmo.instance.42cbc8:               Powered by MCP unknown               \r\n"
     ]
    },
    {
     "name": "stderr",
     "output_type": "stream",
     "text": [
      "2019-12-01 18:26:17 LAPTOP-SDM3TI61 minerl.env.malmo.instance.42cbc8[24072] DEBUG                Powered by MCP unknown               \n"
     ]
    },
    {
     "name": "stdout",
     "output_type": "stream",
     "text": [
      "DEBUG:minerl.env.malmo.instance.42cbc8:             http://modcoderpack.com             \r\n"
     ]
    },
    {
     "name": "stderr",
     "output_type": "stream",
     "text": [
      "2019-12-01 18:26:17 LAPTOP-SDM3TI61 minerl.env.malmo.instance.42cbc8[24072] DEBUG              http://modcoderpack.com             \n"
     ]
    },
    {
     "name": "stdout",
     "output_type": "stream",
     "text": [
      "DEBUG:minerl.env.malmo.instance.42cbc8:         by: Searge, ProfMobius, Fesh0r,         \r\n"
     ]
    },
    {
     "name": "stderr",
     "output_type": "stream",
     "text": [
      "2019-12-01 18:26:17 LAPTOP-SDM3TI61 minerl.env.malmo.instance.42cbc8[24072] DEBUG          by: Searge, ProfMobius, Fesh0r,         \n"
     ]
    },
    {
     "name": "stdout",
     "output_type": "stream",
     "text": [
      "DEBUG:minerl.env.malmo.instance.42cbc8:         R4wk, ZeuX, IngisKahn, bspkrs           \r\n"
     ]
    },
    {
     "name": "stderr",
     "output_type": "stream",
     "text": [
      "2019-12-01 18:26:17 LAPTOP-SDM3TI61 minerl.env.malmo.instance.42cbc8[24072] DEBUG          R4wk, ZeuX, IngisKahn, bspkrs           \n"
     ]
    },
    {
     "name": "stdout",
     "output_type": "stream",
     "text": [
      "DEBUG:minerl.env.malmo.instance.42cbc8:#################################################\r\n"
     ]
    },
    {
     "name": "stderr",
     "output_type": "stream",
     "text": [
      "2019-12-01 18:26:17 LAPTOP-SDM3TI61 minerl.env.malmo.instance.42cbc8[24072] DEBUG #################################################\n"
     ]
    },
    {
     "name": "stdout",
     "output_type": "stream",
     "text": [
      "DEBUG:minerl.env.malmo.instance.42cbc8:Found AccessTransformer: malmomod_at.cfg\r\n"
     ]
    },
    {
     "name": "stderr",
     "output_type": "stream",
     "text": [
      "2019-12-01 18:26:17 LAPTOP-SDM3TI61 minerl.env.malmo.instance.42cbc8[24072] DEBUG Found AccessTransformer: malmomod_at.cfg\n"
     ]
    },
    {
     "name": "stdout",
     "output_type": "stream",
     "text": [
      "DEBUG:minerl.env.malmo.instance.42cbc8::deobfCompileDummyTask\r\n"
     ]
    },
    {
     "name": "stderr",
     "output_type": "stream",
     "text": [
      "2019-12-01 18:26:17 LAPTOP-SDM3TI61 minerl.env.malmo.instance.42cbc8[24072] DEBUG :deobfCompileDummyTask\n"
     ]
    },
    {
     "name": "stdout",
     "output_type": "stream",
     "text": [
      "DEBUG:minerl.env.malmo.instance.42cbc8::deobfProvidedDummyTask\r\n"
     ]
    },
    {
     "name": "stderr",
     "output_type": "stream",
     "text": [
      "2019-12-01 18:26:17 LAPTOP-SDM3TI61 minerl.env.malmo.instance.42cbc8[24072] DEBUG :deobfProvidedDummyTask\n"
     ]
    },
    {
     "name": "stdout",
     "output_type": "stream",
     "text": [
      "DEBUG:minerl.env.malmo.instance.42cbc8::getVersionJson\r\n"
     ]
    },
    {
     "name": "stderr",
     "output_type": "stream",
     "text": [
      "2019-12-01 18:26:21 LAPTOP-SDM3TI61 minerl.env.malmo.instance.42cbc8[24072] DEBUG :getVersionJson\n"
     ]
    },
    {
     "name": "stdout",
     "output_type": "stream",
     "text": [
      "DEBUG:minerl.env.malmo.instance.42cbc8::extractUserdev UP-TO-DATE\r\n"
     ]
    },
    {
     "name": "stderr",
     "output_type": "stream",
     "text": [
      "2019-12-01 18:26:21 LAPTOP-SDM3TI61 minerl.env.malmo.instance.42cbc8[24072] DEBUG :extractUserdev UP-TO-DATE\n"
     ]
    },
    {
     "name": "stdout",
     "output_type": "stream",
     "text": [
      "DEBUG:minerl.env.malmo.instance.42cbc8::downloadClient SKIPPED\r\n"
     ]
    },
    {
     "name": "stderr",
     "output_type": "stream",
     "text": [
      "2019-12-01 18:26:22 LAPTOP-SDM3TI61 minerl.env.malmo.instance.42cbc8[24072] DEBUG :downloadClient SKIPPED\n"
     ]
    },
    {
     "name": "stdout",
     "output_type": "stream",
     "text": [
      "DEBUG:minerl.env.malmo.instance.42cbc8::downloadServer SKIPPED\r\n"
     ]
    },
    {
     "name": "stderr",
     "output_type": "stream",
     "text": [
      "2019-12-01 18:26:22 LAPTOP-SDM3TI61 minerl.env.malmo.instance.42cbc8[24072] DEBUG :downloadServer SKIPPED\n"
     ]
    },
    {
     "name": "stdout",
     "output_type": "stream",
     "text": [
      "DEBUG:minerl.env.malmo.instance.42cbc8::splitServerJar SKIPPED\r\n"
     ]
    },
    {
     "name": "stderr",
     "output_type": "stream",
     "text": [
      "2019-12-01 18:26:26 LAPTOP-SDM3TI61 minerl.env.malmo.instance.42cbc8[24072] DEBUG :splitServerJar SKIPPED\n"
     ]
    },
    {
     "name": "stdout",
     "output_type": "stream",
     "text": [
      "DEBUG:minerl.env.malmo.instance.42cbc8::mergeJars SKIPPED\r\n"
     ]
    },
    {
     "name": "stderr",
     "output_type": "stream",
     "text": [
      "2019-12-01 18:26:28 LAPTOP-SDM3TI61 minerl.env.malmo.instance.42cbc8[24072] DEBUG :mergeJars SKIPPED\n"
     ]
    },
    {
     "name": "stdout",
     "output_type": "stream",
     "text": [
      "DEBUG:minerl.env.malmo.instance.42cbc8::applyBinaryPatches SKIPPED\r\n"
     ]
    },
    {
     "name": "stderr",
     "output_type": "stream",
     "text": [
      "2019-12-01 18:26:30 LAPTOP-SDM3TI61 minerl.env.malmo.instance.42cbc8[24072] DEBUG :applyBinaryPatches SKIPPED\n"
     ]
    },
    {
     "name": "stdout",
     "output_type": "stream",
     "text": [
      "DEBUG:minerl.env.malmo.instance.42cbc8::extractDependencyATs SKIPPED\r\n"
     ]
    },
    {
     "name": "stderr",
     "output_type": "stream",
     "text": [
      "2019-12-01 18:26:30 LAPTOP-SDM3TI61 minerl.env.malmo.instance.42cbc8[24072] DEBUG :extractDependencyATs SKIPPED\n"
     ]
    },
    {
     "name": "stdout",
     "output_type": "stream",
     "text": [
      "DEBUG:minerl.env.malmo.instance.42cbc8::extractMcpData SKIPPED\r\n"
     ]
    },
    {
     "name": "stderr",
     "output_type": "stream",
     "text": [
      "2019-12-01 18:26:30 LAPTOP-SDM3TI61 minerl.env.malmo.instance.42cbc8[24072] DEBUG :extractMcpData SKIPPED\n"
     ]
    },
    {
     "name": "stdout",
     "output_type": "stream",
     "text": [
      "DEBUG:minerl.env.malmo.instance.42cbc8::extractMcpMappings SKIPPED\r\n"
     ]
    },
    {
     "name": "stderr",
     "output_type": "stream",
     "text": [
      "2019-12-01 18:26:30 LAPTOP-SDM3TI61 minerl.env.malmo.instance.42cbc8[24072] DEBUG :extractMcpMappings SKIPPED\n"
     ]
    },
    {
     "name": "stdout",
     "output_type": "stream",
     "text": [
      "DEBUG:minerl.env.malmo.instance.42cbc8::genSrgs SKIPPED\r\n"
     ]
    },
    {
     "name": "stderr",
     "output_type": "stream",
     "text": [
      "2019-12-01 18:26:31 LAPTOP-SDM3TI61 minerl.env.malmo.instance.42cbc8[24072] DEBUG :genSrgs SKIPPED\n"
     ]
    },
    {
     "name": "stdout",
     "output_type": "stream",
     "text": [
      "DEBUG:minerl.env.malmo.instance.42cbc8::deobfMcMCP\r\n"
     ]
    },
    {
     "name": "stderr",
     "output_type": "stream",
     "text": [
      "2019-12-01 18:26:33 LAPTOP-SDM3TI61 minerl.env.malmo.instance.42cbc8[24072] DEBUG :deobfMcMCP\n"
     ]
    },
    {
     "name": "stdout",
     "output_type": "stream",
     "text": [
      "DEBUG:minerl.env.malmo.instance.42cbc8:Applying SpecialSource...\r\n"
     ]
    },
    {
     "name": "stderr",
     "output_type": "stream",
     "text": [
      "2019-12-01 18:26:33 LAPTOP-SDM3TI61 minerl.env.malmo.instance.42cbc8[24072] DEBUG Applying SpecialSource...\n"
     ]
    },
    {
     "name": "stdout",
     "output_type": "stream",
     "text": [
      "DEBUG:minerl.env.malmo.instance.42cbc8:Applying Exceptor...\r\n"
     ]
    },
    {
     "name": "stderr",
     "output_type": "stream",
     "text": [
      "2019-12-01 18:26:50 LAPTOP-SDM3TI61 minerl.env.malmo.instance.42cbc8[24072] DEBUG Applying Exceptor...\n"
     ]
    },
    {
     "name": "stdout",
     "output_type": "stream",
     "text": [
      "DEBUG:minerl.env.malmo.instance.42cbc8:Applying RuntimeInvisibleParameterAnnotations workaround...\r\n"
     ]
    },
    {
     "name": "stderr",
     "output_type": "stream",
     "text": [
      "2019-12-01 18:26:57 LAPTOP-SDM3TI61 minerl.env.malmo.instance.42cbc8[24072] DEBUG Applying RuntimeInvisibleParameterAnnotations workaround...\n"
     ]
    },
    {
     "name": "stdout",
     "output_type": "stream",
     "text": [
      "DEBUG:minerl.env.malmo.instance.42cbc8::sourceApiJava UP-TO-DATE\r\n"
     ]
    },
    {
     "name": "stderr",
     "output_type": "stream",
     "text": [
      "2019-12-01 18:27:01 LAPTOP-SDM3TI61 minerl.env.malmo.instance.42cbc8[24072] DEBUG :sourceApiJava UP-TO-DATE\n"
     ]
    },
    {
     "name": "stdout",
     "output_type": "stream",
     "text": [
      "DEBUG:minerl.env.malmo.instance.42cbc8::compileApiJava UP-TO-DATE\r\n"
     ]
    },
    {
     "name": "stderr",
     "output_type": "stream",
     "text": [
      "2019-12-01 18:27:01 LAPTOP-SDM3TI61 minerl.env.malmo.instance.42cbc8[24072] DEBUG :compileApiJava UP-TO-DATE\n"
     ]
    },
    {
     "name": "stdout",
     "output_type": "stream",
     "text": [
      "DEBUG:minerl.env.malmo.instance.42cbc8::processApiResources UP-TO-DATE\r\n"
     ]
    },
    {
     "name": "stderr",
     "output_type": "stream",
     "text": [
      "2019-12-01 18:27:01 LAPTOP-SDM3TI61 minerl.env.malmo.instance.42cbc8[24072] DEBUG :processApiResources UP-TO-DATE\n"
     ]
    },
    {
     "name": "stdout",
     "output_type": "stream",
     "text": [
      "DEBUG:minerl.env.malmo.instance.42cbc8::apiClasses UP-TO-DATE\r\n"
     ]
    },
    {
     "name": "stderr",
     "output_type": "stream",
     "text": [
      "2019-12-01 18:27:01 LAPTOP-SDM3TI61 minerl.env.malmo.instance.42cbc8[24072] DEBUG :apiClasses UP-TO-DATE\n"
     ]
    },
    {
     "name": "stdout",
     "output_type": "stream",
     "text": [
      "DEBUG:minerl.env.malmo.instance.42cbc8::copyModToClient UP-TO-DATE\r\n"
     ]
    },
    {
     "name": "stderr",
     "output_type": "stream",
     "text": [
      "2019-12-01 18:27:01 LAPTOP-SDM3TI61 minerl.env.malmo.instance.42cbc8[24072] DEBUG :copyModToClient UP-TO-DATE\n"
     ]
    },
    {
     "name": "stdout",
     "output_type": "stream",
     "text": [
      "DEBUG:minerl.env.malmo.instance.42cbc8::copyModToServer UP-TO-DATE\r\n"
     ]
    },
    {
     "name": "stderr",
     "output_type": "stream",
     "text": [
      "2019-12-01 18:27:01 LAPTOP-SDM3TI61 minerl.env.malmo.instance.42cbc8[24072] DEBUG :copyModToServer UP-TO-DATE\n"
     ]
    },
    {
     "name": "stdout",
     "output_type": "stream",
     "text": [
      "DEBUG:minerl.env.malmo.instance.42cbc8::copySrg UP-TO-DATE\r\n"
     ]
    },
    {
     "name": "stderr",
     "output_type": "stream",
     "text": [
      "2019-12-01 18:27:01 LAPTOP-SDM3TI61 minerl.env.malmo.instance.42cbc8[24072] DEBUG :copySrg UP-TO-DATE\n"
     ]
    },
    {
     "name": "stdout",
     "output_type": "stream",
     "text": [
      "DEBUG:minerl.env.malmo.instance.42cbc8::deleteSchemas\r\n"
     ]
    },
    {
     "name": "stderr",
     "output_type": "stream",
     "text": [
      "2019-12-01 18:27:01 LAPTOP-SDM3TI61 minerl.env.malmo.instance.42cbc8[24072] DEBUG :deleteSchemas\n"
     ]
    },
    {
     "name": "stdout",
     "output_type": "stream",
     "text": [
      "DEBUG:minerl.env.malmo.instance.42cbc8::copySchemas\r\n"
     ]
    },
    {
     "name": "stderr",
     "output_type": "stream",
     "text": [
      "2019-12-01 18:27:01 LAPTOP-SDM3TI61 minerl.env.malmo.instance.42cbc8[24072] DEBUG :copySchemas\n"
     ]
    },
    {
     "name": "stdout",
     "output_type": "stream",
     "text": [
      "DEBUG:minerl.env.malmo.instance.42cbc8::jaxb UP-TO-DATE\r\n"
     ]
    },
    {
     "name": "stderr",
     "output_type": "stream",
     "text": [
      "2019-12-01 18:27:01 LAPTOP-SDM3TI61 minerl.env.malmo.instance.42cbc8[24072] DEBUG :jaxb UP-TO-DATE\n"
     ]
    },
    {
     "name": "stdout",
     "output_type": "stream",
     "text": [
      "DEBUG:minerl.env.malmo.instance.42cbc8::sourceMainJava UP-TO-DATE\n"
     ]
    },
    {
     "name": "stderr",
     "output_type": "stream",
     "text": [
      "2019-12-01 18:27:01 LAPTOP-SDM3TI61 minerl.env.malmo.instance.42cbc8[24072] DEBUG :sourceMainJava UP-TO-DATE\n"
     ]
    },
    {
     "name": "stdout",
     "output_type": "stream",
     "text": [
      "DEBUG:minerl.env.malmo.instance.42cbc8::compileJava\r\n"
     ]
    },
    {
     "name": "stderr",
     "output_type": "stream",
     "text": [
      "2019-12-01 18:27:09 LAPTOP-SDM3TI61 minerl.env.malmo.instance.42cbc8[24072] DEBUG :compileJava\n"
     ]
    },
    {
     "name": "stdout",
     "output_type": "stream",
     "text": [
      "DEBUG:minerl.env.malmo.instance.42cbc8:Download https://repo1.maven.org/maven2/commons-codec/commons-codec/1.9/commons-codec-1.9.jar\r\n"
     ]
    },
    {
     "name": "stderr",
     "output_type": "stream",
     "text": [
      "2019-12-01 18:27:10 LAPTOP-SDM3TI61 minerl.env.malmo.instance.42cbc8[24072] DEBUG Download https://repo1.maven.org/maven2/commons-codec/commons-codec/1.9/commons-codec-1.9.jar\n"
     ]
    },
    {
     "name": "stdout",
     "output_type": "stream",
     "text": [
      "DEBUG:minerl.env.malmo.instance.42cbc8:warning: [options] bootstrap class path not set in conjunction with -source 1.6\r\n"
     ]
    },
    {
     "name": "stderr",
     "output_type": "stream",
     "text": [
      "2019-12-01 18:27:12 LAPTOP-SDM3TI61 minerl.env.malmo.instance.42cbc8[24072] DEBUG warning: [options] bootstrap class path not set in conjunction with -source 1.6\n"
     ]
    },
    {
     "name": "stdout",
     "output_type": "stream",
     "text": [
      "DEBUG:minerl.env.malmo.instance.42cbc8:Note: SpongePowered MIXIN Annotation Processor Version=0.7.5\r\n"
     ]
    },
    {
     "name": "stderr",
     "output_type": "stream",
     "text": [
      "2019-12-01 18:27:15 LAPTOP-SDM3TI61 minerl.env.malmo.instance.42cbc8[24072] DEBUG Note: SpongePowered MIXIN Annotation Processor Version=0.7.5\n"
     ]
    },
    {
     "name": "stdout",
     "output_type": "stream",
     "text": [
      "DEBUG:minerl.env.malmo.instance.42cbc8:Note: ObfuscationServiceMCP supports type: \"searge\"\r\n"
     ]
    },
    {
     "name": "stderr",
     "output_type": "stream",
     "text": [
      "2019-12-01 18:27:15 LAPTOP-SDM3TI61 minerl.env.malmo.instance.42cbc8[24072] DEBUG Note: ObfuscationServiceMCP supports type: \"searge\"\n"
     ]
    },
    {
     "name": "stdout",
     "output_type": "stream",
     "text": [
      "DEBUG:minerl.env.malmo.instance.42cbc8:Note: ObfuscationServiceMCP supports type: \"notch\"\r\n"
     ]
    },
    {
     "name": "stderr",
     "output_type": "stream",
     "text": [
      "2019-12-01 18:27:15 LAPTOP-SDM3TI61 minerl.env.malmo.instance.42cbc8[24072] DEBUG Note: ObfuscationServiceMCP supports type: \"notch\"\n"
     ]
    },
    {
     "name": "stdout",
     "output_type": "stream",
     "text": [
      "DEBUG:minerl.env.malmo.instance.42cbc8:Note: Loading searge mappings from C:\\Users\\manik\\.gradle\\caches\\minecraft\\de\\oceanlabs\\mcp\\mcp_snapshot\\20161220\\1.11.2\\srgs\\mcp-srg.srg\r\n"
     ]
    },
    {
     "name": "stderr",
     "output_type": "stream",
     "text": [
      "2019-12-01 18:27:15 LAPTOP-SDM3TI61 minerl.env.malmo.instance.42cbc8[24072] DEBUG Note: Loading searge mappings from C:\\Users\\manik\\.gradle\\caches\\minecraft\\de\\oceanlabs\\mcp\\mcp_snapshot\\20161220\\1.11.2\\srgs\\mcp-srg.srg\n"
     ]
    },
    {
     "name": "stdout",
     "output_type": "stream",
     "text": [
      "DEBUG:minerl.env.malmo.instance.42cbc8:Note: Loading notch mappings from C:\\Users\\manik\\.gradle\\caches\\minecraft\\de\\oceanlabs\\mcp\\mcp_snapshot\\20161220\\1.11.2\\srgs\\mcp-notch.srg\r\n"
     ]
    },
    {
     "name": "stderr",
     "output_type": "stream",
     "text": [
      "2019-12-01 18:27:15 LAPTOP-SDM3TI61 minerl.env.malmo.instance.42cbc8[24072] DEBUG Note: Loading notch mappings from C:\\Users\\manik\\.gradle\\caches\\minecraft\\de\\oceanlabs\\mcp\\mcp_snapshot\\20161220\\1.11.2\\srgs\\mcp-notch.srg\n"
     ]
    },
    {
     "name": "stdout",
     "output_type": "stream",
     "text": [
      "DEBUG:minerl.env.malmo.instance.42cbc8:Note: Writing refmap to C:\\Users\\manik\\AppData\\Local\\Programs\\Python\\Python36\\Lib\\site-packages\\minerl\\env\\Malmo\\Minecraft\\build\\tmp\\compileJava\\compileJava-refmap.json\r\n"
     ]
    },
    {
     "name": "stderr",
     "output_type": "stream",
     "text": [
      "2019-12-01 18:27:15 LAPTOP-SDM3TI61 minerl.env.malmo.instance.42cbc8[24072] DEBUG Note: Writing refmap to C:\\Users\\manik\\AppData\\Local\\Programs\\Python\\Python36\\Lib\\site-packages\\minerl\\env\\Malmo\\Minecraft\\build\\tmp\\compileJava\\compileJava-refmap.json\n"
     ]
    },
    {
     "name": "stdout",
     "output_type": "stream",
     "text": [
      "DEBUG:minerl.env.malmo.instance.42cbc8:Note: Writing refmap to C:\\Users\\manik\\AppData\\Local\\Programs\\Python\\Python36\\Lib\\site-packages\\minerl\\env\\Malmo\\Minecraft\\build\\tmp\\compileJava\\compileJava-refmap.json\r\n"
     ]
    },
    {
     "name": "stderr",
     "output_type": "stream",
     "text": [
      "2019-12-01 18:27:15 LAPTOP-SDM3TI61 minerl.env.malmo.instance.42cbc8[24072] DEBUG Note: Writing refmap to C:\\Users\\manik\\AppData\\Local\\Programs\\Python\\Python36\\Lib\\site-packages\\minerl\\env\\Malmo\\Minecraft\\build\\tmp\\compileJava\\compileJava-refmap.json\n"
     ]
    },
    {
     "name": "stdout",
     "output_type": "stream",
     "text": [
      "DEBUG:minerl.env.malmo.instance.42cbc8:Note: Writing searge output SRGs to C:\\Users\\manik\\AppData\\Local\\Programs\\Python\\Python36\\Lib\\site-packages\\minerl\\env\\Malmo\\Minecraft\\build\\tmp\\compileJava\\mcp-srg.srg\r\n"
     ]
    },
    {
     "name": "stderr",
     "output_type": "stream",
     "text": [
      "2019-12-01 18:27:15 LAPTOP-SDM3TI61 minerl.env.malmo.instance.42cbc8[24072] DEBUG Note: Writing searge output SRGs to C:\\Users\\manik\\AppData\\Local\\Programs\\Python\\Python36\\Lib\\site-packages\\minerl\\env\\Malmo\\Minecraft\\build\\tmp\\compileJava\\mcp-srg.srg\n"
     ]
    },
    {
     "name": "stdout",
     "output_type": "stream",
     "text": [
      "DEBUG:minerl.env.malmo.instance.42cbc8:Note: Writing notch output SRGs to C:\\Users\\manik\\AppData\\Local\\Programs\\Python\\Python36\\Lib\\site-packages\\minerl\\env\\Malmo\\Minecraft\\build\\tmp\\compileJava\\mcp-notch.srg\r\n"
     ]
    },
    {
     "name": "stderr",
     "output_type": "stream",
     "text": [
      "2019-12-01 18:27:15 LAPTOP-SDM3TI61 minerl.env.malmo.instance.42cbc8[24072] DEBUG Note: Writing notch output SRGs to C:\\Users\\manik\\AppData\\Local\\Programs\\Python\\Python36\\Lib\\site-packages\\minerl\\env\\Malmo\\Minecraft\\build\\tmp\\compileJava\\mcp-notch.srg\n"
     ]
    },
    {
     "name": "stdout",
     "output_type": "stream",
     "text": [
      "DEBUG:minerl.env.malmo.instance.42cbc8:Note: Writing refmap to C:\\Users\\manik\\AppData\\Local\\Programs\\Python\\Python36\\Lib\\site-packages\\minerl\\env\\Malmo\\Minecraft\\build\\tmp\\compileJava\\compileJava-refmap.json\r\n"
     ]
    },
    {
     "name": "stderr",
     "output_type": "stream",
     "text": [
      "2019-12-01 18:27:16 LAPTOP-SDM3TI61 minerl.env.malmo.instance.42cbc8[24072] DEBUG Note: Writing refmap to C:\\Users\\manik\\AppData\\Local\\Programs\\Python\\Python36\\Lib\\site-packages\\minerl\\env\\Malmo\\Minecraft\\build\\tmp\\compileJava\\compileJava-refmap.json\n"
     ]
    },
    {
     "name": "stdout",
     "output_type": "stream",
     "text": [
      "DEBUG:minerl.env.malmo.instance.42cbc8:Note: Writing refmap to C:\\Users\\manik\\AppData\\Local\\Programs\\Python\\Python36\\Lib\\site-packages\\minerl\\env\\Malmo\\Minecraft\\build\\tmp\\compileJava\\compileJava-refmap.json\r\n"
     ]
    },
    {
     "name": "stderr",
     "output_type": "stream",
     "text": [
      "2019-12-01 18:27:16 LAPTOP-SDM3TI61 minerl.env.malmo.instance.42cbc8[24072] DEBUG Note: Writing refmap to C:\\Users\\manik\\AppData\\Local\\Programs\\Python\\Python36\\Lib\\site-packages\\minerl\\env\\Malmo\\Minecraft\\build\\tmp\\compileJava\\compileJava-refmap.json\n"
     ]
    },
    {
     "name": "stdout",
     "output_type": "stream",
     "text": [
      "DEBUG:minerl.env.malmo.instance.42cbc8:Note: Writing searge output SRGs to C:\\Users\\manik\\AppData\\Local\\Programs\\Python\\Python36\\Lib\\site-packages\\minerl\\env\\Malmo\\Minecraft\\build\\tmp\\compileJava\\mcp-srg.srg\r\n"
     ]
    },
    {
     "name": "stderr",
     "output_type": "stream",
     "text": [
      "2019-12-01 18:27:16 LAPTOP-SDM3TI61 minerl.env.malmo.instance.42cbc8[24072] DEBUG Note: Writing searge output SRGs to C:\\Users\\manik\\AppData\\Local\\Programs\\Python\\Python36\\Lib\\site-packages\\minerl\\env\\Malmo\\Minecraft\\build\\tmp\\compileJava\\mcp-srg.srg\n"
     ]
    },
    {
     "name": "stdout",
     "output_type": "stream",
     "text": [
      "DEBUG:minerl.env.malmo.instance.42cbc8:Note: Writing notch output SRGs to C:\\Users\\manik\\AppData\\Local\\Programs\\Python\\Python36\\Lib\\site-packages\\minerl\\env\\Malmo\\Minecraft\\build\\tmp\\compileJava\\mcp-notch.srg\r\n"
     ]
    },
    {
     "name": "stderr",
     "output_type": "stream",
     "text": [
      "2019-12-01 18:27:16 LAPTOP-SDM3TI61 minerl.env.malmo.instance.42cbc8[24072] DEBUG Note: Writing notch output SRGs to C:\\Users\\manik\\AppData\\Local\\Programs\\Python\\Python36\\Lib\\site-packages\\minerl\\env\\Malmo\\Minecraft\\build\\tmp\\compileJava\\mcp-notch.srg\n"
     ]
    },
    {
     "name": "stdout",
     "output_type": "stream",
     "text": [
      "DEBUG:minerl.env.malmo.instance.42cbc8:Note: Some input files use or override a deprecated API.\r\n"
     ]
    },
    {
     "name": "stderr",
     "output_type": "stream",
     "text": [
      "2019-12-01 18:27:19 LAPTOP-SDM3TI61 minerl.env.malmo.instance.42cbc8[24072] DEBUG Note: Some input files use or override a deprecated API.\n"
     ]
    },
    {
     "name": "stdout",
     "output_type": "stream",
     "text": [
      "DEBUG:minerl.env.malmo.instance.42cbc8:Note: Recompile with -Xlint:deprecation for details.\r\n"
     ]
    },
    {
     "name": "stderr",
     "output_type": "stream",
     "text": [
      "2019-12-01 18:27:19 LAPTOP-SDM3TI61 minerl.env.malmo.instance.42cbc8[24072] DEBUG Note: Recompile with -Xlint:deprecation for details.\n"
     ]
    },
    {
     "name": "stdout",
     "output_type": "stream",
     "text": [
      "DEBUG:minerl.env.malmo.instance.42cbc8:Note: Some input files use unchecked or unsafe operations.\r\n"
     ]
    },
    {
     "name": "stderr",
     "output_type": "stream",
     "text": [
      "2019-12-01 18:27:19 LAPTOP-SDM3TI61 minerl.env.malmo.instance.42cbc8[24072] DEBUG Note: Some input files use unchecked or unsafe operations.\n"
     ]
    },
    {
     "name": "stdout",
     "output_type": "stream",
     "text": [
      "DEBUG:minerl.env.malmo.instance.42cbc8:Note: Recompile with -Xlint:unchecked for details.\r\n"
     ]
    },
    {
     "name": "stderr",
     "output_type": "stream",
     "text": [
      "2019-12-01 18:27:19 LAPTOP-SDM3TI61 minerl.env.malmo.instance.42cbc8[24072] DEBUG Note: Recompile with -Xlint:unchecked for details.\n"
     ]
    },
    {
     "name": "stdout",
     "output_type": "stream",
     "text": [
      "DEBUG:minerl.env.malmo.instance.42cbc8::processResources UP-TO-DATE\r\n"
     ]
    },
    {
     "name": "stderr",
     "output_type": "stream",
     "text": [
      "2019-12-01 18:27:20 LAPTOP-SDM3TI61 minerl.env.malmo.instance.42cbc8[24072] DEBUG :processResources UP-TO-DATE\n"
     ]
    },
    {
     "name": "stdout",
     "output_type": "stream",
     "text": [
      "DEBUG:minerl.env.malmo.instance.42cbc8::classes\r\n"
     ]
    },
    {
     "name": "stderr",
     "output_type": "stream",
     "text": [
      "2019-12-01 18:27:20 LAPTOP-SDM3TI61 minerl.env.malmo.instance.42cbc8[24072] DEBUG :classes\n"
     ]
    },
    {
     "name": "stdout",
     "output_type": "stream",
     "text": [
      "DEBUG:minerl.env.malmo.instance.42cbc8::jar UP-TO-DATE\r\n"
     ]
    },
    {
     "name": "stderr",
     "output_type": "stream",
     "text": [
      "2019-12-01 18:27:20 LAPTOP-SDM3TI61 minerl.env.malmo.instance.42cbc8[24072] DEBUG :jar UP-TO-DATE\n"
     ]
    },
    {
     "name": "stdout",
     "output_type": "stream",
     "text": [
      "DEBUG:minerl.env.malmo.instance.42cbc8::extractNatives SKIPPED\r\n"
     ]
    },
    {
     "name": "stderr",
     "output_type": "stream",
     "text": [
      "2019-12-01 18:27:20 LAPTOP-SDM3TI61 minerl.env.malmo.instance.42cbc8[24072] DEBUG :extractNatives SKIPPED\n"
     ]
    },
    {
     "name": "stdout",
     "output_type": "stream",
     "text": [
      "DEBUG:minerl.env.malmo.instance.42cbc8::getAssetIndex UP-TO-DATE\r\n"
     ]
    },
    {
     "name": "stderr",
     "output_type": "stream",
     "text": [
      "2019-12-01 18:27:24 LAPTOP-SDM3TI61 minerl.env.malmo.instance.42cbc8[24072] DEBUG :getAssetIndex UP-TO-DATE\n"
     ]
    },
    {
     "name": "stdout",
     "output_type": "stream",
     "text": [
      "DEBUG:minerl.env.malmo.instance.42cbc8::getAssets\r\n"
     ]
    },
    {
     "name": "stderr",
     "output_type": "stream",
     "text": [
      "2019-12-01 18:27:25 LAPTOP-SDM3TI61 minerl.env.malmo.instance.42cbc8[24072] DEBUG :getAssets\n"
     ]
    },
    {
     "name": "stdout",
     "output_type": "stream",
     "text": [
      "DEBUG:minerl.env.malmo.instance.42cbc8:Current status: 268/1196   22%\r\n"
     ]
    },
    {
     "name": "stderr",
     "output_type": "stream",
     "text": [
      "2019-12-01 18:27:25 LAPTOP-SDM3TI61 minerl.env.malmo.instance.42cbc8[24072] DEBUG Current status: 268/1196   22%\n"
     ]
    },
    {
     "name": "stdout",
     "output_type": "stream",
     "text": [
      "DEBUG:minerl.env.malmo.instance.42cbc8:Current status: 1066/1196   89%\r\n"
     ]
    },
    {
     "name": "stderr",
     "output_type": "stream",
     "text": [
      "2019-12-01 18:27:26 LAPTOP-SDM3TI61 minerl.env.malmo.instance.42cbc8[24072] DEBUG Current status: 1066/1196   89%\n"
     ]
    },
    {
     "name": "stdout",
     "output_type": "stream",
     "text": [
      "DEBUG:minerl.env.malmo.instance.42cbc8::makeStart\r\n"
     ]
    },
    {
     "name": "stderr",
     "output_type": "stream",
     "text": [
      "2019-12-01 18:27:27 LAPTOP-SDM3TI61 minerl.env.malmo.instance.42cbc8[24072] DEBUG :makeStart\n"
     ]
    },
    {
     "name": "stdout",
     "output_type": "stream",
     "text": [
      "DEBUG:minerl.env.malmo.instance.42cbc8::runClient\r\n"
     ]
    },
    {
     "name": "stderr",
     "output_type": "stream",
     "text": [
      "2019-12-01 18:27:30 LAPTOP-SDM3TI61 minerl.env.malmo.instance.42cbc8[24072] DEBUG :runClient\n"
     ]
    },
    {
     "name": "stdout",
     "output_type": "stream",
     "text": [
      "DEBUG:minerl.env.malmo.instance.42cbc8:2019-12-01 18:27:30,743 WARN Unable to instantiate org.fusesource.jansi.WindowsAnsiOutputStream\r\n"
     ]
    },
    {
     "name": "stderr",
     "output_type": "stream",
     "text": [
      "2019-12-01 18:27:30 LAPTOP-SDM3TI61 minerl.env.malmo.instance.42cbc8[24072] DEBUG 2019-12-01 18:27:30,743 WARN Unable to instantiate org.fusesource.jansi.WindowsAnsiOutputStream\n"
     ]
    },
    {
     "name": "stdout",
     "output_type": "stream",
     "text": [
      "DEBUG:minerl.env.malmo.instance.42cbc8:[18:27:30] [main/INFO]: Extra: []\r\n"
     ]
    },
    {
     "name": "stderr",
     "output_type": "stream",
     "text": [
      "2019-12-01 18:27:30 LAPTOP-SDM3TI61 minerl.env.malmo.instance.42cbc8[24072] DEBUG [18:27:30] [main/INFO]: Extra: []\n"
     ]
    },
    {
     "name": "stdout",
     "output_type": "stream",
     "text": [
      "DEBUG:minerl.env.malmo.instance.42cbc8:[18:27:30] [main/INFO]: Found and added coremod: com.microsoft.Malmo.OverclockingPlugin\r\n"
     ]
    },
    {
     "name": "stderr",
     "output_type": "stream",
     "text": [
      "2019-12-01 18:27:30 LAPTOP-SDM3TI61 minerl.env.malmo.instance.42cbc8[24072] DEBUG [18:27:30] [main/INFO]: Found and added coremod: com.microsoft.Malmo.OverclockingPlugin\n"
     ]
    },
    {
     "name": "stdout",
     "output_type": "stream",
     "text": [
      "DEBUG:minerl.env.malmo.instance.42cbc8:[18:27:30] [main/INFO]: Running with arguments: [--userProperties, {}, --assetsDir, C:/Users/manik/.gradle/caches/minecraft/assets, --assetIndex, 1.11, --accessToken{REDACTED}, --version, 1.11.2, --tweakClass, net.minecraftforge.fml.common.launcher.FMLTweaker, --tweakClass, net.minecraftforge.gradle.tweakers.CoremodTweaker]\r\n"
     ]
    },
    {
     "name": "stderr",
     "output_type": "stream",
     "text": [
      "2019-12-01 18:27:30 LAPTOP-SDM3TI61 minerl.env.malmo.instance.42cbc8[24072] DEBUG [18:27:30] [main/INFO]: Running with arguments: [--userProperties, {}, --assetsDir, C:/Users/manik/.gradle/caches/minecraft/assets, --assetIndex, 1.11, --accessToken{REDACTED}, --version, 1.11.2, --tweakClass, net.minecraftforge.fml.common.launcher.FMLTweaker, --tweakClass, net.minecraftforge.gradle.tweakers.CoremodTweaker]\n"
     ]
    },
    {
     "name": "stdout",
     "output_type": "stream",
     "text": [
      "DEBUG:minerl.env.malmo.instance.42cbc8:[18:27:31] [main/INFO]: Loading tweak class name net.minecraftforge.fml.common.launcher.FMLTweaker\r\n"
     ]
    },
    {
     "name": "stderr",
     "output_type": "stream",
     "text": [
      "2019-12-01 18:27:31 LAPTOP-SDM3TI61 minerl.env.malmo.instance.42cbc8[24072] DEBUG [18:27:31] [main/INFO]: Loading tweak class name net.minecraftforge.fml.common.launcher.FMLTweaker\n"
     ]
    },
    {
     "name": "stdout",
     "output_type": "stream",
     "text": [
      "DEBUG:minerl.env.malmo.instance.42cbc8:[18:27:31] [main/INFO]: Using primary tweak class name net.minecraftforge.fml.common.launcher.FMLTweaker\r\n"
     ]
    },
    {
     "name": "stderr",
     "output_type": "stream",
     "text": [
      "2019-12-01 18:27:31 LAPTOP-SDM3TI61 minerl.env.malmo.instance.42cbc8[24072] DEBUG [18:27:31] [main/INFO]: Using primary tweak class name net.minecraftforge.fml.common.launcher.FMLTweaker\n"
     ]
    },
    {
     "name": "stdout",
     "output_type": "stream",
     "text": [
      "DEBUG:minerl.env.malmo.instance.42cbc8:[18:27:31] [main/INFO]: Loading tweak class name net.minecraftforge.gradle.tweakers.CoremodTweaker\r\n"
     ]
    },
    {
     "name": "stderr",
     "output_type": "stream",
     "text": [
      "2019-12-01 18:27:31 LAPTOP-SDM3TI61 minerl.env.malmo.instance.42cbc8[24072] DEBUG [18:27:31] [main/INFO]: Loading tweak class name net.minecraftforge.gradle.tweakers.CoremodTweaker\n"
     ]
    },
    {
     "name": "stdout",
     "output_type": "stream",
     "text": [
      "DEBUG:minerl.env.malmo.instance.42cbc8:[18:27:31] [main/INFO]: Calling tweak class net.minecraftforge.fml.common.launcher.FMLTweaker\r\n"
     ]
    },
    {
     "name": "stderr",
     "output_type": "stream",
     "text": [
      "2019-12-01 18:27:31 LAPTOP-SDM3TI61 minerl.env.malmo.instance.42cbc8[24072] DEBUG [18:27:31] [main/INFO]: Calling tweak class net.minecraftforge.fml.common.launcher.FMLTweaker\n"
     ]
    },
    {
     "name": "stdout",
     "output_type": "stream",
     "text": [
      "DEBUG:minerl.env.malmo.instance.42cbc8:[18:27:31] [main/INFO]: Forge Mod Loader version 13.20.0.2228 for Minecraft 1.11.2 loading\r\n"
     ]
    },
    {
     "name": "stderr",
     "output_type": "stream",
     "text": [
      "2019-12-01 18:27:31 LAPTOP-SDM3TI61 minerl.env.malmo.instance.42cbc8[24072] DEBUG [18:27:31] [main/INFO]: Forge Mod Loader version 13.20.0.2228 for Minecraft 1.11.2 loading\n"
     ]
    },
    {
     "name": "stdout",
     "output_type": "stream",
     "text": [
      "DEBUG:minerl.env.malmo.instance.42cbc8:[18:27:31] [main/INFO]: Java is Java HotSpot(TM) 64-Bit Server VM, version 1.8.0_221, running on Windows 10:amd64:10.0, installed at C:\\Program Files\\Java\\jdk1.8.0_221\\jre\r\n"
     ]
    },
    {
     "name": "stderr",
     "output_type": "stream",
     "text": [
      "2019-12-01 18:27:31 LAPTOP-SDM3TI61 minerl.env.malmo.instance.42cbc8[24072] DEBUG [18:27:31] [main/INFO]: Java is Java HotSpot(TM) 64-Bit Server VM, version 1.8.0_221, running on Windows 10:amd64:10.0, installed at C:\\Program Files\\Java\\jdk1.8.0_221\\jre\n"
     ]
    },
    {
     "name": "stdout",
     "output_type": "stream",
     "text": [
      "DEBUG:minerl.env.malmo.instance.42cbc8:[18:27:31] [main/INFO]: Managed to load a deobfuscated Minecraft name- we are in a deobfuscated environment. Skipping runtime deobfuscation\r\n"
     ]
    },
    {
     "name": "stderr",
     "output_type": "stream",
     "text": [
      "2019-12-01 18:27:31 LAPTOP-SDM3TI61 minerl.env.malmo.instance.42cbc8[24072] DEBUG [18:27:31] [main/INFO]: Managed to load a deobfuscated Minecraft name- we are in a deobfuscated environment. Skipping runtime deobfuscation\n"
     ]
    },
    {
     "name": "stdout",
     "output_type": "stream",
     "text": [
      "DEBUG:minerl.env.malmo.instance.42cbc8:[18:27:31] [main/INFO]: Found a command line coremod : com.microsoft.Malmo.OverclockingPlugin\r\n"
     ]
    },
    {
     "name": "stderr",
     "output_type": "stream",
     "text": [
      "2019-12-01 18:27:31 LAPTOP-SDM3TI61 minerl.env.malmo.instance.42cbc8[24072] DEBUG [18:27:31] [main/INFO]: Found a command line coremod : com.microsoft.Malmo.OverclockingPlugin\n"
     ]
    },
    {
     "name": "stdout",
     "output_type": "stream",
     "text": [
      "DEBUG:minerl.env.malmo.instance.42cbc8:[18:27:31] [main/WARN]: The coremod com.microsoft.Malmo.OverclockingPlugin does not have a MCVersion annotation, it may cause issues with this version of Minecraft\r\n"
     ]
    },
    {
     "name": "stderr",
     "output_type": "stream",
     "text": [
      "2019-12-01 18:27:31 LAPTOP-SDM3TI61 minerl.env.malmo.instance.42cbc8[24072] DEBUG [18:27:31] [main/WARN]: The coremod com.microsoft.Malmo.OverclockingPlugin does not have a MCVersion annotation, it may cause issues with this version of Minecraft\n"
     ]
    },
    {
     "name": "stdout",
     "output_type": "stream",
     "text": [
      "DEBUG:minerl.env.malmo.instance.42cbc8:2019-12-01 18:27:31,457 WARN Unable to instantiate org.fusesource.jansi.WindowsAnsiOutputStream\r\n"
     ]
    },
    {
     "name": "stderr",
     "output_type": "stream",
     "text": [
      "2019-12-01 18:27:31 LAPTOP-SDM3TI61 minerl.env.malmo.instance.42cbc8[24072] DEBUG 2019-12-01 18:27:31,457 WARN Unable to instantiate org.fusesource.jansi.WindowsAnsiOutputStream\n"
     ]
    },
    {
     "name": "stdout",
     "output_type": "stream",
     "text": [
      "DEBUG:minerl.env.malmo.instance.42cbc8:2019-12-01 18:27:31,518 WARN Unable to instantiate org.fusesource.jansi.WindowsAnsiOutputStream\n"
     ]
    },
    {
     "name": "stderr",
     "output_type": "stream",
     "text": [
      "2019-12-01 18:27:31 LAPTOP-SDM3TI61 minerl.env.malmo.instance.42cbc8[24072] DEBUG 2019-12-01 18:27:31,518 WARN Unable to instantiate org.fusesource.jansi.WindowsAnsiOutputStream\n"
     ]
    },
    {
     "name": "stdout",
     "output_type": "stream",
     "text": [
      "DEBUG:minerl.env.malmo.instance.42cbc8:[18:27:31] [main/INFO]: SpongePowered MIXIN Subsystem Version=0.7.5 Source=file:/C:/Users/manik/.gradle/caches/modules-2/files-2.1/org.spongepowered/mixin/0.7.5-SNAPSHOT/c989878008c2c5ff1a7c6491c4103d8faa221d19/mixin-0.7.5-SNAPSHOT.jar Service=LaunchWrapper Env=CLIENT\r\n"
     ]
    },
    {
     "name": "stderr",
     "output_type": "stream",
     "text": [
      "2019-12-01 18:27:31 LAPTOP-SDM3TI61 minerl.env.malmo.instance.42cbc8[24072] DEBUG [18:27:31] [main/INFO]: SpongePowered MIXIN Subsystem Version=0.7.5 Source=file:/C:/Users/manik/.gradle/caches/modules-2/files-2.1/org.spongepowered/mixin/0.7.5-SNAPSHOT/c989878008c2c5ff1a7c6491c4103d8faa221d19/mixin-0.7.5-SNAPSHOT.jar Service=LaunchWrapper Env=CLIENT\n"
     ]
    },
    {
     "name": "stdout",
     "output_type": "stream",
     "text": [
      "DEBUG:minerl.env.malmo.instance.42cbc8:[18:27:31] [main/INFO]: Compatibility level set to JAVA_8\r\n"
     ]
    },
    {
     "name": "stderr",
     "output_type": "stream",
     "text": [
      "2019-12-01 18:27:31 LAPTOP-SDM3TI61 minerl.env.malmo.instance.42cbc8[24072] DEBUG [18:27:31] [main/INFO]: Compatibility level set to JAVA_8\n"
     ]
    },
    {
     "name": "stdout",
     "output_type": "stream",
     "text": [
      "DEBUG:minerl.env.malmo.instance.42cbc8:[18:27:31] [main/INFO]: Calling tweak class net.minecraftforge.gradle.tweakers.CoremodTweaker\r\n"
     ]
    },
    {
     "name": "stderr",
     "output_type": "stream",
     "text": [
      "2019-12-01 18:27:31 LAPTOP-SDM3TI61 minerl.env.malmo.instance.42cbc8[24072] DEBUG [18:27:31] [main/INFO]: Calling tweak class net.minecraftforge.gradle.tweakers.CoremodTweaker\n"
     ]
    },
    {
     "name": "stdout",
     "output_type": "stream",
     "text": [
      "DEBUG:minerl.env.malmo.instance.42cbc8:[18:27:31] [main/INFO]: Injecting location in coremod net.minecraftforge.fml.relauncher.FMLCorePlugin\r\n"
     ]
    },
    {
     "name": "stderr",
     "output_type": "stream",
     "text": [
      "2019-12-01 18:27:31 LAPTOP-SDM3TI61 minerl.env.malmo.instance.42cbc8[24072] DEBUG [18:27:31] [main/INFO]: Injecting location in coremod net.minecraftforge.fml.relauncher.FMLCorePlugin\n"
     ]
    },
    {
     "name": "stdout",
     "output_type": "stream",
     "text": [
      "DEBUG:minerl.env.malmo.instance.42cbc8:[18:27:31] [main/INFO]: Injecting location in coremod net.minecraftforge.classloading.FMLForgePlugin\r\n"
     ]
    },
    {
     "name": "stderr",
     "output_type": "stream",
     "text": [
      "2019-12-01 18:27:31 LAPTOP-SDM3TI61 minerl.env.malmo.instance.42cbc8[24072] DEBUG [18:27:31] [main/INFO]: Injecting location in coremod net.minecraftforge.classloading.FMLForgePlugin\n"
     ]
    },
    {
     "name": "stdout",
     "output_type": "stream",
     "text": [
      "DEBUG:minerl.env.malmo.instance.42cbc8:[18:27:31] [main/INFO]: Injecting location in coremod com.microsoft.Malmo.OverclockingPlugin\r\n"
     ]
    },
    {
     "name": "stderr",
     "output_type": "stream",
     "text": [
      "2019-12-01 18:27:31 LAPTOP-SDM3TI61 minerl.env.malmo.instance.42cbc8[24072] DEBUG [18:27:31] [main/INFO]: Injecting location in coremod com.microsoft.Malmo.OverclockingPlugin\n"
     ]
    },
    {
     "name": "stdout",
     "output_type": "stream",
     "text": [
      "DEBUG:minerl.env.malmo.instance.42cbc8:[18:27:31] [main/INFO]: Loading tweak class name net.minecraftforge.fml.common.launcher.FMLInjectionAndSortingTweaker\r\n"
     ]
    },
    {
     "name": "stderr",
     "output_type": "stream",
     "text": [
      "2019-12-01 18:27:31 LAPTOP-SDM3TI61 minerl.env.malmo.instance.42cbc8[24072] DEBUG [18:27:31] [main/INFO]: Loading tweak class name net.minecraftforge.fml.common.launcher.FMLInjectionAndSortingTweaker\n"
     ]
    },
    {
     "name": "stdout",
     "output_type": "stream",
     "text": [
      "DEBUG:minerl.env.malmo.instance.42cbc8:[18:27:31] [main/INFO]: Loading tweak class name org.spongepowered.asm.mixin.EnvironmentStateTweaker\r\n"
     ]
    },
    {
     "name": "stderr",
     "output_type": "stream",
     "text": [
      "2019-12-01 18:27:31 LAPTOP-SDM3TI61 minerl.env.malmo.instance.42cbc8[24072] DEBUG [18:27:31] [main/INFO]: Loading tweak class name org.spongepowered.asm.mixin.EnvironmentStateTweaker\n"
     ]
    },
    {
     "name": "stdout",
     "output_type": "stream",
     "text": [
      "DEBUG:minerl.env.malmo.instance.42cbc8:[18:27:31] [main/INFO]: Loading tweak class name net.minecraftforge.fml.common.launcher.FMLDeobfTweaker\r\n"
     ]
    },
    {
     "name": "stderr",
     "output_type": "stream",
     "text": [
      "2019-12-01 18:27:31 LAPTOP-SDM3TI61 minerl.env.malmo.instance.42cbc8[24072] DEBUG [18:27:31] [main/INFO]: Loading tweak class name net.minecraftforge.fml.common.launcher.FMLDeobfTweaker\n"
     ]
    },
    {
     "name": "stdout",
     "output_type": "stream",
     "text": [
      "DEBUG:minerl.env.malmo.instance.42cbc8:[18:27:31] [main/INFO]: Loading tweak class name net.minecraftforge.gradle.tweakers.AccessTransformerTweaker\r\n"
     ]
    },
    {
     "name": "stderr",
     "output_type": "stream",
     "text": [
      "2019-12-01 18:27:32 LAPTOP-SDM3TI61 minerl.env.malmo.instance.42cbc8[24072] DEBUG [18:27:31] [main/INFO]: Loading tweak class name net.minecraftforge.gradle.tweakers.AccessTransformerTweaker\n"
     ]
    },
    {
     "name": "stdout",
     "output_type": "stream",
     "text": [
      "DEBUG:minerl.env.malmo.instance.42cbc8:[18:27:31] [main/INFO]: Calling tweak class net.minecraftforge.fml.common.launcher.FMLInjectionAndSortingTweaker\r\n"
     ]
    },
    {
     "name": "stderr",
     "output_type": "stream",
     "text": [
      "2019-12-01 18:27:32 LAPTOP-SDM3TI61 minerl.env.malmo.instance.42cbc8[24072] DEBUG [18:27:31] [main/INFO]: Calling tweak class net.minecraftforge.fml.common.launcher.FMLInjectionAndSortingTweaker\n"
     ]
    },
    {
     "name": "stdout",
     "output_type": "stream",
     "text": [
      "DEBUG:minerl.env.malmo.instance.42cbc8:[18:27:31] [main/INFO]: Calling tweak class net.minecraftforge.fml.common.launcher.FMLInjectionAndSortingTweaker\r\n"
     ]
    },
    {
     "name": "stderr",
     "output_type": "stream",
     "text": [
      "2019-12-01 18:27:32 LAPTOP-SDM3TI61 minerl.env.malmo.instance.42cbc8[24072] DEBUG [18:27:31] [main/INFO]: Calling tweak class net.minecraftforge.fml.common.launcher.FMLInjectionAndSortingTweaker\n"
     ]
    },
    {
     "name": "stdout",
     "output_type": "stream",
     "text": [
      "DEBUG:minerl.env.malmo.instance.42cbc8:[18:27:31] [main/INFO]: Calling tweak class net.minecraftforge.fml.relauncher.CoreModManager$FMLPluginWrapper\r\n"
     ]
    },
    {
     "name": "stderr",
     "output_type": "stream",
     "text": [
      "2019-12-01 18:27:32 LAPTOP-SDM3TI61 minerl.env.malmo.instance.42cbc8[24072] DEBUG [18:27:31] [main/INFO]: Calling tweak class net.minecraftforge.fml.relauncher.CoreModManager$FMLPluginWrapper\n"
     ]
    },
    {
     "name": "stdout",
     "output_type": "stream",
     "text": [
      "DEBUG:minerl.env.malmo.instance.42cbc8:[18:27:32] [main/ERROR]: The binary patch set is missing. Either you are in a development environment, or things are not going to work!\r\n"
     ]
    },
    {
     "name": "stderr",
     "output_type": "stream",
     "text": [
      "2019-12-01 18:27:32 LAPTOP-SDM3TI61 minerl.env.malmo.instance.42cbc8[24072] DEBUG [18:27:32] [main/ERROR]: The binary patch set is missing. Either you are in a development environment, or things are not going to work!\n"
     ]
    },
    {
     "name": "stdout",
     "output_type": "stream",
     "text": [
      "DEBUG:minerl.env.malmo.instance.42cbc8:[18:27:33] [main/ERROR]: FML appears to be missing any signature data. This is not a good thing\r\n"
     ]
    },
    {
     "name": "stderr",
     "output_type": "stream",
     "text": [
      "2019-12-01 18:27:33 LAPTOP-SDM3TI61 minerl.env.malmo.instance.42cbc8[24072] DEBUG [18:27:33] [main/ERROR]: FML appears to be missing any signature data. This is not a good thing\n"
     ]
    },
    {
     "name": "stdout",
     "output_type": "stream",
     "text": [
      "DEBUG:minerl.env.malmo.instance.42cbc8:[18:27:33] [main/INFO]: Calling tweak class net.minecraftforge.fml.relauncher.CoreModManager$FMLPluginWrapper\r\n"
     ]
    },
    {
     "name": "stderr",
     "output_type": "stream",
     "text": [
      "2019-12-01 18:27:33 LAPTOP-SDM3TI61 minerl.env.malmo.instance.42cbc8[24072] DEBUG [18:27:33] [main/INFO]: Calling tweak class net.minecraftforge.fml.relauncher.CoreModManager$FMLPluginWrapper\n"
     ]
    },
    {
     "name": "stdout",
     "output_type": "stream",
     "text": [
      "DEBUG:minerl.env.malmo.instance.42cbc8:[18:27:33] [main/INFO]: Calling tweak class net.minecraftforge.fml.relauncher.CoreModManager$FMLPluginWrapper\r\n"
     ]
    },
    {
     "name": "stderr",
     "output_type": "stream",
     "text": [
      "2019-12-01 18:27:33 LAPTOP-SDM3TI61 minerl.env.malmo.instance.42cbc8[24072] DEBUG [18:27:33] [main/INFO]: Calling tweak class net.minecraftforge.fml.relauncher.CoreModManager$FMLPluginWrapper\n"
     ]
    },
    {
     "name": "stdout",
     "output_type": "stream",
     "text": [
      "DEBUG:minerl.env.malmo.instance.42cbc8:[18:27:33] [main/INFO]: Calling tweak class org.spongepowered.asm.mixin.EnvironmentStateTweaker\r\n"
     ]
    },
    {
     "name": "stderr",
     "output_type": "stream",
     "text": [
      "2019-12-01 18:27:33 LAPTOP-SDM3TI61 minerl.env.malmo.instance.42cbc8[24072] DEBUG [18:27:33] [main/INFO]: Calling tweak class org.spongepowered.asm.mixin.EnvironmentStateTweaker\n"
     ]
    },
    {
     "name": "stdout",
     "output_type": "stream",
     "text": [
      "DEBUG:minerl.env.malmo.instance.42cbc8:[18:27:33] [main/INFO]: Initialised Mixin FML Remapper Adapter with net.minecraftforge.fml.common.asm.transformers.deobf.FMLDeobfuscatingRemapper@438bad7c\r\n"
     ]
    },
    {
     "name": "stderr",
     "output_type": "stream",
     "text": [
      "2019-12-01 18:27:33 LAPTOP-SDM3TI61 minerl.env.malmo.instance.42cbc8[24072] DEBUG [18:27:33] [main/INFO]: Initialised Mixin FML Remapper Adapter with net.minecraftforge.fml.common.asm.transformers.deobf.FMLDeobfuscatingRemapper@438bad7c\n"
     ]
    },
    {
     "name": "stdout",
     "output_type": "stream",
     "text": [
      "DEBUG:minerl.env.malmo.instance.42cbc8:[18:27:33] [main/INFO]: Calling tweak class net.minecraftforge.fml.common.launcher.FMLDeobfTweaker\r\n"
     ]
    },
    {
     "name": "stderr",
     "output_type": "stream",
     "text": [
      "2019-12-01 18:27:33 LAPTOP-SDM3TI61 minerl.env.malmo.instance.42cbc8[24072] DEBUG [18:27:33] [main/INFO]: Calling tweak class net.minecraftforge.fml.common.launcher.FMLDeobfTweaker\n"
     ]
    },
    {
     "name": "stdout",
     "output_type": "stream",
     "text": [
      "DEBUG:minerl.env.malmo.instance.42cbc8:[18:27:34] [main/INFO]: Calling tweak class net.minecraftforge.gradle.tweakers.AccessTransformerTweaker\r\n"
     ]
    },
    {
     "name": "stderr",
     "output_type": "stream",
     "text": [
      "2019-12-01 18:27:34 LAPTOP-SDM3TI61 minerl.env.malmo.instance.42cbc8[24072] DEBUG [18:27:34] [main/INFO]: Calling tweak class net.minecraftforge.gradle.tweakers.AccessTransformerTweaker\n"
     ]
    },
    {
     "name": "stdout",
     "output_type": "stream",
     "text": [
      "DEBUG:minerl.env.malmo.instance.42cbc8:[18:27:34] [main/INFO]: Loading tweak class name net.minecraftforge.fml.common.launcher.TerminalTweaker\r\n"
     ]
    },
    {
     "name": "stderr",
     "output_type": "stream",
     "text": [
      "2019-12-01 18:27:34 LAPTOP-SDM3TI61 minerl.env.malmo.instance.42cbc8[24072] DEBUG [18:27:34] [main/INFO]: Loading tweak class name net.minecraftforge.fml.common.launcher.TerminalTweaker\n"
     ]
    },
    {
     "name": "stdout",
     "output_type": "stream",
     "text": [
      "DEBUG:minerl.env.malmo.instance.42cbc8:[18:27:34] [main/INFO]: Calling tweak class net.minecraftforge.fml.common.launcher.TerminalTweaker\r\n"
     ]
    },
    {
     "name": "stderr",
     "output_type": "stream",
     "text": [
      "2019-12-01 18:27:34 LAPTOP-SDM3TI61 minerl.env.malmo.instance.42cbc8[24072] DEBUG [18:27:34] [main/INFO]: Calling tweak class net.minecraftforge.fml.common.launcher.TerminalTweaker\n"
     ]
    },
    {
     "name": "stdout",
     "output_type": "stream",
     "text": [
      "DEBUG:minerl.env.malmo.instance.42cbc8:[18:27:34] [main/WARN]: Reference map 'mixins.replaymod.refmap.json' for mixins.overclocking.malmomod.json could not be read. If this is a development environment you can ignore this message\r\n"
     ]
    },
    {
     "name": "stderr",
     "output_type": "stream",
     "text": [
      "2019-12-01 18:27:34 LAPTOP-SDM3TI61 minerl.env.malmo.instance.42cbc8[24072] DEBUG [18:27:34] [main/WARN]: Reference map 'mixins.replaymod.refmap.json' for mixins.overclocking.malmomod.json could not be read. If this is a development environment you can ignore this message\n"
     ]
    },
    {
     "name": "stdout",
     "output_type": "stream",
     "text": [
      "DEBUG:minerl.env.malmo.instance.42cbc8:[18:27:34] [main/INFO]: [com.microsoft.Malmo.OverclockingClassTransformer:transform:58]: MALMO: Attempting to transform MinecraftServer\r\n"
     ]
    },
    {
     "name": "stderr",
     "output_type": "stream",
     "text": [
      "2019-12-01 18:27:34 LAPTOP-SDM3TI61 minerl.env.malmo.instance.42cbc8[24072] DEBUG [18:27:34] [main/INFO]: [com.microsoft.Malmo.OverclockingClassTransformer:transform:58]: MALMO: Attempting to transform MinecraftServer\n"
     ]
    },
    {
     "name": "stdout",
     "output_type": "stream",
     "text": [
      "DEBUG:minerl.env.malmo.instance.42cbc8:[18:27:34] [main/INFO]: [com.microsoft.Malmo.OverclockingClassTransformer:overclockRenderer:129]: MALMO: Found Minecraft, attempting to transform it\r\n"
     ]
    },
    {
     "name": "stderr",
     "output_type": "stream",
     "text": [
      "2019-12-01 18:27:34 LAPTOP-SDM3TI61 minerl.env.malmo.instance.42cbc8[24072] DEBUG [18:27:34] [main/INFO]: [com.microsoft.Malmo.OverclockingClassTransformer:overclockRenderer:129]: MALMO: Found Minecraft, attempting to transform it\n"
     ]
    },
    {
     "name": "stdout",
     "output_type": "stream",
     "text": [
      "DEBUG:minerl.env.malmo.instance.42cbc8:[18:27:34] [main/INFO]: [com.microsoft.Malmo.OverclockingClassTransformer:overclockRenderer:135]: MALMO: Found Minecraft.runGameLoop() method, attempting to transform it\r\n"
     ]
    },
    {
     "name": "stderr",
     "output_type": "stream",
     "text": [
      "2019-12-01 18:27:34 LAPTOP-SDM3TI61 minerl.env.malmo.instance.42cbc8[24072] DEBUG [18:27:34] [main/INFO]: [com.microsoft.Malmo.OverclockingClassTransformer:overclockRenderer:135]: MALMO: Found Minecraft.runGameLoop() method, attempting to transform it\n"
     ]
    },
    {
     "name": "stdout",
     "output_type": "stream",
     "text": [
      "DEBUG:minerl.env.malmo.instance.42cbc8:[18:27:34] [main/INFO]: [com.microsoft.Malmo.OverclockingClassTransformer:overclockRenderer:150]: MALMO: Hooked into call to Minecraft.updateDisplay()\r\n"
     ]
    },
    {
     "name": "stderr",
     "output_type": "stream",
     "text": [
      "2019-12-01 18:27:34 LAPTOP-SDM3TI61 minerl.env.malmo.instance.42cbc8[24072] DEBUG [18:27:34] [main/INFO]: [com.microsoft.Malmo.OverclockingClassTransformer:overclockRenderer:150]: MALMO: Hooked into call to Minecraft.updateDisplay()\n"
     ]
    },
    {
     "name": "stdout",
     "output_type": "stream",
     "text": [
      "DEBUG:minerl.env.malmo.instance.42cbc8:[18:27:34] [main/INFO]: A re-entrant transformer '$wrapper.com.microsoft.Malmo.OverclockingClassTransformer' was detected and will no longer process meta class data\r\n"
     ]
    },
    {
     "name": "stderr",
     "output_type": "stream",
     "text": [
      "2019-12-01 18:27:34 LAPTOP-SDM3TI61 minerl.env.malmo.instance.42cbc8[24072] DEBUG [18:27:34] [main/INFO]: A re-entrant transformer '$wrapper.com.microsoft.Malmo.OverclockingClassTransformer' was detected and will no longer process meta class data\n"
     ]
    },
    {
     "name": "stdout",
     "output_type": "stream",
     "text": [
      "DEBUG:minerl.env.malmo.instance.42cbc8:[18:27:34] [main/INFO]: Launching wrapped minecraft {net.minecraft.client.main.Main}\r\n"
     ]
    },
    {
     "name": "stderr",
     "output_type": "stream",
     "text": [
      "2019-12-01 18:27:34 LAPTOP-SDM3TI61 minerl.env.malmo.instance.42cbc8[24072] DEBUG [18:27:34] [main/INFO]: Launching wrapped minecraft {net.minecraft.client.main.Main}\n"
     ]
    },
    {
     "name": "stdout",
     "output_type": "stream",
     "text": [
      "DEBUG:minerl.env.malmo.instance.42cbc8:[18:27:34] [main/INFO]: [com.microsoft.Malmo.OverclockingClassTransformer:transform:58]: MALMO: Attempting to transform MinecraftServer\r\n"
     ]
    },
    {
     "name": "stderr",
     "output_type": "stream",
     "text": [
      "2019-12-01 18:27:34 LAPTOP-SDM3TI61 minerl.env.malmo.instance.42cbc8[24072] DEBUG [18:27:34] [main/INFO]: [com.microsoft.Malmo.OverclockingClassTransformer:transform:58]: MALMO: Attempting to transform MinecraftServer\n"
     ]
    },
    {
     "name": "stdout",
     "output_type": "stream",
     "text": [
      "DEBUG:minerl.env.malmo.instance.42cbc8:[18:27:34] [main/INFO]: [com.microsoft.Malmo.OverclockingClassTransformer:overclockRenderer:129]: MALMO: Found Minecraft, attempting to transform it\r\n"
     ]
    },
    {
     "name": "stderr",
     "output_type": "stream",
     "text": [
      "2019-12-01 18:27:34 LAPTOP-SDM3TI61 minerl.env.malmo.instance.42cbc8[24072] DEBUG [18:27:34] [main/INFO]: [com.microsoft.Malmo.OverclockingClassTransformer:overclockRenderer:129]: MALMO: Found Minecraft, attempting to transform it\n"
     ]
    },
    {
     "name": "stdout",
     "output_type": "stream",
     "text": [
      "DEBUG:minerl.env.malmo.instance.42cbc8:[18:27:34] [main/INFO]: [com.microsoft.Malmo.OverclockingClassTransformer:overclockRenderer:135]: MALMO: Found Minecraft.runGameLoop() method, attempting to transform it\r\n"
     ]
    },
    {
     "name": "stderr",
     "output_type": "stream",
     "text": [
      "2019-12-01 18:27:34 LAPTOP-SDM3TI61 minerl.env.malmo.instance.42cbc8[24072] DEBUG [18:27:34] [main/INFO]: [com.microsoft.Malmo.OverclockingClassTransformer:overclockRenderer:135]: MALMO: Found Minecraft.runGameLoop() method, attempting to transform it\n"
     ]
    },
    {
     "name": "stdout",
     "output_type": "stream",
     "text": [
      "DEBUG:minerl.env.malmo.instance.42cbc8:[18:27:34] [main/INFO]: [com.microsoft.Malmo.OverclockingClassTransformer:overclockRenderer:150]: MALMO: Hooked into call to Minecraft.updateDisplay()\r\n"
     ]
    },
    {
     "name": "stderr",
     "output_type": "stream",
     "text": [
      "2019-12-01 18:27:34 LAPTOP-SDM3TI61 minerl.env.malmo.instance.42cbc8[24072] DEBUG [18:27:34] [main/INFO]: [com.microsoft.Malmo.OverclockingClassTransformer:overclockRenderer:150]: MALMO: Hooked into call to Minecraft.updateDisplay()\n"
     ]
    },
    {
     "name": "stdout",
     "output_type": "stream",
     "text": [
      "DEBUG:minerl.env.malmo.instance.42cbc8:[18:27:35] [main/INFO]: [com.microsoft.Malmo.OverclockingClassTransformer:transform:42]: Transformed Name: net.minecraft.client.entity.EntityPlayerSP\r\n"
     ]
    },
    {
     "name": "stderr",
     "output_type": "stream",
     "text": [
      "2019-12-01 18:27:35 LAPTOP-SDM3TI61 minerl.env.malmo.instance.42cbc8[24072] DEBUG [18:27:35] [main/INFO]: [com.microsoft.Malmo.OverclockingClassTransformer:transform:42]: Transformed Name: net.minecraft.client.entity.EntityPlayerSP\n"
     ]
    },
    {
     "name": "stdout",
     "output_type": "stream",
     "text": [
      "DEBUG:minerl.env.malmo.instance.42cbc8:[18:27:35] [main/INFO]: [com.microsoft.Malmo.OverclockingClassTransformer:transform:42]: Transformed Name: net.minecraft.client.entity.AbstractClientPlayer\r\n"
     ]
    },
    {
     "name": "stderr",
     "output_type": "stream",
     "text": [
      "2019-12-01 18:27:35 LAPTOP-SDM3TI61 minerl.env.malmo.instance.42cbc8[24072] DEBUG [18:27:35] [main/INFO]: [com.microsoft.Malmo.OverclockingClassTransformer:transform:42]: Transformed Name: net.minecraft.client.entity.AbstractClientPlayer\n"
     ]
    },
    {
     "name": "stdout",
     "output_type": "stream",
     "text": [
      "DEBUG:minerl.env.malmo.instance.42cbc8:[18:27:36] [Client thread/INFO]: Setting user: Player822\r\n"
     ]
    },
    {
     "name": "stderr",
     "output_type": "stream",
     "text": [
      "2019-12-01 18:27:36 LAPTOP-SDM3TI61 minerl.env.malmo.instance.42cbc8[24072] DEBUG [18:27:36] [Client thread/INFO]: Setting user: Player822\n"
     ]
    },
    {
     "name": "stdout",
     "output_type": "stream",
     "text": [
      "DEBUG:minerl.env.malmo.instance.42cbc8:[18:27:42] [Client thread/WARN]: Skipping bad option: lastServer:\r\n"
     ]
    },
    {
     "name": "stderr",
     "output_type": "stream",
     "text": [
      "2019-12-01 18:27:42 LAPTOP-SDM3TI61 minerl.env.malmo.instance.42cbc8[24072] DEBUG [18:27:42] [Client thread/WARN]: Skipping bad option: lastServer:\n"
     ]
    },
    {
     "name": "stdout",
     "output_type": "stream",
     "text": [
      "DEBUG:minerl.env.malmo.instance.42cbc8:[18:27:42] [Client thread/INFO]: LWJGL Version: 2.9.4\r\n"
     ]
    },
    {
     "name": "stderr",
     "output_type": "stream",
     "text": [
      "2019-12-01 18:27:42 LAPTOP-SDM3TI61 minerl.env.malmo.instance.42cbc8[24072] DEBUG [18:27:42] [Client thread/INFO]: LWJGL Version: 2.9.4\n"
     ]
    },
    {
     "name": "stdout",
     "output_type": "stream",
     "text": [
      "DEBUG:minerl.env.malmo.instance.42cbc8:[18:27:43] [Client thread/INFO]: [STDOUT]: MALMO: Attempting to transform MinecraftServer\r\n"
     ]
    },
    {
     "name": "stderr",
     "output_type": "stream",
     "text": [
      "2019-12-01 18:27:43 LAPTOP-SDM3TI61 minerl.env.malmo.instance.42cbc8[24072] DEBUG [18:27:43] [Client thread/INFO]: [STDOUT]: MALMO: Attempting to transform MinecraftServer\n"
     ]
    },
    {
     "name": "stdout",
     "output_type": "stream",
     "text": [
      "DEBUG:minerl.env.malmo.instance.42cbc8:[18:27:43] [Client thread/INFO]: [STDOUT]: MALMO: Found GlStateManager, attempting to transform it\r\n"
     ]
    },
    {
     "name": "stderr",
     "output_type": "stream",
     "text": [
      "2019-12-01 18:27:43 LAPTOP-SDM3TI61 minerl.env.malmo.instance.42cbc8[24072] DEBUG [18:27:43] [Client thread/INFO]: [STDOUT]: MALMO: Found GlStateManager, attempting to transform it\n"
     ]
    },
    {
     "name": "stdout",
     "output_type": "stream",
     "text": [
      "DEBUG:minerl.env.malmo.instance.42cbc8:[18:27:43] [Client thread/INFO]: [STDOUT]: MALMO: Found GlStateManager.bindTexture() method, attempting to transform it\r\n"
     ]
    },
    {
     "name": "stderr",
     "output_type": "stream",
     "text": [
      "2019-12-01 18:27:43 LAPTOP-SDM3TI61 minerl.env.malmo.instance.42cbc8[24072] DEBUG [18:27:43] [Client thread/INFO]: [STDOUT]: MALMO: Found GlStateManager.bindTexture() method, attempting to transform it\n"
     ]
    },
    {
     "name": "stdout",
     "output_type": "stream",
     "text": [
      "DEBUG:minerl.env.malmo.instance.42cbc8:[18:27:43] [Client thread/INFO]: [STDOUT]: MALMO: Hooked into call to GlStateManager.bindTexture()\r\n"
     ]
    },
    {
     "name": "stderr",
     "output_type": "stream",
     "text": [
      "2019-12-01 18:27:43 LAPTOP-SDM3TI61 minerl.env.malmo.instance.42cbc8[24072] DEBUG [18:27:43] [Client thread/INFO]: [STDOUT]: MALMO: Hooked into call to GlStateManager.bindTexture()\n"
     ]
    },
    {
     "name": "stdout",
     "output_type": "stream",
     "text": [
      "DEBUG:minerl.env.malmo.instance.42cbc8:[18:27:43] [Client thread/INFO]: MinecraftForge v13.20.0.2228 Initialized\r\n"
     ]
    },
    {
     "name": "stderr",
     "output_type": "stream",
     "text": [
      "2019-12-01 18:27:43 LAPTOP-SDM3TI61 minerl.env.malmo.instance.42cbc8[24072] DEBUG [18:27:43] [Client thread/INFO]: MinecraftForge v13.20.0.2228 Initialized\n"
     ]
    },
    {
     "name": "stdout",
     "output_type": "stream",
     "text": [
      "DEBUG:minerl.env.malmo.instance.42cbc8:[18:27:43] [Client thread/INFO]: Replaced 232 ore recipes\r\n"
     ]
    },
    {
     "name": "stderr",
     "output_type": "stream",
     "text": [
      "2019-12-01 18:27:43 LAPTOP-SDM3TI61 minerl.env.malmo.instance.42cbc8[24072] DEBUG [18:27:43] [Client thread/INFO]: Replaced 232 ore recipes\n"
     ]
    },
    {
     "name": "stdout",
     "output_type": "stream",
     "text": [
      "DEBUG:minerl.env.malmo.instance.42cbc8:[18:27:44] [Client thread/INFO]: Found 0 mods from the command line. Injecting into mod discoverer\r\n"
     ]
    },
    {
     "name": "stderr",
     "output_type": "stream",
     "text": [
      "2019-12-01 18:27:44 LAPTOP-SDM3TI61 minerl.env.malmo.instance.42cbc8[24072] DEBUG [18:27:44] [Client thread/INFO]: Found 0 mods from the command line. Injecting into mod discoverer\n"
     ]
    },
    {
     "name": "stdout",
     "output_type": "stream",
     "text": [
      "DEBUG:minerl.env.malmo.instance.42cbc8:[18:27:44] [Client thread/INFO]: Searching C:\\Users\\manik\\AppData\\Local\\Temp\\tmpcko_29sn\\Minecraft\\run\\mods for mods\r\n"
     ]
    },
    {
     "name": "stderr",
     "output_type": "stream",
     "text": [
      "2019-12-01 18:27:44 LAPTOP-SDM3TI61 minerl.env.malmo.instance.42cbc8[24072] DEBUG [18:27:44] [Client thread/INFO]: Searching C:\\Users\\manik\\AppData\\Local\\Temp\\tmpcko_29sn\\Minecraft\\run\\mods for mods\n"
     ]
    },
    {
     "name": "stdout",
     "output_type": "stream",
     "text": [
      "DEBUG:minerl.env.malmo.instance.42cbc8:[18:27:45] [Client thread/INFO]: Forge Mod Loader has identified 5 mods to load\r\n"
     ]
    },
    {
     "name": "stderr",
     "output_type": "stream",
     "text": [
      "2019-12-01 18:27:45 LAPTOP-SDM3TI61 minerl.env.malmo.instance.42cbc8[24072] DEBUG [18:27:45] [Client thread/INFO]: Forge Mod Loader has identified 5 mods to load\n"
     ]
    },
    {
     "name": "stdout",
     "output_type": "stream",
     "text": [
      "DEBUG:minerl.env.malmo.instance.42cbc8:[18:27:45] [Client thread/INFO]: Attempting connection with missing mods [minecraft, mcp, FML, forge, malmomod] at CLIENT\r\n"
     ]
    },
    {
     "name": "stderr",
     "output_type": "stream",
     "text": [
      "2019-12-01 18:27:45 LAPTOP-SDM3TI61 minerl.env.malmo.instance.42cbc8[24072] DEBUG [18:27:45] [Client thread/INFO]: Attempting connection with missing mods [minecraft, mcp, FML, forge, malmomod] at CLIENT\n"
     ]
    },
    {
     "name": "stdout",
     "output_type": "stream",
     "text": [
      "DEBUG:minerl.env.malmo.instance.42cbc8:[18:27:45] [Client thread/INFO]: Attempting connection with missing mods [minecraft, mcp, FML, forge, malmomod] at SERVER\r\n"
     ]
    },
    {
     "name": "stderr",
     "output_type": "stream",
     "text": [
      "2019-12-01 18:27:45 LAPTOP-SDM3TI61 minerl.env.malmo.instance.42cbc8[24072] DEBUG [18:27:45] [Client thread/INFO]: Attempting connection with missing mods [minecraft, mcp, FML, forge, malmomod] at SERVER\n"
     ]
    },
    {
     "name": "stdout",
     "output_type": "stream",
     "text": [
      "DEBUG:minerl.env.malmo.instance.42cbc8:[18:27:46] [Client thread/INFO]: Reloading ResourceManager: Default, FMLFileResourcePack:Forge Mod Loader, FMLFileResourcePack:Minecraft Forge, FMLFileResourcePack:Microsoft Malmo Mod\r\n"
     ]
    },
    {
     "name": "stderr",
     "output_type": "stream",
     "text": [
      "2019-12-01 18:27:46 LAPTOP-SDM3TI61 minerl.env.malmo.instance.42cbc8[24072] DEBUG [18:27:46] [Client thread/INFO]: Reloading ResourceManager: Default, FMLFileResourcePack:Forge Mod Loader, FMLFileResourcePack:Minecraft Forge, FMLFileResourcePack:Microsoft Malmo Mod\n"
     ]
    },
    {
     "name": "stdout",
     "output_type": "stream",
     "text": [
      "DEBUG:minerl.env.malmo.instance.42cbc8:[18:27:46] [Client thread/WARN]: ResourcePack: ignored non-lowercase namespace: MalmoMod in C:\\Users\\manik\\AppData\\Local\\Programs\\Python\\Python36\\Lib\\site-packages\\minerl\\env\\Malmo\\Minecraft\\build\\libs\\MalmoMod-0.37.0.jar\r\n"
     ]
    },
    {
     "name": "stderr",
     "output_type": "stream",
     "text": [
      "2019-12-01 18:27:46 LAPTOP-SDM3TI61 minerl.env.malmo.instance.42cbc8[24072] DEBUG [18:27:46] [Client thread/WARN]: ResourcePack: ignored non-lowercase namespace: MalmoMod in C:\\Users\\manik\\AppData\\Local\\Programs\\Python\\Python36\\Lib\\site-packages\\minerl\\env\\Malmo\\Minecraft\\build\\libs\\MalmoMod-0.37.0.jar\n"
     ]
    },
    {
     "name": "stdout",
     "output_type": "stream",
     "text": [
      "DEBUG:minerl.env.malmo.instance.42cbc8:[18:27:46] [Client thread/WARN]: ResourcePack: ignored non-lowercase namespace: MalmoMod in C:\\Users\\manik\\AppData\\Local\\Programs\\Python\\Python36\\Lib\\site-packages\\minerl\\env\\Malmo\\Minecraft\\build\\libs\\MalmoMod-0.37.0.jar\r\n"
     ]
    },
    {
     "name": "stderr",
     "output_type": "stream",
     "text": [
      "2019-12-01 18:27:46 LAPTOP-SDM3TI61 minerl.env.malmo.instance.42cbc8[24072] DEBUG [18:27:46] [Client thread/WARN]: ResourcePack: ignored non-lowercase namespace: MalmoMod in C:\\Users\\manik\\AppData\\Local\\Programs\\Python\\Python36\\Lib\\site-packages\\minerl\\env\\Malmo\\Minecraft\\build\\libs\\MalmoMod-0.37.0.jar\n"
     ]
    },
    {
     "name": "stdout",
     "output_type": "stream",
     "text": [
      "DEBUG:minerl.env.malmo.instance.42cbc8:[18:27:46] [Client thread/WARN]: ResourcePack: ignored non-lowercase namespace: MalmoMod in C:\\Users\\manik\\AppData\\Local\\Programs\\Python\\Python36\\Lib\\site-packages\\minerl\\env\\Malmo\\Minecraft\\build\\libs\\MalmoMod-0.37.0.jar\r\n"
     ]
    },
    {
     "name": "stderr",
     "output_type": "stream",
     "text": [
      "2019-12-01 18:27:46 LAPTOP-SDM3TI61 minerl.env.malmo.instance.42cbc8[24072] DEBUG [18:27:46] [Client thread/WARN]: ResourcePack: ignored non-lowercase namespace: MalmoMod in C:\\Users\\manik\\AppData\\Local\\Programs\\Python\\Python36\\Lib\\site-packages\\minerl\\env\\Malmo\\Minecraft\\build\\libs\\MalmoMod-0.37.0.jar\n"
     ]
    },
    {
     "name": "stdout",
     "output_type": "stream",
     "text": [
      "DEBUG:minerl.env.malmo.instance.42cbc8:[18:27:46] [Client thread/INFO]: Processing ObjectHolder annotations\r\n"
     ]
    },
    {
     "name": "stderr",
     "output_type": "stream",
     "text": [
      "2019-12-01 18:27:46 LAPTOP-SDM3TI61 minerl.env.malmo.instance.42cbc8[24072] DEBUG [18:27:46] [Client thread/INFO]: Processing ObjectHolder annotations\n"
     ]
    },
    {
     "name": "stdout",
     "output_type": "stream",
     "text": [
      "DEBUG:minerl.env.malmo.instance.42cbc8:[18:27:46] [Client thread/INFO]: Found 444 ObjectHolder annotations\r\n"
     ]
    },
    {
     "name": "stderr",
     "output_type": "stream",
     "text": [
      "2019-12-01 18:27:46 LAPTOP-SDM3TI61 minerl.env.malmo.instance.42cbc8[24072] DEBUG [18:27:46] [Client thread/INFO]: Found 444 ObjectHolder annotations\n"
     ]
    },
    {
     "name": "stdout",
     "output_type": "stream",
     "text": [
      "DEBUG:minerl.env.malmo.instance.42cbc8:[18:27:46] [Client thread/INFO]: Identifying ItemStackHolder annotations\r\n"
     ]
    },
    {
     "name": "stderr",
     "output_type": "stream",
     "text": [
      "2019-12-01 18:27:46 LAPTOP-SDM3TI61 minerl.env.malmo.instance.42cbc8[24072] DEBUG [18:27:46] [Client thread/INFO]: Identifying ItemStackHolder annotations\n"
     ]
    },
    {
     "name": "stdout",
     "output_type": "stream",
     "text": [
      "DEBUG:minerl.env.malmo.instance.42cbc8:[18:27:46] [Client thread/INFO]: Found 0 ItemStackHolder annotations\r\n"
     ]
    },
    {
     "name": "stderr",
     "output_type": "stream",
     "text": [
      "2019-12-01 18:27:46 LAPTOP-SDM3TI61 minerl.env.malmo.instance.42cbc8[24072] DEBUG [18:27:46] [Client thread/INFO]: Found 0 ItemStackHolder annotations\n"
     ]
    },
    {
     "name": "stdout",
     "output_type": "stream",
     "text": [
      "DEBUG:minerl.env.malmo.instance.42cbc8:[18:27:46] [Client thread/INFO]: Applying holder lookups\r\n"
     ]
    },
    {
     "name": "stderr",
     "output_type": "stream",
     "text": [
      "2019-12-01 18:27:46 LAPTOP-SDM3TI61 minerl.env.malmo.instance.42cbc8[24072] DEBUG [18:27:46] [Client thread/INFO]: Applying holder lookups\n"
     ]
    },
    {
     "name": "stdout",
     "output_type": "stream",
     "text": [
      "DEBUG:minerl.env.malmo.instance.42cbc8:[18:27:46] [Client thread/INFO]: Holder lookups applied\r\n"
     ]
    },
    {
     "name": "stderr",
     "output_type": "stream",
     "text": [
      "2019-12-01 18:27:46 LAPTOP-SDM3TI61 minerl.env.malmo.instance.42cbc8[24072] DEBUG [18:27:46] [Client thread/INFO]: Holder lookups applied\n"
     ]
    },
    {
     "name": "stdout",
     "output_type": "stream",
     "text": [
      "DEBUG:minerl.env.malmo.instance.42cbc8:[18:27:46] [Client thread/INFO]: Applying holder lookups\r\n"
     ]
    },
    {
     "name": "stderr",
     "output_type": "stream",
     "text": [
      "2019-12-01 18:27:46 LAPTOP-SDM3TI61 minerl.env.malmo.instance.42cbc8[24072] DEBUG [18:27:46] [Client thread/INFO]: Applying holder lookups\n"
     ]
    },
    {
     "name": "stdout",
     "output_type": "stream",
     "text": [
      "DEBUG:minerl.env.malmo.instance.42cbc8:[18:27:46] [Client thread/INFO]: Holder lookups applied\r\n"
     ]
    },
    {
     "name": "stderr",
     "output_type": "stream",
     "text": [
      "2019-12-01 18:27:46 LAPTOP-SDM3TI61 minerl.env.malmo.instance.42cbc8[24072] DEBUG [18:27:46] [Client thread/INFO]: Holder lookups applied\n"
     ]
    },
    {
     "name": "stdout",
     "output_type": "stream",
     "text": [
      "DEBUG:minerl.env.malmo.instance.42cbc8:[18:27:46] [Client thread/INFO]: Applying holder lookups\r\n"
     ]
    },
    {
     "name": "stderr",
     "output_type": "stream",
     "text": [
      "2019-12-01 18:27:46 LAPTOP-SDM3TI61 minerl.env.malmo.instance.42cbc8[24072] DEBUG [18:27:46] [Client thread/INFO]: Applying holder lookups\n"
     ]
    },
    {
     "name": "stdout",
     "output_type": "stream",
     "text": [
      "DEBUG:minerl.env.malmo.instance.42cbc8:[18:27:46] [Client thread/INFO]: Holder lookups applied\r\n"
     ]
    },
    {
     "name": "stderr",
     "output_type": "stream",
     "text": [
      "2019-12-01 18:27:46 LAPTOP-SDM3TI61 minerl.env.malmo.instance.42cbc8[24072] DEBUG [18:27:46] [Client thread/INFO]: Holder lookups applied\n"
     ]
    },
    {
     "name": "stdout",
     "output_type": "stream",
     "text": [
      "DEBUG:minerl.env.malmo.instance.42cbc8:[18:27:46] [Client thread/INFO]: Configured a dormant chunk cache size of 0\r\n"
     ]
    },
    {
     "name": "stderr",
     "output_type": "stream",
     "text": [
      "2019-12-01 18:27:46 LAPTOP-SDM3TI61 minerl.env.malmo.instance.42cbc8[24072] DEBUG [18:27:46] [Client thread/INFO]: Configured a dormant chunk cache size of 0\n"
     ]
    },
    {
     "name": "stdout",
     "output_type": "stream",
     "text": [
      "DEBUG:minerl.env.malmo.instance.42cbc8:[18:27:46] [Forge Version Check/INFO]: [forge] Starting version check at http://files.minecraftforge.net/maven/net/minecraftforge/forge/promotions_slim.json\r\n"
     ]
    },
    {
     "name": "stderr",
     "output_type": "stream",
     "text": [
      "2019-12-01 18:27:46 LAPTOP-SDM3TI61 minerl.env.malmo.instance.42cbc8[24072] DEBUG [18:27:46] [Forge Version Check/INFO]: [forge] Starting version check at http://files.minecraftforge.net/maven/net/minecraftforge/forge/promotions_slim.json\n"
     ]
    },
    {
     "name": "stdout",
     "output_type": "stream",
     "text": [
      "DEBUG:minerl.env.malmo.instance.42cbc8:[18:27:46] [Client thread/INFO]: [STDOUT]: Testing schemas against internal version number: 0.37\r\n"
     ]
    },
    {
     "name": "stderr",
     "output_type": "stream",
     "text": [
      "2019-12-01 18:27:46 LAPTOP-SDM3TI61 minerl.env.malmo.instance.42cbc8[24072] DEBUG [18:27:46] [Client thread/INFO]: [STDOUT]: Testing schemas against internal version number: 0.37\n"
     ]
    },
    {
     "name": "stdout",
     "output_type": "stream",
     "text": [
      "DEBUG:minerl.env.malmo.instance.42cbc8:[18:27:47] [Client thread/INFO]: [STDOUT]: [LOGTOPY] Performance directory not specified.\r\n"
     ]
    },
    {
     "name": "stderr",
     "output_type": "stream",
     "text": [
      "2019-12-01 18:27:47 LAPTOP-SDM3TI61 minerl.env.malmo.instance.42cbc8[24072] DEBUG [18:27:47] [Client thread/INFO]: [STDOUT]: [LOGTOPY] Performance directory not specified.\n"
     ]
    },
    {
     "name": "stdout",
     "output_type": "stream",
     "text": [
      "DEBUG:minerl.env.malmo.instance.42cbc8:[18:27:47] [Client thread/INFO]: [STDOUT]: [ERROR] Seed specified was $seed. Expected a long (integer).\r\n"
     ]
    },
    {
     "name": "stderr",
     "output_type": "stream",
     "text": [
      "2019-12-01 18:27:47 LAPTOP-SDM3TI61 minerl.env.malmo.instance.42cbc8[24072] DEBUG [18:27:47] [Client thread/INFO]: [STDOUT]: [ERROR] Seed specified was $seed. Expected a long (integer).\n"
     ]
    },
    {
     "name": "stdout",
     "output_type": "stream",
     "text": [
      "DEBUG:minerl.env.malmo.instance.42cbc8:[18:27:47] [Client thread/INFO]: Applying holder lookups\r\n"
     ]
    },
    {
     "name": "stderr",
     "output_type": "stream",
     "text": [
      "2019-12-01 18:27:47 LAPTOP-SDM3TI61 minerl.env.malmo.instance.42cbc8[24072] DEBUG [18:27:47] [Client thread/INFO]: Applying holder lookups\n"
     ]
    },
    {
     "name": "stdout",
     "output_type": "stream",
     "text": [
      "DEBUG:minerl.env.malmo.instance.42cbc8:[18:27:47] [Client thread/INFO]: Holder lookups applied\r\n"
     ]
    },
    {
     "name": "stderr",
     "output_type": "stream",
     "text": [
      "2019-12-01 18:27:47 LAPTOP-SDM3TI61 minerl.env.malmo.instance.42cbc8[24072] DEBUG [18:27:47] [Client thread/INFO]: Holder lookups applied\n"
     ]
    },
    {
     "name": "stdout",
     "output_type": "stream",
     "text": [
      "DEBUG:minerl.env.malmo.instance.42cbc8:[18:27:47] [Client thread/INFO]: Injecting itemstacks\r\n"
     ]
    },
    {
     "name": "stderr",
     "output_type": "stream",
     "text": [
      "2019-12-01 18:27:47 LAPTOP-SDM3TI61 minerl.env.malmo.instance.42cbc8[24072] DEBUG [18:27:47] [Client thread/INFO]: Injecting itemstacks\n"
     ]
    },
    {
     "name": "stdout",
     "output_type": "stream",
     "text": [
      "DEBUG:minerl.env.malmo.instance.42cbc8:[18:27:47] [Client thread/INFO]: Itemstack injection complete\r\n"
     ]
    },
    {
     "name": "stderr",
     "output_type": "stream",
     "text": [
      "2019-12-01 18:27:47 LAPTOP-SDM3TI61 minerl.env.malmo.instance.42cbc8[24072] DEBUG [18:27:47] [Client thread/INFO]: Itemstack injection complete\n"
     ]
    },
    {
     "name": "stdout",
     "output_type": "stream",
     "text": [
      "DEBUG:minerl.env.malmo.instance.42cbc8:[18:27:50] [Forge Version Check/INFO]: [forge] Found status: OUTDATED Target: 13.20.1.2386\r\n"
     ]
    },
    {
     "name": "stderr",
     "output_type": "stream",
     "text": [
      "2019-12-01 18:27:50 LAPTOP-SDM3TI61 minerl.env.malmo.instance.42cbc8[24072] DEBUG [18:27:50] [Forge Version Check/INFO]: [forge] Found status: OUTDATED Target: 13.20.1.2386\n"
     ]
    },
    {
     "name": "stdout",
     "output_type": "stream",
     "text": [
      "DEBUG:minerl.env.malmo.instance.42cbc8:[18:27:50] [Sound Library Loader/INFO]: Starting up SoundSystem...\r\n"
     ]
    },
    {
     "name": "stderr",
     "output_type": "stream",
     "text": [
      "2019-12-01 18:27:50 LAPTOP-SDM3TI61 minerl.env.malmo.instance.42cbc8[24072] DEBUG [18:27:50] [Sound Library Loader/INFO]: Starting up SoundSystem...\n"
     ]
    },
    {
     "name": "stdout",
     "output_type": "stream",
     "text": [
      "DEBUG:minerl.env.malmo.instance.42cbc8:[18:27:50] [Thread-6/INFO]: Initializing LWJGL OpenAL\r\n"
     ]
    },
    {
     "name": "stderr",
     "output_type": "stream",
     "text": [
      "2019-12-01 18:27:50 LAPTOP-SDM3TI61 minerl.env.malmo.instance.42cbc8[24072] DEBUG [18:27:50] [Thread-6/INFO]: Initializing LWJGL OpenAL\n"
     ]
    },
    {
     "name": "stdout",
     "output_type": "stream",
     "text": [
      "DEBUG:minerl.env.malmo.instance.42cbc8:[18:27:50] [Thread-6/INFO]: (The LWJGL binding of OpenAL.  For more information, see http://www.lwjgl.org)\r\n"
     ]
    },
    {
     "name": "stderr",
     "output_type": "stream",
     "text": [
      "2019-12-01 18:27:50 LAPTOP-SDM3TI61 minerl.env.malmo.instance.42cbc8[24072] DEBUG [18:27:50] [Thread-6/INFO]: (The LWJGL binding of OpenAL.  For more information, see http://www.lwjgl.org)\n"
     ]
    },
    {
     "name": "stdout",
     "output_type": "stream",
     "text": [
      "DEBUG:minerl.env.malmo.instance.42cbc8:[18:27:51] [Thread-6/INFO]: OpenAL initialized.\r\n"
     ]
    },
    {
     "name": "stderr",
     "output_type": "stream",
     "text": [
      "2019-12-01 18:27:51 LAPTOP-SDM3TI61 minerl.env.malmo.instance.42cbc8[24072] DEBUG [18:27:51] [Thread-6/INFO]: OpenAL initialized.\n"
     ]
    },
    {
     "name": "stdout",
     "output_type": "stream",
     "text": [
      "DEBUG:minerl.env.malmo.instance.42cbc8:[18:27:51] [Sound Library Loader/INFO]: Sound engine started\r\n"
     ]
    },
    {
     "name": "stderr",
     "output_type": "stream",
     "text": [
      "2019-12-01 18:27:51 LAPTOP-SDM3TI61 minerl.env.malmo.instance.42cbc8[24072] DEBUG [18:27:51] [Sound Library Loader/INFO]: Sound engine started\n"
     ]
    },
    {
     "name": "stdout",
     "output_type": "stream",
     "text": [
      "DEBUG:minerl.env.malmo.instance.42cbc8:[18:27:55] [Client thread/INFO]: Max texture size: 16384\r\n"
     ]
    },
    {
     "name": "stderr",
     "output_type": "stream",
     "text": [
      "2019-12-01 18:27:55 LAPTOP-SDM3TI61 minerl.env.malmo.instance.42cbc8[24072] DEBUG [18:27:55] [Client thread/INFO]: Max texture size: 16384\n"
     ]
    },
    {
     "name": "stdout",
     "output_type": "stream",
     "text": [
      "DEBUG:minerl.env.malmo.instance.42cbc8:[18:27:55] [Client thread/INFO]: Created: 16x16 textures-atlas\r\n"
     ]
    },
    {
     "name": "stderr",
     "output_type": "stream",
     "text": [
      "2019-12-01 18:27:55 LAPTOP-SDM3TI61 minerl.env.malmo.instance.42cbc8[24072] DEBUG [18:27:55] [Client thread/INFO]: Created: 16x16 textures-atlas\n"
     ]
    },
    {
     "name": "stdout",
     "output_type": "stream",
     "text": [
      "DEBUG:minerl.env.malmo.instance.42cbc8:[18:27:56] [Client thread/INFO]: [STDOUT]: CLIENT request state: WAITING_FOR_MOD_READY\r\n"
     ]
    },
    {
     "name": "stderr",
     "output_type": "stream",
     "text": [
      "2019-12-01 18:27:56 LAPTOP-SDM3TI61 minerl.env.malmo.instance.42cbc8[24072] DEBUG [18:27:56] [Client thread/INFO]: [STDOUT]: CLIENT request state: WAITING_FOR_MOD_READY\n"
     ]
    },
    {
     "name": "stdout",
     "output_type": "stream",
     "text": [
      "DEBUG:minerl.env.malmo.instance.42cbc8:[18:27:56] [Client thread/INFO]: Injecting itemstacks\r\n"
     ]
    },
    {
     "name": "stderr",
     "output_type": "stream",
     "text": [
      "2019-12-01 18:27:56 LAPTOP-SDM3TI61 minerl.env.malmo.instance.42cbc8[24072] DEBUG [18:27:56] [Client thread/INFO]: Injecting itemstacks\n"
     ]
    },
    {
     "name": "stdout",
     "output_type": "stream",
     "text": [
      "DEBUG:minerl.env.malmo.instance.42cbc8:[18:27:56] [Client thread/INFO]: Itemstack injection complete\r\n"
     ]
    },
    {
     "name": "stderr",
     "output_type": "stream",
     "text": [
      "2019-12-01 18:27:56 LAPTOP-SDM3TI61 minerl.env.malmo.instance.42cbc8[24072] DEBUG [18:27:56] [Client thread/INFO]: Itemstack injection complete\n"
     ]
    },
    {
     "name": "stdout",
     "output_type": "stream",
     "text": [
      "DEBUG:minerl.env.malmo.instance.42cbc8:[18:27:56] [Client thread/INFO]: Forge Mod Loader has successfully loaded 5 mods\r\n"
     ]
    },
    {
     "name": "stderr",
     "output_type": "stream",
     "text": [
      "2019-12-01 18:27:56 LAPTOP-SDM3TI61 minerl.env.malmo.instance.42cbc8[24072] DEBUG [18:27:56] [Client thread/INFO]: Forge Mod Loader has successfully loaded 5 mods\n"
     ]
    },
    {
     "name": "stdout",
     "output_type": "stream",
     "text": [
      "DEBUG:minerl.env.malmo.instance.42cbc8:[18:27:56] [Client thread/INFO]: Reloading ResourceManager: Default, FMLFileResourcePack:Forge Mod Loader, FMLFileResourcePack:Minecraft Forge, FMLFileResourcePack:Microsoft Malmo Mod\r\n"
     ]
    },
    {
     "name": "stderr",
     "output_type": "stream",
     "text": [
      "2019-12-01 18:27:56 LAPTOP-SDM3TI61 minerl.env.malmo.instance.42cbc8[24072] DEBUG [18:27:56] [Client thread/INFO]: Reloading ResourceManager: Default, FMLFileResourcePack:Forge Mod Loader, FMLFileResourcePack:Minecraft Forge, FMLFileResourcePack:Microsoft Malmo Mod\n"
     ]
    },
    {
     "name": "stdout",
     "output_type": "stream",
     "text": [
      "DEBUG:minerl.env.malmo.instance.42cbc8:[18:27:56] [Client thread/WARN]: ResourcePack: ignored non-lowercase namespace: MalmoMod in C:\\Users\\manik\\AppData\\Local\\Programs\\Python\\Python36\\Lib\\site-packages\\minerl\\env\\Malmo\\Minecraft\\build\\libs\\MalmoMod-0.37.0.jar\r\n"
     ]
    },
    {
     "name": "stderr",
     "output_type": "stream",
     "text": [
      "2019-12-01 18:27:56 LAPTOP-SDM3TI61 minerl.env.malmo.instance.42cbc8[24072] DEBUG [18:27:56] [Client thread/WARN]: ResourcePack: ignored non-lowercase namespace: MalmoMod in C:\\Users\\manik\\AppData\\Local\\Programs\\Python\\Python36\\Lib\\site-packages\\minerl\\env\\Malmo\\Minecraft\\build\\libs\\MalmoMod-0.37.0.jar\n"
     ]
    },
    {
     "name": "stdout",
     "output_type": "stream",
     "text": [
      "DEBUG:minerl.env.malmo.instance.42cbc8:[18:27:56] [Client thread/WARN]: ResourcePack: ignored non-lowercase namespace: MalmoMod in C:\\Users\\manik\\AppData\\Local\\Programs\\Python\\Python36\\Lib\\site-packages\\minerl\\env\\Malmo\\Minecraft\\build\\libs\\MalmoMod-0.37.0.jar\r\n"
     ]
    },
    {
     "name": "stderr",
     "output_type": "stream",
     "text": [
      "2019-12-01 18:27:56 LAPTOP-SDM3TI61 minerl.env.malmo.instance.42cbc8[24072] DEBUG [18:27:56] [Client thread/WARN]: ResourcePack: ignored non-lowercase namespace: MalmoMod in C:\\Users\\manik\\AppData\\Local\\Programs\\Python\\Python36\\Lib\\site-packages\\minerl\\env\\Malmo\\Minecraft\\build\\libs\\MalmoMod-0.37.0.jar\n"
     ]
    },
    {
     "name": "stdout",
     "output_type": "stream",
     "text": [
      "DEBUG:minerl.env.malmo.instance.42cbc8:[18:27:56] [Client thread/WARN]: ResourcePack: ignored non-lowercase namespace: MalmoMod in C:\\Users\\manik\\AppData\\Local\\Programs\\Python\\Python36\\Lib\\site-packages\\minerl\\env\\Malmo\\Minecraft\\build\\libs\\MalmoMod-0.37.0.jar\r\n"
     ]
    },
    {
     "name": "stderr",
     "output_type": "stream",
     "text": [
      "2019-12-01 18:27:56 LAPTOP-SDM3TI61 minerl.env.malmo.instance.42cbc8[24072] DEBUG [18:27:56] [Client thread/WARN]: ResourcePack: ignored non-lowercase namespace: MalmoMod in C:\\Users\\manik\\AppData\\Local\\Programs\\Python\\Python36\\Lib\\site-packages\\minerl\\env\\Malmo\\Minecraft\\build\\libs\\MalmoMod-0.37.0.jar\n"
     ]
    },
    {
     "name": "stdout",
     "output_type": "stream",
     "text": [
      "DEBUG:minerl.env.malmo.instance.42cbc8:[18:27:59] [Client thread/INFO]: SoundSystem shutting down...\r\n"
     ]
    },
    {
     "name": "stderr",
     "output_type": "stream",
     "text": [
      "2019-12-01 18:27:59 LAPTOP-SDM3TI61 minerl.env.malmo.instance.42cbc8[24072] DEBUG [18:27:59] [Client thread/INFO]: SoundSystem shutting down...\n"
     ]
    },
    {
     "name": "stdout",
     "output_type": "stream",
     "text": [
      "DEBUG:minerl.env.malmo.instance.42cbc8:[18:27:59] [Client thread/WARN]: Author: Paul Lamb, www.paulscode.com\r\n"
     ]
    },
    {
     "name": "stderr",
     "output_type": "stream",
     "text": [
      "2019-12-01 18:27:59 LAPTOP-SDM3TI61 minerl.env.malmo.instance.42cbc8[24072] DEBUG [18:27:59] [Client thread/WARN]: Author: Paul Lamb, www.paulscode.com\n"
     ]
    },
    {
     "name": "stdout",
     "output_type": "stream",
     "text": [
      "DEBUG:minerl.env.malmo.instance.42cbc8:[18:27:59] [Sound Library Loader/INFO]: Starting up SoundSystem...\r\n"
     ]
    },
    {
     "name": "stderr",
     "output_type": "stream",
     "text": [
      "2019-12-01 18:27:59 LAPTOP-SDM3TI61 minerl.env.malmo.instance.42cbc8[24072] DEBUG [18:27:59] [Sound Library Loader/INFO]: Starting up SoundSystem...\n"
     ]
    },
    {
     "name": "stdout",
     "output_type": "stream",
     "text": [
      "DEBUG:minerl.env.malmo.instance.42cbc8:[18:28:00] [Thread-8/INFO]: Initializing LWJGL OpenAL\r\n"
     ]
    },
    {
     "name": "stderr",
     "output_type": "stream",
     "text": [
      "2019-12-01 18:28:00 LAPTOP-SDM3TI61 minerl.env.malmo.instance.42cbc8[24072] DEBUG [18:28:00] [Thread-8/INFO]: Initializing LWJGL OpenAL\n"
     ]
    },
    {
     "name": "stdout",
     "output_type": "stream",
     "text": [
      "DEBUG:minerl.env.malmo.instance.42cbc8:[18:28:00] [Thread-8/INFO]: (The LWJGL binding of OpenAL.  For more information, see http://www.lwjgl.org)\r\n"
     ]
    },
    {
     "name": "stderr",
     "output_type": "stream",
     "text": [
      "2019-12-01 18:28:00 LAPTOP-SDM3TI61 minerl.env.malmo.instance.42cbc8[24072] DEBUG [18:28:00] [Thread-8/INFO]: (The LWJGL binding of OpenAL.  For more information, see http://www.lwjgl.org)\n"
     ]
    },
    {
     "name": "stdout",
     "output_type": "stream",
     "text": [
      "DEBUG:minerl.env.malmo.instance.42cbc8:[18:28:00] [Thread-8/INFO]: OpenAL initialized.\r\n"
     ]
    },
    {
     "name": "stderr",
     "output_type": "stream",
     "text": [
      "2019-12-01 18:28:00 LAPTOP-SDM3TI61 minerl.env.malmo.instance.42cbc8[24072] DEBUG [18:28:00] [Thread-8/INFO]: OpenAL initialized.\n"
     ]
    },
    {
     "name": "stdout",
     "output_type": "stream",
     "text": [
      "DEBUG:minerl.env.malmo.instance.42cbc8:[18:28:00] [Sound Library Loader/INFO]: Sound engine started\r\n"
     ]
    },
    {
     "name": "stderr",
     "output_type": "stream",
     "text": [
      "2019-12-01 18:28:00 LAPTOP-SDM3TI61 minerl.env.malmo.instance.42cbc8[24072] DEBUG [18:28:00] [Sound Library Loader/INFO]: Sound engine started\n"
     ]
    },
    {
     "name": "stdout",
     "output_type": "stream",
     "text": [
      "DEBUG:minerl.env.malmo.instance.42cbc8:[18:28:04] [Client thread/INFO]: Max texture size: 16384\r\n"
     ]
    },
    {
     "name": "stderr",
     "output_type": "stream",
     "text": [
      "2019-12-01 18:28:04 LAPTOP-SDM3TI61 minerl.env.malmo.instance.42cbc8[24072] DEBUG [18:28:04] [Client thread/INFO]: Max texture size: 16384\n"
     ]
    },
    {
     "name": "stdout",
     "output_type": "stream",
     "text": [
      "DEBUG:minerl.env.malmo.instance.42cbc8:[18:28:04] [Client thread/INFO]: Created: 512x512 textures-atlas\r\n"
     ]
    },
    {
     "name": "stderr",
     "output_type": "stream",
     "text": [
      "2019-12-01 18:28:04 LAPTOP-SDM3TI61 minerl.env.malmo.instance.42cbc8[24072] DEBUG [18:28:04] [Client thread/INFO]: Created: 512x512 textures-atlas\n"
     ]
    },
    {
     "name": "stdout",
     "output_type": "stream",
     "text": [
      "DEBUG:minerl.env.malmo.instance.42cbc8:[18:28:05] [Client thread/WARN]: Skipping bad option: lastServer:\r\n"
     ]
    },
    {
     "name": "stderr",
     "output_type": "stream",
     "text": [
      "2019-12-01 18:28:05 LAPTOP-SDM3TI61 minerl.env.malmo.instance.42cbc8[24072] DEBUG [18:28:05] [Client thread/WARN]: Skipping bad option: lastServer:\n"
     ]
    },
    {
     "name": "stdout",
     "output_type": "stream",
     "text": [
      "DEBUG:minerl.env.malmo.instance.42cbc8:[18:28:06] [Client thread/INFO]: [STDOUT]: CLIENT enter state: WAITING_FOR_MOD_READY\r\n"
     ]
    },
    {
     "name": "stderr",
     "output_type": "stream",
     "text": [
      "2019-12-01 18:28:06 LAPTOP-SDM3TI61 minerl.env.malmo.instance.42cbc8[24072] DEBUG [18:28:06] [Client thread/INFO]: [STDOUT]: CLIENT enter state: WAITING_FOR_MOD_READY\n"
     ]
    },
    {
     "name": "stdout",
     "output_type": "stream",
     "text": [
      "DEBUG:minerl.env.malmo.instance.42cbc8:[18:28:06] [Client thread/INFO]: [STDOUT]: ***** Start MalmoEnvServer on port 9001\r\n"
     ]
    },
    {
     "name": "stderr",
     "output_type": "stream",
     "text": [
      "2019-12-01 18:28:06 LAPTOP-SDM3TI61 minerl.env.malmo.instance.42cbc8[24072] DEBUG [18:28:06] [Client thread/INFO]: [STDOUT]: ***** Start MalmoEnvServer on port 9001\n"
     ]
    },
    {
     "name": "stdout",
     "output_type": "stream",
     "text": [
      "DEBUG:minerl.env.malmo.instance.42cbc8:[18:28:06] [Client thread/INFO]: [STDOUT]: CLIENT request state: DORMANT\r\n"
     ]
    },
    {
     "name": "stderr",
     "output_type": "stream",
     "text": [
      "2019-12-01 18:28:06 LAPTOP-SDM3TI61 minerl.env.malmo.instance.42cbc8[24072] DEBUG [18:28:06] [Client thread/INFO]: [STDOUT]: CLIENT request state: DORMANT\n"
     ]
    },
    {
     "name": "stdout",
     "output_type": "stream",
     "text": [
      "DEBUG:minerl.env.malmo.instance.42cbc8:[18:28:06] [Client thread/INFO]: [STDOUT]: CLIENT enter state: DORMANT\r\n"
     ]
    },
    {
     "name": "stderr",
     "output_type": "stream",
     "text": [
      "2019-12-01 18:28:06 LAPTOP-SDM3TI61 minerl.env.malmo.instance.42cbc8[24072] DEBUG [18:28:06] [Client thread/INFO]: [STDOUT]: CLIENT enter state: DORMANT\n"
     ]
    },
    {
     "name": "stdout",
     "output_type": "stream",
     "text": [
      "INFO:minerl.env.malmo.instance.42cbc8:Minecraft process ready\n"
     ]
    },
    {
     "name": "stderr",
     "output_type": "stream",
     "text": [
      "2019-12-01 18:28:06 LAPTOP-SDM3TI61 minerl.env.malmo.instance.42cbc8[24072] INFO Minecraft process ready\n"
     ]
    },
    {
     "name": "stdout",
     "output_type": "stream",
     "text": [
      "INFO:minerl.env.malmo:Logging output of Minecraft to .\\logs\\mc_1.log\n"
     ]
    },
    {
     "name": "stderr",
     "output_type": "stream",
     "text": [
      "2019-12-01 18:28:06 LAPTOP-SDM3TI61 minerl.env.malmo[24072] INFO Logging output of Minecraft to .\\logs\\mc_1.log\n"
     ]
    },
    {
     "name": "stdout",
     "output_type": "stream",
     "text": [
      "[OrderedDict([('attack', 0), ('back', 0), ('camera', array([  26.55478, -144.93793], dtype=float32)), ('craft', 0), ('equip', 7), ('forward', 1), ('jump', 1), ('left', 1), ('nearbyCraft', 0), ('nearbySmelt', 0), ('place', 6), ('right', 1), ('sneak', 0), ('sprint', 1)]), OrderedDict([('attack', 0), ('back', 0), ('camera', array([-118.26691 ,  -34.536716], dtype=float32)), ('craft', 0), ('equip', 6), ('forward', 0), ('jump', 0), ('left', 1), ('nearbyCraft', 4), ('nearbySmelt', 2), ('place', 6), ('right', 0), ('sneak', 0), ('sprint', 0)]), OrderedDict([('attack', 0), ('back', 1), ('camera', array([-171.31566,   76.58288], dtype=float32)), ('craft', 0), ('equip', 6), ('forward', 1), ('jump', 0), ('left', 0), ('nearbyCraft', 4), ('nearbySmelt', 2), ('place', 6), ('right', 0), ('sneak', 0), ('sprint', 1)]), OrderedDict([('attack', 1), ('back', 1), ('camera', array([-137.16664, -156.38489], dtype=float32)), ('craft', 1), ('equip', 0), ('forward', 0), ('jump', 1), ('left', 0), ('nearbyCraft', 1), ('nearbySmelt', 1), ('place', 0), ('right', 0), ('sneak', 1), ('sprint', 0)]), OrderedDict([('attack', 1), ('back', 1), ('camera', array([-101.27151,  135.64586], dtype=float32)), ('craft', 2), ('equip', 3), ('forward', 0), ('jump', 1), ('left', 1), ('nearbyCraft', 0), ('nearbySmelt', 2), ('place', 6), ('right', 0), ('sneak', 1), ('sprint', 1)]), OrderedDict([('attack', 0), ('back', 0), ('camera', array([33.660828, 57.142387], dtype=float32)), ('craft', 0), ('equip', 4), ('forward', 1), ('jump', 0), ('left', 0), ('nearbyCraft', 2), ('nearbySmelt', 2), ('place', 3), ('right', 1), ('sneak', 1), ('sprint', 0)]), OrderedDict([('attack', 0), ('back', 0), ('camera', array([ 30.386986, 145.91786 ], dtype=float32)), ('craft', 4), ('equip', 3), ('forward', 0), ('jump', 1), ('left', 0), ('nearbyCraft', 7), ('nearbySmelt', 1), ('place', 4), ('right', 1), ('sneak', 1), ('sprint', 1)]), OrderedDict([('attack', 1), ('back', 0), ('camera', array([ 167.96101, -107.84444], dtype=float32)), ('craft', 2), ('equip', 7), ('forward', 0), ('jump', 0), ('left', 0), ('nearbyCraft', 4), ('nearbySmelt', 1), ('place', 0), ('right', 0), ('sneak', 1), ('sprint', 1)]), OrderedDict([('attack', 0), ('back', 1), ('camera', array([ -44.785522, -117.54347 ], dtype=float32)), ('craft', 3), ('equip', 3), ('forward', 1), ('jump', 0), ('left', 1), ('nearbyCraft', 2), ('nearbySmelt', 1), ('place', 1), ('right', 0), ('sneak', 1), ('sprint', 1)]), OrderedDict([('attack', 0), ('back', 0), ('camera', array([-82.93624, -52.65887], dtype=float32)), ('craft', 4), ('equip', 1), ('forward', 1), ('jump', 0), ('left', 0), ('nearbyCraft', 5), ('nearbySmelt', 0), ('place', 2), ('right', 1), ('sneak', 0), ('sprint', 0)])]\n",
      "DEBUG:minerl.env.core:Creating socket connection!\n"
     ]
    },
    {
     "name": "stderr",
     "output_type": "stream",
     "text": [
      "2019-12-01 18:28:06 LAPTOP-SDM3TI61 minerl.env.core[24072] DEBUG Creating socket connection!\n"
     ]
    },
    {
     "name": "stdout",
     "output_type": "stream",
     "text": [
      "DEBUG:minerl.env.core:Sending mission init!\n"
     ]
    },
    {
     "name": "stderr",
     "output_type": "stream",
     "text": [
      "2019-12-01 18:28:06 LAPTOP-SDM3TI61 minerl.env.core[24072] DEBUG Sending mission init!\n"
     ]
    },
    {
     "name": "stdout",
     "output_type": "stream",
     "text": [
      "DEBUG:minerl.env.malmo.instance.42cbc8:[18:28:07] [EnvServerSocketHandler/INFO]: [STDOUT]: Received from 127.0.0.1:<MissionInit xmlns=\"http://ProjectMalmo.microsoft.com\" xmlns:xsi=\"http://www.w3.org/2001/XMLSchema-instance\" SchemaVersion=\"\" PlatformVersion=\"0.37.0\">\n"
     ]
    },
    {
     "name": "stderr",
     "output_type": "stream",
     "text": [
      "2019-12-01 18:28:07 LAPTOP-SDM3TI61 minerl.env.malmo.instance.42cbc8[24072] DEBUG [18:28:07] [EnvServerSocketHandler/INFO]: [STDOUT]: Received from 127.0.0.1:<MissionInit xmlns=\"http://ProjectMalmo.microsoft.com\" xmlns:xsi=\"http://www.w3.org/2001/XMLSchema-instance\" SchemaVersion=\"\" PlatformVersion=\"0.37.0\">\n"
     ]
    },
    {
     "name": "stdout",
     "output_type": "stream",
     "text": [
      "DEBUG:minerl.env.malmo.instance.42cbc8:                                <Mission>\n"
     ]
    },
    {
     "name": "stderr",
     "output_type": "stream",
     "text": [
      "2019-12-01 18:28:07 LAPTOP-SDM3TI61 minerl.env.malmo.instance.42cbc8[24072] DEBUG                                 <Mission>\n"
     ]
    },
    {
     "name": "stdout",
     "output_type": "stream",
     "text": [
      "DEBUG:minerl.env.malmo.instance.42cbc8:    <About>\n"
     ]
    },
    {
     "name": "stderr",
     "output_type": "stream",
     "text": [
      "2019-12-01 18:28:07 LAPTOP-SDM3TI61 minerl.env.malmo.instance.42cbc8[24072] DEBUG     <About>\n"
     ]
    },
    {
     "name": "stdout",
     "output_type": "stream",
     "text": [
      "DEBUG:minerl.env.malmo.instance.42cbc8:        <Summary>MineRLObtainDiamond-v0</Summary>\n"
     ]
    },
    {
     "name": "stderr",
     "output_type": "stream",
     "text": [
      "2019-12-01 18:28:07 LAPTOP-SDM3TI61 minerl.env.malmo.instance.42cbc8[24072] DEBUG         <Summary>MineRLObtainDiamond-v0</Summary>\n"
     ]
    },
    {
     "name": "stdout",
     "output_type": "stream",
     "text": [
      "DEBUG:minerl.env.malmo.instance.42cbc8:    </About>\n"
     ]
    },
    {
     "name": "stderr",
     "output_type": "stream",
     "text": [
      "2019-12-01 18:28:07 LAPTOP-SDM3TI61 minerl.env.malmo.instance.42cbc8[24072] DEBUG     </About>\n"
     ]
    },
    {
     "name": "stdout",
     "output_type": "stream",
     "text": [
      "DEBUG:minerl.env.malmo.instance.42cbc8:\n"
     ]
    },
    {
     "name": "stderr",
     "output_type": "stream",
     "text": [
      "2019-12-01 18:28:07 LAPTOP-SDM3TI61 minerl.env.malmo.instance.42cbc8[24072] DEBUG \n"
     ]
    },
    {
     "name": "stdout",
     "output_type": "stream",
     "text": [
      "DEBUG:minerl.env.malmo.instance.42cbc8:    <ModSettings>\n"
     ]
    },
    {
     "name": "stderr",
     "output_type": "stream",
     "text": [
      "2019-12-01 18:28:07 LAPTOP-SDM3TI61 minerl.env.malmo.instance.42cbc8[24072] DEBUG     <ModSettings>\n"
     ]
    },
    {
     "name": "stdout",
     "output_type": "stream",
     "text": [
      "DEBUG:minerl.env.malmo.instance.42cbc8:        <MsPerTick>50</MsPerTick>\n"
     ]
    },
    {
     "name": "stderr",
     "output_type": "stream",
     "text": [
      "2019-12-01 18:28:07 LAPTOP-SDM3TI61 minerl.env.malmo.instance.42cbc8[24072] DEBUG         <MsPerTick>50</MsPerTick>\n"
     ]
    },
    {
     "name": "stdout",
     "output_type": "stream",
     "text": [
      "DEBUG:minerl.env.malmo.instance.42cbc8:    </ModSettings>\n"
     ]
    },
    {
     "name": "stderr",
     "output_type": "stream",
     "text": [
      "2019-12-01 18:28:07 LAPTOP-SDM3TI61 minerl.env.malmo.instance.42cbc8[24072] DEBUG     </ModSettings>\n"
     ]
    },
    {
     "name": "stdout",
     "output_type": "stream",
     "text": [
      "DEBUG:minerl.env.malmo.instance.42cbc8:\n"
     ]
    },
    {
     "name": "stderr",
     "output_type": "stream",
     "text": [
      "2019-12-01 18:28:07 LAPTOP-SDM3TI61 minerl.env.malmo.instance.42cbc8[24072] DEBUG \n"
     ]
    },
    {
     "name": "stdout",
     "output_type": "stream",
     "text": [
      "DEBUG:minerl.env.malmo.instance.42cbc8:    <ServerSection>\n"
     ]
    },
    {
     "name": "stderr",
     "output_type": "stream",
     "text": [
      "2019-12-01 18:28:07 LAPTOP-SDM3TI61 minerl.env.malmo.instance.42cbc8[24072] DEBUG     <ServerSection>\n"
     ]
    },
    {
     "name": "stdout",
     "output_type": "stream",
     "text": [
      "DEBUG:minerl.env.malmo.instance.42cbc8:        <ServerInitialConditions>\n"
     ]
    },
    {
     "name": "stderr",
     "output_type": "stream",
     "text": [
      "2019-12-01 18:28:07 LAPTOP-SDM3TI61 minerl.env.malmo.instance.42cbc8[24072] DEBUG         <ServerInitialConditions>\n"
     ]
    },
    {
     "name": "stdout",
     "output_type": "stream",
     "text": [
      "DEBUG:minerl.env.malmo.instance.42cbc8:            <Time>\n"
     ]
    },
    {
     "name": "stderr",
     "output_type": "stream",
     "text": [
      "2019-12-01 18:28:07 LAPTOP-SDM3TI61 minerl.env.malmo.instance.42cbc8[24072] DEBUG             <Time>\n"
     ]
    },
    {
     "name": "stdout",
     "output_type": "stream",
     "text": [
      "DEBUG:minerl.env.malmo.instance.42cbc8:                <StartTime>6000</StartTime>\n"
     ]
    },
    {
     "name": "stderr",
     "output_type": "stream",
     "text": [
      "2019-12-01 18:28:07 LAPTOP-SDM3TI61 minerl.env.malmo.instance.42cbc8[24072] DEBUG                 <StartTime>6000</StartTime>\n"
     ]
    },
    {
     "name": "stdout",
     "output_type": "stream",
     "text": [
      "DEBUG:minerl.env.malmo.instance.42cbc8:            </Time>\n"
     ]
    },
    {
     "name": "stderr",
     "output_type": "stream",
     "text": [
      "2019-12-01 18:28:07 LAPTOP-SDM3TI61 minerl.env.malmo.instance.42cbc8[24072] DEBUG             </Time>\n"
     ]
    },
    {
     "name": "stdout",
     "output_type": "stream",
     "text": [
      "DEBUG:minerl.env.malmo.instance.42cbc8:            <AllowSpawning>true</AllowSpawning>\n"
     ]
    },
    {
     "name": "stderr",
     "output_type": "stream",
     "text": [
      "2019-12-01 18:28:07 LAPTOP-SDM3TI61 minerl.env.malmo.instance.42cbc8[24072] DEBUG             <AllowSpawning>true</AllowSpawning>\n"
     ]
    },
    {
     "name": "stdout",
     "output_type": "stream",
     "text": [
      "DEBUG:minerl.env.malmo.instance.42cbc8:        </ServerInitialConditions>\n"
     ]
    },
    {
     "name": "stderr",
     "output_type": "stream",
     "text": [
      "2019-12-01 18:28:07 LAPTOP-SDM3TI61 minerl.env.malmo.instance.42cbc8[24072] DEBUG         </ServerInitialConditions>\n"
     ]
    },
    {
     "name": "stdout",
     "output_type": "stream",
     "text": [
      "DEBUG:minerl.env.malmo.instance.42cbc8:        <ServerHandlers>\n"
     ]
    },
    {
     "name": "stderr",
     "output_type": "stream",
     "text": [
      "2019-12-01 18:28:07 LAPTOP-SDM3TI61 minerl.env.malmo.instance.42cbc8[24072] DEBUG         <ServerHandlers>\n"
     ]
    },
    {
     "name": "stdout",
     "output_type": "stream",
     "text": [
      "DEBUG:minerl.env.malmo.instance.42cbc8:            <DefaultWorldGenerator forceReset=\"true\"/>\n"
     ]
    },
    {
     "name": "stderr",
     "output_type": "stream",
     "text": [
      "2019-12-01 18:28:07 LAPTOP-SDM3TI61 minerl.env.malmo.instance.42cbc8[24072] DEBUG             <DefaultWorldGenerator forceReset=\"true\"/>\n"
     ]
    },
    {
     "name": "stdout",
     "output_type": "stream",
     "text": [
      "DEBUG:minerl.env.malmo.instance.42cbc8:            <ServerQuitFromTimeUp timeLimitMs=\"900000\" description=\"out_of_time\"/>\n"
     ]
    },
    {
     "name": "stderr",
     "output_type": "stream",
     "text": [
      "2019-12-01 18:28:07 LAPTOP-SDM3TI61 minerl.env.malmo.instance.42cbc8[24072] DEBUG             <ServerQuitFromTimeUp timeLimitMs=\"900000\" description=\"out_of_time\"/>\n"
     ]
    },
    {
     "name": "stdout",
     "output_type": "stream",
     "text": [
      "DEBUG:minerl.env.malmo.instance.42cbc8:            <ServerQuitWhenAnyAgentFinishes/>\n"
     ]
    },
    {
     "name": "stderr",
     "output_type": "stream",
     "text": [
      "2019-12-01 18:28:07 LAPTOP-SDM3TI61 minerl.env.malmo.instance.42cbc8[24072] DEBUG             <ServerQuitWhenAnyAgentFinishes/>\n"
     ]
    },
    {
     "name": "stdout",
     "output_type": "stream",
     "text": [
      "DEBUG:minerl.env.malmo.instance.42cbc8:        </ServerHandlers>\n"
     ]
    },
    {
     "name": "stderr",
     "output_type": "stream",
     "text": [
      "2019-12-01 18:28:07 LAPTOP-SDM3TI61 minerl.env.malmo.instance.42cbc8[24072] DEBUG         </ServerHandlers>\n"
     ]
    },
    {
     "name": "stdout",
     "output_type": "stream",
     "text": [
      "DEBUG:minerl.env.malmo.instance.42cbc8:    </ServerSection>\n"
     ]
    },
    {
     "name": "stderr",
     "output_type": "stream",
     "text": [
      "2019-12-01 18:28:07 LAPTOP-SDM3TI61 minerl.env.malmo.instance.42cbc8[24072] DEBUG     </ServerSection>\n"
     ]
    },
    {
     "name": "stdout",
     "output_type": "stream",
     "text": [
      "DEBUG:minerl.env.malmo.instance.42cbc8:\n"
     ]
    },
    {
     "name": "stderr",
     "output_type": "stream",
     "text": [
      "2019-12-01 18:28:07 LAPTOP-SDM3TI61 minerl.env.malmo.instance.42cbc8[24072] DEBUG \n"
     ]
    },
    {
     "name": "stdout",
     "output_type": "stream",
     "text": [
      "DEBUG:minerl.env.malmo.instance.42cbc8:    <AgentSection mode=\"Survival\">\n"
     ]
    },
    {
     "name": "stderr",
     "output_type": "stream",
     "text": [
      "2019-12-01 18:28:07 LAPTOP-SDM3TI61 minerl.env.malmo.instance.42cbc8[24072] DEBUG     <AgentSection mode=\"Survival\">\n"
     ]
    },
    {
     "name": "stdout",
     "output_type": "stream",
     "text": [
      "DEBUG:minerl.env.malmo.instance.42cbc8:        <Name>MalmoTutorialBot</Name>\n"
     ]
    },
    {
     "name": "stderr",
     "output_type": "stream",
     "text": [
      "2019-12-01 18:28:07 LAPTOP-SDM3TI61 minerl.env.malmo.instance.42cbc8[24072] DEBUG         <Name>MalmoTutorialBot</Name>\n"
     ]
    },
    {
     "name": "stdout",
     "output_type": "stream",
     "text": [
      "DEBUG:minerl.env.malmo.instance.42cbc8:        <AgentStart/>\n"
     ]
    },
    {
     "name": "stderr",
     "output_type": "stream",
     "text": [
      "2019-12-01 18:28:07 LAPTOP-SDM3TI61 minerl.env.malmo.instance.42cbc8[24072] DEBUG         <AgentStart/>\n"
     ]
    },
    {
     "name": "stdout",
     "output_type": "stream",
     "text": [
      "DEBUG:minerl.env.malmo.instance.42cbc8:        <AgentHandlers>\n"
     ]
    },
    {
     "name": "stderr",
     "output_type": "stream",
     "text": [
      "2019-12-01 18:28:07 LAPTOP-SDM3TI61 minerl.env.malmo.instance.42cbc8[24072] DEBUG         <AgentHandlers>\n"
     ]
    },
    {
     "name": "stdout",
     "output_type": "stream",
     "text": [
      "DEBUG:minerl.env.malmo.instance.42cbc8:            <!--  Observations     -->\n"
     ]
    },
    {
     "name": "stderr",
     "output_type": "stream",
     "text": [
      "2019-12-01 18:28:07 LAPTOP-SDM3TI61 minerl.env.malmo.instance.42cbc8[24072] DEBUG             <!--  Observations     -->\n"
     ]
    },
    {
     "name": "stdout",
     "output_type": "stream",
     "text": [
      "DEBUG:minerl.env.malmo.instance.42cbc8:            <VideoProducer want_depth=\"false\">\n"
     ]
    },
    {
     "name": "stderr",
     "output_type": "stream",
     "text": [
      "2019-12-01 18:28:07 LAPTOP-SDM3TI61 minerl.env.malmo.instance.42cbc8[24072] DEBUG             <VideoProducer want_depth=\"false\">\n"
     ]
    },
    {
     "name": "stdout",
     "output_type": "stream",
     "text": [
      "DEBUG:minerl.env.malmo.instance.42cbc8:\r\n"
     ]
    },
    {
     "name": "stderr",
     "output_type": "stream",
     "text": [
      "2019-12-01 18:28:07 LAPTOP-SDM3TI61 minerl.env.malmo.instance.42cbc8[24072] DEBUG \n"
     ]
    },
    {
     "name": "stdout",
     "output_type": "stream",
     "text": [
      "DEBUG:minerl.env.malmo.instance.42cbc8:[18:28:09] [EnvServerSocketHandler/INFO]: [STDOUT]: REPLYING WITH: MALMOOK\r\n"
     ]
    },
    {
     "name": "stderr",
     "output_type": "stream",
     "text": [
      "2019-12-01 18:28:09"
     ]
    },
    {
     "name": "stdout",
     "output_type": "stream",
     "text": [
      "DEBUG:minerl.env.core:Peeking the client.\n"
     ]
    },
    {
     "name": "stderr",
     "output_type": "stream",
     "text": [
      " LAPTOP-SDM3TI61 minerl.env.malmo.instance.42cbc8[24072] DEBUG [18:28:09] [EnvServerSocketHandler/INFO]: [STDOUT]: REPLYING WITH: MALMOOK\n",
      "2019-12-01 18:28:09 LAPTOP-SDM3TI61 minerl.env.core[24072] DEBUG Peeking the client.\n"
     ]
    },
    {
     "name": "stdout",
     "output_type": "stream",
     "text": [
      "DEBUG:minerl.env.malmo.instance.42cbc8:[18:28:09] [Client thread/INFO]: [STDOUT]: Mission received: MineRLObtainDiamond-v0\r\n"
     ]
    },
    {
     "name": "stderr",
     "output_type": "stream",
     "text": [
      "2019-12-01 18:28:09 LAPTOP-SDM3TI61 minerl.env.malmo.instance.42cbc8[24072] DEBUG [18:28:09] [Client thread/INFO]: [STDOUT]: Mission received: MineRLObtainDiamond-v0\n"
     ]
    },
    {
     "name": "stdout",
     "output_type": "stream",
     "text": [
      "DEBUG:minerl.env.malmo.instance.42cbc8:[18:28:09] [Client thread/INFO]: [STDOUT]: CLIENT request state: CREATING_HANDLERS\r\n"
     ]
    },
    {
     "name": "stderr",
     "output_type": "stream",
     "text": [
      "2019-12-01 18:28:09 LAPTOP-SDM3TI61 minerl.env.malmo.instance.42cbc8[24072] DEBUG [18:28:09] [Client thread/INFO]: [STDOUT]: CLIENT request state: CREATING_HANDLERS\n"
     ]
    },
    {
     "name": "stdout",
     "output_type": "stream",
     "text": [
      "DEBUG:minerl.env.malmo.instance.42cbc8:[18:28:09] [Client thread/INFO]: [STDOUT]: CLIENT enter state: CREATING_HANDLERS\r\n"
     ]
    },
    {
     "name": "stderr",
     "output_type": "stream",
     "text": [
      "2019-12-01 18:28:09 LAPTOP-SDM3TI61 minerl.env.malmo.instance.42cbc8[24072] DEBUG [18:28:09] [Client thread/INFO]: [STDOUT]: CLIENT enter state: CREATING_HANDLERS\n"
     ]
    },
    {
     "name": "stdout",
     "output_type": "stream",
     "text": [
      "DEBUG:minerl.env.malmo.instance.42cbc8:[18:28:09] [Client thread/INFO]: [STDOUT]: Starting command server.\r\n"
     ]
    },
    {
     "name": "stderr",
     "output_type": "stream",
     "text": [
      "2019-12-01 18:28:09 LAPTOP-SDM3TI61 minerl.env.malmo.instance.42cbc8[24072] DEBUG [18:28:09] [Client thread/INFO]: [STDOUT]: Starting command server.\n"
     ]
    },
    {
     "name": "stdout",
     "output_type": "stream",
     "text": [
      "DEBUG:minerl.env.malmo.instance.42cbc8:[18:28:09] [Thread-12/INFO]: [STDOUT]: INFO: ->com(0) Listening for messages on port 10305\r\n"
     ]
    },
    {
     "name": "stderr",
     "output_type": "stream",
     "text": [
      "2019-12-01 18:28:09 LAPTOP-SDM3TI61 minerl.env.malmo.instance.42cbc8[24072] DEBUG [18:28:09] [Thread-12/INFO]: [STDOUT]: INFO: ->com(0) Listening for messages on port 10305\n"
     ]
    },
    {
     "name": "stdout",
     "output_type": "stream",
     "text": [
      "DEBUG:minerl.env.malmo.instance.42cbc8:[18:28:10] [Client thread/INFO]: [STDOUT]: CLIENT request state: EVALUATING_WORLD_REQUIREMENTS\r\n"
     ]
    },
    {
     "name": "stderr",
     "output_type": "stream",
     "text": [
      "2019-12-01 18:28:10 LAPTOP-SDM3TI61 minerl.env.malmo.instance.42cbc8[24072] DEBUG [18:28:10] [Client thread/INFO]: [STDOUT]: CLIENT request state: EVALUATING_WORLD_REQUIREMENTS\n"
     ]
    },
    {
     "name": "stdout",
     "output_type": "stream",
     "text": [
      "DEBUG:minerl.env.malmo.instance.42cbc8:[18:28:10] [Client thread/INFO]: [STDOUT]: CLIENT enter state: EVALUATING_WORLD_REQUIREMENTS\r\n"
     ]
    },
    {
     "name": "stderr",
     "output_type": "stream",
     "text": [
      "2019-12-01 18:28:10 LAPTOP-SDM3TI61 minerl.env.malmo.instance.42cbc8[24072] DEBUG [18:28:10] [Client thread/INFO]: [STDOUT]: CLIENT enter state: EVALUATING_WORLD_REQUIREMENTS\n"
     ]
    },
    {
     "name": "stdout",
     "output_type": "stream",
     "text": [
      "DEBUG:minerl.env.malmo.instance.42cbc8:[18:28:10] [Client thread/INFO]: [STDOUT]: CLIENT request state: CREATING_NEW_WORLD\r\n"
     ]
    },
    {
     "name": "stderr",
     "output_type": "stream",
     "text": [
      "2019-12-01 18:28:10 LAPTOP-SDM3TI61 minerl.env.malmo.instance.42cbc8[24072] DEBUG [18:28:10] [Client thread/INFO]: [STDOUT]: CLIENT request state: CREATING_NEW_WORLD\n"
     ]
    },
    {
     "name": "stdout",
     "output_type": "stream",
     "text": [
      "DEBUG:minerl.env.malmo.instance.42cbc8:[18:28:10] [Client thread/INFO]: [STDOUT]: CLIENT enter state: CREATING_NEW_WORLD\r\n"
     ]
    },
    {
     "name": "stderr",
     "output_type": "stream",
     "text": [
      "2019-12-01 18:28:10 LAPTOP-SDM3TI61 minerl.env.malmo.instance.42cbc8[24072] DEBUG [18:28:10] [Client thread/INFO]: [STDOUT]: CLIENT enter state: CREATING_NEW_WORLD\n"
     ]
    },
    {
     "name": "stdout",
     "output_type": "stream",
     "text": [
      "DEBUG:minerl.env.malmo.instance.42cbc8:[18:28:11] [Server thread/INFO]: Starting integrated minecraft server version 1.11.2\r\n"
     ]
    },
    {
     "name": "stderr",
     "output_type": "stream",
     "text": [
      "2019-12-01 18:28:11 LAPTOP-SDM3TI61 minerl.env.malmo.instance.42cbc8[24072] DEBUG [18:28:11] [Server thread/INFO]: Starting integrated minecraft server version 1.11.2\n"
     ]
    },
    {
     "name": "stdout",
     "output_type": "stream",
     "text": [
      "DEBUG:minerl.env.malmo.instance.42cbc8:[18:28:11] [Server thread/INFO]: Generating keypair\r\n"
     ]
    },
    {
     "name": "stderr",
     "output_type": "stream",
     "text": [
      "2019-12-01 18:28:11 LAPTOP-SDM3TI61 minerl.env.malmo.instance.42cbc8[24072] DEBUG [18:28:11] [Server thread/INFO]: Generating keypair\n"
     ]
    },
    {
     "name": "stdout",
     "output_type": "stream",
     "text": [
      "DEBUG:minerl.env.malmo.instance.42cbc8:[18:28:11] [Server thread/INFO]: Injecting existing block and item data into this server instance\r\n"
     ]
    },
    {
     "name": "stderr",
     "output_type": "stream",
     "text": [
      "2019-12-01 18:28:11 LAPTOP-SDM3TI61 minerl.env.malmo.instance.42cbc8[24072] DEBUG [18:28:11] [Server thread/INFO]: Injecting existing block and item data into this server instance\n"
     ]
    },
    {
     "name": "stdout",
     "output_type": "stream",
     "text": [
      "DEBUG:minerl.env.malmo.instance.42cbc8:[18:28:11] [Server thread/INFO]: Applying holder lookups\r\n"
     ]
    },
    {
     "name": "stderr",
     "output_type": "stream",
     "text": [
      "2019-12-01 18:28:11 LAPTOP-SDM3TI61 minerl.env.malmo.instance.42cbc8[24072] DEBUG [18:28:11] [Server thread/INFO]: Applying holder lookups\n"
     ]
    },
    {
     "name": "stdout",
     "output_type": "stream",
     "text": [
      "DEBUG:minerl.env.malmo.instance.42cbc8:[18:28:11] [Server thread/INFO]: Holder lookups applied\r\n"
     ]
    },
    {
     "name": "stderr",
     "output_type": "stream",
     "text": [
      "2019-12-01 18:28:11 LAPTOP-SDM3TI61 minerl.env.malmo.instance.42cbc8[24072] DEBUG [18:28:11] [Server thread/INFO]: Holder lookups applied\n"
     ]
    },
    {
     "name": "stdout",
     "output_type": "stream",
     "text": [
      "DEBUG:minerl.env.malmo.instance.42cbc8:[18:28:11] [Server thread/INFO]: Loading dimension 0 (TEMP_0_3b4d2239-31cd-479f-9eb4-60f4a41a0b72) (net.minecraft.server.integrated.IntegratedServer@4719f8c)\r\n"
     ]
    },
    {
     "name": "stderr",
     "output_type": "stream",
     "text": [
      "2019-12-01 18:28:11 LAPTOP-SDM3TI61 minerl.env.malmo.instance.42cbc8[24072] DEBUG [18:28:11] [Server thread/INFO]: Loading dimension 0 (TEMP_0_3b4d2239-31cd-479f-9eb4-60f4a41a0b72) (net.minecraft.server.integrated.IntegratedServer@4719f8c)\n"
     ]
    },
    {
     "name": "stdout",
     "output_type": "stream",
     "text": [
      "DEBUG:minerl.env.malmo.instance.42cbc8:[18:28:12] [Server thread/INFO]: Loading dimension 1 (TEMP_0_3b4d2239-31cd-479f-9eb4-60f4a41a0b72) (net.minecraft.server.integrated.IntegratedServer@4719f8c)\r\n"
     ]
    },
    {
     "name": "stderr",
     "output_type": "stream",
     "text": [
      "2019-12-01 18:28:12 LAPTOP-SDM3TI61 minerl.env.malmo.instance.42cbc8[24072] DEBUG [18:28:12] [Server thread/INFO]: Loading dimension 1 (TEMP_0_3b4d2239-31cd-479f-9eb4-60f4a41a0b72) (net.minecraft.server.integrated.IntegratedServer@4719f8c)\n"
     ]
    },
    {
     "name": "stdout",
     "output_type": "stream",
     "text": [
      "DEBUG:minerl.env.malmo.instance.42cbc8:[18:28:12] [Server thread/INFO]: Loading dimension -1 (TEMP_0_3b4d2239-31cd-479f-9eb4-60f4a41a0b72) (net.minecraft.server.integrated.IntegratedServer@4719f8c)\r\n"
     ]
    },
    {
     "name": "stderr",
     "output_type": "stream",
     "text": [
      "2019-12-01 18:28:12 LAPTOP-SDM3TI61 minerl.env.malmo.instance.42cbc8[24072] DEBUG [18:28:12] [Server thread/INFO]: Loading dimension -1 (TEMP_0_3b4d2239-31cd-479f-9eb4-60f4a41a0b72) (net.minecraft.server.integrated.IntegratedServer@4719f8c)\n"
     ]
    },
    {
     "name": "stdout",
     "output_type": "stream",
     "text": [
      "DEBUG:minerl.env.malmo.instance.42cbc8:[18:28:12] [Server thread/INFO]: Preparing start region for level 0\r\n"
     ]
    },
    {
     "name": "stderr",
     "output_type": "stream",
     "text": [
      "2019-12-01 18:28:12 LAPTOP-SDM3TI61 minerl.env.malmo.instance.42cbc8[24072] DEBUG [18:28:12] [Server thread/INFO]: Preparing start region for level 0\n"
     ]
    },
    {
     "name": "stdout",
     "output_type": "stream",
     "text": [
      "DEBUG:minerl.env.malmo.instance.42cbc8:[18:28:13] [Server thread/INFO]: Preparing spawn area: 6%\r\n"
     ]
    },
    {
     "name": "stderr",
     "output_type": "stream",
     "text": [
      "2019-12-01 18:28:13 LAPTOP-SDM3TI61 minerl.env.malmo.instance.42cbc8[24072] DEBUG [18:28:13] [Server thread/INFO]: Preparing spawn area: 6%\n"
     ]
    },
    {
     "name": "stdout",
     "output_type": "stream",
     "text": [
      "DEBUG:minerl.env.malmo.instance.42cbc8:[18:28:14] [Server thread/INFO]: Preparing spawn area: 13%\r\n"
     ]
    },
    {
     "name": "stderr",
     "output_type": "stream",
     "text": [
      "2019-12-01 18:28:14 LAPTOP-SDM3TI61 minerl.env.malmo.instance.42cbc8[24072] DEBUG [18:28:14] [Server thread/INFO]: Preparing spawn area: 13%\n"
     ]
    },
    {
     "name": "stdout",
     "output_type": "stream",
     "text": [
      "DEBUG:minerl.env.malmo.instance.42cbc8:[18:28:15] [Realms Notification Availability checker #1/INFO]: Could not authorize you against Realms server: Invalid session id\r\n"
     ]
    },
    {
     "name": "stderr",
     "output_type": "stream",
     "text": [
      "2019-12-01 18:28:15 LAPTOP-SDM3TI61 minerl.env.malmo.instance.42cbc8[24072] DEBUG [18:28:15] [Realms Notification Availability checker #1/INFO]: Could not authorize you against Realms server: Invalid session id\n"
     ]
    },
    {
     "name": "stdout",
     "output_type": "stream",
     "text": [
      "DEBUG:minerl.env.malmo.instance.42cbc8:[18:28:15] [Server thread/INFO]: Preparing spawn area: 23%\r\n"
     ]
    },
    {
     "name": "stderr",
     "output_type": "stream",
     "text": [
      "2019-12-01 18:28:15 LAPTOP-SDM3TI61 minerl.env.malmo.instance.42cbc8[24072] DEBUG [18:28:15] [Server thread/INFO]: Preparing spawn area: 23%\n"
     ]
    },
    {
     "name": "stdout",
     "output_type": "stream",
     "text": [
      "DEBUG:minerl.env.malmo.instance.42cbc8:[18:28:16] [Server thread/INFO]: Preparing spawn area: 29%\r\n"
     ]
    },
    {
     "name": "stderr",
     "output_type": "stream",
     "text": [
      "2019-12-01 18:28:16 LAPTOP-SDM3TI61 minerl.env.malmo.instance.42cbc8[24072] DEBUG [18:28:16] [Server thread/INFO]: Preparing spawn area: 29%\n"
     ]
    },
    {
     "name": "stdout",
     "output_type": "stream",
     "text": [
      "DEBUG:minerl.env.malmo.instance.42cbc8:[18:28:17] [Server thread/INFO]: Preparing spawn area: 39%\r\n"
     ]
    },
    {
     "name": "stderr",
     "output_type": "stream",
     "text": [
      "2019-12-01 18:28:17 LAPTOP-SDM3TI61 minerl.env.malmo.instance.42cbc8[24072] DEBUG [18:28:17] [Server thread/INFO]: Preparing spawn area: 39%\n"
     ]
    },
    {
     "name": "stdout",
     "output_type": "stream",
     "text": [
      "DEBUG:minerl.env.malmo.instance.42cbc8:[18:28:18] [Server thread/INFO]: Preparing spawn area: 51%\r\n"
     ]
    },
    {
     "name": "stderr",
     "output_type": "stream",
     "text": [
      "2019-12-01 18:28:18 LAPTOP-SDM3TI61 minerl.env.malmo.instance.42cbc8[24072] DEBUG [18:28:18] [Server thread/INFO]: Preparing spawn area: 51%\n"
     ]
    },
    {
     "name": "stdout",
     "output_type": "stream",
     "text": [
      "DEBUG:minerl.env.malmo.instance.42cbc8:[18:28:19] [Server thread/INFO]: Preparing spawn area: 61%\r\n"
     ]
    },
    {
     "name": "stderr",
     "output_type": "stream",
     "text": [
      "2019-12-01 18:28:19 LAPTOP-SDM3TI61 minerl.env.malmo.instance.42cbc8[24072] DEBUG [18:28:19] [Server thread/INFO]: Preparing spawn area: 61%\n"
     ]
    },
    {
     "name": "stdout",
     "output_type": "stream",
     "text": [
      "DEBUG:minerl.env.malmo.instance.42cbc8:[18:28:20] [Server thread/INFO]: Preparing spawn area: 72%\r\n"
     ]
    },
    {
     "name": "stderr",
     "output_type": "stream",
     "text": [
      "2019-12-01 18:28:20 LAPTOP-SDM3TI61 minerl.env.malmo.instance.42cbc8[24072] DEBUG [18:28:20] [Server thread/INFO]: Preparing spawn area: 72%\n"
     ]
    },
    {
     "name": "stdout",
     "output_type": "stream",
     "text": [
      "DEBUG:minerl.env.malmo.instance.42cbc8:[18:28:21] [Server thread/INFO]: Preparing spawn area: 82%\r\n"
     ]
    },
    {
     "name": "stderr",
     "output_type": "stream",
     "text": [
      "2019-12-01 18:28:21 LAPTOP-SDM3TI61 minerl.env.malmo.instance.42cbc8[24072] DEBUG [18:28:21] [Server thread/INFO]: Preparing spawn area: 82%\n"
     ]
    },
    {
     "name": "stdout",
     "output_type": "stream",
     "text": [
      "DEBUG:minerl.env.malmo.instance.42cbc8:[18:28:22] [Server thread/INFO]: Preparing spawn area: 92%\r\n"
     ]
    },
    {
     "name": "stderr",
     "output_type": "stream",
     "text": [
      "2019-12-01 18:28:22 LAPTOP-SDM3TI61 minerl.env.malmo.instance.42cbc8[24072] DEBUG [18:28:22] [Server thread/INFO]: Preparing spawn area: 92%\n"
     ]
    },
    {
     "name": "stdout",
     "output_type": "stream",
     "text": [
      "DEBUG:minerl.env.malmo.instance.42cbc8:[18:28:23] [Server thread/INFO]: Changing view distance to 4, from 10\r\n"
     ]
    },
    {
     "name": "stderr",
     "output_type": "stream",
     "text": [
      "2019-12-01 18:28:23 LAPTOP-SDM3TI61 minerl.env.malmo.instance.42cbc8[24072] DEBUG [18:28:23] [Server thread/INFO]: Changing view distance to 4, from 10\n"
     ]
    },
    {
     "name": "stdout",
     "output_type": "stream",
     "text": [
      "DEBUG:minerl.env.malmo.instance.42cbc8:[18:28:27] [Server thread/INFO]: [STDOUT]: SERVER request state: WAITING_FOR_MOD_READY\r\n"
     ]
    },
    {
     "name": "stderr",
     "output_type": "stream",
     "text": [
      "2019-12-01 18:28:27 LAPTOP-SDM3TI61 minerl.env.malmo.instance.42cbc8[24072] DEBUG [18:28:27] [Server thread/INFO]: [STDOUT]: SERVER request state: WAITING_FOR_MOD_READY\n"
     ]
    },
    {
     "name": "stdout",
     "output_type": "stream",
     "text": [
      "DEBUG:minerl.env.malmo.instance.42cbc8:[18:28:27] [Server thread/INFO]: [STDOUT]: CLIENT request state: WAITING_FOR_SERVER_READY\r\n"
     ]
    },
    {
     "name": "stderr",
     "output_type": "stream",
     "text": [
      "2019-12-01 18:28:27 LAPTOP-SDM3TI61 minerl.env.malmo.instance.42cbc8[24072] DEBUG [18:28:27] [Server thread/INFO]: [STDOUT]: CLIENT request state: WAITING_FOR_SERVER_READY\n"
     ]
    },
    {
     "name": "stdout",
     "output_type": "stream",
     "text": [
      "DEBUG:minerl.env.malmo.instance.42cbc8:[18:28:27] [Client thread/INFO]: [STDOUT]: CLIENT enter state: WAITING_FOR_SERVER_READY\r\n"
     ]
    },
    {
     "name": "stderr",
     "output_type": "stream",
     "text": [
      "2019-12-01 18:28:27 LAPTOP-SDM3TI61 minerl.env.malmo.instance.42cbc8[24072] DEBUG [18:28:27] [Client thread/INFO]: [STDOUT]: CLIENT enter state: WAITING_FOR_SERVER_READY\n"
     ]
    },
    {
     "name": "stdout",
     "output_type": "stream",
     "text": [
      "DEBUG:minerl.env.malmo.instance.42cbc8:[18:28:27] [Server thread/INFO]: [STDOUT]: SERVER enter state: WAITING_FOR_MOD_READY\r\n"
     ]
    },
    {
     "name": "stderr",
     "output_type": "stream",
     "text": [
      "2019-12-01 18:28:27 LAPTOP-SDM3TI61 minerl.env.malmo.instance.42cbc8[24072] DEBUG [18:28:27] [Server thread/INFO]: [STDOUT]: SERVER enter state: WAITING_FOR_MOD_READY\n"
     ]
    },
    {
     "name": "stdout",
     "output_type": "stream",
     "text": [
      "DEBUG:minerl.env.malmo.instance.42cbc8:[18:28:28] [Netty Local Client IO #0/INFO]: [STDOUT]: Transformed Name: net.minecraft.client.entity.EntityOtherPlayerMP\r\n"
     ]
    },
    {
     "name": "stderr",
     "output_type": "stream",
     "text": [
      "2019-12-01 18:28:28 LAPTOP-SDM3TI61 minerl.env.malmo.instance.42cbc8[24072] DEBUG [18:28:28] [Netty Local Client IO #0/INFO]: [STDOUT]: Transformed Name: net.minecraft.client.entity.EntityOtherPlayerMP\n"
     ]
    },
    {
     "name": "stdout",
     "output_type": "stream",
     "text": [
      "DEBUG:minerl.env.malmo.instance.42cbc8:[18:28:28] [Netty Local Client IO #0/INFO]: [STDOUT]: MALMO: Attempting to transform MinecraftServer\r\n"
     ]
    },
    {
     "name": "stderr",
     "output_type": "stream",
     "text": [
      "2019-12-01 18:28:28 LAPTOP-SDM3TI61 minerl.env.malmo.instance.42cbc8[24072] DEBUG [18:28:28] [Netty Local Client IO #0/INFO]: [STDOUT]: MALMO: Attempting to transform MinecraftServer\n"
     ]
    },
    {
     "name": "stdout",
     "output_type": "stream",
     "text": [
      "DEBUG:minerl.env.malmo.instance.42cbc8:[18:28:28] [Netty Local Client IO #0/INFO]: [STDOUT]: MALMO: Found EntityOtherPlayerMP, attempting to transform it\r\n"
     ]
    },
    {
     "name": "stderr",
     "output_type": "stream",
     "text": [
      "2019-12-01 18:28:28 LAPTOP-SDM3TI61 minerl.env.malmo.instance.42cbc8[24072] DEBUG [18:28:28] [Netty Local Client IO #0/INFO]: [STDOUT]: MALMO: Found EntityOtherPlayerMP, attempting to transform it\n"
     ]
    },
    {
     "name": "stdout",
     "output_type": "stream",
     "text": [
      "DEBUG:minerl.env.malmo.instance.42cbc8:[18:28:28] [Server thread/INFO]: [STDOUT]: SERVER request state: DORMANT\r\n"
     ]
    },
    {
     "name": "stderr",
     "output_type": "stream",
     "text": [
      "2019-12-01 18:28:28 LAPTOP-SDM3TI61 minerl.env.malmo.instance.42cbc8[24072] DEBUG [18:28:28] [Server thread/INFO]: [STDOUT]: SERVER request state: DORMANT\n"
     ]
    },
    {
     "name": "stdout",
     "output_type": "stream",
     "text": [
      "DEBUG:minerl.env.malmo.instance.42cbc8:[18:28:28] [Server thread/INFO]: [STDOUT]: SERVER enter state: DORMANT\r\n"
     ]
    },
    {
     "name": "stderr",
     "output_type": "stream",
     "text": [
      "2019-12-01 18:28:28 LAPTOP-SDM3TI61 minerl.env.malmo.instance.42cbc8[24072] DEBUG [18:28:28] [Server thread/INFO]: [STDOUT]: SERVER enter state: DORMANT\n"
     ]
    },
    {
     "name": "stdout",
     "output_type": "stream",
     "text": [
      "DEBUG:minerl.env.malmo.instance.42cbc8:[18:28:28] [Server thread/INFO]: [STDOUT]: INCOMING MISSION: Received MissionInit directly through ServerStateMachine constructor.\r\n"
     ]
    },
    {
     "name": "stderr",
     "output_type": "stream",
     "text": [
      "2019-12-01 18:28:28 LAPTOP-SDM3TI61 minerl.env.malmo.instance.42cbc8[24072] DEBUG [18:28:28] [Server thread/INFO]: [STDOUT]: INCOMING MISSION: Received MissionInit directly through ServerStateMachine constructor.\n"
     ]
    },
    {
     "name": "stdout",
     "output_type": "stream",
     "text": [
      "DEBUG:minerl.env.malmo.instance.42cbc8:[18:28:28] [Server thread/INFO]: [STDOUT]: Mission received: MineRLObtainDiamond-v0\r\n"
     ]
    },
    {
     "name": "stderr",
     "output_type": "stream",
     "text": [
      "2019-12-01 18:28:28 LAPTOP-SDM3TI61 minerl.env.malmo.instance.42cbc8[24072] DEBUG [18:28:28] [Server thread/INFO]: [STDOUT]: Mission received: MineRLObtainDiamond-v0\n"
     ]
    },
    {
     "name": "stdout",
     "output_type": "stream",
     "text": [
      "DEBUG:minerl.env.malmo.instance.42cbc8:[18:28:28] [Server thread/INFO]: Received mission: §9MineRLObtainDiamond-v0\r\n"
     ]
    },
    {
     "name": "stderr",
     "output_type": "stream",
     "text": [
      "2019-12-01 18:28:28 LAPTOP-SDM3TI61 minerl.env.malmo.instance.42cbc8[24072] DEBUG [18:28:28] [Server thread/INFO]: Received mission: §9MineRLObtainDiamond-v0\n"
     ]
    },
    {
     "name": "stdout",
     "output_type": "stream",
     "text": [
      "DEBUG:minerl.env.malmo.instance.42cbc8:[18:28:28] [Server thread/INFO]: Source: §a127.0.0.1\r\n"
     ]
    },
    {
     "name": "stderr",
     "output_type": "stream",
     "text": [
      "2019-12-01 18:28:28 LAPTOP-SDM3TI61 minerl.env.malmo.instance.42cbc8[24072] DEBUG [18:28:28] [Server thread/INFO]: Source: §a127.0.0.1\n"
     ]
    },
    {
     "name": "stdout",
     "output_type": "stream",
     "text": [
      "DEBUG:minerl.env.malmo.instance.42cbc8:[18:28:28] [Server thread/INFO]: [STDOUT]: SERVER request state: BUILDING_WORLD\r\n"
     ]
    },
    {
     "name": "stderr",
     "output_type": "stream",
     "text": [
      "2019-12-01 18:28:28 LAPTOP-SDM3TI61 minerl.env.malmo.instance.42cbc8[24072] DEBUG [18:28:28] [Server thread/INFO]: [STDOUT]: SERVER request state: BUILDING_WORLD\n"
     ]
    },
    {
     "name": "stdout",
     "output_type": "stream",
     "text": [
      "DEBUG:minerl.env.malmo.instance.42cbc8:[18:28:28] [Server thread/INFO]: [STDOUT]: SERVER enter state: BUILDING_WORLD\r\n"
     ]
    },
    {
     "name": "stderr",
     "output_type": "stream",
     "text": [
      "2019-12-01 18:28:28 LAPTOP-SDM3TI61 minerl.env.malmo.instance.42cbc8[24072] DEBUG [18:28:28] [Server thread/INFO]: [STDOUT]: SERVER enter state: BUILDING_WORLD\n"
     ]
    },
    {
     "name": "stdout",
     "output_type": "stream",
     "text": [
      "DEBUG:minerl.env.malmo.instance.42cbc8:[18:28:28] [Server thread/INFO]: [STDOUT]: SERVER request state: WAITING_FOR_AGENTS_TO_ASSEMBLE\r\n"
     ]
    },
    {
     "name": "stderr",
     "output_type": "stream",
     "text": [
      "2019-12-01 18:28:28 LAPTOP-SDM3TI61 minerl.env.malmo.instance.42cbc8[24072] DEBUG [18:28:28] [Server thread/INFO]: [STDOUT]: SERVER request state: WAITING_FOR_AGENTS_TO_ASSEMBLE\n"
     ]
    },
    {
     "name": "stdout",
     "output_type": "stream",
     "text": [
      "DEBUG:minerl.env.malmo.instance.42cbc8:[18:28:28] [Server thread/INFO]: [STDOUT]: SERVER enter state: WAITING_FOR_AGENTS_TO_ASSEMBLE\r\n"
     ]
    },
    {
     "name": "stderr",
     "output_type": "stream",
     "text": [
      "2019-12-01 18:28:28 LAPTOP-SDM3TI61 minerl.env.malmo.instance.42cbc8[24072] DEBUG [18:28:28] [Server thread/INFO]: [STDOUT]: SERVER enter state: WAITING_FOR_AGENTS_TO_ASSEMBLE\n"
     ]
    },
    {
     "name": "stdout",
     "output_type": "stream",
     "text": [
      "DEBUG:minerl.env.malmo.instance.42cbc8:[18:28:28] [Server thread/INFO]: [STDOUT]: Experiment requires: \r\n"
     ]
    },
    {
     "name": "stderr",
     "output_type": "stream",
     "text": [
      "2019-12-01 18:28:28 LAPTOP-SDM3TI61 minerl.env.malmo.instance.42cbc8[24072] DEBUG [18:28:28] [Server thread/INFO]: [STDOUT]: Experiment requires: \n"
     ]
    },
    {
     "name": "stdout",
     "output_type": "stream",
     "text": [
      "DEBUG:minerl.env.malmo.instance.42cbc8:[18:28:28] [Server thread/INFO]: [STDOUT]: >>>> MalmoTutorialBot\r\n"
     ]
    },
    {
     "name": "stderr",
     "output_type": "stream",
     "text": [
      "2019-12-01 18:28:28 LAPTOP-SDM3TI61 minerl.env.malmo.instance.42cbc8[24072] DEBUG [18:28:28] [Server thread/INFO]: [STDOUT]: >>>> MalmoTutorialBot\n"
     ]
    },
    {
     "name": "stdout",
     "output_type": "stream",
     "text": [
      "DEBUG:minerl.env.malmo.instance.42cbc8:[18:28:28] [Netty Local Client IO #0/INFO]: Server protocol version 2\r\n"
     ]
    },
    {
     "name": "stderr",
     "output_type": "stream",
     "text": [
      "2019-12-01 18:28:28 LAPTOP-SDM3TI61 minerl.env.malmo.instance.42cbc8[24072] DEBUG [18:28:28] [Netty Local Client IO #0/INFO]: Server protocol version 2\n"
     ]
    },
    {
     "name": "stdout",
     "output_type": "stream",
     "text": [
      "DEBUG:minerl.env.malmo.instance.42cbc8:[18:28:28] [Netty Server IO #1/INFO]: Client protocol version 2\r\n"
     ]
    },
    {
     "name": "stderr",
     "output_type": "stream",
     "text": [
      "2019-12-01 18:28:28 LAPTOP-SDM3TI61 minerl.env.malmo.instance.42cbc8[24072] DEBUG [18:28:28] [Netty Server IO #1/INFO]: Client protocol version 2\n"
     ]
    },
    {
     "name": "stdout",
     "output_type": "stream",
     "text": [
      "DEBUG:minerl.env.malmo.instance.42cbc8:[18:28:28] [Netty Server IO #1/INFO]: Client attempting to join with 5 mods : minecraft@1.11.2,FML@8.0.99.99,malmomod@0.37.0,forge@13.20.0.2228,mcp@9.19\r\n"
     ]
    },
    {
     "name": "stderr",
     "output_type": "stream",
     "text": [
      "2019-12-01 18:28:28 LAPTOP-SDM3TI61 minerl.env.malmo.instance.42cbc8[24072] DEBUG [18:28:28] [Netty Server IO #1/INFO]: Client attempting to join with 5 mods : minecraft@1.11.2,FML@8.0.99.99,malmomod@0.37.0,forge@13.20.0.2228,mcp@9.19\n"
     ]
    },
    {
     "name": "stdout",
     "output_type": "stream",
     "text": [
      "DEBUG:minerl.env.malmo.instance.42cbc8:[18:28:28] [Netty Local Client IO #0/INFO]: [Netty Local Client IO #0] Client side modded connection established\r\n"
     ]
    },
    {
     "name": "stderr",
     "output_type": "stream",
     "text": [
      "2019-12-01 18:28:28 LAPTOP-SDM3TI61 minerl.env.malmo.instance.42cbc8[24072] DEBUG [18:28:28] [Netty Local Client IO #0/INFO]: [Netty Local Client IO #0] Client side modded connection established\n"
     ]
    },
    {
     "name": "stdout",
     "output_type": "stream",
     "text": [
      "DEBUG:minerl.env.malmo.instance.42cbc8:[18:28:28] [Server thread/INFO]: [Server thread] Server side modded connection established\r\n"
     ]
    },
    {
     "name": "stderr",
     "output_type": "stream",
     "text": [
      "2019-12-01 18:28:28 LAPTOP-SDM3TI61 minerl.env.malmo.instance.42cbc8[24072] DEBUG [18:28:28] [Server thread/INFO]: [Server thread] Server side modded connection established\n"
     ]
    },
    {
     "name": "stdout",
     "output_type": "stream",
     "text": [
      "DEBUG:minerl.env.malmo.instance.42cbc8:[18:28:28] [Server thread/INFO]: MalmoTutorialBot[local:E:857d3b42] logged in with entity id 1527 at (-20.5, 63.0, 213.5)\r\n"
     ]
    },
    {
     "name": "stderr",
     "output_type": "stream",
     "text": [
      "2019-12-01 18:28:28 LAPTOP-SDM3TI61 minerl.env.malmo.instance.42cbc8[24072] DEBUG [18:28:28] [Server thread/INFO]: MalmoTutorialBot[local:E:857d3b42] logged in with entity id 1527 at (-20.5, 63.0, 213.5)\n"
     ]
    },
    {
     "name": "stdout",
     "output_type": "stream",
     "text": [
      "DEBUG:minerl.env.malmo.instance.42cbc8:[18:28:28] [Server thread/INFO]: MalmoTutorialBot joined the game\r\n"
     ]
    },
    {
     "name": "stderr",
     "output_type": "stream",
     "text": [
      "2019-12-01 18:28:28 LAPTOP-SDM3TI61 minerl.env.malmo.instance.42cbc8[24072] DEBUG [18:28:28] [Server thread/INFO]: MalmoTutorialBot joined the game\n"
     ]
    },
    {
     "name": "stdout",
     "output_type": "stream",
     "text": [
      "DEBUG:minerl.env.malmo.instance.42cbc8:[18:28:29] [Client thread/INFO]: [STDOUT]: ***Telling server we are ready - MalmoTutorialBot\r\n"
     ]
    },
    {
     "name": "stderr",
     "output_type": "stream",
     "text": [
      "2019-12-01 18:28:29 LAPTOP-SDM3TI61 minerl.env.malmo.instance.42cbc8[24072] DEBUG [18:28:29] [Client thread/INFO]: [STDOUT]: ***Telling server we are ready - MalmoTutorialBot\n"
     ]
    },
    {
     "name": "stdout",
     "output_type": "stream",
     "text": [
      "DEBUG:minerl.env.malmo.instance.42cbc8:[18:28:30] [Client thread/INFO]: [STDOUT]: CLIENT request state: RUNNING\r\n"
     ]
    },
    {
     "name": "stderr",
     "output_type": "stream",
     "text": [
      "2019-12-01 18:28:30 LAPTOP-SDM3TI61 minerl.env.malmo.instance.42cbc8[24072] DEBUG [18:28:30] [Client thread/INFO]: [STDOUT]: CLIENT request state: RUNNING\n"
     ]
    },
    {
     "name": "stdout",
     "output_type": "stream",
     "text": [
      "DEBUG:minerl.env.malmo.instance.42cbc8:[18:28:30] [Client thread/INFO]: [STDOUT]: CLIENT enter state: RUNNING\r\n"
     ]
    },
    {
     "name": "stderr",
     "output_type": "stream",
     "text": [
      "2019-12-01 18:28:30 LAPTOP-SDM3TI61 minerl.env.malmo.instance.42cbc8[24072] DEBUG [18:28:30] [Client thread/INFO]: [STDOUT]: CLIENT enter state: RUNNING\n"
     ]
    },
    {
     "name": "stdout",
     "output_type": "stream",
     "text": [
      "DEBUG:minerl.env.malmo.instance.42cbc8:[18:28:30] [Server thread/INFO]: [STDOUT]: SERVER request state: RUNNING\r\n"
     ]
    },
    {
     "name": "stderr",
     "output_type": "stream",
     "text": [
      "2019-12-01 18:28:30 LAPTOP-SDM3TI61 minerl.env.malmo.instance.42cbc8[24072] DEBUG [18:28:30] [Server thread/INFO]: [STDOUT]: SERVER request state: RUNNING\n"
     ]
    },
    {
     "name": "stdout",
     "output_type": "stream",
     "text": [
      "DEBUG:minerl.env.malmo.instance.42cbc8:[18:28:30] [Server thread/INFO]: [STDOUT]: SERVER enter state: RUNNING\r\n"
     ]
    },
    {
     "name": "stderr",
     "output_type": "stream",
     "text": [
      "2019-12-01 18:28:30 LAPTOP-SDM3TI61 minerl.env.malmo.instance.42cbc8[24072] DEBUG [18:28:30] [Server thread/INFO]: [STDOUT]: SERVER enter state: RUNNING\n"
     ]
    },
    {
     "name": "stdout",
     "output_type": "stream",
     "text": [
      "DEBUG:minerl.env.malmo.instance.42cbc8:[18:28:30] [Client thread/INFO]: [STDOUT]: Resized the window\n"
     ]
    },
    {
     "name": "stderr",
     "output_type": "stream",
     "text": [
      "2019-12-01 18:28:30 LAPTOP-SDM3TI61 minerl.env.malmo.instance.42cbc8[24072] DEBUG [18:28:30] [Client thread/INFO]: [STDOUT]: Resized the window\n"
     ]
    },
    {
     "name": "stdout",
     "output_type": "stream",
     "text": [
      "DEBUG:minerl.env.malmo.instance.42cbc8:[18:28:30] [Client thread/INFO]: [STDOUT]: Unpausing\r\n"
     ]
    },
    {
     "name": "stderr",
     "output_type": "stream",
     "text": [
      "2019-12-01 18:28:30 LAPTOP-SDM3TI61 minerl.env.malmo.instance.42cbc8[24072] DEBUG [18:28:30] [Client thread/INFO]: [STDOUT]: Unpausing\n"
     ]
    },
    {
     "name": "stdout",
     "output_type": "stream",
     "text": [
      "DEBUG:minerl.env.malmo.instance.42cbc8:[18:28:30] [Client thread/INFO]: [CHAT] §l900...\r\n"
     ]
    },
    {
     "name": "stderr",
     "output_type": "stream",
     "text": [
      "2019-12-01 18:28:30 LAPTOP-SDM3TI61 minerl.env.malmo.instance.42cbc8[24072] DEBUG [18:28:30] [Client thread/INFO]: [CHAT] §l900...\n"
     ]
    },
    {
     "name": "stdout",
     "output_type": "stream",
     "text": [
      "step =  0\n",
      "DEBUG:minerl.env.malmo.instance.42cbc8:[18:28:31] [Netty Server IO #1/INFO]: [STDOUT]: Equip message recieved\n"
     ]
    },
    {
     "name": "stderr",
     "output_type": "stream",
     "text": [
      "2019-12-01 18:28:31 LAPTOP-SDM3TI61 minerl.env.malmo.instance.42cbc8[24072] DEBUG [18:28:31] [Netty Server IO #1/INFO]: [STDOUT]: Equip message recieved\n"
     ]
    },
    {
     "name": "stdout",
     "output_type": "stream",
     "text": [
      "DEBUG:minerl.env.malmo.instance.42cbc8:[18:28:31] [Netty Server IO #1/INFO]: [STDOUT]: got harbar 0\r\n"
     ]
    },
    {
     "name": "stderr",
     "output_type": "stream",
     "text": [
      "2019-12-01 18:28:31 LAPTOP-SDM3TI61 minerl.env.malmo.instance.42cbc8[24072] DEBUG [18:28:31] [Netty Server IO #1/INFO]: [STDOUT]: got harbar 0\n"
     ]
    },
    {
     "name": "stdout",
     "output_type": "stream",
     "text": [
      "DEBUG:minerl.env.malmo.instance.42cbc8:[18:28:31] [Netty Server IO #1/INFO]: [STDOUT]: got slot 0\r\n"
     ]
    },
    {
     "name": "stderr",
     "output_type": "stream",
     "text": [
      "2019-12-01 18:28:31 LAPTOP-SDM3TI61 minerl.env.malmo.instance.42cbc8[24072] DEBUG [18:28:31] [Netty Server IO #1/INFO]: [STDOUT]: got slot 0\n"
     ]
    },
    {
     "name": "stdout",
     "output_type": "stream",
     "text": [
      "0\n",
      "step =  1\n",
      "DEBUG:minerl.env.malmo.instance.42cbc8:[18:28:32] [Server thread/INFO]: [STDOUT]: Warning: managed 13/20 ticks this second.\n"
     ]
    },
    {
     "name": "stderr",
     "output_type": "stream",
     "text": [
      "2019-12-01 18:28:32 LAPTOP-SDM3TI61 minerl.env.malmo.instance.42cbc8[24072] DEBUG [18:28:32] [Server thread/INFO]: [STDOUT]: Warning: managed 13/20 ticks this second.\n"
     ]
    },
    {
     "name": "stdout",
     "output_type": "stream",
     "text": [
      "0\n",
      "step =  2\n",
      "DEBUG:minerl.env.malmo.instance.42cbc8:[18:28:32] [Netty Server IO #1/INFO]: [STDOUT]: Equip message recieved\n"
     ]
    },
    {
     "name": "stderr",
     "output_type": "stream",
     "text": [
      "2019-12-01 18:28:32 LAPTOP-SDM3TI61 minerl.env.malmo.instance.42cbc8[24072] DEBUG [18:28:32] [Netty Server IO #1/INFO]: [STDOUT]: Equip message recieved\n"
     ]
    },
    {
     "name": "stdout",
     "output_type": "stream",
     "text": [
      "DEBUG:minerl.env.malmo.instance.42cbc8:[18:28:32] [Netty Server IO #1/INFO]: [STDOUT]: got harbar 0\r\n"
     ]
    },
    {
     "name": "stderr",
     "output_type": "stream",
     "text": [
      "2019-12-01 18:28:32 LAPTOP-SDM3TI61 minerl.env.malmo.instance.42cbc8[24072] DEBUG [18:28:32] [Netty Server IO #1/INFO]: [STDOUT]: got harbar 0\n"
     ]
    },
    {
     "name": "stdout",
     "output_type": "stream",
     "text": [
      "DEBUG:minerl.env.malmo.instance.42cbc8:[18:28:32] [Netty Server IO #1/INFO]: [STDOUT]: got slot 0\r\n"
     ]
    },
    {
     "name": "stderr",
     "output_type": "stream",
     "text": [
      "2019-12-01 18:28:32 "
     ]
    },
    {
     "name": "stdout",
     "output_type": "stream",
     "text": [
      "0"
     ]
    },
    {
     "name": "stderr",
     "output_type": "stream",
     "text": [
      "LAPTOP-SDM3TI61"
     ]
    },
    {
     "name": "stdout",
     "output_type": "stream",
     "text": [
      "\n"
     ]
    },
    {
     "name": "stderr",
     "output_type": "stream",
     "text": [
      " minerl.env.malmo.instance.42cbc8[24072] DEBUG [18:28:32] [Netty Server IO #1/INFO]: [STDOUT]: got slot 0\r"
     ]
    },
    {
     "name": "stdout",
     "output_type": "stream",
     "text": [
      "step =  "
     ]
    },
    {
     "name": "stderr",
     "output_type": "stream",
     "text": [
      "\n"
     ]
    },
    {
     "name": "stdout",
     "output_type": "stream",
     "text": [
      "3\n",
      "DEBUG:minerl.env.malmo.instance.42cbc8:[18:28:32] [Netty Server IO #1/INFO]: [STDOUT]: Equip message recieved\n"
     ]
    },
    {
     "name": "stderr",
     "output_type": "stream",
     "text": [
      "2019-12-01 18:28:32 LAPTOP-SDM3TI61 minerl.env.malmo.instance.42cbc8[24072] DEBUG [18:28:32] [Netty Server IO #1/INFO]: [STDOUT]: Equip message recieved\n"
     ]
    },
    {
     "name": "stdout",
     "output_type": "stream",
     "text": [
      "DEBUG:minerl.env.malmo.instance.42cbc8:[18:28:32] [Netty Server IO #1/INFO]: [STDOUT]: got harbar 0\r\n"
     ]
    },
    {
     "name": "stderr",
     "output_type": "stream",
     "text": [
      "2019-12-01 18:28:32 LAPTOP-SDM3TI61 minerl.env.malmo.instance.42cbc8[24072] DEBUG [18:28:32] [Netty Server IO #1/INFO]: [STDOUT]: got harbar 0\n"
     ]
    },
    {
     "name": "stdout",
     "output_type": "stream",
     "text": [
      "DEBUG:minerl.env.malmo.instance.42cbc8:[18:28:32] [Netty Server IO #1/INFO]: [STDOUT]: got slot 0\r\n"
     ]
    },
    {
     "name": "stderr",
     "output_type": "stream",
     "text": [
      "2019-12-01 18:28:32 LAPTOP-SDM3TI61 minerl.env.malmo.instance.42cbc8[24072]"
     ]
    },
    {
     "name": "stdout",
     "output_type": "stream",
     "text": [
      "0"
     ]
    },
    {
     "name": "stderr",
     "output_type": "stream",
     "text": [
      " "
     ]
    },
    {
     "name": "stdout",
     "output_type": "stream",
     "text": [
      "\n"
     ]
    },
    {
     "name": "stderr",
     "output_type": "stream",
     "text": [
      "DEBUG [18:28:32] [Netty Server IO #1/INFO]: [STDOUT]: got slot 0\n"
     ]
    },
    {
     "name": "stdout",
     "output_type": "stream",
     "text": [
      "step =  4\n",
      "0\n",
      "step =  5\n",
      "DEBUG:minerl.env.malmo.instance.42cbc8:[18:28:32] [Netty Server IO #1/INFO]: [STDOUT]: Equip message recieved\n"
     ]
    },
    {
     "name": "stderr",
     "output_type": "stream",
     "text": [
      "2019-12-01 18:28:32 LAPTOP-SDM3TI61 minerl.env.malmo.instance.42cbc8[24072] DEBUG [18:28:32] [Netty Server IO #1/INFO]: [STDOUT]: Equip message recieved\n"
     ]
    },
    {
     "name": "stdout",
     "output_type": "stream",
     "text": [
      "DEBUG:minerl.env.malmo.instance.42cbc8:[18:28:32] [Netty Server IO #1/INFO]: [STDOUT]: got harbar 0\r\n"
     ]
    },
    {
     "name": "stderr",
     "output_type": "stream",
     "text": [
      "2019-12-01 18:28:32 LAPTOP-SDM3TI61 minerl.env.malmo.instance.42cbc8[24072] DEBUG [18:28:32] [Netty Server IO #1/INFO]: [STDOUT]: got harbar 0\n"
     ]
    },
    {
     "name": "stdout",
     "output_type": "stream",
     "text": [
      "DEBUG:minerl.env.malmo.instance.42cbc8:[18:28:32] [Netty Server IO #1/INFO]: [STDOUT]: got slot 0\r\n"
     ]
    },
    {
     "name": "stderr",
     "output_type": "stream",
     "text": [
      "2019-12-01 18:28:32 "
     ]
    },
    {
     "name": "stdout",
     "output_type": "stream",
     "text": [
      "0"
     ]
    },
    {
     "name": "stderr",
     "output_type": "stream",
     "text": [
      "LAPTOP-SDM3TI61"
     ]
    },
    {
     "name": "stdout",
     "output_type": "stream",
     "text": [
      "\n"
     ]
    },
    {
     "name": "stderr",
     "output_type": "stream",
     "text": [
      " minerl.env.malmo.instance.42cbc8[24072] DEBUG [18:28:32] [Netty Server IO #1/INFO]: [STDOUT]: got slot 0\r"
     ]
    },
    {
     "name": "stdout",
     "output_type": "stream",
     "text": [
      "step = "
     ]
    },
    {
     "name": "stderr",
     "output_type": "stream",
     "text": [
      "\n"
     ]
    },
    {
     "name": "stdout",
     "output_type": "stream",
     "text": [
      " 6\n",
      "DEBUG:minerl.env.malmo.instance.42cbc8:[18:28:32] [Netty Server IO #1/INFO]: [STDOUT]: Equip message recieved\n"
     ]
    },
    {
     "name": "stderr",
     "output_type": "stream",
     "text": [
      "2019-12-01 18:28:32 LAPTOP-SDM3TI61 minerl.env.malmo.instance.42cbc8[24072] DEBUG [18:28:32] [Netty Server IO #1/INFO]: [STDOUT]: Equip message recieved\n"
     ]
    },
    {
     "name": "stdout",
     "output_type": "stream",
     "text": [
      "DEBUG:minerl.env.malmo.instance.42cbc8:[18:28:32] [Netty Server IO #1/INFO]: [STDOUT]: got harbar 0\r\n"
     ]
    },
    {
     "name": "stderr",
     "output_type": "stream",
     "text": [
      "2019-12-01 18:28:32 LAPTOP-SDM3TI61 minerl.env.malmo.instance.42cbc8[24072] DEBUG [18:28:32] [Netty Server IO #1/INFO]: [STDOUT]: got harbar 0\n"
     ]
    },
    {
     "name": "stdout",
     "output_type": "stream",
     "text": [
      "DEBUG:minerl.env.malmo.instance.42cbc8:[18:28:32] [Netty Server IO #1/INFO]: [STDOUT]: got slot 0\r\n"
     ]
    },
    {
     "name": "stderr",
     "output_type": "stream",
     "text": [
      "2019-12-01 18:28:32 LAPTOP-SDM3TI61 minerl.env.malmo.instance.42cbc8[24072] DEBUG [18:28:32] [Netty Server IO #1/INFO]: [STDOUT]: got slot 0\n"
     ]
    },
    {
     "name": "stdout",
     "output_type": "stream",
     "text": [
      "0\n",
      "step =  7\n",
      "DEBUG:minerl.env.malmo.instance.42cbc8:[18:28:32] [Netty Server IO #1/INFO]: [STDOUT]: Equip message recieved\n"
     ]
    },
    {
     "name": "stderr",
     "output_type": "stream",
     "text": [
      "2019-12-01 18:28:32 LAPTOP-SDM3TI61 minerl.env.malmo.instance.42cbc8[24072] DEBUG [18:28:32] [Netty Server IO #1/INFO]: [STDOUT]: Equip message recieved\n"
     ]
    },
    {
     "name": "stdout",
     "output_type": "stream",
     "text": [
      "DEBUG:minerl.env.malmo.instance.42cbc8:[18:28:32] [Netty Server IO #1/INFO]: [STDOUT]: got harbar 0\r\n"
     ]
    },
    {
     "name": "stderr",
     "output_type": "stream",
     "text": [
      "2019-12-01 18:28:32 LAPTOP-SDM3TI61 minerl.env.malmo.instance.42cbc8[24072] DEBUG [18:28:32] [Netty Server IO #1/INFO]: [STDOUT]: got harbar 0\n"
     ]
    },
    {
     "name": "stdout",
     "output_type": "stream",
     "text": [
      "DEBUG:minerl.env.malmo.instance.42cbc8:[18:28:32] [Netty Server IO #1/INFO]: [STDOUT]: got slot 0\r\n"
     ]
    },
    {
     "name": "stderr",
     "output_type": "stream",
     "text": [
      "2019-12-01 18:28:32 LAPTOP-SDM3TI61 minerl.env.malmo.instance.42cbc8[24072] DEBUG [18:28:32] [Netty Server IO #1/INFO]: [STDOUT]: got slot 0\r"
     ]
    },
    {
     "name": "stdout",
     "output_type": "stream",
     "text": [
      "0"
     ]
    },
    {
     "name": "stderr",
     "output_type": "stream",
     "text": [
      "\n"
     ]
    },
    {
     "name": "stdout",
     "output_type": "stream",
     "text": [
      "\n",
      "step =  8\n",
      "0DEBUG:minerl.env.malmo.instance.42cbc8:[18:28:32] [Client thread/INFO]: [CHAT] §l899...\n"
     ]
    },
    {
     "name": "stderr",
     "output_type": "stream",
     "text": [
      "2019-12-01 18:28:32"
     ]
    },
    {
     "name": "stdout",
     "output_type": "stream",
     "text": [
      "\n"
     ]
    },
    {
     "name": "stderr",
     "output_type": "stream",
     "text": [
      " LAPTOP-SDM3TI61"
     ]
    },
    {
     "name": "stdout",
     "output_type": "stream",
     "text": [
      "step = "
     ]
    },
    {
     "name": "stderr",
     "output_type": "stream",
     "text": [
      " "
     ]
    },
    {
     "name": "stdout",
     "output_type": "stream",
     "text": [
      " "
     ]
    },
    {
     "name": "stderr",
     "output_type": "stream",
     "text": [
      "minerl.env.malmo.instance.42cbc8[24072]"
     ]
    },
    {
     "name": "stdout",
     "output_type": "stream",
     "text": [
      "9"
     ]
    },
    {
     "name": "stderr",
     "output_type": "stream",
     "text": [
      " "
     ]
    },
    {
     "name": "stdout",
     "output_type": "stream",
     "text": [
      "\n"
     ]
    },
    {
     "name": "stderr",
     "output_type": "stream",
     "text": [
      "DEBUG [18:28:32] [Client thread/INFO]: [CHAT] §l899...\n"
     ]
    },
    {
     "name": "stdout",
     "output_type": "stream",
     "text": [
      "0\n",
      "step =  10\n",
      "0\n",
      "step =  11\n",
      "0\n",
      "step =  12\n",
      "DEBUG:minerl.env.malmo.instance.42cbc8:[18:28:32] [Netty Server IO #1/INFO]: [STDOUT]: Equip message recieved\n"
     ]
    },
    {
     "name": "stderr",
     "output_type": "stream",
     "text": [
      "2019-12-01 18:28:32 LAPTOP-SDM3TI61 minerl.env.malmo.instance.42cbc8[24072] DEBUG [18:28:32] [Netty Server IO #1/INFO]: [STDOUT]: Equip message recieved\n"
     ]
    },
    {
     "name": "stdout",
     "output_type": "stream",
     "text": [
      "DEBUG:minerl.env.malmo.instance.42cbc8:[18:28:32] [Netty Server IO #1/INFO]: [STDOUT]: got harbar 0\r\n"
     ]
    },
    {
     "name": "stderr",
     "output_type": "stream",
     "text": [
      "2019-12-01 18:28:32 LAPTOP-SDM3TI61 minerl.env.malmo.instance.42cbc8[24072] DEBUG [18:28:32] [Netty Server IO #1/INFO]: [STDOUT]: got harbar 0\n"
     ]
    },
    {
     "name": "stdout",
     "output_type": "stream",
     "text": [
      "DEBUG:minerl.env.malmo.instance.42cbc8:[18:28:32] [Netty Server IO #1/INFO]: [STDOUT]: got slot 0\r\n"
     ]
    },
    {
     "name": "stderr",
     "output_type": "stream",
     "text": [
      "2019-12-01 18:28:33 LAPTOP-SDM3TI61"
     ]
    },
    {
     "name": "stdout",
     "output_type": "stream",
     "text": [
      "0"
     ]
    },
    {
     "name": "stderr",
     "output_type": "stream",
     "text": [
      " "
     ]
    },
    {
     "name": "stdout",
     "output_type": "stream",
     "text": [
      "\n"
     ]
    },
    {
     "name": "stderr",
     "output_type": "stream",
     "text": [
      "minerl.env.malmo.instance.42cbc8[24072] DEBUG "
     ]
    },
    {
     "name": "stdout",
     "output_type": "stream",
     "text": [
      "step = "
     ]
    },
    {
     "name": "stderr",
     "output_type": "stream",
     "text": [
      "[18:28:32] [Netty Server IO #1/INFO]: [STDOUT]: got slot 0\r"
     ]
    },
    {
     "name": "stdout",
     "output_type": "stream",
     "text": [
      " "
     ]
    },
    {
     "name": "stderr",
     "output_type": "stream",
     "text": [
      "\n"
     ]
    },
    {
     "name": "stdout",
     "output_type": "stream",
     "text": [
      "13\n",
      "0\n",
      "step =  14\n",
      "0\n",
      "step =  15\n",
      "DEBUG:minerl.env.malmo.instance.42cbc8:[18:28:33] [Netty Server IO #1/INFO]: [STDOUT]: Equip message recieved\n"
     ]
    },
    {
     "name": "stderr",
     "output_type": "stream",
     "text": [
      "2019-12-01 18:28:33 LAPTOP-SDM3TI61 minerl.env.malmo.instance.42cbc8[24072] DEBUG [18:28:33] [Netty Server IO #1/INFO]: [STDOUT]: Equip message recieved\n"
     ]
    },
    {
     "name": "stdout",
     "output_type": "stream",
     "text": [
      "DEBUG:minerl.env.malmo.instance.42cbc8:[18:28:33] [Netty Server IO #1/INFO]: [STDOUT]: got harbar 0\r\n"
     ]
    },
    {
     "name": "stderr",
     "output_type": "stream",
     "text": [
      "2019-12-01 18:28:33 LAPTOP-SDM3TI61 minerl.env.malmo.instance.42cbc8[24072] DEBUG [18:28:33] [Netty Server IO #1/INFO]: [STDOUT]: got harbar 0\n"
     ]
    },
    {
     "name": "stdout",
     "output_type": "stream",
     "text": [
      "DEBUG:minerl.env.malmo.instance.42cbc8:[18:28:33] [Netty Server IO #1/INFO]: [STDOUT]: got slot 0\r\n"
     ]
    },
    {
     "name": "stderr",
     "output_type": "stream",
     "text": [
      "2019-12-01 18:28:33 LAPTOP-SDM3TI61 minerl.env.malmo.instance.42cbc8[24072] DEBUG [18:28:33] [Netty Server IO #1/INFO]: [STDOUT]: got slot 0\r"
     ]
    },
    {
     "name": "stdout",
     "output_type": "stream",
     "text": [
      "0"
     ]
    },
    {
     "name": "stderr",
     "output_type": "stream",
     "text": [
      "\n"
     ]
    },
    {
     "name": "stdout",
     "output_type": "stream",
     "text": [
      "\n",
      "step =  16\n",
      "0\n",
      "step =  17\n",
      "DEBUG:minerl.env.malmo.instance.42cbc8:[18:28:33] [Netty Server IO #1/INFO]: [STDOUT]: Equip message recieved\n"
     ]
    },
    {
     "name": "stderr",
     "output_type": "stream",
     "text": [
      "2019-12-01 18:28:33 LAPTOP-SDM3TI61 minerl.env.malmo.instance.42cbc8[24072] DEBUG [18:28:33] [Netty Server IO #1/INFO]: [STDOUT]: Equip message recieved\n"
     ]
    },
    {
     "name": "stdout",
     "output_type": "stream",
     "text": [
      "DEBUG:minerl.env.malmo.instance.42cbc8:[18:28:33] [Netty Server IO #1/INFO]: [STDOUT]: got harbar 0\r\n"
     ]
    },
    {
     "name": "stderr",
     "output_type": "stream",
     "text": [
      "2019-12-01 18:28:33 LAPTOP-SDM3TI61 minerl.env.malmo.instance.42cbc8[24072] DEBUG "
     ]
    },
    {
     "name": "stdout",
     "output_type": "stream",
     "text": [
      "0"
     ]
    },
    {
     "name": "stderr",
     "output_type": "stream",
     "text": [
      "[18:28:33] [Netty Server IO #1/INFO]: [STDOUT]: got harbar 0\r"
     ]
    },
    {
     "name": "stdout",
     "output_type": "stream",
     "text": [
      "\n"
     ]
    },
    {
     "name": "stderr",
     "output_type": "stream",
     "text": [
      "\n"
     ]
    },
    {
     "name": "stdout",
     "output_type": "stream",
     "text": [
      "DEBUG:minerl.env.malmo.instance.42cbc8:[18:28:33] [Netty Server IO #1/INFO]: [STDOUT]: got slot 0\r\n"
     ]
    },
    {
     "name": "stderr",
     "output_type": "stream",
     "text": [
      "2019-12-01 18:28:33 "
     ]
    },
    {
     "name": "stdout",
     "output_type": "stream",
     "text": [
      "step =  "
     ]
    },
    {
     "name": "stderr",
     "output_type": "stream",
     "text": [
      "LAPTOP-SDM3TI61 "
     ]
    },
    {
     "name": "stdout",
     "output_type": "stream",
     "text": [
      "18"
     ]
    },
    {
     "name": "stderr",
     "output_type": "stream",
     "text": [
      "minerl.env.malmo.instance.42cbc8[24072]"
     ]
    },
    {
     "name": "stdout",
     "output_type": "stream",
     "text": [
      "\n"
     ]
    },
    {
     "name": "stderr",
     "output_type": "stream",
     "text": [
      " DEBUG [18:28:33] [Netty Server IO #1/INFO]: [STDOUT]: got slot 0\n"
     ]
    },
    {
     "name": "stdout",
     "output_type": "stream",
     "text": [
      "0.1\n",
      "step =  19\n",
      "DEBUG:minerl.env.malmo.instance.42cbc8:[18:28:33] [Server thread/INFO]: [STDOUT]: Warning: managed 18/20 ticks this second.\n"
     ]
    },
    {
     "name": "stderr",
     "output_type": "stream",
     "text": [
      "2019-12-01 18:28:33 LAPTOP-SDM3TI61 minerl.env.malmo.instance.42cbc8[24072] DEBUG [18:28:33] [Server thread/INFO]: [STDOUT]: Warning: managed 18/20 ticks this second.\n"
     ]
    },
    {
     "name": "stdout",
     "output_type": "stream",
     "text": [
      "0.1\n",
      "step =  20\n",
      "0.1\n",
      "step =  21\n",
      "0.30000000000000004\n",
      "step =  22\n",
      "0.30000000000000004\n",
      "step =  23\n",
      "0.30000000000000004\n",
      "step =  24\n",
      "DEBUG:minerl.env.malmo.instance.42cbc8:[18:28:33] [Netty Server IO #1/INFO]: [STDOUT]: Equip message recieved\n"
     ]
    },
    {
     "name": "stderr",
     "output_type": "stream",
     "text": [
      "2019-12-01 18:28:33 LAPTOP-SDM3TI61 minerl.env.malmo.instance.42cbc8[24072] DEBUG [18:28:33] [Netty Server IO #1/INFO]: [STDOUT]: Equip message recieved\n"
     ]
    },
    {
     "name": "stdout",
     "output_type": "stream",
     "text": [
      "DEBUG:minerl.env.malmo.instance.42cbc8:[18:28:33] [Netty Server IO #1/INFO]: [STDOUT]: got harbar 0\r\n"
     ]
    },
    {
     "name": "stderr",
     "output_type": "stream",
     "text": [
      "2019-12-01 18:28:33 LAPTOP-SDM3TI61 "
     ]
    },
    {
     "name": "stdout",
     "output_type": "stream",
     "text": [
      "0.30000000000000004"
     ]
    },
    {
     "name": "stderr",
     "output_type": "stream",
     "text": [
      "minerl.env.malmo.instance.42cbc8[24072]"
     ]
    },
    {
     "name": "stdout",
     "output_type": "stream",
     "text": [
      "\n"
     ]
    },
    {
     "name": "stderr",
     "output_type": "stream",
     "text": [
      " DEBUG [18:28:33] [Netty Server IO #1/INFO]: [STDOUT]: got harbar 0\n"
     ]
    },
    {
     "name": "stdout",
     "output_type": "stream",
     "text": [
      "step =  DEBUG:minerl.env.malmo.instance.42cbc8:[18:28:33] [Netty Server IO #1/INFO]: [STDOUT]: got slot 0\n"
     ]
    },
    {
     "name": "stderr",
     "output_type": "stream",
     "text": [
      "2019-12-01 18:28:33"
     ]
    },
    {
     "name": "stdout",
     "output_type": "stream",
     "text": [
      "25"
     ]
    },
    {
     "name": "stderr",
     "output_type": "stream",
     "text": [
      " "
     ]
    },
    {
     "name": "stdout",
     "output_type": "stream",
     "text": [
      "\n"
     ]
    },
    {
     "name": "stderr",
     "output_type": "stream",
     "text": [
      "LAPTOP-SDM3TI61 minerl.env.malmo.instance.42cbc8[24072] DEBUG [18:28:33] [Netty Server IO #1/INFO]: [STDOUT]: got slot 0\n"
     ]
    },
    {
     "name": "stdout",
     "output_type": "stream",
     "text": [
      "0.30000000000000004\n",
      "step =  26\n",
      "DEBUG:minerl.env.malmo.instance.42cbc8:[18:28:33] [Netty Server IO #1/INFO]: [STDOUT]: Equip message recieved\n"
     ]
    },
    {
     "name": "stderr",
     "output_type": "stream",
     "text": [
      "2019-12-01 18:28:33 LAPTOP-SDM3TI61 minerl.env.malmo.instance.42cbc8[24072] DEBUG [18:28:33] [Netty Server IO #1/INFO]: [STDOUT]: Equip message recieved\n"
     ]
    },
    {
     "name": "stdout",
     "output_type": "stream",
     "text": [
      "DEBUG:minerl.env.malmo.instance.42cbc8:[18:28:33] [Netty Server IO #1/INFO]: [STDOUT]: got harbar 0\r\n"
     ]
    },
    {
     "name": "stderr",
     "output_type": "stream",
     "text": [
      "2019-12-01 18:28:33 LAPTOP-SDM3TI61 minerl.env.malmo.instance.42cbc8[24072] DEBUG [18:28:33] [Netty Server IO #1/INFO]: [STDOUT]: got harbar 0\n"
     ]
    },
    {
     "name": "stdout",
     "output_type": "stream",
     "text": [
      "DEBUG:minerl.env.malmo.instance.42cbc8:[18:28:33] [Netty Server IO #1/INFO]: [STDOUT]: got slot 0\r\n"
     ]
    },
    {
     "name": "stderr",
     "output_type": "stream",
     "text": [
      "2019-12-01 18:28:33 LAPTOP-SDM3TI61 minerl.env.malmo.instance.42cbc8[24072] DEBUG [18:28:33] [Netty Server IO #1/INFO]: [STDOUT]: got slot 0\n"
     ]
    },
    {
     "name": "stdout",
     "output_type": "stream",
     "text": [
      "0.30000000000000004\n",
      "step =  27\n",
      "0.30000000000000004\n",
      "step =  28\n",
      "0.5DEBUG:minerl.env.malmo.instance.42cbc8:[18:28:33] [Client thread/INFO]: [CHAT] §l898...\n"
     ]
    },
    {
     "name": "stderr",
     "output_type": "stream",
     "text": [
      "2019-12-01 18:28:33"
     ]
    },
    {
     "name": "stdout",
     "output_type": "stream",
     "text": [
      "\n"
     ]
    },
    {
     "name": "stderr",
     "output_type": "stream",
     "text": [
      " LAPTOP-SDM3TI61 minerl.env.malmo.instance.42cbc8[24072] "
     ]
    },
    {
     "name": "stdout",
     "output_type": "stream",
     "text": [
      "step = "
     ]
    },
    {
     "name": "stderr",
     "output_type": "stream",
     "text": [
      "DEBUG "
     ]
    },
    {
     "name": "stdout",
     "output_type": "stream",
     "text": [
      " "
     ]
    },
    {
     "name": "stderr",
     "output_type": "stream",
     "text": [
      "[18:28:33] [Client thread/INFO]: [CHAT] §l898...\r"
     ]
    },
    {
     "name": "stdout",
     "output_type": "stream",
     "text": [
      "29"
     ]
    },
    {
     "name": "stderr",
     "output_type": "stream",
     "text": [
      "\n"
     ]
    },
    {
     "name": "stdout",
     "output_type": "stream",
     "text": [
      "\n",
      "0.5\n",
      "step =  30\n",
      "DEBUG:minerl.env.malmo.instance.42cbc8:[18:28:33] [Netty Server IO #1/INFO]: [STDOUT]: Equip message recieved\n"
     ]
    },
    {
     "name": "stderr",
     "output_type": "stream",
     "text": [
      "2019-12-01 18:28:33 LAPTOP-SDM3TI61 minerl.env.malmo.instance.42cbc8[24072] DEBUG [18:28:33] [Netty Server IO #1/INFO]: [STDOUT]: Equip message recieved\n"
     ]
    },
    {
     "name": "stdout",
     "output_type": "stream",
     "text": [
      "DEBUG:minerl.env.malmo.instance.42cbc8:[18:28:33] [Netty Server IO #1/INFO]: [STDOUT]: got harbar 0\r\n"
     ]
    },
    {
     "name": "stderr",
     "output_type": "stream",
     "text": [
      "2019-12-01 18:28:33 LAPTOP-SDM3TI61 minerl.env.malmo.instance.42cbc8[24072] DEBUG [18:28:33] [Netty Server IO #1/INFO]: [STDOUT]: got harbar 0\n"
     ]
    },
    {
     "name": "stdout",
     "output_type": "stream",
     "text": [
      "DEBUG:minerl.env.malmo.instance.42cbc8:[18:28:33] [Netty Server IO #1/INFO]: [STDOUT]: got slot 0\r\n"
     ]
    },
    {
     "name": "stderr",
     "output_type": "stream",
     "text": [
      "2019-12-01 18:28:33 LAPTOP-SDM3TI61 minerl.env.malmo.instance.42cbc8[24072]"
     ]
    },
    {
     "name": "stdout",
     "output_type": "stream",
     "text": [
      "0.5"
     ]
    },
    {
     "name": "stderr",
     "output_type": "stream",
     "text": [
      " "
     ]
    },
    {
     "name": "stdout",
     "output_type": "stream",
     "text": [
      "\n"
     ]
    },
    {
     "name": "stderr",
     "output_type": "stream",
     "text": [
      "DEBUG [18:28:33] [Netty Server IO #1/INFO]: [STDOUT]: got slot 0\r"
     ]
    },
    {
     "name": "stdout",
     "output_type": "stream",
     "text": [
      "step = "
     ]
    },
    {
     "name": "stderr",
     "output_type": "stream",
     "text": [
      "\n"
     ]
    },
    {
     "name": "stdout",
     "output_type": "stream",
     "text": [
      " 31\n",
      "0.5\n",
      "step =  32\n",
      "0.5\n",
      "step =  33\n",
      "DEBUG:minerl.env.malmo.instance.42cbc8:[18:28:33] [Netty Server IO #1/INFO]: [STDOUT]: Equip message recieved\n"
     ]
    },
    {
     "name": "stderr",
     "output_type": "stream",
     "text": [
      "2019-12-01 18:28:33 LAPTOP-SDM3TI61 minerl.env.malmo.instance.42cbc8[24072] DEBUG [18:28:33] [Netty Server IO #1/INFO]: [STDOUT]: Equip message recieved\n"
     ]
    },
    {
     "name": "stdout",
     "output_type": "stream",
     "text": [
      "DEBUG:minerl.env.malmo.instance.42cbc8:[18:28:33] [Netty Server IO #1/INFO]: [STDOUT]: got harbar 0\r\n"
     ]
    },
    {
     "name": "stderr",
     "output_type": "stream",
     "text": [
      "2019-12-01 18:28:33"
     ]
    },
    {
     "name": "stdout",
     "output_type": "stream",
     "text": [
      "0.5"
     ]
    },
    {
     "name": "stderr",
     "output_type": "stream",
     "text": [
      " LAPTOP-SDM3TI61"
     ]
    },
    {
     "name": "stdout",
     "output_type": "stream",
     "text": [
      "\n"
     ]
    },
    {
     "name": "stderr",
     "output_type": "stream",
     "text": [
      " minerl.env.malmo.instance.42cbc8[24072] DEBUG"
     ]
    },
    {
     "name": "stdout",
     "output_type": "stream",
     "text": [
      "step =  "
     ]
    },
    {
     "name": "stderr",
     "output_type": "stream",
     "text": [
      " [18:28:33] [Netty Server IO #1/INFO]: [STDOUT]: got harbar 0\r"
     ]
    },
    {
     "name": "stdout",
     "output_type": "stream",
     "text": [
      "34\n"
     ]
    },
    {
     "name": "stderr",
     "output_type": "stream",
     "text": [
      "\n"
     ]
    },
    {
     "name": "stdout",
     "output_type": "stream",
     "text": [
      "DEBUG:minerl.env.malmo.instance.42cbc8:[18:28:33] [Netty Server IO #1/INFO]: [STDOUT]: got slot 0\r\n"
     ]
    },
    {
     "name": "stderr",
     "output_type": "stream",
     "text": [
      "2019-12-01 18:28:34 LAPTOP-SDM3TI61 minerl.env.malmo.instance.42cbc8[24072] DEBUG [18:28:33] [Netty Server IO #1/INFO]: [STDOUT]: got slot 0\n"
     ]
    },
    {
     "name": "stdout",
     "output_type": "stream",
     "text": [
      "DEBUG:minerl.env.malmo.instance.42cbc8:[18:28:34] [Netty Server IO #1/INFO]: [STDOUT]: Equip message recieved\r\n"
     ]
    },
    {
     "name": "stderr",
     "output_type": "stream",
     "text": [
      "2019-12-01 18:28:34 LAPTOP-SDM3TI61 minerl.env.malmo.instance.42cbc8[24072] DEBUG [18:28:34] [Netty Server IO #1/INFO]: [STDOUT]: Equip message recieved\n"
     ]
    },
    {
     "name": "stdout",
     "output_type": "stream",
     "text": [
      "DEBUG:minerl.env.malmo.instance.42cbc8:[18:28:34] [Netty Server IO #1/INFO]: [STDOUT]: got harbar 0\r\n"
     ]
    },
    {
     "name": "stderr",
     "output_type": "stream",
     "text": [
      "2019-12-01 18:28:34 LAPTOP-SDM3TI61 minerl.env.malmo.instance.42cbc8[24072] DEBUG [18:28:34] [Netty Server IO #1/INFO]: [STDOUT]: got harbar 0\n"
     ]
    },
    {
     "name": "stdout",
     "output_type": "stream",
     "text": [
      "DEBUG:minerl.env.malmo.instance.42cbc8:[18:28:34] [Netty Server IO #1/INFO]: [STDOUT]: got slot 0\r\n"
     ]
    },
    {
     "name": "stderr",
     "output_type": "stream",
     "text": [
      "2019-12-01 18:28:34"
     ]
    },
    {
     "name": "stdout",
     "output_type": "stream",
     "text": [
      "0.5"
     ]
    },
    {
     "name": "stderr",
     "output_type": "stream",
     "text": [
      " "
     ]
    },
    {
     "name": "stdout",
     "output_type": "stream",
     "text": [
      "\n"
     ]
    },
    {
     "name": "stderr",
     "output_type": "stream",
     "text": [
      "LAPTOP-SDM3TI61 minerl.env.malmo.instance.42cbc8[24072]"
     ]
    },
    {
     "name": "stdout",
     "output_type": "stream",
     "text": [
      "step = "
     ]
    },
    {
     "name": "stderr",
     "output_type": "stream",
     "text": [
      " "
     ]
    },
    {
     "name": "stdout",
     "output_type": "stream",
     "text": [
      " "
     ]
    },
    {
     "name": "stderr",
     "output_type": "stream",
     "text": [
      "DEBUG "
     ]
    },
    {
     "name": "stdout",
     "output_type": "stream",
     "text": [
      "35\n"
     ]
    },
    {
     "name": "stderr",
     "output_type": "stream",
     "text": [
      "[18:28:34] [Netty Server IO #1/INFO]: [STDOUT]: got slot 0\n"
     ]
    },
    {
     "name": "stdout",
     "output_type": "stream",
     "text": [
      "0.7\n",
      "step =  36\n",
      "DEBUG:minerl.env.malmo.instance.42cbc8:[18:28:34] [Netty Server IO #1/INFO]: [STDOUT]: Equip message recieved\n"
     ]
    },
    {
     "name": "stderr",
     "output_type": "stream",
     "text": [
      "2019-12-01 18:28:34 LAPTOP-SDM3TI61 minerl.env.malmo.instance.42cbc8[24072] DEBUG [18:28:34] [Netty Server IO #1/INFO]: [STDOUT]: Equip message recieved\n"
     ]
    },
    {
     "name": "stdout",
     "output_type": "stream",
     "text": [
      "DEBUG:minerl.env.malmo.instance.42cbc8:[18:28:34] [Netty Server IO #1/INFO]: [STDOUT]: got harbar 0\r\n"
     ]
    },
    {
     "name": "stderr",
     "output_type": "stream",
     "text": [
      "2019-12-01 18:28:34 LAPTOP-SDM3TI61 minerl.env.malmo.instance.42cbc8[24072] DEBUG [18:28:34] [Netty Server IO #1/INFO]: [STDOUT]: got harbar 0\n"
     ]
    },
    {
     "name": "stdout",
     "output_type": "stream",
     "text": [
      "DEBUG:minerl.env.malmo.instance.42cbc8:[18:28:34] [Netty Server IO #1/INFO]: [STDOUT]: got slot 0\n",
      "0.7"
     ]
    },
    {
     "name": "stderr",
     "output_type": "stream",
     "text": [
      "2019-12-01 18:28:34"
     ]
    },
    {
     "name": "stdout",
     "output_type": "stream",
     "text": [
      "\n"
     ]
    },
    {
     "name": "stderr",
     "output_type": "stream",
     "text": [
      " LAPTOP-SDM3TI61 minerl.env.malmo.instance.42cbc8[24072]"
     ]
    },
    {
     "name": "stdout",
     "output_type": "stream",
     "text": [
      "step = "
     ]
    },
    {
     "name": "stderr",
     "output_type": "stream",
     "text": [
      " "
     ]
    },
    {
     "name": "stdout",
     "output_type": "stream",
     "text": [
      " "
     ]
    },
    {
     "name": "stderr",
     "output_type": "stream",
     "text": [
      "DEBUG"
     ]
    },
    {
     "name": "stdout",
     "output_type": "stream",
     "text": [
      "37"
     ]
    },
    {
     "name": "stderr",
     "output_type": "stream",
     "text": [
      " "
     ]
    },
    {
     "name": "stdout",
     "output_type": "stream",
     "text": [
      "\n"
     ]
    },
    {
     "name": "stderr",
     "output_type": "stream",
     "text": [
      "[18:28:34] [Netty Server IO #1/INFO]: [STDOUT]: got slot 0\n"
     ]
    },
    {
     "name": "stdout",
     "output_type": "stream",
     "text": [
      "0.7\n",
      "step =  38\n",
      "0.7\n",
      "step =  39\n",
      "0.7\n",
      "step =  40\n",
      "1.0\n",
      "step =  41\n",
      "DEBUG:minerl.env.malmo.instance.42cbc8:[18:28:34] [Netty Server IO #1/INFO]: [STDOUT]: Equip message recieved\n"
     ]
    },
    {
     "name": "stderr",
     "output_type": "stream",
     "text": [
      "2019-12-01 18:28:34 LAPTOP-SDM3TI61 minerl.env.malmo.instance.42cbc8[24072] DEBUG [18:28:34] [Netty Server IO #1/INFO]: [STDOUT]: Equip message recieved\n"
     ]
    },
    {
     "name": "stdout",
     "output_type": "stream",
     "text": [
      "DEBUG:minerl.env.malmo.instance.42cbc8:[18:28:34] [Netty Server IO #1/INFO]: [STDOUT]: got harbar 0\r\n"
     ]
    },
    {
     "name": "stderr",
     "output_type": "stream",
     "text": [
      "2019-12-01 18:28:34 LAPTOP-SDM3TI61 minerl.env.malmo.instance.42cbc8[24072] DEBUG"
     ]
    },
    {
     "name": "stdout",
     "output_type": "stream",
     "text": [
      "1.0"
     ]
    },
    {
     "name": "stderr",
     "output_type": "stream",
     "text": [
      " "
     ]
    },
    {
     "name": "stdout",
     "output_type": "stream",
     "text": [
      "\n"
     ]
    },
    {
     "name": "stderr",
     "output_type": "stream",
     "text": [
      "[18:28:34] [Netty Server IO #1/INFO]: [STDOUT]: got harbar 0\n"
     ]
    },
    {
     "name": "stdout",
     "output_type": "stream",
     "text": [
      "DEBUG:minerl.env.malmo.instance.42cbc8:[18:28:34] [Netty Server IO #1/INFO]: [STDOUT]: got slot 0\n",
      "step = "
     ]
    },
    {
     "name": "stderr",
     "output_type": "stream",
     "text": [
      "2019-12-01 18:28:34"
     ]
    },
    {
     "name": "stdout",
     "output_type": "stream",
     "text": [
      " "
     ]
    },
    {
     "name": "stderr",
     "output_type": "stream",
     "text": [
      " LAPTOP-SDM3TI61"
     ]
    },
    {
     "name": "stdout",
     "output_type": "stream",
     "text": [
      "42"
     ]
    },
    {
     "name": "stderr",
     "output_type": "stream",
     "text": [
      " "
     ]
    },
    {
     "name": "stdout",
     "output_type": "stream",
     "text": [
      "\n"
     ]
    },
    {
     "name": "stderr",
     "output_type": "stream",
     "text": [
      "minerl.env.malmo.instance.42cbc8[24072] DEBUG [18:28:34] [Netty Server IO #1/INFO]: [STDOUT]: got slot 0\n"
     ]
    },
    {
     "name": "stdout",
     "output_type": "stream",
     "text": [
      "DEBUG:minerl.env.malmo.instance.42cbc8:[18:28:34] [Netty Server IO #1/INFO]: [STDOUT]: Equip message recieved\r\n"
     ]
    },
    {
     "name": "stderr",
     "output_type": "stream",
     "text": [
      "2019-12-01 18:28:34 LAPTOP-SDM3TI61 minerl.env.malmo.instance.42cbc8[24072] "
     ]
    },
    {
     "name": "stdout",
     "output_type": "stream",
     "text": [
      "1.2"
     ]
    },
    {
     "name": "stderr",
     "output_type": "stream",
     "text": [
      "DEBUG "
     ]
    },
    {
     "name": "stdout",
     "output_type": "stream",
     "text": [
      "\n"
     ]
    },
    {
     "name": "stderr",
     "output_type": "stream",
     "text": [
      "[18:28:34] [Netty Server IO #1/INFO]: [STDOUT]: Equip message recieved\r"
     ]
    },
    {
     "name": "stdout",
     "output_type": "stream",
     "text": [
      "step = "
     ]
    },
    {
     "name": "stderr",
     "output_type": "stream",
     "text": [
      "\n"
     ]
    },
    {
     "name": "stdout",
     "output_type": "stream",
     "text": [
      " 43DEBUG:minerl.env.malmo.instance.42cbc8:[18:28:34] [Netty Server IO #1/INFO]: [STDOUT]: got harbar 0\n",
      "\n"
     ]
    },
    {
     "name": "stderr",
     "output_type": "stream",
     "text": [
      "2019-12-01 18:28:34 LAPTOP-SDM3TI61 minerl.env.malmo.instance.42cbc8[24072] DEBUG [18:28:34] [Netty Server IO #1/INFO]: [STDOUT]: got harbar 0\n"
     ]
    },
    {
     "name": "stdout",
     "output_type": "stream",
     "text": [
      "DEBUG:minerl.env.malmo.instance.42cbc8:[18:28:34] [Netty Server IO #1/INFO]: [STDOUT]: got slot 0\r\n"
     ]
    },
    {
     "name": "stderr",
     "output_type": "stream",
     "text": [
      "2019-12-01 18:28:34 "
     ]
    },
    {
     "name": "stdout",
     "output_type": "stream",
     "text": [
      "1.2"
     ]
    },
    {
     "name": "stderr",
     "output_type": "stream",
     "text": [
      "LAPTOP-SDM3TI61"
     ]
    },
    {
     "name": "stdout",
     "output_type": "stream",
     "text": [
      "\n"
     ]
    },
    {
     "name": "stderr",
     "output_type": "stream",
     "text": [
      " minerl.env.malmo.instance.42cbc8[24072] "
     ]
    },
    {
     "name": "stdout",
     "output_type": "stream",
     "text": [
      "step = "
     ]
    },
    {
     "name": "stderr",
     "output_type": "stream",
     "text": [
      "DEBUG"
     ]
    },
    {
     "name": "stdout",
     "output_type": "stream",
     "text": [
      " "
     ]
    },
    {
     "name": "stderr",
     "output_type": "stream",
     "text": [
      " "
     ]
    },
    {
     "name": "stdout",
     "output_type": "stream",
     "text": [
      "44"
     ]
    },
    {
     "name": "stderr",
     "output_type": "stream",
     "text": [
      "[18:28:34] [Netty Server IO #1/INFO]: [STDOUT]: got slot 0\r"
     ]
    },
    {
     "name": "stdout",
     "output_type": "stream",
     "text": [
      "\n"
     ]
    },
    {
     "name": "stderr",
     "output_type": "stream",
     "text": [
      "\n"
     ]
    },
    {
     "name": "stdout",
     "output_type": "stream",
     "text": [
      "DEBUG:minerl.env.malmo.instance.42cbc8:[18:28:34] [Netty Server IO #1/INFO]: [STDOUT]: Equip message recieved\r\n"
     ]
    },
    {
     "name": "stderr",
     "output_type": "stream",
     "text": [
      "2019-12-01 18:28:34 LAPTOP-SDM3TI61 minerl.env.malmo.instance.42cbc8[24072] DEBUG [18:28:34] [Netty Server IO #1/INFO]: [STDOUT]: Equip message recieved\n"
     ]
    },
    {
     "name": "stdout",
     "output_type": "stream",
     "text": [
      "DEBUG:minerl.env.malmo.instance.42cbc8:[18:28:34] [Netty Server IO #1/INFO]: [STDOUT]: got harbar 0\r\n"
     ]
    },
    {
     "name": "stderr",
     "output_type": "stream",
     "text": [
      "2019-12-01 18:28:34 LAPTOP-SDM3TI61 minerl.env.malmo.instance.42cbc8[24072] DEBUG [18:28:34] [Netty Server IO #1/INFO]: [STDOUT]: got harbar 0\n"
     ]
    },
    {
     "name": "stdout",
     "output_type": "stream",
     "text": [
      "DEBUG:minerl.env.malmo.instance.42cbc8:[18:28:34] [Netty Server IO #1/INFO]: [STDOUT]: got slot 0\r\n"
     ]
    },
    {
     "name": "stderr",
     "output_type": "stream",
     "text": [
      "2019-12-01 18:28:34 LAPTOP-SDM3TI61 minerl.env.malmo.instance.42cbc8[24072] DEBUG [18:28:34] [Netty Server IO #1/INFO]: [STDOUT]: got slot 0\n"
     ]
    },
    {
     "name": "stdout",
     "output_type": "stream",
     "text": [
      "1.2\n",
      "step =  45\n",
      "DEBUG:minerl.env.malmo.instance.42cbc8:[18:28:34] [Netty Server IO #1/INFO]: [STDOUT]: Equip message recieved\n"
     ]
    },
    {
     "name": "stderr",
     "output_type": "stream",
     "text": [
      "2019-12-01 18:28:34 LAPTOP-SDM3TI61 minerl.env.malmo.instance.42cbc8[24072] DEBUG [18:28:34] [Netty Server IO #1/INFO]: [STDOUT]: Equip message recieved\n"
     ]
    },
    {
     "name": "stdout",
     "output_type": "stream",
     "text": [
      "DEBUG:minerl.env.malmo.instance.42cbc8:[18:28:34] [Netty Server IO #1/INFO]: [STDOUT]: got harbar 0\r\n"
     ]
    },
    {
     "name": "stderr",
     "output_type": "stream",
     "text": [
      "2019-12-01 18:28:34 LAPTOP-SDM3TI61 minerl.env.malmo.instance.42cbc8[24072]"
     ]
    },
    {
     "name": "stdout",
     "output_type": "stream",
     "text": [
      "1.2"
     ]
    },
    {
     "name": "stderr",
     "output_type": "stream",
     "text": [
      " "
     ]
    },
    {
     "name": "stdout",
     "output_type": "stream",
     "text": [
      "\n"
     ]
    },
    {
     "name": "stderr",
     "output_type": "stream",
     "text": [
      "DEBUG [18:28:34] [Netty Server IO #1/INFO]: [STDOUT]: got harbar 0\r"
     ]
    },
    {
     "name": "stdout",
     "output_type": "stream",
     "text": [
      "step = "
     ]
    },
    {
     "name": "stderr",
     "output_type": "stream",
     "text": [
      "\n"
     ]
    },
    {
     "name": "stdout",
     "output_type": "stream",
     "text": [
      " 46DEBUG:minerl.env.malmo.instance.42cbc8:[18:28:34] [Netty Server IO #1/INFO]: [STDOUT]: got slot 0\n"
     ]
    },
    {
     "name": "stderr",
     "output_type": "stream",
     "text": [
      "2019-12-01 18:28:34"
     ]
    },
    {
     "name": "stdout",
     "output_type": "stream",
     "text": [
      "\n"
     ]
    },
    {
     "name": "stderr",
     "output_type": "stream",
     "text": [
      " LAPTOP-SDM3TI61 minerl.env.malmo.instance.42cbc8[24072] DEBUG [18:28:34] [Netty Server IO #1/INFO]: [STDOUT]: got slot 0\n"
     ]
    },
    {
     "name": "stdout",
     "output_type": "stream",
     "text": [
      "DEBUG:minerl.env.malmo.instance.42cbc8:[18:28:34] [Netty Server IO #1/INFO]: [STDOUT]: Equip message recieved\r\n"
     ]
    },
    {
     "name": "stderr",
     "output_type": "stream",
     "text": [
      "2019-12-01 18:28:34 LAPTOP-SDM3TI61 minerl.env.malmo.instance.42cbc8[24072] DEBUG [18:28:34] [Netty Server IO #1/INFO]: [STDOUT]: Equip message recieved\r"
     ]
    },
    {
     "name": "stdout",
     "output_type": "stream",
     "text": [
      "1.2"
     ]
    },
    {
     "name": "stderr",
     "output_type": "stream",
     "text": [
      "\n"
     ]
    },
    {
     "name": "stdout",
     "output_type": "stream",
     "text": [
      "\n",
      "DEBUG:minerl.env.malmo.instance.42cbc8:[18:28:34] [Netty Server IO #1/INFO]: [STDOUT]: got harbar 0\n"
     ]
    },
    {
     "name": "stderr",
     "output_type": "stream",
     "text": [
      "2019-12-01 18:28:34 LAPTOP-SDM3TI61"
     ]
    },
    {
     "name": "stdout",
     "output_type": "stream",
     "text": [
      "step = "
     ]
    },
    {
     "name": "stderr",
     "output_type": "stream",
     "text": [
      " "
     ]
    },
    {
     "name": "stdout",
     "output_type": "stream",
     "text": [
      " "
     ]
    },
    {
     "name": "stderr",
     "output_type": "stream",
     "text": [
      "minerl.env.malmo.instance.42cbc8[24072]"
     ]
    },
    {
     "name": "stdout",
     "output_type": "stream",
     "text": [
      "47"
     ]
    },
    {
     "name": "stderr",
     "output_type": "stream",
     "text": [
      " "
     ]
    },
    {
     "name": "stdout",
     "output_type": "stream",
     "text": [
      "\n"
     ]
    },
    {
     "name": "stderr",
     "output_type": "stream",
     "text": [
      "DEBUG [18:28:34] [Netty Server IO #1/INFO]: [STDOUT]: got harbar 0\n"
     ]
    },
    {
     "name": "stdout",
     "output_type": "stream",
     "text": [
      "DEBUG:minerl.env.malmo.instance.42cbc8:[18:28:34] [Netty Server IO #1/INFO]: [STDOUT]: got slot 0\r\n"
     ]
    },
    {
     "name": "stderr",
     "output_type": "stream",
     "text": [
      "2019-12-01 18:28:34 LAPTOP-SDM3TI61 minerl.env.malmo.instance.42cbc8[24072] DEBUG [18:28:34] [Netty Server IO #1/INFO]: [STDOUT]: got slot 0\n"
     ]
    },
    {
     "name": "stdout",
     "output_type": "stream",
     "text": [
      "1.2\n",
      "step =  48\n",
      "1.2\n",
      "step =  DEBUG:minerl.env.malmo.instance.42cbc8:[18:28:34] [Client thread/INFO]: [CHAT] §l897...\n",
      "49"
     ]
    },
    {
     "name": "stderr",
     "output_type": "stream",
     "text": [
      "2019-12-01 18:28:34"
     ]
    },
    {
     "name": "stdout",
     "output_type": "stream",
     "text": [
      "\n"
     ]
    },
    {
     "name": "stderr",
     "output_type": "stream",
     "text": [
      " LAPTOP-SDM3TI61 minerl.env.malmo.instance.42cbc8[24072] DEBUG [18:28:34] [Client thread/INFO]: [CHAT] §l897...\n"
     ]
    },
    {
     "name": "stdout",
     "output_type": "stream",
     "text": [
      "DEBUG:minerl.env.malmo.instance.42cbc8:[18:28:34] [Netty Server IO #1/INFO]: [STDOUT]: Equip message recieved\r\n"
     ]
    },
    {
     "name": "stderr",
     "output_type": "stream",
     "text": [
      "2019-12-01 18:28:34 "
     ]
    },
    {
     "name": "stdout",
     "output_type": "stream",
     "text": [
      "1.2"
     ]
    },
    {
     "name": "stderr",
     "output_type": "stream",
     "text": [
      "LAPTOP-SDM3TI61"
     ]
    },
    {
     "name": "stdout",
     "output_type": "stream",
     "text": [
      "\n"
     ]
    },
    {
     "name": "stderr",
     "output_type": "stream",
     "text": [
      " "
     ]
    },
    {
     "name": "stdout",
     "output_type": "stream",
     "text": [
      "step = "
     ]
    },
    {
     "name": "stderr",
     "output_type": "stream",
     "text": [
      "minerl.env.malmo.instance.42cbc8[24072]"
     ]
    },
    {
     "name": "stdout",
     "output_type": "stream",
     "text": [
      " "
     ]
    },
    {
     "name": "stderr",
     "output_type": "stream",
     "text": [
      " "
     ]
    },
    {
     "name": "stdout",
     "output_type": "stream",
     "text": [
      "50"
     ]
    },
    {
     "name": "stderr",
     "output_type": "stream",
     "text": [
      "DEBUG"
     ]
    },
    {
     "name": "stdout",
     "output_type": "stream",
     "text": [
      "\n"
     ]
    },
    {
     "name": "stderr",
     "output_type": "stream",
     "text": [
      " [18:28:34] [Netty Server IO #1/INFO]: [STDOUT]: Equip message recieved\n"
     ]
    },
    {
     "name": "stdout",
     "output_type": "stream",
     "text": [
      "DEBUG:minerl.env.malmo.instance.42cbc8:[18:28:34] [Netty Server IO #1/INFO]: [STDOUT]: got harbar 0\r\n"
     ]
    },
    {
     "name": "stderr",
     "output_type": "stream",
     "text": [
      "2019-12-01 18:28:34 LAPTOP-SDM3TI61 minerl.env.malmo.instance.42cbc8[24072] DEBUG [18:28:34] [Netty Server IO #1/INFO]: [STDOUT]: got harbar 0\n"
     ]
    },
    {
     "name": "stdout",
     "output_type": "stream",
     "text": [
      "DEBUG:minerl.env.malmo.instance.42cbc8:[18:28:34] [Netty Server IO #1/INFO]: [STDOUT]: got slot 0\r\n"
     ]
    },
    {
     "name": "stderr",
     "output_type": "stream",
     "text": [
      "2019-12-01 18:28:34 LAPTOP-SDM3TI61 minerl.env.malmo.instance.42cbc8[24072] DEBUG [18:28:34] [Netty Server IO #1/INFO]: [STDOUT]: got slot 0\n"
     ]
    },
    {
     "name": "stdout",
     "output_type": "stream",
     "text": [
      "DEBUG:minerl.env.malmo.instance.42cbc8:[18:28:34] [Netty Server IO #1/INFO]: [STDOUT]: Equip message recieved\r\n"
     ]
    },
    {
     "name": "stderr",
     "output_type": "stream",
     "text": [
      "2019-12-01 18:28:34 "
     ]
    },
    {
     "name": "stdout",
     "output_type": "stream",
     "text": [
      "1.2"
     ]
    },
    {
     "name": "stderr",
     "output_type": "stream",
     "text": [
      "LAPTOP-SDM3TI61"
     ]
    },
    {
     "name": "stdout",
     "output_type": "stream",
     "text": [
      "\n"
     ]
    },
    {
     "name": "stderr",
     "output_type": "stream",
     "text": [
      " minerl.env.malmo.instance.42cbc8[24072] "
     ]
    },
    {
     "name": "stdout",
     "output_type": "stream",
     "text": [
      "step = "
     ]
    },
    {
     "name": "stderr",
     "output_type": "stream",
     "text": [
      "DEBUG"
     ]
    },
    {
     "name": "stdout",
     "output_type": "stream",
     "text": [
      " "
     ]
    },
    {
     "name": "stderr",
     "output_type": "stream",
     "text": [
      " "
     ]
    },
    {
     "name": "stdout",
     "output_type": "stream",
     "text": [
      "51"
     ]
    },
    {
     "name": "stderr",
     "output_type": "stream",
     "text": [
      "[18:28:34] [Netty Server IO #1/INFO]: [STDOUT]: Equip message recieved\r"
     ]
    },
    {
     "name": "stdout",
     "output_type": "stream",
     "text": [
      "\n"
     ]
    },
    {
     "name": "stderr",
     "output_type": "stream",
     "text": [
      "\n"
     ]
    },
    {
     "name": "stdout",
     "output_type": "stream",
     "text": [
      "DEBUG:minerl.env.malmo.instance.42cbc8:[18:28:34] [Netty Server IO #1/INFO]: [STDOUT]: got harbar 0\r\n"
     ]
    },
    {
     "name": "stderr",
     "output_type": "stream",
     "text": [
      "2019-12-01 18:28:34 LAPTOP-SDM3TI61 minerl.env.malmo.instance.42cbc8[24072] DEBUG [18:28:34] [Netty Server IO #1/INFO]: [STDOUT]: got harbar 0\r"
     ]
    },
    {
     "name": "stdout",
     "output_type": "stream",
     "text": [
      "1.2"
     ]
    },
    {
     "name": "stderr",
     "output_type": "stream",
     "text": [
      "\n"
     ]
    },
    {
     "name": "stdout",
     "output_type": "stream",
     "text": [
      "\n",
      "DEBUG:minerl.env.malmo.instance.42cbc8:[18:28:34] [Netty Server IO #1/INFO]: [STDOUT]: got slot 0\n"
     ]
    },
    {
     "name": "stderr",
     "output_type": "stream",
     "text": [
      "2019-12-01 18:28:34"
     ]
    },
    {
     "name": "stdout",
     "output_type": "stream",
     "text": [
      "step =  "
     ]
    },
    {
     "name": "stderr",
     "output_type": "stream",
     "text": [
      " "
     ]
    },
    {
     "name": "stdout",
     "output_type": "stream",
     "text": [
      "52"
     ]
    },
    {
     "name": "stderr",
     "output_type": "stream",
     "text": [
      "LAPTOP-SDM3TI61"
     ]
    },
    {
     "name": "stdout",
     "output_type": "stream",
     "text": [
      "\n"
     ]
    },
    {
     "name": "stderr",
     "output_type": "stream",
     "text": [
      " minerl.env.malmo.instance.42cbc8[24072] DEBUG [18:28:34] [Netty Server IO #1/INFO]: [STDOUT]: got slot 0\n"
     ]
    },
    {
     "name": "stdout",
     "output_type": "stream",
     "text": [
      "DEBUG:minerl.env.malmo.instance.42cbc8:[18:28:34] [Netty Server IO #1/INFO]: [STDOUT]: Equip message recieved\r\n"
     ]
    },
    {
     "name": "stderr",
     "output_type": "stream",
     "text": [
      "2019-12-01 18:28:34 LAPTOP-SDM3TI61 minerl.env.malmo.instance.42cbc8[24072] DEBUG [18:28:34] [Netty Server IO #1/INFO]: [STDOUT]: Equip message recieved\n"
     ]
    },
    {
     "name": "stdout",
     "output_type": "stream",
     "text": [
      "DEBUG:minerl.env.malmo.instance.42cbc8:[18:28:34] [Netty Server IO #1/INFO]: [STDOUT]: got harbar 0\r\n"
     ]
    },
    {
     "name": "stderr",
     "output_type": "stream",
     "text": [
      "2019-12-01 18:28:34 LAPTOP-SDM3TI61"
     ]
    },
    {
     "name": "stdout",
     "output_type": "stream",
     "text": [
      "1.2"
     ]
    },
    {
     "name": "stderr",
     "output_type": "stream",
     "text": [
      " "
     ]
    },
    {
     "name": "stdout",
     "output_type": "stream",
     "text": [
      "\n"
     ]
    },
    {
     "name": "stderr",
     "output_type": "stream",
     "text": [
      "minerl.env.malmo.instance.42cbc8[24072] "
     ]
    },
    {
     "name": "stdout",
     "output_type": "stream",
     "text": [
      "step = "
     ]
    },
    {
     "name": "stderr",
     "output_type": "stream",
     "text": [
      "DEBUG"
     ]
    },
    {
     "name": "stdout",
     "output_type": "stream",
     "text": [
      " "
     ]
    },
    {
     "name": "stderr",
     "output_type": "stream",
     "text": [
      " "
     ]
    },
    {
     "name": "stdout",
     "output_type": "stream",
     "text": [
      "53"
     ]
    },
    {
     "name": "stderr",
     "output_type": "stream",
     "text": [
      "[18:28:34] [Netty Server IO #1/INFO]: [STDOUT]: got harbar 0\r"
     ]
    },
    {
     "name": "stdout",
     "output_type": "stream",
     "text": [
      "\n"
     ]
    },
    {
     "name": "stderr",
     "output_type": "stream",
     "text": [
      "\n"
     ]
    },
    {
     "name": "stdout",
     "output_type": "stream",
     "text": [
      "DEBUG:minerl.env.malmo.instance.42cbc8:[18:28:34] [Netty Server IO #1/INFO]: [STDOUT]: got slot 0\n",
      "1.2"
     ]
    },
    {
     "name": "stderr",
     "output_type": "stream",
     "text": [
      "2019-12-01 18:28:35"
     ]
    },
    {
     "name": "stdout",
     "output_type": "stream",
     "text": [
      "\n"
     ]
    },
    {
     "name": "stderr",
     "output_type": "stream",
     "text": [
      " LAPTOP-SDM3TI61"
     ]
    },
    {
     "name": "stdout",
     "output_type": "stream",
     "text": [
      "step = "
     ]
    },
    {
     "name": "stderr",
     "output_type": "stream",
     "text": [
      " "
     ]
    },
    {
     "name": "stdout",
     "output_type": "stream",
     "text": [
      " "
     ]
    },
    {
     "name": "stderr",
     "output_type": "stream",
     "text": [
      "minerl.env.malmo.instance.42cbc8[24072]"
     ]
    },
    {
     "name": "stdout",
     "output_type": "stream",
     "text": [
      "54"
     ]
    },
    {
     "name": "stderr",
     "output_type": "stream",
     "text": [
      " "
     ]
    },
    {
     "name": "stdout",
     "output_type": "stream",
     "text": [
      "\n"
     ]
    },
    {
     "name": "stderr",
     "output_type": "stream",
     "text": [
      "DEBUG [18:28:34] [Netty Server IO #1/INFO]: [STDOUT]: got slot 0\n"
     ]
    },
    {
     "name": "stdout",
     "output_type": "stream",
     "text": [
      "DEBUG:minerl.env.malmo.instance.42cbc8:[18:28:35] [Netty Server IO #1/INFO]: [STDOUT]: Equip message recieved\r\n"
     ]
    },
    {
     "name": "stderr",
     "output_type": "stream",
     "text": [
      "2019-12-01 18:28:35 LAPTOP-SDM3TI61 minerl.env.malmo.instance.42cbc8[24072] DEBUG [18:28:35] [Netty Server IO #1/INFO]: [STDOUT]: Equip message recieved\n"
     ]
    },
    {
     "name": "stdout",
     "output_type": "stream",
     "text": [
      "DEBUG:minerl.env.malmo.instance.42cbc8:[18:28:35] [Netty Server IO #1/INFO]: [STDOUT]: got harbar 0\r\n"
     ]
    },
    {
     "name": "stderr",
     "output_type": "stream",
     "text": [
      "2019-12-01 18:28:35 LAPTOP-SDM3TI61"
     ]
    },
    {
     "name": "stdout",
     "output_type": "stream",
     "text": [
      "1.2\n"
     ]
    },
    {
     "name": "stderr",
     "output_type": "stream",
     "text": [
      " minerl.env.malmo.instance.42cbc8[24072]"
     ]
    },
    {
     "name": "stdout",
     "output_type": "stream",
     "text": [
      "step = "
     ]
    },
    {
     "name": "stderr",
     "output_type": "stream",
     "text": [
      " "
     ]
    },
    {
     "name": "stdout",
     "output_type": "stream",
     "text": [
      " "
     ]
    },
    {
     "name": "stderr",
     "output_type": "stream",
     "text": [
      "DEBUG"
     ]
    },
    {
     "name": "stdout",
     "output_type": "stream",
     "text": [
      "55"
     ]
    },
    {
     "name": "stderr",
     "output_type": "stream",
     "text": [
      " "
     ]
    },
    {
     "name": "stdout",
     "output_type": "stream",
     "text": [
      "\n"
     ]
    },
    {
     "name": "stderr",
     "output_type": "stream",
     "text": [
      "[18:28:35] [Netty Server IO #1/INFO]: [STDOUT]: got harbar 0\n"
     ]
    },
    {
     "name": "stdout",
     "output_type": "stream",
     "text": [
      "DEBUG:minerl.env.malmo.instance.42cbc8:[18:28:35] [Netty Server IO #1/INFO]: [STDOUT]: got slot 0\r\n"
     ]
    },
    {
     "name": "stderr",
     "output_type": "stream",
     "text": [
      "2019-12-01 18:28:35 LAPTOP-SDM3TI61 minerl.env.malmo.instance.42cbc8[24072] DEBUG [18:28:35] [Netty Server IO #1/INFO]: [STDOUT]: got slot 0\n"
     ]
    },
    {
     "name": "stdout",
     "output_type": "stream",
     "text": [
      "DEBUG:minerl.env.malmo.instance.42cbc8:[18:28:35] [Netty Server IO #1/INFO]: [STDOUT]: Equip message recieved\r\n"
     ]
    },
    {
     "name": "stderr",
     "output_type": "stream",
     "text": [
      "2019-12-01 18:28:35"
     ]
    },
    {
     "name": "stdout",
     "output_type": "stream",
     "text": [
      "1.2\n"
     ]
    },
    {
     "name": "stderr",
     "output_type": "stream",
     "text": [
      " LAPTOP-SDM3TI61 minerl.env.malmo.instance.42cbc8[24072]"
     ]
    },
    {
     "name": "stdout",
     "output_type": "stream",
     "text": [
      "step = "
     ]
    },
    {
     "name": "stderr",
     "output_type": "stream",
     "text": [
      " "
     ]
    },
    {
     "name": "stdout",
     "output_type": "stream",
     "text": [
      " 56"
     ]
    },
    {
     "name": "stderr",
     "output_type": "stream",
     "text": [
      "DEBUG"
     ]
    },
    {
     "name": "stdout",
     "output_type": "stream",
     "text": [
      "\n"
     ]
    },
    {
     "name": "stderr",
     "output_type": "stream",
     "text": [
      " [18:28:35] [Netty Server IO #1/INFO]: [STDOUT]: Equip message recieved\n"
     ]
    },
    {
     "name": "stdout",
     "output_type": "stream",
     "text": [
      "DEBUG:minerl.env.malmo.instance.42cbc8:[18:28:35] [Netty Server IO #1/INFO]: [STDOUT]: got harbar 0\r\n"
     ]
    },
    {
     "name": "stderr",
     "output_type": "stream",
     "text": [
      "2019-12-01 18:28:35 LAPTOP-SDM3TI61 minerl.env.malmo.instance.42cbc8[24072] DEBUG [18:28:35] [Netty Server IO #1/INFO]: [STDOUT]: got harbar 0\n"
     ]
    },
    {
     "name": "stdout",
     "output_type": "stream",
     "text": [
      "1.2DEBUG:minerl.env.malmo.instance.42cbc8:[18:28:35] [Netty Server IO #1/INFO]: [STDOUT]: got slot 0\n",
      "\n"
     ]
    },
    {
     "name": "stderr",
     "output_type": "stream",
     "text": [
      "2019-12-01 18:28:35 LAPTOP-SDM3TI61"
     ]
    },
    {
     "name": "stdout",
     "output_type": "stream",
     "text": [
      "step = "
     ]
    },
    {
     "name": "stderr",
     "output_type": "stream",
     "text": [
      " "
     ]
    },
    {
     "name": "stdout",
     "output_type": "stream",
     "text": [
      " "
     ]
    },
    {
     "name": "stderr",
     "output_type": "stream",
     "text": [
      "minerl.env.malmo.instance.42cbc8[24072]"
     ]
    },
    {
     "name": "stdout",
     "output_type": "stream",
     "text": [
      "57"
     ]
    },
    {
     "name": "stderr",
     "output_type": "stream",
     "text": [
      " "
     ]
    },
    {
     "name": "stdout",
     "output_type": "stream",
     "text": [
      "\n"
     ]
    },
    {
     "name": "stderr",
     "output_type": "stream",
     "text": [
      "DEBUG [18:28:35] [Netty Server IO #1/INFO]: [STDOUT]: got slot 0\n"
     ]
    },
    {
     "name": "stdout",
     "output_type": "stream",
     "text": [
      "DEBUG:minerl.env.malmo.instance.42cbc8:[18:28:35] [Netty Server IO #1/INFO]: [STDOUT]: Equip message recieved\r\n"
     ]
    },
    {
     "name": "stderr",
     "output_type": "stream",
     "text": [
      "2019-12-01 18:28:35 LAPTOP-SDM3TI61 minerl.env.malmo.instance.42cbc8[24072] DEBUG [18:28:35] [Netty Server IO #1/INFO]: [STDOUT]: Equip message recieved\n"
     ]
    },
    {
     "name": "stdout",
     "output_type": "stream",
     "text": [
      "DEBUG:minerl.env.malmo.instance.42cbc8:[18:28:35] [Netty Server IO #1/INFO]: [STDOUT]: got harbar 0\r\n"
     ]
    },
    {
     "name": "stderr",
     "output_type": "stream",
     "text": [
      "2019-12-01 18:28:35 LAPTOP-SDM3TI61 minerl.env.malmo.instance.42cbc8[24072] DEBUG [18:28:35] [Netty Server IO #1/INFO]: [STDOUT]: got harbar 0\n"
     ]
    },
    {
     "name": "stdout",
     "output_type": "stream",
     "text": [
      "DEBUG:minerl.env.malmo.instance.42cbc8:[18:28:35] [Netty Server IO #1/INFO]: [STDOUT]: got slot 0\r\n"
     ]
    },
    {
     "name": "stderr",
     "output_type": "stream",
     "text": [
      "2019-12-01 18:28:35 LAPTOP-SDM3TI61 minerl.env.malmo.instance.42cbc8[24072] DEBUG [18:28:35] [Netty Server IO #1/INFO]: [STDOUT]: got slot 0\r"
     ]
    },
    {
     "name": "stdout",
     "output_type": "stream",
     "text": [
      "1.2"
     ]
    },
    {
     "name": "stderr",
     "output_type": "stream",
     "text": [
      "\n"
     ]
    },
    {
     "name": "stdout",
     "output_type": "stream",
     "text": [
      "\n",
      "step =  58\n",
      "1.2\n",
      "step =  59\n",
      "DEBUG:minerl.env.malmo.instance.42cbc8:[18:28:35] [Netty Server IO #1/INFO]: [STDOUT]: Equip message recieved\n"
     ]
    },
    {
     "name": "stderr",
     "output_type": "stream",
     "text": [
      "2019-12-01 18:28:35 LAPTOP-SDM3TI61 minerl.env.malmo.instance.42cbc8[24072] DEBUG [18:28:35] [Netty Server IO #1/INFO]: [STDOUT]: Equip message recieved\n"
     ]
    },
    {
     "name": "stdout",
     "output_type": "stream",
     "text": [
      "DEBUG:minerl.env.malmo.instance.42cbc8:[18:28:35] [Netty Server IO #1/INFO]: [STDOUT]: got harbar 0\r\n"
     ]
    },
    {
     "name": "stderr",
     "output_type": "stream",
     "text": [
      "2019-12-01 18:28:35 LAPTOP-SDM3TI61 minerl.env.malmo.instance.42cbc8[24072] DEBUG [18:28:35] [Netty Server IO #1/INFO]: [STDOUT]: got harbar 0\n"
     ]
    },
    {
     "name": "stdout",
     "output_type": "stream",
     "text": [
      "DEBUG:minerl.env.malmo.instance.42cbc8:[18:28:35] [Netty Server IO #1/INFO]: [STDOUT]: got slot 0\r\n"
     ]
    },
    {
     "name": "stderr",
     "output_type": "stream",
     "text": [
      "2019-12-01 18:28:35 LAPTOP-SDM3TI61 minerl.env.malmo.instance.42cbc8[24072] DEBUG [18:28:35] [Netty Server IO #1/INFO]: [STDOUT]: got slot 0\n"
     ]
    },
    {
     "name": "stdout",
     "output_type": "stream",
     "text": [
      "DEBUG:minerl.env.malmo.instance.42cbc8:[18:28:35] [Server thread/INFO]: [STDOUT]: Warning: managed 17/20 ticks this second.\r\n"
     ]
    },
    {
     "name": "stderr",
     "output_type": "stream",
     "text": [
      "2019-12-01 18:28:35 LAPTOP-SDM3TI61 minerl.env.malmo.instance.42cbc8[24072] DEBUG [18:28:35] [Server thread/INFO]: [STDOUT]: Warning: managed 17/20 ticks this second.\n"
     ]
    },
    {
     "name": "stdout",
     "output_type": "stream",
     "text": [
      "1.2\n",
      "step =  60\n",
      "DEBUG:minerl.env.malmo.instance.42cbc8:[18:28:35] [Netty Server IO #1/INFO]: [STDOUT]: Equip message recieved\n"
     ]
    },
    {
     "name": "stderr",
     "output_type": "stream",
     "text": [
      "2019-12-01 18:28:35 LAPTOP-SDM3TI61 minerl.env.malmo.instance.42cbc8[24072] DEBUG [18:28:35] [Netty Server IO #1/INFO]: [STDOUT]: Equip message recieved\n"
     ]
    },
    {
     "name": "stdout",
     "output_type": "stream",
     "text": [
      "DEBUG:minerl.env.malmo.instance.42cbc8:[18:28:35] [Netty Server IO #1/INFO]: [STDOUT]: got harbar 0\r\n"
     ]
    },
    {
     "name": "stderr",
     "output_type": "stream",
     "text": [
      "2019-12-01 18:28:35 LAPTOP-SDM3TI61 minerl.env.malmo.instance.42cbc8[24072]"
     ]
    },
    {
     "name": "stdout",
     "output_type": "stream",
     "text": [
      "1.2"
     ]
    },
    {
     "name": "stderr",
     "output_type": "stream",
     "text": [
      " "
     ]
    },
    {
     "name": "stdout",
     "output_type": "stream",
     "text": [
      "\n"
     ]
    },
    {
     "name": "stderr",
     "output_type": "stream",
     "text": [
      "DEBUG [18:28:35] [Netty Server IO #1/INFO]: [STDOUT]: got harbar 0\r"
     ]
    },
    {
     "name": "stdout",
     "output_type": "stream",
     "text": [
      "step = "
     ]
    },
    {
     "name": "stderr",
     "output_type": "stream",
     "text": [
      "\n"
     ]
    },
    {
     "name": "stdout",
     "output_type": "stream",
     "text": [
      "61EBUG:minerl.env.malmo.instance.42cbc8:[18:28:35] [Netty Server IO #1/INFO]: [STDOUT]: got slot 0\n"
     ]
    },
    {
     "name": "stderr",
     "output_type": "stream",
     "text": [
      "2019-12-01 18:28:35"
     ]
    },
    {
     "name": "stdout",
     "output_type": "stream",
     "text": [
      "\n"
     ]
    },
    {
     "name": "stderr",
     "output_type": "stream",
     "text": [
      " LAPTOP-SDM3TI61 minerl.env.malmo.instance.42cbc8[24072] DEBUG [18:28:35] [Netty Server IO #1/INFO]: [STDOUT]: got slot 0\n"
     ]
    },
    {
     "name": "stdout",
     "output_type": "stream",
     "text": [
      "1.2\n",
      "step =  62\n",
      "1.4\n",
      "step =  63\n",
      "1.4\n",
      "step =  64\n",
      "DEBUG:minerl.env.malmo.instance.42cbc8:[18:28:35] [Netty Server IO #1/INFO]: [STDOUT]: Equip message recieved\n"
     ]
    },
    {
     "name": "stderr",
     "output_type": "stream",
     "text": [
      "2019-12-01 18:28:35 LAPTOP-SDM3TI61 minerl.env.malmo.instance.42cbc8[24072] DEBUG [18:28:35] [Netty Server IO #1/INFO]: [STDOUT]: Equip message recieved\n"
     ]
    },
    {
     "name": "stdout",
     "output_type": "stream",
     "text": [
      "DEBUG:minerl.env.malmo.instance.42cbc8:[18:28:35] [Netty Server IO #1/INFO]: [STDOUT]: got harbar 0\r\n"
     ]
    },
    {
     "name": "stderr",
     "output_type": "stream",
     "text": [
      "2019-12-01 18:28:35 LAPTOP-SDM3TI61 minerl.env.malmo.instance.42cbc8[24072] DEBUG "
     ]
    },
    {
     "name": "stdout",
     "output_type": "stream",
     "text": [
      "1.4"
     ]
    },
    {
     "name": "stderr",
     "output_type": "stream",
     "text": [
      "[18:28:35] [Netty Server IO #1/INFO]: [STDOUT]: got harbar 0\r"
     ]
    },
    {
     "name": "stdout",
     "output_type": "stream",
     "text": [
      "\n"
     ]
    },
    {
     "name": "stderr",
     "output_type": "stream",
     "text": [
      "\n"
     ]
    },
    {
     "name": "stdout",
     "output_type": "stream",
     "text": [
      "DEBUG:minerl.env.malmo.instance.42cbc8:[18:28:35] [Netty Server IO #1/INFO]: [STDOUT]: got slot 0\r\n"
     ]
    },
    {
     "name": "stderr",
     "output_type": "stream",
     "text": [
      "2019-12-01 18:28:35 LAPTOP-SDM3TI61"
     ]
    },
    {
     "name": "stdout",
     "output_type": "stream",
     "text": [
      "step = "
     ]
    },
    {
     "name": "stderr",
     "output_type": "stream",
     "text": [
      " "
     ]
    },
    {
     "name": "stdout",
     "output_type": "stream",
     "text": [
      " "
     ]
    },
    {
     "name": "stderr",
     "output_type": "stream",
     "text": [
      "minerl.env.malmo.instance.42cbc8[24072] "
     ]
    },
    {
     "name": "stdout",
     "output_type": "stream",
     "text": [
      "65"
     ]
    },
    {
     "name": "stderr",
     "output_type": "stream",
     "text": [
      "DEBUG"
     ]
    },
    {
     "name": "stdout",
     "output_type": "stream",
     "text": [
      "\n"
     ]
    },
    {
     "name": "stderr",
     "output_type": "stream",
     "text": [
      " [18:28:35] [Netty Server IO #1/INFO]: [STDOUT]: got slot 0\n"
     ]
    },
    {
     "name": "stdout",
     "output_type": "stream",
     "text": [
      "DEBUG:minerl.env.malmo.instance.42cbc8:[18:28:35] [Netty Server IO #1/INFO]: [STDOUT]: Equip message recieved\r\n"
     ]
    },
    {
     "name": "stderr",
     "output_type": "stream",
     "text": [
      "2019-12-01 18:28:35 LAPTOP-SDM3TI61 minerl.env.malmo.instance.42cbc8[24072] DEBUG [18:28:35] [Netty Server IO #1/INFO]: [STDOUT]: Equip message recieved\n"
     ]
    },
    {
     "name": "stdout",
     "output_type": "stream",
     "text": [
      "DEBUG:minerl.env.malmo.instance.42cbc8:[18:28:35] [Netty Server IO #1/INFO]: [STDOUT]: got harbar 0\r\n"
     ]
    },
    {
     "name": "stderr",
     "output_type": "stream",
     "text": [
      "2019-12-01 18:28:35 LAPTOP-SDM3TI61 minerl.env.malmo.instance.42cbc8[24072] DEBUG [18:28:35] [Netty Server IO #1/INFO]: [STDOUT]: got harbar 0\n"
     ]
    },
    {
     "name": "stdout",
     "output_type": "stream",
     "text": [
      "DEBUG:minerl.env.malmo.instance.42cbc8:[18:28:35] [Netty Server IO #1/INFO]: [STDOUT]: got slot 0\r\n"
     ]
    },
    {
     "name": "stderr",
     "output_type": "stream",
     "text": [
      "2019-12-01 18:28:35 LAPTOP-SDM3TI61 minerl.env.malmo.instance.42cbc8[24072] DEBUG [18:28:35] [Netty Server IO #1/INFO]: [STDOUT]: got slot 0\n"
     ]
    },
    {
     "name": "stdout",
     "output_type": "stream",
     "text": [
      "1.4\n",
      "step =  66\n",
      "DEBUG:minerl.env.malmo.instance.42cbc8:[18:28:35] [Netty Server IO #1/INFO]: [STDOUT]: Equip message recieved\n"
     ]
    },
    {
     "name": "stderr",
     "output_type": "stream",
     "text": [
      "2019-12-01 18:28:35 LAPTOP-SDM3TI61 minerl.env.malmo.instance.42cbc8[24072] DEBUG [18:28:35] [Netty Server IO #1/INFO]: [STDOUT]: Equip message recieved\n"
     ]
    },
    {
     "name": "stdout",
     "output_type": "stream",
     "text": [
      "DEBUG:minerl.env.malmo.instance.42cbc8:[18:28:35] [Netty Server IO #1/INFO]: [STDOUT]: got harbar 0\r\n"
     ]
    },
    {
     "name": "stderr",
     "output_type": "stream",
     "text": [
      "2019-12-01 18:28:35 LAPTOP-SDM3TI61 minerl.env.malmo.instance.42cbc8[24072] DEBUG [18:28:35] [Netty Server IO #1/INFO]: [STDOUT]: got harbar 0\n"
     ]
    },
    {
     "name": "stdout",
     "output_type": "stream",
     "text": [
      "1.4DEBUG:minerl.env.malmo.instance.42cbc8:[18:28:35] [Netty Server IO #1/INFO]: [STDOUT]: got slot 0\n",
      "\n"
     ]
    },
    {
     "name": "stderr",
     "output_type": "stream",
     "text": [
      "2019-12-01 18:28:35 LAPTOP-SDM3TI61 minerl.env.malmo.instance.42cbc8[24072]"
     ]
    },
    {
     "name": "stdout",
     "output_type": "stream",
     "text": [
      "step = "
     ]
    },
    {
     "name": "stderr",
     "output_type": "stream",
     "text": [
      " "
     ]
    },
    {
     "name": "stdout",
     "output_type": "stream",
     "text": [
      " "
     ]
    },
    {
     "name": "stderr",
     "output_type": "stream",
     "text": [
      "DEBUG"
     ]
    },
    {
     "name": "stdout",
     "output_type": "stream",
     "text": [
      "67"
     ]
    },
    {
     "name": "stderr",
     "output_type": "stream",
     "text": [
      " "
     ]
    },
    {
     "name": "stdout",
     "output_type": "stream",
     "text": [
      "\n"
     ]
    },
    {
     "name": "stderr",
     "output_type": "stream",
     "text": [
      "[18:28:35] [Netty Server IO #1/INFO]: [STDOUT]: got slot 0\n"
     ]
    },
    {
     "name": "stdout",
     "output_type": "stream",
     "text": [
      "DEBUG:minerl.env.malmo.instance.42cbc8:[18:28:35] [Netty Server IO #1/INFO]: [STDOUT]: Equip message recieved\r\n"
     ]
    },
    {
     "name": "stderr",
     "output_type": "stream",
     "text": [
      "2019-12-01 18:28:35 LAPTOP-SDM3TI61 minerl.env.malmo.instance.42cbc8[24072] DEBUG [18:28:35] [Netty Server IO #1/INFO]: [STDOUT]: Equip message recieved\n"
     ]
    },
    {
     "name": "stdout",
     "output_type": "stream",
     "text": [
      "DEBUG:minerl.env.malmo.instance.42cbc8:[18:28:35] [Netty Server IO #1/INFO]: [STDOUT]: got harbar 0\r\n"
     ]
    },
    {
     "name": "stderr",
     "output_type": "stream",
     "text": [
      "2019-12-01 18:28:35 LAPTOP-SDM3TI61 minerl.env.malmo.instance.42cbc8[24072] DEBUG [18:28:35] [Netty Server IO #1/INFO]: [STDOUT]: got harbar 0\n"
     ]
    },
    {
     "name": "stdout",
     "output_type": "stream",
     "text": [
      "DEBUG:minerl.env.malmo.instance.42cbc8:[18:28:35] [Netty Server IO #1/INFO]: [STDOUT]: got slot 0\r\n"
     ]
    },
    {
     "name": "stderr",
     "output_type": "stream",
     "text": [
      "2019-12-01 18:28:35"
     ]
    },
    {
     "name": "stdout",
     "output_type": "stream",
     "text": [
      "1.4"
     ]
    },
    {
     "name": "stderr",
     "output_type": "stream",
     "text": [
      " "
     ]
    },
    {
     "name": "stdout",
     "output_type": "stream",
     "text": [
      "\n"
     ]
    },
    {
     "name": "stderr",
     "output_type": "stream",
     "text": [
      "LAPTOP-SDM3TI61 "
     ]
    },
    {
     "name": "stdout",
     "output_type": "stream",
     "text": [
      "step = "
     ]
    },
    {
     "name": "stderr",
     "output_type": "stream",
     "text": [
      "minerl.env.malmo.instance.42cbc8[24072]"
     ]
    },
    {
     "name": "stdout",
     "output_type": "stream",
     "text": [
      " "
     ]
    },
    {
     "name": "stderr",
     "output_type": "stream",
     "text": [
      " "
     ]
    },
    {
     "name": "stdout",
     "output_type": "stream",
     "text": [
      "68"
     ]
    },
    {
     "name": "stderr",
     "output_type": "stream",
     "text": [
      "DEBUG"
     ]
    },
    {
     "name": "stdout",
     "output_type": "stream",
     "text": [
      "\n"
     ]
    },
    {
     "name": "stderr",
     "output_type": "stream",
     "text": [
      " [18:28:35] [Netty Server IO #1/INFO]: [STDOUT]: got slot 0\n"
     ]
    },
    {
     "name": "stdout",
     "output_type": "stream",
     "text": [
      "1.4\n",
      "step =  69\n",
      "DEBUG:minerl.env.malmo.instance.42cbc8:[18:28:36] [Client thread/INFO]: [CHAT] §l896...\n"
     ]
    },
    {
     "name": "stderr",
     "output_type": "stream",
     "text": [
      "2019-12-01 18:28:36 LAPTOP-SDM3TI61 minerl.env.malmo.instance.42cbc8[24072] DEBUG [18:28:36] [Client thread/INFO]: [CHAT] §l896...\n"
     ]
    },
    {
     "name": "stdout",
     "output_type": "stream",
     "text": [
      "DEBUG:minerl.env.malmo.instance.42cbc8:[18:28:36] [Netty Server IO #1/INFO]: [STDOUT]: Equip message recieved\r\n"
     ]
    },
    {
     "name": "stderr",
     "output_type": "stream",
     "text": [
      "2019-12-01 18:28:36 LAPTOP-SDM3TI61 minerl.env.malmo.instance.42cbc8[24072] DEBUG [18:28:36] [Netty Server IO #1/INFO]: [STDOUT]: Equip message recieved\n"
     ]
    },
    {
     "name": "stdout",
     "output_type": "stream",
     "text": [
      "DEBUG:minerl.env.malmo.instance.42cbc8:[18:28:36] [Netty Server IO #1/INFO]: [STDOUT]: got harbar 0\r\n"
     ]
    },
    {
     "name": "stderr",
     "output_type": "stream",
     "text": [
      "2019-12-01 18:28:36 LAPTOP-SDM3TI61 minerl.env.malmo.instance.42cbc8[24072] DEBUG [18:28:36] [Netty Server IO #1/INFO]: [STDOUT]: got harbar 0\n"
     ]
    },
    {
     "name": "stdout",
     "output_type": "stream",
     "text": [
      "DEBUG:minerl.env.malmo.instance.42cbc8:[18:28:36] [Netty Server IO #1/INFO]: [STDOUT]: got slot 0\r\n"
     ]
    },
    {
     "name": "stderr",
     "output_type": "stream",
     "text": [
      "2019-12-01 18:28:36 "
     ]
    },
    {
     "name": "stdout",
     "output_type": "stream",
     "text": [
      "1.4"
     ]
    },
    {
     "name": "stderr",
     "output_type": "stream",
     "text": [
      "LAPTOP-SDM3TI61"
     ]
    },
    {
     "name": "stdout",
     "output_type": "stream",
     "text": [
      "\n"
     ]
    },
    {
     "name": "stderr",
     "output_type": "stream",
     "text": [
      " minerl.env.malmo.instance.42cbc8[24072]"
     ]
    },
    {
     "name": "stdout",
     "output_type": "stream",
     "text": [
      "step = "
     ]
    },
    {
     "name": "stderr",
     "output_type": "stream",
     "text": [
      " "
     ]
    },
    {
     "name": "stdout",
     "output_type": "stream",
     "text": [
      " 70"
     ]
    },
    {
     "name": "stderr",
     "output_type": "stream",
     "text": [
      "DEBUG"
     ]
    },
    {
     "name": "stdout",
     "output_type": "stream",
     "text": [
      "\n"
     ]
    },
    {
     "name": "stderr",
     "output_type": "stream",
     "text": [
      " [18:28:36] [Netty Server IO #1/INFO]: [STDOUT]: got slot 0\n"
     ]
    },
    {
     "name": "stdout",
     "output_type": "stream",
     "text": [
      "1.4\n",
      "step =  71\n",
      "1.4\n",
      "step =  72\n",
      "DEBUG:minerl.env.malmo.instance.42cbc8:[18:28:36] [Netty Server IO #1/INFO]: [STDOUT]: Equip message recieved\n"
     ]
    },
    {
     "name": "stderr",
     "output_type": "stream",
     "text": [
      "2019-12-01 18:28:36 LAPTOP-SDM3TI61 minerl.env.malmo.instance.42cbc8[24072] DEBUG [18:28:36] [Netty Server IO #1/INFO]: [STDOUT]: Equip message recieved\n"
     ]
    },
    {
     "name": "stdout",
     "output_type": "stream",
     "text": [
      "DEBUG:minerl.env.malmo.instance.42cbc8:[18:28:36] [Netty Server IO #1/INFO]: [STDOUT]: got harbar 0\r\n"
     ]
    },
    {
     "name": "stderr",
     "output_type": "stream",
     "text": [
      "2019-12-01 18:28:36 LAPTOP-SDM3TI61 "
     ]
    },
    {
     "name": "stdout",
     "output_type": "stream",
     "text": [
      "1.4"
     ]
    },
    {
     "name": "stderr",
     "output_type": "stream",
     "text": [
      "minerl.env.malmo.instance.42cbc8[24072]"
     ]
    },
    {
     "name": "stdout",
     "output_type": "stream",
     "text": [
      "\n"
     ]
    },
    {
     "name": "stderr",
     "output_type": "stream",
     "text": [
      " DEBUG [18:28:36] [Netty Server IO #1/INFO]: [STDOUT]: got harbar 0\r"
     ]
    },
    {
     "name": "stdout",
     "output_type": "stream",
     "text": [
      "step = "
     ]
    },
    {
     "name": "stderr",
     "output_type": "stream",
     "text": [
      "\n"
     ]
    },
    {
     "name": "stdout",
     "output_type": "stream",
     "text": [
      " 73DEBUG:minerl.env.malmo.instance.42cbc8:[18:28:36] [Netty Server IO #1/INFO]: [STDOUT]: got slot 0\n"
     ]
    },
    {
     "name": "stderr",
     "output_type": "stream",
     "text": [
      "2019-12-01 18:28:36"
     ]
    },
    {
     "name": "stdout",
     "output_type": "stream",
     "text": [
      "\n"
     ]
    },
    {
     "name": "stderr",
     "output_type": "stream",
     "text": [
      " LAPTOP-SDM3TI61 minerl.env.malmo.instance.42cbc8[24072] DEBUG [18:28:36] [Netty Server IO #1/INFO]: [STDOUT]: got slot 0\n"
     ]
    },
    {
     "name": "stdout",
     "output_type": "stream",
     "text": [
      "1.4\n",
      "step =  74\n",
      "1.4\n",
      "step =  75\n",
      "DEBUG:minerl.env.malmo.instance.42cbc8:[18:28:36] [Netty Server IO #1/INFO]: [STDOUT]: Equip message recieved\n"
     ]
    },
    {
     "name": "stderr",
     "output_type": "stream",
     "text": [
      "2019-12-01 18:28:36 LAPTOP-SDM3TI61 minerl.env.malmo.instance.42cbc8[24072] DEBUG [18:28:36] [Netty Server IO #1/INFO]: [STDOUT]: Equip message recieved\n"
     ]
    },
    {
     "name": "stdout",
     "output_type": "stream",
     "text": [
      "DEBUG:minerl.env.malmo.instance.42cbc8:[18:28:36] [Netty Server IO #1/INFO]: [STDOUT]: got harbar 0\r\n"
     ]
    },
    {
     "name": "stderr",
     "output_type": "stream",
     "text": [
      "2019-12-01 18:28:36 LAPTOP-SDM3TI61 minerl.env.malmo.instance.42cbc8[24072] DEBUG "
     ]
    },
    {
     "name": "stdout",
     "output_type": "stream",
     "text": [
      "1.4"
     ]
    },
    {
     "name": "stderr",
     "output_type": "stream",
     "text": [
      "[18:28:36] [Netty Server IO #1/INFO]: [STDOUT]: got harbar 0\n"
     ]
    },
    {
     "name": "stdout",
     "output_type": "stream",
     "text": [
      "\n",
      "DEBUG:minerl.env.malmo.instance.42cbc8:[18:28:36] [Netty Server IO #1/INFO]: [STDOUT]: got slot 0\n"
     ]
    },
    {
     "name": "stderr",
     "output_type": "stream",
     "text": [
      "2019-12-01 18:28:36 LAPTOP-SDM3TI61"
     ]
    },
    {
     "name": "stdout",
     "output_type": "stream",
     "text": [
      "step = "
     ]
    },
    {
     "name": "stderr",
     "output_type": "stream",
     "text": [
      " "
     ]
    },
    {
     "name": "stdout",
     "output_type": "stream",
     "text": [
      " "
     ]
    },
    {
     "name": "stderr",
     "output_type": "stream",
     "text": [
      "minerl.env.malmo.instance.42cbc8[24072] "
     ]
    },
    {
     "name": "stdout",
     "output_type": "stream",
     "text": [
      "76"
     ]
    },
    {
     "name": "stderr",
     "output_type": "stream",
     "text": [
      "DEBUG"
     ]
    },
    {
     "name": "stdout",
     "output_type": "stream",
     "text": [
      "\n"
     ]
    },
    {
     "name": "stderr",
     "output_type": "stream",
     "text": [
      " [18:28:36] [Netty Server IO #1/INFO]: [STDOUT]: got slot 0\n"
     ]
    },
    {
     "name": "stdout",
     "output_type": "stream",
     "text": [
      "DEBUG:minerl.env.malmo.instance.42cbc8:[18:28:36] [Server thread/INFO]: [STDOUT]: Warning: managed 17/20 ticks this second.\r\n"
     ]
    },
    {
     "name": "stderr",
     "output_type": "stream",
     "text": [
      "2019-12-01 18:28:36 LAPTOP-SDM3TI61 minerl.env.malmo.instance.42cbc8[24072] DEBUG [18:28:36] [Server thread/INFO]: [STDOUT]: Warning: managed 17/20 ticks this second.\n"
     ]
    },
    {
     "name": "stdout",
     "output_type": "stream",
     "text": [
      "1.4\n",
      "step =  77\n",
      "DEBUG:minerl.env.malmo.instance.42cbc8:[18:28:36] [Netty Server IO #1/INFO]: [STDOUT]: Equip message recieved\n"
     ]
    },
    {
     "name": "stderr",
     "output_type": "stream",
     "text": [
      "2019-12-01 18:28:36 LAPTOP-SDM3TI61 minerl.env.malmo.instance.42cbc8[24072] DEBUG [18:28:36] [Netty Server IO #1/INFO]: [STDOUT]: Equip message recieved\n"
     ]
    },
    {
     "name": "stdout",
     "output_type": "stream",
     "text": [
      "DEBUG:minerl.env.malmo.instance.42cbc8:[18:28:36] [Netty Server IO #1/INFO]: [STDOUT]: got harbar 0\r\n"
     ]
    },
    {
     "name": "stderr",
     "output_type": "stream",
     "text": [
      "2019-12-01 18:28:36 LAPTOP-SDM3TI61 minerl.env.malmo.instance.42cbc8[24072] "
     ]
    },
    {
     "name": "stdout",
     "output_type": "stream",
     "text": [
      "1.4\n"
     ]
    },
    {
     "name": "stderr",
     "output_type": "stream",
     "text": [
      "DEBUG [18:28:36] [Netty Server IO #1/INFO]: [STDOUT]: got harbar 0\n"
     ]
    },
    {
     "name": "stdout",
     "output_type": "stream",
     "text": [
      "step = DEBUG:minerl.env.malmo.instance.42cbc8:[18:28:36] [Netty Server IO #1/INFO]: [STDOUT]: got slot 0\n"
     ]
    },
    {
     "name": "stderr",
     "output_type": "stream",
     "text": [
      "2019-12-01 18:28:36"
     ]
    },
    {
     "name": "stdout",
     "output_type": "stream",
     "text": [
      " "
     ]
    },
    {
     "name": "stderr",
     "output_type": "stream",
     "text": [
      " "
     ]
    },
    {
     "name": "stdout",
     "output_type": "stream",
     "text": [
      "78"
     ]
    },
    {
     "name": "stderr",
     "output_type": "stream",
     "text": [
      "LAPTOP-SDM3TI61"
     ]
    },
    {
     "name": "stdout",
     "output_type": "stream",
     "text": [
      "\n"
     ]
    },
    {
     "name": "stderr",
     "output_type": "stream",
     "text": [
      " minerl.env.malmo.instance.42cbc8[24072] DEBUG [18:28:36] [Netty Server IO #1/INFO]: [STDOUT]: got slot 0\n"
     ]
    },
    {
     "name": "stdout",
     "output_type": "stream",
     "text": [
      "DEBUG:minerl.env.malmo.instance.42cbc8:[18:28:36] [Netty Server IO #1/INFO]: [STDOUT]: Equip message recieved\r\n"
     ]
    },
    {
     "name": "stderr",
     "output_type": "stream",
     "text": [
      "2019-12-01 18:28:36 LAPTOP-SDM3TI61 "
     ]
    },
    {
     "name": "stdout",
     "output_type": "stream",
     "text": [
      "1.5"
     ]
    },
    {
     "name": "stderr",
     "output_type": "stream",
     "text": [
      "minerl.env.malmo.instance.42cbc8[24072]"
     ]
    },
    {
     "name": "stdout",
     "output_type": "stream",
     "text": [
      "\n"
     ]
    },
    {
     "name": "stderr",
     "output_type": "stream",
     "text": [
      " DEBUG "
     ]
    },
    {
     "name": "stdout",
     "output_type": "stream",
     "text": [
      "step = "
     ]
    },
    {
     "name": "stderr",
     "output_type": "stream",
     "text": [
      "[18:28:36] [Netty Server IO #1/INFO]: [STDOUT]: Equip message recieved\n"
     ]
    },
    {
     "name": "stdout",
     "output_type": "stream",
     "text": [
      " 79DEBUG:minerl.env.malmo.instance.42cbc8:[18:28:36] [Netty Server IO #1/INFO]: [STDOUT]: got harbar 0\n",
      "\n"
     ]
    },
    {
     "name": "stderr",
     "output_type": "stream",
     "text": [
      "2019-12-01 18:28:36 LAPTOP-SDM3TI61 minerl.env.malmo.instance.42cbc8[24072] DEBUG [18:28:36] [Netty Server IO #1/INFO]: [STDOUT]: got harbar 0\n"
     ]
    },
    {
     "name": "stdout",
     "output_type": "stream",
     "text": [
      "DEBUG:minerl.env.malmo.instance.42cbc8:[18:28:36] [Netty Server IO #1/INFO]: [STDOUT]: got slot 0\r\n"
     ]
    },
    {
     "name": "stderr",
     "output_type": "stream",
     "text": [
      "2019-12-01 18:28:36 LAPTOP-SDM3TI61"
     ]
    },
    {
     "name": "stdout",
     "output_type": "stream",
     "text": [
      "1.5"
     ]
    },
    {
     "name": "stderr",
     "output_type": "stream",
     "text": [
      " "
     ]
    },
    {
     "name": "stdout",
     "output_type": "stream",
     "text": [
      "\n"
     ]
    },
    {
     "name": "stderr",
     "output_type": "stream",
     "text": [
      "minerl.env.malmo.instance.42cbc8[24072] DEBUG "
     ]
    },
    {
     "name": "stdout",
     "output_type": "stream",
     "text": [
      "step = "
     ]
    },
    {
     "name": "stderr",
     "output_type": "stream",
     "text": [
      "[18:28:36] [Netty Server IO #1/INFO]: [STDOUT]: got slot 0\r"
     ]
    },
    {
     "name": "stdout",
     "output_type": "stream",
     "text": [
      " "
     ]
    },
    {
     "name": "stderr",
     "output_type": "stream",
     "text": [
      "\n"
     ]
    },
    {
     "name": "stdout",
     "output_type": "stream",
     "text": [
      "80\n",
      "DEBUG:minerl.env.malmo.instance.42cbc8:[18:28:36] [Netty Server IO #1/INFO]: [STDOUT]: Equip message recieved\n"
     ]
    },
    {
     "name": "stderr",
     "output_type": "stream",
     "text": [
      "2019-12-01 18:28:36 LAPTOP-SDM3TI61 minerl.env.malmo.instance.42cbc8[24072] DEBUG [18:28:36] [Netty Server IO #1/INFO]: [STDOUT]: Equip message recieved\n"
     ]
    },
    {
     "name": "stdout",
     "output_type": "stream",
     "text": [
      "DEBUG:minerl.env.malmo.instance.42cbc8:[18:28:36] [Netty Server IO #1/INFO]: [STDOUT]: got harbar 0\r\n"
     ]
    },
    {
     "name": "stderr",
     "output_type": "stream",
     "text": [
      "2019-12-01 18:28:36 "
     ]
    },
    {
     "name": "stdout",
     "output_type": "stream",
     "text": [
      "1.5"
     ]
    },
    {
     "name": "stderr",
     "output_type": "stream",
     "text": [
      "LAPTOP-SDM3TI61"
     ]
    },
    {
     "name": "stdout",
     "output_type": "stream",
     "text": [
      "\n"
     ]
    },
    {
     "name": "stderr",
     "output_type": "stream",
     "text": [
      " minerl.env.malmo.instance.42cbc8[24072] "
     ]
    },
    {
     "name": "stdout",
     "output_type": "stream",
     "text": [
      "step = "
     ]
    },
    {
     "name": "stderr",
     "output_type": "stream",
     "text": [
      "DEBUG"
     ]
    },
    {
     "name": "stdout",
     "output_type": "stream",
     "text": [
      " "
     ]
    },
    {
     "name": "stderr",
     "output_type": "stream",
     "text": [
      " "
     ]
    },
    {
     "name": "stdout",
     "output_type": "stream",
     "text": [
      "81\n"
     ]
    },
    {
     "name": "stderr",
     "output_type": "stream",
     "text": [
      "[18:28:36] [Netty Server IO #1/INFO]: [STDOUT]: got harbar 0\n"
     ]
    },
    {
     "name": "stdout",
     "output_type": "stream",
     "text": [
      "DEBUG:minerl.env.malmo.instance.42cbc8:[18:28:36] [Netty Server IO #1/INFO]: [STDOUT]: got slot 0\r\n"
     ]
    },
    {
     "name": "stderr",
     "output_type": "stream",
     "text": [
      "2019-12-01 18:28:36 LAPTOP-SDM3TI61 minerl.env.malmo.instance.42cbc8[24072] DEBUG [18:28:36] [Netty Server IO #1/INFO]: [STDOUT]: got slot 0\n"
     ]
    },
    {
     "name": "stdout",
     "output_type": "stream",
     "text": [
      "1.5\n",
      "step =  82\n",
      "1.5\n",
      "step =  83\n",
      "DEBUG:minerl.env.malmo.instance.42cbc8:[18:28:36] [Netty Server IO #1/INFO]: [STDOUT]: Equip message recieved\n"
     ]
    },
    {
     "name": "stderr",
     "output_type": "stream",
     "text": [
      "2019-12-01 18:28:36 LAPTOP-SDM3TI61 minerl.env.malmo.instance.42cbc8[24072] DEBUG [18:28:36] [Netty Server IO #1/INFO]: [STDOUT]: Equip message recieved\n"
     ]
    },
    {
     "name": "stdout",
     "output_type": "stream",
     "text": [
      "DEBUG:minerl.env.malmo.instance.42cbc8:[18:28:36] [Netty Server IO #1/INFO]: [STDOUT]: got harbar 0\r\n"
     ]
    },
    {
     "name": "stderr",
     "output_type": "stream",
     "text": [
      "2019-12-01 18:28:36 LAPTOP-SDM3TI61 minerl.env.malmo.instance.42cbc8[24072]"
     ]
    },
    {
     "name": "stdout",
     "output_type": "stream",
     "text": [
      "1.5\n"
     ]
    },
    {
     "name": "stderr",
     "output_type": "stream",
     "text": [
      " DEBUG "
     ]
    },
    {
     "name": "stdout",
     "output_type": "stream",
     "text": [
      "step = "
     ]
    },
    {
     "name": "stderr",
     "output_type": "stream",
     "text": [
      "[18:28:36] [Netty Server IO #1/INFO]: [STDOUT]: got harbar 0\r"
     ]
    },
    {
     "name": "stdout",
     "output_type": "stream",
     "text": [
      " 84"
     ]
    },
    {
     "name": "stderr",
     "output_type": "stream",
     "text": [
      "\n"
     ]
    },
    {
     "name": "stdout",
     "output_type": "stream",
     "text": [
      "\n",
      "DEBUG:minerl.env.malmo.instance.42cbc8:[18:28:36] [Netty Server IO #1/INFO]: [STDOUT]: got slot 0\n"
     ]
    },
    {
     "name": "stderr",
     "output_type": "stream",
     "text": [
      "2019-12-01 18:28:36 LAPTOP-SDM3TI61 minerl.env.malmo.instance.42cbc8[24072] DEBUG [18:28:36] [Netty Server IO #1/INFO]: [STDOUT]: got slot 0\n"
     ]
    },
    {
     "name": "stdout",
     "output_type": "stream",
     "text": [
      "1.5\n",
      "step =  85\n",
      "1.5\n",
      "step =  86\n",
      "1.7\n",
      "step =  87\n",
      "1.8\n",
      "step =  88\n",
      "DEBUG:minerl.env.malmo.instance.42cbc8:[18:28:37] [Netty Server IO #1/INFO]: [STDOUT]: Equip message recieved\n"
     ]
    },
    {
     "name": "stderr",
     "output_type": "stream",
     "text": [
      "2019-12-01 18:28:37 LAPTOP-SDM3TI61 minerl.env.malmo.instance.42cbc8[24072] DEBUG [18:28:37] [Netty Server IO #1/INFO]: [STDOUT]: Equip message recieved\n"
     ]
    },
    {
     "name": "stdout",
     "output_type": "stream",
     "text": [
      "DEBUG:minerl.env.malmo.instance.42cbc8:[18:28:37] [Netty Server IO #1/INFO]: [STDOUT]: got harbar 0\r\n"
     ]
    },
    {
     "name": "stderr",
     "output_type": "stream",
     "text": [
      "2019-12-01 18:28:37 LAPTOP-SDM3TI61 minerl.env.malmo.instance.42cbc8[24072] DEBUG [18:28:37] [Netty Server IO #1/INFO]: [STDOUT]: got harbar 0\n"
     ]
    },
    {
     "name": "stdout",
     "output_type": "stream",
     "text": [
      "DEBUG:minerl.env.malmo.instance.42cbc8:[18:28:37] [Netty Server IO #1/INFO]: [STDOUT]: got slot 0\r\n"
     ]
    },
    {
     "name": "stderr",
     "output_type": "stream",
     "text": [
      "2019-12-01 18:28:37 LAPTOP-SDM3TI61 minerl.env.malmo.instance.42cbc8[24072] "
     ]
    },
    {
     "name": "stdout",
     "output_type": "stream",
     "text": [
      "1.8"
     ]
    },
    {
     "name": "stderr",
     "output_type": "stream",
     "text": [
      "DEBUG"
     ]
    },
    {
     "name": "stdout",
     "output_type": "stream",
     "text": [
      "\n"
     ]
    },
    {
     "name": "stderr",
     "output_type": "stream",
     "text": [
      " [18:28:37] [Netty Server IO #1/INFO]: [STDOUT]: got slot 0\n"
     ]
    },
    {
     "name": "stdout",
     "output_type": "stream",
     "text": [
      "step = DEBUG:minerl.env.malmo.instance.42cbc8:[18:28:37] [Client thread/INFO]: [CHAT] §l895...\n"
     ]
    },
    {
     "name": "stderr",
     "output_type": "stream",
     "text": [
      "2019-12-01 18:28:37"
     ]
    },
    {
     "name": "stdout",
     "output_type": "stream",
     "text": [
      " "
     ]
    },
    {
     "name": "stderr",
     "output_type": "stream",
     "text": [
      " "
     ]
    },
    {
     "name": "stdout",
     "output_type": "stream",
     "text": [
      "89"
     ]
    },
    {
     "name": "stderr",
     "output_type": "stream",
     "text": [
      "LAPTOP-SDM3TI61"
     ]
    },
    {
     "name": "stdout",
     "output_type": "stream",
     "text": [
      "\n"
     ]
    },
    {
     "name": "stderr",
     "output_type": "stream",
     "text": [
      " minerl.env.malmo.instance.42cbc8[24072] DEBUG [18:28:37] [Client thread/INFO]: [CHAT] §l895...\n"
     ]
    },
    {
     "name": "stdout",
     "output_type": "stream",
     "text": [
      "1.8\n",
      "step =  90\n",
      "1.8\n",
      "step =  91\n",
      "2.1\n",
      "step =  92\n",
      "2.1\n",
      "step =  93\n",
      "2.1\n",
      "step =  94\n",
      "2.1\n",
      "step =  95\n",
      "DEBUG:minerl.env.malmo.instance.42cbc8:[18:28:37] [Server thread/INFO]: [STDOUT]: Warning: managed 19/20 ticks this second.\n"
     ]
    },
    {
     "name": "stderr",
     "output_type": "stream",
     "text": [
      "2019-12-01 18:28:37 LAPTOP-SDM3TI61 minerl.env.malmo.instance.42cbc8[24072] DEBUG [18:28:37] [Server thread/INFO]: [STDOUT]: Warning: managed 19/20 ticks this second.\n"
     ]
    },
    {
     "name": "stdout",
     "output_type": "stream",
     "text": [
      "2.1\n",
      "step =  96\n",
      "DEBUG:minerl.env.malmo.instance.42cbc8:[18:28:37] [Netty Server IO #1/INFO]: [STDOUT]: Equip message recieved\n"
     ]
    },
    {
     "name": "stderr",
     "output_type": "stream",
     "text": [
      "2019-12-01 18:28:37 LAPTOP-SDM3TI61 minerl.env.malmo.instance.42cbc8[24072] DEBUG [18:28:37] [Netty Server IO #1/INFO]: [STDOUT]: Equip message recieved\n"
     ]
    },
    {
     "name": "stdout",
     "output_type": "stream",
     "text": [
      "DEBUG:minerl.env.malmo.instance.42cbc8:[18:28:37] [Netty Server IO #1/INFO]: [STDOUT]: got harbar 0\r\n"
     ]
    },
    {
     "name": "stderr",
     "output_type": "stream",
     "text": [
      "2019-12-01 18:28:37 LAPTOP-SDM3TI61 minerl.env.malmo.instance.42cbc8[24072] "
     ]
    },
    {
     "name": "stdout",
     "output_type": "stream",
     "text": [
      "2.1"
     ]
    },
    {
     "name": "stderr",
     "output_type": "stream",
     "text": [
      "DEBUG"
     ]
    },
    {
     "name": "stdout",
     "output_type": "stream",
     "text": [
      "\n"
     ]
    },
    {
     "name": "stderr",
     "output_type": "stream",
     "text": [
      " [18:28:37] [Netty Server IO #1/INFO]: [STDOUT]: got harbar 0\n"
     ]
    },
    {
     "name": "stdout",
     "output_type": "stream",
     "text": [
      "DEBUG:minerl.env.malmo.instance.42cbc8:[18:28:37] [Netty Server IO #1/INFO]: [STDOUT]: got slot 0\n",
      "step = "
     ]
    },
    {
     "name": "stderr",
     "output_type": "stream",
     "text": [
      "2019-12-01 18:28:37"
     ]
    },
    {
     "name": "stdout",
     "output_type": "stream",
     "text": [
      " "
     ]
    },
    {
     "name": "stderr",
     "output_type": "stream",
     "text": [
      " LAPTOP-SDM3TI61"
     ]
    },
    {
     "name": "stdout",
     "output_type": "stream",
     "text": [
      "97\n"
     ]
    },
    {
     "name": "stderr",
     "output_type": "stream",
     "text": [
      " minerl.env.malmo.instance.42cbc8[24072] DEBUG [18:28:37] [Netty Server IO #1/INFO]: [STDOUT]: got slot 0\n"
     ]
    },
    {
     "name": "stdout",
     "output_type": "stream",
     "text": [
      "DEBUG:minerl.env.malmo.instance.42cbc8:[18:28:37] [Netty Server IO #1/INFO]: [STDOUT]: Equip message recieved\r\n"
     ]
    },
    {
     "name": "stderr",
     "output_type": "stream",
     "text": [
      "2019-12-01 18:28:37 LAPTOP-SDM3TI61 minerl.env.malmo.instance.42cbc8[24072] DEBUG [18:28:37] [Netty Server IO #1/INFO]: [STDOUT]: Equip message recieved\n"
     ]
    },
    {
     "name": "stdout",
     "output_type": "stream",
     "text": [
      "2.4\n",
      "DEBUG:minerl.env.malmo.instance.42cbc8:[18:28:37] [Netty Server IO #1/INFO]: [STDOUT]: got harbar 0\n"
     ]
    },
    {
     "name": "stderr",
     "output_type": "stream",
     "text": [
      "2019-12-01 18:28:37 "
     ]
    },
    {
     "name": "stdout",
     "output_type": "stream",
     "text": [
      "step = "
     ]
    },
    {
     "name": "stderr",
     "output_type": "stream",
     "text": [
      "LAPTOP-SDM3TI61"
     ]
    },
    {
     "name": "stdout",
     "output_type": "stream",
     "text": [
      " "
     ]
    },
    {
     "name": "stderr",
     "output_type": "stream",
     "text": [
      " "
     ]
    },
    {
     "name": "stdout",
     "output_type": "stream",
     "text": [
      "98"
     ]
    },
    {
     "name": "stderr",
     "output_type": "stream",
     "text": [
      "minerl.env.malmo.instance.42cbc8[24072]"
     ]
    },
    {
     "name": "stdout",
     "output_type": "stream",
     "text": [
      "\n"
     ]
    },
    {
     "name": "stderr",
     "output_type": "stream",
     "text": [
      " DEBUG [18:28:37] [Netty Server IO #1/INFO]: [STDOUT]: got harbar 0\n"
     ]
    },
    {
     "name": "stdout",
     "output_type": "stream",
     "text": [
      "DEBUG:minerl.env.malmo.instance.42cbc8:[18:28:37] [Netty Server IO #1/INFO]: [STDOUT]: got slot 0\r\n"
     ]
    },
    {
     "name": "stderr",
     "output_type": "stream",
     "text": [
      "2019-12-01 18:28:37 LAPTOP-SDM3TI61 minerl.env.malmo.instance.42cbc8[24072] DEBUG [18:28:37] [Netty Server IO #1/INFO]: [STDOUT]: got slot 0\n"
     ]
    },
    {
     "name": "stdout",
     "output_type": "stream",
     "text": [
      "2.4\n",
      "step =  99\n",
      "DEBUG:minerl.env.malmo.instance.42cbc8:[18:28:37] [Netty Server IO #1/INFO]: [STDOUT]: Equip message recieved\n"
     ]
    },
    {
     "name": "stderr",
     "output_type": "stream",
     "text": [
      "2019-12-01 18:28:37 LAPTOP-SDM3TI61 minerl.env.malmo.instance.42cbc8[24072] DEBUG [18:28:37] [Netty Server IO #1/INFO]: [STDOUT]: Equip message recieved\n"
     ]
    },
    {
     "name": "stdout",
     "output_type": "stream",
     "text": [
      "DEBUG:minerl.env.malmo.instance.42cbc8:[18:28:37] [Netty Server IO #1/INFO]: [STDOUT]: got harbar 0\r\n"
     ]
    },
    {
     "name": "stderr",
     "output_type": "stream",
     "text": [
      "2019-12-01 18:28:37 LAPTOP-SDM3TI61 minerl.env.malmo.instance.42cbc8[24072] DEBUG [18:28:37] [Netty Server IO #1/INFO]: [STDOUT]: got harbar 0\n"
     ]
    },
    {
     "name": "stdout",
     "output_type": "stream",
     "text": [
      "DEBUG:minerl.env.malmo.instance.42cbc8:[18:28:37] [Netty Server IO #1/INFO]: [STDOUT]: got slot 0\r\n"
     ]
    },
    {
     "name": "stderr",
     "output_type": "stream",
     "text": [
      "2019-12-01 18:28:37 LAPTOP-SDM3TI61 minerl.env.malmo.instance.42cbc8[24072] DEBUG [18:28:37] [Netty Server IO #1/INFO]: [STDOUT]: got slot 0\n"
     ]
    },
    {
     "name": "stdout",
     "output_type": "stream",
     "text": [
      "2.4\n",
      "step =  100\n",
      "DEBUG:minerl.env.malmo.instance.42cbc8:[18:28:38] [Netty Server IO #1/INFO]: [STDOUT]: Equip message recieved\n"
     ]
    },
    {
     "name": "stderr",
     "output_type": "stream",
     "text": [
      "2019-12-01 18:28:38 LAPTOP-SDM3TI61 minerl.env.malmo.instance.42cbc8[24072] DEBUG [18:28:38] [Netty Server IO #1/INFO]: [STDOUT]: Equip message recieved\n"
     ]
    },
    {
     "name": "stdout",
     "output_type": "stream",
     "text": [
      "DEBUG:minerl.env.malmo.instance.42cbc8:[18:28:38] [Netty Server IO #1/INFO]: [STDOUT]: got harbar 0\n",
      "2.4"
     ]
    },
    {
     "name": "stderr",
     "output_type": "stream",
     "text": [
      "2019-12-01 18:28:38"
     ]
    },
    {
     "name": "stdout",
     "output_type": "stream",
     "text": [
      "\n"
     ]
    },
    {
     "name": "stderr",
     "output_type": "stream",
     "text": [
      " LAPTOP-SDM3TI61 "
     ]
    },
    {
     "name": "stdout",
     "output_type": "stream",
     "text": [
      "step = "
     ]
    },
    {
     "name": "stderr",
     "output_type": "stream",
     "text": [
      "minerl.env.malmo.instance.42cbc8[24072]"
     ]
    },
    {
     "name": "stdout",
     "output_type": "stream",
     "text": [
      " "
     ]
    },
    {
     "name": "stderr",
     "output_type": "stream",
     "text": [
      " "
     ]
    },
    {
     "name": "stdout",
     "output_type": "stream",
     "text": [
      "101"
     ]
    },
    {
     "name": "stderr",
     "output_type": "stream",
     "text": [
      "DEBUG"
     ]
    },
    {
     "name": "stdout",
     "output_type": "stream",
     "text": [
      "\n"
     ]
    },
    {
     "name": "stderr",
     "output_type": "stream",
     "text": [
      " [18:28:38] [Netty Server IO #1/INFO]: [STDOUT]: got harbar 0\n"
     ]
    },
    {
     "name": "stdout",
     "output_type": "stream",
     "text": [
      "DEBUG:minerl.env.malmo.instance.42cbc8:[18:28:38] [Netty Server IO #1/INFO]: [STDOUT]: got slot 0\r\n"
     ]
    },
    {
     "name": "stderr",
     "output_type": "stream",
     "text": [
      "2019-12-01 18:28:38 LAPTOP-SDM3TI61 minerl.env.malmo.instance.42cbc8[24072] DEBUG [18:28:38] [Netty Server IO #1/INFO]: [STDOUT]: got slot 0\n"
     ]
    },
    {
     "name": "stdout",
     "output_type": "stream",
     "text": [
      "2.4\n",
      "step =  102\n",
      "2.4\n",
      "step =  103\n",
      "DEBUG:minerl.env.malmo.instance.42cbc8:[18:28:38] [Netty Server IO #1/INFO]: [STDOUT]: Equip message recieved\n"
     ]
    },
    {
     "name": "stderr",
     "output_type": "stream",
     "text": [
      "2019-12-01 18:28:38 LAPTOP-SDM3TI61 minerl.env.malmo.instance.42cbc8[24072] DEBUG [18:28:38] [Netty Server IO #1/INFO]: [STDOUT]: Equip message recieved\n"
     ]
    },
    {
     "name": "stdout",
     "output_type": "stream",
     "text": [
      "DEBUG:minerl.env.malmo.instance.42cbc8:[18:28:38] [Netty Server IO #1/INFO]: [STDOUT]: got harbar 0\r\n"
     ]
    },
    {
     "name": "stderr",
     "output_type": "stream",
     "text": [
      "2019-12-01 18:28:38 LAPTOP-SDM3TI61 minerl.env.malmo.instance.42cbc8[24072] DEBUG"
     ]
    },
    {
     "name": "stdout",
     "output_type": "stream",
     "text": [
      "2.4\n"
     ]
    },
    {
     "name": "stderr",
     "output_type": "stream",
     "text": [
      " [18:28:38] [Netty Server IO #1/INFO]: [STDOUT]: got harbar 0\n"
     ]
    },
    {
     "name": "stdout",
     "output_type": "stream",
     "text": [
      "step = DEBUG:minerl.env.malmo.instance.42cbc8:[18:28:38] [Netty Server IO #1/INFO]: [STDOUT]: got slot 0\n",
      " "
     ]
    },
    {
     "name": "stderr",
     "output_type": "stream",
     "text": [
      "2019-12-01 18:28:38"
     ]
    },
    {
     "name": "stdout",
     "output_type": "stream",
     "text": [
      "104"
     ]
    },
    {
     "name": "stderr",
     "output_type": "stream",
     "text": [
      " "
     ]
    },
    {
     "name": "stdout",
     "output_type": "stream",
     "text": [
      "\n"
     ]
    },
    {
     "name": "stderr",
     "output_type": "stream",
     "text": [
      "LAPTOP-SDM3TI61 minerl.env.malmo.instance.42cbc8[24072] DEBUG [18:28:38] [Netty Server IO #1/INFO]: [STDOUT]: got slot 0\n"
     ]
    },
    {
     "name": "stdout",
     "output_type": "stream",
     "text": [
      "DEBUG:minerl.env.malmo.instance.42cbc8:[18:28:38] [Netty Server IO #1/INFO]: [STDOUT]: Equip message recieved\r\n"
     ]
    },
    {
     "name": "stderr",
     "output_type": "stream",
     "text": [
      "2019-12-01 18:28:38 LAPTOP-SDM3TI61 minerl.env.malmo.instance.42cbc8[24072] DEBUG [18:28:38] [Netty Server IO #1/INFO]: [STDOUT]: Equip message recieved\n"
     ]
    },
    {
     "name": "stdout",
     "output_type": "stream",
     "text": [
      "DEBUG:minerl.env.malmo.instance.42cbc8:[18:28:38] [Netty Server IO #1/INFO]: [STDOUT]: got harbar 0\r\n"
     ]
    },
    {
     "name": "stderr",
     "output_type": "stream",
     "text": [
      "2019-12-01 18:28:38 "
     ]
    },
    {
     "name": "stdout",
     "output_type": "stream",
     "text": [
      "2.4"
     ]
    },
    {
     "name": "stderr",
     "output_type": "stream",
     "text": [
      "LAPTOP-SDM3TI61"
     ]
    },
    {
     "name": "stdout",
     "output_type": "stream",
     "text": [
      "\n"
     ]
    },
    {
     "name": "stderr",
     "output_type": "stream",
     "text": [
      " minerl.env.malmo.instance.42cbc8[24072] DEBUG"
     ]
    },
    {
     "name": "stdout",
     "output_type": "stream",
     "text": [
      "step = "
     ]
    },
    {
     "name": "stderr",
     "output_type": "stream",
     "text": [
      " "
     ]
    },
    {
     "name": "stdout",
     "output_type": "stream",
     "text": [
      " "
     ]
    },
    {
     "name": "stderr",
     "output_type": "stream",
     "text": [
      "[18:28:38] [Netty Server IO #1/INFO]: [STDOUT]: got harbar 0\n"
     ]
    },
    {
     "name": "stdout",
     "output_type": "stream",
     "text": [
      "105\n",
      "DEBUG:minerl.env.malmo.instance.42cbc8:[18:28:38] [Netty Server IO #1/INFO]: [STDOUT]: got slot 0\n"
     ]
    },
    {
     "name": "stderr",
     "output_type": "stream",
     "text": [
      "2019-12-01 18:28:38 LAPTOP-SDM3TI61 minerl.env.malmo.instance.42cbc8[24072] DEBUG [18:28:38] [Netty Server IO #1/INFO]: [STDOUT]: got slot 0\n"
     ]
    },
    {
     "name": "stdout",
     "output_type": "stream",
     "text": [
      "DEBUG:minerl.env.malmo.instance.42cbc8:[18:28:38] [Server thread/INFO]: [STDOUT]: Warning: managed 9/20 ticks this second.\r\n"
     ]
    },
    {
     "name": "stderr",
     "output_type": "stream",
     "text": [
      "2019-12-01 18:28:38 LAPTOP-SDM3TI61 minerl.env.malmo.instance.42cbc8[24072]"
     ]
    },
    {
     "name": "stdout",
     "output_type": "stream",
     "text": [
      "2.4"
     ]
    },
    {
     "name": "stderr",
     "output_type": "stream",
     "text": [
      " "
     ]
    },
    {
     "name": "stdout",
     "output_type": "stream",
     "text": [
      "\n"
     ]
    },
    {
     "name": "stderr",
     "output_type": "stream",
     "text": [
      "DEBUG [18:28:38] [Server thread/INFO]: [STDOUT]: Warning: managed 9/20 ticks this second.\n"
     ]
    },
    {
     "name": "stdout",
     "output_type": "stream",
     "text": [
      "step =  106\n",
      "2.4\n",
      "step =  107\n",
      "DEBUG:minerl.env.malmo.instance.42cbc8:[18:28:38] [Netty Server IO #1/INFO]: [STDOUT]: Equip message recieved\n"
     ]
    },
    {
     "name": "stderr",
     "output_type": "stream",
     "text": [
      "2019-12-01 18:28:38 LAPTOP-SDM3TI61 minerl.env.malmo.instance.42cbc8[24072] DEBUG [18:28:38] [Netty Server IO #1/INFO]: [STDOUT]: Equip message recieved\n"
     ]
    },
    {
     "name": "stdout",
     "output_type": "stream",
     "text": [
      "DEBUG:minerl.env.malmo.instance.42cbc8:[18:28:38] [Netty Server IO #1/INFO]: [STDOUT]: got harbar 0\r\n"
     ]
    },
    {
     "name": "stderr",
     "output_type": "stream",
     "text": [
      "2019-12-01 18:28:38 LAPTOP-SDM3TI61 minerl.env.malmo.instance.42cbc8[24072] DEBUG [18:28:38] [Netty Server IO #1/INFO]: [STDOUT]: got harbar 0\n"
     ]
    },
    {
     "name": "stdout",
     "output_type": "stream",
     "text": [
      "DEBUG:minerl.env.malmo.instance.42cbc8:[18:28:38] [Netty Server IO #1/INFO]: [STDOUT]: got slot 0\r\n"
     ]
    },
    {
     "name": "stderr",
     "output_type": "stream",
     "text": [
      "2019-12-01 18:28:38 "
     ]
    },
    {
     "name": "stdout",
     "output_type": "stream",
     "text": [
      "2.4"
     ]
    },
    {
     "name": "stderr",
     "output_type": "stream",
     "text": [
      "LAPTOP-SDM3TI61"
     ]
    },
    {
     "name": "stdout",
     "output_type": "stream",
     "text": [
      "\n"
     ]
    },
    {
     "name": "stderr",
     "output_type": "stream",
     "text": [
      " minerl.env.malmo.instance.42cbc8[24072] "
     ]
    },
    {
     "name": "stdout",
     "output_type": "stream",
     "text": [
      "step = "
     ]
    },
    {
     "name": "stderr",
     "output_type": "stream",
     "text": [
      "DEBUG"
     ]
    },
    {
     "name": "stdout",
     "output_type": "stream",
     "text": [
      " 108"
     ]
    },
    {
     "name": "stderr",
     "output_type": "stream",
     "text": [
      " "
     ]
    },
    {
     "name": "stdout",
     "output_type": "stream",
     "text": [
      "\n"
     ]
    },
    {
     "name": "stderr",
     "output_type": "stream",
     "text": [
      "[18:28:38] [Netty Server IO #1/INFO]: [STDOUT]: got slot 0\n"
     ]
    },
    {
     "name": "stdout",
     "output_type": "stream",
     "text": [
      "DEBUG:minerl.env.malmo.instance.42cbc8:[18:28:38] [Client thread/INFO]: [CHAT] §l894...\n",
      "2.4"
     ]
    },
    {
     "name": "stderr",
     "output_type": "stream",
     "text": [
      "2019-12-01 18:28:38 "
     ]
    },
    {
     "name": "stdout",
     "output_type": "stream",
     "text": [
      "\n"
     ]
    },
    {
     "name": "stderr",
     "output_type": "stream",
     "text": [
      "LAPTOP-SDM3TI61 minerl.env.malmo.instance.42cbc8[24072] DEBUG"
     ]
    },
    {
     "name": "stdout",
     "output_type": "stream",
     "text": [
      "step = "
     ]
    },
    {
     "name": "stderr",
     "output_type": "stream",
     "text": [
      " "
     ]
    },
    {
     "name": "stdout",
     "output_type": "stream",
     "text": [
      " "
     ]
    },
    {
     "name": "stderr",
     "output_type": "stream",
     "text": [
      "[18:28:38] [Client thread/INFO]: [CHAT] §l894...\r"
     ]
    },
    {
     "name": "stdout",
     "output_type": "stream",
     "text": [
      "109"
     ]
    },
    {
     "name": "stderr",
     "output_type": "stream",
     "text": [
      "\n"
     ]
    },
    {
     "name": "stdout",
     "output_type": "stream",
     "text": [
      "\n",
      "DEBUG:minerl.env.malmo.instance.42cbc8:[18:28:38] [Netty Server IO #1/INFO]: [STDOUT]: Equip message recieved\n"
     ]
    },
    {
     "name": "stderr",
     "output_type": "stream",
     "text": [
      "2019-12-01 18:28:38 LAPTOP-SDM3TI61 minerl.env.malmo.instance.42cbc8[24072] DEBUG [18:28:38] [Netty Server IO #1/INFO]: [STDOUT]: Equip message recieved\n"
     ]
    },
    {
     "name": "stdout",
     "output_type": "stream",
     "text": [
      "DEBUG:minerl.env.malmo.instance.42cbc8:[18:28:38] [Netty Server IO #1/INFO]: [STDOUT]: got harbar 0\r\n"
     ]
    },
    {
     "name": "stderr",
     "output_type": "stream",
     "text": [
      "2019-12-01 18:28:38 LAPTOP-SDM3TI61"
     ]
    },
    {
     "name": "stdout",
     "output_type": "stream",
     "text": [
      "2.4"
     ]
    },
    {
     "name": "stderr",
     "output_type": "stream",
     "text": [
      " "
     ]
    },
    {
     "name": "stdout",
     "output_type": "stream",
     "text": [
      "\n"
     ]
    },
    {
     "name": "stderr",
     "output_type": "stream",
     "text": [
      "minerl.env.malmo.instance.42cbc8[24072] "
     ]
    },
    {
     "name": "stdout",
     "output_type": "stream",
     "text": [
      "step = "
     ]
    },
    {
     "name": "stderr",
     "output_type": "stream",
     "text": [
      "DEBUG"
     ]
    },
    {
     "name": "stdout",
     "output_type": "stream",
     "text": [
      " "
     ]
    },
    {
     "name": "stderr",
     "output_type": "stream",
     "text": [
      " "
     ]
    },
    {
     "name": "stdout",
     "output_type": "stream",
     "text": [
      "110\n"
     ]
    },
    {
     "name": "stderr",
     "output_type": "stream",
     "text": [
      "[18:28:38] [Netty Server IO #1/INFO]: [STDOUT]: got harbar 0\n"
     ]
    },
    {
     "name": "stdout",
     "output_type": "stream",
     "text": [
      "DEBUG:minerl.env.malmo.instance.42cbc8:[18:28:38] [Netty Server IO #1/INFO]: [STDOUT]: got slot 0\r\n"
     ]
    },
    {
     "name": "stderr",
     "output_type": "stream",
     "text": [
      "2019-12-01 18:28:38 LAPTOP-SDM3TI61 minerl.env.malmo.instance.42cbc8[24072] DEBUG [18:28:38] [Netty Server IO #1/INFO]: [STDOUT]: got slot 0\n"
     ]
    },
    {
     "name": "stdout",
     "output_type": "stream",
     "text": [
      "2.4\n",
      "step =  111\n",
      "2.4\n",
      "step =  112\n",
      "DEBUG:minerl.env.malmo.instance.42cbc8:[18:28:38] [Netty Server IO #1/INFO]: [STDOUT]: Equip message recieved\n"
     ]
    },
    {
     "name": "stderr",
     "output_type": "stream",
     "text": [
      "2019-12-01 18:28:38 LAPTOP-SDM3TI61 minerl.env.malmo.instance.42cbc8[24072] DEBUG [18:28:38] [Netty Server IO #1/INFO]: [STDOUT]: Equip message recieved\n"
     ]
    },
    {
     "name": "stdout",
     "output_type": "stream",
     "text": [
      "DEBUG:minerl.env.malmo.instance.42cbc8:[18:28:38] [Netty Server IO #1/INFO]: [STDOUT]: got harbar 0\r\n"
     ]
    },
    {
     "name": "stderr",
     "output_type": "stream",
     "text": [
      "2019-12-01 18:28:38 LAPTOP-SDM3TI61 minerl.env.malmo.instance.42cbc8[24072] DEBUG [18:28:38] [Netty Server IO #1/INFO]: [STDOUT]: got harbar 0\n"
     ]
    },
    {
     "name": "stdout",
     "output_type": "stream",
     "text": [
      "DEBUG:minerl.env.malmo.instance.42cbc8:[18:28:38] [Netty Server IO #1/INFO]: [STDOUT]: got slot 0\r\n"
     ]
    },
    {
     "name": "stderr",
     "output_type": "stream",
     "text": [
      "2019-12-01 18:28:38 LAPTOP-SDM3TI61 minerl.env.malmo.instance.42cbc8[24072] DEBUG [18:28:38] [Netty Server IO #1/INFO]: [STDOUT]: got slot 0\n"
     ]
    },
    {
     "name": "stdout",
     "output_type": "stream",
     "text": [
      "2.5\n",
      "step =  113\n",
      "DEBUG:minerl.env.malmo.instance.42cbc8:[18:28:38] [Netty Server IO #1/INFO]: [STDOUT]: Equip message recieved\n"
     ]
    },
    {
     "name": "stderr",
     "output_type": "stream",
     "text": [
      "2019-12-01 18:28:38 LAPTOP-SDM3TI61 minerl.env.malmo.instance.42cbc8[24072] DEBUG [18:28:38] [Netty Server IO #1/INFO]: [STDOUT]: Equip message recieved\n"
     ]
    },
    {
     "name": "stdout",
     "output_type": "stream",
     "text": [
      "DEBUG:minerl.env.malmo.instance.42cbc8:[18:28:38] [Netty Server IO #1/INFO]: [STDOUT]: got harbar 0\r\n"
     ]
    },
    {
     "name": "stderr",
     "output_type": "stream",
     "text": [
      "2019-12-01 18:28:38 LAPTOP-SDM3TI61 minerl.env.malmo.instance.42cbc8[24072] DEBUG [18:28:38] [Netty Server IO #1/INFO]: [STDOUT]: got harbar 0\n"
     ]
    },
    {
     "name": "stdout",
     "output_type": "stream",
     "text": [
      "DEBUG:minerl.env.malmo.instance.42cbc8:[18:28:38] [Netty Server IO #1/INFO]: [STDOUT]: got slot 0\r\n"
     ]
    },
    {
     "name": "stderr",
     "output_type": "stream",
     "text": [
      "2019-12-01 18:28:39"
     ]
    },
    {
     "name": "stdout",
     "output_type": "stream",
     "text": [
      "2.5"
     ]
    },
    {
     "name": "stderr",
     "output_type": "stream",
     "text": [
      " LAPTOP-SDM3TI61"
     ]
    },
    {
     "name": "stdout",
     "output_type": "stream",
     "text": [
      "\n"
     ]
    },
    {
     "name": "stderr",
     "output_type": "stream",
     "text": [
      " minerl.env.malmo.instance.42cbc8[24072]"
     ]
    },
    {
     "name": "stdout",
     "output_type": "stream",
     "text": [
      "step = "
     ]
    },
    {
     "name": "stderr",
     "output_type": "stream",
     "text": [
      " "
     ]
    },
    {
     "name": "stdout",
     "output_type": "stream",
     "text": [
      " "
     ]
    },
    {
     "name": "stderr",
     "output_type": "stream",
     "text": [
      "DEBUG"
     ]
    },
    {
     "name": "stdout",
     "output_type": "stream",
     "text": [
      "114"
     ]
    },
    {
     "name": "stderr",
     "output_type": "stream",
     "text": [
      " [18:28:38] [Netty Server IO #1/INFO]: [STDOUT]: got slot 0\r"
     ]
    },
    {
     "name": "stdout",
     "output_type": "stream",
     "text": [
      "\n"
     ]
    },
    {
     "name": "stderr",
     "output_type": "stream",
     "text": [
      "\n"
     ]
    },
    {
     "name": "stdout",
     "output_type": "stream",
     "text": [
      "2.5\n",
      "step =  115\n",
      "DEBUG:minerl.env.malmo.instance.42cbc8:[18:28:39] [Netty Server IO #1/INFO]: [STDOUT]: Equip message recieved\n"
     ]
    },
    {
     "name": "stderr",
     "output_type": "stream",
     "text": [
      "2019-12-01 18:28:39 LAPTOP-SDM3TI61 minerl.env.malmo.instance.42cbc8[24072] DEBUG [18:28:39] [Netty Server IO #1/INFO]: [STDOUT]: Equip message recieved\n"
     ]
    },
    {
     "name": "stdout",
     "output_type": "stream",
     "text": [
      "DEBUG:minerl.env.malmo.instance.42cbc8:[18:28:39] [Netty Server IO #1/INFO]: [STDOUT]: got harbar 0\r\n"
     ]
    },
    {
     "name": "stderr",
     "output_type": "stream",
     "text": [
      "2019-12-01 18:28:39 "
     ]
    },
    {
     "name": "stdout",
     "output_type": "stream",
     "text": [
      "2.7"
     ]
    },
    {
     "name": "stderr",
     "output_type": "stream",
     "text": [
      "LAPTOP-SDM3TI61"
     ]
    },
    {
     "name": "stdout",
     "output_type": "stream",
     "text": [
      "\n"
     ]
    },
    {
     "name": "stderr",
     "output_type": "stream",
     "text": [
      " minerl.env.malmo.instance.42cbc8[24072] DEBUG"
     ]
    },
    {
     "name": "stdout",
     "output_type": "stream",
     "text": [
      "step = "
     ]
    },
    {
     "name": "stderr",
     "output_type": "stream",
     "text": [
      " "
     ]
    },
    {
     "name": "stdout",
     "output_type": "stream",
     "text": [
      " "
     ]
    },
    {
     "name": "stderr",
     "output_type": "stream",
     "text": [
      "[18:28:39] [Netty Server IO #1/INFO]: [STDOUT]: got harbar 0\r"
     ]
    },
    {
     "name": "stdout",
     "output_type": "stream",
     "text": [
      "116\n"
     ]
    },
    {
     "name": "stderr",
     "output_type": "stream",
     "text": [
      "\n"
     ]
    },
    {
     "name": "stdout",
     "output_type": "stream",
     "text": [
      "DEBUG:minerl.env.malmo.instance.42cbc8:[18:28:39] [Netty Server IO #1/INFO]: [STDOUT]: got slot 0\r\n"
     ]
    },
    {
     "name": "stderr",
     "output_type": "stream",
     "text": [
      "2019-12-01 18:28:39 LAPTOP-SDM3TI61 minerl.env.malmo.instance.42cbc8[24072] DEBUG [18:28:39] [Netty Server IO #1/INFO]: [STDOUT]: got slot 0\n"
     ]
    },
    {
     "name": "stdout",
     "output_type": "stream",
     "text": [
      "2.8000000000000003\n",
      "step =  117\n",
      "2.8000000000000003\n",
      "step =  118\n",
      "DEBUG:minerl.env.malmo.instance.42cbc8:[18:28:39] [Netty Server IO #1/INFO]: [STDOUT]: Equip message recieved\n"
     ]
    },
    {
     "name": "stderr",
     "output_type": "stream",
     "text": [
      "2019-12-01 18:28:39 LAPTOP-SDM3TI61 minerl.env.malmo.instance.42cbc8[24072] DEBUG [18:28:39] [Netty Server IO #1/INFO]: [STDOUT]: Equip message recieved\n"
     ]
    },
    {
     "name": "stdout",
     "output_type": "stream",
     "text": [
      "DEBUG:minerl.env.malmo.instance.42cbc8:[18:28:39] [Netty Server IO #1/INFO]: [STDOUT]: got harbar 0\r\n"
     ]
    },
    {
     "name": "stderr",
     "output_type": "stream",
     "text": [
      "2019-12-01 18:28:39 "
     ]
    },
    {
     "name": "stdout",
     "output_type": "stream",
     "text": [
      "2.8000000000000003"
     ]
    },
    {
     "name": "stderr",
     "output_type": "stream",
     "text": [
      "LAPTOP-SDM3TI61"
     ]
    },
    {
     "name": "stdout",
     "output_type": "stream",
     "text": [
      "\n"
     ]
    },
    {
     "name": "stderr",
     "output_type": "stream",
     "text": [
      " minerl.env.malmo.instance.42cbc8[24072] DEBUG"
     ]
    },
    {
     "name": "stdout",
     "output_type": "stream",
     "text": [
      "step = "
     ]
    },
    {
     "name": "stderr",
     "output_type": "stream",
     "text": [
      " "
     ]
    },
    {
     "name": "stdout",
     "output_type": "stream",
     "text": [
      " "
     ]
    },
    {
     "name": "stderr",
     "output_type": "stream",
     "text": [
      "[18:28:39] [Netty Server IO #1/INFO]: [STDOUT]: got harbar 0\r"
     ]
    },
    {
     "name": "stdout",
     "output_type": "stream",
     "text": [
      "119"
     ]
    },
    {
     "name": "stderr",
     "output_type": "stream",
     "text": [
      "\n"
     ]
    },
    {
     "name": "stdout",
     "output_type": "stream",
     "text": [
      "\n",
      "DEBUG:minerl.env.malmo.instance.42cbc8:[18:28:39] [Netty Server IO #1/INFO]: [STDOUT]: got slot 0\n"
     ]
    },
    {
     "name": "stderr",
     "output_type": "stream",
     "text": [
      "2019-12-01 18:28:39 LAPTOP-SDM3TI61 minerl.env.malmo.instance.42cbc8[24072] DEBUG [18:28:39] [Netty Server IO #1/INFO]: [STDOUT]: got slot 0\n"
     ]
    },
    {
     "name": "stdout",
     "output_type": "stream",
     "text": [
      "DEBUG:minerl.env.malmo.instance.42cbc8:[18:28:39] [Netty Server IO #1/INFO]: [STDOUT]: Equip message recieved\r\n"
     ]
    },
    {
     "name": "stderr",
     "output_type": "stream",
     "text": [
      "2019-12-01 18:28:39 LAPTOP-SDM3TI61 minerl.env.malmo.instance.42cbc8[24072]"
     ]
    },
    {
     "name": "stdout",
     "output_type": "stream",
     "text": [
      "2.8000000000000003"
     ]
    },
    {
     "name": "stderr",
     "output_type": "stream",
     "text": [
      " "
     ]
    },
    {
     "name": "stdout",
     "output_type": "stream",
     "text": [
      "\n"
     ]
    },
    {
     "name": "stderr",
     "output_type": "stream",
     "text": [
      "DEBUG [18:28:39] [Netty Server IO #1/INFO]: [STDOUT]: Equip message recieved\r"
     ]
    },
    {
     "name": "stdout",
     "output_type": "stream",
     "text": [
      "step = "
     ]
    },
    {
     "name": "stderr",
     "output_type": "stream",
     "text": [
      "\n"
     ]
    },
    {
     "name": "stdout",
     "output_type": "stream",
     "text": [
      " 120DEBUG:minerl.env.malmo.instance.42cbc8:[18:28:39] [Netty Server IO #1/INFO]: [STDOUT]: got harbar 0\n",
      "\n"
     ]
    },
    {
     "name": "stderr",
     "output_type": "stream",
     "text": [
      "2019-12-01 18:28:39 LAPTOP-SDM3TI61 minerl.env.malmo.instance.42cbc8[24072] DEBUG [18:28:39] [Netty Server IO #1/INFO]: [STDOUT]: got harbar 0\n"
     ]
    },
    {
     "name": "stdout",
     "output_type": "stream",
     "text": [
      "DEBUG:minerl.env.malmo.instance.42cbc8:[18:28:39] [Netty Server IO #1/INFO]: [STDOUT]: got slot 0\r\n"
     ]
    },
    {
     "name": "stderr",
     "output_type": "stream",
     "text": [
      "2019-12-01 18:28:39 LAPTOP-SDM3TI61 minerl.env.malmo.instance.42cbc8[24072] DEBUG [18:28:39] [Netty Server IO #1/INFO]: [STDOUT]: got slot 0\n"
     ]
    },
    {
     "name": "stdout",
     "output_type": "stream",
     "text": [
      "2.8000000000000003\n",
      "step =  121\n",
      "2.8000000000000003\n",
      "step =  122\n",
      "2.8000000000000003\n",
      "step =  123\n",
      "2.8000000000000003\n",
      "step =  124\n",
      "DEBUG:minerl.env.malmo.instance.42cbc8:[18:28:39] [Netty Server IO #1/INFO]: [STDOUT]: Equip message recieved\n"
     ]
    },
    {
     "name": "stderr",
     "output_type": "stream",
     "text": [
      "2019-12-01 18:28:39 LAPTOP-SDM3TI61 minerl.env.malmo.instance.42cbc8[24072] DEBUG [18:28:39] [Netty Server IO #1/INFO]: [STDOUT]: Equip message recieved\n"
     ]
    },
    {
     "name": "stdout",
     "output_type": "stream",
     "text": [
      "DEBUG:minerl.env.malmo.instance.42cbc8:[18:28:39] [Netty Server IO #1/INFO]: [STDOUT]: got harbar 0\r\n"
     ]
    },
    {
     "name": "stderr",
     "output_type": "stream",
     "text": [
      "2019-12-01 18:28:39 LAPTOP-SDM3TI61 minerl.env.malmo.instance.42cbc8[24072] DEBUG [18:28:39] [Netty Server IO #1/INFO]: [STDOUT]: got harbar 0\n"
     ]
    },
    {
     "name": "stdout",
     "output_type": "stream",
     "text": [
      "DEBUG:minerl.env.malmo.instance.42cbc8:[18:28:39] [Netty Server IO #1/INFO]: [STDOUT]: got slot 0\r\n"
     ]
    },
    {
     "name": "stderr",
     "output_type": "stream",
     "text": [
      "2019-12-01 18:28:39 LAPTOP-SDM3TI61"
     ]
    },
    {
     "name": "stdout",
     "output_type": "stream",
     "text": [
      "2.8000000000000003"
     ]
    },
    {
     "name": "stderr",
     "output_type": "stream",
     "text": [
      " "
     ]
    },
    {
     "name": "stdout",
     "output_type": "stream",
     "text": [
      "\n"
     ]
    },
    {
     "name": "stderr",
     "output_type": "stream",
     "text": [
      "minerl.env.malmo.instance.42cbc8[24072] DEBUG "
     ]
    },
    {
     "name": "stdout",
     "output_type": "stream",
     "text": [
      "step = "
     ]
    },
    {
     "name": "stderr",
     "output_type": "stream",
     "text": [
      "[18:28:39] [Netty Server IO #1/INFO]: [STDOUT]: got slot 0\r"
     ]
    },
    {
     "name": "stdout",
     "output_type": "stream",
     "text": [
      " "
     ]
    },
    {
     "name": "stderr",
     "output_type": "stream",
     "text": [
      "\n"
     ]
    },
    {
     "name": "stdout",
     "output_type": "stream",
     "text": [
      "125\n",
      "DEBUG:minerl.env.malmo.instance.42cbc8:[18:28:39] [Netty Server IO #1/INFO]: [STDOUT]: Equip message recieved\n"
     ]
    },
    {
     "name": "stderr",
     "output_type": "stream",
     "text": [
      "2019-12-01 18:28:39 LAPTOP-SDM3TI61 minerl.env.malmo.instance.42cbc8[24072] DEBUG [18:28:39] [Netty Server IO #1/INFO]: [STDOUT]: Equip message recieved\n"
     ]
    },
    {
     "name": "stdout",
     "output_type": "stream",
     "text": [
      "DEBUG:minerl.env.malmo.instance.42cbc8:[18:28:39] [Netty Server IO #1/INFO]: [STDOUT]: got harbar 0\r\n"
     ]
    },
    {
     "name": "stderr",
     "output_type": "stream",
     "text": [
      "2019-12-01 18:28:39 LAPTOP-SDM3TI61 minerl.env.malmo.instance.42cbc8[24072] DEBUG [18:28:39] [Netty Server IO #1/INFO]: [STDOUT]: got harbar 0\n"
     ]
    },
    {
     "name": "stdout",
     "output_type": "stream",
     "text": [
      "DEBUG:minerl.env.malmo.instance.42cbc8:[18:28:39] [Netty Server IO #1/INFO]: [STDOUT]: got slot 0\r\n"
     ]
    },
    {
     "name": "stderr",
     "output_type": "stream",
     "text": [
      "2019-12-01 18:28:39"
     ]
    },
    {
     "name": "stdout",
     "output_type": "stream",
     "text": [
      "2.8000000000000003"
     ]
    },
    {
     "name": "stderr",
     "output_type": "stream",
     "text": [
      " "
     ]
    },
    {
     "name": "stdout",
     "output_type": "stream",
     "text": [
      "\n"
     ]
    },
    {
     "name": "stderr",
     "output_type": "stream",
     "text": [
      "LAPTOP-SDM3TI61 minerl.env.malmo.instance.42cbc8[24072] "
     ]
    },
    {
     "name": "stdout",
     "output_type": "stream",
     "text": [
      "step = "
     ]
    },
    {
     "name": "stderr",
     "output_type": "stream",
     "text": [
      "DEBUG"
     ]
    },
    {
     "name": "stdout",
     "output_type": "stream",
     "text": [
      " "
     ]
    },
    {
     "name": "stderr",
     "output_type": "stream",
     "text": [
      " "
     ]
    },
    {
     "name": "stdout",
     "output_type": "stream",
     "text": [
      "126"
     ]
    },
    {
     "name": "stderr",
     "output_type": "stream",
     "text": [
      "[18:28:39] [Netty Server IO #1/INFO]: [STDOUT]: got slot 0\r"
     ]
    },
    {
     "name": "stdout",
     "output_type": "stream",
     "text": [
      "\n"
     ]
    },
    {
     "name": "stderr",
     "output_type": "stream",
     "text": [
      "\n"
     ]
    },
    {
     "name": "stdout",
     "output_type": "stream",
     "text": [
      "2.8000000000000003\n",
      "step =  127\n",
      "2.8000000000000003\n",
      "step =  128\n",
      "2.8000000000000003DEBUG:minerl.env.malmo.instance.42cbc8:[18:28:39] [Client thread/INFO]: [CHAT] §l893...\n"
     ]
    },
    {
     "name": "stderr",
     "output_type": "stream",
     "text": [
      "2019-12-01 18:28:39"
     ]
    },
    {
     "name": "stdout",
     "output_type": "stream",
     "text": [
      "\n"
     ]
    },
    {
     "name": "stderr",
     "output_type": "stream",
     "text": [
      " LAPTOP-SDM3TI61 "
     ]
    },
    {
     "name": "stdout",
     "output_type": "stream",
     "text": [
      "step = "
     ]
    },
    {
     "name": "stderr",
     "output_type": "stream",
     "text": [
      "minerl.env.malmo.instance.42cbc8[24072]"
     ]
    },
    {
     "name": "stdout",
     "output_type": "stream",
     "text": [
      " "
     ]
    },
    {
     "name": "stderr",
     "output_type": "stream",
     "text": [
      " "
     ]
    },
    {
     "name": "stdout",
     "output_type": "stream",
     "text": [
      "129"
     ]
    },
    {
     "name": "stderr",
     "output_type": "stream",
     "text": [
      "DEBUG"
     ]
    },
    {
     "name": "stdout",
     "output_type": "stream",
     "text": [
      "\n"
     ]
    },
    {
     "name": "stderr",
     "output_type": "stream",
     "text": [
      " [18:28:39] [Client thread/INFO]: [CHAT] §l893...\n"
     ]
    },
    {
     "name": "stdout",
     "output_type": "stream",
     "text": [
      "2.8000000000000003\n",
      "step =  130\n",
      "DEBUG:minerl.env.malmo.instance.42cbc8:[18:28:39] [Netty Server IO #1/INFO]: [STDOUT]: Equip message recieved\n"
     ]
    },
    {
     "name": "stderr",
     "output_type": "stream",
     "text": [
      "2019-12-01 18:28:39 LAPTOP-SDM3TI61 minerl.env.malmo.instance.42cbc8[24072] DEBUG [18:28:39] [Netty Server IO #1/INFO]: [STDOUT]: Equip message recieved\n"
     ]
    },
    {
     "name": "stdout",
     "output_type": "stream",
     "text": [
      "DEBUG:minerl.env.malmo.instance.42cbc8:[18:28:39] [Netty Server IO #1/INFO]: [STDOUT]: got harbar 0\r\n"
     ]
    },
    {
     "name": "stderr",
     "output_type": "stream",
     "text": [
      "2019-12-01 18:28:39 LAPTOP-SDM3TI61 minerl.env.malmo.instance.42cbc8[24072] DEBUG "
     ]
    },
    {
     "name": "stdout",
     "output_type": "stream",
     "text": [
      "2.8000000000000003"
     ]
    },
    {
     "name": "stderr",
     "output_type": "stream",
     "text": [
      "[18:28:39] [Netty Server IO #1/INFO]: [STDOUT]: got harbar 0\r"
     ]
    },
    {
     "name": "stdout",
     "output_type": "stream",
     "text": [
      "\n"
     ]
    },
    {
     "name": "stderr",
     "output_type": "stream",
     "text": [
      "\n"
     ]
    },
    {
     "name": "stdout",
     "output_type": "stream",
     "text": [
      "DEBUG:minerl.env.malmo.instance.42cbc8:[18:28:39] [Netty Server IO #1/INFO]: [STDOUT]: got slot 0\r\n"
     ]
    },
    {
     "name": "stderr",
     "output_type": "stream",
     "text": [
      "2019-12-01 18:28:39 "
     ]
    },
    {
     "name": "stdout",
     "output_type": "stream",
     "text": [
      "step =  "
     ]
    },
    {
     "name": "stderr",
     "output_type": "stream",
     "text": [
      "LAPTOP-SDM3TI61"
     ]
    },
    {
     "name": "stdout",
     "output_type": "stream",
     "text": [
      "131"
     ]
    },
    {
     "name": "stderr",
     "output_type": "stream",
     "text": [
      " "
     ]
    },
    {
     "name": "stdout",
     "output_type": "stream",
     "text": [
      "\n"
     ]
    },
    {
     "name": "stderr",
     "output_type": "stream",
     "text": [
      "minerl.env.malmo.instance.42cbc8[24072] DEBUG [18:28:39] [Netty Server IO #1/INFO]: [STDOUT]: got slot 0\n"
     ]
    },
    {
     "name": "stdout",
     "output_type": "stream",
     "text": [
      "2.8000000000000003\n",
      "step =  132\n",
      "DEBUG:minerl.env.malmo.instance.42cbc8:[18:28:39] [Netty Server IO #1/INFO]: [STDOUT]: Equip message recieved\n"
     ]
    },
    {
     "name": "stderr",
     "output_type": "stream",
     "text": [
      "2019-12-01 18:28:39 LAPTOP-SDM3TI61 minerl.env.malmo.instance.42cbc8[24072] DEBUG [18:28:39] [Netty Server IO #1/INFO]: [STDOUT]: Equip message recieved\n"
     ]
    },
    {
     "name": "stdout",
     "output_type": "stream",
     "text": [
      "DEBUG:minerl.env.malmo.instance.42cbc8:[18:28:39] [Netty Server IO #1/INFO]: [STDOUT]: got harbar 0\r\n"
     ]
    },
    {
     "name": "stderr",
     "output_type": "stream",
     "text": [
      "2019-12-01 18:28:39 LAPTOP-SDM3TI61 minerl.env.malmo.instance.42cbc8[24072] DEBUG [18:28:39] [Netty Server IO #1/INFO]: [STDOUT]: got harbar 0\n"
     ]
    },
    {
     "name": "stdout",
     "output_type": "stream",
     "text": [
      "DEBUG:minerl.env.malmo.instance.42cbc8:[18:28:39] [Netty Server IO #1/INFO]: [STDOUT]: got slot 0\r\n"
     ]
    },
    {
     "name": "stderr",
     "output_type": "stream",
     "text": [
      "2019-12-01 18:28:39"
     ]
    },
    {
     "name": "stdout",
     "output_type": "stream",
     "text": [
      "2.8000000000000003"
     ]
    },
    {
     "name": "stderr",
     "output_type": "stream",
     "text": [
      " "
     ]
    },
    {
     "name": "stdout",
     "output_type": "stream",
     "text": [
      "\n"
     ]
    },
    {
     "name": "stderr",
     "output_type": "stream",
     "text": [
      "LAPTOP-SDM3TI61 minerl.env.malmo.instance.42cbc8[24072]"
     ]
    },
    {
     "name": "stdout",
     "output_type": "stream",
     "text": [
      "step = "
     ]
    },
    {
     "name": "stderr",
     "output_type": "stream",
     "text": [
      " "
     ]
    },
    {
     "name": "stdout",
     "output_type": "stream",
     "text": [
      " "
     ]
    },
    {
     "name": "stderr",
     "output_type": "stream",
     "text": [
      "DEBUG"
     ]
    },
    {
     "name": "stdout",
     "output_type": "stream",
     "text": [
      "133"
     ]
    },
    {
     "name": "stderr",
     "output_type": "stream",
     "text": [
      " "
     ]
    },
    {
     "name": "stdout",
     "output_type": "stream",
     "text": [
      "\n"
     ]
    },
    {
     "name": "stderr",
     "output_type": "stream",
     "text": [
      "[18:28:39] [Netty Server IO #1/INFO]: [STDOUT]: got slot 0\n"
     ]
    },
    {
     "name": "stdout",
     "output_type": "stream",
     "text": [
      "2.8000000000000003\n",
      "step =  134\n",
      "2.9000000000000004\n",
      "step =  135\n",
      "2.9000000000000004\n",
      "step =  136\n",
      "2.9000000000000004\n",
      "step =  137\n",
      "2.9000000000000004\n",
      "step =  138\n",
      "DEBUG:minerl.env.malmo.instance.42cbc8:[18:28:40] [Netty Server IO #1/INFO]: [STDOUT]: Equip message recieved\n"
     ]
    },
    {
     "name": "stderr",
     "output_type": "stream",
     "text": [
      "2019-12-01 18:28:40 LAPTOP-SDM3TI61 minerl.env.malmo.instance.42cbc8[24072] DEBUG [18:28:40] [Netty Server IO #1/INFO]: [STDOUT]: Equip message recieved\n"
     ]
    },
    {
     "name": "stdout",
     "output_type": "stream",
     "text": [
      "DEBUG:minerl.env.malmo.instance.42cbc8:[18:28:40] [Netty Server IO #1/INFO]: [STDOUT]: got harbar 0\r\n"
     ]
    },
    {
     "name": "stderr",
     "output_type": "stream",
     "text": [
      "2019-12-01 18:28:40 LAPTOP-SDM3TI61 minerl.env.malmo.instance.42cbc8[24072] DEBUG [18:28:40] [Netty Server IO #1/INFO]: [STDOUT]: got harbar 0\r"
     ]
    },
    {
     "name": "stdout",
     "output_type": "stream",
     "text": [
      "2.9000000000000004"
     ]
    },
    {
     "name": "stderr",
     "output_type": "stream",
     "text": [
      "\n"
     ]
    },
    {
     "name": "stdout",
     "output_type": "stream",
     "text": [
      "\n",
      "DEBUG:minerl.env.malmo.instance.42cbc8:[18:28:40] [Netty Server IO #1/INFO]: [STDOUT]: got slot 0\n"
     ]
    },
    {
     "name": "stderr",
     "output_type": "stream",
     "text": [
      "2019-12-01 18:28:40 LAPTOP-SDM3TI61"
     ]
    },
    {
     "name": "stdout",
     "output_type": "stream",
     "text": [
      "step = "
     ]
    },
    {
     "name": "stderr",
     "output_type": "stream",
     "text": [
      " "
     ]
    },
    {
     "name": "stdout",
     "output_type": "stream",
     "text": [
      " "
     ]
    },
    {
     "name": "stderr",
     "output_type": "stream",
     "text": [
      "minerl.env.malmo.instance.42cbc8[24072]"
     ]
    },
    {
     "name": "stdout",
     "output_type": "stream",
     "text": [
      "139"
     ]
    },
    {
     "name": "stderr",
     "output_type": "stream",
     "text": [
      " "
     ]
    },
    {
     "name": "stdout",
     "output_type": "stream",
     "text": [
      "\n"
     ]
    },
    {
     "name": "stderr",
     "output_type": "stream",
     "text": [
      "DEBUG [18:28:40] [Netty Server IO #1/INFO]: [STDOUT]: got slot 0\n"
     ]
    },
    {
     "name": "stdout",
     "output_type": "stream",
     "text": [
      "2.9000000000000004\n",
      "step =  140\n",
      "DEBUG:minerl.env.malmo.instance.42cbc8:[18:28:40] [Netty Server IO #1/INFO]: [STDOUT]: Equip message recieved\n"
     ]
    },
    {
     "name": "stderr",
     "output_type": "stream",
     "text": [
      "2019-12-01 18:28:40 LAPTOP-SDM3TI61 minerl.env.malmo.instance.42cbc8[24072] DEBUG [18:28:40] [Netty Server IO #1/INFO]: [STDOUT]: Equip message recieved\n"
     ]
    },
    {
     "name": "stdout",
     "output_type": "stream",
     "text": [
      "DEBUG:minerl.env.malmo.instance.42cbc8:[18:28:40] [Netty Server IO #1/INFO]: [STDOUT]: got harbar 0\r\n"
     ]
    },
    {
     "name": "stderr",
     "output_type": "stream",
     "text": [
      "2019-12-01 18:28:40 LAPTOP-SDM3TI61 minerl.env.malmo.instance.42cbc8[24072] DEBUG [18:28:40] [Netty Server IO #1/INFO]: [STDOUT]: got harbar 0\n"
     ]
    },
    {
     "name": "stdout",
     "output_type": "stream",
     "text": [
      "DEBUG:minerl.env.malmo.instance.42cbc8:[18:28:40] [Netty Server IO #1/INFO]: [STDOUT]: got slot 0\r\n"
     ]
    },
    {
     "name": "stderr",
     "output_type": "stream",
     "text": [
      "2019-12-01 18:28:40 "
     ]
    },
    {
     "name": "stdout",
     "output_type": "stream",
     "text": [
      "2.9000000000000004"
     ]
    },
    {
     "name": "stderr",
     "output_type": "stream",
     "text": [
      "LAPTOP-SDM3TI61"
     ]
    },
    {
     "name": "stdout",
     "output_type": "stream",
     "text": [
      "\n"
     ]
    },
    {
     "name": "stderr",
     "output_type": "stream",
     "text": [
      " minerl.env.malmo.instance.42cbc8[24072] "
     ]
    },
    {
     "name": "stdout",
     "output_type": "stream",
     "text": [
      "step = "
     ]
    },
    {
     "name": "stderr",
     "output_type": "stream",
     "text": [
      "DEBUG"
     ]
    },
    {
     "name": "stdout",
     "output_type": "stream",
     "text": [
      " "
     ]
    },
    {
     "name": "stderr",
     "output_type": "stream",
     "text": [
      " "
     ]
    },
    {
     "name": "stdout",
     "output_type": "stream",
     "text": [
      "141"
     ]
    },
    {
     "name": "stderr",
     "output_type": "stream",
     "text": [
      "[18:28:40] [Netty Server IO #1/INFO]: [STDOUT]: got slot 0\r"
     ]
    },
    {
     "name": "stdout",
     "output_type": "stream",
     "text": [
      "\n"
     ]
    },
    {
     "name": "stderr",
     "output_type": "stream",
     "text": [
      "\n"
     ]
    },
    {
     "name": "stdout",
     "output_type": "stream",
     "text": [
      "DEBUG:minerl.env.malmo.instance.42cbc8:[18:28:40] [Netty Server IO #1/INFO]: [STDOUT]: Equip message recieved\r\n"
     ]
    },
    {
     "name": "stderr",
     "output_type": "stream",
     "text": [
      "2019-12-01 18:28:40 LAPTOP-SDM3TI61 minerl.env.malmo.instance.42cbc8[24072] DEBUG [18:28:40] [Netty Server IO #1/INFO]: [STDOUT]: Equip message recieved\n"
     ]
    },
    {
     "name": "stdout",
     "output_type": "stream",
     "text": [
      "DEBUG:minerl.env.malmo.instance.42cbc8:[18:28:40] [Netty Server IO #1/INFO]: [STDOUT]: got harbar 0\r\n"
     ]
    },
    {
     "name": "stderr",
     "output_type": "stream",
     "text": [
      "2019-12-01 18:28:40 "
     ]
    },
    {
     "name": "stdout",
     "output_type": "stream",
     "text": [
      "2.9000000000000004"
     ]
    },
    {
     "name": "stderr",
     "output_type": "stream",
     "text": [
      "LAPTOP-SDM3TI61"
     ]
    },
    {
     "name": "stdout",
     "output_type": "stream",
     "text": [
      "\n"
     ]
    },
    {
     "name": "stderr",
     "output_type": "stream",
     "text": [
      " minerl.env.malmo.instance.42cbc8[24072] DEBUG "
     ]
    },
    {
     "name": "stdout",
     "output_type": "stream",
     "text": [
      "step =  "
     ]
    },
    {
     "name": "stderr",
     "output_type": "stream",
     "text": [
      "[18:28:40] [Netty Server IO #1/INFO]: [STDOUT]: got harbar 0\n"
     ]
    },
    {
     "name": "stdout",
     "output_type": "stream",
     "text": [
      "142\n",
      "DEBUG:minerl.env.malmo.instance.42cbc8:[18:28:40] [Netty Server IO #1/INFO]: [STDOUT]: got slot 0\n"
     ]
    },
    {
     "name": "stderr",
     "output_type": "stream",
     "text": [
      "2019-12-01 18:28:40 LAPTOP-SDM3TI61 minerl.env.malmo.instance.42cbc8[24072] DEBUG [18:28:40] [Netty Server IO #1/INFO]: [STDOUT]: got slot 0\n"
     ]
    },
    {
     "name": "stdout",
     "output_type": "stream",
     "text": [
      "2.9000000000000004\n",
      "step =  143\n",
      "2.9000000000000004\n",
      "step =  144\n",
      "2.9000000000000004\n",
      "step =  145\n",
      "2.9000000000000004\n",
      "step =  146\n",
      "DEBUG:minerl.env.malmo.instance.42cbc8:[18:28:40] [Netty Server IO #1/INFO]: [STDOUT]: Equip message recieved\n"
     ]
    },
    {
     "name": "stderr",
     "output_type": "stream",
     "text": [
      "2019-12-01 18:28:40 LAPTOP-SDM3TI61 minerl.env.malmo.instance.42cbc8[24072] DEBUG [18:28:40] [Netty Server IO #1/INFO]: [STDOUT]: Equip message recieved\n"
     ]
    },
    {
     "name": "stdout",
     "output_type": "stream",
     "text": [
      "DEBUG:minerl.env.malmo.instance.42cbc8:[18:28:40] [Netty Server IO #1/INFO]: [STDOUT]: got harbar 0\r\n"
     ]
    },
    {
     "name": "stderr",
     "output_type": "stream",
     "text": [
      "2019-12-01 18:28:40 LAPTOP-SDM3TI61 minerl.env.malmo.instance.42cbc8[24072] "
     ]
    },
    {
     "name": "stdout",
     "output_type": "stream",
     "text": [
      "2.9000000000000004"
     ]
    },
    {
     "name": "stderr",
     "output_type": "stream",
     "text": [
      "DEBUG "
     ]
    },
    {
     "name": "stdout",
     "output_type": "stream",
     "text": [
      "\n"
     ]
    },
    {
     "name": "stderr",
     "output_type": "stream",
     "text": [
      "[18:28:40] [Netty Server IO #1/INFO]: [STDOUT]: got harbar 0\n"
     ]
    },
    {
     "name": "stdout",
     "output_type": "stream",
     "text": [
      "DEBUG:minerl.env.malmo.instance.42cbc8:[18:28:40] [Netty Server IO #1/INFO]: [STDOUT]: got slot 0\n",
      "step = "
     ]
    },
    {
     "name": "stderr",
     "output_type": "stream",
     "text": [
      "2019-12-01 18:28:40"
     ]
    },
    {
     "name": "stdout",
     "output_type": "stream",
     "text": [
      " "
     ]
    },
    {
     "name": "stderr",
     "output_type": "stream",
     "text": [
      " "
     ]
    },
    {
     "name": "stdout",
     "output_type": "stream",
     "text": [
      "147"
     ]
    },
    {
     "name": "stderr",
     "output_type": "stream",
     "text": [
      "LAPTOP-SDM3TI61"
     ]
    },
    {
     "name": "stdout",
     "output_type": "stream",
     "text": [
      "\n"
     ]
    },
    {
     "name": "stderr",
     "output_type": "stream",
     "text": [
      " minerl.env.malmo.instance.42cbc8[24072] DEBUG [18:28:40] [Netty Server IO #1/INFO]: [STDOUT]: got slot 0\n"
     ]
    },
    {
     "name": "stdout",
     "output_type": "stream",
     "text": [
      "DEBUG:minerl.env.malmo.instance.42cbc8:[18:28:40] [Netty Server IO #1/INFO]: [STDOUT]: Equip message recieved\r\n"
     ]
    },
    {
     "name": "stderr",
     "output_type": "stream",
     "text": [
      "2019-12-01 18:28:40 LAPTOP-SDM3TI61 minerl.env.malmo.instance.42cbc8[24072] DEBUG [18:28:40] [Netty Server IO #1/INFO]: [STDOUT]: Equip message recieved\n"
     ]
    },
    {
     "name": "stdout",
     "output_type": "stream",
     "text": [
      "2.9000000000000004\n",
      "DEBUG:minerl.env.malmo.instance.42cbc8:[18:28:40] [Netty Server IO #1/INFO]: [STDOUT]: got harbar 0\n"
     ]
    },
    {
     "name": "stderr",
     "output_type": "stream",
     "text": [
      "2019-12-01 18:28:40 "
     ]
    },
    {
     "name": "stdout",
     "output_type": "stream",
     "text": [
      "step = "
     ]
    },
    {
     "name": "stderr",
     "output_type": "stream",
     "text": [
      "LAPTOP-SDM3TI61"
     ]
    },
    {
     "name": "stdout",
     "output_type": "stream",
     "text": [
      " "
     ]
    },
    {
     "name": "stderr",
     "output_type": "stream",
     "text": [
      " "
     ]
    },
    {
     "name": "stdout",
     "output_type": "stream",
     "text": [
      "148\n"
     ]
    },
    {
     "name": "stderr",
     "output_type": "stream",
     "text": [
      "minerl.env.malmo.instance.42cbc8[24072] DEBUG [18:28:40] [Netty Server IO #1/INFO]: [STDOUT]: got harbar 0\n"
     ]
    },
    {
     "name": "stdout",
     "output_type": "stream",
     "text": [
      "DEBUG:minerl.env.malmo.instance.42cbc8:[18:28:40] [Netty Server IO #1/INFO]: [STDOUT]: got slot 0\r\n"
     ]
    },
    {
     "name": "stderr",
     "output_type": "stream",
     "text": [
      "2019-12-01 18:28:40 LAPTOP-SDM3TI61 minerl.env.malmo.instance.42cbc8[24072] DEBUG [18:28:40] [Netty Server IO #1/INFO]: [STDOUT]: got slot 0\n"
     ]
    },
    {
     "name": "stdout",
     "output_type": "stream",
     "text": [
      "DEBUG:minerl.env.malmo.instance.42cbc8:[18:28:40] [Netty Server IO #1/INFO]: [STDOUT]: Equip message recieved\r\n"
     ]
    },
    {
     "name": "stderr",
     "output_type": "stream",
     "text": [
      "2019-12-01 18:28:40 LAPTOP-SDM3TI61 "
     ]
    },
    {
     "name": "stdout",
     "output_type": "stream",
     "text": [
      "2.9000000000000004"
     ]
    },
    {
     "name": "stderr",
     "output_type": "stream",
     "text": [
      "minerl.env.malmo.instance.42cbc8[24072]"
     ]
    },
    {
     "name": "stdout",
     "output_type": "stream",
     "text": [
      "\n"
     ]
    },
    {
     "name": "stderr",
     "output_type": "stream",
     "text": [
      " DEBUG [18:28:40] [Netty Server IO #1/INFO]: [STDOUT]: Equip message recieved\r"
     ]
    },
    {
     "name": "stdout",
     "output_type": "stream",
     "text": [
      "step = "
     ]
    },
    {
     "name": "stderr",
     "output_type": "stream",
     "text": [
      "\n"
     ]
    },
    {
     "name": "stdout",
     "output_type": "stream",
     "text": [
      " 149DEBUG:minerl.env.malmo.instance.42cbc8:[18:28:40] [Netty Server IO #1/INFO]: [STDOUT]: got harbar 0\n"
     ]
    },
    {
     "name": "stderr",
     "output_type": "stream",
     "text": [
      "2019-12-01 18:28:40"
     ]
    },
    {
     "name": "stdout",
     "output_type": "stream",
     "text": [
      "\n"
     ]
    },
    {
     "name": "stderr",
     "output_type": "stream",
     "text": [
      " LAPTOP-SDM3TI61 minerl.env.malmo.instance.42cbc8[24072] DEBUG [18:28:40] [Netty Server IO #1/INFO]: [STDOUT]: got harbar 0\n"
     ]
    },
    {
     "name": "stdout",
     "output_type": "stream",
     "text": [
      "DEBUG:minerl.env.malmo.instance.42cbc8:[18:28:40] [Netty Server IO #1/INFO]: [STDOUT]: got slot 0\r\n"
     ]
    },
    {
     "name": "stderr",
     "output_type": "stream",
     "text": [
      "2019-12-01 18:28:40 LAPTOP-SDM3TI61 minerl.env.malmo.instance.42cbc8[24072] DEBUG [18:28:40] [Netty Server IO #1/INFO]: [STDOUT]: got slot 0\n"
     ]
    },
    {
     "name": "stdout",
     "output_type": "stream",
     "text": [
      "2.9000000000000004\n",
      "DEBUG:minerl.env.malmo.instance.42cbc8:[18:28:40] [Client thread/INFO]: [CHAT] §l892...\n"
     ]
    },
    {
     "name": "stderr",
     "output_type": "stream",
     "text": [
      "2019-12-01 18:28:40 LAPTOP-SDM3TI61 "
     ]
    },
    {
     "name": "stdout",
     "output_type": "stream",
     "text": [
      "step = "
     ]
    },
    {
     "name": "stderr",
     "output_type": "stream",
     "text": [
      "minerl.env.malmo.instance.42cbc8[24072]"
     ]
    },
    {
     "name": "stdout",
     "output_type": "stream",
     "text": [
      " 150"
     ]
    },
    {
     "name": "stderr",
     "output_type": "stream",
     "text": [
      " "
     ]
    },
    {
     "name": "stdout",
     "output_type": "stream",
     "text": [
      "\n"
     ]
    },
    {
     "name": "stderr",
     "output_type": "stream",
     "text": [
      "DEBUG [18:28:40] [Client thread/INFO]: [CHAT] §l892...\n"
     ]
    },
    {
     "name": "stdout",
     "output_type": "stream",
     "text": [
      "DEBUG:minerl.env.malmo.instance.42cbc8:[18:28:40] [Netty Server IO #1/INFO]: [STDOUT]: Equip message recieved\r\n"
     ]
    },
    {
     "name": "stderr",
     "output_type": "stream",
     "text": [
      "2019-12-01 18:28:40 LAPTOP-SDM3TI61 minerl.env.malmo.instance.42cbc8[24072] DEBUG [18:28:40] [Netty Server IO #1/INFO]: [STDOUT]: Equip message recieved\n"
     ]
    },
    {
     "name": "stdout",
     "output_type": "stream",
     "text": [
      "DEBUG:minerl.env.malmo.instance.42cbc8:[18:28:40] [Netty Server IO #1/INFO]: [STDOUT]: got harbar 0\r\n"
     ]
    },
    {
     "name": "stderr",
     "output_type": "stream",
     "text": [
      "2019-12-01 18:28:40 LAPTOP-SDM3TI61 minerl.env.malmo.instance.42cbc8[24072] DEBUG "
     ]
    },
    {
     "name": "stdout",
     "output_type": "stream",
     "text": [
      "2.9000000000000004"
     ]
    },
    {
     "name": "stderr",
     "output_type": "stream",
     "text": [
      "[18:28:40] [Netty Server IO #1/INFO]: [STDOUT]: got harbar 0\r"
     ]
    },
    {
     "name": "stdout",
     "output_type": "stream",
     "text": [
      "\n"
     ]
    },
    {
     "name": "stderr",
     "output_type": "stream",
     "text": [
      "\n"
     ]
    },
    {
     "name": "stdout",
     "output_type": "stream",
     "text": [
      "step = DEBUG:minerl.env.malmo.instance.42cbc8:[18:28:40] [Netty Server IO #1/INFO]: [STDOUT]: got slot 0\n"
     ]
    },
    {
     "name": "stderr",
     "output_type": "stream",
     "text": [
      "2019-12-01 18:28:40"
     ]
    },
    {
     "name": "stdout",
     "output_type": "stream",
     "text": [
      " "
     ]
    },
    {
     "name": "stderr",
     "output_type": "stream",
     "text": [
      " "
     ]
    },
    {
     "name": "stdout",
     "output_type": "stream",
     "text": [
      "151"
     ]
    },
    {
     "name": "stderr",
     "output_type": "stream",
     "text": [
      "LAPTOP-SDM3TI61"
     ]
    },
    {
     "name": "stdout",
     "output_type": "stream",
     "text": [
      "\n"
     ]
    },
    {
     "name": "stderr",
     "output_type": "stream",
     "text": [
      " minerl.env.malmo.instance.42cbc8[24072] DEBUG [18:28:40] [Netty Server IO #1/INFO]: [STDOUT]: got slot 0\n"
     ]
    },
    {
     "name": "stdout",
     "output_type": "stream",
     "text": [
      "2.9000000000000004\n",
      "step =  152\n",
      "3.2\n",
      "step =  153\n",
      "DEBUG:minerl.env.malmo.instance.42cbc8:[18:28:40] [Netty Server IO #1/INFO]: [STDOUT]: Equip message recieved\n"
     ]
    },
    {
     "name": "stderr",
     "output_type": "stream",
     "text": [
      "2019-12-01 18:28:40 LAPTOP-SDM3TI61 minerl.env.malmo.instance.42cbc8[24072] DEBUG [18:28:40] [Netty Server IO #1/INFO]: [STDOUT]: Equip message recieved\n"
     ]
    },
    {
     "name": "stdout",
     "output_type": "stream",
     "text": [
      "DEBUG:minerl.env.malmo.instance.42cbc8:[18:28:40] [Netty Server IO #1/INFO]: [STDOUT]: got harbar 0\r\n"
     ]
    },
    {
     "name": "stderr",
     "output_type": "stream",
     "text": [
      "2019-12-01 18:28:40 LAPTOP-SDM3TI61 minerl.env.malmo.instance.42cbc8[24072] DEBUG [18:28:40] [Netty Server IO #1/INFO]: [STDOUT]: got harbar 0\n"
     ]
    },
    {
     "name": "stdout",
     "output_type": "stream",
     "text": [
      "DEBUG:minerl.env.malmo.instance.42cbc8:[18:28:40] [Netty Server IO #1/INFO]: [STDOUT]: got slot 0\r\n"
     ]
    },
    {
     "name": "stderr",
     "output_type": "stream",
     "text": [
      "2019-12-01 18:28:40 LAPTOP-SDM3TI61 minerl.env.malmo.instance.42cbc8[24072] DEBUG"
     ]
    },
    {
     "name": "stdout",
     "output_type": "stream",
     "text": [
      "3.2\n"
     ]
    },
    {
     "name": "stderr",
     "output_type": "stream",
     "text": [
      " [18:28:40] [Netty Server IO #1/INFO]: [STDOUT]: got slot 0\n"
     ]
    },
    {
     "name": "stdout",
     "output_type": "stream",
     "text": [
      "step =  154\n",
      "3.2\n",
      "step =  155\n",
      "3.2\n",
      "step =  156\n",
      "3.2\n",
      "step =  157\n",
      "DEBUG:minerl.env.malmo.instance.42cbc8:[18:28:40] [Netty Server IO #1/INFO]: [STDOUT]: Equip message recieved\n"
     ]
    },
    {
     "name": "stderr",
     "output_type": "stream",
     "text": [
      "2019-12-01 18:28:40 LAPTOP-SDM3TI61 minerl.env.malmo.instance.42cbc8[24072] DEBUG [18:28:40] [Netty Server IO #1/INFO]: [STDOUT]: Equip message recieved\n"
     ]
    },
    {
     "name": "stdout",
     "output_type": "stream",
     "text": [
      "DEBUG:minerl.env.malmo.instance.42cbc8:[18:28:40] [Netty Server IO #1/INFO]: [STDOUT]: got harbar 0\r\n"
     ]
    },
    {
     "name": "stderr",
     "output_type": "stream",
     "text": [
      "2019-12-01 18:28:40 LAPTOP-SDM3TI61 minerl.env.malmo.instance.42cbc8[24072] DEBUG [18:28:40] [Netty Server IO #1/INFO]: [STDOUT]: got harbar 0\n"
     ]
    },
    {
     "name": "stdout",
     "output_type": "stream",
     "text": [
      "DEBUG:minerl.env.malmo.instance.42cbc8:[18:28:40] [Netty Server IO #1/INFO]: [STDOUT]: got slot 0\r\n"
     ]
    },
    {
     "name": "stderr",
     "output_type": "stream",
     "text": [
      "2019-12-01 18:28:40"
     ]
    },
    {
     "name": "stdout",
     "output_type": "stream",
     "text": [
      "3.2"
     ]
    },
    {
     "name": "stderr",
     "output_type": "stream",
     "text": [
      " "
     ]
    },
    {
     "name": "stdout",
     "output_type": "stream",
     "text": [
      "\n"
     ]
    },
    {
     "name": "stderr",
     "output_type": "stream",
     "text": [
      "LAPTOP-SDM3TI61 minerl.env.malmo.instance.42cbc8[24072] "
     ]
    },
    {
     "name": "stdout",
     "output_type": "stream",
     "text": [
      "step = "
     ]
    },
    {
     "name": "stderr",
     "output_type": "stream",
     "text": [
      "DEBUG"
     ]
    },
    {
     "name": "stdout",
     "output_type": "stream",
     "text": [
      " "
     ]
    },
    {
     "name": "stderr",
     "output_type": "stream",
     "text": [
      " "
     ]
    },
    {
     "name": "stdout",
     "output_type": "stream",
     "text": [
      "158"
     ]
    },
    {
     "name": "stderr",
     "output_type": "stream",
     "text": [
      "[18:28:40] [Netty Server IO #1/INFO]: [STDOUT]: got slot 0\r"
     ]
    },
    {
     "name": "stdout",
     "output_type": "stream",
     "text": [
      "\n"
     ]
    },
    {
     "name": "stderr",
     "output_type": "stream",
     "text": [
      "\n"
     ]
    },
    {
     "name": "stdout",
     "output_type": "stream",
     "text": [
      "3.2\n",
      "step =  159\n",
      "3.2\n",
      "step =  160\n",
      "DEBUG:minerl.env.malmo.instance.42cbc8:[18:28:40] [Netty Server IO #1/INFO]: [STDOUT]: Equip message recieved\n"
     ]
    },
    {
     "name": "stderr",
     "output_type": "stream",
     "text": [
      "2019-12-01 18:28:40 LAPTOP-SDM3TI61 minerl.env.malmo.instance.42cbc8[24072] DEBUG [18:28:40] [Netty Server IO #1/INFO]: [STDOUT]: Equip message recieved\n"
     ]
    },
    {
     "name": "stdout",
     "output_type": "stream",
     "text": [
      "DEBUG:minerl.env.malmo.instance.42cbc8:[18:28:40] [Netty Server IO #1/INFO]: [STDOUT]: got harbar 0\r\n"
     ]
    },
    {
     "name": "stderr",
     "output_type": "stream",
     "text": [
      "2019-12-01 18:28:40 LAPTOP-SDM3TI61 minerl.env.malmo.instance.42cbc8[24072] DEBUG [18:28:40] [Netty Server IO #1/INFO]: [STDOUT]: got harbar 0\n"
     ]
    },
    {
     "name": "stdout",
     "output_type": "stream",
     "text": [
      "DEBUG:minerl.env.malmo.instance.42cbc8:[18:28:40] [Netty Server IO #1/INFO]: [STDOUT]: got slot 0\r\n"
     ]
    },
    {
     "name": "stderr",
     "output_type": "stream",
     "text": [
      "2019-12-01 18:28:40 LAPTOP-SDM3TI61 minerl.env.malmo.instance.42cbc8[24072] DEBUG [18:28:40] [Netty Server IO #1/INFO]: [STDOUT]: got slot 0\r"
     ]
    },
    {
     "name": "stdout",
     "output_type": "stream",
     "text": [
      "3.2"
     ]
    },
    {
     "name": "stderr",
     "output_type": "stream",
     "text": [
      "\n"
     ]
    },
    {
     "name": "stdout",
     "output_type": "stream",
     "text": [
      "\n",
      "step =  161\n",
      "DEBUG:minerl.env.malmo.instance.42cbc8:[18:28:40] [Netty Server IO #1/INFO]: [STDOUT]: Equip message recieved\n"
     ]
    },
    {
     "name": "stderr",
     "output_type": "stream",
     "text": [
      "2019-12-01 18:28:40 LAPTOP-SDM3TI61 minerl.env.malmo.instance.42cbc8[24072] DEBUG [18:28:40] [Netty Server IO #1/INFO]: [STDOUT]: Equip message recieved\n"
     ]
    },
    {
     "name": "stdout",
     "output_type": "stream",
     "text": [
      "DEBUG:minerl.env.malmo.instance.42cbc8:[18:28:40] [Netty Server IO #1/INFO]: [STDOUT]: got harbar 0\r\n"
     ]
    },
    {
     "name": "stderr",
     "output_type": "stream",
     "text": [
      "2019-12-01 18:28:40 LAPTOP-SDM3TI61 minerl.env.malmo.instance.42cbc8[24072] DEBUG [18:28:40] [Netty Server IO #1/INFO]: [STDOUT]: got harbar 0\n"
     ]
    },
    {
     "name": "stdout",
     "output_type": "stream",
     "text": [
      "DEBUG:minerl.env.malmo.instance.42cbc8:[18:28:40] [Netty Server IO #1/INFO]: [STDOUT]: got slot 0\r\n"
     ]
    },
    {
     "name": "stderr",
     "output_type": "stream",
     "text": [
      "2019-12-01 18:28:40 "
     ]
    },
    {
     "name": "stdout",
     "output_type": "stream",
     "text": [
      "3.5"
     ]
    },
    {
     "name": "stderr",
     "output_type": "stream",
     "text": [
      "LAPTOP-SDM3TI61"
     ]
    },
    {
     "name": "stdout",
     "output_type": "stream",
     "text": [
      "\n"
     ]
    },
    {
     "name": "stderr",
     "output_type": "stream",
     "text": [
      " minerl.env.malmo.instance.42cbc8[24072] DEBUG "
     ]
    },
    {
     "name": "stdout",
     "output_type": "stream",
     "text": [
      "step = "
     ]
    },
    {
     "name": "stderr",
     "output_type": "stream",
     "text": [
      "[18:28:40] [Netty Server IO #1/INFO]: [STDOUT]: got slot 0\r"
     ]
    },
    {
     "name": "stdout",
     "output_type": "stream",
     "text": [
      " "
     ]
    },
    {
     "name": "stderr",
     "output_type": "stream",
     "text": [
      "\n"
     ]
    },
    {
     "name": "stdout",
     "output_type": "stream",
     "text": [
      "162\n",
      "3.5\n",
      "step =  163\n",
      "3.5\n",
      "step =  164\n",
      "3.5\n",
      "step =  165\n",
      "DEBUG:minerl.env.malmo.instance.42cbc8:[18:28:41] [Netty Server IO #1/INFO]: [STDOUT]: Equip message recieved\n"
     ]
    },
    {
     "name": "stderr",
     "output_type": "stream",
     "text": [
      "2019-12-01 18:28:41 LAPTOP-SDM3TI61 minerl.env.malmo.instance.42cbc8[24072] DEBUG [18:28:41] [Netty Server IO #1/INFO]: [STDOUT]: Equip message recieved\n"
     ]
    },
    {
     "name": "stdout",
     "output_type": "stream",
     "text": [
      "DEBUG:minerl.env.malmo.instance.42cbc8:[18:28:41] [Netty Server IO #1/INFO]: [STDOUT]: got harbar 0\r\n"
     ]
    },
    {
     "name": "stderr",
     "output_type": "stream",
     "text": [
      "2019-12-01 18:28:41 LAPTOP-SDM3TI61 minerl.env.malmo.instance.42cbc8[24072] DEBUG [18:28:41] [Netty Server IO #1/INFO]: [STDOUT]: got harbar 0\n"
     ]
    },
    {
     "name": "stdout",
     "output_type": "stream",
     "text": [
      "DEBUG:minerl.env.malmo.instance.42cbc8:[18:28:41] [Netty Server IO #1/INFO]: [STDOUT]: got slot 0\r\n"
     ]
    },
    {
     "name": "stderr",
     "output_type": "stream",
     "text": [
      "2019-12-01 18:28:41 LAPTOP-SDM3TI61 minerl.env.malmo.instance.42cbc8[24072] DEBUG [18:28:41] [Netty Server IO #1/INFO]: [STDOUT]: got slot 0\n"
     ]
    },
    {
     "name": "stdout",
     "output_type": "stream",
     "text": [
      "3.5\n",
      "step =  166\n",
      "DEBUG:minerl.env.malmo.instance.42cbc8:[18:28:41] [Netty Server IO #1/INFO]: [STDOUT]: Equip message recieved\n"
     ]
    },
    {
     "name": "stderr",
     "output_type": "stream",
     "text": [
      "2019-12-01 18:28:41 LAPTOP-SDM3TI61 minerl.env.malmo.instance.42cbc8[24072] DEBUG [18:28:41] [Netty Server IO #1/INFO]: [STDOUT]: Equip message recieved\n"
     ]
    },
    {
     "name": "stdout",
     "output_type": "stream",
     "text": [
      "DEBUG:minerl.env.malmo.instance.42cbc8:[18:28:41] [Netty Server IO #1/INFO]: [STDOUT]: got harbar 0\r\n"
     ]
    },
    {
     "name": "stderr",
     "output_type": "stream",
     "text": [
      "2019-12-01 18:28:41 LAPTOP-SDM3TI61 minerl.env.malmo.instance.42cbc8[24072] DEBUG [18:28:41] [Netty Server IO #1/INFO]: [STDOUT]: got harbar 0\r"
     ]
    },
    {
     "name": "stdout",
     "output_type": "stream",
     "text": [
      "3.5"
     ]
    },
    {
     "name": "stderr",
     "output_type": "stream",
     "text": [
      "\n"
     ]
    },
    {
     "name": "stdout",
     "output_type": "stream",
     "text": [
      "\n",
      "DEBUG:minerl.env.malmo.instance.42cbc8:[18:28:41] [Netty Server IO #1/INFO]: [STDOUT]: got slot 0\n"
     ]
    },
    {
     "name": "stderr",
     "output_type": "stream",
     "text": [
      "2019-12-01 18:28:41 LAPTOP-SDM3TI61"
     ]
    },
    {
     "name": "stdout",
     "output_type": "stream",
     "text": [
      "step = "
     ]
    },
    {
     "name": "stderr",
     "output_type": "stream",
     "text": [
      " minerl.env.malmo.instance.42cbc8[24072]"
     ]
    },
    {
     "name": "stdout",
     "output_type": "stream",
     "text": [
      " 167"
     ]
    },
    {
     "name": "stderr",
     "output_type": "stream",
     "text": [
      " "
     ]
    },
    {
     "name": "stdout",
     "output_type": "stream",
     "text": [
      "\n"
     ]
    },
    {
     "name": "stderr",
     "output_type": "stream",
     "text": [
      "DEBUG [18:28:41] [Netty Server IO #1/INFO]: [STDOUT]: got slot 0\n"
     ]
    },
    {
     "name": "stdout",
     "output_type": "stream",
     "text": [
      "3.5\n",
      "step =  168\n",
      "3.5DEBUG:minerl.env.malmo.instance.42cbc8:[18:28:41] [Client thread/INFO]: [CHAT] §l891...\n"
     ]
    },
    {
     "name": "stderr",
     "output_type": "stream",
     "text": [
      "2019-12-01 18:28:41"
     ]
    },
    {
     "name": "stdout",
     "output_type": "stream",
     "text": [
      "\n"
     ]
    },
    {
     "name": "stderr",
     "output_type": "stream",
     "text": [
      " LAPTOP-SDM3TI61 minerl.env.malmo.instance.42cbc8[24072] DEBUG"
     ]
    },
    {
     "name": "stdout",
     "output_type": "stream",
     "text": [
      "step = "
     ]
    },
    {
     "name": "stderr",
     "output_type": "stream",
     "text": [
      " "
     ]
    },
    {
     "name": "stdout",
     "output_type": "stream",
     "text": [
      " 169"
     ]
    },
    {
     "name": "stderr",
     "output_type": "stream",
     "text": [
      "[18:28:41] [Client thread/INFO]: [CHAT] §l891...\r"
     ]
    },
    {
     "name": "stdout",
     "output_type": "stream",
     "text": [
      "\n"
     ]
    },
    {
     "name": "stderr",
     "output_type": "stream",
     "text": [
      "\n"
     ]
    },
    {
     "name": "stdout",
     "output_type": "stream",
     "text": [
      "DEBUG:minerl.env.malmo.instance.42cbc8:[18:28:41] [Netty Server IO #1/INFO]: [STDOUT]: Equip message recieved\r\n"
     ]
    },
    {
     "name": "stderr",
     "output_type": "stream",
     "text": [
      "2019-12-01 18:28:41 LAPTOP-SDM3TI61 minerl.env.malmo.instance.42cbc8[24072] DEBUG [18:28:41] [Netty Server IO #1/INFO]: [STDOUT]: Equip message recieved\n"
     ]
    },
    {
     "name": "stdout",
     "output_type": "stream",
     "text": [
      "DEBUG:minerl.env.malmo.instance.42cbc8:[18:28:41] [Netty Server IO #1/INFO]: [STDOUT]: got harbar 0\r\n"
     ]
    },
    {
     "name": "stderr",
     "output_type": "stream",
     "text": [
      "2019-12-01 18:28:41"
     ]
    },
    {
     "name": "stdout",
     "output_type": "stream",
     "text": [
      "3.5"
     ]
    },
    {
     "name": "stderr",
     "output_type": "stream",
     "text": [
      " "
     ]
    },
    {
     "name": "stdout",
     "output_type": "stream",
     "text": [
      "\n"
     ]
    },
    {
     "name": "stderr",
     "output_type": "stream",
     "text": [
      "LAPTOP-SDM3TI61 minerl.env.malmo.instance.42cbc8[24072] DEBUG "
     ]
    },
    {
     "name": "stdout",
     "output_type": "stream",
     "text": [
      "step = "
     ]
    },
    {
     "name": "stderr",
     "output_type": "stream",
     "text": [
      "[18:28:41] [Netty Server IO #1/INFO]: [STDOUT]: got harbar 0\r"
     ]
    },
    {
     "name": "stdout",
     "output_type": "stream",
     "text": [
      " 170"
     ]
    },
    {
     "name": "stderr",
     "output_type": "stream",
     "text": [
      "\n"
     ]
    },
    {
     "name": "stdout",
     "output_type": "stream",
     "text": [
      "\n",
      "DEBUG:minerl.env.malmo.instance.42cbc8:[18:28:41] [Netty Server IO #1/INFO]: [STDOUT]: got slot 0\n"
     ]
    },
    {
     "name": "stderr",
     "output_type": "stream",
     "text": [
      "2019-12-01 18:28:41 LAPTOP-SDM3TI61 minerl.env.malmo.instance.42cbc8[24072] DEBUG [18:28:41] [Netty Server IO #1/INFO]: [STDOUT]: got slot 0\n"
     ]
    },
    {
     "name": "stdout",
     "output_type": "stream",
     "text": [
      "DEBUG:minerl.env.malmo.instance.42cbc8:[18:28:41] [Netty Server IO #1/INFO]: [STDOUT]: Equip message recieved\r\n"
     ]
    },
    {
     "name": "stderr",
     "output_type": "stream",
     "text": [
      "2019-12-01 18:28:41 LAPTOP-SDM3TI61 minerl.env.malmo.instance.42cbc8[24072] DEBUG "
     ]
    },
    {
     "name": "stdout",
     "output_type": "stream",
     "text": [
      "3.5"
     ]
    },
    {
     "name": "stderr",
     "output_type": "stream",
     "text": [
      "[18:28:41] [Netty Server IO #1/INFO]: [STDOUT]: Equip message recieved\r"
     ]
    },
    {
     "name": "stdout",
     "output_type": "stream",
     "text": [
      "\n"
     ]
    },
    {
     "name": "stderr",
     "output_type": "stream",
     "text": [
      "\n"
     ]
    },
    {
     "name": "stdout",
     "output_type": "stream",
     "text": [
      "DEBUG:minerl.env.malmo.instance.42cbc8:[18:28:41] [Netty Server IO #1/INFO]: [STDOUT]: got harbar 0\r\n"
     ]
    },
    {
     "name": "stderr",
     "output_type": "stream",
     "text": [
      "2019-12-01 18:28:41 "
     ]
    },
    {
     "name": "stdout",
     "output_type": "stream",
     "text": [
      "step = "
     ]
    },
    {
     "name": "stderr",
     "output_type": "stream",
     "text": [
      "LAPTOP-SDM3TI61"
     ]
    },
    {
     "name": "stdout",
     "output_type": "stream",
     "text": [
      " "
     ]
    },
    {
     "name": "stderr",
     "output_type": "stream",
     "text": [
      " "
     ]
    },
    {
     "name": "stdout",
     "output_type": "stream",
     "text": [
      "171"
     ]
    },
    {
     "name": "stderr",
     "output_type": "stream",
     "text": [
      "minerl.env.malmo.instance.42cbc8[24072]"
     ]
    },
    {
     "name": "stdout",
     "output_type": "stream",
     "text": [
      "\n"
     ]
    },
    {
     "name": "stderr",
     "output_type": "stream",
     "text": [
      " DEBUG [18:28:41] [Netty Server IO #1/INFO]: [STDOUT]: got harbar 0\n"
     ]
    },
    {
     "name": "stdout",
     "output_type": "stream",
     "text": [
      "DEBUG:minerl.env.malmo.instance.42cbc8:[18:28:41] [Netty Server IO #1/INFO]: [STDOUT]: got slot 0\r\n"
     ]
    },
    {
     "name": "stderr",
     "output_type": "stream",
     "text": [
      "2019-12-01 18:28:41 LAPTOP-SDM3TI61 minerl.env.malmo.instance.42cbc8[24072] DEBUG [18:28:41] [Netty Server IO #1/INFO]: [STDOUT]: got slot 0\n"
     ]
    },
    {
     "name": "stdout",
     "output_type": "stream",
     "text": [
      "3.5\n",
      "DEBUG:minerl.env.malmo.instance.42cbc8:[18:28:41] [Netty Server IO #1/INFO]: [STDOUT]: Equip message recieved\n"
     ]
    },
    {
     "name": "stderr",
     "output_type": "stream",
     "text": [
      "2019-12-01 18:28:41 LAPTOP-SDM3TI61 "
     ]
    },
    {
     "name": "stdout",
     "output_type": "stream",
     "text": [
      "step = "
     ]
    },
    {
     "name": "stderr",
     "output_type": "stream",
     "text": [
      "minerl.env.malmo.instance.42cbc8[24072]"
     ]
    },
    {
     "name": "stdout",
     "output_type": "stream",
     "text": [
      " 172"
     ]
    },
    {
     "name": "stderr",
     "output_type": "stream",
     "text": [
      " "
     ]
    },
    {
     "name": "stdout",
     "output_type": "stream",
     "text": [
      "\n"
     ]
    },
    {
     "name": "stderr",
     "output_type": "stream",
     "text": [
      "DEBUG [18:28:41] [Netty Server IO #1/INFO]: [STDOUT]: Equip message recieved\n"
     ]
    },
    {
     "name": "stdout",
     "output_type": "stream",
     "text": [
      "DEBUG:minerl.env.malmo.instance.42cbc8:[18:28:41] [Netty Server IO #1/INFO]: [STDOUT]: got harbar 0\r\n"
     ]
    },
    {
     "name": "stderr",
     "output_type": "stream",
     "text": [
      "2019-12-01 18:28:41 LAPTOP-SDM3TI61 minerl.env.malmo.instance.42cbc8[24072] DEBUG [18:28:41] [Netty Server IO #1/INFO]: [STDOUT]: got harbar 0\n"
     ]
    },
    {
     "name": "stdout",
     "output_type": "stream",
     "text": [
      "DEBUG:minerl.env.malmo.instance.42cbc8:[18:28:41] [Netty Server IO #1/INFO]: [STDOUT]: got slot 0\n",
      "3.5"
     ]
    },
    {
     "name": "stderr",
     "output_type": "stream",
     "text": [
      "2019-12-01 18:28:41"
     ]
    },
    {
     "name": "stdout",
     "output_type": "stream",
     "text": [
      "\n"
     ]
    },
    {
     "name": "stderr",
     "output_type": "stream",
     "text": [
      " LAPTOP-SDM3TI61 minerl.env.malmo.instance.42cbc8[24072] "
     ]
    },
    {
     "name": "stdout",
     "output_type": "stream",
     "text": [
      "step = "
     ]
    },
    {
     "name": "stderr",
     "output_type": "stream",
     "text": [
      "DEBUG"
     ]
    },
    {
     "name": "stdout",
     "output_type": "stream",
     "text": [
      " "
     ]
    },
    {
     "name": "stderr",
     "output_type": "stream",
     "text": [
      " "
     ]
    },
    {
     "name": "stdout",
     "output_type": "stream",
     "text": [
      "173"
     ]
    },
    {
     "name": "stderr",
     "output_type": "stream",
     "text": [
      "[18:28:41] [Netty Server IO #1/INFO]: [STDOUT]: got slot 0\r"
     ]
    },
    {
     "name": "stdout",
     "output_type": "stream",
     "text": [
      "\n"
     ]
    },
    {
     "name": "stderr",
     "output_type": "stream",
     "text": [
      "\n"
     ]
    },
    {
     "name": "stdout",
     "output_type": "stream",
     "text": [
      "DEBUG:minerl.env.malmo.instance.42cbc8:[18:28:41] [Netty Server IO #1/INFO]: [STDOUT]: Equip message recieved\r\n"
     ]
    },
    {
     "name": "stderr",
     "output_type": "stream",
     "text": [
      "2019-12-01 18:28:41 LAPTOP-SDM3TI61 minerl.env.malmo.instance.42cbc8[24072] DEBUG [18:28:41] [Netty Server IO #1/INFO]: [STDOUT]: Equip message recieved\n"
     ]
    },
    {
     "name": "stdout",
     "output_type": "stream",
     "text": [
      "DEBUG:minerl.env.malmo.instance.42cbc8:[18:28:41] [Netty Server IO #1/INFO]: [STDOUT]: got harbar 0\r\n"
     ]
    },
    {
     "name": "stderr",
     "output_type": "stream",
     "text": [
      "2019-12-01 18:28:41 "
     ]
    },
    {
     "name": "stdout",
     "output_type": "stream",
     "text": [
      "3.5"
     ]
    },
    {
     "name": "stderr",
     "output_type": "stream",
     "text": [
      "LAPTOP-SDM3TI61"
     ]
    },
    {
     "name": "stdout",
     "output_type": "stream",
     "text": [
      "\n"
     ]
    },
    {
     "name": "stderr",
     "output_type": "stream",
     "text": [
      " minerl.env.malmo.instance.42cbc8[24072] "
     ]
    },
    {
     "name": "stdout",
     "output_type": "stream",
     "text": [
      "step = "
     ]
    },
    {
     "name": "stderr",
     "output_type": "stream",
     "text": [
      "DEBUG"
     ]
    },
    {
     "name": "stdout",
     "output_type": "stream",
     "text": [
      " "
     ]
    },
    {
     "name": "stderr",
     "output_type": "stream",
     "text": [
      " "
     ]
    },
    {
     "name": "stdout",
     "output_type": "stream",
     "text": [
      "174"
     ]
    },
    {
     "name": "stderr",
     "output_type": "stream",
     "text": [
      "[18:28:41] [Netty Server IO #1/INFO]: [STDOUT]: got harbar 0\r"
     ]
    },
    {
     "name": "stdout",
     "output_type": "stream",
     "text": [
      "\n"
     ]
    },
    {
     "name": "stderr",
     "output_type": "stream",
     "text": [
      "\n"
     ]
    },
    {
     "name": "stdout",
     "output_type": "stream",
     "text": [
      "DEBUG:minerl.env.malmo.instance.42cbc8:[18:28:41] [Netty Server IO #1/INFO]: [STDOUT]: got slot 0\r\n"
     ]
    },
    {
     "name": "stderr",
     "output_type": "stream",
     "text": [
      "2019-12-01 18:28:41 LAPTOP-SDM3TI61 minerl.env.malmo.instance.42cbc8[24072] DEBUG [18:28:41] [Netty Server IO #1/INFO]: [STDOUT]: got slot 0\n"
     ]
    },
    {
     "name": "stdout",
     "output_type": "stream",
     "text": [
      "3.5\n",
      "step =  175\n",
      "3.5\n",
      "step =  176\n",
      "DEBUG:minerl.env.malmo.instance.42cbc8:[18:28:41] [Netty Server IO #1/INFO]: [STDOUT]: Equip message recieved\n"
     ]
    },
    {
     "name": "stderr",
     "output_type": "stream",
     "text": [
      "2019-12-01 18:28:41 LAPTOP-SDM3TI61 minerl.env.malmo.instance.42cbc8[24072] DEBUG [18:28:41] [Netty Server IO #1/INFO]: [STDOUT]: Equip message recieved\n"
     ]
    },
    {
     "name": "stdout",
     "output_type": "stream",
     "text": [
      "DEBUG:minerl.env.malmo.instance.42cbc8:[18:28:41] [Netty Server IO #1/INFO]: [STDOUT]: got harbar 0\r\n"
     ]
    },
    {
     "name": "stderr",
     "output_type": "stream",
     "text": [
      "2019-12-01 18:28:41 LAPTOP-SDM3TI61 minerl.env.malmo.instance.42cbc8[24072] DEBUG [18:28:41] [Netty Server IO #1/INFO]: [STDOUT]: got harbar 0\r"
     ]
    },
    {
     "name": "stdout",
     "output_type": "stream",
     "text": [
      "3.5"
     ]
    },
    {
     "name": "stderr",
     "output_type": "stream",
     "text": [
      "\n"
     ]
    },
    {
     "name": "stdout",
     "output_type": "stream",
     "text": [
      "\n",
      "DEBUG:minerl.env.malmo.instance.42cbc8:[18:28:41] [Netty Server IO #1/INFO]: [STDOUT]: got slot 0\n"
     ]
    },
    {
     "name": "stderr",
     "output_type": "stream",
     "text": [
      "2019-12-01 18:28:41"
     ]
    },
    {
     "name": "stdout",
     "output_type": "stream",
     "text": [
      "step = "
     ]
    },
    {
     "name": "stderr",
     "output_type": "stream",
     "text": [
      " "
     ]
    },
    {
     "name": "stdout",
     "output_type": "stream",
     "text": [
      " "
     ]
    },
    {
     "name": "stderr",
     "output_type": "stream",
     "text": [
      "LAPTOP-SDM3TI61"
     ]
    },
    {
     "name": "stdout",
     "output_type": "stream",
     "text": [
      "177"
     ]
    },
    {
     "name": "stderr",
     "output_type": "stream",
     "text": [
      " "
     ]
    },
    {
     "name": "stdout",
     "output_type": "stream",
     "text": [
      "\n"
     ]
    },
    {
     "name": "stderr",
     "output_type": "stream",
     "text": [
      "minerl.env.malmo.instance.42cbc8[24072] DEBUG [18:28:41] [Netty Server IO #1/INFO]: [STDOUT]: got slot 0\n"
     ]
    },
    {
     "name": "stdout",
     "output_type": "stream",
     "text": [
      "3.5\n",
      "step =  178\n",
      "DEBUG:minerl.env.malmo.instance.42cbc8:[18:28:41] [Netty Server IO #1/INFO]: [STDOUT]: Equip message recieved\n"
     ]
    },
    {
     "name": "stderr",
     "output_type": "stream",
     "text": [
      "2019-12-01 18:28:41 LAPTOP-SDM3TI61 minerl.env.malmo.instance.42cbc8[24072] DEBUG [18:28:41] [Netty Server IO #1/INFO]: [STDOUT]: Equip message recieved\n"
     ]
    },
    {
     "name": "stdout",
     "output_type": "stream",
     "text": [
      "DEBUG:minerl.env.malmo.instance.42cbc8:[18:28:41] [Netty Server IO #1/INFO]: [STDOUT]: got harbar 0\r\n"
     ]
    },
    {
     "name": "stderr",
     "output_type": "stream",
     "text": [
      "2019-12-01 18:28:41 LAPTOP-SDM3TI61 minerl.env.malmo.instance.42cbc8[24072] DEBUG"
     ]
    },
    {
     "name": "stdout",
     "output_type": "stream",
     "text": [
      "3.5"
     ]
    },
    {
     "name": "stderr",
     "output_type": "stream",
     "text": [
      " "
     ]
    },
    {
     "name": "stdout",
     "output_type": "stream",
     "text": [
      "\n"
     ]
    },
    {
     "name": "stderr",
     "output_type": "stream",
     "text": [
      "[18:28:41] [Netty Server IO #1/INFO]: [STDOUT]: got harbar 0\n"
     ]
    },
    {
     "name": "stdout",
     "output_type": "stream",
     "text": [
      "DEBUG:minerl.env.malmo.instance.42cbc8:[18:28:41] [Netty Server IO #1/INFO]: [STDOUT]: got slot 0\r\n"
     ]
    },
    {
     "name": "stderr",
     "output_type": "stream",
     "text": [
      "2019-12-01 18:28:41 "
     ]
    },
    {
     "name": "stdout",
     "output_type": "stream",
     "text": [
      "step = "
     ]
    },
    {
     "name": "stderr",
     "output_type": "stream",
     "text": [
      "LAPTOP-SDM3TI61"
     ]
    },
    {
     "name": "stdout",
     "output_type": "stream",
     "text": [
      " "
     ]
    },
    {
     "name": "stderr",
     "output_type": "stream",
     "text": [
      " "
     ]
    },
    {
     "name": "stdout",
     "output_type": "stream",
     "text": [
      "179"
     ]
    },
    {
     "name": "stderr",
     "output_type": "stream",
     "text": [
      "minerl.env.malmo.instance.42cbc8[24072] "
     ]
    },
    {
     "name": "stdout",
     "output_type": "stream",
     "text": [
      "\n"
     ]
    },
    {
     "name": "stderr",
     "output_type": "stream",
     "text": [
      "DEBUG [18:28:41] [Netty Server IO #1/INFO]: [STDOUT]: got slot 0\n"
     ]
    },
    {
     "name": "stdout",
     "output_type": "stream",
     "text": [
      "DEBUG:minerl.env.malmo.instance.42cbc8:[18:28:41] [Netty Server IO #1/INFO]: [STDOUT]: Equip message recieved\r\n"
     ]
    },
    {
     "name": "stderr",
     "output_type": "stream",
     "text": [
      "2019-12-01 18:28:41 LAPTOP-SDM3TI61 minerl.env.malmo.instance.42cbc8[24072] DEBUG [18:28:41] [Netty Server IO #1/INFO]: [STDOUT]: Equip message recieved\n"
     ]
    },
    {
     "name": "stdout",
     "output_type": "stream",
     "text": [
      "3.5\n",
      "DEBUG:minerl.env.malmo.instance.42cbc8:[18:28:41] [Netty Server IO #1/INFO]: [STDOUT]: got harbar 0\n"
     ]
    },
    {
     "name": "stderr",
     "output_type": "stream",
     "text": [
      "2019-12-01 18:28:41 LAPTOP-SDM3TI61 "
     ]
    },
    {
     "name": "stdout",
     "output_type": "stream",
     "text": [
      "step = "
     ]
    },
    {
     "name": "stderr",
     "output_type": "stream",
     "text": [
      "minerl.env.malmo.instance.42cbc8[24072]"
     ]
    },
    {
     "name": "stdout",
     "output_type": "stream",
     "text": [
      " "
     ]
    },
    {
     "name": "stderr",
     "output_type": "stream",
     "text": [
      " "
     ]
    },
    {
     "name": "stdout",
     "output_type": "stream",
     "text": [
      "180"
     ]
    },
    {
     "name": "stderr",
     "output_type": "stream",
     "text": [
      "DEBUG"
     ]
    },
    {
     "name": "stdout",
     "output_type": "stream",
     "text": [
      "\n"
     ]
    },
    {
     "name": "stderr",
     "output_type": "stream",
     "text": [
      " [18:28:41] [Netty Server IO #1/INFO]: [STDOUT]: got harbar 0\n"
     ]
    },
    {
     "name": "stdout",
     "output_type": "stream",
     "text": [
      "DEBUG:minerl.env.malmo.instance.42cbc8:[18:28:41] [Netty Server IO #1/INFO]: [STDOUT]: got slot 0\r\n"
     ]
    },
    {
     "name": "stderr",
     "output_type": "stream",
     "text": [
      "2019-12-01 18:28:41 LAPTOP-SDM3TI61 minerl.env.malmo.instance.42cbc8[24072] DEBUG [18:28:41] [Netty Server IO #1/INFO]: [STDOUT]: got slot 0\n"
     ]
    },
    {
     "name": "stdout",
     "output_type": "stream",
     "text": [
      "DEBUG:minerl.env.malmo.instance.42cbc8:[18:28:41] [Netty Server IO #1/INFO]: [STDOUT]: Equip message recieved\r\n"
     ]
    },
    {
     "name": "stderr",
     "output_type": "stream",
     "text": [
      "2019-12-01 18:28:41 LAPTOP-SDM3TI61 minerl.env.malmo.instance.42cbc8[24072] DEBUG"
     ]
    },
    {
     "name": "stdout",
     "output_type": "stream",
     "text": [
      "3.5"
     ]
    },
    {
     "name": "stderr",
     "output_type": "stream",
     "text": [
      " "
     ]
    },
    {
     "name": "stdout",
     "output_type": "stream",
     "text": [
      "\n"
     ]
    },
    {
     "name": "stderr",
     "output_type": "stream",
     "text": [
      "[18:28:41] [Netty Server IO #1/INFO]: [STDOUT]: Equip message recieved\n"
     ]
    },
    {
     "name": "stdout",
     "output_type": "stream",
     "text": [
      "DEBUG:minerl.env.malmo.instance.42cbc8:[18:28:41] [Netty Server IO #1/INFO]: [STDOUT]: got harbar 0\r\n"
     ]
    },
    {
     "name": "stderr",
     "output_type": "stream",
     "text": [
      "2019-12-01 18:28:41"
     ]
    },
    {
     "name": "stdout",
     "output_type": "stream",
     "text": [
      "step =  181\n"
     ]
    },
    {
     "name": "stderr",
     "output_type": "stream",
     "text": [
      " LAPTOP-SDM3TI61 minerl.env.malmo.instance.42cbc8[24072] DEBUG [18:28:41] [Netty Server IO #1/INFO]: [STDOUT]: got harbar 0\n"
     ]
    },
    {
     "name": "stdout",
     "output_type": "stream",
     "text": [
      "DEBUG:minerl.env.malmo.instance.42cbc8:[18:28:41] [Netty Server IO #1/INFO]: [STDOUT]: got slot 0\r\n"
     ]
    },
    {
     "name": "stderr",
     "output_type": "stream",
     "text": [
      "2019-12-01 18:28:41 LAPTOP-SDM3TI61 minerl.env.malmo.instance.42cbc8[24072] DEBUG [18:28:41] [Netty Server IO #1/INFO]: [STDOUT]: got slot 0\n"
     ]
    },
    {
     "name": "stdout",
     "output_type": "stream",
     "text": [
      "3.5\n",
      "step =  182\n",
      "3.5\n",
      "step =  183\n",
      "DEBUG:minerl.env.malmo.instance.42cbc8:[18:28:41] [Netty Server IO #1/INFO]: [STDOUT]: Equip message recieved\n"
     ]
    },
    {
     "name": "stderr",
     "output_type": "stream",
     "text": [
      "2019-12-01 18:28:41 LAPTOP-SDM3TI61 minerl.env.malmo.instance.42cbc8[24072] DEBUG [18:28:41] [Netty Server IO #1/INFO]: [STDOUT]: Equip message recieved\n"
     ]
    },
    {
     "name": "stdout",
     "output_type": "stream",
     "text": [
      "DEBUG:minerl.env.malmo.instance.42cbc8:[18:28:41] [Netty Server IO #1/INFO]: [STDOUT]: got harbar 0\r\n"
     ]
    },
    {
     "name": "stderr",
     "output_type": "stream",
     "text": [
      "2019-12-01 18:28:41 LAPTOP-SDM3TI61 minerl.env.malmo.instance.42cbc8[24072] "
     ]
    },
    {
     "name": "stdout",
     "output_type": "stream",
     "text": [
      "3.5"
     ]
    },
    {
     "name": "stderr",
     "output_type": "stream",
     "text": [
      "DEBUG"
     ]
    },
    {
     "name": "stdout",
     "output_type": "stream",
     "text": [
      "\n"
     ]
    },
    {
     "name": "stderr",
     "output_type": "stream",
     "text": [
      " [18:28:41] [Netty Server IO #1/INFO]: [STDOUT]: got harbar 0\n"
     ]
    },
    {
     "name": "stdout",
     "output_type": "stream",
     "text": [
      "step = DEBUG:minerl.env.malmo.instance.42cbc8:[18:28:41] [Netty Server IO #1/INFO]: [STDOUT]: got slot 0\n"
     ]
    },
    {
     "name": "stderr",
     "output_type": "stream",
     "text": [
      "2019-12-01 18:28:41"
     ]
    },
    {
     "name": "stdout",
     "output_type": "stream",
     "text": [
      " "
     ]
    },
    {
     "name": "stderr",
     "output_type": "stream",
     "text": [
      " "
     ]
    },
    {
     "name": "stdout",
     "output_type": "stream",
     "text": [
      "184"
     ]
    },
    {
     "name": "stderr",
     "output_type": "stream",
     "text": [
      "LAPTOP-SDM3TI61"
     ]
    },
    {
     "name": "stdout",
     "output_type": "stream",
     "text": [
      "\n"
     ]
    },
    {
     "name": "stderr",
     "output_type": "stream",
     "text": [
      " minerl.env.malmo.instance.42cbc8[24072] DEBUG [18:28:41] [Netty Server IO #1/INFO]: [STDOUT]: got slot 0\n"
     ]
    },
    {
     "name": "stdout",
     "output_type": "stream",
     "text": [
      "3.5\n",
      "step =  185\n",
      "3.5\n",
      "step =  186\n",
      "3.5\n",
      "step =  187\n",
      "DEBUG:minerl.env.malmo.instance.42cbc8:[18:28:42] [Netty Server IO #1/INFO]: [STDOUT]: Equip message recieved\n"
     ]
    },
    {
     "name": "stderr",
     "output_type": "stream",
     "text": [
      "2019-12-01 18:28:42 LAPTOP-SDM3TI61 minerl.env.malmo.instance.42cbc8[24072] DEBUG [18:28:42] [Netty Server IO #1/INFO]: [STDOUT]: Equip message recieved\n"
     ]
    },
    {
     "name": "stdout",
     "output_type": "stream",
     "text": [
      "DEBUG:minerl.env.malmo.instance.42cbc8:[18:28:42] [Netty Server IO #1/INFO]: [STDOUT]: got harbar 0\r\n"
     ]
    },
    {
     "name": "stderr",
     "output_type": "stream",
     "text": [
      "2019-12-01 18:28:42 LAPTOP-SDM3TI61 minerl.env.malmo.instance.42cbc8[24072] DEBUG [18:28:42] [Netty Server IO #1/INFO]: [STDOUT]: got harbar 0\n"
     ]
    },
    {
     "name": "stdout",
     "output_type": "stream",
     "text": [
      "3.5DEBUG:minerl.env.malmo.instance.42cbc8:[18:28:42] [Netty Server IO #1/INFO]: [STDOUT]: got slot 0\n",
      "\n"
     ]
    },
    {
     "name": "stderr",
     "output_type": "stream",
     "text": [
      "2019-12-01 18:28:42 LAPTOP-SDM3TI61 "
     ]
    },
    {
     "name": "stdout",
     "output_type": "stream",
     "text": [
      "step = "
     ]
    },
    {
     "name": "stderr",
     "output_type": "stream",
     "text": [
      "minerl.env.malmo.instance.42cbc8[24072]"
     ]
    },
    {
     "name": "stdout",
     "output_type": "stream",
     "text": [
      " "
     ]
    },
    {
     "name": "stderr",
     "output_type": "stream",
     "text": [
      " "
     ]
    },
    {
     "name": "stdout",
     "output_type": "stream",
     "text": [
      "188"
     ]
    },
    {
     "name": "stderr",
     "output_type": "stream",
     "text": [
      "DEBUG"
     ]
    },
    {
     "name": "stdout",
     "output_type": "stream",
     "text": [
      "\n"
     ]
    },
    {
     "name": "stderr",
     "output_type": "stream",
     "text": [
      " [18:28:42] [Netty Server IO #1/INFO]: [STDOUT]: got slot 0\n"
     ]
    },
    {
     "name": "stdout",
     "output_type": "stream",
     "text": [
      "3.5\n",
      "DEBUG:minerl.env.malmo.instance.42cbc8:[18:28:42] [Client thread/INFO]: [CHAT] §l890...\n"
     ]
    },
    {
     "name": "stderr",
     "output_type": "stream",
     "text": [
      "2019-12-01 18:28:42 LAPTOP-SDM3TI61"
     ]
    },
    {
     "name": "stdout",
     "output_type": "stream",
     "text": [
      "step = "
     ]
    },
    {
     "name": "stderr",
     "output_type": "stream",
     "text": [
      " "
     ]
    },
    {
     "name": "stdout",
     "output_type": "stream",
     "text": [
      " "
     ]
    },
    {
     "name": "stderr",
     "output_type": "stream",
     "text": [
      "minerl.env.malmo.instance.42cbc8[24072]"
     ]
    },
    {
     "name": "stdout",
     "output_type": "stream",
     "text": [
      "189"
     ]
    },
    {
     "name": "stderr",
     "output_type": "stream",
     "text": [
      " "
     ]
    },
    {
     "name": "stdout",
     "output_type": "stream",
     "text": [
      "\n"
     ]
    },
    {
     "name": "stderr",
     "output_type": "stream",
     "text": [
      "DEBUG [18:28:42] [Client thread/INFO]: [CHAT] §l890...\n"
     ]
    },
    {
     "name": "stdout",
     "output_type": "stream",
     "text": [
      "3.5\n",
      "step =  190\n",
      "3.5\n",
      "step =  191\n",
      "3.5\n",
      "step =  192\n",
      "3.5\n",
      "step =  193\n",
      "DEBUG:minerl.env.malmo.instance.42cbc8:[18:28:42] [Netty Server IO #1/INFO]: [STDOUT]: Equip message recieved\n"
     ]
    },
    {
     "name": "stderr",
     "output_type": "stream",
     "text": [
      "2019-12-01 18:28:42 LAPTOP-SDM3TI61 minerl.env.malmo.instance.42cbc8[24072] DEBUG [18:28:42] [Netty Server IO #1/INFO]: [STDOUT]: Equip message recieved\n"
     ]
    },
    {
     "name": "stdout",
     "output_type": "stream",
     "text": [
      "DEBUG:minerl.env.malmo.instance.42cbc8:[18:28:42] [Netty Server IO #1/INFO]: [STDOUT]: got harbar 0\r\n"
     ]
    },
    {
     "name": "stderr",
     "output_type": "stream",
     "text": [
      "2019-12-01 18:28:42 LAPTOP-SDM3TI61 minerl.env.malmo.instance.42cbc8[24072] DEBUG [18:28:42] [Netty Server IO #1/INFO]: [STDOUT]: got harbar 0\n"
     ]
    },
    {
     "name": "stdout",
     "output_type": "stream",
     "text": [
      "DEBUG:minerl.env.malmo.instance.42cbc8:[18:28:42] [Netty Server IO #1/INFO]: [STDOUT]: got slot 0\n",
      "3.5"
     ]
    },
    {
     "name": "stderr",
     "output_type": "stream",
     "text": [
      "2019-12-01 18:28:42"
     ]
    },
    {
     "name": "stdout",
     "output_type": "stream",
     "text": [
      "\n"
     ]
    },
    {
     "name": "stderr",
     "output_type": "stream",
     "text": [
      " LAPTOP-SDM3TI61 minerl.env.malmo.instance.42cbc8[24072] "
     ]
    },
    {
     "name": "stdout",
     "output_type": "stream",
     "text": [
      "step = "
     ]
    },
    {
     "name": "stderr",
     "output_type": "stream",
     "text": [
      "DEBUG"
     ]
    },
    {
     "name": "stdout",
     "output_type": "stream",
     "text": [
      " "
     ]
    },
    {
     "name": "stderr",
     "output_type": "stream",
     "text": [
      " [18:28:42] [Netty Server IO #1/INFO]: [STDOUT]: got slot 0\r"
     ]
    },
    {
     "name": "stdout",
     "output_type": "stream",
     "text": [
      "194"
     ]
    },
    {
     "name": "stderr",
     "output_type": "stream",
     "text": [
      "\n"
     ]
    },
    {
     "name": "stdout",
     "output_type": "stream",
     "text": [
      "\n",
      "DEBUG:minerl.env.malmo.instance.42cbc8:[18:28:42] [Netty Server IO #1/INFO]: [STDOUT]: Equip message recieved\n"
     ]
    },
    {
     "name": "stderr",
     "output_type": "stream",
     "text": [
      "2019-12-01 18:28:42 LAPTOP-SDM3TI61 minerl.env.malmo.instance.42cbc8[24072] DEBUG [18:28:42] [Netty Server IO #1/INFO]: [STDOUT]: Equip message recieved\n"
     ]
    },
    {
     "name": "stdout",
     "output_type": "stream",
     "text": [
      "DEBUG:minerl.env.malmo.instance.42cbc8:[18:28:42] [Netty Server IO #1/INFO]: [STDOUT]: got harbar 0\r\n"
     ]
    },
    {
     "name": "stderr",
     "output_type": "stream",
     "text": [
      "2019-12-01 18:28:42 LAPTOP-SDM3TI61 minerl.env.malmo.instance.42cbc8[24072] DEBUG "
     ]
    },
    {
     "name": "stdout",
     "output_type": "stream",
     "text": [
      "3.5"
     ]
    },
    {
     "name": "stderr",
     "output_type": "stream",
     "text": [
      "[18:28:42] [Netty Server IO #1/INFO]: [STDOUT]: got harbar 0\n"
     ]
    },
    {
     "name": "stdout",
     "output_type": "stream",
     "text": [
      "\n",
      "DEBUG:minerl.env.malmo.instance.42cbc8:[18:28:42] [Netty Server IO #1/INFO]: [STDOUT]: got slot 0\n"
     ]
    },
    {
     "name": "stderr",
     "output_type": "stream",
     "text": [
      "2019-12-01 18:28:42 "
     ]
    },
    {
     "name": "stdout",
     "output_type": "stream",
     "text": [
      "step = "
     ]
    },
    {
     "name": "stderr",
     "output_type": "stream",
     "text": [
      "LAPTOP-SDM3TI61"
     ]
    },
    {
     "name": "stdout",
     "output_type": "stream",
     "text": [
      " "
     ]
    },
    {
     "name": "stderr",
     "output_type": "stream",
     "text": [
      " "
     ]
    },
    {
     "name": "stdout",
     "output_type": "stream",
     "text": [
      "195"
     ]
    },
    {
     "name": "stderr",
     "output_type": "stream",
     "text": [
      "minerl.env.malmo.instance.42cbc8[24072]"
     ]
    },
    {
     "name": "stdout",
     "output_type": "stream",
     "text": [
      "\n"
     ]
    },
    {
     "name": "stderr",
     "output_type": "stream",
     "text": [
      " DEBUG [18:28:42] [Netty Server IO #1/INFO]: [STDOUT]: got slot 0\n"
     ]
    },
    {
     "name": "stdout",
     "output_type": "stream",
     "text": [
      "DEBUG:minerl.env.malmo.instance.42cbc8:[18:28:42] [Netty Server IO #1/INFO]: [STDOUT]: Equip message recieved\r\n"
     ]
    },
    {
     "name": "stderr",
     "output_type": "stream",
     "text": [
      "2019-12-01 18:28:42 LAPTOP-SDM3TI61 minerl.env.malmo.instance.42cbc8[24072] DEBUG [18:28:42] [Netty Server IO #1/INFO]: [STDOUT]: Equip message recieved\r"
     ]
    },
    {
     "name": "stdout",
     "output_type": "stream",
     "text": [
      "3.5"
     ]
    },
    {
     "name": "stderr",
     "output_type": "stream",
     "text": [
      "\n"
     ]
    },
    {
     "name": "stdout",
     "output_type": "stream",
     "text": [
      "\n",
      "DEBUG:minerl.env.malmo.instance.42cbc8:[18:28:42] [Netty Server IO #1/INFO]: [STDOUT]: got harbar 0\n"
     ]
    },
    {
     "name": "stderr",
     "output_type": "stream",
     "text": [
      "2019-12-01 18:28:42 "
     ]
    },
    {
     "name": "stdout",
     "output_type": "stream",
     "text": [
      "step = "
     ]
    },
    {
     "name": "stderr",
     "output_type": "stream",
     "text": [
      "LAPTOP-SDM3TI61"
     ]
    },
    {
     "name": "stdout",
     "output_type": "stream",
     "text": [
      " "
     ]
    },
    {
     "name": "stderr",
     "output_type": "stream",
     "text": [
      " "
     ]
    },
    {
     "name": "stdout",
     "output_type": "stream",
     "text": [
      "196"
     ]
    },
    {
     "name": "stderr",
     "output_type": "stream",
     "text": [
      "minerl.env.malmo.instance.42cbc8[24072]"
     ]
    },
    {
     "name": "stdout",
     "output_type": "stream",
     "text": [
      "\n"
     ]
    },
    {
     "name": "stderr",
     "output_type": "stream",
     "text": [
      " DEBUG [18:28:42] [Netty Server IO #1/INFO]: [STDOUT]: got harbar 0\n"
     ]
    },
    {
     "name": "stdout",
     "output_type": "stream",
     "text": [
      "DEBUG:minerl.env.malmo.instance.42cbc8:[18:28:42] [Netty Server IO #1/INFO]: [STDOUT]: got slot 0\r\n"
     ]
    },
    {
     "name": "stderr",
     "output_type": "stream",
     "text": [
      "2019-12-01 18:28:42 LAPTOP-SDM3TI61 minerl.env.malmo.instance.42cbc8[24072] DEBUG [18:28:42] [Netty Server IO #1/INFO]: [STDOUT]: got slot 0\n"
     ]
    },
    {
     "name": "stdout",
     "output_type": "stream",
     "text": [
      "3.5\n",
      "step =  197\n",
      "3.5\n",
      "step =  198\n",
      "DEBUG:minerl.env.malmo.instance.42cbc8:[18:28:42] [Netty Server IO #1/INFO]: [STDOUT]: Equip message recieved\n"
     ]
    },
    {
     "name": "stderr",
     "output_type": "stream",
     "text": [
      "2019-12-01 18:28:42 LAPTOP-SDM3TI61 minerl.env.malmo.instance.42cbc8[24072] DEBUG [18:28:42] [Netty Server IO #1/INFO]: [STDOUT]: Equip message recieved\n"
     ]
    },
    {
     "name": "stdout",
     "output_type": "stream",
     "text": [
      "DEBUG:minerl.env.malmo.instance.42cbc8:[18:28:42] [Netty Server IO #1/INFO]: [STDOUT]: got harbar 0\r\n"
     ]
    },
    {
     "name": "stderr",
     "output_type": "stream",
     "text": [
      "2019-12-01 18:28:42 LAPTOP-SDM3TI61 minerl.env.malmo.instance.42cbc8[24072] DEBUG [18:28:42] [Netty Server IO #1/INFO]: [STDOUT]: got harbar 0\n"
     ]
    },
    {
     "name": "stdout",
     "output_type": "stream",
     "text": [
      "DEBUG:minerl.env.malmo.instance.42cbc8:[18:28:42] [Netty Server IO #1/INFO]: [STDOUT]: got slot 0\r\n"
     ]
    },
    {
     "name": "stderr",
     "output_type": "stream",
     "text": [
      "2019-12-01 18:28:42"
     ]
    },
    {
     "name": "stdout",
     "output_type": "stream",
     "text": [
      "3.5"
     ]
    },
    {
     "name": "stderr",
     "output_type": "stream",
     "text": [
      " LAPTOP-SDM3TI61"
     ]
    },
    {
     "name": "stdout",
     "output_type": "stream",
     "text": [
      "\n"
     ]
    },
    {
     "name": "stderr",
     "output_type": "stream",
     "text": [
      " minerl.env.malmo.instance.42cbc8[24072] "
     ]
    },
    {
     "name": "stdout",
     "output_type": "stream",
     "text": [
      "step = "
     ]
    },
    {
     "name": "stderr",
     "output_type": "stream",
     "text": [
      "DEBUG"
     ]
    },
    {
     "name": "stdout",
     "output_type": "stream",
     "text": [
      " "
     ]
    },
    {
     "name": "stderr",
     "output_type": "stream",
     "text": [
      " "
     ]
    },
    {
     "name": "stdout",
     "output_type": "stream",
     "text": [
      "199"
     ]
    },
    {
     "name": "stderr",
     "output_type": "stream",
     "text": [
      "[18:28:42] [Netty Server IO #1/INFO]: [STDOUT]: got slot 0\r"
     ]
    },
    {
     "name": "stdout",
     "output_type": "stream",
     "text": [
      "\n"
     ]
    },
    {
     "name": "stderr",
     "output_type": "stream",
     "text": [
      "\n"
     ]
    },
    {
     "name": "stdout",
     "output_type": "stream",
     "text": [
      "DEBUG:minerl.env.malmo.instance.42cbc8:[18:28:42] [Netty Server IO #1/INFO]: [STDOUT]: Equip message recieved\r\n"
     ]
    },
    {
     "name": "stderr",
     "output_type": "stream",
     "text": [
      "2019-12-01 18:28:42 LAPTOP-SDM3TI61 minerl.env.malmo.instance.42cbc8[24072] DEBUG [18:28:42] [Netty Server IO #1/INFO]: [STDOUT]: Equip message recieved\n"
     ]
    },
    {
     "name": "stdout",
     "output_type": "stream",
     "text": [
      "DEBUG:minerl.env.malmo.instance.42cbc8:[18:28:42] [Netty Server IO #1/INFO]: [STDOUT]: got harbar 0\r\n"
     ]
    },
    {
     "name": "stderr",
     "output_type": "stream",
     "text": [
      "2019-12-01 18:28:42 LAPTOP-SDM3TI61 minerl.env.malmo.instance.42cbc8[24072] DEBUG [18:28:42] [Netty Server IO #1/INFO]: [STDOUT]: got harbar 0\n"
     ]
    },
    {
     "name": "stdout",
     "output_type": "stream",
     "text": [
      "DEBUG:minerl.env.malmo.instance.42cbc8:[18:28:42] [Netty Server IO #1/INFO]: [STDOUT]: got slot 0\r\n"
     ]
    },
    {
     "name": "stderr",
     "output_type": "stream",
     "text": [
      "2019-12-01 18:28:42 LAPTOP-SDM3TI61 minerl.env.malmo.instance.42cbc8[24072] DEBUG [18:28:42] [Netty Server IO #1/INFO]: [STDOUT]: got slot 0\n"
     ]
    },
    {
     "name": "stdout",
     "output_type": "stream",
     "text": [
      "3.5\n",
      "step =  200\n",
      "DEBUG:minerl.env.malmo.instance.42cbc8:[18:28:42] [Netty Server IO #1/INFO]: [STDOUT]: Equip message recieved\n"
     ]
    },
    {
     "name": "stderr",
     "output_type": "stream",
     "text": [
      "2019-12-01 18:28:42 LAPTOP-SDM3TI61 minerl.env.malmo.instance.42cbc8[24072] DEBUG [18:28:42] [Netty Server IO #1/INFO]: [STDOUT]: Equip message recieved\n"
     ]
    },
    {
     "name": "stdout",
     "output_type": "stream",
     "text": [
      "DEBUG:minerl.env.malmo.instance.42cbc8:[18:28:42] [Netty Server IO #1/INFO]: [STDOUT]: got harbar 0\r\n"
     ]
    },
    {
     "name": "stderr",
     "output_type": "stream",
     "text": [
      "2019-12-01 18:28:42 LAPTOP-SDM3TI61 minerl.env.malmo.instance.42cbc8[24072] DEBUG [18:28:42] [Netty Server IO #1/INFO]: [STDOUT]: got harbar 0\n"
     ]
    },
    {
     "name": "stdout",
     "output_type": "stream",
     "text": [
      "DEBUG:minerl.env.malmo.instance.42cbc8:[18:28:42] [Netty Server IO #1/INFO]: [STDOUT]: got slot 0\r\n"
     ]
    },
    {
     "name": "stderr",
     "output_type": "stream",
     "text": [
      "2019-12-01 18:28:42 LAPTOP-SDM3TI61 minerl.env.malmo.instance.42cbc8[24072] DEBUG [18:28:42] [Netty Server IO #1/INFO]: [STDOUT]: got slot 0\n"
     ]
    },
    {
     "name": "stdout",
     "output_type": "stream",
     "text": [
      "3.6\n",
      "step =  201\n",
      "DEBUG:minerl.env.malmo.instance.42cbc8:[18:28:42] [Netty Server IO #1/INFO]: [STDOUT]: Equip message recieved\n"
     ]
    },
    {
     "name": "stderr",
     "output_type": "stream",
     "text": [
      "2019-12-01 18:28:42 LAPTOP-SDM3TI61 minerl.env.malmo.instance.42cbc8[24072] DEBUG [18:28:42] [Netty Server IO #1/INFO]: [STDOUT]: Equip message recieved\n"
     ]
    },
    {
     "name": "stdout",
     "output_type": "stream",
     "text": [
      "DEBUG:minerl.env.malmo.instance.42cbc8:[18:28:42] [Netty Server IO #1/INFO]: [STDOUT]: got harbar 0\r\n"
     ]
    },
    {
     "name": "stderr",
     "output_type": "stream",
     "text": [
      "2019-12-01 18:28:42 LAPTOP-SDM3TI61 minerl.env.malmo.instance.42cbc8[24072] DEBUG [18:28:42] [Netty Server IO #1/INFO]: [STDOUT]: got harbar 0\n"
     ]
    },
    {
     "name": "stdout",
     "output_type": "stream",
     "text": [
      "DEBUG:minerl.env.malmo.instance.42cbc8:[18:28:42] [Netty Server IO #1/INFO]: [STDOUT]: got slot 0\r\n"
     ]
    },
    {
     "name": "stderr",
     "output_type": "stream",
     "text": [
      "2019-12-01 18:28:42 LAPTOP-SDM3TI61 minerl.env.malmo.instance.42cbc8[24072] DEBUG"
     ]
    },
    {
     "name": "stdout",
     "output_type": "stream",
     "text": [
      "3.6\n"
     ]
    },
    {
     "name": "stderr",
     "output_type": "stream",
     "text": [
      " [18:28:42] [Netty Server IO #1/INFO]: [STDOUT]: got slot 0\n"
     ]
    },
    {
     "name": "stdout",
     "output_type": "stream",
     "text": [
      "step =  202\n",
      "DEBUG:minerl.env.malmo.instance.42cbc8:[18:28:42] [Netty Server IO #1/INFO]: [STDOUT]: Equip message recieved\n"
     ]
    },
    {
     "name": "stderr",
     "output_type": "stream",
     "text": [
      "2019-12-01 18:28:42 LAPTOP-SDM3TI61 minerl.env.malmo.instance.42cbc8[24072] DEBUG [18:28:42] [Netty Server IO #1/INFO]: [STDOUT]: Equip message recieved\n"
     ]
    },
    {
     "name": "stdout",
     "output_type": "stream",
     "text": [
      "DEBUG:minerl.env.malmo.instance.42cbc8:[18:28:42] [Netty Server IO #1/INFO]: [STDOUT]: got harbar 0\r\n"
     ]
    },
    {
     "name": "stderr",
     "output_type": "stream",
     "text": [
      "2019-12-01 18:28:42 LAPTOP-SDM3TI61 minerl.env.malmo.instance.42cbc8[24072]"
     ]
    },
    {
     "name": "stdout",
     "output_type": "stream",
     "text": [
      "3.6"
     ]
    },
    {
     "name": "stderr",
     "output_type": "stream",
     "text": [
      " "
     ]
    },
    {
     "name": "stdout",
     "output_type": "stream",
     "text": [
      "\n"
     ]
    },
    {
     "name": "stderr",
     "output_type": "stream",
     "text": [
      "DEBUG [18:28:42] [Netty Server IO #1/INFO]: [STDOUT]: got harbar 0\r"
     ]
    },
    {
     "name": "stdout",
     "output_type": "stream",
     "text": [
      "step = "
     ]
    },
    {
     "name": "stderr",
     "output_type": "stream",
     "text": [
      "\n"
     ]
    },
    {
     "name": "stdout",
     "output_type": "stream",
     "text": [
      " 203DEBUG:minerl.env.malmo.instance.42cbc8:[18:28:42] [Netty Server IO #1/INFO]: [STDOUT]: got slot 0\n"
     ]
    },
    {
     "name": "stderr",
     "output_type": "stream",
     "text": [
      "2019-12-01 18:28:42"
     ]
    },
    {
     "name": "stdout",
     "output_type": "stream",
     "text": [
      "\n"
     ]
    },
    {
     "name": "stderr",
     "output_type": "stream",
     "text": [
      " LAPTOP-SDM3TI61 minerl.env.malmo.instance.42cbc8[24072] DEBUG [18:28:42] [Netty Server IO #1/INFO]: [STDOUT]: got slot 0\n"
     ]
    },
    {
     "name": "stdout",
     "output_type": "stream",
     "text": [
      "DEBUG:minerl.env.malmo.instance.42cbc8:[18:28:42] [Netty Server IO #1/INFO]: [STDOUT]: Equip message recieved\r\n"
     ]
    },
    {
     "name": "stderr",
     "output_type": "stream",
     "text": [
      "2019-12-01 18:28:42 LAPTOP-SDM3TI61 minerl.env.malmo.instance.42cbc8[24072] DEBUG [18:28:42] [Netty Server IO #1/INFO]: [STDOUT]: Equip message recieved\n"
     ]
    },
    {
     "name": "stdout",
     "output_type": "stream",
     "text": [
      "3.6DEBUG:minerl.env.malmo.instance.42cbc8:[18:28:42] [Netty Server IO #1/INFO]: [STDOUT]: got harbar 0\n"
     ]
    },
    {
     "name": "stderr",
     "output_type": "stream",
     "text": [
      "2019-12-01 18:28:42"
     ]
    },
    {
     "name": "stdout",
     "output_type": "stream",
     "text": [
      "\n"
     ]
    },
    {
     "name": "stderr",
     "output_type": "stream",
     "text": [
      " LAPTOP-SDM3TI61 "
     ]
    },
    {
     "name": "stdout",
     "output_type": "stream",
     "text": [
      "step = "
     ]
    },
    {
     "name": "stderr",
     "output_type": "stream",
     "text": [
      "minerl.env.malmo.instance.42cbc8[24072]"
     ]
    },
    {
     "name": "stdout",
     "output_type": "stream",
     "text": [
      " "
     ]
    },
    {
     "name": "stderr",
     "output_type": "stream",
     "text": [
      " "
     ]
    },
    {
     "name": "stdout",
     "output_type": "stream",
     "text": [
      "204"
     ]
    },
    {
     "name": "stderr",
     "output_type": "stream",
     "text": [
      "DEBUG"
     ]
    },
    {
     "name": "stdout",
     "output_type": "stream",
     "text": [
      "\n"
     ]
    },
    {
     "name": "stderr",
     "output_type": "stream",
     "text": [
      " [18:28:42] [Netty Server IO #1/INFO]: [STDOUT]: got harbar 0\n"
     ]
    },
    {
     "name": "stdout",
     "output_type": "stream",
     "text": [
      "DEBUG:minerl.env.malmo.instance.42cbc8:[18:28:42] [Netty Server IO #1/INFO]: [STDOUT]: got slot 0\r\n"
     ]
    },
    {
     "name": "stderr",
     "output_type": "stream",
     "text": [
      "2019-12-01 18:28:42 LAPTOP-SDM3TI61 minerl.env.malmo.instance.42cbc8[24072] DEBUG [18:28:42] [Netty Server IO #1/INFO]: [STDOUT]: got slot 0\n"
     ]
    },
    {
     "name": "stdout",
     "output_type": "stream",
     "text": [
      "3.6\n",
      "step =  205\n",
      "DEBUG:minerl.env.malmo.instance.42cbc8:[18:28:42] [Netty Server IO #1/INFO]: [STDOUT]: Equip message recieved\n"
     ]
    },
    {
     "name": "stderr",
     "output_type": "stream",
     "text": [
      "2019-12-01 18:28:42 LAPTOP-SDM3TI61 minerl.env.malmo.instance.42cbc8[24072] DEBUG [18:28:42] [Netty Server IO #1/INFO]: [STDOUT]: Equip message recieved\n"
     ]
    },
    {
     "name": "stdout",
     "output_type": "stream",
     "text": [
      "DEBUG:minerl.env.malmo.instance.42cbc8:[18:28:42] [Netty Server IO #1/INFO]: [STDOUT]: got harbar 0\r\n"
     ]
    },
    {
     "name": "stderr",
     "output_type": "stream",
     "text": [
      "2019-12-01 18:28:42"
     ]
    },
    {
     "name": "stdout",
     "output_type": "stream",
     "text": [
      "3.8000000000000003\n"
     ]
    },
    {
     "name": "stderr",
     "output_type": "stream",
     "text": [
      " LAPTOP-SDM3TI61 "
     ]
    },
    {
     "name": "stdout",
     "output_type": "stream",
     "text": [
      "step = "
     ]
    },
    {
     "name": "stderr",
     "output_type": "stream",
     "text": [
      "minerl.env.malmo.instance.42cbc8[24072]"
     ]
    },
    {
     "name": "stdout",
     "output_type": "stream",
     "text": [
      " "
     ]
    },
    {
     "name": "stderr",
     "output_type": "stream",
     "text": [
      " "
     ]
    },
    {
     "name": "stdout",
     "output_type": "stream",
     "text": [
      "206\n"
     ]
    },
    {
     "name": "stderr",
     "output_type": "stream",
     "text": [
      "DEBUG [18:28:42] [Netty Server IO #1/INFO]: [STDOUT]: got harbar 0\n"
     ]
    },
    {
     "name": "stdout",
     "output_type": "stream",
     "text": [
      "DEBUG:minerl.env.malmo.instance.42cbc8:[18:28:42] [Netty Server IO #1/INFO]: [STDOUT]: got slot 0\r\n"
     ]
    },
    {
     "name": "stderr",
     "output_type": "stream",
     "text": [
      "2019-12-01 18:28:42 LAPTOP-SDM3TI61 minerl.env.malmo.instance.42cbc8[24072] DEBUG [18:28:42] [Netty Server IO #1/INFO]: [STDOUT]: got slot 0\n"
     ]
    },
    {
     "name": "stdout",
     "output_type": "stream",
     "text": [
      "DEBUG:minerl.env.malmo.instance.42cbc8:[18:28:42] [Netty Server IO #1/INFO]: [STDOUT]: Equip message recieved\r\n"
     ]
    },
    {
     "name": "stderr",
     "output_type": "stream",
     "text": [
      "2019-12-01 18:28:42 LAPTOP-SDM3TI61 minerl.env.malmo.instance.42cbc8[24072]"
     ]
    },
    {
     "name": "stdout",
     "output_type": "stream",
     "text": [
      "4.0\n"
     ]
    },
    {
     "name": "stderr",
     "output_type": "stream",
     "text": [
      " DEBUG [18:28:42] [Netty Server IO #1/INFO]: [STDOUT]: Equip message recieved\n"
     ]
    },
    {
     "name": "stdout",
     "output_type": "stream",
     "text": [
      "step =  207\n",
      "4.0\n",
      "step =  208\n",
      "4.0\n",
      "step =  209\n",
      "4.0\n",
      "step =  210\n",
      "4.0\n",
      "step =  211\n",
      "4.0\n",
      "step =  212\n",
      "DEBUG:minerl.env.malmo.instance.42cbc8:[18:28:42] [Netty Server IO #1/INFO]: [STDOUT]: got harbar 0\n"
     ]
    },
    {
     "name": "stderr",
     "output_type": "stream",
     "text": [
      "2019-12-01 18:28:43 LAPTOP-SDM3TI61 minerl.env.malmo.instance.42cbc8[24072] "
     ]
    },
    {
     "name": "stdout",
     "output_type": "stream",
     "text": [
      "4.0"
     ]
    },
    {
     "name": "stderr",
     "output_type": "stream",
     "text": [
      "DEBUG"
     ]
    },
    {
     "name": "stdout",
     "output_type": "stream",
     "text": [
      "\n"
     ]
    },
    {
     "name": "stderr",
     "output_type": "stream",
     "text": [
      " [18:28:42] [Netty Server IO #1/INFO]: [STDOUT]: got harbar 0\n"
     ]
    },
    {
     "name": "stdout",
     "output_type": "stream",
     "text": [
      "DEBUG:minerl.env.malmo.instance.42cbc8:[18:28:42] [Netty Server IO #1/INFO]: [STDOUT]: got slot 0\n",
      "step = "
     ]
    },
    {
     "name": "stderr",
     "output_type": "stream",
     "text": [
      "2019-12-01 18:28:43"
     ]
    },
    {
     "name": "stdout",
     "output_type": "stream",
     "text": [
      " "
     ]
    },
    {
     "name": "stderr",
     "output_type": "stream",
     "text": [
      " "
     ]
    },
    {
     "name": "stdout",
     "output_type": "stream",
     "text": [
      "213"
     ]
    },
    {
     "name": "stderr",
     "output_type": "stream",
     "text": [
      "LAPTOP-SDM3TI61 "
     ]
    },
    {
     "name": "stdout",
     "output_type": "stream",
     "text": [
      "\n"
     ]
    },
    {
     "name": "stderr",
     "output_type": "stream",
     "text": [
      "minerl.env.malmo.instance.42cbc8[24072] DEBUG [18:28:42] [Netty Server IO #1/INFO]: [STDOUT]: got slot 0\n"
     ]
    },
    {
     "name": "stdout",
     "output_type": "stream",
     "text": [
      "DEBUG:minerl.env.malmo.instance.42cbc8:[18:28:43] [Client thread/INFO]: [CHAT] §l889...\r\n"
     ]
    },
    {
     "name": "stderr",
     "output_type": "stream",
     "text": [
      "2019-12-01 18:28:43 LAPTOP-SDM3TI61"
     ]
    },
    {
     "name": "stdout",
     "output_type": "stream",
     "text": [
      "4.3"
     ]
    },
    {
     "name": "stderr",
     "output_type": "stream",
     "text": [
      " "
     ]
    },
    {
     "name": "stdout",
     "output_type": "stream",
     "text": [
      "\n"
     ]
    },
    {
     "name": "stderr",
     "output_type": "stream",
     "text": [
      "minerl.env.malmo.instance.42cbc8[24072] "
     ]
    },
    {
     "name": "stdout",
     "output_type": "stream",
     "text": [
      "step = "
     ]
    },
    {
     "name": "stderr",
     "output_type": "stream",
     "text": [
      "DEBUG"
     ]
    },
    {
     "name": "stdout",
     "output_type": "stream",
     "text": [
      " "
     ]
    },
    {
     "name": "stderr",
     "output_type": "stream",
     "text": [
      " "
     ]
    },
    {
     "name": "stdout",
     "output_type": "stream",
     "text": [
      "214"
     ]
    },
    {
     "name": "stderr",
     "output_type": "stream",
     "text": [
      "[18:28:43] [Client thread/INFO]: [CHAT] §l889...\r"
     ]
    },
    {
     "name": "stdout",
     "output_type": "stream",
     "text": [
      "\n"
     ]
    },
    {
     "name": "stderr",
     "output_type": "stream",
     "text": [
      "\n"
     ]
    },
    {
     "name": "stdout",
     "output_type": "stream",
     "text": [
      "DEBUG:minerl.env.malmo.instance.42cbc8:[18:28:43] [Netty Server IO #1/INFO]: [STDOUT]: Equip message recieved\r\n"
     ]
    },
    {
     "name": "stderr",
     "output_type": "stream",
     "text": [
      "2019-12-01 18:28:43 LAPTOP-SDM3TI61 minerl.env.malmo.instance.42cbc8[24072] DEBUG [18:28:43] [Netty Server IO #1/INFO]: [STDOUT]: Equip message recieved\n"
     ]
    },
    {
     "name": "stdout",
     "output_type": "stream",
     "text": [
      "DEBUG:minerl.env.malmo.instance.42cbc8:[18:28:43] [Netty Server IO #1/INFO]: [STDOUT]: got harbar 0\r\n"
     ]
    },
    {
     "name": "stderr",
     "output_type": "stream",
     "text": [
      "2019-12-01 18:28:43 "
     ]
    },
    {
     "name": "stdout",
     "output_type": "stream",
     "text": [
      "4.3\n"
     ]
    },
    {
     "name": "stderr",
     "output_type": "stream",
     "text": [
      "LAPTOP-SDM3TI61 minerl.env.malmo.instance.42cbc8[24072] DEBUG"
     ]
    },
    {
     "name": "stdout",
     "output_type": "stream",
     "text": [
      "step = "
     ]
    },
    {
     "name": "stderr",
     "output_type": "stream",
     "text": [
      " "
     ]
    },
    {
     "name": "stdout",
     "output_type": "stream",
     "text": [
      " "
     ]
    },
    {
     "name": "stderr",
     "output_type": "stream",
     "text": [
      "[18:28:43] [Netty Server IO #1/INFO]: [STDOUT]: got harbar 0\n"
     ]
    },
    {
     "name": "stdout",
     "output_type": "stream",
     "text": [
      "215\n",
      "DEBUG:minerl.env.malmo.instance.42cbc8:[18:28:43] [Netty Server IO #1/INFO]: [STDOUT]: got slot 0\n"
     ]
    },
    {
     "name": "stderr",
     "output_type": "stream",
     "text": [
      "2019-12-01 18:28:43 LAPTOP-SDM3TI61 minerl.env.malmo.instance.42cbc8[24072] DEBUG [18:28:43] [Netty Server IO #1/INFO]: [STDOUT]: got slot 0\n"
     ]
    },
    {
     "name": "stdout",
     "output_type": "stream",
     "text": [
      "DEBUG:minerl.env.malmo.instance.42cbc8:[18:28:43] [Netty Server IO #1/INFO]: [STDOUT]: Equip message recieved\r\n"
     ]
    },
    {
     "name": "stderr",
     "output_type": "stream",
     "text": [
      "2019-12-01 18:28:43 LAPTOP-SDM3TI61"
     ]
    },
    {
     "name": "stdout",
     "output_type": "stream",
     "text": [
      "4.3"
     ]
    },
    {
     "name": "stderr",
     "output_type": "stream",
     "text": [
      " "
     ]
    },
    {
     "name": "stdout",
     "output_type": "stream",
     "text": [
      "\n"
     ]
    },
    {
     "name": "stderr",
     "output_type": "stream",
     "text": [
      "minerl.env.malmo.instance.42cbc8[24072] DEBUG"
     ]
    },
    {
     "name": "stdout",
     "output_type": "stream",
     "text": [
      "step = "
     ]
    },
    {
     "name": "stderr",
     "output_type": "stream",
     "text": [
      " "
     ]
    },
    {
     "name": "stdout",
     "output_type": "stream",
     "text": [
      " "
     ]
    },
    {
     "name": "stderr",
     "output_type": "stream",
     "text": [
      "[18:28:43] [Netty Server IO #1/INFO]: [STDOUT]: Equip message recieved\n"
     ]
    },
    {
     "name": "stdout",
     "output_type": "stream",
     "text": [
      "216\n",
      "DEBUG:minerl.env.malmo.instance.42cbc8:[18:28:43] [Netty Server IO #1/INFO]: [STDOUT]: got harbar 0\n"
     ]
    },
    {
     "name": "stderr",
     "output_type": "stream",
     "text": [
      "2019-12-01 18:28:43 LAPTOP-SDM3TI61 minerl.env.malmo.instance.42cbc8[24072] DEBUG [18:28:43] [Netty Server IO #1/INFO]: [STDOUT]: got harbar 0\n"
     ]
    },
    {
     "name": "stdout",
     "output_type": "stream",
     "text": [
      "DEBUG:minerl.env.malmo.instance.42cbc8:[18:28:43] [Netty Server IO #1/INFO]: [STDOUT]: got slot 0\r\n"
     ]
    },
    {
     "name": "stderr",
     "output_type": "stream",
     "text": [
      "2019-12-01 18:28:43"
     ]
    },
    {
     "name": "stdout",
     "output_type": "stream",
     "text": [
      "4.3"
     ]
    },
    {
     "name": "stderr",
     "output_type": "stream",
     "text": [
      " "
     ]
    },
    {
     "name": "stdout",
     "output_type": "stream",
     "text": [
      "\n"
     ]
    },
    {
     "name": "stderr",
     "output_type": "stream",
     "text": [
      "LAPTOP-SDM3TI61 minerl.env.malmo.instance.42cbc8[24072]"
     ]
    },
    {
     "name": "stdout",
     "output_type": "stream",
     "text": [
      "step = "
     ]
    },
    {
     "name": "stderr",
     "output_type": "stream",
     "text": [
      " "
     ]
    },
    {
     "name": "stdout",
     "output_type": "stream",
     "text": [
      " "
     ]
    },
    {
     "name": "stderr",
     "output_type": "stream",
     "text": [
      "DEBUG"
     ]
    },
    {
     "name": "stdout",
     "output_type": "stream",
     "text": [
      "217"
     ]
    },
    {
     "name": "stderr",
     "output_type": "stream",
     "text": [
      " "
     ]
    },
    {
     "name": "stdout",
     "output_type": "stream",
     "text": [
      "\n"
     ]
    },
    {
     "name": "stderr",
     "output_type": "stream",
     "text": [
      "[18:28:43] [Netty Server IO #1/INFO]: [STDOUT]: got slot 0\n"
     ]
    },
    {
     "name": "stdout",
     "output_type": "stream",
     "text": [
      "DEBUG:minerl.env.malmo.instance.42cbc8:[18:28:43] [Netty Server IO #1/INFO]: [STDOUT]: Equip message recieved\r\n"
     ]
    },
    {
     "name": "stderr",
     "output_type": "stream",
     "text": [
      "2019-12-01 18:28:43 LAPTOP-SDM3TI61 minerl.env.malmo.instance.42cbc8[24072] DEBUG [18:28:43] [Netty Server IO #1/INFO]: [STDOUT]: Equip message recieved\n"
     ]
    },
    {
     "name": "stdout",
     "output_type": "stream",
     "text": [
      "DEBUG:minerl.env.malmo.instance.42cbc8:[18:28:43] [Netty Server IO #1/INFO]: [STDOUT]: got harbar 0\r\n"
     ]
    },
    {
     "name": "stderr",
     "output_type": "stream",
     "text": [
      "2019-12-01 18:28:43 LAPTOP-SDM3TI61 minerl.env.malmo.instance.42cbc8[24072] DEBUG [18:28:43] [Netty Server IO #1/INFO]: [STDOUT]: got harbar 0\n"
     ]
    },
    {
     "name": "stdout",
     "output_type": "stream",
     "text": [
      "DEBUG:minerl.env.malmo.instance.42cbc8:[18:28:43] [Netty Server IO #1/INFO]: [STDOUT]: got slot 0\r\n"
     ]
    },
    {
     "name": "stderr",
     "output_type": "stream",
     "text": [
      "2019-12-01 18:28:43 LAPTOP-SDM3TI61 minerl.env.malmo.instance.42cbc8[24072] DEBUG"
     ]
    },
    {
     "name": "stdout",
     "output_type": "stream",
     "text": [
      "4.3\n"
     ]
    },
    {
     "name": "stderr",
     "output_type": "stream",
     "text": [
      " [18:28:43] [Netty Server IO #1/INFO]: [STDOUT]: got slot 0\n"
     ]
    },
    {
     "name": "stdout",
     "output_type": "stream",
     "text": [
      " tep = DEBUG:minerl.env.malmo.instance.42cbc8:[18:28:43] [Netty Server IO #1/INFO]: [STDOUT]: Equip message recieved\n"
     ]
    },
    {
     "name": "stderr",
     "output_type": "stream",
     "text": [
      "2019-12-01 18:28:43"
     ]
    },
    {
     "name": "stdout",
     "output_type": "stream",
     "text": [
      "218"
     ]
    },
    {
     "name": "stderr",
     "output_type": "stream",
     "text": [
      " "
     ]
    },
    {
     "name": "stdout",
     "output_type": "stream",
     "text": [
      "\n"
     ]
    },
    {
     "name": "stderr",
     "output_type": "stream",
     "text": [
      "LAPTOP-SDM3TI61 minerl.env.malmo.instance.42cbc8[24072] DEBUG [18:28:43] [Netty Server IO #1/INFO]: [STDOUT]: Equip message recieved\n"
     ]
    },
    {
     "name": "stdout",
     "output_type": "stream",
     "text": [
      "DEBUG:minerl.env.malmo.instance.42cbc8:[18:28:43] [Netty Server IO #1/INFO]: [STDOUT]: got harbar 0\r\n"
     ]
    },
    {
     "name": "stderr",
     "output_type": "stream",
     "text": [
      "2019-12-01 18:28:43 LAPTOP-SDM3TI61 minerl.env.malmo.instance.42cbc8[24072] DEBUG [18:28:43] [Netty Server IO #1/INFO]: [STDOUT]: got harbar 0\n"
     ]
    },
    {
     "name": "stdout",
     "output_type": "stream",
     "text": [
      "DEBUG:minerl.env.malmo.instance.42cbc8:[18:28:43] [Netty Server IO #1/INFO]: [STDOUT]: got slot 0\r\n"
     ]
    },
    {
     "name": "stderr",
     "output_type": "stream",
     "text": [
      "2019-12-01 18:28:43 LAPTOP-SDM3TI61"
     ]
    },
    {
     "name": "stdout",
     "output_type": "stream",
     "text": [
      "4.3\n"
     ]
    },
    {
     "name": "stderr",
     "output_type": "stream",
     "text": [
      " minerl.env.malmo.instance.42cbc8[24072] "
     ]
    },
    {
     "name": "stdout",
     "output_type": "stream",
     "text": [
      "step = "
     ]
    },
    {
     "name": "stderr",
     "output_type": "stream",
     "text": [
      "DEBUG"
     ]
    },
    {
     "name": "stdout",
     "output_type": "stream",
     "text": [
      " "
     ]
    },
    {
     "name": "stderr",
     "output_type": "stream",
     "text": [
      " "
     ]
    },
    {
     "name": "stdout",
     "output_type": "stream",
     "text": [
      "219"
     ]
    },
    {
     "name": "stderr",
     "output_type": "stream",
     "text": [
      "[18:28:43] [Netty Server IO #1/INFO]: [STDOUT]: got slot 0\r"
     ]
    },
    {
     "name": "stdout",
     "output_type": "stream",
     "text": [
      "\n"
     ]
    },
    {
     "name": "stderr",
     "output_type": "stream",
     "text": [
      "\n"
     ]
    },
    {
     "name": "stdout",
     "output_type": "stream",
     "text": [
      "DEBUG:minerl.env.malmo.instance.42cbc8:[18:28:43] [Netty Server IO #1/INFO]: [STDOUT]: Equip message recieved\r\n"
     ]
    },
    {
     "name": "stderr",
     "output_type": "stream",
     "text": [
      "2019-12-01 18:28:43 LAPTOP-SDM3TI61 "
     ]
    },
    {
     "name": "stdout",
     "output_type": "stream",
     "text": [
      "4.3\n"
     ]
    },
    {
     "name": "stderr",
     "output_type": "stream",
     "text": [
      "minerl.env.malmo.instance.42cbc8[24072]"
     ]
    },
    {
     "name": "stdout",
     "output_type": "stream",
     "text": [
      "step = "
     ]
    },
    {
     "name": "stderr",
     "output_type": "stream",
     "text": [
      " "
     ]
    },
    {
     "name": "stdout",
     "output_type": "stream",
     "text": [
      " "
     ]
    },
    {
     "name": "stderr",
     "output_type": "stream",
     "text": [
      "DEBUG"
     ]
    },
    {
     "name": "stdout",
     "output_type": "stream",
     "text": [
      "220"
     ]
    },
    {
     "name": "stderr",
     "output_type": "stream",
     "text": [
      " [18:28:43] [Netty Server IO #1/INFO]: [STDOUT]: Equip message recieved\r"
     ]
    },
    {
     "name": "stdout",
     "output_type": "stream",
     "text": [
      "\n"
     ]
    },
    {
     "name": "stderr",
     "output_type": "stream",
     "text": [
      "\n"
     ]
    },
    {
     "name": "stdout",
     "output_type": "stream",
     "text": [
      "DEBUG:minerl.env.malmo.instance.42cbc8:[18:28:43] [Netty Server IO #1/INFO]: [STDOUT]: got harbar 0\r\n"
     ]
    },
    {
     "name": "stderr",
     "output_type": "stream",
     "text": [
      "2019-12-01 18:28:43 LAPTOP-SDM3TI61 minerl.env.malmo.instance.42cbc8[24072] DEBUG [18:28:43] [Netty Server IO #1/INFO]: [STDOUT]: got harbar 0\n"
     ]
    },
    {
     "name": "stdout",
     "output_type": "stream",
     "text": [
      "DEBUG:minerl.env.malmo.instance.42cbc8:[18:28:43] [Netty Server IO #1/INFO]: [STDOUT]: got slot 0\r\n"
     ]
    },
    {
     "name": "stderr",
     "output_type": "stream",
     "text": [
      "2019-12-01 18:28:43 LAPTOP-SDM3TI61 minerl.env.malmo.instance.42cbc8[24072] DEBUG [18:28:43] [Netty Server IO #1/INFO]: [STDOUT]: got slot 0\n"
     ]
    },
    {
     "name": "stdout",
     "output_type": "stream",
     "text": [
      "DEBUG:minerl.env.malmo.instance.42cbc8:[18:28:43] [Netty Server IO #1/INFO]: [STDOUT]: Equip message recieved\r\n"
     ]
    },
    {
     "name": "stderr",
     "output_type": "stream",
     "text": [
      "2019-12-01 18:28:43 LAPTOP-SDM3TI61 minerl.env.malmo.instance.42cbc8[24072] DEBUG [18:28:43] [Netty Server IO #1/INFO]: [STDOUT]: Equip message recieved\n"
     ]
    },
    {
     "name": "stdout",
     "output_type": "stream",
     "text": [
      "DEBUG:minerl.env.malmo.instance.42cbc8:[18:28:43] [Netty Server IO #1/INFO]: [STDOUT]: got harbar 0\r\n"
     ]
    },
    {
     "name": "stderr",
     "output_type": "stream",
     "text": [
      "2019-12-01 18:28:43 LAPTOP-SDM3TI61 minerl.env.malmo.instance.42cbc8[24072] DEBUG"
     ]
    },
    {
     "name": "stdout",
     "output_type": "stream",
     "text": [
      "4.3"
     ]
    },
    {
     "name": "stderr",
     "output_type": "stream",
     "text": [
      " "
     ]
    },
    {
     "name": "stdout",
     "output_type": "stream",
     "text": [
      "\n"
     ]
    },
    {
     "name": "stderr",
     "output_type": "stream",
     "text": [
      "[18:28:43] [Netty Server IO #1/INFO]: [STDOUT]: got harbar 0\r"
     ]
    },
    {
     "name": "stdout",
     "output_type": "stream",
     "text": [
      "step =  221\n"
     ]
    },
    {
     "name": "stderr",
     "output_type": "stream",
     "text": [
      "\n"
     ]
    },
    {
     "name": "stdout",
     "output_type": "stream",
     "text": [
      "DEBUG:minerl.env.malmo.instance.42cbc8:[18:28:43] [Netty Server IO #1/INFO]: [STDOUT]: got slot 0\r\n"
     ]
    },
    {
     "name": "stderr",
     "output_type": "stream",
     "text": [
      "2019-12-01 18:28:43 LAPTOP-SDM3TI61 minerl.env.malmo.instance.42cbc8[24072] DEBUG [18:28:43] [Netty Server IO #1/INFO]: [STDOUT]: got slot 0\n"
     ]
    },
    {
     "name": "stdout",
     "output_type": "stream",
     "text": [
      "4.3DEBUG:minerl.env.malmo.instance.42cbc8:[18:28:43] [Netty Server IO #1/INFO]: [STDOUT]: Equip message recieved\n",
      "\n"
     ]
    },
    {
     "name": "stderr",
     "output_type": "stream",
     "text": [
      "2019-12-01 18:28:43 LAPTOP-SDM3TI61 minerl.env.malmo.instance.42cbc8[24072] DEBUG [18:28:43] [Netty Server IO #1/INFO]: [STDOUT]: Equip message recieved\n"
     ]
    },
    {
     "name": "stdout",
     "output_type": "stream",
     "text": [
      "DEBUG:minerl.env.malmo.instance.42cbc8:[18:28:43] [Netty Server IO #1/INFO]: [STDOUT]: got harbar 0\r\n"
     ]
    },
    {
     "name": "stderr",
     "output_type": "stream",
     "text": [
      "2019-12-01 18:28:43 LAPTOP-SDM3TI61 minerl.env.malmo.instance.42cbc8[24072] DEBUG [18:28:43] [Netty Server IO #1/INFO]: [STDOUT]: got harbar 0\n"
     ]
    },
    {
     "name": "stdout",
     "output_type": "stream",
     "text": [
      "DEBUG:minerl.env.malmo.instance.42cbc8:[18:28:43] [Netty Server IO #1/INFO]: [STDOUT]: got slot 0\r\n"
     ]
    },
    {
     "name": "stderr",
     "output_type": "stream",
     "text": [
      "2019-12-01 18:28:43 LAPTOP-SDM3TI61 minerl.env.malmo.instance.42cbc8[24072] DEBUG "
     ]
    },
    {
     "name": "stdout",
     "output_type": "stream",
     "text": [
      "step =  "
     ]
    },
    {
     "name": "stderr",
     "output_type": "stream",
     "text": [
      "[18:28:43] [Netty Server IO #1/INFO]: [STDOUT]: got slot 0\r"
     ]
    },
    {
     "name": "stdout",
     "output_type": "stream",
     "text": [
      "222"
     ]
    },
    {
     "name": "stderr",
     "output_type": "stream",
     "text": [
      "\n"
     ]
    },
    {
     "name": "stdout",
     "output_type": "stream",
     "text": [
      "\n",
      "DEBUG:minerl.env.malmo.instance.42cbc8:[18:28:43] [Netty Server IO #1/INFO]: [STDOUT]: Equip message recieved\n"
     ]
    },
    {
     "name": "stderr",
     "output_type": "stream",
     "text": [
      "2019-12-01 18:28:43 LAPTOP-SDM3TI61 minerl.env.malmo.instance.42cbc8[24072] DEBUG [18:28:43] [Netty Server IO #1/INFO]: [STDOUT]: Equip message recieved\n"
     ]
    },
    {
     "name": "stdout",
     "output_type": "stream",
     "text": [
      "DEBUG:minerl.env.malmo.instance.42cbc8:[18:28:43] [Netty Server IO #1/INFO]: [STDOUT]: got harbar 0\r\n"
     ]
    },
    {
     "name": "stderr",
     "output_type": "stream",
     "text": [
      "2019-12-01 18:28:43 LAPTOP-SDM3TI61 minerl.env.malmo.instance.42cbc8[24072] DEBUG [18:28:43] [Netty Server IO #1/INFO]: [STDOUT]: got harbar 0\n"
     ]
    },
    {
     "name": "stdout",
     "output_type": "stream",
     "text": [
      "DEBUG:minerl.env.malmo.instance.42cbc8:[18:28:43] [Netty Server IO #1/INFO]: [STDOUT]: got slot 0\r\n"
     ]
    },
    {
     "name": "stderr",
     "output_type": "stream",
     "text": [
      "2019-12-01 18:28:43 LAPTOP-SDM3TI61 minerl.env.malmo.instance.42cbc8[24072] DEBUG [18:28:43] [Netty Server IO #1/INFO]: [STDOUT]: got slot 0\n"
     ]
    },
    {
     "name": "stdout",
     "output_type": "stream",
     "text": [
      "4.3\n",
      "step =  223\n",
      "4.3\n",
      "step =  224\n",
      "DEBUG:minerl.env.malmo.instance.42cbc8:[18:28:43] [Netty Server IO #1/INFO]: [STDOUT]: Equip message recieved\n"
     ]
    },
    {
     "name": "stderr",
     "output_type": "stream",
     "text": [
      "2019-12-01 18:28:43 LAPTOP-SDM3TI61 minerl.env.malmo.instance.42cbc8[24072] DEBUG [18:28:43] [Netty Server IO #1/INFO]: [STDOUT]: Equip message recieved\n"
     ]
    },
    {
     "name": "stdout",
     "output_type": "stream",
     "text": [
      "DEBUG:minerl.env.malmo.instance.42cbc8:[18:28:43] [Netty Server IO #1/INFO]: [STDOUT]: got harbar 0\r\n"
     ]
    },
    {
     "name": "stderr",
     "output_type": "stream",
     "text": [
      "2019-12-01 18:28:43 LAPTOP-SDM3TI61 minerl.env.malmo.instance.42cbc8[24072] DEBUG"
     ]
    },
    {
     "name": "stdout",
     "output_type": "stream",
     "text": [
      "4.3"
     ]
    },
    {
     "name": "stderr",
     "output_type": "stream",
     "text": [
      " "
     ]
    },
    {
     "name": "stdout",
     "output_type": "stream",
     "text": [
      "\n"
     ]
    },
    {
     "name": "stderr",
     "output_type": "stream",
     "text": [
      "[18:28:43] [Netty Server IO #1/INFO]: [STDOUT]: got harbar 0\n"
     ]
    },
    {
     "name": "stdout",
     "output_type": "stream",
     "text": [
      "step = DEBUG:minerl.env.malmo.instance.42cbc8:[18:28:43] [Netty Server IO #1/INFO]: [STDOUT]: got slot 0\n",
      " "
     ]
    },
    {
     "name": "stderr",
     "output_type": "stream",
     "text": [
      "2019-12-01 18:28:43"
     ]
    },
    {
     "name": "stdout",
     "output_type": "stream",
     "text": [
      "225"
     ]
    },
    {
     "name": "stderr",
     "output_type": "stream",
     "text": [
      " "
     ]
    },
    {
     "name": "stdout",
     "output_type": "stream",
     "text": [
      "\n"
     ]
    },
    {
     "name": "stderr",
     "output_type": "stream",
     "text": [
      "LAPTOP-SDM3TI61 minerl.env.malmo.instance.42cbc8[24072] DEBUG [18:28:43] [Netty Server IO #1/INFO]: [STDOUT]: got slot 0\n"
     ]
    },
    {
     "name": "stdout",
     "output_type": "stream",
     "text": [
      "4.3\n",
      "step =  226\n",
      "DEBUG:minerl.env.malmo.instance.42cbc8:[18:28:43] [Netty Server IO #1/INFO]: [STDOUT]: Equip message recieved\n"
     ]
    },
    {
     "name": "stderr",
     "output_type": "stream",
     "text": [
      "2019-12-01 18:28:43 LAPTOP-SDM3TI61 minerl.env.malmo.instance.42cbc8[24072] DEBUG [18:28:43] [Netty Server IO #1/INFO]: [STDOUT]: Equip message recieved\n"
     ]
    },
    {
     "name": "stdout",
     "output_type": "stream",
     "text": [
      "DEBUG:minerl.env.malmo.instance.42cbc8:[18:28:43] [Netty Server IO #1/INFO]: [STDOUT]: got harbar 0\r\n"
     ]
    },
    {
     "name": "stderr",
     "output_type": "stream",
     "text": [
      "2019-12-01 18:28:43 LAPTOP-SDM3TI61 minerl.env.malmo.instance.42cbc8[24072]"
     ]
    },
    {
     "name": "stdout",
     "output_type": "stream",
     "text": [
      "4.3"
     ]
    },
    {
     "name": "stderr",
     "output_type": "stream",
     "text": [
      " "
     ]
    },
    {
     "name": "stdout",
     "output_type": "stream",
     "text": [
      "\n"
     ]
    },
    {
     "name": "stderr",
     "output_type": "stream",
     "text": [
      "DEBUG [18:28:43] [Netty Server IO #1/INFO]: [STDOUT]: got harbar 0\n"
     ]
    },
    {
     "name": "stdout",
     "output_type": "stream",
     "text": [
      "DEBUG:minerl.env.malmo.instance.42cbc8:[18:28:43] [Netty Server IO #1/INFO]: [STDOUT]: got slot 0\n",
      "step = "
     ]
    },
    {
     "name": "stderr",
     "output_type": "stream",
     "text": [
      "2019-12-01 18:28:43"
     ]
    },
    {
     "name": "stdout",
     "output_type": "stream",
     "text": [
      " "
     ]
    },
    {
     "name": "stderr",
     "output_type": "stream",
     "text": [
      " "
     ]
    },
    {
     "name": "stdout",
     "output_type": "stream",
     "text": [
      "227"
     ]
    },
    {
     "name": "stderr",
     "output_type": "stream",
     "text": [
      "LAPTOP-SDM3TI61"
     ]
    },
    {
     "name": "stdout",
     "output_type": "stream",
     "text": [
      "\n"
     ]
    },
    {
     "name": "stderr",
     "output_type": "stream",
     "text": [
      " minerl.env.malmo.instance.42cbc8[24072] DEBUG [18:28:43] [Netty Server IO #1/INFO]: [STDOUT]: got slot 0\n"
     ]
    },
    {
     "name": "stdout",
     "output_type": "stream",
     "text": [
      "4.5\n",
      "step =  228\n",
      "4.5DEBUG:minerl.env.malmo.instance.42cbc8:[18:28:44] [Client thread/INFO]: [CHAT] §l888...\n"
     ]
    },
    {
     "name": "stderr",
     "output_type": "stream",
     "text": [
      "2019-12-01 18:28:44"
     ]
    },
    {
     "name": "stdout",
     "output_type": "stream",
     "text": [
      "\n"
     ]
    },
    {
     "name": "stderr",
     "output_type": "stream",
     "text": [
      " LAPTOP-SDM3TI61 minerl.env.malmo.instance.42cbc8[24072]"
     ]
    },
    {
     "name": "stdout",
     "output_type": "stream",
     "text": [
      "step = "
     ]
    },
    {
     "name": "stderr",
     "output_type": "stream",
     "text": [
      " "
     ]
    },
    {
     "name": "stdout",
     "output_type": "stream",
     "text": [
      " "
     ]
    },
    {
     "name": "stderr",
     "output_type": "stream",
     "text": [
      "DEBUG"
     ]
    },
    {
     "name": "stdout",
     "output_type": "stream",
     "text": [
      "229"
     ]
    },
    {
     "name": "stderr",
     "output_type": "stream",
     "text": [
      " "
     ]
    },
    {
     "name": "stdout",
     "output_type": "stream",
     "text": [
      "\n"
     ]
    },
    {
     "name": "stderr",
     "output_type": "stream",
     "text": [
      "[18:28:44] [Client thread/INFO]: [CHAT] §l888...\n"
     ]
    },
    {
     "name": "stdout",
     "output_type": "stream",
     "text": [
      "4.5\n",
      "step =  230\n",
      "DEBUG:minerl.env.malmo.instance.42cbc8:[18:28:44] [Netty Server IO #1/INFO]: [STDOUT]: Equip message recieved\n"
     ]
    },
    {
     "name": "stderr",
     "output_type": "stream",
     "text": [
      "2019-12-01 18:28:44 LAPTOP-SDM3TI61 minerl.env.malmo.instance.42cbc8[24072] DEBUG [18:28:44] [Netty Server IO #1/INFO]: [STDOUT]: Equip message recieved\n"
     ]
    },
    {
     "name": "stdout",
     "output_type": "stream",
     "text": [
      "DEBUG:minerl.env.malmo.instance.42cbc8:[18:28:44] [Netty Server IO #1/INFO]: [STDOUT]: got harbar 0\r\n"
     ]
    },
    {
     "name": "stderr",
     "output_type": "stream",
     "text": [
      "2019-12-01 18:28:44 LAPTOP-SDM3TI61 minerl.env.malmo.instance.42cbc8[24072] DEBUG [18:28:44] [Netty Server IO #1/INFO]: [STDOUT]: got harbar 0\n"
     ]
    },
    {
     "name": "stdout",
     "output_type": "stream",
     "text": [
      "DEBUG:minerl.env.malmo.instance.42cbc8:[18:28:44] [Netty Server IO #1/INFO]: [STDOUT]: got slot 0\r\n"
     ]
    },
    {
     "name": "stderr",
     "output_type": "stream",
     "text": [
      "2019-12-01 18:28:44 "
     ]
    },
    {
     "name": "stdout",
     "output_type": "stream",
     "text": [
      "4.5"
     ]
    },
    {
     "name": "stderr",
     "output_type": "stream",
     "text": [
      "LAPTOP-SDM3TI61"
     ]
    },
    {
     "name": "stdout",
     "output_type": "stream",
     "text": [
      "\n"
     ]
    },
    {
     "name": "stderr",
     "output_type": "stream",
     "text": [
      " minerl.env.malmo.instance.42cbc8[24072] DEBUG "
     ]
    },
    {
     "name": "stdout",
     "output_type": "stream",
     "text": [
      "step = "
     ]
    },
    {
     "name": "stderr",
     "output_type": "stream",
     "text": [
      "[18:28:44] [Netty Server IO #1/INFO]: [STDOUT]: got slot 0\r"
     ]
    },
    {
     "name": "stdout",
     "output_type": "stream",
     "text": [
      " "
     ]
    },
    {
     "name": "stderr",
     "output_type": "stream",
     "text": [
      "\n"
     ]
    },
    {
     "name": "stdout",
     "output_type": "stream",
     "text": [
      "231\n",
      "4.8\n",
      "step =  232\n",
      "4.8\n",
      "step =  233\n",
      "DEBUG:minerl.env.malmo.instance.42cbc8:[18:28:44] [Netty Server IO #1/INFO]: [STDOUT]: Equip message recieved\n"
     ]
    },
    {
     "name": "stderr",
     "output_type": "stream",
     "text": [
      "2019-12-01 18:28:44 LAPTOP-SDM3TI61 minerl.env.malmo.instance.42cbc8[24072] DEBUG [18:28:44] [Netty Server IO #1/INFO]: [STDOUT]: Equip message recieved\n"
     ]
    },
    {
     "name": "stdout",
     "output_type": "stream",
     "text": [
      "DEBUG:minerl.env.malmo.instance.42cbc8:[18:28:44] [Netty Server IO #1/INFO]: [STDOUT]: got harbar 0\r\n"
     ]
    },
    {
     "name": "stderr",
     "output_type": "stream",
     "text": [
      "2019-12-01 18:28:44 LAPTOP-SDM3TI61 minerl.env.malmo.instance.42cbc8[24072] DEBUG [18:28:44] [Netty Server IO #1/INFO]: [STDOUT]: got harbar 0\r"
     ]
    },
    {
     "name": "stdout",
     "output_type": "stream",
     "text": [
      "4.8"
     ]
    },
    {
     "name": "stderr",
     "output_type": "stream",
     "text": [
      "\n"
     ]
    },
    {
     "name": "stdout",
     "output_type": "stream",
     "text": [
      "\n",
      "DEBUG:minerl.env.malmo.instance.42cbc8:[18:28:44] [Netty Server IO #1/INFO]: [STDOUT]: got slot 0\n"
     ]
    },
    {
     "name": "stderr",
     "output_type": "stream",
     "text": [
      "2019-12-01 18:28:44 "
     ]
    },
    {
     "name": "stdout",
     "output_type": "stream",
     "text": [
      "step = "
     ]
    },
    {
     "name": "stderr",
     "output_type": "stream",
     "text": [
      "LAPTOP-SDM3TI61"
     ]
    },
    {
     "name": "stdout",
     "output_type": "stream",
     "text": [
      " "
     ]
    },
    {
     "name": "stderr",
     "output_type": "stream",
     "text": [
      " "
     ]
    },
    {
     "name": "stdout",
     "output_type": "stream",
     "text": [
      "234"
     ]
    },
    {
     "name": "stderr",
     "output_type": "stream",
     "text": [
      "minerl.env.malmo.instance.42cbc8[24072]"
     ]
    },
    {
     "name": "stdout",
     "output_type": "stream",
     "text": [
      "\n"
     ]
    },
    {
     "name": "stderr",
     "output_type": "stream",
     "text": [
      " DEBUG [18:28:44] [Netty Server IO #1/INFO]: [STDOUT]: got slot 0\n"
     ]
    },
    {
     "name": "stdout",
     "output_type": "stream",
     "text": [
      "4.8\n",
      "step =  235\n",
      "4.8\n",
      "step =  236\n",
      "DEBUG:minerl.env.malmo.instance.42cbc8:[18:28:44] [Netty Server IO #1/INFO]: [STDOUT]: Equip message recieved\n"
     ]
    },
    {
     "name": "stderr",
     "output_type": "stream",
     "text": [
      "2019-12-01 18:28:44 LAPTOP-SDM3TI61 minerl.env.malmo.instance.42cbc8[24072] DEBUG [18:28:44] [Netty Server IO #1/INFO]: [STDOUT]: Equip message recieved\n"
     ]
    },
    {
     "name": "stdout",
     "output_type": "stream",
     "text": [
      "DEBUG:minerl.env.malmo.instance.42cbc8:[18:28:44] [Netty Server IO #1/INFO]: [STDOUT]: got harbar 0\r\n"
     ]
    },
    {
     "name": "stderr",
     "output_type": "stream",
     "text": [
      "2019-12-01 18:28:44 LAPTOP-SDM3TI61 minerl.env.malmo.instance.42cbc8[24072]"
     ]
    },
    {
     "name": "stdout",
     "output_type": "stream",
     "text": [
      "4.8"
     ]
    },
    {
     "name": "stderr",
     "output_type": "stream",
     "text": [
      " "
     ]
    },
    {
     "name": "stdout",
     "output_type": "stream",
     "text": [
      "\n"
     ]
    },
    {
     "name": "stderr",
     "output_type": "stream",
     "text": [
      "DEBUG [18:28:44] [Netty Server IO #1/INFO]: [STDOUT]: got harbar 0\n"
     ]
    },
    {
     "name": "stdout",
     "output_type": "stream",
     "text": [
      "step = DEBUG:minerl.env.malmo.instance.42cbc8:[18:28:44] [Netty Server IO #1/INFO]: [STDOUT]: got slot 0\n",
      " "
     ]
    },
    {
     "name": "stderr",
     "output_type": "stream",
     "text": [
      "2019-12-01 18:28:44"
     ]
    },
    {
     "name": "stdout",
     "output_type": "stream",
     "text": [
      "237"
     ]
    },
    {
     "name": "stderr",
     "output_type": "stream",
     "text": [
      " "
     ]
    },
    {
     "name": "stdout",
     "output_type": "stream",
     "text": [
      "\n"
     ]
    },
    {
     "name": "stderr",
     "output_type": "stream",
     "text": [
      "LAPTOP-SDM3TI61 minerl.env.malmo.instance.42cbc8[24072] DEBUG [18:28:44] [Netty Server IO #1/INFO]: [STDOUT]: got slot 0\n"
     ]
    },
    {
     "name": "stdout",
     "output_type": "stream",
     "text": [
      "DEBUG:minerl.env.malmo.instance.42cbc8:[18:28:44] [Netty Server IO #1/INFO]: [STDOUT]: Equip message recieved\r\n"
     ]
    },
    {
     "name": "stderr",
     "output_type": "stream",
     "text": [
      "2019-12-01 18:28:44 LAPTOP-SDM3TI61 minerl.env.malmo.instance.42cbc8[24072] DEBUG [18:28:44] [Netty Server IO #1/INFO]: [STDOUT]: Equip message recieved\n"
     ]
    },
    {
     "name": "stdout",
     "output_type": "stream",
     "text": [
      "DEBUG:minerl.env.malmo.instance.42cbc8:[18:28:44] [Netty Server IO #1/INFO]: [STDOUT]: got harbar 0\r\n"
     ]
    },
    {
     "name": "stderr",
     "output_type": "stream",
     "text": [
      "2019-12-01 18:28:44 LAPTOP-SDM3TI61 minerl.env.malmo.instance.42cbc8[24072]"
     ]
    },
    {
     "name": "stdout",
     "output_type": "stream",
     "text": [
      "4.8"
     ]
    },
    {
     "name": "stderr",
     "output_type": "stream",
     "text": [
      " "
     ]
    },
    {
     "name": "stdout",
     "output_type": "stream",
     "text": [
      "\n"
     ]
    },
    {
     "name": "stderr",
     "output_type": "stream",
     "text": [
      "DEBUG [18:28:44] [Netty Server IO #1/INFO]: [STDOUT]: got harbar 0\n"
     ]
    },
    {
     "name": "stdout",
     "output_type": "stream",
     "text": [
      "step = DEBUG:minerl.env.malmo.instance.42cbc8:[18:28:44] [Netty Server IO #1/INFO]: [STDOUT]: got slot 0\n",
      " "
     ]
    },
    {
     "name": "stderr",
     "output_type": "stream",
     "text": [
      "2019-12-01 18:28:44 "
     ]
    },
    {
     "name": "stdout",
     "output_type": "stream",
     "text": [
      "238"
     ]
    },
    {
     "name": "stderr",
     "output_type": "stream",
     "text": [
      "LAPTOP-SDM3TI61"
     ]
    },
    {
     "name": "stdout",
     "output_type": "stream",
     "text": [
      "\n"
     ]
    },
    {
     "name": "stderr",
     "output_type": "stream",
     "text": [
      " minerl.env.malmo.instance.42cbc8[24072] DEBUG [18:28:44] [Netty Server IO #1/INFO]: [STDOUT]: got slot 0\n"
     ]
    },
    {
     "name": "stdout",
     "output_type": "stream",
     "text": [
      "DEBUG:minerl.env.malmo.instance.42cbc8:[18:28:44] [Netty Server IO #1/INFO]: [STDOUT]: Equip message recieved\r\n"
     ]
    },
    {
     "name": "stderr",
     "output_type": "stream",
     "text": [
      "2019-12-01 18:28:44 LAPTOP-SDM3TI61 minerl.env.malmo.instance.42cbc8[24072] DEBUG [18:28:44] [Netty Server IO #1/INFO]: [STDOUT]: Equip message recieved\r"
     ]
    },
    {
     "name": "stdout",
     "output_type": "stream",
     "text": [
      "4.8"
     ]
    },
    {
     "name": "stderr",
     "output_type": "stream",
     "text": [
      "\n"
     ]
    },
    {
     "name": "stdout",
     "output_type": "stream",
     "text": [
      "\n",
      "DEBUG:minerl.env.malmo.instance.42cbc8:[18:28:44] [Netty Server IO #1/INFO]: [STDOUT]: got harbar 0\n"
     ]
    },
    {
     "name": "stderr",
     "output_type": "stream",
     "text": [
      "2019-12-01 18:28:44 "
     ]
    },
    {
     "name": "stdout",
     "output_type": "stream",
     "text": [
      "step = "
     ]
    },
    {
     "name": "stderr",
     "output_type": "stream",
     "text": [
      "LAPTOP-SDM3TI61"
     ]
    },
    {
     "name": "stdout",
     "output_type": "stream",
     "text": [
      " "
     ]
    },
    {
     "name": "stderr",
     "output_type": "stream",
     "text": [
      " "
     ]
    },
    {
     "name": "stdout",
     "output_type": "stream",
     "text": [
      "239"
     ]
    },
    {
     "name": "stderr",
     "output_type": "stream",
     "text": [
      "minerl.env.malmo.instance.42cbc8[24072]"
     ]
    },
    {
     "name": "stdout",
     "output_type": "stream",
     "text": [
      "\n"
     ]
    },
    {
     "name": "stderr",
     "output_type": "stream",
     "text": [
      " DEBUG [18:28:44] [Netty Server IO #1/INFO]: [STDOUT]: got harbar 0\n"
     ]
    },
    {
     "name": "stdout",
     "output_type": "stream",
     "text": [
      "DEBUG:minerl.env.malmo.instance.42cbc8:[18:28:44] [Netty Server IO #1/INFO]: [STDOUT]: got slot 0\r\n"
     ]
    },
    {
     "name": "stderr",
     "output_type": "stream",
     "text": [
      "2019-12-01 18:28:44 LAPTOP-SDM3TI61 minerl.env.malmo.instance.42cbc8[24072] DEBUG [18:28:44] [Netty Server IO #1/INFO]: [STDOUT]: got slot 0\n"
     ]
    },
    {
     "name": "stdout",
     "output_type": "stream",
     "text": [
      "DEBUG:minerl.env.malmo.instance.42cbc8:[18:28:44] [Netty Server IO #1/INFO]: [STDOUT]: Equip message recieved\r\n"
     ]
    },
    {
     "name": "stderr",
     "output_type": "stream",
     "text": [
      "2019-12-01 18:28:44 LAPTOP-SDM3TI61 minerl.env.malmo.instance.42cbc8[24072] DEBUG [18:28:44] [Netty Server IO #1/INFO]: [STDOUT]: Equip message recieved\n"
     ]
    },
    {
     "name": "stdout",
     "output_type": "stream",
     "text": [
      "DEBUG:minerl.env.malmo.instance.42cbc8:[18:28:44] [Netty Server IO #1/INFO]: [STDOUT]: got harbar 0\r\n"
     ]
    },
    {
     "name": "stderr",
     "output_type": "stream",
     "text": [
      "2019-12-01 18:28:44 LAPTOP-SDM3TI61 minerl.env.malmo.instance.42cbc8[24072] "
     ]
    },
    {
     "name": "stdout",
     "output_type": "stream",
     "text": [
      "4.8\n"
     ]
    },
    {
     "name": "stderr",
     "output_type": "stream",
     "text": [
      "DEBUG [18:28:44] [Netty Server IO #1/INFO]: [STDOUT]: got harbar 0\n"
     ]
    },
    {
     "name": "stdout",
     "output_type": "stream",
     "text": [
      "step =  DEBUG:minerl.env.malmo.instance.42cbc8:[18:28:44] [Netty Server IO #1/INFO]: [STDOUT]: got slot 0\n",
      "240"
     ]
    },
    {
     "name": "stderr",
     "output_type": "stream",
     "text": [
      "2019-12-01 18:28:44"
     ]
    },
    {
     "name": "stdout",
     "output_type": "stream",
     "text": [
      "\n"
     ]
    },
    {
     "name": "stderr",
     "output_type": "stream",
     "text": [
      " LAPTOP-SDM3TI61 minerl.env.malmo.instance.42cbc8[24072] DEBUG [18:28:44] [Netty Server IO #1/INFO]: [STDOUT]: got slot 0\n"
     ]
    },
    {
     "name": "stdout",
     "output_type": "stream",
     "text": [
      "DEBUG:minerl.env.malmo.instance.42cbc8:[18:28:44] [Netty Server IO #1/INFO]: [STDOUT]: Equip message recieved\r\n"
     ]
    },
    {
     "name": "stderr",
     "output_type": "stream",
     "text": [
      "2019-12-01 18:28:44 LAPTOP-SDM3TI61 minerl.env.malmo.instance.42cbc8[24072] DEBUG [18:28:44] [Netty Server IO #1/INFO]: [STDOUT]: Equip message recieved\n"
     ]
    },
    {
     "name": "stdout",
     "output_type": "stream",
     "text": [
      "DEBUG:minerl.env.malmo.instance.42cbc8:[18:28:44] [Netty Server IO #1/INFO]: [STDOUT]: got harbar 0\r\n"
     ]
    },
    {
     "name": "stderr",
     "output_type": "stream",
     "text": [
      "2019-12-01 18:28:44"
     ]
    },
    {
     "name": "stdout",
     "output_type": "stream",
     "text": [
      "4.8"
     ]
    },
    {
     "name": "stderr",
     "output_type": "stream",
     "text": [
      " "
     ]
    },
    {
     "name": "stdout",
     "output_type": "stream",
     "text": [
      "\n"
     ]
    },
    {
     "name": "stderr",
     "output_type": "stream",
     "text": [
      "LAPTOP-SDM3TI61"
     ]
    },
    {
     "name": "stdout",
     "output_type": "stream",
     "text": [
      "step = "
     ]
    },
    {
     "name": "stderr",
     "output_type": "stream",
     "text": [
      " "
     ]
    },
    {
     "name": "stdout",
     "output_type": "stream",
     "text": [
      " "
     ]
    },
    {
     "name": "stderr",
     "output_type": "stream",
     "text": [
      "minerl.env.malmo.instance.42cbc8[24072]"
     ]
    },
    {
     "name": "stdout",
     "output_type": "stream",
     "text": [
      "241"
     ]
    },
    {
     "name": "stderr",
     "output_type": "stream",
     "text": [
      " "
     ]
    },
    {
     "name": "stdout",
     "output_type": "stream",
     "text": [
      "\n"
     ]
    },
    {
     "name": "stderr",
     "output_type": "stream",
     "text": [
      "DEBUG [18:28:44] [Netty Server IO #1/INFO]: [STDOUT]: got harbar 0\n"
     ]
    },
    {
     "name": "stdout",
     "output_type": "stream",
     "text": [
      "DEBUG:minerl.env.malmo.instance.42cbc8:[18:28:44] [Netty Server IO #1/INFO]: [STDOUT]: got slot 0\r\n"
     ]
    },
    {
     "name": "stderr",
     "output_type": "stream",
     "text": [
      "2019-12-01 18:28:44 LAPTOP-SDM3TI61 minerl.env.malmo.instance.42cbc8[24072] DEBUG [18:28:44] [Netty Server IO #1/INFO]: [STDOUT]: got slot 0\n"
     ]
    },
    {
     "name": "stdout",
     "output_type": "stream",
     "text": [
      "4.8\n",
      "step =  242\n",
      "4.8\n",
      "step =  243\n",
      "4.8\n",
      "step =  244\n",
      "4.8\n",
      "step =  245\n",
      "DEBUG:minerl.env.malmo.instance.42cbc8:[18:28:44] [Netty Server IO #1/INFO]: [STDOUT]: Equip message recieved\n"
     ]
    },
    {
     "name": "stderr",
     "output_type": "stream",
     "text": [
      "2019-12-01 18:28:44 LAPTOP-SDM3TI61 minerl.env.malmo.instance.42cbc8[24072] DEBUG [18:28:44] [Netty Server IO #1/INFO]: [STDOUT]: Equip message recieved\n"
     ]
    },
    {
     "name": "stdout",
     "output_type": "stream",
     "text": [
      "DEBUG:minerl.env.malmo.instance.42cbc8:[18:28:44] [Netty Server IO #1/INFO]: [STDOUT]: got harbar 0\r\n"
     ]
    },
    {
     "name": "stderr",
     "output_type": "stream",
     "text": [
      "2019-12-01 18:28:44 LAPTOP-SDM3TI61 minerl.env.malmo.instance.42cbc8[24072] DEBUG"
     ]
    },
    {
     "name": "stdout",
     "output_type": "stream",
     "text": [
      "4.8"
     ]
    },
    {
     "name": "stderr",
     "output_type": "stream",
     "text": [
      " "
     ]
    },
    {
     "name": "stdout",
     "output_type": "stream",
     "text": [
      "\n"
     ]
    },
    {
     "name": "stderr",
     "output_type": "stream",
     "text": [
      "[18:28:44] [Netty Server IO #1/INFO]: [STDOUT]: got harbar 0\n"
     ]
    },
    {
     "name": "stdout",
     "output_type": "stream",
     "text": [
      "DEBUG:minerl.env.malmo.instance.42cbc8:[18:28:44] [Netty Server IO #1/INFO]: [STDOUT]: got slot 0\r\n"
     ]
    },
    {
     "name": "stderr",
     "output_type": "stream",
     "text": [
      "2019-12-01 18:28:44"
     ]
    },
    {
     "name": "stdout",
     "output_type": "stream",
     "text": [
      "step = "
     ]
    },
    {
     "name": "stderr",
     "output_type": "stream",
     "text": [
      " "
     ]
    },
    {
     "name": "stdout",
     "output_type": "stream",
     "text": [
      " "
     ]
    },
    {
     "name": "stderr",
     "output_type": "stream",
     "text": [
      "LAPTOP-SDM3TI61"
     ]
    },
    {
     "name": "stdout",
     "output_type": "stream",
     "text": [
      "246"
     ]
    },
    {
     "name": "stderr",
     "output_type": "stream",
     "text": [
      " "
     ]
    },
    {
     "name": "stdout",
     "output_type": "stream",
     "text": [
      "\n"
     ]
    },
    {
     "name": "stderr",
     "output_type": "stream",
     "text": [
      "minerl.env.malmo.instance.42cbc8[24072] DEBUG [18:28:44] [Netty Server IO #1/INFO]: [STDOUT]: got slot 0\n"
     ]
    },
    {
     "name": "stdout",
     "output_type": "stream",
     "text": [
      "5.0\n",
      "step =  247\n",
      "5.0\n",
      "step =  248\n",
      "5.0DEBUG:minerl.env.malmo.instance.42cbc8:[18:28:44] [Client thread/INFO]: [CHAT] §l887...\n"
     ]
    },
    {
     "name": "stderr",
     "output_type": "stream",
     "text": [
      "2019-12-01 18:28:44"
     ]
    },
    {
     "name": "stdout",
     "output_type": "stream",
     "text": [
      "\n"
     ]
    },
    {
     "name": "stderr",
     "output_type": "stream",
     "text": [
      " LAPTOP-SDM3TI61 minerl.env.malmo.instance.42cbc8[24072] "
     ]
    },
    {
     "name": "stdout",
     "output_type": "stream",
     "text": [
      "step = "
     ]
    },
    {
     "name": "stderr",
     "output_type": "stream",
     "text": [
      "DEBUG"
     ]
    },
    {
     "name": "stdout",
     "output_type": "stream",
     "text": [
      " "
     ]
    },
    {
     "name": "stderr",
     "output_type": "stream",
     "text": [
      " "
     ]
    },
    {
     "name": "stdout",
     "output_type": "stream",
     "text": [
      "249"
     ]
    },
    {
     "name": "stderr",
     "output_type": "stream",
     "text": [
      "[18:28:44] [Client thread/INFO]: [CHAT] §l887...\r"
     ]
    },
    {
     "name": "stdout",
     "output_type": "stream",
     "text": [
      "\n"
     ]
    },
    {
     "name": "stderr",
     "output_type": "stream",
     "text": [
      "\n"
     ]
    },
    {
     "name": "stdout",
     "output_type": "stream",
     "text": [
      "DEBUG:minerl.env.malmo.instance.42cbc8:[18:28:44] [Netty Server IO #1/INFO]: [STDOUT]: Equip message recieved\r\n"
     ]
    },
    {
     "name": "stderr",
     "output_type": "stream",
     "text": [
      "2019-12-01 18:28:44 LAPTOP-SDM3TI61 minerl.env.malmo.instance.42cbc8[24072] DEBUG [18:28:44] [Netty Server IO #1/INFO]: [STDOUT]: Equip message recieved\r"
     ]
    },
    {
     "name": "stdout",
     "output_type": "stream",
     "text": [
      "5.2"
     ]
    },
    {
     "name": "stderr",
     "output_type": "stream",
     "text": [
      "\n"
     ]
    },
    {
     "name": "stdout",
     "output_type": "stream",
     "text": [
      "\n",
      "DEBUG:minerl.env.malmo.instance.42cbc8:[18:28:44] [Netty Server IO #1/INFO]: [STDOUT]: got harbar 0\n"
     ]
    },
    {
     "name": "stderr",
     "output_type": "stream",
     "text": [
      "2019-12-01 18:28:44 "
     ]
    },
    {
     "name": "stdout",
     "output_type": "stream",
     "text": [
      "step = "
     ]
    },
    {
     "name": "stderr",
     "output_type": "stream",
     "text": [
      "LAPTOP-SDM3TI61"
     ]
    },
    {
     "name": "stdout",
     "output_type": "stream",
     "text": [
      " "
     ]
    },
    {
     "name": "stderr",
     "output_type": "stream",
     "text": [
      " "
     ]
    },
    {
     "name": "stdout",
     "output_type": "stream",
     "text": [
      "250"
     ]
    },
    {
     "name": "stderr",
     "output_type": "stream",
     "text": [
      "minerl.env.malmo.instance.42cbc8[24072]"
     ]
    },
    {
     "name": "stdout",
     "output_type": "stream",
     "text": [
      "\n"
     ]
    },
    {
     "name": "stderr",
     "output_type": "stream",
     "text": [
      " DEBUG [18:28:44] [Netty Server IO #1/INFO]: [STDOUT]: got harbar 0\n"
     ]
    },
    {
     "name": "stdout",
     "output_type": "stream",
     "text": [
      "DEBUG:minerl.env.malmo.instance.42cbc8:[18:28:44] [Netty Server IO #1/INFO]: [STDOUT]: got slot 0\r\n"
     ]
    },
    {
     "name": "stderr",
     "output_type": "stream",
     "text": [
      "2019-12-01 18:28:44 LAPTOP-SDM3TI61 minerl.env.malmo.instance.42cbc8[24072] DEBUG [18:28:44] [Netty Server IO #1/INFO]: [STDOUT]: got slot 0\n"
     ]
    },
    {
     "name": "stdout",
     "output_type": "stream",
     "text": [
      "5.5\n",
      "DEBUG:minerl.env.malmo.instance.42cbc8:[18:28:44] [Netty Server IO #1/INFO]: [STDOUT]: Equip message recieved\n"
     ]
    },
    {
     "name": "stderr",
     "output_type": "stream",
     "text": [
      "2019-12-01 18:28:44 LAPTOP-SDM3TI61"
     ]
    },
    {
     "name": "stdout",
     "output_type": "stream",
     "text": [
      "step = "
     ]
    },
    {
     "name": "stderr",
     "output_type": "stream",
     "text": [
      " "
     ]
    },
    {
     "name": "stdout",
     "output_type": "stream",
     "text": [
      " "
     ]
    },
    {
     "name": "stderr",
     "output_type": "stream",
     "text": [
      "minerl.env.malmo.instance.42cbc8[24072]"
     ]
    },
    {
     "name": "stdout",
     "output_type": "stream",
     "text": [
      "251"
     ]
    },
    {
     "name": "stderr",
     "output_type": "stream",
     "text": [
      " "
     ]
    },
    {
     "name": "stdout",
     "output_type": "stream",
     "text": [
      "\n"
     ]
    },
    {
     "name": "stderr",
     "output_type": "stream",
     "text": [
      "DEBUG [18:28:44] [Netty Server IO #1/INFO]: [STDOUT]: Equip message recieved\n"
     ]
    },
    {
     "name": "stdout",
     "output_type": "stream",
     "text": [
      "DEBUG:minerl.env.malmo.instance.42cbc8:[18:28:44] [Netty Server IO #1/INFO]: [STDOUT]: got harbar 0\r\n"
     ]
    },
    {
     "name": "stderr",
     "output_type": "stream",
     "text": [
      "2019-12-01 18:28:44 LAPTOP-SDM3TI61 minerl.env.malmo.instance.42cbc8[24072] DEBUG [18:28:44] [Netty Server IO #1/INFO]: [STDOUT]: got harbar 0\n"
     ]
    },
    {
     "name": "stdout",
     "output_type": "stream",
     "text": [
      "DEBUG:minerl.env.malmo.instance.42cbc8:[18:28:44] [Netty Server IO #1/INFO]: [STDOUT]: got slot 0\r\n"
     ]
    },
    {
     "name": "stderr",
     "output_type": "stream",
     "text": [
      "2019-12-01 18:28:44 LAPTOP-SDM3TI61 minerl.env.malmo.instance.42cbc8[24072] "
     ]
    },
    {
     "name": "stdout",
     "output_type": "stream",
     "text": [
      "5.5"
     ]
    },
    {
     "name": "stderr",
     "output_type": "stream",
     "text": [
      "DEBUG"
     ]
    },
    {
     "name": "stdout",
     "output_type": "stream",
     "text": [
      "\n"
     ]
    },
    {
     "name": "stderr",
     "output_type": "stream",
     "text": [
      " [18:28:44] [Netty Server IO #1/INFO]: [STDOUT]: got slot 0\n"
     ]
    },
    {
     "name": "stdout",
     "output_type": "stream",
     "text": [
      "DEBUG:minerl.env.malmo.instance.42cbc8:[18:28:44] [Netty Server IO #1/INFO]: [STDOUT]: Equip message recieved\n",
      "step = "
     ]
    },
    {
     "name": "stderr",
     "output_type": "stream",
     "text": [
      "2019-12-01 18:28:44"
     ]
    },
    {
     "name": "stdout",
     "output_type": "stream",
     "text": [
      " "
     ]
    },
    {
     "name": "stderr",
     "output_type": "stream",
     "text": [
      " "
     ]
    },
    {
     "name": "stdout",
     "output_type": "stream",
     "text": [
      "252"
     ]
    },
    {
     "name": "stderr",
     "output_type": "stream",
     "text": [
      "LAPTOP-SDM3TI61"
     ]
    },
    {
     "name": "stdout",
     "output_type": "stream",
     "text": [
      "\n"
     ]
    },
    {
     "name": "stderr",
     "output_type": "stream",
     "text": [
      " minerl.env.malmo.instance.42cbc8[24072] DEBUG [18:28:44] [Netty Server IO #1/INFO]: [STDOUT]: Equip message recieved\n"
     ]
    },
    {
     "name": "stdout",
     "output_type": "stream",
     "text": [
      "DEBUG:minerl.env.malmo.instance.42cbc8:[18:28:44] [Netty Server IO #1/INFO]: [STDOUT]: got harbar 0\r\n"
     ]
    },
    {
     "name": "stderr",
     "output_type": "stream",
     "text": [
      "2019-12-01 18:28:44 LAPTOP-SDM3TI61 minerl.env.malmo.instance.42cbc8[24072] DEBUG [18:28:44] [Netty Server IO #1/INFO]: [STDOUT]: got harbar 0\n"
     ]
    },
    {
     "name": "stdout",
     "output_type": "stream",
     "text": [
      "DEBUG:minerl.env.malmo.instance.42cbc8:[18:28:44] [Netty Server IO #1/INFO]: [STDOUT]: got slot 0\r\n"
     ]
    },
    {
     "name": "stderr",
     "output_type": "stream",
     "text": [
      "2019-12-01 18:28:44 LAPTOP-SDM3TI61 minerl.env.malmo.instance.42cbc8[24072] DEBUG [18:28:44] [Netty Server IO #1/INFO]: [STDOUT]: got slot 0\n"
     ]
    },
    {
     "name": "stdout",
     "output_type": "stream",
     "text": [
      "5.5\n",
      "step =  253\n",
      "DEBUG:minerl.env.malmo.instance.42cbc8:[18:28:44] [Netty Server IO #1/INFO]: [STDOUT]: Equip message recieved\n"
     ]
    },
    {
     "name": "stderr",
     "output_type": "stream",
     "text": [
      "2019-12-01 18:28:44 LAPTOP-SDM3TI61 minerl.env.malmo.instance.42cbc8[24072] DEBUG [18:28:44] [Netty Server IO #1/INFO]: [STDOUT]: Equip message recieved\n"
     ]
    },
    {
     "name": "stdout",
     "output_type": "stream",
     "text": [
      "DEBUG:minerl.env.malmo.instance.42cbc8:[18:28:44] [Netty Server IO #1/INFO]: [STDOUT]: got harbar 0\r\n"
     ]
    },
    {
     "name": "stderr",
     "output_type": "stream",
     "text": [
      "2019-12-01 18:28:44 LAPTOP-SDM3TI61 minerl.env.malmo.instance.42cbc8[24072] "
     ]
    },
    {
     "name": "stdout",
     "output_type": "stream",
     "text": [
      "5.5\n"
     ]
    },
    {
     "name": "stderr",
     "output_type": "stream",
     "text": [
      "DEBUG [18:28:44] [Netty Server IO #1/INFO]: [STDOUT]: got harbar 0\r"
     ]
    },
    {
     "name": "stdout",
     "output_type": "stream",
     "text": [
      "step = "
     ]
    },
    {
     "name": "stderr",
     "output_type": "stream",
     "text": [
      "\n"
     ]
    },
    {
     "name": "stdout",
     "output_type": "stream",
     "text": [
      " 254DEBUG:minerl.env.malmo.instance.42cbc8:[18:28:44] [Netty Server IO #1/INFO]: [STDOUT]: got slot 0\n",
      "\n"
     ]
    },
    {
     "name": "stderr",
     "output_type": "stream",
     "text": [
      "2019-12-01 18:28:45 LAPTOP-SDM3TI61 minerl.env.malmo.instance.42cbc8[24072] DEBUG [18:28:44] [Netty Server IO #1/INFO]: [STDOUT]: got slot 0\n"
     ]
    },
    {
     "name": "stdout",
     "output_type": "stream",
     "text": [
      "DEBUG:minerl.env.malmo.instance.42cbc8:[18:28:45] [Netty Server IO #1/INFO]: [STDOUT]: Equip message recieved\r\n"
     ]
    },
    {
     "name": "stderr",
     "output_type": "stream",
     "text": [
      "2019-12-01 18:28:45 LAPTOP-SDM3TI61 minerl.env.malmo.instance.42cbc8[24072] DEBUG [18:28:45] [Netty Server IO #1/INFO]: [STDOUT]: Equip message recieved\n"
     ]
    },
    {
     "name": "stdout",
     "output_type": "stream",
     "text": [
      "DEBUG:minerl.env.malmo.instance.42cbc8:[18:28:45] [Netty Server IO #1/INFO]: [STDOUT]: got harbar 0\r\n"
     ]
    },
    {
     "name": "stderr",
     "output_type": "stream",
     "text": [
      "2019-12-01 18:28:45 LAPTOP-SDM3TI61 minerl.env.malmo.instance.42cbc8[24072] DEBUG [18:28:45] [Netty Server IO #1/INFO]: [STDOUT]: got harbar 0\n"
     ]
    },
    {
     "name": "stdout",
     "output_type": "stream",
     "text": [
      "DEBUG:minerl.env.malmo.instance.42cbc8:[18:28:45] [Netty Server IO #1/INFO]: [STDOUT]: got slot 0\r\n"
     ]
    },
    {
     "name": "stderr",
     "output_type": "stream",
     "text": [
      "2019-12-01 18:28:45 LAPTOP-SDM3TI61 "
     ]
    },
    {
     "name": "stdout",
     "output_type": "stream",
     "text": [
      "5.5"
     ]
    },
    {
     "name": "stderr",
     "output_type": "stream",
     "text": [
      "minerl.env.malmo.instance.42cbc8[24072]"
     ]
    },
    {
     "name": "stdout",
     "output_type": "stream",
     "text": [
      "\n"
     ]
    },
    {
     "name": "stderr",
     "output_type": "stream",
     "text": [
      " DEBUG [18:28:45] [Netty Server IO #1/INFO]: [STDOUT]: got slot 0\r"
     ]
    },
    {
     "name": "stdout",
     "output_type": "stream",
     "text": [
      "step = "
     ]
    },
    {
     "name": "stderr",
     "output_type": "stream",
     "text": [
      "\n"
     ]
    },
    {
     "name": "stdout",
     "output_type": "stream",
     "text": [
      " 255\n",
      "5.5\n",
      "step =  256\n",
      "DEBUG:minerl.env.malmo.instance.42cbc8:[18:28:45] [Netty Server IO #1/INFO]: [STDOUT]: Equip message recieved\n"
     ]
    },
    {
     "name": "stderr",
     "output_type": "stream",
     "text": [
      "2019-12-01 18:28:45 LAPTOP-SDM3TI61 minerl.env.malmo.instance.42cbc8[24072] DEBUG [18:28:45] [Netty Server IO #1/INFO]: [STDOUT]: Equip message recieved\n"
     ]
    },
    {
     "name": "stdout",
     "output_type": "stream",
     "text": [
      "DEBUG:minerl.env.malmo.instance.42cbc8:[18:28:45] [Netty Server IO #1/INFO]: [STDOUT]: got harbar 0\r\n"
     ]
    },
    {
     "name": "stderr",
     "output_type": "stream",
     "text": [
      "2019-12-01 18:28:45 LAPTOP-SDM3TI61 minerl.env.malmo.instance.42cbc8[24072] DEBUG [18:28:45] [Netty Server IO #1/INFO]: [STDOUT]: got harbar 0\n"
     ]
    },
    {
     "name": "stdout",
     "output_type": "stream",
     "text": [
      "DEBUG:minerl.env.malmo.instance.42cbc8:[18:28:45] [Netty Server IO #1/INFO]: [STDOUT]: got slot 0\r\n"
     ]
    },
    {
     "name": "stderr",
     "output_type": "stream",
     "text": [
      "2019-12-01 18:28:45 LAPTOP-SDM3TI61 "
     ]
    },
    {
     "name": "stdout",
     "output_type": "stream",
     "text": [
      "5.5"
     ]
    },
    {
     "name": "stderr",
     "output_type": "stream",
     "text": [
      "minerl.env.malmo.instance.42cbc8[24072]"
     ]
    },
    {
     "name": "stdout",
     "output_type": "stream",
     "text": [
      "\n"
     ]
    },
    {
     "name": "stderr",
     "output_type": "stream",
     "text": [
      " DEBUG [18:28:45] [Netty Server IO #1/INFO]: [STDOUT]: got slot 0\r"
     ]
    },
    {
     "name": "stdout",
     "output_type": "stream",
     "text": [
      "step = "
     ]
    },
    {
     "name": "stderr",
     "output_type": "stream",
     "text": [
      "\n"
     ]
    },
    {
     "name": "stdout",
     "output_type": "stream",
     "text": [
      " 257\n",
      "5.5\n",
      "step =  258\n",
      "5.6\n",
      "step =  259\n",
      "5.6\n",
      "step =  260\n",
      "5.6\n",
      "step =  261\n",
      "DEBUG:minerl.env.malmo.instance.42cbc8:[18:28:45] [Netty Server IO #1/INFO]: [STDOUT]: Equip message recieved\n"
     ]
    },
    {
     "name": "stderr",
     "output_type": "stream",
     "text": [
      "2019-12-01 18:28:45 LAPTOP-SDM3TI61 minerl.env.malmo.instance.42cbc8[24072] DEBUG [18:28:45] [Netty Server IO #1/INFO]: [STDOUT]: Equip message recieved\n"
     ]
    },
    {
     "name": "stdout",
     "output_type": "stream",
     "text": [
      "DEBUG:minerl.env.malmo.instance.42cbc8:[18:28:45] [Netty Server IO #1/INFO]: [STDOUT]: got harbar 0\r\n"
     ]
    },
    {
     "name": "stderr",
     "output_type": "stream",
     "text": [
      "2019-12-01 18:28:45 LAPTOP-SDM3TI61 minerl.env.malmo.instance.42cbc8[24072] DEBUG "
     ]
    },
    {
     "name": "stdout",
     "output_type": "stream",
     "text": [
      "5.6"
     ]
    },
    {
     "name": "stderr",
     "output_type": "stream",
     "text": [
      "[18:28:45] [Netty Server IO #1/INFO]: [STDOUT]: got harbar 0\r"
     ]
    },
    {
     "name": "stdout",
     "output_type": "stream",
     "text": [
      "\n"
     ]
    },
    {
     "name": "stderr",
     "output_type": "stream",
     "text": [
      "\n"
     ]
    },
    {
     "name": "stdout",
     "output_type": "stream",
     "text": [
      "DEBUG:minerl.env.malmo.instance.42cbc8:[18:28:45] [Netty Server IO #1/INFO]: [STDOUT]: got slot 0\r\n"
     ]
    },
    {
     "name": "stderr",
     "output_type": "stream",
     "text": [
      "2019-12-01 18:28:45"
     ]
    },
    {
     "name": "stdout",
     "output_type": "stream",
     "text": [
      "step = "
     ]
    },
    {
     "name": "stderr",
     "output_type": "stream",
     "text": [
      " "
     ]
    },
    {
     "name": "stdout",
     "output_type": "stream",
     "text": [
      " "
     ]
    },
    {
     "name": "stderr",
     "output_type": "stream",
     "text": [
      "LAPTOP-SDM3TI61"
     ]
    },
    {
     "name": "stdout",
     "output_type": "stream",
     "text": [
      "262"
     ]
    },
    {
     "name": "stderr",
     "output_type": "stream",
     "text": [
      " "
     ]
    },
    {
     "name": "stdout",
     "output_type": "stream",
     "text": [
      "\n"
     ]
    },
    {
     "name": "stderr",
     "output_type": "stream",
     "text": [
      "minerl.env.malmo.instance.42cbc8[24072] DEBUG [18:28:45] [Netty Server IO #1/INFO]: [STDOUT]: got slot 0\n"
     ]
    },
    {
     "name": "stdout",
     "output_type": "stream",
     "text": [
      "DEBUG:minerl.env.malmo.instance.42cbc8:[18:28:45] [Netty Server IO #1/INFO]: [STDOUT]: Equip message recieved\r\n"
     ]
    },
    {
     "name": "stderr",
     "output_type": "stream",
     "text": [
      "2019-12-01 18:28:45 LAPTOP-SDM3TI61 minerl.env.malmo.instance.42cbc8[24072] DEBUG [18:28:45] [Netty Server IO #1/INFO]: [STDOUT]: Equip message recieved\n"
     ]
    },
    {
     "name": "stdout",
     "output_type": "stream",
     "text": [
      "DEBUG:minerl.env.malmo.instance.42cbc8:[18:28:45] [Netty Server IO #1/INFO]: [STDOUT]: got harbar 0\r\n"
     ]
    },
    {
     "name": "stderr",
     "output_type": "stream",
     "text": [
      "2019-12-01 18:28:45"
     ]
    },
    {
     "name": "stdout",
     "output_type": "stream",
     "text": [
      "5.6"
     ]
    },
    {
     "name": "stderr",
     "output_type": "stream",
     "text": [
      " "
     ]
    },
    {
     "name": "stdout",
     "output_type": "stream",
     "text": [
      "\n"
     ]
    },
    {
     "name": "stderr",
     "output_type": "stream",
     "text": [
      "LAPTOP-SDM3TI61 minerl.env.malmo.instance.42cbc8[24072] "
     ]
    },
    {
     "name": "stdout",
     "output_type": "stream",
     "text": [
      "step = "
     ]
    },
    {
     "name": "stderr",
     "output_type": "stream",
     "text": [
      "DEBUG"
     ]
    },
    {
     "name": "stdout",
     "output_type": "stream",
     "text": [
      " "
     ]
    },
    {
     "name": "stderr",
     "output_type": "stream",
     "text": [
      " "
     ]
    },
    {
     "name": "stdout",
     "output_type": "stream",
     "text": [
      "263"
     ]
    },
    {
     "name": "stderr",
     "output_type": "stream",
     "text": [
      "[18:28:45] [Netty Server IO #1/INFO]: [STDOUT]: got harbar 0\r"
     ]
    },
    {
     "name": "stdout",
     "output_type": "stream",
     "text": [
      "\n"
     ]
    },
    {
     "name": "stderr",
     "output_type": "stream",
     "text": [
      "\n"
     ]
    },
    {
     "name": "stdout",
     "output_type": "stream",
     "text": [
      "DEBUG:minerl.env.malmo.instance.42cbc8:[18:28:45] [Netty Server IO #1/INFO]: [STDOUT]: got slot 0\r\n"
     ]
    },
    {
     "name": "stderr",
     "output_type": "stream",
     "text": [
      "2019-12-01 18:28:45 LAPTOP-SDM3TI61 minerl.env.malmo.instance.42cbc8[24072] DEBUG [18:28:45] [Netty Server IO #1/INFO]: [STDOUT]: got slot 0\n"
     ]
    },
    {
     "name": "stdout",
     "output_type": "stream",
     "text": [
      "DEBUG:minerl.env.malmo.instance.42cbc8:[18:28:45] [Netty Server IO #1/INFO]: [STDOUT]: Equip message recieved\r\n"
     ]
    },
    {
     "name": "stderr",
     "output_type": "stream",
     "text": [
      "2019-12-01 18:28:45 LAPTOP-SDM3TI61 minerl.env.malmo.instance.42cbc8[24072] DEBUG [18:28:45] [Netty Server IO #1/INFO]: [STDOUT]: Equip message recieved\n"
     ]
    },
    {
     "name": "stdout",
     "output_type": "stream",
     "text": [
      "DEBUG:minerl.env.malmo.instance.42cbc8:[18:28:45] [Netty Server IO #1/INFO]: [STDOUT]: got harbar 0\r\n"
     ]
    },
    {
     "name": "stderr",
     "output_type": "stream",
     "text": [
      "2019-12-01 18:28:45 LAPTOP-SDM3TI61 minerl.env.malmo.instance.42cbc8[24072] DEBUG "
     ]
    },
    {
     "name": "stdout",
     "output_type": "stream",
     "text": [
      "5.6"
     ]
    },
    {
     "name": "stderr",
     "output_type": "stream",
     "text": [
      "[18:28:45] [Netty Server IO #1/INFO]: [STDOUT]: got harbar 0\r"
     ]
    },
    {
     "name": "stdout",
     "output_type": "stream",
     "text": [
      "\n"
     ]
    },
    {
     "name": "stderr",
     "output_type": "stream",
     "text": [
      "\n"
     ]
    },
    {
     "name": "stdout",
     "output_type": "stream",
     "text": [
      "DEBUG:minerl.env.malmo.instance.42cbc8:[18:28:45] [Netty Server IO #1/INFO]: [STDOUT]: got slot 0\r\n"
     ]
    },
    {
     "name": "stderr",
     "output_type": "stream",
     "text": [
      "2019-12-01 18:28:45 LAPTOP-SDM3TI61"
     ]
    },
    {
     "name": "stdout",
     "output_type": "stream",
     "text": [
      "step = "
     ]
    },
    {
     "name": "stderr",
     "output_type": "stream",
     "text": [
      " "
     ]
    },
    {
     "name": "stdout",
     "output_type": "stream",
     "text": [
      " "
     ]
    },
    {
     "name": "stderr",
     "output_type": "stream",
     "text": [
      "minerl.env.malmo.instance.42cbc8[24072]"
     ]
    },
    {
     "name": "stdout",
     "output_type": "stream",
     "text": [
      "264"
     ]
    },
    {
     "name": "stderr",
     "output_type": "stream",
     "text": [
      " "
     ]
    },
    {
     "name": "stdout",
     "output_type": "stream",
     "text": [
      "\n"
     ]
    },
    {
     "name": "stderr",
     "output_type": "stream",
     "text": [
      "DEBUG [18:28:45] [Netty Server IO #1/INFO]: [STDOUT]: got slot 0\n"
     ]
    },
    {
     "name": "stdout",
     "output_type": "stream",
     "text": [
      "DEBUG:minerl.env.malmo.instance.42cbc8:[18:28:45] [Netty Server IO #1/INFO]: [STDOUT]: Equip message recieved\r\n"
     ]
    },
    {
     "name": "stderr",
     "output_type": "stream",
     "text": [
      "2019-12-01 18:28:45 LAPTOP-SDM3TI61 minerl.env.malmo.instance.42cbc8[24072] DEBUG [18:28:45] [Netty Server IO #1/INFO]: [STDOUT]: Equip message recieved\n"
     ]
    },
    {
     "name": "stdout",
     "output_type": "stream",
     "text": [
      "DEBUG:minerl.env.malmo.instance.42cbc8:[18:28:45] [Netty Server IO #1/INFO]: [STDOUT]: got harbar 0\r\n"
     ]
    },
    {
     "name": "stderr",
     "output_type": "stream",
     "text": [
      "2019-12-01 18:28:45 LAPTOP-SDM3TI61 "
     ]
    },
    {
     "name": "stdout",
     "output_type": "stream",
     "text": [
      "5.6"
     ]
    },
    {
     "name": "stderr",
     "output_type": "stream",
     "text": [
      "minerl.env.malmo.instance.42cbc8[24072]"
     ]
    },
    {
     "name": "stdout",
     "output_type": "stream",
     "text": [
      "\n"
     ]
    },
    {
     "name": "stderr",
     "output_type": "stream",
     "text": [
      " DEBUG [18:28:45] [Netty Server IO #1/INFO]: [STDOUT]: got harbar 0\r"
     ]
    },
    {
     "name": "stdout",
     "output_type": "stream",
     "text": [
      "step = "
     ]
    },
    {
     "name": "stderr",
     "output_type": "stream",
     "text": [
      "\n"
     ]
    },
    {
     "name": "stdout",
     "output_type": "stream",
     "text": [
      " 265DEBUG:minerl.env.malmo.instance.42cbc8:[18:28:45] [Netty Server IO #1/INFO]: [STDOUT]: got slot 0\n"
     ]
    },
    {
     "name": "stderr",
     "output_type": "stream",
     "text": [
      "2019-12-01 18:28:45"
     ]
    },
    {
     "name": "stdout",
     "output_type": "stream",
     "text": [
      "\n"
     ]
    },
    {
     "name": "stderr",
     "output_type": "stream",
     "text": [
      " LAPTOP-SDM3TI61 minerl.env.malmo.instance.42cbc8[24072] DEBUG [18:28:45] [Netty Server IO #1/INFO]: [STDOUT]: got slot 0\n"
     ]
    },
    {
     "name": "stdout",
     "output_type": "stream",
     "text": [
      "5.6\n",
      "step =  266\n",
      "5.6\n",
      "step =  267\n",
      "DEBUG:minerl.env.malmo.instance.42cbc8:[18:28:45] [Netty Server IO #1/INFO]: [STDOUT]: Equip message recieved\n"
     ]
    },
    {
     "name": "stderr",
     "output_type": "stream",
     "text": [
      "2019-12-01 18:28:45 LAPTOP-SDM3TI61 minerl.env.malmo.instance.42cbc8[24072] DEBUG [18:28:45] [Netty Server IO #1/INFO]: [STDOUT]: Equip message recieved\n"
     ]
    },
    {
     "name": "stdout",
     "output_type": "stream",
     "text": [
      "DEBUG:minerl.env.malmo.instance.42cbc8:[18:28:45] [Netty Server IO #1/INFO]: [STDOUT]: got harbar 0\r\n"
     ]
    },
    {
     "name": "stderr",
     "output_type": "stream",
     "text": [
      "2019-12-01 18:28:45 LAPTOP-SDM3TI61 minerl.env.malmo.instance.42cbc8[24072] "
     ]
    },
    {
     "name": "stdout",
     "output_type": "stream",
     "text": [
      "5.6"
     ]
    },
    {
     "name": "stderr",
     "output_type": "stream",
     "text": [
      "DEBUG"
     ]
    },
    {
     "name": "stdout",
     "output_type": "stream",
     "text": [
      "\n"
     ]
    },
    {
     "name": "stderr",
     "output_type": "stream",
     "text": [
      " [18:28:45] [Netty Server IO #1/INFO]: [STDOUT]: got harbar 0\n"
     ]
    },
    {
     "name": "stdout",
     "output_type": "stream",
     "text": [
      "DEBUG:minerl.env.malmo.instance.42cbc8:[18:28:45] [Netty Server IO #1/INFO]: [STDOUT]: got slot 0\n",
      "step = "
     ]
    },
    {
     "name": "stderr",
     "output_type": "stream",
     "text": [
      "2019-12-01 18:28:45"
     ]
    },
    {
     "name": "stdout",
     "output_type": "stream",
     "text": [
      " "
     ]
    },
    {
     "name": "stderr",
     "output_type": "stream",
     "text": [
      " "
     ]
    },
    {
     "name": "stdout",
     "output_type": "stream",
     "text": [
      "268"
     ]
    },
    {
     "name": "stderr",
     "output_type": "stream",
     "text": [
      "LAPTOP-SDM3TI61"
     ]
    },
    {
     "name": "stdout",
     "output_type": "stream",
     "text": [
      "\n"
     ]
    },
    {
     "name": "stderr",
     "output_type": "stream",
     "text": [
      " minerl.env.malmo.instance.42cbc8[24072] DEBUG [18:28:45] [Netty Server IO #1/INFO]: [STDOUT]: got slot 0\n"
     ]
    },
    {
     "name": "stdout",
     "output_type": "stream",
     "text": [
      "DEBUG:minerl.env.malmo.instance.42cbc8:[18:28:45] [Client thread/INFO]: [CHAT] §l886...\r",
      "5.6\n"
     ]
    },
    {
     "name": "stderr",
     "output_type": "stream",
     "text": [
      "2019-12-01 18:28:45"
     ]
    },
    {
     "name": "stdout",
     "output_type": "stream",
     "text": [
      "\n"
     ]
    },
    {
     "name": "stderr",
     "output_type": "stream",
     "text": [
      " LAPTOP-SDM3TI61 minerl.env.malmo.instance.42cbc8[24072] "
     ]
    },
    {
     "name": "stdout",
     "output_type": "stream",
     "text": [
      "step = "
     ]
    },
    {
     "name": "stderr",
     "output_type": "stream",
     "text": [
      "DEBUG"
     ]
    },
    {
     "name": "stdout",
     "output_type": "stream",
     "text": [
      " "
     ]
    },
    {
     "name": "stderr",
     "output_type": "stream",
     "text": [
      " "
     ]
    },
    {
     "name": "stdout",
     "output_type": "stream",
     "text": [
      "269"
     ]
    },
    {
     "name": "stderr",
     "output_type": "stream",
     "text": [
      "[18:28:45] [Client thread/INFO]: [CHAT] §l886...\r"
     ]
    },
    {
     "name": "stdout",
     "output_type": "stream",
     "text": [
      "\n"
     ]
    },
    {
     "name": "stderr",
     "output_type": "stream",
     "text": [
      "\n"
     ]
    },
    {
     "name": "stdout",
     "output_type": "stream",
     "text": [
      "5.6\n",
      "step =  270\n",
      "5.6\n",
      "step =  271\n",
      "5.6\n",
      "step =  272\n",
      "5.6\n",
      "step =  273\n",
      "DEBUG:minerl.env.malmo.instance.42cbc8:[18:28:45] [Netty Server IO #1/INFO]: [STDOUT]: Equip message recieved\n"
     ]
    },
    {
     "name": "stderr",
     "output_type": "stream",
     "text": [
      "2019-12-01 18:28:45 LAPTOP-SDM3TI61 minerl.env.malmo.instance.42cbc8[24072] DEBUG [18:28:45] [Netty Server IO #1/INFO]: [STDOUT]: Equip message recieved\n"
     ]
    },
    {
     "name": "stdout",
     "output_type": "stream",
     "text": [
      "DEBUG:minerl.env.malmo.instance.42cbc8:[18:28:45] [Netty Server IO #1/INFO]: [STDOUT]: got harbar 0\r\n"
     ]
    },
    {
     "name": "stderr",
     "output_type": "stream",
     "text": [
      "2019-12-01 18:28:45 LAPTOP-SDM3TI61 minerl.env.malmo.instance.42cbc8[24072]"
     ]
    },
    {
     "name": "stdout",
     "output_type": "stream",
     "text": [
      "5.6"
     ]
    },
    {
     "name": "stderr",
     "output_type": "stream",
     "text": [
      " DEBUG"
     ]
    },
    {
     "name": "stdout",
     "output_type": "stream",
     "text": [
      "\n"
     ]
    },
    {
     "name": "stderr",
     "output_type": "stream",
     "text": [
      " [18:28:45] [Netty Server IO #1/INFO]: [STDOUT]: got harbar 0\n"
     ]
    },
    {
     "name": "stdout",
     "output_type": "stream",
     "text": [
      "step = DEBUG:minerl.env.malmo.instance.42cbc8:[18:28:45] [Netty Server IO #1/INFO]: [STDOUT]: got slot 0\n",
      " "
     ]
    },
    {
     "name": "stderr",
     "output_type": "stream",
     "text": [
      "2019-12-01 18:28:45"
     ]
    },
    {
     "name": "stdout",
     "output_type": "stream",
     "text": [
      "274"
     ]
    },
    {
     "name": "stderr",
     "output_type": "stream",
     "text": [
      " "
     ]
    },
    {
     "name": "stdout",
     "output_type": "stream",
     "text": [
      "\n"
     ]
    },
    {
     "name": "stderr",
     "output_type": "stream",
     "text": [
      "LAPTOP-SDM3TI61 minerl.env.malmo.instance.42cbc8[24072] DEBUG [18:28:45] [Netty Server IO #1/INFO]: [STDOUT]: got slot 0\n"
     ]
    },
    {
     "name": "stdout",
     "output_type": "stream",
     "text": [
      "DEBUG:minerl.env.malmo.instance.42cbc8:[18:28:45] [Netty Server IO #1/INFO]: [STDOUT]: Equip message recieved\r\n"
     ]
    },
    {
     "name": "stderr",
     "output_type": "stream",
     "text": [
      "2019-12-01 18:28:45 LAPTOP-SDM3TI61 minerl.env.malmo.instance.42cbc8[24072] DEBUG [18:28:45] [Netty Server IO #1/INFO]: [STDOUT]: Equip message recieved\r"
     ]
    },
    {
     "name": "stdout",
     "output_type": "stream",
     "text": [
      "5.6"
     ]
    },
    {
     "name": "stderr",
     "output_type": "stream",
     "text": [
      "\n"
     ]
    },
    {
     "name": "stdout",
     "output_type": "stream",
     "text": [
      "\n",
      "DEBUG:minerl.env.malmo.instance.42cbc8:[18:28:45] [Netty Server IO #1/INFO]: [STDOUT]: got harbar 0\n"
     ]
    },
    {
     "name": "stderr",
     "output_type": "stream",
     "text": [
      "2019-12-01 18:28:45 LAPTOP-SDM3TI61"
     ]
    },
    {
     "name": "stdout",
     "output_type": "stream",
     "text": [
      "step = "
     ]
    },
    {
     "name": "stderr",
     "output_type": "stream",
     "text": [
      " "
     ]
    },
    {
     "name": "stdout",
     "output_type": "stream",
     "text": [
      " "
     ]
    },
    {
     "name": "stderr",
     "output_type": "stream",
     "text": [
      "minerl.env.malmo.instance.42cbc8[24072]"
     ]
    },
    {
     "name": "stdout",
     "output_type": "stream",
     "text": [
      "275"
     ]
    },
    {
     "name": "stderr",
     "output_type": "stream",
     "text": [
      " "
     ]
    },
    {
     "name": "stdout",
     "output_type": "stream",
     "text": [
      "\n"
     ]
    },
    {
     "name": "stderr",
     "output_type": "stream",
     "text": [
      "DEBUG [18:28:45] [Netty Server IO #1/INFO]: [STDOUT]: got harbar 0\n"
     ]
    },
    {
     "name": "stdout",
     "output_type": "stream",
     "text": [
      "DEBUG:minerl.env.malmo.instance.42cbc8:[18:28:45] [Netty Server IO #1/INFO]: [STDOUT]: got slot 0\r\n"
     ]
    },
    {
     "name": "stderr",
     "output_type": "stream",
     "text": [
      "2019-12-01 18:28:45 LAPTOP-SDM3TI61 minerl.env.malmo.instance.42cbc8[24072] DEBUG [18:28:45] [Netty Server IO #1/INFO]: [STDOUT]: got slot 0\n"
     ]
    },
    {
     "name": "stdout",
     "output_type": "stream",
     "text": [
      "DEBUG:minerl.env.malmo.instance.42cbc8:[18:28:45] [Netty Server IO #1/INFO]: [STDOUT]: Equip message recieved\r\n"
     ]
    },
    {
     "name": "stderr",
     "output_type": "stream",
     "text": [
      "2019-12-01 18:28:45"
     ]
    },
    {
     "name": "stdout",
     "output_type": "stream",
     "text": [
      "5.6"
     ]
    },
    {
     "name": "stderr",
     "output_type": "stream",
     "text": [
      " "
     ]
    },
    {
     "name": "stdout",
     "output_type": "stream",
     "text": [
      "\n"
     ]
    },
    {
     "name": "stderr",
     "output_type": "stream",
     "text": [
      "LAPTOP-SDM3TI61 minerl.env.malmo.instance.42cbc8[24072]"
     ]
    },
    {
     "name": "stdout",
     "output_type": "stream",
     "text": [
      "step = "
     ]
    },
    {
     "name": "stderr",
     "output_type": "stream",
     "text": [
      " "
     ]
    },
    {
     "name": "stdout",
     "output_type": "stream",
     "text": [
      " "
     ]
    },
    {
     "name": "stderr",
     "output_type": "stream",
     "text": [
      "DEBUG"
     ]
    },
    {
     "name": "stdout",
     "output_type": "stream",
     "text": [
      "276\n"
     ]
    },
    {
     "name": "stderr",
     "output_type": "stream",
     "text": [
      " [18:28:45] [Netty Server IO #1/INFO]: [STDOUT]: Equip message recieved\n"
     ]
    },
    {
     "name": "stdout",
     "output_type": "stream",
     "text": [
      "DEBUG:minerl.env.malmo.instance.42cbc8:[18:28:45] [Netty Server IO #1/INFO]: [STDOUT]: got harbar 0\r\n"
     ]
    },
    {
     "name": "stderr",
     "output_type": "stream",
     "text": [
      "2019-12-01 18:28:45 LAPTOP-SDM3TI61 minerl.env.malmo.instance.42cbc8[24072] DEBUG [18:28:45] [Netty Server IO #1/INFO]: [STDOUT]: got harbar 0\n"
     ]
    },
    {
     "name": "stdout",
     "output_type": "stream",
     "text": [
      "DEBUG:minerl.env.malmo.instance.42cbc8:[18:28:45] [Netty Server IO #1/INFO]: [STDOUT]: got slot 0\r\n"
     ]
    },
    {
     "name": "stderr",
     "output_type": "stream",
     "text": [
      "2019-12-01 18:28:45 "
     ]
    },
    {
     "name": "stdout",
     "output_type": "stream",
     "text": [
      "5.6"
     ]
    },
    {
     "name": "stderr",
     "output_type": "stream",
     "text": [
      "LAPTOP-SDM3TI61"
     ]
    },
    {
     "name": "stdout",
     "output_type": "stream",
     "text": [
      "\n"
     ]
    },
    {
     "name": "stderr",
     "output_type": "stream",
     "text": [
      " minerl.env.malmo.instance.42cbc8[24072] DEBUG"
     ]
    },
    {
     "name": "stdout",
     "output_type": "stream",
     "text": [
      "step = "
     ]
    },
    {
     "name": "stderr",
     "output_type": "stream",
     "text": [
      " "
     ]
    },
    {
     "name": "stdout",
     "output_type": "stream",
     "text": [
      " "
     ]
    },
    {
     "name": "stderr",
     "output_type": "stream",
     "text": [
      "[18:28:45] [Netty Server IO #1/INFO]: [STDOUT]: got slot 0\r"
     ]
    },
    {
     "name": "stdout",
     "output_type": "stream",
     "text": [
      "277"
     ]
    },
    {
     "name": "stderr",
     "output_type": "stream",
     "text": [
      "\n"
     ]
    },
    {
     "name": "stdout",
     "output_type": "stream",
     "text": [
      "\n",
      "DEBUG:minerl.env.malmo.instance.42cbc8:[18:28:45] [Netty Server IO #1/INFO]: [STDOUT]: Equip message recieved\n"
     ]
    },
    {
     "name": "stderr",
     "output_type": "stream",
     "text": [
      "2019-12-01 18:28:45 LAPTOP-SDM3TI61 minerl.env.malmo.instance.42cbc8[24072] DEBUG [18:28:45] [Netty Server IO #1/INFO]: [STDOUT]: Equip message recieved\n"
     ]
    },
    {
     "name": "stdout",
     "output_type": "stream",
     "text": [
      "DEBUG:minerl.env.malmo.instance.42cbc8:[18:28:45] [Netty Server IO #1/INFO]: [STDOUT]: got harbar 0\r\n"
     ]
    },
    {
     "name": "stderr",
     "output_type": "stream",
     "text": [
      "2019-12-01 18:28:45 LAPTOP-SDM3TI61"
     ]
    },
    {
     "name": "stdout",
     "output_type": "stream",
     "text": [
      "5.6"
     ]
    },
    {
     "name": "stderr",
     "output_type": "stream",
     "text": [
      " "
     ]
    },
    {
     "name": "stdout",
     "output_type": "stream",
     "text": [
      "\n"
     ]
    },
    {
     "name": "stderr",
     "output_type": "stream",
     "text": [
      "minerl.env.malmo.instance.42cbc8[24072] DEBUG "
     ]
    },
    {
     "name": "stdout",
     "output_type": "stream",
     "text": [
      "step = "
     ]
    },
    {
     "name": "stderr",
     "output_type": "stream",
     "text": [
      "[18:28:45] [Netty Server IO #1/INFO]: [STDOUT]: got harbar 0\r"
     ]
    },
    {
     "name": "stdout",
     "output_type": "stream",
     "text": [
      " "
     ]
    },
    {
     "name": "stderr",
     "output_type": "stream",
     "text": [
      "\n"
     ]
    },
    {
     "name": "stdout",
     "output_type": "stream",
     "text": [
      "278\n",
      "DEBUG:minerl.env.malmo.instance.42cbc8:[18:28:45] [Netty Server IO #1/INFO]: [STDOUT]: got slot 0\n"
     ]
    },
    {
     "name": "stderr",
     "output_type": "stream",
     "text": [
      "2019-12-01 18:28:45 LAPTOP-SDM3TI61 minerl.env.malmo.instance.42cbc8[24072] DEBUG [18:28:45] [Netty Server IO #1/INFO]: [STDOUT]: got slot 0\n"
     ]
    },
    {
     "name": "stdout",
     "output_type": "stream",
     "text": [
      "DEBUG:minerl.env.malmo.instance.42cbc8:[18:28:45] [Netty Server IO #1/INFO]: [STDOUT]: Equip message recieved\r\n"
     ]
    },
    {
     "name": "stderr",
     "output_type": "stream",
     "text": [
      "2019-12-01 18:28:45 LAPTOP-SDM3TI61 "
     ]
    },
    {
     "name": "stdout",
     "output_type": "stream",
     "text": [
      "5.6"
     ]
    },
    {
     "name": "stderr",
     "output_type": "stream",
     "text": [
      "minerl.env.malmo.instance.42cbc8[24072]"
     ]
    },
    {
     "name": "stdout",
     "output_type": "stream",
     "text": [
      "\n"
     ]
    },
    {
     "name": "stderr",
     "output_type": "stream",
     "text": [
      " DEBUG [18:28:45] [Netty Server IO #1/INFO]: [STDOUT]: Equip message recieved\r"
     ]
    },
    {
     "name": "stdout",
     "output_type": "stream",
     "text": [
      "step = "
     ]
    },
    {
     "name": "stderr",
     "output_type": "stream",
     "text": [
      "\n"
     ]
    },
    {
     "name": "stdout",
     "output_type": "stream",
     "text": [
      " DEBUG:minerl.env.malmo.instance.42cbc8:[18:28:45] [Netty Server IO #1/INFO]: [STDOUT]: got harbar 0\n",
      "279"
     ]
    },
    {
     "name": "stderr",
     "output_type": "stream",
     "text": [
      "2019-12-01 18:28:45"
     ]
    },
    {
     "name": "stdout",
     "output_type": "stream",
     "text": [
      "\n"
     ]
    },
    {
     "name": "stderr",
     "output_type": "stream",
     "text": [
      " LAPTOP-SDM3TI61 minerl.env.malmo.instance.42cbc8[24072] DEBUG [18:28:45] [Netty Server IO #1/INFO]: [STDOUT]: got harbar 0\n"
     ]
    },
    {
     "name": "stdout",
     "output_type": "stream",
     "text": [
      "DEBUG:minerl.env.malmo.instance.42cbc8:[18:28:45] [Netty Server IO #1/INFO]: [STDOUT]: got slot 0\r\n"
     ]
    },
    {
     "name": "stderr",
     "output_type": "stream",
     "text": [
      "2019-12-01 18:28:45 LAPTOP-SDM3TI61 minerl.env.malmo.instance.42cbc8[24072] DEBUG "
     ]
    },
    {
     "name": "stdout",
     "output_type": "stream",
     "text": [
      "5.6"
     ]
    },
    {
     "name": "stderr",
     "output_type": "stream",
     "text": [
      "[18:28:45] [Netty Server IO #1/INFO]: [STDOUT]: got slot 0\r"
     ]
    },
    {
     "name": "stdout",
     "output_type": "stream",
     "text": [
      "\n"
     ]
    },
    {
     "name": "stderr",
     "output_type": "stream",
     "text": [
      "\n"
     ]
    },
    {
     "name": "stdout",
     "output_type": "stream",
     "text": [
      "DEBUG:minerl.env.malmo.instance.42cbc8:[18:28:45] [Netty Server IO #1/INFO]: [STDOUT]: Equip message recieved\r\n"
     ]
    },
    {
     "name": "stderr",
     "output_type": "stream",
     "text": [
      "2019-12-01 18:28:45 LAPTOP-SDM3TI61"
     ]
    },
    {
     "name": "stdout",
     "output_type": "stream",
     "text": [
      "step = "
     ]
    },
    {
     "name": "stderr",
     "output_type": "stream",
     "text": [
      " "
     ]
    },
    {
     "name": "stdout",
     "output_type": "stream",
     "text": [
      " 280"
     ]
    },
    {
     "name": "stderr",
     "output_type": "stream",
     "text": [
      "minerl.env.malmo.instance.42cbc8[24072]"
     ]
    },
    {
     "name": "stdout",
     "output_type": "stream",
     "text": [
      "\n"
     ]
    },
    {
     "name": "stderr",
     "output_type": "stream",
     "text": [
      " DEBUG [18:28:45] [Netty Server IO #1/INFO]: [STDOUT]: Equip message recieved\n"
     ]
    },
    {
     "name": "stdout",
     "output_type": "stream",
     "text": [
      "DEBUG:minerl.env.malmo.instance.42cbc8:[18:28:45] [Netty Server IO #1/INFO]: [STDOUT]: got harbar 0\r\n"
     ]
    },
    {
     "name": "stderr",
     "output_type": "stream",
     "text": [
      "2019-12-01 18:28:46 LAPTOP-SDM3TI61 minerl.env.malmo.instance.42cbc8[24072] DEBUG [18:28:45] [Netty Server IO #1/INFO]: [STDOUT]: got harbar 0\n"
     ]
    },
    {
     "name": "stdout",
     "output_type": "stream",
     "text": [
      "DEBUG:minerl.env.malmo.instance.42cbc8:[18:28:45] [Netty Server IO #1/INFO]: [STDOUT]: got slot 0\r\n"
     ]
    },
    {
     "name": "stderr",
     "output_type": "stream",
     "text": [
      "2019-12-01 18:28:46 LAPTOP-SDM3TI61 minerl.env.malmo.instance.42cbc8[24072] "
     ]
    },
    {
     "name": "stdout",
     "output_type": "stream",
     "text": [
      "5.6"
     ]
    },
    {
     "name": "stderr",
     "output_type": "stream",
     "text": [
      "DEBUG"
     ]
    },
    {
     "name": "stdout",
     "output_type": "stream",
     "text": [
      "\n"
     ]
    },
    {
     "name": "stderr",
     "output_type": "stream",
     "text": [
      " [18:28:45] [Netty Server IO #1/INFO]: [STDOUT]: got slot 0\n"
     ]
    },
    {
     "name": "stdout",
     "output_type": "stream",
     "text": [
      "step = DEBUG:minerl.env.malmo.instance.42cbc8:[18:28:45] [Netty Server IO #1/INFO]: [STDOUT]: Equip message recieved\n"
     ]
    },
    {
     "name": "stderr",
     "output_type": "stream",
     "text": [
      "2019-12-01 18:28:46"
     ]
    },
    {
     "name": "stdout",
     "output_type": "stream",
     "text": [
      " "
     ]
    },
    {
     "name": "stderr",
     "output_type": "stream",
     "text": [
      " "
     ]
    },
    {
     "name": "stdout",
     "output_type": "stream",
     "text": [
      "281"
     ]
    },
    {
     "name": "stderr",
     "output_type": "stream",
     "text": [
      "LAPTOP-SDM3TI61"
     ]
    },
    {
     "name": "stdout",
     "output_type": "stream",
     "text": [
      "\n"
     ]
    },
    {
     "name": "stderr",
     "output_type": "stream",
     "text": [
      " minerl.env.malmo.instance.42cbc8[24072] DEBUG [18:28:45] [Netty Server IO #1/INFO]: [STDOUT]: Equip message recieved\n"
     ]
    },
    {
     "name": "stdout",
     "output_type": "stream",
     "text": [
      "DEBUG:minerl.env.malmo.instance.42cbc8:[18:28:45] [Netty Server IO #1/INFO]: [STDOUT]: got harbar 0\r\n"
     ]
    },
    {
     "name": "stderr",
     "output_type": "stream",
     "text": [
      "2019-12-01 18:28:46 LAPTOP-SDM3TI61 minerl.env.malmo.instance.42cbc8[24072] DEBUG"
     ]
    },
    {
     "name": "stdout",
     "output_type": "stream",
     "text": [
      "5.6"
     ]
    },
    {
     "name": "stderr",
     "output_type": "stream",
     "text": [
      " "
     ]
    },
    {
     "name": "stdout",
     "output_type": "stream",
     "text": [
      "\n"
     ]
    },
    {
     "name": "stderr",
     "output_type": "stream",
     "text": [
      "[18:28:45] [Netty Server IO #1/INFO]: [STDOUT]: got harbar 0\n"
     ]
    },
    {
     "name": "stdout",
     "output_type": "stream",
     "text": [
      "DEBUG:minerl.env.malmo.instance.42cbc8:[18:28:45] [Netty Server IO #1/INFO]: [STDOUT]: got slot 0\r\n"
     ]
    },
    {
     "name": "stderr",
     "output_type": "stream",
     "text": [
      "2019-12-01 18:28:46"
     ]
    },
    {
     "name": "stdout",
     "output_type": "stream",
     "text": [
      "step = "
     ]
    },
    {
     "name": "stderr",
     "output_type": "stream",
     "text": [
      " "
     ]
    },
    {
     "name": "stdout",
     "output_type": "stream",
     "text": [
      " "
     ]
    },
    {
     "name": "stderr",
     "output_type": "stream",
     "text": [
      "LAPTOP-SDM3TI61"
     ]
    },
    {
     "name": "stdout",
     "output_type": "stream",
     "text": [
      "282"
     ]
    },
    {
     "name": "stderr",
     "output_type": "stream",
     "text": [
      " "
     ]
    },
    {
     "name": "stdout",
     "output_type": "stream",
     "text": [
      "\n"
     ]
    },
    {
     "name": "stderr",
     "output_type": "stream",
     "text": [
      "minerl.env.malmo.instance.42cbc8[24072] DEBUG [18:28:45] [Netty Server IO #1/INFO]: [STDOUT]: got slot 0\n"
     ]
    },
    {
     "name": "stdout",
     "output_type": "stream",
     "text": [
      "DEBUG:minerl.env.malmo.instance.42cbc8:[18:28:46] [Netty Server IO #1/INFO]: [STDOUT]: Equip message recieved\r\n"
     ]
    },
    {
     "name": "stderr",
     "output_type": "stream",
     "text": [
      "2019-12-01 18:28:46 LAPTOP-SDM3TI61 minerl.env.malmo.instance.42cbc8[24072] DEBUG [18:28:46] [Netty Server IO #1/INFO]: [STDOUT]: Equip message recieved\n"
     ]
    },
    {
     "name": "stdout",
     "output_type": "stream",
     "text": [
      "5.6\n",
      "DEBUG:minerl.env.malmo.instance.42cbc8:[18:28:46] [Netty Server IO #1/INFO]: [STDOUT]: got harbar 0\n"
     ]
    },
    {
     "name": "stderr",
     "output_type": "stream",
     "text": [
      "2019-12-01 18:28:46"
     ]
    },
    {
     "name": "stdout",
     "output_type": "stream",
     "text": [
      "step = "
     ]
    },
    {
     "name": "stderr",
     "output_type": "stream",
     "text": [
      " "
     ]
    },
    {
     "name": "stdout",
     "output_type": "stream",
     "text": [
      " "
     ]
    },
    {
     "name": "stderr",
     "output_type": "stream",
     "text": [
      "LAPTOP-SDM3TI61"
     ]
    },
    {
     "name": "stdout",
     "output_type": "stream",
     "text": [
      "283"
     ]
    },
    {
     "name": "stderr",
     "output_type": "stream",
     "text": [
      " "
     ]
    },
    {
     "name": "stdout",
     "output_type": "stream",
     "text": [
      "\n"
     ]
    },
    {
     "name": "stderr",
     "output_type": "stream",
     "text": [
      "minerl.env.malmo.instance.42cbc8[24072] DEBUG [18:28:46] [Netty Server IO #1/INFO]: [STDOUT]: got harbar 0\n"
     ]
    },
    {
     "name": "stdout",
     "output_type": "stream",
     "text": [
      "DEBUG:minerl.env.malmo.instance.42cbc8:[18:28:46] [Netty Server IO #1/INFO]: [STDOUT]: got slot 0\r\n"
     ]
    },
    {
     "name": "stderr",
     "output_type": "stream",
     "text": [
      "2019-12-01 18:28:46 LAPTOP-SDM3TI61 minerl.env.malmo.instance.42cbc8[24072] DEBUG [18:28:46] [Netty Server IO #1/INFO]: [STDOUT]: got slot 0\r"
     ]
    },
    {
     "name": "stdout",
     "output_type": "stream",
     "text": [
      "5.6\n"
     ]
    },
    {
     "name": "stderr",
     "output_type": "stream",
     "text": [
      "\n"
     ]
    },
    {
     "name": "stdout",
     "output_type": "stream",
     "text": [
      "step =  284\n",
      "5.6\n",
      "step =  285\n",
      "5.8999999999999995\n",
      "step =  286\n",
      "DEBUG:minerl.env.malmo.instance.42cbc8:[18:28:46] [Netty Server IO #1/INFO]: [STDOUT]: Equip message recieved\n"
     ]
    },
    {
     "name": "stderr",
     "output_type": "stream",
     "text": [
      "2019-12-01 18:28:46 LAPTOP-SDM3TI61 minerl.env.malmo.instance.42cbc8[24072] DEBUG [18:28:46] [Netty Server IO #1/INFO]: [STDOUT]: Equip message recieved\n"
     ]
    },
    {
     "name": "stdout",
     "output_type": "stream",
     "text": [
      "DEBUG:minerl.env.malmo.instance.42cbc8:[18:28:46] [Netty Server IO #1/INFO]: [STDOUT]: got harbar 0\r\n"
     ]
    },
    {
     "name": "stderr",
     "output_type": "stream",
     "text": [
      "2019-12-01 18:28:46 LAPTOP-SDM3TI61 minerl.env.malmo.instance.42cbc8[24072] DEBUG "
     ]
    },
    {
     "name": "stdout",
     "output_type": "stream",
     "text": [
      "6.199999999999999"
     ]
    },
    {
     "name": "stderr",
     "output_type": "stream",
     "text": [
      "[18:28:46] [Netty Server IO #1/INFO]: [STDOUT]: got harbar 0\r"
     ]
    },
    {
     "name": "stdout",
     "output_type": "stream",
     "text": [
      "\n"
     ]
    },
    {
     "name": "stderr",
     "output_type": "stream",
     "text": [
      "\n"
     ]
    },
    {
     "name": "stdout",
     "output_type": "stream",
     "text": [
      "DEBUG:minerl.env.malmo.instance.42cbc8:[18:28:46] [Netty Server IO #1/INFO]: [STDOUT]: got slot 0\r\n"
     ]
    },
    {
     "name": "stderr",
     "output_type": "stream",
     "text": [
      "2019-12-01 18:28:46 LAPTOP-SDM3TI61"
     ]
    },
    {
     "name": "stdout",
     "output_type": "stream",
     "text": [
      "step = "
     ]
    },
    {
     "name": "stderr",
     "output_type": "stream",
     "text": [
      " minerl.env.malmo.instance.42cbc8[24072]"
     ]
    },
    {
     "name": "stdout",
     "output_type": "stream",
     "text": [
      " "
     ]
    },
    {
     "name": "stderr",
     "output_type": "stream",
     "text": [
      " "
     ]
    },
    {
     "name": "stdout",
     "output_type": "stream",
     "text": [
      "287"
     ]
    },
    {
     "name": "stderr",
     "output_type": "stream",
     "text": [
      "DEBUG"
     ]
    },
    {
     "name": "stdout",
     "output_type": "stream",
     "text": [
      "\n"
     ]
    },
    {
     "name": "stderr",
     "output_type": "stream",
     "text": [
      " [18:28:46] [Netty Server IO #1/INFO]: [STDOUT]: got slot 0\n"
     ]
    },
    {
     "name": "stdout",
     "output_type": "stream",
     "text": [
      "6.199999999999999\n",
      "step =  288\n",
      "DEBUG:minerl.env.malmo.instance.42cbc8:[18:28:46] [Client thread/INFO]: [CHAT] §l885...\n",
      "6.199999999999999"
     ]
    },
    {
     "name": "stderr",
     "output_type": "stream",
     "text": [
      "2019-12-01 18:28:46"
     ]
    },
    {
     "name": "stdout",
     "output_type": "stream",
     "text": [
      "\n"
     ]
    },
    {
     "name": "stderr",
     "output_type": "stream",
     "text": [
      " LAPTOP-SDM3TI61 minerl.env.malmo.instance.42cbc8[24072]"
     ]
    },
    {
     "name": "stdout",
     "output_type": "stream",
     "text": [
      "step = "
     ]
    },
    {
     "name": "stderr",
     "output_type": "stream",
     "text": [
      " "
     ]
    },
    {
     "name": "stdout",
     "output_type": "stream",
     "text": [
      " "
     ]
    },
    {
     "name": "stderr",
     "output_type": "stream",
     "text": [
      "DEBUG"
     ]
    },
    {
     "name": "stdout",
     "output_type": "stream",
     "text": [
      "289"
     ]
    },
    {
     "name": "stderr",
     "output_type": "stream",
     "text": [
      " "
     ]
    },
    {
     "name": "stdout",
     "output_type": "stream",
     "text": [
      "\n"
     ]
    },
    {
     "name": "stderr",
     "output_type": "stream",
     "text": [
      "[18:28:46] [Client thread/INFO]: [CHAT] §l885...\n"
     ]
    },
    {
     "name": "stdout",
     "output_type": "stream",
     "text": [
      "6.199999999999999\n",
      "step =  290\n",
      "DEBUG:minerl.env.malmo.instance.42cbc8:[18:28:46] [Netty Server IO #1/INFO]: [STDOUT]: Equip message recieved\n"
     ]
    },
    {
     "name": "stderr",
     "output_type": "stream",
     "text": [
      "2019-12-01 18:28:46 LAPTOP-SDM3TI61 minerl.env.malmo.instance.42cbc8[24072] DEBUG [18:28:46] [Netty Server IO #1/INFO]: [STDOUT]: Equip message recieved\n"
     ]
    },
    {
     "name": "stdout",
     "output_type": "stream",
     "text": [
      "DEBUG:minerl.env.malmo.instance.42cbc8:[18:28:46] [Netty Server IO #1/INFO]: [STDOUT]: got harbar 0\r\n"
     ]
    },
    {
     "name": "stderr",
     "output_type": "stream",
     "text": [
      "2019-12-01 18:28:46 LAPTOP-SDM3TI61 minerl.env.malmo.instance.42cbc8[24072] DEBUG"
     ]
    },
    {
     "name": "stdout",
     "output_type": "stream",
     "text": [
      "6.499999999999999"
     ]
    },
    {
     "name": "stderr",
     "output_type": "stream",
     "text": [
      " "
     ]
    },
    {
     "name": "stdout",
     "output_type": "stream",
     "text": [
      "\n"
     ]
    },
    {
     "name": "stderr",
     "output_type": "stream",
     "text": [
      "[18:28:46] [Netty Server IO #1/INFO]: [STDOUT]: got harbar 0\n"
     ]
    },
    {
     "name": "stdout",
     "output_type": "stream",
     "text": [
      "DEBUG:minerl.env.malmo.instance.42cbc8:[18:28:46] [Netty Server IO #1/INFO]: [STDOUT]: got slot 0\r\n"
     ]
    },
    {
     "name": "stderr",
     "output_type": "stream",
     "text": [
      "2019-12-01 18:28:46 "
     ]
    },
    {
     "name": "stdout",
     "output_type": "stream",
     "text": [
      "step = "
     ]
    },
    {
     "name": "stderr",
     "output_type": "stream",
     "text": [
      "LAPTOP-SDM3TI61"
     ]
    },
    {
     "name": "stdout",
     "output_type": "stream",
     "text": [
      " "
     ]
    },
    {
     "name": "stderr",
     "output_type": "stream",
     "text": [
      " "
     ]
    },
    {
     "name": "stdout",
     "output_type": "stream",
     "text": [
      "291"
     ]
    },
    {
     "name": "stderr",
     "output_type": "stream",
     "text": [
      "minerl.env.malmo.instance.42cbc8[24072]"
     ]
    },
    {
     "name": "stdout",
     "output_type": "stream",
     "text": [
      "\n"
     ]
    },
    {
     "name": "stderr",
     "output_type": "stream",
     "text": [
      " DEBUG [18:28:46] [Netty Server IO #1/INFO]: [STDOUT]: got slot 0\n"
     ]
    },
    {
     "name": "stdout",
     "output_type": "stream",
     "text": [
      "DEBUG:minerl.env.malmo.instance.42cbc8:[18:28:46] [Netty Server IO #1/INFO]: [STDOUT]: Equip message recieved\r\n"
     ]
    },
    {
     "name": "stderr",
     "output_type": "stream",
     "text": [
      "2019-12-01 18:28:46 LAPTOP-SDM3TI61 minerl.env.malmo.instance.42cbc8[24072] DEBUG [18:28:46] [Netty Server IO #1/INFO]: [STDOUT]: Equip message recieved\n"
     ]
    },
    {
     "name": "stdout",
     "output_type": "stream",
     "text": [
      "DEBUG:minerl.env.malmo.instance.42cbc8:[18:28:46] [Netty Server IO #1/INFO]: [STDOUT]: got harbar 0\r\n"
     ]
    },
    {
     "name": "stderr",
     "output_type": "stream",
     "text": [
      "2019-12-01 18:28:46 LAPTOP-SDM3TI61 "
     ]
    },
    {
     "name": "stdout",
     "output_type": "stream",
     "text": [
      "6.499999999999999"
     ]
    },
    {
     "name": "stderr",
     "output_type": "stream",
     "text": [
      "minerl.env.malmo.instance.42cbc8[24072]"
     ]
    },
    {
     "name": "stdout",
     "output_type": "stream",
     "text": [
      "\n"
     ]
    },
    {
     "name": "stderr",
     "output_type": "stream",
     "text": [
      " DEBUG [18:28:46] [Netty Server IO #1/INFO]: [STDOUT]: got harbar 0\r"
     ]
    },
    {
     "name": "stdout",
     "output_type": "stream",
     "text": [
      "step = "
     ]
    },
    {
     "name": "stderr",
     "output_type": "stream",
     "text": [
      "\n"
     ]
    },
    {
     "name": "stdout",
     "output_type": "stream",
     "text": [
      " 292DEBUG:minerl.env.malmo.instance.42cbc8:[18:28:46] [Netty Server IO #1/INFO]: [STDOUT]: got slot 0\n"
     ]
    },
    {
     "name": "stderr",
     "output_type": "stream",
     "text": [
      "2019-12-01 18:28:46"
     ]
    },
    {
     "name": "stdout",
     "output_type": "stream",
     "text": [
      "\n"
     ]
    },
    {
     "name": "stderr",
     "output_type": "stream",
     "text": [
      " LAPTOP-SDM3TI61 minerl.env.malmo.instance.42cbc8[24072] DEBUG [18:28:46] [Netty Server IO #1/INFO]: [STDOUT]: got slot 0\n"
     ]
    },
    {
     "name": "stdout",
     "output_type": "stream",
     "text": [
      "DEBUG:minerl.env.malmo.instance.42cbc8:[18:28:46] [Netty Server IO #1/INFO]: [STDOUT]: Equip message recieved\r\n"
     ]
    },
    {
     "name": "stderr",
     "output_type": "stream",
     "text": [
      "2019-12-01 18:28:46 LAPTOP-SDM3TI61 minerl.env.malmo.instance.42cbc8[24072] DEBUG "
     ]
    },
    {
     "name": "stdout",
     "output_type": "stream",
     "text": [
      "6.499999999999999"
     ]
    },
    {
     "name": "stderr",
     "output_type": "stream",
     "text": [
      "[18:28:46] [Netty Server IO #1/INFO]: [STDOUT]: Equip message recieved\r"
     ]
    },
    {
     "name": "stdout",
     "output_type": "stream",
     "text": [
      "\n"
     ]
    },
    {
     "name": "stderr",
     "output_type": "stream",
     "text": [
      "\n"
     ]
    },
    {
     "name": "stdout",
     "output_type": "stream",
     "text": [
      "DEBUG:minerl.env.malmo.instance.42cbc8:[18:28:46] [Netty Server IO #1/INFO]: [STDOUT]: got harbar 0\r\n"
     ]
    },
    {
     "name": "stderr",
     "output_type": "stream",
     "text": [
      "2019-12-01 18:28:46 "
     ]
    },
    {
     "name": "stdout",
     "output_type": "stream",
     "text": [
      "step = "
     ]
    },
    {
     "name": "stderr",
     "output_type": "stream",
     "text": [
      "LAPTOP-SDM3TI61"
     ]
    },
    {
     "name": "stdout",
     "output_type": "stream",
     "text": [
      " "
     ]
    },
    {
     "name": "stderr",
     "output_type": "stream",
     "text": [
      " "
     ]
    },
    {
     "name": "stdout",
     "output_type": "stream",
     "text": [
      "293"
     ]
    },
    {
     "name": "stderr",
     "output_type": "stream",
     "text": [
      "minerl.env.malmo.instance.42cbc8[24072]"
     ]
    },
    {
     "name": "stdout",
     "output_type": "stream",
     "text": [
      "\n"
     ]
    },
    {
     "name": "stderr",
     "output_type": "stream",
     "text": [
      " DEBUG [18:28:46] [Netty Server IO #1/INFO]: [STDOUT]: got harbar 0\n"
     ]
    },
    {
     "name": "stdout",
     "output_type": "stream",
     "text": [
      "DEBUG:minerl.env.malmo.instance.42cbc8:[18:28:46] [Netty Server IO #1/INFO]: [STDOUT]: got slot 0\r\n"
     ]
    },
    {
     "name": "stderr",
     "output_type": "stream",
     "text": [
      "2019-12-01 18:28:46 LAPTOP-SDM3TI61 minerl.env.malmo.instance.42cbc8[24072] DEBUG [18:28:46] [Netty Server IO #1/INFO]: [STDOUT]: got slot 0\n"
     ]
    },
    {
     "name": "stdout",
     "output_type": "stream",
     "text": [
      "6.499999999999999\n",
      "step =  294\n",
      "DEBUG:minerl.env.malmo.instance.42cbc8:[18:28:46] [Netty Server IO #1/INFO]: [STDOUT]: Equip message recieved\n"
     ]
    },
    {
     "name": "stderr",
     "output_type": "stream",
     "text": [
      "2019-12-01 18:28:46 LAPTOP-SDM3TI61 minerl.env.malmo.instance.42cbc8[24072] DEBUG [18:28:46] [Netty Server IO #1/INFO]: [STDOUT]: Equip message recieved\n"
     ]
    },
    {
     "name": "stdout",
     "output_type": "stream",
     "text": [
      "DEBUG:minerl.env.malmo.instance.42cbc8:[18:28:46] [Netty Server IO #1/INFO]: [STDOUT]: got harbar 0\r\n"
     ]
    },
    {
     "name": "stderr",
     "output_type": "stream",
     "text": [
      "2019-12-01 18:28:46 LAPTOP-SDM3TI61"
     ]
    },
    {
     "name": "stdout",
     "output_type": "stream",
     "text": [
      "6.499999999999999"
     ]
    },
    {
     "name": "stderr",
     "output_type": "stream",
     "text": [
      " "
     ]
    },
    {
     "name": "stdout",
     "output_type": "stream",
     "text": [
      "\n"
     ]
    },
    {
     "name": "stderr",
     "output_type": "stream",
     "text": [
      "minerl.env.malmo.instance.42cbc8[24072] DEBUG [18:28:46] [Netty Server IO #1/INFO]: [STDOUT]: got harbar 0\n"
     ]
    },
    {
     "name": "stdout",
     "output_type": "stream",
     "text": [
      " tep = DEBUG:minerl.env.malmo.instance.42cbc8:[18:28:46] [Netty Server IO #1/INFO]: [STDOUT]: got slot 0\n",
      "295"
     ]
    },
    {
     "name": "stderr",
     "output_type": "stream",
     "text": [
      "2019-12-01 18:28:46"
     ]
    },
    {
     "name": "stdout",
     "output_type": "stream",
     "text": [
      "\n"
     ]
    },
    {
     "name": "stderr",
     "output_type": "stream",
     "text": [
      " LAPTOP-SDM3TI61 minerl.env.malmo.instance.42cbc8[24072] DEBUG [18:28:46] [Netty Server IO #1/INFO]: [STDOUT]: got slot 0\n"
     ]
    },
    {
     "name": "stdout",
     "output_type": "stream",
     "text": [
      "6.499999999999999\n",
      "step =  296\n",
      "6.499999999999999\n",
      "step =  297\n",
      "DEBUG:minerl.env.malmo.instance.42cbc8:[18:28:46] [Netty Server IO #1/INFO]: [STDOUT]: Equip message recieved\n"
     ]
    },
    {
     "name": "stderr",
     "output_type": "stream",
     "text": [
      "2019-12-01 18:28:46 LAPTOP-SDM3TI61 minerl.env.malmo.instance.42cbc8[24072] DEBUG [18:28:46] [Netty Server IO #1/INFO]: [STDOUT]: Equip message recieved\n"
     ]
    },
    {
     "name": "stdout",
     "output_type": "stream",
     "text": [
      "DEBUG:minerl.env.malmo.instance.42cbc8:[18:28:46] [Netty Server IO #1/INFO]: [STDOUT]: got harbar 0\r\n"
     ]
    },
    {
     "name": "stderr",
     "output_type": "stream",
     "text": [
      "2019-12-01 18:28:46 LAPTOP-SDM3TI61 minerl.env.malmo.instance.42cbc8[24072] "
     ]
    },
    {
     "name": "stdout",
     "output_type": "stream",
     "text": [
      "6.499999999999999"
     ]
    },
    {
     "name": "stderr",
     "output_type": "stream",
     "text": [
      "DEBUG"
     ]
    },
    {
     "name": "stdout",
     "output_type": "stream",
     "text": [
      "\n"
     ]
    },
    {
     "name": "stderr",
     "output_type": "stream",
     "text": [
      " [18:28:46] [Netty Server IO #1/INFO]: [STDOUT]: got harbar 0\n"
     ]
    },
    {
     "name": "stdout",
     "output_type": "stream",
     "text": [
      "DEBUG:minerl.env.malmo.instance.42cbc8:[18:28:46] [Netty Server IO #1/INFO]: [STDOUT]: got slot 0\n",
      "step = "
     ]
    },
    {
     "name": "stderr",
     "output_type": "stream",
     "text": [
      "2019-12-01 18:28:46"
     ]
    },
    {
     "name": "stdout",
     "output_type": "stream",
     "text": [
      " "
     ]
    },
    {
     "name": "stderr",
     "output_type": "stream",
     "text": [
      " "
     ]
    },
    {
     "name": "stdout",
     "output_type": "stream",
     "text": [
      "298"
     ]
    },
    {
     "name": "stderr",
     "output_type": "stream",
     "text": [
      "LAPTOP-SDM3TI61"
     ]
    },
    {
     "name": "stdout",
     "output_type": "stream",
     "text": [
      "\n"
     ]
    },
    {
     "name": "stderr",
     "output_type": "stream",
     "text": [
      " minerl.env.malmo.instance.42cbc8[24072] DEBUG [18:28:46] [Netty Server IO #1/INFO]: [STDOUT]: got slot 0\n"
     ]
    },
    {
     "name": "stdout",
     "output_type": "stream",
     "text": [
      "DEBUG:minerl.env.malmo.instance.42cbc8:[18:28:46] [Netty Server IO #1/INFO]: [STDOUT]: Equip message recieved\r\n"
     ]
    },
    {
     "name": "stderr",
     "output_type": "stream",
     "text": [
      "2019-12-01 18:28:46 LAPTOP-SDM3TI61 minerl.env.malmo.instance.42cbc8[24072] DEBUG [18:28:46] [Netty Server IO #1/INFO]: [STDOUT]: Equip message recieved\r"
     ]
    },
    {
     "name": "stdout",
     "output_type": "stream",
     "text": [
      "6.499999999999999"
     ]
    },
    {
     "name": "stderr",
     "output_type": "stream",
     "text": [
      "\n"
     ]
    },
    {
     "name": "stdout",
     "output_type": "stream",
     "text": [
      "\n",
      "DEBUG:minerl.env.malmo.instance.42cbc8:[18:28:46] [Netty Server IO #1/INFO]: [STDOUT]: got harbar 0\n"
     ]
    },
    {
     "name": "stderr",
     "output_type": "stream",
     "text": [
      "2019-12-01 18:28:46 LAPTOP-SDM3TI61"
     ]
    },
    {
     "name": "stdout",
     "output_type": "stream",
     "text": [
      "step =  "
     ]
    },
    {
     "name": "stderr",
     "output_type": "stream",
     "text": [
      " "
     ]
    },
    {
     "name": "stdout",
     "output_type": "stream",
     "text": [
      "299"
     ]
    },
    {
     "name": "stderr",
     "output_type": "stream",
     "text": [
      "minerl.env.malmo.instance.42cbc8[24072]"
     ]
    },
    {
     "name": "stdout",
     "output_type": "stream",
     "text": [
      "\n"
     ]
    },
    {
     "name": "stderr",
     "output_type": "stream",
     "text": [
      " DEBUG [18:28:46] [Netty Server IO #1/INFO]: [STDOUT]: got harbar 0\n"
     ]
    },
    {
     "name": "stdout",
     "output_type": "stream",
     "text": [
      "DEBUG:minerl.env.malmo.instance.42cbc8:[18:28:46] [Netty Server IO #1/INFO]: [STDOUT]: got slot 0\r\n"
     ]
    },
    {
     "name": "stderr",
     "output_type": "stream",
     "text": [
      "2019-12-01 18:28:46 LAPTOP-SDM3TI61 minerl.env.malmo.instance.42cbc8[24072] DEBUG [18:28:46] [Netty Server IO #1/INFO]: [STDOUT]: got slot 0\n"
     ]
    },
    {
     "name": "stdout",
     "output_type": "stream",
     "text": [
      "DEBUG:minerl.env.malmo.instance.42cbc8:[18:28:46] [Netty Server IO #1/INFO]: [STDOUT]: Equip message recieved\r\n"
     ]
    },
    {
     "name": "stderr",
     "output_type": "stream",
     "text": [
      "2019-12-01 18:28:46 LAPTOP-SDM3TI61"
     ]
    },
    {
     "name": "stdout",
     "output_type": "stream",
     "text": [
      "6.499999999999999\n",
      "step =  300\n",
      "6.599999999999999\n",
      "step =  301\n",
      "6.599999999999999\n"
     ]
    },
    {
     "name": "stderr",
     "output_type": "stream",
     "text": [
      " minerl.env.malmo.instance.42cbc8[24072] "
     ]
    },
    {
     "name": "stdout",
     "output_type": "stream",
     "text": [
      "step = "
     ]
    },
    {
     "name": "stderr",
     "output_type": "stream",
     "text": [
      "DEBUG"
     ]
    },
    {
     "name": "stdout",
     "output_type": "stream",
     "text": [
      " "
     ]
    },
    {
     "name": "stderr",
     "output_type": "stream",
     "text": [
      " "
     ]
    },
    {
     "name": "stdout",
     "output_type": "stream",
     "text": [
      "302"
     ]
    },
    {
     "name": "stderr",
     "output_type": "stream",
     "text": [
      "[18:28:46] [Netty Server IO #1/INFO]: [STDOUT]: Equip message recieved\r"
     ]
    },
    {
     "name": "stdout",
     "output_type": "stream",
     "text": [
      "\n"
     ]
    },
    {
     "name": "stderr",
     "output_type": "stream",
     "text": [
      "\n"
     ]
    },
    {
     "name": "stdout",
     "output_type": "stream",
     "text": [
      "DEBUG:minerl.env.malmo.instance.42cbc8:[18:28:46] [Netty Server IO #1/INFO]: [STDOUT]: got harbar 0\r\n"
     ]
    },
    {
     "name": "stderr",
     "output_type": "stream",
     "text": [
      "2019-12-01 18:28:46 LAPTOP-SDM3TI61 minerl.env.malmo.instance.42cbc8[24072] DEBUG [18:28:46] [Netty Server IO #1/INFO]: [STDOUT]: got harbar 0\n"
     ]
    },
    {
     "name": "stdout",
     "output_type": "stream",
     "text": [
      "DEBUG:minerl.env.malmo.instance.42cbc8:[18:28:46] [Netty Server IO #1/INFO]: [STDOUT]: got slot 0\r\n"
     ]
    },
    {
     "name": "stderr",
     "output_type": "stream",
     "text": [
      "2019-12-01 18:28:46 LAPTOP-SDM3TI61 minerl.env.malmo.instance.42cbc8[24072] "
     ]
    },
    {
     "name": "stdout",
     "output_type": "stream",
     "text": [
      "6.599999999999999"
     ]
    },
    {
     "name": "stderr",
     "output_type": "stream",
     "text": [
      "DEBUG"
     ]
    },
    {
     "name": "stdout",
     "output_type": "stream",
     "text": [
      "\n"
     ]
    },
    {
     "name": "stderr",
     "output_type": "stream",
     "text": [
      " [18:28:46] [Netty Server IO #1/INFO]: [STDOUT]: got slot 0\n"
     ]
    },
    {
     "name": "stdout",
     "output_type": "stream",
     "text": [
      "step = DEBUG:minerl.env.malmo.instance.42cbc8:[18:28:46] [Netty Server IO #1/INFO]: [STDOUT]: Equip message recieved\n",
      " "
     ]
    },
    {
     "name": "stderr",
     "output_type": "stream",
     "text": [
      "2019-12-01 18:28:46"
     ]
    },
    {
     "name": "stdout",
     "output_type": "stream",
     "text": [
      "303"
     ]
    },
    {
     "name": "stderr",
     "output_type": "stream",
     "text": [
      " "
     ]
    },
    {
     "name": "stdout",
     "output_type": "stream",
     "text": [
      "\n"
     ]
    },
    {
     "name": "stderr",
     "output_type": "stream",
     "text": [
      "LAPTOP-SDM3TI61 minerl.env.malmo.instance.42cbc8[24072] DEBUG [18:28:46] [Netty Server IO #1/INFO]: [STDOUT]: Equip message recieved\n"
     ]
    },
    {
     "name": "stdout",
     "output_type": "stream",
     "text": [
      "DEBUG:minerl.env.malmo.instance.42cbc8:[18:28:46] [Netty Server IO #1/INFO]: [STDOUT]: got harbar 0\r\n"
     ]
    },
    {
     "name": "stderr",
     "output_type": "stream",
     "text": [
      "2019-12-01 18:28:46 LAPTOP-SDM3TI61 minerl.env.malmo.instance.42cbc8[24072] DEBUG [18:28:46] [Netty Server IO #1/INFO]: [STDOUT]: got harbar 0\n"
     ]
    },
    {
     "name": "stdout",
     "output_type": "stream",
     "text": [
      "6.599999999999999DEBUG:minerl.env.malmo.instance.42cbc8:[18:28:46] [Netty Server IO #1/INFO]: [STDOUT]: got slot 0\n",
      "\n"
     ]
    },
    {
     "name": "stderr",
     "output_type": "stream",
     "text": [
      "2019-12-01 18:28:46 LAPTOP-SDM3TI61 "
     ]
    },
    {
     "name": "stdout",
     "output_type": "stream",
     "text": [
      "step = "
     ]
    },
    {
     "name": "stderr",
     "output_type": "stream",
     "text": [
      "minerl.env.malmo.instance.42cbc8[24072]"
     ]
    },
    {
     "name": "stdout",
     "output_type": "stream",
     "text": [
      " "
     ]
    },
    {
     "name": "stderr",
     "output_type": "stream",
     "text": [
      " DEBUG"
     ]
    },
    {
     "name": "stdout",
     "output_type": "stream",
     "text": [
      "304"
     ]
    },
    {
     "name": "stderr",
     "output_type": "stream",
     "text": [
      " "
     ]
    },
    {
     "name": "stdout",
     "output_type": "stream",
     "text": [
      "\n"
     ]
    },
    {
     "name": "stderr",
     "output_type": "stream",
     "text": [
      "[18:28:46] [Netty Server IO #1/INFO]: [STDOUT]: got slot 0\n"
     ]
    },
    {
     "name": "stdout",
     "output_type": "stream",
     "text": [
      "DEBUG:minerl.env.malmo.instance.42cbc8:[18:28:46] [Netty Server IO #1/INFO]: [STDOUT]: Equip message recieved\r\n"
     ]
    },
    {
     "name": "stderr",
     "output_type": "stream",
     "text": [
      "2019-12-01 18:28:46 LAPTOP-SDM3TI61 minerl.env.malmo.instance.42cbc8[24072] DEBUG [18:28:46] [Netty Server IO #1/INFO]: [STDOUT]: Equip message recieved\n"
     ]
    },
    {
     "name": "stdout",
     "output_type": "stream",
     "text": [
      "DEBUG:minerl.env.malmo.instance.42cbc8:[18:28:46] [Netty Server IO #1/INFO]: [STDOUT]: got harbar 0\r\n"
     ]
    },
    {
     "name": "stderr",
     "output_type": "stream",
     "text": [
      "2019-12-01 18:28:46 "
     ]
    },
    {
     "name": "stdout",
     "output_type": "stream",
     "text": [
      "6.599999999999999"
     ]
    },
    {
     "name": "stderr",
     "output_type": "stream",
     "text": [
      "LAPTOP-SDM3TI61"
     ]
    },
    {
     "name": "stdout",
     "output_type": "stream",
     "text": [
      "\n"
     ]
    },
    {
     "name": "stderr",
     "output_type": "stream",
     "text": [
      " minerl.env.malmo.instance.42cbc8[24072] DEBUG [18:28:46] [Netty Server IO #1/INFO]: [STDOUT]: got harbar 0\r"
     ]
    },
    {
     "name": "stdout",
     "output_type": "stream",
     "text": [
      "step = "
     ]
    },
    {
     "name": "stderr",
     "output_type": "stream",
     "text": [
      "\n"
     ]
    },
    {
     "name": "stdout",
     "output_type": "stream",
     "text": [
      " DEBUG:minerl.env.malmo.instance.42cbc8:[18:28:46] [Netty Server IO #1/INFO]: [STDOUT]: got slot 0\n",
      "305"
     ]
    },
    {
     "name": "stderr",
     "output_type": "stream",
     "text": [
      "2019-12-01 18:28:46"
     ]
    },
    {
     "name": "stdout",
     "output_type": "stream",
     "text": [
      "\n"
     ]
    },
    {
     "name": "stderr",
     "output_type": "stream",
     "text": [
      " LAPTOP-SDM3TI61 minerl.env.malmo.instance.42cbc8[24072] DEBUG [18:28:46] [Netty Server IO #1/INFO]: [STDOUT]: got slot 0\n"
     ]
    },
    {
     "name": "stdout",
     "output_type": "stream",
     "text": [
      "DEBUG:minerl.env.malmo.instance.42cbc8:[18:28:46] [Netty Server IO #1/INFO]: [STDOUT]: Equip message recieved\r\n"
     ]
    },
    {
     "name": "stderr",
     "output_type": "stream",
     "text": [
      "2019-12-01 18:28:46 LAPTOP-SDM3TI61 minerl.env.malmo.instance.42cbc8[24072] DEBUG "
     ]
    },
    {
     "name": "stdout",
     "output_type": "stream",
     "text": [
      "6.599999999999999"
     ]
    },
    {
     "name": "stderr",
     "output_type": "stream",
     "text": [
      "[18:28:46] [Netty Server IO #1/INFO]: [STDOUT]: Equip message recieved\r"
     ]
    },
    {
     "name": "stdout",
     "output_type": "stream",
     "text": [
      "\n"
     ]
    },
    {
     "name": "stderr",
     "output_type": "stream",
     "text": [
      "\n"
     ]
    },
    {
     "name": "stdout",
     "output_type": "stream",
     "text": [
      "DEBUG:minerl.env.malmo.instance.42cbc8:[18:28:46] [Netty Server IO #1/INFO]: [STDOUT]: got harbar 0\r\n"
     ]
    },
    {
     "name": "stderr",
     "output_type": "stream",
     "text": [
      "2019-12-01 18:28:46 "
     ]
    },
    {
     "name": "stdout",
     "output_type": "stream",
     "text": [
      "step = "
     ]
    },
    {
     "name": "stderr",
     "output_type": "stream",
     "text": [
      "LAPTOP-SDM3TI61"
     ]
    },
    {
     "name": "stdout",
     "output_type": "stream",
     "text": [
      " 306"
     ]
    },
    {
     "name": "stderr",
     "output_type": "stream",
     "text": [
      " "
     ]
    },
    {
     "name": "stdout",
     "output_type": "stream",
     "text": [
      "\n"
     ]
    },
    {
     "name": "stderr",
     "output_type": "stream",
     "text": [
      "minerl.env.malmo.instance.42cbc8[24072] DEBUG [18:28:46] [Netty Server IO #1/INFO]: [STDOUT]: got harbar 0\n"
     ]
    },
    {
     "name": "stdout",
     "output_type": "stream",
     "text": [
      "DEBUG:minerl.env.malmo.instance.42cbc8:[18:28:46] [Netty Server IO #1/INFO]: [STDOUT]: got slot 0\r\n"
     ]
    },
    {
     "name": "stderr",
     "output_type": "stream",
     "text": [
      "2019-12-01 18:28:46 LAPTOP-SDM3TI61 minerl.env.malmo.instance.42cbc8[24072] DEBUG [18:28:46] [Netty Server IO #1/INFO]: [STDOUT]: got slot 0\n"
     ]
    },
    {
     "name": "stdout",
     "output_type": "stream",
     "text": [
      "DEBUG:minerl.env.malmo.instance.42cbc8:[18:28:46] [Netty Server IO #1/INFO]: [STDOUT]: Equip message recieved\r\n"
     ]
    },
    {
     "name": "stderr",
     "output_type": "stream",
     "text": [
      "2019-12-01 18:28:46"
     ]
    },
    {
     "name": "stdout",
     "output_type": "stream",
     "text": [
      "6.599999999999999"
     ]
    },
    {
     "name": "stderr",
     "output_type": "stream",
     "text": [
      " "
     ]
    },
    {
     "name": "stdout",
     "output_type": "stream",
     "text": [
      "\n"
     ]
    },
    {
     "name": "stderr",
     "output_type": "stream",
     "text": [
      "LAPTOP-SDM3TI61 minerl.env.malmo.instance.42cbc8[24072] "
     ]
    },
    {
     "name": "stdout",
     "output_type": "stream",
     "text": [
      "step = "
     ]
    },
    {
     "name": "stderr",
     "output_type": "stream",
     "text": [
      "DEBUG"
     ]
    },
    {
     "name": "stdout",
     "output_type": "stream",
     "text": [
      " "
     ]
    },
    {
     "name": "stderr",
     "output_type": "stream",
     "text": [
      " "
     ]
    },
    {
     "name": "stdout",
     "output_type": "stream",
     "text": [
      "307"
     ]
    },
    {
     "name": "stderr",
     "output_type": "stream",
     "text": [
      "[18:28:46] [Netty Server IO #1/INFO]: [STDOUT]: Equip message recieved\r"
     ]
    },
    {
     "name": "stdout",
     "output_type": "stream",
     "text": [
      "\n"
     ]
    },
    {
     "name": "stderr",
     "output_type": "stream",
     "text": [
      "\n"
     ]
    },
    {
     "name": "stdout",
     "output_type": "stream",
     "text": [
      "DEBUG:minerl.env.malmo.instance.42cbc8:[18:28:46] [Netty Server IO #1/INFO]: [STDOUT]: got harbar 0\r\n"
     ]
    },
    {
     "name": "stderr",
     "output_type": "stream",
     "text": [
      "2019-12-01 18:28:46 LAPTOP-SDM3TI61 minerl.env.malmo.instance.42cbc8[24072] DEBUG [18:28:46] [Netty Server IO #1/INFO]: [STDOUT]: got harbar 0\n"
     ]
    },
    {
     "name": "stdout",
     "output_type": "stream",
     "text": [
      "DEBUG:minerl.env.malmo.instance.42cbc8:[18:28:46] [Netty Server IO #1/INFO]: [STDOUT]: got slot 0\r\n"
     ]
    },
    {
     "name": "stderr",
     "output_type": "stream",
     "text": [
      "2019-12-01 18:28:46 LAPTOP-SDM3TI61 minerl.env.malmo.instance.42cbc8[24072]"
     ]
    },
    {
     "name": "stdout",
     "output_type": "stream",
     "text": [
      "6.599999999999999"
     ]
    },
    {
     "name": "stderr",
     "output_type": "stream",
     "text": [
      " "
     ]
    },
    {
     "name": "stdout",
     "output_type": "stream",
     "text": [
      "\n"
     ]
    },
    {
     "name": "stderr",
     "output_type": "stream",
     "text": [
      "DEBUG [18:28:46] [Netty Server IO #1/INFO]: [STDOUT]: got slot 0\n"
     ]
    },
    {
     "name": "stdout",
     "output_type": "stream",
     "text": [
      "step = DEBUG:minerl.env.malmo.instance.42cbc8:[18:28:46] [Netty Server IO #1/INFO]: [STDOUT]: Equip message recieved\r\n"
     ]
    },
    {
     "name": "stderr",
     "output_type": "stream",
     "text": [
      "2019-12-01 18:28:46"
     ]
    },
    {
     "name": "stdout",
     "output_type": "stream",
     "text": [
      " "
     ]
    },
    {
     "name": "stderr",
     "output_type": "stream",
     "text": [
      " "
     ]
    },
    {
     "name": "stdout",
     "output_type": "stream",
     "text": [
      "308\n",
      "6.599999999999999\n",
      "step =  309\n",
      "6.599999999999999\n",
      "step =  310\n",
      "6.599999999999999\n",
      "step =  311\n",
      "6.599999999999999"
     ]
    },
    {
     "name": "stderr",
     "output_type": "stream",
     "text": [
      "LAPTOP-SDM3TI61"
     ]
    },
    {
     "name": "stdout",
     "output_type": "stream",
     "text": [
      "\n"
     ]
    },
    {
     "name": "stderr",
     "output_type": "stream",
     "text": [
      " minerl.env.malmo.instance.42cbc8[24072] DEBUG "
     ]
    },
    {
     "name": "stdout",
     "output_type": "stream",
     "text": [
      "step = "
     ]
    },
    {
     "name": "stderr",
     "output_type": "stream",
     "text": [
      "[18:28:46] [Netty Server IO #1/INFO]: [STDOUT]: Equip message recieved\r"
     ]
    },
    {
     "name": "stdout",
     "output_type": "stream",
     "text": [
      " "
     ]
    },
    {
     "name": "stderr",
     "output_type": "stream",
     "text": [
      "\n"
     ]
    },
    {
     "name": "stdout",
     "output_type": "stream",
     "text": [
      "312\n",
      "DEBUG:minerl.env.malmo.instance.42cbc8:[18:28:46] [Netty Server IO #1/INFO]: [STDOUT]: got harbar 0\n"
     ]
    },
    {
     "name": "stderr",
     "output_type": "stream",
     "text": [
      "2019-12-01 18:28:47 LAPTOP-SDM3TI61 minerl.env.malmo.instance.42cbc8[24072] DEBUG [18:28:46] [Netty Server IO #1/INFO]: [STDOUT]: got harbar 0\n"
     ]
    },
    {
     "name": "stdout",
     "output_type": "stream",
     "text": [
      "DEBUG:minerl.env.malmo.instance.42cbc8:[18:28:46] [Netty Server IO #1/INFO]: [STDOUT]: got slot 0\r\n"
     ]
    },
    {
     "name": "stderr",
     "output_type": "stream",
     "text": [
      "2019-12-01 18:28:47 LAPTOP-SDM3TI61 minerl.env.malmo.instance.42cbc8[24072] "
     ]
    },
    {
     "name": "stdout",
     "output_type": "stream",
     "text": [
      "6.599999999999999"
     ]
    },
    {
     "name": "stderr",
     "output_type": "stream",
     "text": [
      "DEBUG"
     ]
    },
    {
     "name": "stdout",
     "output_type": "stream",
     "text": [
      "\n"
     ]
    },
    {
     "name": "stderr",
     "output_type": "stream",
     "text": [
      " [18:28:46] [Netty Server IO #1/INFO]: [STDOUT]: got slot 0\n"
     ]
    },
    {
     "name": "stdout",
     "output_type": "stream",
     "text": [
      "DEBUG:minerl.env.malmo.instance.42cbc8:[18:28:46] [Client thread/INFO]: [CHAT] §l884...\r\n"
     ]
    },
    {
     "name": "stderr",
     "output_type": "stream",
     "text": [
      "2019-12-01 18:28:47"
     ]
    },
    {
     "name": "stdout",
     "output_type": "stream",
     "text": [
      "step = "
     ]
    },
    {
     "name": "stderr",
     "output_type": "stream",
     "text": [
      " "
     ]
    },
    {
     "name": "stdout",
     "output_type": "stream",
     "text": [
      " 313"
     ]
    },
    {
     "name": "stderr",
     "output_type": "stream",
     "text": [
      "LAPTOP-SDM3TI61 "
     ]
    },
    {
     "name": "stdout",
     "output_type": "stream",
     "text": [
      "\n"
     ]
    },
    {
     "name": "stderr",
     "output_type": "stream",
     "text": [
      "minerl.env.malmo.instance.42cbc8[24072] DEBUG [18:28:46] [Client thread/INFO]: [CHAT] §l884...\n"
     ]
    },
    {
     "name": "stdout",
     "output_type": "stream",
     "text": [
      "DEBUG:minerl.env.malmo.instance.42cbc8:[18:28:46] [Netty Server IO #1/INFO]: [STDOUT]: Equip message recieved\r\n"
     ]
    },
    {
     "name": "stderr",
     "output_type": "stream",
     "text": [
      "2019-12-01 18:28:47 LAPTOP-SDM3TI61 minerl.env.malmo.instance.42cbc8[24072] DEBUG [18:28:46] [Netty Server IO #1/INFO]: [STDOUT]: Equip message recieved\n"
     ]
    },
    {
     "name": "stdout",
     "output_type": "stream",
     "text": [
      "DEBUG:minerl.env.malmo.instance.42cbc8:[18:28:46] [Netty Server IO #1/INFO]: [STDOUT]: got harbar 0\r\n"
     ]
    },
    {
     "name": "stderr",
     "output_type": "stream",
     "text": [
      "2019-12-01 18:28:47 "
     ]
    },
    {
     "name": "stdout",
     "output_type": "stream",
     "text": [
      "6.599999999999999"
     ]
    },
    {
     "name": "stderr",
     "output_type": "stream",
     "text": [
      "LAPTOP-SDM3TI61"
     ]
    },
    {
     "name": "stdout",
     "output_type": "stream",
     "text": [
      "\n"
     ]
    },
    {
     "name": "stderr",
     "output_type": "stream",
     "text": [
      " minerl.env.malmo.instance.42cbc8[24072] DEBUG"
     ]
    },
    {
     "name": "stdout",
     "output_type": "stream",
     "text": [
      "step = "
     ]
    },
    {
     "name": "stderr",
     "output_type": "stream",
     "text": [
      " "
     ]
    },
    {
     "name": "stdout",
     "output_type": "stream",
     "text": [
      " "
     ]
    },
    {
     "name": "stderr",
     "output_type": "stream",
     "text": [
      "[18:28:46] [Netty Server IO #1/INFO]: [STDOUT]: got harbar 0\n"
     ]
    },
    {
     "name": "stdout",
     "output_type": "stream",
     "text": [
      "314\n",
      "DEBUG:minerl.env.malmo.instance.42cbc8:[18:28:46] [Netty Server IO #1/INFO]: [STDOUT]: got slot 0\n"
     ]
    },
    {
     "name": "stderr",
     "output_type": "stream",
     "text": [
      "2019-12-01 18:28:47 LAPTOP-SDM3TI61 minerl.env.malmo.instance.42cbc8[24072] DEBUG [18:28:46] [Netty Server IO #1/INFO]: [STDOUT]: got slot 0\n"
     ]
    },
    {
     "name": "stdout",
     "output_type": "stream",
     "text": [
      "DEBUG:minerl.env.malmo.instance.42cbc8:[18:28:47] [Netty Server IO #1/INFO]: [STDOUT]: Equip message recieved\r\n"
     ]
    },
    {
     "name": "stderr",
     "output_type": "stream",
     "text": [
      "2019-12-01 18:28:47 LAPTOP-SDM3TI61 minerl.env.malmo.instance.42cbc8[24072] DEBUG [18:28:47] [Netty Server IO #1/INFO]: [STDOUT]: Equip message recieved\n"
     ]
    },
    {
     "name": "stdout",
     "output_type": "stream",
     "text": [
      "DEBUG:minerl.env.malmo.instance.42cbc8:[18:28:47] [Netty Server IO #1/INFO]: [STDOUT]: got harbar 0\r\n"
     ]
    },
    {
     "name": "stderr",
     "output_type": "stream",
     "text": [
      "2019-12-01 18:28:47 LAPTOP-SDM3TI61 minerl.env.malmo.instance.42cbc8[24072] DEBUG [18:28:47] [Netty Server IO #1/INFO]: [STDOUT]: got harbar 0\n"
     ]
    },
    {
     "name": "stdout",
     "output_type": "stream",
     "text": [
      "DEBUG:minerl.env.malmo.instance.42cbc8:[18:28:47] [Netty Server IO #1/INFO]: [STDOUT]: got slot 0\r\n"
     ]
    },
    {
     "name": "stderr",
     "output_type": "stream",
     "text": [
      "2019-12-01 18:28:47"
     ]
    },
    {
     "name": "stdout",
     "output_type": "stream",
     "text": [
      "6.599999999999999"
     ]
    },
    {
     "name": "stderr",
     "output_type": "stream",
     "text": [
      " "
     ]
    },
    {
     "name": "stdout",
     "output_type": "stream",
     "text": [
      "\n"
     ]
    },
    {
     "name": "stderr",
     "output_type": "stream",
     "text": [
      "LAPTOP-SDM3TI61 minerl.env.malmo.instance.42cbc8[24072] "
     ]
    },
    {
     "name": "stdout",
     "output_type": "stream",
     "text": [
      "step = "
     ]
    },
    {
     "name": "stderr",
     "output_type": "stream",
     "text": [
      "DEBUG"
     ]
    },
    {
     "name": "stdout",
     "output_type": "stream",
     "text": [
      " "
     ]
    },
    {
     "name": "stderr",
     "output_type": "stream",
     "text": [
      " "
     ]
    },
    {
     "name": "stdout",
     "output_type": "stream",
     "text": [
      "315\n"
     ]
    },
    {
     "name": "stderr",
     "output_type": "stream",
     "text": [
      "[18:28:47] [Netty Server IO #1/INFO]: [STDOUT]: got slot 0\n"
     ]
    },
    {
     "name": "stdout",
     "output_type": "stream",
     "text": [
      "DEBUG:minerl.env.malmo.instance.42cbc8:[18:28:47] [Netty Server IO #1/INFO]: [STDOUT]: Equip message recieved\r\n"
     ]
    },
    {
     "name": "stderr",
     "output_type": "stream",
     "text": [
      "2019-12-01 18:28:47 LAPTOP-SDM3TI61 minerl.env.malmo.instance.42cbc8[24072] DEBUG [18:28:47] [Netty Server IO #1/INFO]: [STDOUT]: Equip message recieved\n"
     ]
    },
    {
     "name": "stdout",
     "output_type": "stream",
     "text": [
      "DEBUG:minerl.env.malmo.instance.42cbc8:[18:28:47] [Netty Server IO #1/INFO]: [STDOUT]: got harbar 0\r\n"
     ]
    },
    {
     "name": "stderr",
     "output_type": "stream",
     "text": [
      "2019-12-01 18:28:47 LAPTOP-SDM3TI61 minerl.env.malmo.instance.42cbc8[24072] DEBUG [18:28:47] [Netty Server IO #1/INFO]: [STDOUT]: got harbar 0\n"
     ]
    },
    {
     "name": "stdout",
     "output_type": "stream",
     "text": [
      "DEBUG:minerl.env.malmo.instance.42cbc8:[18:28:47] [Netty Server IO #1/INFO]: [STDOUT]: got slot 0\r\n"
     ]
    },
    {
     "name": "stderr",
     "output_type": "stream",
     "text": [
      "2019-12-01 18:28:47 LAPTOP-SDM3TI61 minerl.env.malmo.instance.42cbc8[24072] DEBUG "
     ]
    },
    {
     "name": "stdout",
     "output_type": "stream",
     "text": [
      "6.599999999999999"
     ]
    },
    {
     "name": "stderr",
     "output_type": "stream",
     "text": [
      "[18:28:47] [Netty Server IO #1/INFO]: [STDOUT]: got slot 0\r"
     ]
    },
    {
     "name": "stdout",
     "output_type": "stream",
     "text": [
      "\n"
     ]
    },
    {
     "name": "stderr",
     "output_type": "stream",
     "text": [
      "\n"
     ]
    },
    {
     "name": "stdout",
     "output_type": "stream",
     "text": [
      "step = DEBUG:minerl.env.malmo.instance.42cbc8:[18:28:47] [Netty Server IO #1/INFO]: [STDOUT]: Equip message recieved\n"
     ]
    },
    {
     "name": "stderr",
     "output_type": "stream",
     "text": [
      "2019-12-01 18:28:47"
     ]
    },
    {
     "name": "stdout",
     "output_type": "stream",
     "text": [
      " "
     ]
    },
    {
     "name": "stderr",
     "output_type": "stream",
     "text": [
      " "
     ]
    },
    {
     "name": "stdout",
     "output_type": "stream",
     "text": [
      "316"
     ]
    },
    {
     "name": "stderr",
     "output_type": "stream",
     "text": [
      "LAPTOP-SDM3TI61"
     ]
    },
    {
     "name": "stdout",
     "output_type": "stream",
     "text": [
      "\n"
     ]
    },
    {
     "name": "stderr",
     "output_type": "stream",
     "text": [
      " minerl.env.malmo.instance.42cbc8[24072] DEBUG [18:28:47] [Netty Server IO #1/INFO]: [STDOUT]: Equip message recieved\n"
     ]
    },
    {
     "name": "stdout",
     "output_type": "stream",
     "text": [
      "DEBUG:minerl.env.malmo.instance.42cbc8:[18:28:47] [Netty Server IO #1/INFO]: [STDOUT]: got harbar 0\r\n"
     ]
    },
    {
     "name": "stderr",
     "output_type": "stream",
     "text": [
      "2019-12-01 18:28:47 LAPTOP-SDM3TI61 minerl.env.malmo.instance.42cbc8[24072] DEBUG [18:28:47] [Netty Server IO #1/INFO]: [STDOUT]: got harbar 0\n"
     ]
    },
    {
     "name": "stdout",
     "output_type": "stream",
     "text": [
      "6.699999999999998DEBUG:minerl.env.malmo.instance.42cbc8:[18:28:47] [Netty Server IO #1/INFO]: [STDOUT]: got slot 0\n",
      "\n"
     ]
    },
    {
     "name": "stderr",
     "output_type": "stream",
     "text": [
      "2019-12-01 18:28:47 "
     ]
    },
    {
     "name": "stdout",
     "output_type": "stream",
     "text": [
      "step =  317\n",
      "6.699999999999998\n",
      "step =  318\n",
      "6.699999999999998\n",
      "step =  319\n"
     ]
    },
    {
     "name": "stderr",
     "output_type": "stream",
     "text": [
      "LAPTOP-SDM3TI61 minerl.env.malmo.instance.42cbc8[24072] DEBUG [18:28:47] [Netty Server IO #1/INFO]: [STDOUT]: got slot 0\n"
     ]
    },
    {
     "name": "stdout",
     "output_type": "stream",
     "text": [
      "DEBUG:minerl.env.malmo.instance.42cbc8:[18:28:47] [Netty Server IO #1/INFO]: [STDOUT]: Equip message recieved\r\n"
     ]
    },
    {
     "name": "stderr",
     "output_type": "stream",
     "text": [
      "2019-12-01 18:28:47"
     ]
    },
    {
     "name": "stdout",
     "output_type": "stream",
     "text": [
      "6.699999999999998"
     ]
    },
    {
     "name": "stderr",
     "output_type": "stream",
     "text": [
      " "
     ]
    },
    {
     "name": "stdout",
     "output_type": "stream",
     "text": [
      "\n"
     ]
    },
    {
     "name": "stderr",
     "output_type": "stream",
     "text": [
      "LAPTOP-SDM3TI61 minerl.env.malmo.instance.42cbc8[24072] DEBUG"
     ]
    },
    {
     "name": "stdout",
     "output_type": "stream",
     "text": [
      "step = "
     ]
    },
    {
     "name": "stderr",
     "output_type": "stream",
     "text": [
      " "
     ]
    },
    {
     "name": "stdout",
     "output_type": "stream",
     "text": [
      " "
     ]
    },
    {
     "name": "stderr",
     "output_type": "stream",
     "text": [
      "[18:28:47] [Netty Server IO #1/INFO]: [STDOUT]: Equip message recieved\r"
     ]
    },
    {
     "name": "stdout",
     "output_type": "stream",
     "text": [
      "320"
     ]
    },
    {
     "name": "stderr",
     "output_type": "stream",
     "text": [
      "\n"
     ]
    },
    {
     "name": "stdout",
     "output_type": "stream",
     "text": [
      "\n",
      "DEBUG:minerl.env.malmo.instance.42cbc8:[18:28:47] [Netty Server IO #1/INFO]: [STDOUT]: got harbar 0\n"
     ]
    },
    {
     "name": "stderr",
     "output_type": "stream",
     "text": [
      "2019-12-01 18:28:47 LAPTOP-SDM3TI61 minerl.env.malmo.instance.42cbc8[24072] DEBUG [18:28:47] [Netty Server IO #1/INFO]: [STDOUT]: got harbar 0\n"
     ]
    },
    {
     "name": "stdout",
     "output_type": "stream",
     "text": [
      "DEBUG:minerl.env.malmo.instance.42cbc8:[18:28:47] [Netty Server IO #1/INFO]: [STDOUT]: got slot 0\r\n"
     ]
    },
    {
     "name": "stderr",
     "output_type": "stream",
     "text": [
      "2019-12-01 18:28:47"
     ]
    },
    {
     "name": "stdout",
     "output_type": "stream",
     "text": [
      "6.699999999999998\n"
     ]
    },
    {
     "name": "stderr",
     "output_type": "stream",
     "text": [
      " LAPTOP-SDM3TI61 minerl.env.malmo.instance.42cbc8[24072]"
     ]
    },
    {
     "name": "stdout",
     "output_type": "stream",
     "text": [
      "step = "
     ]
    },
    {
     "name": "stderr",
     "output_type": "stream",
     "text": [
      " DEBUG"
     ]
    },
    {
     "name": "stdout",
     "output_type": "stream",
     "text": [
      " 321"
     ]
    },
    {
     "name": "stderr",
     "output_type": "stream",
     "text": [
      " [18:28:47] [Netty Server IO #1/INFO]: [STDOUT]: got slot 0\r"
     ]
    },
    {
     "name": "stdout",
     "output_type": "stream",
     "text": [
      "\n"
     ]
    },
    {
     "name": "stderr",
     "output_type": "stream",
     "text": [
      "\n"
     ]
    },
    {
     "name": "stdout",
     "output_type": "stream",
     "text": [
      "DEBUG:minerl.env.malmo.instance.42cbc8:[18:28:47] [Netty Server IO #1/INFO]: [STDOUT]: Equip message recieved\r\n"
     ]
    },
    {
     "name": "stderr",
     "output_type": "stream",
     "text": [
      "2019-12-01 18:28:47 LAPTOP-SDM3TI61 minerl.env.malmo.instance.42cbc8[24072] DEBUG [18:28:47] [Netty Server IO #1/INFO]: [STDOUT]: Equip message recieved\n"
     ]
    },
    {
     "name": "stdout",
     "output_type": "stream",
     "text": [
      "DEBUG:minerl.env.malmo.instance.42cbc8:[18:28:47] [Netty Server IO #1/INFO]: [STDOUT]: got harbar 0\r\n"
     ]
    },
    {
     "name": "stderr",
     "output_type": "stream",
     "text": [
      "2019-12-01 18:28:47"
     ]
    },
    {
     "name": "stdout",
     "output_type": "stream",
     "text": [
      "6.699999999999998"
     ]
    },
    {
     "name": "stderr",
     "output_type": "stream",
     "text": [
      " "
     ]
    },
    {
     "name": "stdout",
     "output_type": "stream",
     "text": [
      "\n"
     ]
    },
    {
     "name": "stderr",
     "output_type": "stream",
     "text": [
      "LAPTOP-SDM3TI61 minerl.env.malmo.instance.42cbc8[24072] "
     ]
    },
    {
     "name": "stdout",
     "output_type": "stream",
     "text": [
      "step = "
     ]
    },
    {
     "name": "stderr",
     "output_type": "stream",
     "text": [
      "DEBUG"
     ]
    },
    {
     "name": "stdout",
     "output_type": "stream",
     "text": [
      " "
     ]
    },
    {
     "name": "stderr",
     "output_type": "stream",
     "text": [
      " "
     ]
    },
    {
     "name": "stdout",
     "output_type": "stream",
     "text": [
      "322"
     ]
    },
    {
     "name": "stderr",
     "output_type": "stream",
     "text": [
      "[18:28:47] [Netty Server IO #1/INFO]: [STDOUT]: got harbar 0\r"
     ]
    },
    {
     "name": "stdout",
     "output_type": "stream",
     "text": [
      "\n"
     ]
    },
    {
     "name": "stderr",
     "output_type": "stream",
     "text": [
      "\n"
     ]
    },
    {
     "name": "stdout",
     "output_type": "stream",
     "text": [
      "DEBUG:minerl.env.malmo.instance.42cbc8:[18:28:47] [Netty Server IO #1/INFO]: [STDOUT]: got slot 0\r\n"
     ]
    },
    {
     "name": "stderr",
     "output_type": "stream",
     "text": [
      "2019-12-01 18:28:47 LAPTOP-SDM3TI61 minerl.env.malmo.instance.42cbc8[24072] DEBUG [18:28:47] [Netty Server IO #1/INFO]: [STDOUT]: got slot 0\n"
     ]
    },
    {
     "name": "stdout",
     "output_type": "stream",
     "text": [
      "DEBUG:minerl.env.malmo.instance.42cbc8:[18:28:47] [Netty Server IO #1/INFO]: [STDOUT]: Equip message recieved\r\n"
     ]
    },
    {
     "name": "stderr",
     "output_type": "stream",
     "text": [
      "2019-12-01 18:28:47 LAPTOP-SDM3TI61 minerl.env.malmo.instance.42cbc8[24072] "
     ]
    },
    {
     "name": "stdout",
     "output_type": "stream",
     "text": [
      "6.699999999999998"
     ]
    },
    {
     "name": "stderr",
     "output_type": "stream",
     "text": [
      "DEBUG"
     ]
    },
    {
     "name": "stdout",
     "output_type": "stream",
     "text": [
      "\n"
     ]
    },
    {
     "name": "stderr",
     "output_type": "stream",
     "text": [
      " [18:28:47] [Netty Server IO #1/INFO]: [STDOUT]: Equip message recieved\n"
     ]
    },
    {
     "name": "stdout",
     "output_type": "stream",
     "text": [
      "step = DEBUG:minerl.env.malmo.instance.42cbc8:[18:28:47] [Netty Server IO #1/INFO]: [STDOUT]: got harbar 0\r\n"
     ]
    },
    {
     "name": "stderr",
     "output_type": "stream",
     "text": [
      "2019-12-01 18:28:47"
     ]
    },
    {
     "name": "stdout",
     "output_type": "stream",
     "text": [
      " "
     ]
    },
    {
     "name": "stderr",
     "output_type": "stream",
     "text": [
      " "
     ]
    },
    {
     "name": "stdout",
     "output_type": "stream",
     "text": [
      "323"
     ]
    },
    {
     "name": "stderr",
     "output_type": "stream",
     "text": [
      "LAPTOP-SDM3TI61"
     ]
    },
    {
     "name": "stdout",
     "output_type": "stream",
     "text": [
      "\n"
     ]
    },
    {
     "name": "stderr",
     "output_type": "stream",
     "text": [
      " minerl.env.malmo.instance.42cbc8[24072] DEBUG [18:28:47] [Netty Server IO #1/INFO]: [STDOUT]: got harbar 0\n"
     ]
    },
    {
     "name": "stdout",
     "output_type": "stream",
     "text": [
      "DEBUG:minerl.env.malmo.instance.42cbc8:[18:28:47] [Netty Server IO #1/INFO]: [STDOUT]: got slot 0\r\n"
     ]
    },
    {
     "name": "stderr",
     "output_type": "stream",
     "text": [
      "2019-12-01 18:28:47 LAPTOP-SDM3TI61 minerl.env.malmo.instance.42cbc8[24072] DEBUG [18:28:47] [Netty Server IO #1/INFO]: [STDOUT]: got slot 0\n"
     ]
    },
    {
     "name": "stdout",
     "output_type": "stream",
     "text": [
      "DEBUG:minerl.env.malmo.instance.42cbc8:[18:28:47] [Netty Server IO #1/INFO]: [STDOUT]: Equip message recieved\r\n"
     ]
    },
    {
     "name": "stderr",
     "output_type": "stream",
     "text": [
      "2019-12-01 18:28:47 "
     ]
    },
    {
     "name": "stdout",
     "output_type": "stream",
     "text": [
      "6.699999999999998"
     ]
    },
    {
     "name": "stderr",
     "output_type": "stream",
     "text": [
      "LAPTOP-SDM3TI61"
     ]
    },
    {
     "name": "stdout",
     "output_type": "stream",
     "text": [
      "\n"
     ]
    },
    {
     "name": "stderr",
     "output_type": "stream",
     "text": [
      " minerl.env.malmo.instance.42cbc8[24072] DEBUG"
     ]
    },
    {
     "name": "stdout",
     "output_type": "stream",
     "text": [
      "step = "
     ]
    },
    {
     "name": "stderr",
     "output_type": "stream",
     "text": [
      " "
     ]
    },
    {
     "name": "stdout",
     "output_type": "stream",
     "text": [
      " 324"
     ]
    },
    {
     "name": "stderr",
     "output_type": "stream",
     "text": [
      "[18:28:47] [Netty Server IO #1/INFO]: [STDOUT]: Equip message recieved\r"
     ]
    },
    {
     "name": "stdout",
     "output_type": "stream",
     "text": [
      "\n"
     ]
    },
    {
     "name": "stderr",
     "output_type": "stream",
     "text": [
      "\n"
     ]
    },
    {
     "name": "stdout",
     "output_type": "stream",
     "text": [
      "DEBUG:minerl.env.malmo.instance.42cbc8:[18:28:47] [Netty Server IO #1/INFO]: [STDOUT]: got harbar 0\r\n"
     ]
    },
    {
     "name": "stderr",
     "output_type": "stream",
     "text": [
      "2019-12-01 18:28:47 LAPTOP-SDM3TI61 minerl.env.malmo.instance.42cbc8[24072] DEBUG [18:28:47] [Netty Server IO #1/INFO]: [STDOUT]: got harbar 0\n"
     ]
    },
    {
     "name": "stdout",
     "output_type": "stream",
     "text": [
      "DEBUG:minerl.env.malmo.instance.42cbc8:[18:28:47] [Netty Server IO #1/INFO]: [STDOUT]: got slot 0\r\n"
     ]
    },
    {
     "name": "stderr",
     "output_type": "stream",
     "text": [
      "2019-12-01 18:28:47 LAPTOP-SDM3TI61 minerl.env.malmo.instance.42cbc8[24072] DEBUG [18:28:47] [Netty Server IO #1/INFO]: [STDOUT]: got slot 0\n"
     ]
    },
    {
     "name": "stdout",
     "output_type": "stream",
     "text": [
      "DEBUG:minerl.env.malmo.instance.42cbc8:[18:28:47] [Netty Server IO #1/INFO]: [STDOUT]: Equip message recieved\r\n"
     ]
    },
    {
     "name": "stderr",
     "output_type": "stream",
     "text": [
      "2019-12-01 18:28:47 LAPTOP-SDM3TI61 minerl.env.malmo.instance.42cbc8[24072] DEBUG [18:28:47] [Netty Server IO #1/INFO]: [STDOUT]: Equip message recieved\n"
     ]
    },
    {
     "name": "stdout",
     "output_type": "stream",
     "text": [
      "6.699999999999998\n",
      "DEBUG:minerl.env.malmo.instance.42cbc8:[18:28:47] [Netty Server IO #1/INFO]: [STDOUT]: got harbar 0\n"
     ]
    },
    {
     "name": "stderr",
     "output_type": "stream",
     "text": [
      "2019-12-01 18:28:47 LAPTOP-SDM3TI61 "
     ]
    },
    {
     "name": "stdout",
     "output_type": "stream",
     "text": [
      "step = "
     ]
    },
    {
     "name": "stderr",
     "output_type": "stream",
     "text": [
      "minerl.env.malmo.instance.42cbc8[24072]"
     ]
    },
    {
     "name": "stdout",
     "output_type": "stream",
     "text": [
      " "
     ]
    },
    {
     "name": "stderr",
     "output_type": "stream",
     "text": [
      " "
     ]
    },
    {
     "name": "stdout",
     "output_type": "stream",
     "text": [
      "325"
     ]
    },
    {
     "name": "stderr",
     "output_type": "stream",
     "text": [
      "DEBUG"
     ]
    },
    {
     "name": "stdout",
     "output_type": "stream",
     "text": [
      "\n"
     ]
    },
    {
     "name": "stderr",
     "output_type": "stream",
     "text": [
      " [18:28:47] [Netty Server IO #1/INFO]: [STDOUT]: got harbar 0\n"
     ]
    },
    {
     "name": "stdout",
     "output_type": "stream",
     "text": [
      "DEBUG:minerl.env.malmo.instance.42cbc8:[18:28:47] [Netty Server IO #1/INFO]: [STDOUT]: got slot 0\r\n"
     ]
    },
    {
     "name": "stderr",
     "output_type": "stream",
     "text": [
      "2019-12-01 18:28:47"
     ]
    },
    {
     "name": "stdout",
     "output_type": "stream",
     "text": [
      "6.699999999999998\n",
      "step =  326\n",
      "6.699999999999998\n",
      "step =  327\n",
      "6.999999999999998\n",
      "step =  328\n",
      "6.999999999999998\n",
      "step =  329\n"
     ]
    },
    {
     "name": "stderr",
     "output_type": "stream",
     "text": [
      " LAPTOP-SDM3TI61 minerl.env.malmo.instance.42cbc8[24072] DEBUG [18:28:47] [Netty Server IO #1/INFO]: [STDOUT]: got slot 0\n"
     ]
    },
    {
     "name": "stdout",
     "output_type": "stream",
     "text": [
      "DEBUG:minerl.env.malmo.instance.42cbc8:[18:28:47] [Netty Server IO #1/INFO]: [STDOUT]: Equip message recieved\r\n"
     ]
    },
    {
     "name": "stderr",
     "output_type": "stream",
     "text": [
      "2019-12-01 18:28:47 LAPTOP-SDM3TI61 minerl.env.malmo.instance.42cbc8[24072] DEBUG [18:28:47] [Netty Server IO #1/INFO]: [STDOUT]: Equip message recieved\n"
     ]
    },
    {
     "name": "stdout",
     "output_type": "stream",
     "text": [
      "DEBUG:minerl.env.malmo.instance.42cbc8:[18:28:47] [Netty Server IO #1/INFO]: [STDOUT]: got harbar 0\r\n"
     ]
    },
    {
     "name": "stderr",
     "output_type": "stream",
     "text": [
      "2019-12-01 18:28:47 LAPTOP-SDM3TI61 minerl.env.malmo.instance.42cbc8[24072]"
     ]
    },
    {
     "name": "stdout",
     "output_type": "stream",
     "text": [
      "6.999999999999998"
     ]
    },
    {
     "name": "stderr",
     "output_type": "stream",
     "text": [
      " "
     ]
    },
    {
     "name": "stdout",
     "output_type": "stream",
     "text": [
      "\n"
     ]
    },
    {
     "name": "stderr",
     "output_type": "stream",
     "text": [
      "DEBUG [18:28:47] [Netty Server IO #1/INFO]: [STDOUT]: got harbar 0\n"
     ]
    },
    {
     "name": "stdout",
     "output_type": "stream",
     "text": [
      "step =  DEBUG:minerl.env.malmo.instance.42cbc8:[18:28:47] [Netty Server IO #1/INFO]: [STDOUT]: got slot 0\n",
      "330"
     ]
    },
    {
     "name": "stderr",
     "output_type": "stream",
     "text": [
      "2019-12-01 18:28:47"
     ]
    },
    {
     "name": "stdout",
     "output_type": "stream",
     "text": [
      "\n"
     ]
    },
    {
     "name": "stderr",
     "output_type": "stream",
     "text": [
      " LAPTOP-SDM3TI61 minerl.env.malmo.instance.42cbc8[24072] DEBUG [18:28:47] [Netty Server IO #1/INFO]: [STDOUT]: got slot 0\n"
     ]
    },
    {
     "name": "stdout",
     "output_type": "stream",
     "text": [
      "DEBUG:minerl.env.malmo.instance.42cbc8:[18:28:47] [Netty Server IO #1/INFO]: [STDOUT]: Equip message recieved\r\n"
     ]
    },
    {
     "name": "stderr",
     "output_type": "stream",
     "text": [
      "2019-12-01 18:28:47 LAPTOP-SDM3TI61 minerl.env.malmo.instance.42cbc8[24072] "
     ]
    },
    {
     "name": "stdout",
     "output_type": "stream",
     "text": [
      "6.999999999999998"
     ]
    },
    {
     "name": "stderr",
     "output_type": "stream",
     "text": [
      "DEBUG"
     ]
    },
    {
     "name": "stdout",
     "output_type": "stream",
     "text": [
      "\n"
     ]
    },
    {
     "name": "stderr",
     "output_type": "stream",
     "text": [
      " [18:28:47] [Netty Server IO #1/INFO]: [STDOUT]: Equip message recieved\n"
     ]
    },
    {
     "name": "stdout",
     "output_type": "stream",
     "text": [
      "DEBUG:minerl.env.malmo.instance.42cbc8:[18:28:47] [Netty Server IO #1/INFO]: [STDOUT]: got harbar 0\r\n"
     ]
    },
    {
     "name": "stderr",
     "output_type": "stream",
     "text": [
      "2019-12-01 18:28:47"
     ]
    },
    {
     "name": "stdout",
     "output_type": "stream",
     "text": [
      "step =  "
     ]
    },
    {
     "name": "stderr",
     "output_type": "stream",
     "text": [
      " "
     ]
    },
    {
     "name": "stdout",
     "output_type": "stream",
     "text": [
      "331"
     ]
    },
    {
     "name": "stderr",
     "output_type": "stream",
     "text": [
      "LAPTOP-SDM3TI61"
     ]
    },
    {
     "name": "stdout",
     "output_type": "stream",
     "text": [
      "\n"
     ]
    },
    {
     "name": "stderr",
     "output_type": "stream",
     "text": [
      " minerl.env.malmo.instance.42cbc8[24072] DEBUG [18:28:47] [Netty Server IO #1/INFO]: [STDOUT]: got harbar 0\n"
     ]
    },
    {
     "name": "stdout",
     "output_type": "stream",
     "text": [
      "DEBUG:minerl.env.malmo.instance.42cbc8:[18:28:47] [Netty Server IO #1/INFO]: [STDOUT]: got slot 1\r\n"
     ]
    },
    {
     "name": "stderr",
     "output_type": "stream",
     "text": [
      "2019-12-01 18:28:47 LAPTOP-SDM3TI61"
     ]
    },
    {
     "name": "stdout",
     "output_type": "stream",
     "text": [
      "6.999999999999998"
     ]
    },
    {
     "name": "stderr",
     "output_type": "stream",
     "text": [
      " "
     ]
    },
    {
     "name": "stdout",
     "output_type": "stream",
     "text": [
      "\n"
     ]
    },
    {
     "name": "stderr",
     "output_type": "stream",
     "text": [
      "minerl.env.malmo.instance.42cbc8[24072] DEBUG"
     ]
    },
    {
     "name": "stdout",
     "output_type": "stream",
     "text": [
      "step = "
     ]
    },
    {
     "name": "stderr",
     "output_type": "stream",
     "text": [
      " "
     ]
    },
    {
     "name": "stdout",
     "output_type": "stream",
     "text": [
      " "
     ]
    },
    {
     "name": "stderr",
     "output_type": "stream",
     "text": [
      "[18:28:47] [Netty Server IO #1/INFO]: [STDOUT]: got slot 1\r"
     ]
    },
    {
     "name": "stdout",
     "output_type": "stream",
     "text": [
      "332"
     ]
    },
    {
     "name": "stderr",
     "output_type": "stream",
     "text": [
      "\n"
     ]
    },
    {
     "name": "stdout",
     "output_type": "stream",
     "text": [
      "\n",
      "DEBUG:minerl.env.malmo.instance.42cbc8:[18:28:47] [Netty Server IO #1/INFO]: [STDOUT]: Equip message recieved\n"
     ]
    },
    {
     "name": "stderr",
     "output_type": "stream",
     "text": [
      "2019-12-01 18:28:47 LAPTOP-SDM3TI61 minerl.env.malmo.instance.42cbc8[24072] DEBUG [18:28:47] [Netty Server IO #1/INFO]: [STDOUT]: Equip message recieved\n"
     ]
    },
    {
     "name": "stdout",
     "output_type": "stream",
     "text": [
      "DEBUG:minerl.env.malmo.instance.42cbc8:[18:28:47] [Netty Server IO #1/INFO]: [STDOUT]: got harbar 0\r\n"
     ]
    },
    {
     "name": "stderr",
     "output_type": "stream",
     "text": [
      "2019-12-01 18:28:47 LAPTOP-SDM3TI61 minerl.env.malmo.instance.42cbc8[24072]"
     ]
    },
    {
     "name": "stdout",
     "output_type": "stream",
     "text": [
      "6.999999999999998"
     ]
    },
    {
     "name": "stderr",
     "output_type": "stream",
     "text": [
      " "
     ]
    },
    {
     "name": "stdout",
     "output_type": "stream",
     "text": [
      "\n"
     ]
    },
    {
     "name": "stderr",
     "output_type": "stream",
     "text": [
      "DEBUG [18:28:47] [Netty Server IO #1/INFO]: [STDOUT]: got harbar 0\n"
     ]
    },
    {
     "name": "stdout",
     "output_type": "stream",
     "text": [
      "step =  DEBUG:minerl.env.malmo.instance.42cbc8:[18:28:47] [Netty Server IO #1/INFO]: [STDOUT]: got slot 0\n",
      "333"
     ]
    },
    {
     "name": "stderr",
     "output_type": "stream",
     "text": [
      "2019-12-01 18:28:47 "
     ]
    },
    {
     "name": "stdout",
     "output_type": "stream",
     "text": [
      "\n"
     ]
    },
    {
     "name": "stderr",
     "output_type": "stream",
     "text": [
      "LAPTOP-SDM3TI61 minerl.env.malmo.instance.42cbc8[24072] DEBUG [18:28:47] [Netty Server IO #1/INFO]: [STDOUT]: got slot 0\n"
     ]
    },
    {
     "name": "stdout",
     "output_type": "stream",
     "text": [
      "DEBUG:minerl.env.malmo.instance.42cbc8:[18:28:47] [Netty Server IO #1/INFO]: [STDOUT]: Equip message recieved\r\n"
     ]
    },
    {
     "name": "stderr",
     "output_type": "stream",
     "text": [
      "2019-12-01 18:28:47 LAPTOP-SDM3TI61 minerl.env.malmo.instance.42cbc8[24072] DEBUG [18:28:47] [Netty Server IO #1/INFO]: [STDOUT]: Equip message recieved\n"
     ]
    },
    {
     "name": "stdout",
     "output_type": "stream",
     "text": [
      "DEBUG:minerl.env.malmo.instance.42cbc8:[18:28:47] [Netty Server IO #1/INFO]: [STDOUT]: got harbar 0\n",
      "6.999999999999998"
     ]
    },
    {
     "name": "stderr",
     "output_type": "stream",
     "text": [
      "2019-12-01 18:28:47"
     ]
    },
    {
     "name": "stdout",
     "output_type": "stream",
     "text": [
      "\n"
     ]
    },
    {
     "name": "stderr",
     "output_type": "stream",
     "text": [
      " LAPTOP-SDM3TI61 minerl.env.malmo.instance.42cbc8[24072]"
     ]
    },
    {
     "name": "stdout",
     "output_type": "stream",
     "text": [
      "step = "
     ]
    },
    {
     "name": "stderr",
     "output_type": "stream",
     "text": [
      " "
     ]
    },
    {
     "name": "stdout",
     "output_type": "stream",
     "text": [
      " 334"
     ]
    },
    {
     "name": "stderr",
     "output_type": "stream",
     "text": [
      "DEBUG "
     ]
    },
    {
     "name": "stdout",
     "output_type": "stream",
     "text": [
      "\n"
     ]
    },
    {
     "name": "stderr",
     "output_type": "stream",
     "text": [
      "[18:28:47] [Netty Server IO #1/INFO]: [STDOUT]: got harbar 0\n"
     ]
    },
    {
     "name": "stdout",
     "output_type": "stream",
     "text": [
      "DEBUG:minerl.env.malmo.instance.42cbc8:[18:28:47] [Netty Server IO #1/INFO]: [STDOUT]: got slot 0\r\n"
     ]
    },
    {
     "name": "stderr",
     "output_type": "stream",
     "text": [
      "2019-12-01 18:28:47 LAPTOP-SDM3TI61 minerl.env.malmo.instance.42cbc8[24072] DEBUG [18:28:47] [Netty Server IO #1/INFO]: [STDOUT]: got slot 0\n"
     ]
    },
    {
     "name": "stdout",
     "output_type": "stream",
     "text": [
      "DEBUG:minerl.env.malmo.instance.42cbc8:[18:28:47] [Client thread/INFO]: [CHAT] §l883...\r\n"
     ]
    },
    {
     "name": "stderr",
     "output_type": "stream",
     "text": [
      "2019-12-01 18:28:47 LAPTOP-SDM3TI61"
     ]
    },
    {
     "name": "stdout",
     "output_type": "stream",
     "text": [
      "6.999999999999998"
     ]
    },
    {
     "name": "stderr",
     "output_type": "stream",
     "text": [
      " "
     ]
    },
    {
     "name": "stdout",
     "output_type": "stream",
     "text": [
      "\n"
     ]
    },
    {
     "name": "stderr",
     "output_type": "stream",
     "text": [
      "minerl.env.malmo.instance.42cbc8[24072] DEBUG [18:28:47] [Client thread/INFO]: [CHAT] §l883...\r"
     ]
    },
    {
     "name": "stdout",
     "output_type": "stream",
     "text": [
      "step = "
     ]
    },
    {
     "name": "stderr",
     "output_type": "stream",
     "text": [
      "\n"
     ]
    },
    {
     "name": "stdout",
     "output_type": "stream",
     "text": [
      " 335DEBUG:minerl.env.malmo.instance.42cbc8:[18:28:47] [Netty Server IO #1/INFO]: [STDOUT]: Equip message recieved\n",
      "\n"
     ]
    },
    {
     "name": "stderr",
     "output_type": "stream",
     "text": [
      "2019-12-01 18:28:47 LAPTOP-SDM3TI61 minerl.env.malmo.instance.42cbc8[24072] DEBUG [18:28:47] [Netty Server IO #1/INFO]: [STDOUT]: Equip message recieved\n"
     ]
    },
    {
     "name": "stdout",
     "output_type": "stream",
     "text": [
      "DEBUG:minerl.env.malmo.instance.42cbc8:[18:28:47] [Netty Server IO #1/INFO]: [STDOUT]: got harbar 0\n",
      "6.999999999999998\n",
      "step =  336\n",
      "6.999999999999998\n",
      "step =  337\n",
      "6.999999999999998\n",
      "step =  338\n",
      "6.999999999999998\n",
      "step =  339\n"
     ]
    },
    {
     "name": "stderr",
     "output_type": "stream",
     "text": [
      "2019-12-01 18:28:48"
     ]
    },
    {
     "name": "stdout",
     "output_type": "stream",
     "text": [
      "6.999999999999998"
     ]
    },
    {
     "name": "stderr",
     "output_type": "stream",
     "text": [
      " "
     ]
    },
    {
     "name": "stdout",
     "output_type": "stream",
     "text": [
      "\n"
     ]
    },
    {
     "name": "stderr",
     "output_type": "stream",
     "text": [
      "LAPTOP-SDM3TI61 minerl.env.malmo.instance.42cbc8[24072] "
     ]
    },
    {
     "name": "stdout",
     "output_type": "stream",
     "text": [
      "step = "
     ]
    },
    {
     "name": "stderr",
     "output_type": "stream",
     "text": [
      "DEBUG"
     ]
    },
    {
     "name": "stdout",
     "output_type": "stream",
     "text": [
      " "
     ]
    },
    {
     "name": "stderr",
     "output_type": "stream",
     "text": [
      " "
     ]
    },
    {
     "name": "stdout",
     "output_type": "stream",
     "text": [
      "340"
     ]
    },
    {
     "name": "stderr",
     "output_type": "stream",
     "text": [
      "[18:28:47] [Netty Server IO #1/INFO]: [STDOUT]: got harbar 0\r"
     ]
    },
    {
     "name": "stdout",
     "output_type": "stream",
     "text": [
      "\n"
     ]
    },
    {
     "name": "stderr",
     "output_type": "stream",
     "text": [
      "\n"
     ]
    },
    {
     "name": "stdout",
     "output_type": "stream",
     "text": [
      "DEBUG:minerl.env.malmo.instance.42cbc8:[18:28:47] [Netty Server IO #1/INFO]: [STDOUT]: got slot 0\r\n"
     ]
    },
    {
     "name": "stderr",
     "output_type": "stream",
     "text": [
      "2019-12-01 18:28:48 LAPTOP-SDM3TI61 minerl.env.malmo.instance.42cbc8[24072] DEBUG [18:28:47] [Netty Server IO #1/INFO]: [STDOUT]: got slot 0\n"
     ]
    },
    {
     "name": "stdout",
     "output_type": "stream",
     "text": [
      "DEBUG:minerl.env.malmo.instance.42cbc8:[18:28:47] [Netty Server IO #1/INFO]: [STDOUT]: Equip message recieved\r\n"
     ]
    },
    {
     "name": "stderr",
     "output_type": "stream",
     "text": [
      "2019-12-01 18:28:48 LAPTOP-SDM3TI61 minerl.env.malmo.instance.42cbc8[24072] "
     ]
    },
    {
     "name": "stdout",
     "output_type": "stream",
     "text": [
      "6.999999999999998"
     ]
    },
    {
     "name": "stderr",
     "output_type": "stream",
     "text": [
      "DEBUG"
     ]
    },
    {
     "name": "stdout",
     "output_type": "stream",
     "text": [
      "\n"
     ]
    },
    {
     "name": "stderr",
     "output_type": "stream",
     "text": [
      " [18:28:47] [Netty Server IO #1/INFO]: [STDOUT]: Equip message recieved\n"
     ]
    },
    {
     "name": "stdout",
     "output_type": "stream",
     "text": [
      "DEBUG:minerl.env.malmo.instance.42cbc8:[18:28:47] [Netty Server IO #1/INFO]: [STDOUT]: got harbar 0\r\n"
     ]
    },
    {
     "name": "stderr",
     "output_type": "stream",
     "text": [
      "2019-12-01 18:28:48"
     ]
    },
    {
     "name": "stdout",
     "output_type": "stream",
     "text": [
      "step =  "
     ]
    },
    {
     "name": "stderr",
     "output_type": "stream",
     "text": [
      " "
     ]
    },
    {
     "name": "stdout",
     "output_type": "stream",
     "text": [
      "341"
     ]
    },
    {
     "name": "stderr",
     "output_type": "stream",
     "text": [
      "LAPTOP-SDM3TI61"
     ]
    },
    {
     "name": "stdout",
     "output_type": "stream",
     "text": [
      "\n"
     ]
    },
    {
     "name": "stderr",
     "output_type": "stream",
     "text": [
      " minerl.env.malmo.instance.42cbc8[24072] DEBUG [18:28:47] [Netty Server IO #1/INFO]: [STDOUT]: got harbar 0\n"
     ]
    },
    {
     "name": "stdout",
     "output_type": "stream",
     "text": [
      "DEBUG:minerl.env.malmo.instance.42cbc8:[18:28:47] [Netty Server IO #1/INFO]: [STDOUT]: got slot 0\r\n"
     ]
    },
    {
     "name": "stderr",
     "output_type": "stream",
     "text": [
      "2019-12-01 18:28:48 LAPTOP-SDM3TI61 minerl.env.malmo.instance.42cbc8[24072] DEBUG [18:28:47] [Netty Server IO #1/INFO]: [STDOUT]: got slot 0\n"
     ]
    },
    {
     "name": "stdout",
     "output_type": "stream",
     "text": [
      "DEBUG:minerl.env.malmo.instance.42cbc8:[18:28:48] [Netty Server IO #1/INFO]: [STDOUT]: Equip message recieved\r\n"
     ]
    },
    {
     "name": "stderr",
     "output_type": "stream",
     "text": [
      "2019-12-01 18:28:48 LAPTOP-SDM3TI61"
     ]
    },
    {
     "name": "stdout",
     "output_type": "stream",
     "text": [
      "6.999999999999998"
     ]
    },
    {
     "name": "stderr",
     "output_type": "stream",
     "text": [
      " "
     ]
    },
    {
     "name": "stdout",
     "output_type": "stream",
     "text": [
      "\n"
     ]
    },
    {
     "name": "stderr",
     "output_type": "stream",
     "text": [
      "minerl.env.malmo.instance.42cbc8[24072] DEBUG "
     ]
    },
    {
     "name": "stdout",
     "output_type": "stream",
     "text": [
      "step = "
     ]
    },
    {
     "name": "stderr",
     "output_type": "stream",
     "text": [
      "[18:28:48] [Netty Server IO #1/INFO]: [STDOUT]: Equip message recieved\r"
     ]
    },
    {
     "name": "stdout",
     "output_type": "stream",
     "text": [
      " "
     ]
    },
    {
     "name": "stderr",
     "output_type": "stream",
     "text": [
      "\n"
     ]
    },
    {
     "name": "stdout",
     "output_type": "stream",
     "text": [
      "342DEBUG:minerl.env.malmo.instance.42cbc8:[18:28:48] [Netty Server IO #1/INFO]: [STDOUT]: got harbar 0\n"
     ]
    },
    {
     "name": "stderr",
     "output_type": "stream",
     "text": [
      "2019-12-01 18:28:48"
     ]
    },
    {
     "name": "stdout",
     "output_type": "stream",
     "text": [
      "\n"
     ]
    },
    {
     "name": "stderr",
     "output_type": "stream",
     "text": [
      " LAPTOP-SDM3TI61 minerl.env.malmo.instance.42cbc8[24072] DEBUG [18:28:48] [Netty Server IO #1/INFO]: [STDOUT]: got harbar 0\n"
     ]
    },
    {
     "name": "stdout",
     "output_type": "stream",
     "text": [
      "DEBUG:minerl.env.malmo.instance.42cbc8:[18:28:48] [Netty Server IO #1/INFO]: [STDOUT]: got slot 0\r\n"
     ]
    },
    {
     "name": "stderr",
     "output_type": "stream",
     "text": [
      "2019-12-01 18:28:48 LAPTOP-SDM3TI61 minerl.env.malmo.instance.42cbc8[24072] DEBUG [18:28:48] [Netty Server IO #1/INFO]: [STDOUT]: got slot 0\n"
     ]
    },
    {
     "name": "stdout",
     "output_type": "stream",
     "text": [
      "6.999999999999998DEBUG:minerl.env.malmo.instance.42cbc8:[18:28:48] [Netty Server IO #1/INFO]: [STDOUT]: Equip message recieved\n",
      "\n"
     ]
    },
    {
     "name": "stderr",
     "output_type": "stream",
     "text": [
      "2019-12-01 18:28:48 LAPTOP-SDM3TI61 minerl.env.malmo.instance.42cbc8[24072]"
     ]
    },
    {
     "name": "stdout",
     "output_type": "stream",
     "text": [
      "step = "
     ]
    },
    {
     "name": "stderr",
     "output_type": "stream",
     "text": [
      " "
     ]
    },
    {
     "name": "stdout",
     "output_type": "stream",
     "text": [
      " "
     ]
    },
    {
     "name": "stderr",
     "output_type": "stream",
     "text": [
      "DEBUG"
     ]
    },
    {
     "name": "stdout",
     "output_type": "stream",
     "text": [
      "343"
     ]
    },
    {
     "name": "stderr",
     "output_type": "stream",
     "text": [
      " "
     ]
    },
    {
     "name": "stdout",
     "output_type": "stream",
     "text": [
      "\n"
     ]
    },
    {
     "name": "stderr",
     "output_type": "stream",
     "text": [
      "[18:28:48] [Netty Server IO #1/INFO]: [STDOUT]: Equip message recieved\n"
     ]
    },
    {
     "name": "stdout",
     "output_type": "stream",
     "text": [
      "DEBUG:minerl.env.malmo.instance.42cbc8:[18:28:48] [Netty Server IO #1/INFO]: [STDOUT]: got harbar 0\r\n"
     ]
    },
    {
     "name": "stderr",
     "output_type": "stream",
     "text": [
      "2019-12-01 18:28:48 LAPTOP-SDM3TI61 minerl.env.malmo.instance.42cbc8[24072] DEBUG [18:28:48] [Netty Server IO #1/INFO]: [STDOUT]: got harbar 0\n"
     ]
    },
    {
     "name": "stdout",
     "output_type": "stream",
     "text": [
      "DEBUG:minerl.env.malmo.instance.42cbc8:[18:28:48] [Netty Server IO #1/INFO]: [STDOUT]: got slot 0\r\n"
     ]
    },
    {
     "name": "stderr",
     "output_type": "stream",
     "text": [
      "2019-12-01 18:28:48 LAPTOP-SDM3TI61 minerl.env.malmo.instance.42cbc8[24072]"
     ]
    },
    {
     "name": "stdout",
     "output_type": "stream",
     "text": [
      "6.999999999999998"
     ]
    },
    {
     "name": "stderr",
     "output_type": "stream",
     "text": [
      " "
     ]
    },
    {
     "name": "stdout",
     "output_type": "stream",
     "text": [
      "\n"
     ]
    },
    {
     "name": "stderr",
     "output_type": "stream",
     "text": [
      "DEBUG [18:28:48] [Netty Server IO #1/INFO]: [STDOUT]: got slot 0\n"
     ]
    },
    {
     "name": "stdout",
     "output_type": "stream",
     "text": [
      "step =  DEBUG:minerl.env.malmo.instance.42cbc8:[18:28:48] [Netty Server IO #1/INFO]: [STDOUT]: Equip message recieved\n",
      "344"
     ]
    },
    {
     "name": "stderr",
     "output_type": "stream",
     "text": [
      "2019-12-01 18:28:48 "
     ]
    },
    {
     "name": "stdout",
     "output_type": "stream",
     "text": [
      "\n"
     ]
    },
    {
     "name": "stderr",
     "output_type": "stream",
     "text": [
      "LAPTOP-SDM3TI61 minerl.env.malmo.instance.42cbc8[24072] DEBUG [18:28:48] [Netty Server IO #1/INFO]: [STDOUT]: Equip message recieved\n"
     ]
    },
    {
     "name": "stdout",
     "output_type": "stream",
     "text": [
      "DEBUG:minerl.env.malmo.instance.42cbc8:[18:28:48] [Netty Server IO #1/INFO]: [STDOUT]: got harbar 0\r\n"
     ]
    },
    {
     "name": "stderr",
     "output_type": "stream",
     "text": [
      "2019-12-01 18:28:48 LAPTOP-SDM3TI61 minerl.env.malmo.instance.42cbc8[24072] DEBUG [18:28:48] [Netty Server IO #1/INFO]: [STDOUT]: got harbar 0\n"
     ]
    },
    {
     "name": "stdout",
     "output_type": "stream",
     "text": [
      "DEBUG:minerl.env.malmo.instance.42cbc8:[18:28:48] [Netty Server IO #1/INFO]: [STDOUT]: got slot 0\r\n"
     ]
    },
    {
     "name": "stderr",
     "output_type": "stream",
     "text": [
      "2019-12-01 18:28:48 LAPTOP-SDM3TI61 minerl.env.malmo.instance.42cbc8[24072] DEBUG [18:28:48] [Netty Server IO #1/INFO]: [STDOUT]: got slot 0\n"
     ]
    },
    {
     "name": "stdout",
     "output_type": "stream",
     "text": [
      "DEBUG:minerl.env.malmo.instance.42cbc8:[18:28:48] [Netty Server IO #1/INFO]: [STDOUT]: Equip message recieved\r\n"
     ]
    },
    {
     "name": "stderr",
     "output_type": "stream",
     "text": [
      "2019-12-01 18:28:48 LAPTOP-SDM3TI61 minerl.env.malmo.instance.42cbc8[24072] DEBUG [18:28:48] [Netty Server IO #1/INFO]: [STDOUT]: Equip message recieved\n"
     ]
    },
    {
     "name": "stdout",
     "output_type": "stream",
     "text": [
      "6.999999999999998\n",
      "step =  345\n",
      "6.999999999999998\n",
      "step =  346\n",
      "6.999999999999998\n",
      "step =  347\n",
      "6.999999999999998\n",
      "step =  348\n",
      "DEBUG:minerl.env.malmo.instance.42cbc8:[18:28:48] [Netty Server IO #1/INFO]: [STDOUT]: got harbar 0\n"
     ]
    },
    {
     "name": "stderr",
     "output_type": "stream",
     "text": [
      "2019-12-01 18:28:48 LAPTOP-SDM3TI61 minerl.env.malmo.instance.42cbc8[24072] DEBUG [18:28:48] [Netty Server IO #1/INFO]: [STDOUT]: got harbar 0\n"
     ]
    },
    {
     "name": "stdout",
     "output_type": "stream",
     "text": [
      "DEBUG:minerl.env.malmo.instance.42cbc8:[18:28:48] [Netty Server IO #1/INFO]: [STDOUT]: got slot 0\r\n"
     ]
    },
    {
     "name": "stderr",
     "output_type": "stream",
     "text": [
      "2019-12-01 18:28:48 LAPTOP-SDM3TI61 minerl.env.malmo.instance.42cbc8[24072]"
     ]
    },
    {
     "name": "stdout",
     "output_type": "stream",
     "text": [
      "6.999999999999998"
     ]
    },
    {
     "name": "stderr",
     "output_type": "stream",
     "text": [
      " "
     ]
    },
    {
     "name": "stdout",
     "output_type": "stream",
     "text": [
      "\n"
     ]
    },
    {
     "name": "stderr",
     "output_type": "stream",
     "text": [
      "DEBUG [18:28:48] [Netty Server IO #1/INFO]: [STDOUT]: got slot 0\n"
     ]
    },
    {
     "name": "stdout",
     "output_type": "stream",
     "text": [
      "step =  DEBUG:minerl.env.malmo.instance.42cbc8:[18:28:48] [Netty Server IO #1/INFO]: [STDOUT]: Equip message recieved\n",
      "349"
     ]
    },
    {
     "name": "stderr",
     "output_type": "stream",
     "text": [
      "2019-12-01 18:28:48"
     ]
    },
    {
     "name": "stdout",
     "output_type": "stream",
     "text": [
      "\n"
     ]
    },
    {
     "name": "stderr",
     "output_type": "stream",
     "text": [
      " LAPTOP-SDM3TI61 minerl.env.malmo.instance.42cbc8[24072] DEBUG [18:28:48] [Netty Server IO #1/INFO]: [STDOUT]: Equip message recieved\n"
     ]
    },
    {
     "name": "stdout",
     "output_type": "stream",
     "text": [
      "DEBUG:minerl.env.malmo.instance.42cbc8:[18:28:48] [Netty Server IO #1/INFO]: [STDOUT]: got harbar 0\r\n"
     ]
    },
    {
     "name": "stderr",
     "output_type": "stream",
     "text": [
      "2019-12-01 18:28:48 LAPTOP-SDM3TI61 minerl.env.malmo.instance.42cbc8[24072] DEBUG [18:28:48] [Netty Server IO #1/INFO]: [STDOUT]: got harbar 0\n"
     ]
    },
    {
     "name": "stdout",
     "output_type": "stream",
     "text": [
      "DEBUG:minerl.env.malmo.instance.42cbc8:[18:28:48] [Netty Server IO #1/INFO]: [STDOUT]: got slot 0\r\n"
     ]
    },
    {
     "name": "stderr",
     "output_type": "stream",
     "text": [
      "2019-12-01 18:28:48 LAPTOP-SDM3TI61 minerl.env.malmo.instance.42cbc8[24072] DEBUG [18:28:48] [Netty Server IO #1/INFO]: [STDOUT]: got slot 0\n"
     ]
    },
    {
     "name": "stdout",
     "output_type": "stream",
     "text": [
      "DEBUG:minerl.env.malmo.instance.42cbc8:[18:28:48] [Netty Server IO #1/INFO]: [STDOUT]: Equip message recieved\r\n"
     ]
    },
    {
     "name": "stderr",
     "output_type": "stream",
     "text": [
      "2019-12-01 18:28:48"
     ]
    },
    {
     "name": "stdout",
     "output_type": "stream",
     "text": [
      "6.999999999999998"
     ]
    },
    {
     "name": "stderr",
     "output_type": "stream",
     "text": [
      " "
     ]
    },
    {
     "name": "stdout",
     "output_type": "stream",
     "text": [
      "\n"
     ]
    },
    {
     "name": "stderr",
     "output_type": "stream",
     "text": [
      "LAPTOP-SDM3TI61 minerl.env.malmo.instance.42cbc8[24072] "
     ]
    },
    {
     "name": "stdout",
     "output_type": "stream",
     "text": [
      "step = "
     ]
    },
    {
     "name": "stderr",
     "output_type": "stream",
     "text": [
      "DEBUG"
     ]
    },
    {
     "name": "stdout",
     "output_type": "stream",
     "text": [
      " "
     ]
    },
    {
     "name": "stderr",
     "output_type": "stream",
     "text": [
      " "
     ]
    },
    {
     "name": "stdout",
     "output_type": "stream",
     "text": [
      "350\n"
     ]
    },
    {
     "name": "stderr",
     "output_type": "stream",
     "text": [
      "[18:28:48] [Netty Server IO #1/INFO]: [STDOUT]: Equip message recieved\n"
     ]
    },
    {
     "name": "stdout",
     "output_type": "stream",
     "text": [
      "DEBUG:minerl.env.malmo.instance.42cbc8:[18:28:48] [Netty Server IO #1/INFO]: [STDOUT]: got harbar 0\r\n"
     ]
    },
    {
     "name": "stderr",
     "output_type": "stream",
     "text": [
      "2019-12-01 18:28:48 LAPTOP-SDM3TI61 minerl.env.malmo.instance.42cbc8[24072] DEBUG [18:28:48] [Netty Server IO #1/INFO]: [STDOUT]: got harbar 0\n"
     ]
    },
    {
     "name": "stdout",
     "output_type": "stream",
     "text": [
      "DEBUG:minerl.env.malmo.instance.42cbc8:[18:28:48] [Netty Server IO #1/INFO]: [STDOUT]: got slot 0\r\n"
     ]
    },
    {
     "name": "stderr",
     "output_type": "stream",
     "text": [
      "2019-12-01 18:28:48 LAPTOP-SDM3TI61 minerl.env.malmo.instance.42cbc8[24072] "
     ]
    },
    {
     "name": "stdout",
     "output_type": "stream",
     "text": [
      "6.999999999999998"
     ]
    },
    {
     "name": "stderr",
     "output_type": "stream",
     "text": [
      "DEBUG"
     ]
    },
    {
     "name": "stdout",
     "output_type": "stream",
     "text": [
      "\n"
     ]
    },
    {
     "name": "stderr",
     "output_type": "stream",
     "text": [
      " [18:28:48] [Netty Server IO #1/INFO]: [STDOUT]: got slot 0\n"
     ]
    },
    {
     "name": "stdout",
     "output_type": "stream",
     "text": [
      "DEBUG:minerl.env.malmo.instance.42cbc8:[18:28:48] [Client thread/INFO]: [CHAT] §l882...\n",
      "step = "
     ]
    },
    {
     "name": "stderr",
     "output_type": "stream",
     "text": [
      "2019-12-01 18:28:48"
     ]
    },
    {
     "name": "stdout",
     "output_type": "stream",
     "text": [
      " "
     ]
    },
    {
     "name": "stderr",
     "output_type": "stream",
     "text": [
      " LAPTOP-SDM3TI61"
     ]
    },
    {
     "name": "stdout",
     "output_type": "stream",
     "text": [
      "351\n"
     ]
    },
    {
     "name": "stderr",
     "output_type": "stream",
     "text": [
      " minerl.env.malmo.instance.42cbc8[24072] DEBUG [18:28:48] [Client thread/INFO]: [CHAT] §l882...\n"
     ]
    },
    {
     "name": "stdout",
     "output_type": "stream",
     "text": [
      "DEBUG:minerl.env.malmo.instance.42cbc8:[18:28:48] [Netty Server IO #1/INFO]: [STDOUT]: Equip message recieved\r\n"
     ]
    },
    {
     "name": "stderr",
     "output_type": "stream",
     "text": [
      "2019-12-01 18:28:48 LAPTOP-SDM3TI61 minerl.env.malmo.instance.42cbc8[24072] DEBUG [18:28:48] [Netty Server IO #1/INFO]: [STDOUT]: Equip message recieved\n"
     ]
    },
    {
     "name": "stdout",
     "output_type": "stream",
     "text": [
      "DEBUG:minerl.env.malmo.instance.42cbc8:[18:28:48] [Netty Server IO #1/INFO]: [STDOUT]: got harbar 0\r\n"
     ]
    },
    {
     "name": "stderr",
     "output_type": "stream",
     "text": [
      "2019-12-01 18:28:48"
     ]
    },
    {
     "name": "stdout",
     "output_type": "stream",
     "text": [
      "6.999999999999998"
     ]
    },
    {
     "name": "stderr",
     "output_type": "stream",
     "text": [
      " "
     ]
    },
    {
     "name": "stdout",
     "output_type": "stream",
     "text": [
      "\n"
     ]
    },
    {
     "name": "stderr",
     "output_type": "stream",
     "text": [
      "LAPTOP-SDM3TI61 minerl.env.malmo.instance.42cbc8[24072] DEBUG"
     ]
    },
    {
     "name": "stdout",
     "output_type": "stream",
     "text": [
      "step = "
     ]
    },
    {
     "name": "stderr",
     "output_type": "stream",
     "text": [
      " "
     ]
    },
    {
     "name": "stdout",
     "output_type": "stream",
     "text": [
      " "
     ]
    },
    {
     "name": "stderr",
     "output_type": "stream",
     "text": [
      "[18:28:48] [Netty Server IO #1/INFO]: [STDOUT]: got harbar 0\r"
     ]
    },
    {
     "name": "stdout",
     "output_type": "stream",
     "text": [
      "352"
     ]
    },
    {
     "name": "stderr",
     "output_type": "stream",
     "text": [
      "\n"
     ]
    },
    {
     "name": "stdout",
     "output_type": "stream",
     "text": [
      "\n",
      "DEBUG:minerl.env.malmo.instance.42cbc8:[18:28:48] [Netty Server IO #1/INFO]: [STDOUT]: got slot 0\n"
     ]
    },
    {
     "name": "stderr",
     "output_type": "stream",
     "text": [
      "2019-12-01 18:28:48 LAPTOP-SDM3TI61 minerl.env.malmo.instance.42cbc8[24072] DEBUG [18:28:48] [Netty Server IO #1/INFO]: [STDOUT]: got slot 0\n"
     ]
    },
    {
     "name": "stdout",
     "output_type": "stream",
     "text": [
      "6.999999999999998\n",
      "step =  353\n",
      "DEBUG:minerl.env.malmo.instance.42cbc8:[18:28:48] [Netty Server IO #1/INFO]: [STDOUT]: Equip message recieved\n"
     ]
    },
    {
     "name": "stderr",
     "output_type": "stream",
     "text": [
      "2019-12-01 18:28:48 LAPTOP-SDM3TI61 minerl.env.malmo.instance.42cbc8[24072] DEBUG [18:28:48] [Netty Server IO #1/INFO]: [STDOUT]: Equip message recieved\n"
     ]
    },
    {
     "name": "stdout",
     "output_type": "stream",
     "text": [
      "DEBUG:minerl.env.malmo.instance.42cbc8:[18:28:48] [Netty Server IO #1/INFO]: [STDOUT]: got harbar 0\r\n"
     ]
    },
    {
     "name": "stderr",
     "output_type": "stream",
     "text": [
      "2019-12-01 18:28:48 LAPTOP-SDM3TI61 minerl.env.malmo.instance.42cbc8[24072] DEBUG [18:28:48] [Netty Server IO #1/INFO]: [STDOUT]: got harbar 0\r"
     ]
    },
    {
     "name": "stdout",
     "output_type": "stream",
     "text": [
      "6.999999999999998"
     ]
    },
    {
     "name": "stderr",
     "output_type": "stream",
     "text": [
      "\n"
     ]
    },
    {
     "name": "stdout",
     "output_type": "stream",
     "text": [
      "\n",
      "DEBUG:minerl.env.malmo.instance.42cbc8:[18:28:48] [Netty Server IO #1/INFO]: [STDOUT]: got slot 0\n"
     ]
    },
    {
     "name": "stderr",
     "output_type": "stream",
     "text": [
      "2019-12-01 18:28:48 "
     ]
    },
    {
     "name": "stdout",
     "output_type": "stream",
     "text": [
      "step = "
     ]
    },
    {
     "name": "stderr",
     "output_type": "stream",
     "text": [
      "LAPTOP-SDM3TI61"
     ]
    },
    {
     "name": "stdout",
     "output_type": "stream",
     "text": [
      " "
     ]
    },
    {
     "name": "stderr",
     "output_type": "stream",
     "text": [
      " "
     ]
    },
    {
     "name": "stdout",
     "output_type": "stream",
     "text": [
      "354"
     ]
    },
    {
     "name": "stderr",
     "output_type": "stream",
     "text": [
      "minerl.env.malmo.instance.42cbc8[24072]"
     ]
    },
    {
     "name": "stdout",
     "output_type": "stream",
     "text": [
      "\n"
     ]
    },
    {
     "name": "stderr",
     "output_type": "stream",
     "text": [
      " DEBUG [18:28:48] [Netty Server IO #1/INFO]: [STDOUT]: got slot 0\r"
     ]
    },
    {
     "name": "stdout",
     "output_type": "stream",
     "text": [
      "6.999999999999998\n",
      "step =  355\n",
      "6.999999999999998\n",
      "step =  356\n"
     ]
    },
    {
     "name": "stderr",
     "output_type": "stream",
     "text": [
      "\n"
     ]
    },
    {
     "name": "stdout",
     "output_type": "stream",
     "text": [
      "DEBUG:minerl.env.malmo.instance.42cbc8:[18:28:48] [Netty Server IO #1/INFO]: [STDOUT]: Equip message recieved\r\n"
     ]
    },
    {
     "name": "stderr",
     "output_type": "stream",
     "text": [
      "2019-12-01 18:28:48 LAPTOP-SDM3TI61 minerl.env.malmo.instance.42cbc8[24072] DEBUG [18:28:48] [Netty Server IO #1/INFO]: [STDOUT]: Equip message recieved\n"
     ]
    },
    {
     "name": "stdout",
     "output_type": "stream",
     "text": [
      "DEBUG:minerl.env.malmo.instance.42cbc8:[18:28:48] [Netty Server IO #1/INFO]: [STDOUT]: got harbar 0\r\n"
     ]
    },
    {
     "name": "stderr",
     "output_type": "stream",
     "text": [
      "2019-12-01 18:28:48 LAPTOP-SDM3TI61 "
     ]
    },
    {
     "name": "stdout",
     "output_type": "stream",
     "text": [
      "6.999999999999998"
     ]
    },
    {
     "name": "stderr",
     "output_type": "stream",
     "text": [
      "minerl.env.malmo.instance.42cbc8[24072]"
     ]
    },
    {
     "name": "stdout",
     "output_type": "stream",
     "text": [
      "\n"
     ]
    },
    {
     "name": "stderr",
     "output_type": "stream",
     "text": [
      " DEBUG "
     ]
    },
    {
     "name": "stdout",
     "output_type": "stream",
     "text": [
      "step = "
     ]
    },
    {
     "name": "stderr",
     "output_type": "stream",
     "text": [
      "[18:28:48] [Netty Server IO #1/INFO]: [STDOUT]: got harbar 0\r"
     ]
    },
    {
     "name": "stdout",
     "output_type": "stream",
     "text": [
      " "
     ]
    },
    {
     "name": "stderr",
     "output_type": "stream",
     "text": [
      "\n"
     ]
    },
    {
     "name": "stdout",
     "output_type": "stream",
     "text": [
      "357DEBUG:minerl.env.malmo.instance.42cbc8:[18:28:48] [Netty Server IO #1/INFO]: [STDOUT]: got slot 0\n",
      "\n"
     ]
    },
    {
     "name": "stderr",
     "output_type": "stream",
     "text": [
      "2019-12-01 18:28:48 LAPTOP-SDM3TI61 minerl.env.malmo.instance.42cbc8[24072] DEBUG [18:28:48] [Netty Server IO #1/INFO]: [STDOUT]: got slot 0\n"
     ]
    },
    {
     "name": "stdout",
     "output_type": "stream",
     "text": [
      "DEBUG:minerl.env.malmo.instance.42cbc8:[18:28:48] [Netty Server IO #1/INFO]: [STDOUT]: Equip message recieved\r\n"
     ]
    },
    {
     "name": "stderr",
     "output_type": "stream",
     "text": [
      "2019-12-01 18:28:48 LAPTOP-SDM3TI61 minerl.env.malmo.instance.42cbc8[24072] DEBUG"
     ]
    },
    {
     "name": "stdout",
     "output_type": "stream",
     "text": [
      "6.999999999999998"
     ]
    },
    {
     "name": "stderr",
     "output_type": "stream",
     "text": [
      " "
     ]
    },
    {
     "name": "stdout",
     "output_type": "stream",
     "text": [
      "\n"
     ]
    },
    {
     "name": "stderr",
     "output_type": "stream",
     "text": [
      "[18:28:48] [Netty Server IO #1/INFO]: [STDOUT]: Equip message recieved\n"
     ]
    },
    {
     "name": "stdout",
     "output_type": "stream",
     "text": [
      "DEBUG:minerl.env.malmo.instance.42cbc8:[18:28:48] [Netty Server IO #1/INFO]: [STDOUT]: got harbar 0\n",
      "step = "
     ]
    },
    {
     "name": "stderr",
     "output_type": "stream",
     "text": [
      "2019-12-01 18:28:48"
     ]
    },
    {
     "name": "stdout",
     "output_type": "stream",
     "text": [
      " "
     ]
    },
    {
     "name": "stderr",
     "output_type": "stream",
     "text": [
      " "
     ]
    },
    {
     "name": "stdout",
     "output_type": "stream",
     "text": [
      "358"
     ]
    },
    {
     "name": "stderr",
     "output_type": "stream",
     "text": [
      "LAPTOP-SDM3TI61"
     ]
    },
    {
     "name": "stdout",
     "output_type": "stream",
     "text": [
      "\n"
     ]
    },
    {
     "name": "stderr",
     "output_type": "stream",
     "text": [
      " minerl.env.malmo.instance.42cbc8[24072] DEBUG [18:28:48] [Netty Server IO #1/INFO]: [STDOUT]: got harbar 0\n"
     ]
    },
    {
     "name": "stdout",
     "output_type": "stream",
     "text": [
      "DEBUG:minerl.env.malmo.instance.42cbc8:[18:28:48] [Netty Server IO #1/INFO]: [STDOUT]: got slot 0\r\n"
     ]
    },
    {
     "name": "stderr",
     "output_type": "stream",
     "text": [
      "2019-12-01 18:28:48 LAPTOP-SDM3TI61 minerl.env.malmo.instance.42cbc8[24072] DEBUG [18:28:48] [Netty Server IO #1/INFO]: [STDOUT]: got slot 0\n"
     ]
    },
    {
     "name": "stdout",
     "output_type": "stream",
     "text": [
      "6.999999999999998\n",
      "step =  359\n",
      "DEBUG:minerl.env.malmo.instance.42cbc8:[18:28:48] [Netty Server IO #1/INFO]: [STDOUT]: Equip message recieved\n"
     ]
    },
    {
     "name": "stderr",
     "output_type": "stream",
     "text": [
      "2019-12-01 18:28:48 LAPTOP-SDM3TI61 minerl.env.malmo.instance.42cbc8[24072] DEBUG [18:28:48] [Netty Server IO #1/INFO]: [STDOUT]: Equip message recieved\n"
     ]
    },
    {
     "name": "stdout",
     "output_type": "stream",
     "text": [
      "DEBUG:minerl.env.malmo.instance.42cbc8:[18:28:48] [Netty Server IO #1/INFO]: [STDOUT]: got harbar 0\r\n"
     ]
    },
    {
     "name": "stderr",
     "output_type": "stream",
     "text": [
      "2019-12-01 18:28:48 LAPTOP-SDM3TI61 minerl.env.malmo.instance.42cbc8[24072] DEBUG [18:28:48] [Netty Server IO #1/INFO]: [STDOUT]: got harbar 0\n"
     ]
    },
    {
     "name": "stdout",
     "output_type": "stream",
     "text": [
      "DEBUG:minerl.env.malmo.instance.42cbc8:[18:28:48] [Netty Server IO #1/INFO]: [STDOUT]: got slot 0\r\n"
     ]
    },
    {
     "name": "stderr",
     "output_type": "stream",
     "text": [
      "2019-12-01 18:28:48 LAPTOP-SDM3TI61 minerl.env.malmo.instance.42cbc8[24072] DEBUG [18:28:48] [Netty Server IO #1/INFO]: [STDOUT]: got slot 0\n"
     ]
    },
    {
     "name": "stdout",
     "output_type": "stream",
     "text": [
      "6.999999999999998\n",
      "step =  360\n",
      "DEBUG:minerl.env.malmo.instance.42cbc8:[18:28:48] [Netty Server IO #1/INFO]: [STDOUT]: Equip message recieved\n"
     ]
    },
    {
     "name": "stderr",
     "output_type": "stream",
     "text": [
      "2019-12-01 18:28:48 LAPTOP-SDM3TI61 minerl.env.malmo.instance.42cbc8[24072] DEBUG [18:28:48] [Netty Server IO #1/INFO]: [STDOUT]: Equip message recieved\n"
     ]
    },
    {
     "name": "stdout",
     "output_type": "stream",
     "text": [
      "DEBUG:minerl.env.malmo.instance.42cbc8:[18:28:48] [Netty Server IO #1/INFO]: [STDOUT]: got harbar 0\r\n"
     ]
    },
    {
     "name": "stderr",
     "output_type": "stream",
     "text": [
      "2019-12-01 18:28:48 LAPTOP-SDM3TI61 minerl.env.malmo.instance.42cbc8[24072] DEBUG [18:28:48] [Netty Server IO #1/INFO]: [STDOUT]: got harbar 0\n"
     ]
    },
    {
     "name": "stdout",
     "output_type": "stream",
     "text": [
      "DEBUG:minerl.env.malmo.instance.42cbc8:[18:28:48] [Netty Server IO #1/INFO]: [STDOUT]: got slot 0\r\n"
     ]
    },
    {
     "name": "stderr",
     "output_type": "stream",
     "text": [
      "2019-12-01 18:28:48 LAPTOP-SDM3TI61"
     ]
    },
    {
     "name": "stdout",
     "output_type": "stream",
     "text": [
      "6.999999999999998"
     ]
    },
    {
     "name": "stderr",
     "output_type": "stream",
     "text": [
      " "
     ]
    },
    {
     "name": "stdout",
     "output_type": "stream",
     "text": [
      "\n"
     ]
    },
    {
     "name": "stderr",
     "output_type": "stream",
     "text": [
      "minerl.env.malmo.instance.42cbc8[24072] DEBUG "
     ]
    },
    {
     "name": "stdout",
     "output_type": "stream",
     "text": [
      "step = "
     ]
    },
    {
     "name": "stderr",
     "output_type": "stream",
     "text": [
      "[18:28:48] [Netty Server IO #1/INFO]: [STDOUT]: got slot 0\r"
     ]
    },
    {
     "name": "stdout",
     "output_type": "stream",
     "text": [
      " "
     ]
    },
    {
     "name": "stderr",
     "output_type": "stream",
     "text": [
      "\n"
     ]
    },
    {
     "name": "stdout",
     "output_type": "stream",
     "text": [
      "361\n",
      "6.999999999999998\n",
      "step =  362\n",
      "DEBUG:minerl.env.malmo.instance.42cbc8:[18:28:48] [Netty Server IO #1/INFO]: [STDOUT]: Equip message recieved\n"
     ]
    },
    {
     "name": "stderr",
     "output_type": "stream",
     "text": [
      "2019-12-01 18:28:48 LAPTOP-SDM3TI61 minerl.env.malmo.instance.42cbc8[24072] DEBUG [18:28:48] [Netty Server IO #1/INFO]: [STDOUT]: Equip message recieved\n"
     ]
    },
    {
     "name": "stdout",
     "output_type": "stream",
     "text": [
      "DEBUG:minerl.env.malmo.instance.42cbc8:[18:28:48] [Netty Server IO #1/INFO]: [STDOUT]: got harbar 0\r\n"
     ]
    },
    {
     "name": "stderr",
     "output_type": "stream",
     "text": [
      "2019-12-01 18:28:49 LAPTOP-SDM3TI61 minerl.env.malmo.instance.42cbc8[24072] DEBUG [18:28:48] [Netty Server IO #1/INFO]: [STDOUT]: got harbar 0\n"
     ]
    },
    {
     "name": "stdout",
     "output_type": "stream",
     "text": [
      "6.999999999999998\n",
      "DEBUG:minerl.env.malmo.instance.42cbc8:[18:28:48] [Netty Server IO #1/INFO]: [STDOUT]: got slot 0\n"
     ]
    },
    {
     "name": "stderr",
     "output_type": "stream",
     "text": [
      "2019-12-01 18:28:49 LAPTOP-SDM3TI61"
     ]
    },
    {
     "name": "stdout",
     "output_type": "stream",
     "text": [
      "step = "
     ]
    },
    {
     "name": "stderr",
     "output_type": "stream",
     "text": [
      " "
     ]
    },
    {
     "name": "stdout",
     "output_type": "stream",
     "text": [
      " "
     ]
    },
    {
     "name": "stderr",
     "output_type": "stream",
     "text": [
      "minerl.env.malmo.instance.42cbc8[24072]"
     ]
    },
    {
     "name": "stdout",
     "output_type": "stream",
     "text": [
      "363\n"
     ]
    },
    {
     "name": "stderr",
     "output_type": "stream",
     "text": [
      " DEBUG "
     ]
    },
    {
     "name": "stdout",
     "output_type": "stream",
     "text": [
      "6.999999999999998\n",
      "step =  364\n"
     ]
    },
    {
     "name": "stderr",
     "output_type": "stream",
     "text": [
      "[18:28:48] [Netty Server IO #1/INFO]: [STDOUT]: got slot 0\n"
     ]
    },
    {
     "name": "stdout",
     "output_type": "stream",
     "text": [
      "DEBUG:minerl.env.malmo.instance.42cbc8:[18:28:49] [Netty Server IO #1/INFO]: [STDOUT]: Equip message recieved\n",
      "6.999999999999998"
     ]
    },
    {
     "name": "stderr",
     "output_type": "stream",
     "text": [
      "2019-12-01 18:28:49"
     ]
    },
    {
     "name": "stdout",
     "output_type": "stream",
     "text": [
      "\n"
     ]
    },
    {
     "name": "stderr",
     "output_type": "stream",
     "text": [
      " LAPTOP-SDM3TI61 minerl.env.malmo.instance.42cbc8[24072] "
     ]
    },
    {
     "name": "stdout",
     "output_type": "stream",
     "text": [
      "step = "
     ]
    },
    {
     "name": "stderr",
     "output_type": "stream",
     "text": [
      "DEBUG"
     ]
    },
    {
     "name": "stdout",
     "output_type": "stream",
     "text": [
      " "
     ]
    },
    {
     "name": "stderr",
     "output_type": "stream",
     "text": [
      " "
     ]
    },
    {
     "name": "stdout",
     "output_type": "stream",
     "text": [
      "365"
     ]
    },
    {
     "name": "stderr",
     "output_type": "stream",
     "text": [
      "[18:28:49] [Netty Server IO #1/INFO]: [STDOUT]: Equip message recieved\r"
     ]
    },
    {
     "name": "stdout",
     "output_type": "stream",
     "text": [
      "\n"
     ]
    },
    {
     "name": "stderr",
     "output_type": "stream",
     "text": [
      "\n"
     ]
    },
    {
     "name": "stdout",
     "output_type": "stream",
     "text": [
      "DEBUG:minerl.env.malmo.instance.42cbc8:[18:28:49] [Netty Server IO #1/INFO]: [STDOUT]: got harbar 0\r\n"
     ]
    },
    {
     "name": "stderr",
     "output_type": "stream",
     "text": [
      "2019-12-01 18:28:49 LAPTOP-SDM3TI61 minerl.env.malmo.instance.42cbc8[24072] DEBUG [18:28:49] [Netty Server IO #1/INFO]: [STDOUT]: got harbar 0\n"
     ]
    },
    {
     "name": "stdout",
     "output_type": "stream",
     "text": [
      "DEBUG:minerl.env.malmo.instance.42cbc8:[18:28:49] [Netty Server IO #1/INFO]: [STDOUT]: got slot 0\r\n"
     ]
    },
    {
     "name": "stderr",
     "output_type": "stream",
     "text": [
      "2019-12-01 18:28:49 LAPTOP-SDM3TI61 minerl.env.malmo.instance.42cbc8[24072] DEBUG [18:28:49] [Netty Server IO #1/INFO]: [STDOUT]: got slot 0\n"
     ]
    },
    {
     "name": "stdout",
     "output_type": "stream",
     "text": [
      "DEBUG:minerl.env.malmo.instance.42cbc8:[18:28:49] [Netty Server IO #1/INFO]: [STDOUT]: Equip message recieved\r\n"
     ]
    },
    {
     "name": "stderr",
     "output_type": "stream",
     "text": [
      "2019-12-01 18:28:49 LAPTOP-SDM3TI61 minerl.env.malmo.instance.42cbc8[24072] DEBUG [18:28:49] [Netty Server IO #1/INFO]: [STDOUT]: Equip message recieved\n"
     ]
    },
    {
     "name": "stdout",
     "output_type": "stream",
     "text": [
      "DEBUG:minerl.env.malmo.instance.42cbc8:[18:28:49] [Netty Server IO #1/INFO]: [STDOUT]: got harbar 0\r\n"
     ]
    },
    {
     "name": "stderr",
     "output_type": "stream",
     "text": [
      "2019-12-01 18:28:49"
     ]
    },
    {
     "name": "stdout",
     "output_type": "stream",
     "text": [
      "6.999999999999998"
     ]
    },
    {
     "name": "stderr",
     "output_type": "stream",
     "text": [
      " "
     ]
    },
    {
     "name": "stdout",
     "output_type": "stream",
     "text": [
      "\n"
     ]
    },
    {
     "name": "stderr",
     "output_type": "stream",
     "text": [
      "LAPTOP-SDM3TI61 minerl.env.malmo.instance.42cbc8[24072] "
     ]
    },
    {
     "name": "stdout",
     "output_type": "stream",
     "text": [
      "step = "
     ]
    },
    {
     "name": "stderr",
     "output_type": "stream",
     "text": [
      "DEBUG"
     ]
    },
    {
     "name": "stdout",
     "output_type": "stream",
     "text": [
      " "
     ]
    },
    {
     "name": "stderr",
     "output_type": "stream",
     "text": [
      " "
     ]
    },
    {
     "name": "stdout",
     "output_type": "stream",
     "text": [
      "366"
     ]
    },
    {
     "name": "stderr",
     "output_type": "stream",
     "text": [
      "[18:28:49] [Netty Server IO #1/INFO]: [STDOUT]: got harbar 0\r"
     ]
    },
    {
     "name": "stdout",
     "output_type": "stream",
     "text": [
      "\n"
     ]
    },
    {
     "name": "stderr",
     "output_type": "stream",
     "text": [
      "\n"
     ]
    },
    {
     "name": "stdout",
     "output_type": "stream",
     "text": [
      "DEBUG:minerl.env.malmo.instance.42cbc8:[18:28:49] [Netty Server IO #1/INFO]: [STDOUT]: got slot 0\r\n"
     ]
    },
    {
     "name": "stderr",
     "output_type": "stream",
     "text": [
      "2019-12-01 18:28:49 LAPTOP-SDM3TI61 minerl.env.malmo.instance.42cbc8[24072] DEBUG [18:28:49] [Netty Server IO #1/INFO]: [STDOUT]: got slot 0\n"
     ]
    },
    {
     "name": "stdout",
     "output_type": "stream",
     "text": [
      "DEBUG:minerl.env.malmo.instance.42cbc8:[18:28:49] [Netty Server IO #1/INFO]: [STDOUT]: Equip message recieved\r\n"
     ]
    },
    {
     "name": "stderr",
     "output_type": "stream",
     "text": [
      "2019-12-01 18:28:49 LAPTOP-SDM3TI61 minerl.env.malmo.instance.42cbc8[24072] DEBUG [18:28:49] [Netty Server IO #1/INFO]: [STDOUT]: Equip message recieved\n"
     ]
    },
    {
     "name": "stdout",
     "output_type": "stream",
     "text": [
      "DEBUG:minerl.env.malmo.instance.42cbc8:[18:28:49] [Netty Server IO #1/INFO]: [STDOUT]: got harbar 0\r\n"
     ]
    },
    {
     "name": "stderr",
     "output_type": "stream",
     "text": [
      "2019-12-01 18:28:49 LAPTOP-SDM3TI61 "
     ]
    },
    {
     "name": "stdout",
     "output_type": "stream",
     "text": [
      "6.999999999999998"
     ]
    },
    {
     "name": "stderr",
     "output_type": "stream",
     "text": [
      "minerl.env.malmo.instance.42cbc8[24072] "
     ]
    },
    {
     "name": "stdout",
     "output_type": "stream",
     "text": [
      "\n"
     ]
    },
    {
     "name": "stderr",
     "output_type": "stream",
     "text": [
      "DEBUG [18:28:49] [Netty Server IO #1/INFO]: [STDOUT]: got harbar 0\n"
     ]
    },
    {
     "name": "stdout",
     "output_type": "stream",
     "text": [
      "DEBUG:minerl.env.malmo.instance.42cbc8:[18:28:49] [Netty Server IO #1/INFO]: [STDOUT]: got slot 0\r\n"
     ]
    },
    {
     "name": "stderr",
     "output_type": "stream",
     "text": [
      "2019-12-01 18:28:49"
     ]
    },
    {
     "name": "stdout",
     "output_type": "stream",
     "text": [
      "step = "
     ]
    },
    {
     "name": "stderr",
     "output_type": "stream",
     "text": [
      " "
     ]
    },
    {
     "name": "stdout",
     "output_type": "stream",
     "text": [
      " "
     ]
    },
    {
     "name": "stderr",
     "output_type": "stream",
     "text": [
      "LAPTOP-SDM3TI61"
     ]
    },
    {
     "name": "stdout",
     "output_type": "stream",
     "text": [
      "367\n"
     ]
    },
    {
     "name": "stderr",
     "output_type": "stream",
     "text": [
      " minerl.env.malmo.instance.42cbc8[24072] DEBUG [18:28:49] [Netty Server IO #1/INFO]: [STDOUT]: got slot 0\n"
     ]
    },
    {
     "name": "stdout",
     "output_type": "stream",
     "text": [
      "6.999999999999998\n",
      "step =  368\n",
      "DEBUG:minerl.env.malmo.instance.42cbc8:[18:28:49] [Client thread/INFO]: [CHAT] §l881...\n",
      "6.999999999999998"
     ]
    },
    {
     "name": "stderr",
     "output_type": "stream",
     "text": [
      "2019-12-01 18:28:49 "
     ]
    },
    {
     "name": "stdout",
     "output_type": "stream",
     "text": [
      "\n"
     ]
    },
    {
     "name": "stderr",
     "output_type": "stream",
     "text": [
      "LAPTOP-SDM3TI61 minerl.env.malmo.instance.42cbc8[24072] "
     ]
    },
    {
     "name": "stdout",
     "output_type": "stream",
     "text": [
      "step = "
     ]
    },
    {
     "name": "stderr",
     "output_type": "stream",
     "text": [
      "DEBUG"
     ]
    },
    {
     "name": "stdout",
     "output_type": "stream",
     "text": [
      " "
     ]
    },
    {
     "name": "stderr",
     "output_type": "stream",
     "text": [
      " "
     ]
    },
    {
     "name": "stdout",
     "output_type": "stream",
     "text": [
      "369"
     ]
    },
    {
     "name": "stderr",
     "output_type": "stream",
     "text": [
      "[18:28:49] [Client thread/INFO]: [CHAT] §l881...\r"
     ]
    },
    {
     "name": "stdout",
     "output_type": "stream",
     "text": [
      "\n"
     ]
    },
    {
     "name": "stderr",
     "output_type": "stream",
     "text": [
      "\n"
     ]
    },
    {
     "name": "stdout",
     "output_type": "stream",
     "text": [
      "DEBUG:minerl.env.malmo.instance.42cbc8:[18:28:49] [Netty Server IO #1/INFO]: [STDOUT]: Equip message recieved\r\n"
     ]
    },
    {
     "name": "stderr",
     "output_type": "stream",
     "text": [
      "2019-12-01 18:28:49 LAPTOP-SDM3TI61 minerl.env.malmo.instance.42cbc8[24072] DEBUG [18:28:49] [Netty Server IO #1/INFO]: [STDOUT]: Equip message recieved\n"
     ]
    },
    {
     "name": "stdout",
     "output_type": "stream",
     "text": [
      "DEBUG:minerl.env.malmo.instance.42cbc8:[18:28:49] [Netty Server IO #1/INFO]: [STDOUT]: got harbar 0\r\n"
     ]
    },
    {
     "name": "stderr",
     "output_type": "stream",
     "text": [
      "2019-12-01 18:28:49 LAPTOP-SDM3TI61 minerl.env.malmo.instance.42cbc8[24072] "
     ]
    },
    {
     "name": "stdout",
     "output_type": "stream",
     "text": [
      "7.299999999999998"
     ]
    },
    {
     "name": "stderr",
     "output_type": "stream",
     "text": [
      "DEBUG"
     ]
    },
    {
     "name": "stdout",
     "output_type": "stream",
     "text": [
      "\n"
     ]
    },
    {
     "name": "stderr",
     "output_type": "stream",
     "text": [
      " [18:28:49] [Netty Server IO #1/INFO]: [STDOUT]: got harbar 0\n"
     ]
    },
    {
     "name": "stdout",
     "output_type": "stream",
     "text": [
      "DEBUG:minerl.env.malmo.instance.42cbc8:[18:28:49] [Netty Server IO #1/INFO]: [STDOUT]: got slot 0\r\n"
     ]
    },
    {
     "name": "stderr",
     "output_type": "stream",
     "text": [
      "2019-12-01 18:28:49"
     ]
    },
    {
     "name": "stdout",
     "output_type": "stream",
     "text": [
      "step = "
     ]
    },
    {
     "name": "stderr",
     "output_type": "stream",
     "text": [
      " "
     ]
    },
    {
     "name": "stdout",
     "output_type": "stream",
     "text": [
      " "
     ]
    },
    {
     "name": "stderr",
     "output_type": "stream",
     "text": [
      "LAPTOP-SDM3TI61"
     ]
    },
    {
     "name": "stdout",
     "output_type": "stream",
     "text": [
      "370"
     ]
    },
    {
     "name": "stderr",
     "output_type": "stream",
     "text": [
      " minerl.env.malmo.instance.42cbc8[24072]"
     ]
    },
    {
     "name": "stdout",
     "output_type": "stream",
     "text": [
      "\n"
     ]
    },
    {
     "name": "stderr",
     "output_type": "stream",
     "text": [
      " DEBUG [18:28:49] [Netty Server IO #1/INFO]: [STDOUT]: got slot 0\n"
     ]
    },
    {
     "name": "stdout",
     "output_type": "stream",
     "text": [
      "DEBUG:minerl.env.malmo.instance.42cbc8:[18:28:49] [Netty Server IO #1/INFO]: [STDOUT]: Equip message recieved\r\n"
     ]
    },
    {
     "name": "stderr",
     "output_type": "stream",
     "text": [
      "2019-12-01 18:28:49 LAPTOP-SDM3TI61 minerl.env.malmo.instance.42cbc8[24072] DEBUG [18:28:49] [Netty Server IO #1/INFO]: [STDOUT]: Equip message recieved\n"
     ]
    },
    {
     "name": "stdout",
     "output_type": "stream",
     "text": [
      "DEBUG:minerl.env.malmo.instance.42cbc8:[18:28:49] [Netty Server IO #1/INFO]: [STDOUT]: got harbar 0\r\n"
     ]
    },
    {
     "name": "stderr",
     "output_type": "stream",
     "text": [
      "2019-12-01 18:28:49 LAPTOP-SDM3TI61 minerl.env.malmo.instance.42cbc8[24072] DEBUG "
     ]
    },
    {
     "name": "stdout",
     "output_type": "stream",
     "text": [
      "7.299999999999998\n",
      "step =  371\n",
      "7.299999999999998\n",
      "step =  372\n"
     ]
    },
    {
     "name": "stderr",
     "output_type": "stream",
     "text": [
      "[18:28:49] [Netty Server IO #1/INFO]: [STDOUT]: got harbar 0\n"
     ]
    },
    {
     "name": "stdout",
     "output_type": "stream",
     "text": [
      "DEBUG:minerl.env.malmo.instance.42cbc8:[18:28:49] [Netty Server IO #1/INFO]: [STDOUT]: got slot 0\r\n"
     ]
    },
    {
     "name": "stderr",
     "output_type": "stream",
     "text": [
      "2019-12-01 18:28:49 LAPTOP-SDM3TI61 minerl.env.malmo.instance.42cbc8[24072] DEBUG [18:28:49] [Netty Server IO #1/INFO]: [STDOUT]: got slot 0\n"
     ]
    },
    {
     "name": "stdout",
     "output_type": "stream",
     "text": [
      "DEBUG:minerl.env.malmo.instance.42cbc8:[18:28:49] [Netty Server IO #1/INFO]: [STDOUT]: Equip message recieved\n",
      "7.299999999999998"
     ]
    },
    {
     "name": "stderr",
     "output_type": "stream",
     "text": [
      "2019-12-01 18:28:49"
     ]
    },
    {
     "name": "stdout",
     "output_type": "stream",
     "text": [
      "\n"
     ]
    },
    {
     "name": "stderr",
     "output_type": "stream",
     "text": [
      " LAPTOP-SDM3TI61 minerl.env.malmo.instance.42cbc8[24072]"
     ]
    },
    {
     "name": "stdout",
     "output_type": "stream",
     "text": [
      "step = "
     ]
    },
    {
     "name": "stderr",
     "output_type": "stream",
     "text": [
      " "
     ]
    },
    {
     "name": "stdout",
     "output_type": "stream",
     "text": [
      " "
     ]
    },
    {
     "name": "stderr",
     "output_type": "stream",
     "text": [
      "DEBUG"
     ]
    },
    {
     "name": "stdout",
     "output_type": "stream",
     "text": [
      "373"
     ]
    },
    {
     "name": "stderr",
     "output_type": "stream",
     "text": [
      " "
     ]
    },
    {
     "name": "stdout",
     "output_type": "stream",
     "text": [
      "\n"
     ]
    },
    {
     "name": "stderr",
     "output_type": "stream",
     "text": [
      "[18:28:49] [Netty Server IO #1/INFO]: [STDOUT]: Equip message recieved\n"
     ]
    },
    {
     "name": "stdout",
     "output_type": "stream",
     "text": [
      "DEBUG:minerl.env.malmo.instance.42cbc8:[18:28:49] [Netty Server IO #1/INFO]: [STDOUT]: got harbar 0\r\n"
     ]
    },
    {
     "name": "stderr",
     "output_type": "stream",
     "text": [
      "2019-12-01 18:28:49 LAPTOP-SDM3TI61 minerl.env.malmo.instance.42cbc8[24072] DEBUG [18:28:49] [Netty Server IO #1/INFO]: [STDOUT]: got harbar 0\n"
     ]
    },
    {
     "name": "stdout",
     "output_type": "stream",
     "text": [
      "DEBUG:minerl.env.malmo.instance.42cbc8:[18:28:49] [Netty Server IO #1/INFO]: [STDOUT]: got slot 0\r\n"
     ]
    },
    {
     "name": "stderr",
     "output_type": "stream",
     "text": [
      "2019-12-01 18:28:49 LAPTOP-SDM3TI61 minerl.env.malmo.instance.42cbc8[24072] DEBUG "
     ]
    },
    {
     "name": "stdout",
     "output_type": "stream",
     "text": [
      "7.299999999999998"
     ]
    },
    {
     "name": "stderr",
     "output_type": "stream",
     "text": [
      "[18:28:49] [Netty Server IO #1/INFO]: [STDOUT]: got slot 0\r"
     ]
    },
    {
     "name": "stdout",
     "output_type": "stream",
     "text": [
      "\n"
     ]
    },
    {
     "name": "stderr",
     "output_type": "stream",
     "text": [
      "\n"
     ]
    },
    {
     "name": "stdout",
     "output_type": "stream",
     "text": [
      "DEBUG:minerl.env.malmo.instance.42cbc8:[18:28:49] [Netty Server IO #1/INFO]: [STDOUT]: Equip message recieved\r\n"
     ]
    },
    {
     "name": "stderr",
     "output_type": "stream",
     "text": [
      "2019-12-01 18:28:49"
     ]
    },
    {
     "name": "stdout",
     "output_type": "stream",
     "text": [
      "step = "
     ]
    },
    {
     "name": "stderr",
     "output_type": "stream",
     "text": [
      " "
     ]
    },
    {
     "name": "stdout",
     "output_type": "stream",
     "text": [
      " "
     ]
    },
    {
     "name": "stderr",
     "output_type": "stream",
     "text": [
      "LAPTOP-SDM3TI61 "
     ]
    },
    {
     "name": "stdout",
     "output_type": "stream",
     "text": [
      "374"
     ]
    },
    {
     "name": "stderr",
     "output_type": "stream",
     "text": [
      "minerl.env.malmo.instance.42cbc8[24072]"
     ]
    },
    {
     "name": "stdout",
     "output_type": "stream",
     "text": [
      "\n"
     ]
    },
    {
     "name": "stderr",
     "output_type": "stream",
     "text": [
      " DEBUG [18:28:49] [Netty Server IO #1/INFO]: [STDOUT]: Equip message recieved\n"
     ]
    },
    {
     "name": "stdout",
     "output_type": "stream",
     "text": [
      "DEBUG:minerl.env.malmo.instance.42cbc8:[18:28:49] [Netty Server IO #1/INFO]: [STDOUT]: got harbar 0\r\n"
     ]
    },
    {
     "name": "stderr",
     "output_type": "stream",
     "text": [
      "2019-12-01 18:28:49 LAPTOP-SDM3TI61 minerl.env.malmo.instance.42cbc8[24072] DEBUG [18:28:49] [Netty Server IO #1/INFO]: [STDOUT]: got harbar 0\n"
     ]
    },
    {
     "name": "stdout",
     "output_type": "stream",
     "text": [
      "DEBUG:minerl.env.malmo.instance.42cbc8:[18:28:49] [Netty Server IO #1/INFO]: [STDOUT]: got slot 0\r\n"
     ]
    },
    {
     "name": "stderr",
     "output_type": "stream",
     "text": [
      "2019-12-01 18:28:49 "
     ]
    },
    {
     "name": "stdout",
     "output_type": "stream",
     "text": [
      "7.299999999999998"
     ]
    },
    {
     "name": "stderr",
     "output_type": "stream",
     "text": [
      "LAPTOP-SDM3TI61 "
     ]
    },
    {
     "name": "stdout",
     "output_type": "stream",
     "text": [
      "\n"
     ]
    },
    {
     "name": "stderr",
     "output_type": "stream",
     "text": [
      "minerl.env.malmo.instance.42cbc8[24072] DEBUG"
     ]
    },
    {
     "name": "stdout",
     "output_type": "stream",
     "text": [
      "step = "
     ]
    },
    {
     "name": "stderr",
     "output_type": "stream",
     "text": [
      " "
     ]
    },
    {
     "name": "stdout",
     "output_type": "stream",
     "text": [
      " "
     ]
    },
    {
     "name": "stderr",
     "output_type": "stream",
     "text": [
      "[18:28:49] [Netty Server IO #1/INFO]: [STDOUT]: got slot 0\r"
     ]
    },
    {
     "name": "stdout",
     "output_type": "stream",
     "text": [
      "375"
     ]
    },
    {
     "name": "stderr",
     "output_type": "stream",
     "text": [
      "\n"
     ]
    },
    {
     "name": "stdout",
     "output_type": "stream",
     "text": [
      "\n",
      "DEBUG:minerl.env.malmo.instance.42cbc8:[18:28:49] [Netty Server IO #1/INFO]: [STDOUT]: Equip message recieved\n"
     ]
    },
    {
     "name": "stderr",
     "output_type": "stream",
     "text": [
      "2019-12-01 18:28:49 LAPTOP-SDM3TI61 minerl.env.malmo.instance.42cbc8[24072] DEBUG [18:28:49] [Netty Server IO #1/INFO]: [STDOUT]: Equip message recieved\n"
     ]
    },
    {
     "name": "stdout",
     "output_type": "stream",
     "text": [
      "DEBUG:minerl.env.malmo.instance.42cbc8:[18:28:49] [Netty Server IO #1/INFO]: [STDOUT]: got harbar 0\r\n"
     ]
    },
    {
     "name": "stderr",
     "output_type": "stream",
     "text": [
      "2019-12-01 18:28:49 LAPTOP-SDM3TI61 minerl.env.malmo.instance.42cbc8[24072] DEBUG [18:28:49] [Netty Server IO #1/INFO]: [STDOUT]: got harbar 0\n"
     ]
    },
    {
     "name": "stdout",
     "output_type": "stream",
     "text": [
      "DEBUG:minerl.env.malmo.instance.42cbc8:[18:28:49] [Netty Server IO #1/INFO]: [STDOUT]: got slot 0\r\n"
     ]
    },
    {
     "name": "stderr",
     "output_type": "stream",
     "text": [
      "2019-12-01 18:28:49 LAPTOP-SDM3TI61 minerl.env.malmo.instance.42cbc8[24072] DEBUG "
     ]
    },
    {
     "name": "stdout",
     "output_type": "stream",
     "text": [
      "7.299999999999998"
     ]
    },
    {
     "name": "stderr",
     "output_type": "stream",
     "text": [
      "[18:28:49] [Netty Server IO #1/INFO]: [STDOUT]: got slot 0\r"
     ]
    },
    {
     "name": "stdout",
     "output_type": "stream",
     "text": [
      "\n"
     ]
    },
    {
     "name": "stderr",
     "output_type": "stream",
     "text": [
      "\n"
     ]
    },
    {
     "name": "stdout",
     "output_type": "stream",
     "text": [
      "step =  376\n",
      "7.299999999999998\n",
      "step =  377\n",
      "7.299999999999998\n",
      "step =  378\n",
      "7.299999999999998\n",
      "step =  379\n",
      "7.299999999999998\n",
      "step =  380\n",
      "7.299999999999998\n",
      "step =  381\n",
      "7.299999999999998\n",
      "step =  382\n",
      "7.299999999999998\n",
      "step =  383\n",
      "DEBUG:minerl.env.malmo.instance.42cbc8:[18:28:49] [Netty Server IO #1/INFO]: [STDOUT]: Equip message recieved\n"
     ]
    },
    {
     "name": "stderr",
     "output_type": "stream",
     "text": [
      "2019-12-01 18:28:49 LAPTOP-SDM3TI61 minerl.env.malmo.instance.42cbc8[24072] DEBUG [18:28:49] [Netty Server IO #1/INFO]: [STDOUT]: Equip message recieved\n"
     ]
    },
    {
     "name": "stdout",
     "output_type": "stream",
     "text": [
      "DEBUG:minerl.env.malmo.instance.42cbc8:[18:28:49] [Netty Server IO #1/INFO]: [STDOUT]: got harbar 0\r\n"
     ]
    },
    {
     "name": "stderr",
     "output_type": "stream",
     "text": [
      "2019-12-01 18:28:49 LAPTOP-SDM3TI61 minerl.env.malmo.instance.42cbc8[24072] DEBUG [18:28:49] [Netty Server IO #1/INFO]: [STDOUT]: got harbar 0\n"
     ]
    },
    {
     "name": "stdout",
     "output_type": "stream",
     "text": [
      "DEBUG:minerl.env.malmo.instance.42cbc8:[18:28:49] [Netty Server IO #1/INFO]: [STDOUT]: got slot 0\r\n"
     ]
    },
    {
     "name": "stderr",
     "output_type": "stream",
     "text": [
      "2019-12-01 18:28:49"
     ]
    },
    {
     "name": "stdout",
     "output_type": "stream",
     "text": [
      "7.299999999999998\n"
     ]
    },
    {
     "name": "stderr",
     "output_type": "stream",
     "text": [
      " LAPTOP-SDM3TI61 minerl.env.malmo.instance.42cbc8[24072]"
     ]
    },
    {
     "name": "stdout",
     "output_type": "stream",
     "text": [
      "step = "
     ]
    },
    {
     "name": "stderr",
     "output_type": "stream",
     "text": [
      " "
     ]
    },
    {
     "name": "stdout",
     "output_type": "stream",
     "text": [
      " "
     ]
    },
    {
     "name": "stderr",
     "output_type": "stream",
     "text": [
      "DEBUG"
     ]
    },
    {
     "name": "stdout",
     "output_type": "stream",
     "text": [
      "384"
     ]
    },
    {
     "name": "stderr",
     "output_type": "stream",
     "text": [
      " "
     ]
    },
    {
     "name": "stdout",
     "output_type": "stream",
     "text": [
      "\n"
     ]
    },
    {
     "name": "stderr",
     "output_type": "stream",
     "text": [
      "[18:28:49] [Netty Server IO #1/INFO]: [STDOUT]: got slot 0\n"
     ]
    },
    {
     "name": "stdout",
     "output_type": "stream",
     "text": [
      "7.499999999999998\n",
      "step =  385\n",
      "DEBUG:minerl.env.malmo.instance.42cbc8:[18:28:49] [Netty Server IO #1/INFO]: [STDOUT]: Equip message recieved\n"
     ]
    },
    {
     "name": "stderr",
     "output_type": "stream",
     "text": [
      "2019-12-01 18:28:49 LAPTOP-SDM3TI61 minerl.env.malmo.instance.42cbc8[24072] DEBUG [18:28:49] [Netty Server IO #1/INFO]: [STDOUT]: Equip message recieved\n"
     ]
    },
    {
     "name": "stdout",
     "output_type": "stream",
     "text": [
      "DEBUG:minerl.env.malmo.instance.42cbc8:[18:28:49] [Netty Server IO #1/INFO]: [STDOUT]: got harbar 0\r\n"
     ]
    },
    {
     "name": "stderr",
     "output_type": "stream",
     "text": [
      "2019-12-01 18:28:49 LAPTOP-SDM3TI61 minerl.env.malmo.instance.42cbc8[24072] DEBUG [18:28:49] [Netty Server IO #1/INFO]: [STDOUT]: got harbar 0\n"
     ]
    },
    {
     "name": "stdout",
     "output_type": "stream",
     "text": [
      "DEBUG:minerl.env.malmo.instance.42cbc8:[18:28:49] [Netty Server IO #1/INFO]: [STDOUT]: got slot 0\r\n"
     ]
    },
    {
     "name": "stderr",
     "output_type": "stream",
     "text": [
      "2019-12-01 18:28:49"
     ]
    },
    {
     "name": "stdout",
     "output_type": "stream",
     "text": [
      "7.499999999999998"
     ]
    },
    {
     "name": "stderr",
     "output_type": "stream",
     "text": [
      " "
     ]
    },
    {
     "name": "stdout",
     "output_type": "stream",
     "text": [
      "\n"
     ]
    },
    {
     "name": "stderr",
     "output_type": "stream",
     "text": [
      "LAPTOP-SDM3TI61 minerl.env.malmo.instance.42cbc8[24072] "
     ]
    },
    {
     "name": "stdout",
     "output_type": "stream",
     "text": [
      "step = "
     ]
    },
    {
     "name": "stderr",
     "output_type": "stream",
     "text": [
      "DEBUG"
     ]
    },
    {
     "name": "stdout",
     "output_type": "stream",
     "text": [
      " "
     ]
    },
    {
     "name": "stderr",
     "output_type": "stream",
     "text": [
      " "
     ]
    },
    {
     "name": "stdout",
     "output_type": "stream",
     "text": [
      "386"
     ]
    },
    {
     "name": "stderr",
     "output_type": "stream",
     "text": [
      "[18:28:49] [Netty Server IO #1/INFO]: [STDOUT]: got slot 0\r"
     ]
    },
    {
     "name": "stdout",
     "output_type": "stream",
     "text": [
      "\n"
     ]
    },
    {
     "name": "stderr",
     "output_type": "stream",
     "text": [
      "\n"
     ]
    },
    {
     "name": "stdout",
     "output_type": "stream",
     "text": [
      "DEBUG:minerl.env.malmo.instance.42cbc8:[18:28:49] [Netty Server IO #1/INFO]: [STDOUT]: Equip message recieved\r\n"
     ]
    },
    {
     "name": "stderr",
     "output_type": "stream",
     "text": [
      "2019-12-01 18:28:49 LAPTOP-SDM3TI61 minerl.env.malmo.instance.42cbc8[24072] DEBUG [18:28:49] [Netty Server IO #1/INFO]: [STDOUT]: Equip message recieved\n"
     ]
    },
    {
     "name": "stdout",
     "output_type": "stream",
     "text": [
      "DEBUG:minerl.env.malmo.instance.42cbc8:[18:28:49] [Netty Server IO #1/INFO]: [STDOUT]: got harbar 0\r\n"
     ]
    },
    {
     "name": "stderr",
     "output_type": "stream",
     "text": [
      "2019-12-01 18:28:49 LAPTOP-SDM3TI61 "
     ]
    },
    {
     "name": "stdout",
     "output_type": "stream",
     "text": [
      "7.499999999999998"
     ]
    },
    {
     "name": "stderr",
     "output_type": "stream",
     "text": [
      "minerl.env.malmo.instance.42cbc8[24072]"
     ]
    },
    {
     "name": "stdout",
     "output_type": "stream",
     "text": [
      "\n"
     ]
    },
    {
     "name": "stderr",
     "output_type": "stream",
     "text": [
      " DEBUG [18:28:49] [Netty Server IO #1/INFO]: [STDOUT]: got harbar 0\r"
     ]
    },
    {
     "name": "stdout",
     "output_type": "stream",
     "text": [
      "step = "
     ]
    },
    {
     "name": "stderr",
     "output_type": "stream",
     "text": [
      "\n"
     ]
    },
    {
     "name": "stdout",
     "output_type": "stream",
     "text": [
      " 387DEBUG:minerl.env.malmo.instance.42cbc8:[18:28:49] [Netty Server IO #1/INFO]: [STDOUT]: got slot 0\n"
     ]
    },
    {
     "name": "stderr",
     "output_type": "stream",
     "text": [
      "2019-12-01 18:28:49"
     ]
    },
    {
     "name": "stdout",
     "output_type": "stream",
     "text": [
      "\n"
     ]
    },
    {
     "name": "stderr",
     "output_type": "stream",
     "text": [
      " LAPTOP-SDM3TI61 minerl.env.malmo.instance.42cbc8[24072] DEBUG [18:28:49] [Netty Server IO #1/INFO]: [STDOUT]: got slot 0\n"
     ]
    },
    {
     "name": "stdout",
     "output_type": "stream",
     "text": [
      "7.499999999999998\n",
      "step =  388\n",
      "DEBUG:minerl.env.malmo.instance.42cbc8:[18:28:49] [Client thread/INFO]: [CHAT] §l880...\n",
      "7.499999999999998"
     ]
    },
    {
     "name": "stderr",
     "output_type": "stream",
     "text": [
      "2019-12-01 18:28:49"
     ]
    },
    {
     "name": "stdout",
     "output_type": "stream",
     "text": [
      "\n"
     ]
    },
    {
     "name": "stderr",
     "output_type": "stream",
     "text": [
      " LAPTOP-SDM3TI61 minerl.env.malmo.instance.42cbc8[24072]"
     ]
    },
    {
     "name": "stdout",
     "output_type": "stream",
     "text": [
      "step = "
     ]
    },
    {
     "name": "stderr",
     "output_type": "stream",
     "text": [
      " "
     ]
    },
    {
     "name": "stdout",
     "output_type": "stream",
     "text": [
      " "
     ]
    },
    {
     "name": "stderr",
     "output_type": "stream",
     "text": [
      "DEBUG"
     ]
    },
    {
     "name": "stdout",
     "output_type": "stream",
     "text": [
      "389"
     ]
    },
    {
     "name": "stderr",
     "output_type": "stream",
     "text": [
      " "
     ]
    },
    {
     "name": "stdout",
     "output_type": "stream",
     "text": [
      "\n"
     ]
    },
    {
     "name": "stderr",
     "output_type": "stream",
     "text": [
      "[18:28:49] [Client thread/INFO]: [CHAT] §l880...\n"
     ]
    },
    {
     "name": "stdout",
     "output_type": "stream",
     "text": [
      "DEBUG:minerl.env.malmo.instance.42cbc8:[18:28:49] [Netty Server IO #1/INFO]: [STDOUT]: Equip message recieved\r\n"
     ]
    },
    {
     "name": "stderr",
     "output_type": "stream",
     "text": [
      "2019-12-01 18:28:49 LAPTOP-SDM3TI61 minerl.env.malmo.instance.42cbc8[24072] DEBUG [18:28:49] [Netty Server IO #1/INFO]: [STDOUT]: Equip message recieved\n"
     ]
    },
    {
     "name": "stdout",
     "output_type": "stream",
     "text": [
      "DEBUG:minerl.env.malmo.instance.42cbc8:[18:28:49] [Netty Server IO #1/INFO]: [STDOUT]: got harbar 0\r\n"
     ]
    },
    {
     "name": "stderr",
     "output_type": "stream",
     "text": [
      "2019-12-01 18:28:49 LAPTOP-SDM3TI61 "
     ]
    },
    {
     "name": "stdout",
     "output_type": "stream",
     "text": [
      "7.499999999999998"
     ]
    },
    {
     "name": "stderr",
     "output_type": "stream",
     "text": [
      "minerl.env.malmo.instance.42cbc8[24072]"
     ]
    },
    {
     "name": "stdout",
     "output_type": "stream",
     "text": [
      "\n"
     ]
    },
    {
     "name": "stderr",
     "output_type": "stream",
     "text": [
      " DEBUG [18:28:49] [Netty Server IO #1/INFO]: [STDOUT]: got harbar 0\r"
     ]
    },
    {
     "name": "stdout",
     "output_type": "stream",
     "text": [
      "step = "
     ]
    },
    {
     "name": "stderr",
     "output_type": "stream",
     "text": [
      "\n"
     ]
    },
    {
     "name": "stdout",
     "output_type": "stream",
     "text": [
      " 390DEBUG:minerl.env.malmo.instance.42cbc8:[18:28:49] [Netty Server IO #1/INFO]: [STDOUT]: got slot 0\n",
      "\n"
     ]
    },
    {
     "name": "stderr",
     "output_type": "stream",
     "text": [
      "2019-12-01 18:28:50 LAPTOP-SDM3TI61 minerl.env.malmo.instance.42cbc8[24072] DEBUG [18:28:49] [Netty Server IO #1/INFO]: [STDOUT]: got slot 0\n"
     ]
    },
    {
     "name": "stdout",
     "output_type": "stream",
     "text": [
      "DEBUG:minerl.env.malmo.instance.42cbc8:[18:28:50] [Netty Server IO #1/INFO]: [STDOUT]: Equip message recieved\r\n"
     ]
    },
    {
     "name": "stderr",
     "output_type": "stream",
     "text": [
      "2019-12-01 18:28:50 LAPTOP-SDM3TI61 minerl.env.malmo.instance.42cbc8[24072] DEBUG"
     ]
    },
    {
     "name": "stdout",
     "output_type": "stream",
     "text": [
      "7.499999999999998"
     ]
    },
    {
     "name": "stderr",
     "output_type": "stream",
     "text": [
      " "
     ]
    },
    {
     "name": "stdout",
     "output_type": "stream",
     "text": [
      "\n"
     ]
    },
    {
     "name": "stderr",
     "output_type": "stream",
     "text": [
      "[18:28:50] [Netty Server IO #1/INFO]: [STDOUT]: Equip message recieved\n"
     ]
    },
    {
     "name": "stdout",
     "output_type": "stream",
     "text": [
      "DEBUG:minerl.env.malmo.instance.42cbc8:[18:28:50] [Netty Server IO #1/INFO]: [STDOUT]: got harbar 0\r\n"
     ]
    },
    {
     "name": "stderr",
     "output_type": "stream",
     "text": [
      "2019-12-01 18:28:50"
     ]
    },
    {
     "name": "stdout",
     "output_type": "stream",
     "text": [
      "step = "
     ]
    },
    {
     "name": "stderr",
     "output_type": "stream",
     "text": [
      " "
     ]
    },
    {
     "name": "stdout",
     "output_type": "stream",
     "text": [
      " "
     ]
    },
    {
     "name": "stderr",
     "output_type": "stream",
     "text": [
      "LAPTOP-SDM3TI61"
     ]
    },
    {
     "name": "stdout",
     "output_type": "stream",
     "text": [
      "391"
     ]
    },
    {
     "name": "stderr",
     "output_type": "stream",
     "text": [
      " "
     ]
    },
    {
     "name": "stdout",
     "output_type": "stream",
     "text": [
      "\n"
     ]
    },
    {
     "name": "stderr",
     "output_type": "stream",
     "text": [
      "minerl.env.malmo.instance.42cbc8[24072] DEBUG [18:28:50] [Netty Server IO #1/INFO]: [STDOUT]: got harbar 0\n"
     ]
    },
    {
     "name": "stdout",
     "output_type": "stream",
     "text": [
      "DEBUG:minerl.env.malmo.instance.42cbc8:[18:28:50] [Netty Server IO #1/INFO]: [STDOUT]: got slot 0\r\n"
     ]
    },
    {
     "name": "stderr",
     "output_type": "stream",
     "text": [
      "2019-12-01 18:28:50 LAPTOP-SDM3TI61 minerl.env.malmo.instance.42cbc8[24072] DEBUG [18:28:50] [Netty Server IO #1/INFO]: [STDOUT]: got slot 0\n"
     ]
    },
    {
     "name": "stdout",
     "output_type": "stream",
     "text": [
      "7.499999999999998\n",
      "step =  392\n",
      "7.499999999999998\n",
      "step =  393\n",
      "7.499999999999998\n",
      "step =  394\n",
      "7.599999999999998\n",
      "step =  395\n",
      "DEBUG:minerl.env.malmo.instance.42cbc8:[18:28:50] [Netty Server IO #1/INFO]: [STDOUT]: Equip message recieved\n"
     ]
    },
    {
     "name": "stderr",
     "output_type": "stream",
     "text": [
      "2019-12-01 18:28:50 LAPTOP-SDM3TI61 minerl.env.malmo.instance.42cbc8[24072] DEBUG [18:28:50] [Netty Server IO #1/INFO]: [STDOUT]: Equip message recieved\n"
     ]
    },
    {
     "name": "stdout",
     "output_type": "stream",
     "text": [
      "DEBUG:minerl.env.malmo.instance.42cbc8:[18:28:50] [Netty Server IO #1/INFO]: [STDOUT]: got harbar 0\r\n"
     ]
    },
    {
     "name": "stderr",
     "output_type": "stream",
     "text": [
      "2019-12-01 18:28:50 LAPTOP-SDM3TI61 minerl.env.malmo.instance.42cbc8[24072] DEBUG "
     ]
    },
    {
     "name": "stdout",
     "output_type": "stream",
     "text": [
      "7.799999999999998"
     ]
    },
    {
     "name": "stderr",
     "output_type": "stream",
     "text": [
      "[18:28:50] [Netty Server IO #1/INFO]: [STDOUT]: got harbar 0\r"
     ]
    },
    {
     "name": "stdout",
     "output_type": "stream",
     "text": [
      "\n"
     ]
    },
    {
     "name": "stderr",
     "output_type": "stream",
     "text": [
      "\n"
     ]
    },
    {
     "name": "stdout",
     "output_type": "stream",
     "text": [
      "DEBUG:minerl.env.malmo.instance.42cbc8:[18:28:50] [Netty Server IO #1/INFO]: [STDOUT]: got slot 0\r\n"
     ]
    },
    {
     "name": "stderr",
     "output_type": "stream",
     "text": [
      "2019-12-01 18:28:50 "
     ]
    },
    {
     "name": "stdout",
     "output_type": "stream",
     "text": [
      "step =  "
     ]
    },
    {
     "name": "stderr",
     "output_type": "stream",
     "text": [
      "LAPTOP-SDM3TI61 "
     ]
    },
    {
     "name": "stdout",
     "output_type": "stream",
     "text": [
      "396\n"
     ]
    },
    {
     "name": "stderr",
     "output_type": "stream",
     "text": [
      "minerl.env.malmo.instance.42cbc8[24072] DEBUG [18:28:50] [Netty Server IO #1/INFO]: [STDOUT]: got slot 0\n"
     ]
    },
    {
     "name": "stdout",
     "output_type": "stream",
     "text": [
      "7.799999999999998\n",
      "step =  397\n",
      "DEBUG:minerl.env.malmo.instance.42cbc8:[18:28:50] [Netty Server IO #1/INFO]: [STDOUT]: Equip message recieved\n"
     ]
    },
    {
     "name": "stderr",
     "output_type": "stream",
     "text": [
      "2019-12-01 18:28:50 LAPTOP-SDM3TI61 minerl.env.malmo.instance.42cbc8[24072] DEBUG [18:28:50] [Netty Server IO #1/INFO]: [STDOUT]: Equip message recieved\n"
     ]
    },
    {
     "name": "stdout",
     "output_type": "stream",
     "text": [
      "DEBUG:minerl.env.malmo.instance.42cbc8:[18:28:50] [Netty Server IO #1/INFO]: [STDOUT]: got harbar 0\r\n"
     ]
    },
    {
     "name": "stderr",
     "output_type": "stream",
     "text": [
      "2019-12-01 18:28:50 LAPTOP-SDM3TI61 minerl.env.malmo.instance.42cbc8[24072] DEBUG [18:28:50] [Netty Server IO #1/INFO]: [STDOUT]: got harbar 0\r"
     ]
    },
    {
     "name": "stdout",
     "output_type": "stream",
     "text": [
      "7.799999999999998"
     ]
    },
    {
     "name": "stderr",
     "output_type": "stream",
     "text": [
      "\n"
     ]
    },
    {
     "name": "stdout",
     "output_type": "stream",
     "text": [
      "\n",
      "DEBUG:minerl.env.malmo.instance.42cbc8:[18:28:50] [Netty Server IO #1/INFO]: [STDOUT]: got slot 0\n"
     ]
    },
    {
     "name": "stderr",
     "output_type": "stream",
     "text": [
      "2019-12-01 18:28:50 "
     ]
    },
    {
     "name": "stdout",
     "output_type": "stream",
     "text": [
      "step = "
     ]
    },
    {
     "name": "stderr",
     "output_type": "stream",
     "text": [
      "LAPTOP-SDM3TI61"
     ]
    },
    {
     "name": "stdout",
     "output_type": "stream",
     "text": [
      " "
     ]
    },
    {
     "name": "stderr",
     "output_type": "stream",
     "text": [
      " "
     ]
    },
    {
     "name": "stdout",
     "output_type": "stream",
     "text": [
      "398"
     ]
    },
    {
     "name": "stderr",
     "output_type": "stream",
     "text": [
      "minerl.env.malmo.instance.42cbc8[24072]"
     ]
    },
    {
     "name": "stdout",
     "output_type": "stream",
     "text": [
      "\n"
     ]
    },
    {
     "name": "stderr",
     "output_type": "stream",
     "text": [
      " DEBUG [18:28:50] [Netty Server IO #1/INFO]: [STDOUT]: got slot 0\n"
     ]
    },
    {
     "name": "stdout",
     "output_type": "stream",
     "text": [
      "DEBUG:minerl.env.malmo.instance.42cbc8:[18:28:50] [Netty Server IO #1/INFO]: [STDOUT]: Equip message recieved\r\n"
     ]
    },
    {
     "name": "stderr",
     "output_type": "stream",
     "text": [
      "2019-12-01 18:28:50 LAPTOP-SDM3TI61 minerl.env.malmo.instance.42cbc8[24072] DEBUG [18:28:50] [Netty Server IO #1/INFO]: [STDOUT]: Equip message recieved\n"
     ]
    },
    {
     "name": "stdout",
     "output_type": "stream",
     "text": [
      "DEBUG:minerl.env.malmo.instance.42cbc8:[18:28:50] [Netty Server IO #1/INFO]: [STDOUT]: got harbar 0\r\n"
     ]
    },
    {
     "name": "stderr",
     "output_type": "stream",
     "text": [
      "2019-12-01 18:28:50 "
     ]
    },
    {
     "name": "stdout",
     "output_type": "stream",
     "text": [
      "7.799999999999998\n"
     ]
    },
    {
     "name": "stderr",
     "output_type": "stream",
     "text": [
      "LAPTOP-SDM3TI61 minerl.env.malmo.instance.42cbc8[24072] DEBUG"
     ]
    },
    {
     "name": "stdout",
     "output_type": "stream",
     "text": [
      "step =  "
     ]
    },
    {
     "name": "stderr",
     "output_type": "stream",
     "text": [
      " [18:28:50] [Netty Server IO #1/INFO]: [STDOUT]: got harbar 0\r"
     ]
    },
    {
     "name": "stdout",
     "output_type": "stream",
     "text": [
      "399"
     ]
    },
    {
     "name": "stderr",
     "output_type": "stream",
     "text": [
      "\n"
     ]
    },
    {
     "name": "stdout",
     "output_type": "stream",
     "text": [
      "\n",
      "DEBUG:minerl.env.malmo.instance.42cbc8:[18:28:50] [Netty Server IO #1/INFO]: [STDOUT]: got slot 0\n"
     ]
    },
    {
     "name": "stderr",
     "output_type": "stream",
     "text": [
      "2019-12-01 18:28:50 LAPTOP-SDM3TI61 minerl.env.malmo.instance.42cbc8[24072] DEBUG [18:28:50] [Netty Server IO #1/INFO]: [STDOUT]: got slot 0\n"
     ]
    },
    {
     "name": "stdout",
     "output_type": "stream",
     "text": [
      "7.799999999999998\n",
      "step =  400\n",
      "7.799999999999998\n",
      "step =  401\n",
      "7.799999999999998\n",
      "step =  402\n",
      "DEBUG:minerl.env.malmo.instance.42cbc8:[18:28:50] [Netty Server IO #1/INFO]: [STDOUT]: Equip message recieved\n"
     ]
    },
    {
     "name": "stderr",
     "output_type": "stream",
     "text": [
      "2019-12-01 18:28:50 LAPTOP-SDM3TI61 minerl.env.malmo.instance.42cbc8[24072] DEBUG [18:28:50] [Netty Server IO #1/INFO]: [STDOUT]: Equip message recieved\n"
     ]
    },
    {
     "name": "stdout",
     "output_type": "stream",
     "text": [
      "DEBUG:minerl.env.malmo.instance.42cbc8:[18:28:50] [Netty Server IO #1/INFO]: [STDOUT]: got harbar 0\r\n"
     ]
    },
    {
     "name": "stderr",
     "output_type": "stream",
     "text": [
      "2019-12-01 18:28:50 LAPTOP-SDM3TI61 minerl.env.malmo.instance.42cbc8[24072]"
     ]
    },
    {
     "name": "stdout",
     "output_type": "stream",
     "text": [
      "7.799999999999998"
     ]
    },
    {
     "name": "stderr",
     "output_type": "stream",
     "text": [
      " "
     ]
    },
    {
     "name": "stdout",
     "output_type": "stream",
     "text": [
      "\n"
     ]
    },
    {
     "name": "stderr",
     "output_type": "stream",
     "text": [
      "DEBUG [18:28:50] [Netty Server IO #1/INFO]: [STDOUT]: got harbar 0\n"
     ]
    },
    {
     "name": "stdout",
     "output_type": "stream",
     "text": [
      "step = DEBUG:minerl.env.malmo.instance.42cbc8:[18:28:50] [Netty Server IO #1/INFO]: [STDOUT]: got slot 0\n"
     ]
    },
    {
     "name": "stderr",
     "output_type": "stream",
     "text": [
      "2019-12-01 18:28:50"
     ]
    },
    {
     "name": "stdout",
     "output_type": "stream",
     "text": [
      " "
     ]
    },
    {
     "name": "stderr",
     "output_type": "stream",
     "text": [
      " "
     ]
    },
    {
     "name": "stdout",
     "output_type": "stream",
     "text": [
      "403"
     ]
    },
    {
     "name": "stderr",
     "output_type": "stream",
     "text": [
      "LAPTOP-SDM3TI61"
     ]
    },
    {
     "name": "stdout",
     "output_type": "stream",
     "text": [
      "\n"
     ]
    },
    {
     "name": "stderr",
     "output_type": "stream",
     "text": [
      " minerl.env.malmo.instance.42cbc8[24072] DEBUG [18:28:50] [Netty Server IO #1/INFO]: [STDOUT]: got slot 0\n"
     ]
    },
    {
     "name": "stdout",
     "output_type": "stream",
     "text": [
      "8.099999999999998\n",
      "step =  404\n",
      "DEBUG:minerl.env.malmo.instance.42cbc8:[18:28:50] [Netty Server IO #1/INFO]: [STDOUT]: Equip message recieved\n"
     ]
    },
    {
     "name": "stderr",
     "output_type": "stream",
     "text": [
      "2019-12-01 18:28:50 LAPTOP-SDM3TI61 minerl.env.malmo.instance.42cbc8[24072] DEBUG [18:28:50] [Netty Server IO #1/INFO]: [STDOUT]: Equip message recieved\n"
     ]
    },
    {
     "name": "stdout",
     "output_type": "stream",
     "text": [
      "DEBUG:minerl.env.malmo.instance.42cbc8:[18:28:50] [Netty Server IO #1/INFO]: [STDOUT]: got harbar 0\r\n"
     ]
    },
    {
     "name": "stderr",
     "output_type": "stream",
     "text": [
      "2019-12-01 18:28:50 LAPTOP-SDM3TI61 minerl.env.malmo.instance.42cbc8[24072] DEBUG [18:28:50] [Netty Server IO #1/INFO]: [STDOUT]: got harbar 0\r"
     ]
    },
    {
     "name": "stdout",
     "output_type": "stream",
     "text": [
      "8.099999999999998"
     ]
    },
    {
     "name": "stderr",
     "output_type": "stream",
     "text": [
      "\n"
     ]
    },
    {
     "name": "stdout",
     "output_type": "stream",
     "text": [
      "\n",
      "DEBUG:minerl.env.malmo.instance.42cbc8:[18:28:50] [Netty Server IO #1/INFO]: [STDOUT]: got slot 0\n"
     ]
    },
    {
     "name": "stderr",
     "output_type": "stream",
     "text": [
      "2019-12-01 18:28:50 LAPTOP-SDM3TI61"
     ]
    },
    {
     "name": "stdout",
     "output_type": "stream",
     "text": [
      "step = "
     ]
    },
    {
     "name": "stderr",
     "output_type": "stream",
     "text": [
      " "
     ]
    },
    {
     "name": "stdout",
     "output_type": "stream",
     "text": [
      " "
     ]
    },
    {
     "name": "stderr",
     "output_type": "stream",
     "text": [
      "minerl.env.malmo.instance.42cbc8[24072]"
     ]
    },
    {
     "name": "stdout",
     "output_type": "stream",
     "text": [
      "405"
     ]
    },
    {
     "name": "stderr",
     "output_type": "stream",
     "text": [
      " "
     ]
    },
    {
     "name": "stdout",
     "output_type": "stream",
     "text": [
      "\n"
     ]
    },
    {
     "name": "stderr",
     "output_type": "stream",
     "text": [
      "DEBUG [18:28:50] [Netty Server IO #1/INFO]: [STDOUT]: got slot 0\n"
     ]
    },
    {
     "name": "stdout",
     "output_type": "stream",
     "text": [
      "8.099999999999998\n",
      "step =  406\n",
      "DEBUG:minerl.env.malmo.instance.42cbc8:[18:28:50] [Netty Server IO #1/INFO]: [STDOUT]: Equip message recieved\n"
     ]
    },
    {
     "name": "stderr",
     "output_type": "stream",
     "text": [
      "2019-12-01 18:28:50 LAPTOP-SDM3TI61 minerl.env.malmo.instance.42cbc8[24072] DEBUG [18:28:50] [Netty Server IO #1/INFO]: [STDOUT]: Equip message recieved\n"
     ]
    },
    {
     "name": "stdout",
     "output_type": "stream",
     "text": [
      "DEBUG:minerl.env.malmo.instance.42cbc8:[18:28:50] [Netty Server IO #1/INFO]: [STDOUT]: got harbar 0\r\n"
     ]
    },
    {
     "name": "stderr",
     "output_type": "stream",
     "text": [
      "2019-12-01 18:28:50 LAPTOP-SDM3TI61 "
     ]
    },
    {
     "name": "stdout",
     "output_type": "stream",
     "text": [
      "8.099999999999998"
     ]
    },
    {
     "name": "stderr",
     "output_type": "stream",
     "text": [
      "minerl.env.malmo.instance.42cbc8[24072]"
     ]
    },
    {
     "name": "stdout",
     "output_type": "stream",
     "text": [
      "\n"
     ]
    },
    {
     "name": "stderr",
     "output_type": "stream",
     "text": [
      " DEBUG [18:28:50] [Netty Server IO #1/INFO]: [STDOUT]: got harbar 0\r"
     ]
    },
    {
     "name": "stdout",
     "output_type": "stream",
     "text": [
      "step = "
     ]
    },
    {
     "name": "stderr",
     "output_type": "stream",
     "text": [
      "\n"
     ]
    },
    {
     "name": "stdout",
     "output_type": "stream",
     "text": [
      " 407DEBUG:minerl.env.malmo.instance.42cbc8:[18:28:50] [Netty Server IO #1/INFO]: [STDOUT]: got slot 0\n"
     ]
    },
    {
     "name": "stderr",
     "output_type": "stream",
     "text": [
      "2019-12-01 18:28:50"
     ]
    },
    {
     "name": "stdout",
     "output_type": "stream",
     "text": [
      "\n"
     ]
    },
    {
     "name": "stderr",
     "output_type": "stream",
     "text": [
      " LAPTOP-SDM3TI61 minerl.env.malmo.instance.42cbc8[24072] DEBUG [18:28:50] [Netty Server IO #1/INFO]: [STDOUT]: got slot 0\n"
     ]
    },
    {
     "name": "stdout",
     "output_type": "stream",
     "text": [
      "8.099999999999998\n",
      "step =  408\n",
      "8.099999999999998DEBUG:minerl.env.malmo.instance.42cbc8:[18:28:50] [Client thread/INFO]: [CHAT] §l879...\n"
     ]
    },
    {
     "name": "stderr",
     "output_type": "stream",
     "text": [
      "2019-12-01 18:28:50"
     ]
    },
    {
     "name": "stdout",
     "output_type": "stream",
     "text": [
      "\n"
     ]
    },
    {
     "name": "stderr",
     "output_type": "stream",
     "text": [
      " LAPTOP-SDM3TI61 minerl.env.malmo.instance.42cbc8[24072]"
     ]
    },
    {
     "name": "stdout",
     "output_type": "stream",
     "text": [
      "step = "
     ]
    },
    {
     "name": "stderr",
     "output_type": "stream",
     "text": [
      " "
     ]
    },
    {
     "name": "stdout",
     "output_type": "stream",
     "text": [
      " "
     ]
    },
    {
     "name": "stderr",
     "output_type": "stream",
     "text": [
      "DEBUG"
     ]
    },
    {
     "name": "stdout",
     "output_type": "stream",
     "text": [
      "409"
     ]
    },
    {
     "name": "stderr",
     "output_type": "stream",
     "text": [
      " [18:28:50] [Client thread/INFO]: [CHAT] §l879...\r"
     ]
    },
    {
     "name": "stdout",
     "output_type": "stream",
     "text": [
      "\n"
     ]
    },
    {
     "name": "stderr",
     "output_type": "stream",
     "text": [
      "\n"
     ]
    },
    {
     "name": "stdout",
     "output_type": "stream",
     "text": [
      "DEBUG:minerl.env.malmo.instance.42cbc8:[18:28:50] [Netty Server IO #1/INFO]: [STDOUT]: Equip message recieved\r\n"
     ]
    },
    {
     "name": "stderr",
     "output_type": "stream",
     "text": [
      "2019-12-01 18:28:50 LAPTOP-SDM3TI61 minerl.env.malmo.instance.42cbc8[24072] DEBUG [18:28:50] [Netty Server IO #1/INFO]: [STDOUT]: Equip message recieved\n"
     ]
    },
    {
     "name": "stdout",
     "output_type": "stream",
     "text": [
      "DEBUG:minerl.env.malmo.instance.42cbc8:[18:28:50] [Netty Server IO #1/INFO]: [STDOUT]: got harbar 0\r\n"
     ]
    },
    {
     "name": "stderr",
     "output_type": "stream",
     "text": [
      "2019-12-01 18:28:50 LAPTOP-SDM3TI61 minerl.env.malmo.instance.42cbc8[24072] "
     ]
    },
    {
     "name": "stdout",
     "output_type": "stream",
     "text": [
      "8.099999999999998"
     ]
    },
    {
     "name": "stderr",
     "output_type": "stream",
     "text": [
      "DEBUG"
     ]
    },
    {
     "name": "stdout",
     "output_type": "stream",
     "text": [
      "\n"
     ]
    },
    {
     "name": "stderr",
     "output_type": "stream",
     "text": [
      " [18:28:50] [Netty Server IO #1/INFO]: [STDOUT]: got harbar 0\n"
     ]
    },
    {
     "name": "stdout",
     "output_type": "stream",
     "text": [
      "DEBUG:minerl.env.malmo.instance.42cbc8:[18:28:50] [Netty Server IO #1/INFO]: [STDOUT]: got slot 0\n",
      "step = "
     ]
    },
    {
     "name": "stderr",
     "output_type": "stream",
     "text": [
      "2019-12-01 18:28:50"
     ]
    },
    {
     "name": "stdout",
     "output_type": "stream",
     "text": [
      " "
     ]
    },
    {
     "name": "stderr",
     "output_type": "stream",
     "text": [
      " LAPTOP-SDM3TI61"
     ]
    },
    {
     "name": "stdout",
     "output_type": "stream",
     "text": [
      "410"
     ]
    },
    {
     "name": "stderr",
     "output_type": "stream",
     "text": [
      " "
     ]
    },
    {
     "name": "stdout",
     "output_type": "stream",
     "text": [
      "\n"
     ]
    },
    {
     "name": "stderr",
     "output_type": "stream",
     "text": [
      "minerl.env.malmo.instance.42cbc8[24072] DEBUG [18:28:50] [Netty Server IO #1/INFO]: [STDOUT]: got slot 0\n"
     ]
    },
    {
     "name": "stdout",
     "output_type": "stream",
     "text": [
      "DEBUG:minerl.env.malmo.instance.42cbc8:[18:28:50] [Netty Server IO #1/INFO]: [STDOUT]: Equip message recieved\r\n"
     ]
    },
    {
     "name": "stderr",
     "output_type": "stream",
     "text": [
      "2019-12-01 18:28:50 LAPTOP-SDM3TI61 minerl.env.malmo.instance.42cbc8[24072] DEBUG [18:28:50] [Netty Server IO #1/INFO]: [STDOUT]: Equip message recieved\n"
     ]
    },
    {
     "name": "stdout",
     "output_type": "stream",
     "text": [
      "DEBUG:minerl.env.malmo.instance.42cbc8:[18:28:50] [Netty Server IO #1/INFO]: [STDOUT]: got harbar 0\n",
      "8.099999999999998"
     ]
    },
    {
     "name": "stderr",
     "output_type": "stream",
     "text": [
      "2019-12-01 18:28:50"
     ]
    },
    {
     "name": "stdout",
     "output_type": "stream",
     "text": [
      "\n"
     ]
    },
    {
     "name": "stderr",
     "output_type": "stream",
     "text": [
      " LAPTOP-SDM3TI61 minerl.env.malmo.instance.42cbc8[24072]"
     ]
    },
    {
     "name": "stdout",
     "output_type": "stream",
     "text": [
      "step = "
     ]
    },
    {
     "name": "stderr",
     "output_type": "stream",
     "text": [
      " "
     ]
    },
    {
     "name": "stdout",
     "output_type": "stream",
     "text": [
      " "
     ]
    },
    {
     "name": "stderr",
     "output_type": "stream",
     "text": [
      "DEBUG"
     ]
    },
    {
     "name": "stdout",
     "output_type": "stream",
     "text": [
      "411"
     ]
    },
    {
     "name": "stderr",
     "output_type": "stream",
     "text": [
      " "
     ]
    },
    {
     "name": "stdout",
     "output_type": "stream",
     "text": [
      "\n"
     ]
    },
    {
     "name": "stderr",
     "output_type": "stream",
     "text": [
      "[18:28:50] [Netty Server IO #1/INFO]: [STDOUT]: got harbar 0\n"
     ]
    },
    {
     "name": "stdout",
     "output_type": "stream",
     "text": [
      "DEBUG:minerl.env.malmo.instance.42cbc8:[18:28:50] [Netty Server IO #1/INFO]: [STDOUT]: got slot 0\r\n"
     ]
    },
    {
     "name": "stderr",
     "output_type": "stream",
     "text": [
      "2019-12-01 18:28:50 LAPTOP-SDM3TI61 minerl.env.malmo.instance.42cbc8[24072] DEBUG [18:28:50] [Netty Server IO #1/INFO]: [STDOUT]: got slot 0\n"
     ]
    },
    {
     "name": "stdout",
     "output_type": "stream",
     "text": [
      "8.199999999999998\n",
      "step =  412\n",
      "DEBUG:minerl.env.malmo.instance.42cbc8:[18:28:50] [Netty Server IO #1/INFO]: [STDOUT]: Equip message recieved\n"
     ]
    },
    {
     "name": "stderr",
     "output_type": "stream",
     "text": [
      "2019-12-01 18:28:50 LAPTOP-SDM3TI61 minerl.env.malmo.instance.42cbc8[24072] DEBUG [18:28:50] [Netty Server IO #1/INFO]: [STDOUT]: Equip message recieved\n"
     ]
    },
    {
     "name": "stdout",
     "output_type": "stream",
     "text": [
      "DEBUG:minerl.env.malmo.instance.42cbc8:[18:28:50] [Netty Server IO #1/INFO]: [STDOUT]: got harbar 0\r\n"
     ]
    },
    {
     "name": "stderr",
     "output_type": "stream",
     "text": [
      "2019-12-01 18:28:50 LAPTOP-SDM3TI61 minerl.env.malmo.instance.42cbc8[24072] DEBUG"
     ]
    },
    {
     "name": "stdout",
     "output_type": "stream",
     "text": [
      "8.199999999999998"
     ]
    },
    {
     "name": "stderr",
     "output_type": "stream",
     "text": [
      " "
     ]
    },
    {
     "name": "stdout",
     "output_type": "stream",
     "text": [
      "\n"
     ]
    },
    {
     "name": "stderr",
     "output_type": "stream",
     "text": [
      "[18:28:50] [Netty Server IO #1/INFO]: [STDOUT]: got harbar 0\n"
     ]
    },
    {
     "name": "stdout",
     "output_type": "stream",
     "text": [
      "DEBUG:minerl.env.malmo.instance.42cbc8:[18:28:50] [Netty Server IO #1/INFO]: [STDOUT]: got slot 0\n",
      "step = "
     ]
    },
    {
     "name": "stderr",
     "output_type": "stream",
     "text": [
      "2019-12-01 18:28:50"
     ]
    },
    {
     "name": "stdout",
     "output_type": "stream",
     "text": [
      " "
     ]
    },
    {
     "name": "stderr",
     "output_type": "stream",
     "text": [
      " "
     ]
    },
    {
     "name": "stdout",
     "output_type": "stream",
     "text": [
      "413"
     ]
    },
    {
     "name": "stderr",
     "output_type": "stream",
     "text": [
      "LAPTOP-SDM3TI61"
     ]
    },
    {
     "name": "stdout",
     "output_type": "stream",
     "text": [
      "\n"
     ]
    },
    {
     "name": "stderr",
     "output_type": "stream",
     "text": [
      " minerl.env.malmo.instance.42cbc8[24072] DEBUG [18:28:50] [Netty Server IO #1/INFO]: [STDOUT]: got slot 0\n"
     ]
    },
    {
     "name": "stdout",
     "output_type": "stream",
     "text": [
      "8.199999999999998\n",
      "step =  414\n",
      "8.199999999999998\n",
      "step =  415\n",
      "8.199999999999998\n",
      "step =  416\n",
      "8.199999999999998\n",
      "step =  417\n",
      "DEBUG:minerl.env.malmo.instance.42cbc8:[18:28:50] [Netty Server IO #1/INFO]: [STDOUT]: Equip message recieved\n"
     ]
    },
    {
     "name": "stderr",
     "output_type": "stream",
     "text": [
      "2019-12-01 18:28:50 LAPTOP-SDM3TI61 minerl.env.malmo.instance.42cbc8[24072] DEBUG [18:28:50] [Netty Server IO #1/INFO]: [STDOUT]: Equip message recieved\n"
     ]
    },
    {
     "name": "stdout",
     "output_type": "stream",
     "text": [
      "DEBUG:minerl.env.malmo.instance.42cbc8:[18:28:50] [Netty Server IO #1/INFO]: [STDOUT]: got harbar 0\r\n"
     ]
    },
    {
     "name": "stderr",
     "output_type": "stream",
     "text": [
      "2019-12-01 18:28:50 LAPTOP-SDM3TI61 minerl.env.malmo.instance.42cbc8[24072] DEBUG"
     ]
    },
    {
     "name": "stdout",
     "output_type": "stream",
     "text": [
      "8.199999999999998"
     ]
    },
    {
     "name": "stderr",
     "output_type": "stream",
     "text": [
      " "
     ]
    },
    {
     "name": "stdout",
     "output_type": "stream",
     "text": [
      "\n"
     ]
    },
    {
     "name": "stderr",
     "output_type": "stream",
     "text": [
      "[18:28:50] [Netty Server IO #1/INFO]: [STDOUT]: got harbar 0\n"
     ]
    },
    {
     "name": "stdout",
     "output_type": "stream",
     "text": [
      "DEBUG:minerl.env.malmo.instance.42cbc8:[18:28:50] [Netty Server IO #1/INFO]: [STDOUT]: got slot 0\r\n"
     ]
    },
    {
     "name": "stderr",
     "output_type": "stream",
     "text": [
      "2019-12-01 18:28:50"
     ]
    },
    {
     "name": "stdout",
     "output_type": "stream",
     "text": [
      "step = "
     ]
    },
    {
     "name": "stderr",
     "output_type": "stream",
     "text": [
      " "
     ]
    },
    {
     "name": "stdout",
     "output_type": "stream",
     "text": [
      " "
     ]
    },
    {
     "name": "stderr",
     "output_type": "stream",
     "text": [
      "LAPTOP-SDM3TI61 "
     ]
    },
    {
     "name": "stdout",
     "output_type": "stream",
     "text": [
      "418"
     ]
    },
    {
     "name": "stderr",
     "output_type": "stream",
     "text": [
      "minerl.env.malmo.instance.42cbc8[24072]"
     ]
    },
    {
     "name": "stdout",
     "output_type": "stream",
     "text": [
      "\n"
     ]
    },
    {
     "name": "stderr",
     "output_type": "stream",
     "text": [
      " DEBUG [18:28:50] [Netty Server IO #1/INFO]: [STDOUT]: got slot 0\n"
     ]
    },
    {
     "name": "stdout",
     "output_type": "stream",
     "text": [
      "8.199999999999998\n",
      "step =  419\n",
      "8.199999999999998\n",
      "step =  420\n",
      "8.199999999999998\n",
      "step =  421\n",
      "DEBUG:minerl.env.malmo.instance.42cbc8:[18:28:51] [Netty Server IO #1/INFO]: [STDOUT]: Equip message recieved\n"
     ]
    },
    {
     "name": "stderr",
     "output_type": "stream",
     "text": [
      "2019-12-01 18:28:51 LAPTOP-SDM3TI61 minerl.env.malmo.instance.42cbc8[24072] DEBUG [18:28:51] [Netty Server IO #1/INFO]: [STDOUT]: Equip message recieved\n"
     ]
    },
    {
     "name": "stdout",
     "output_type": "stream",
     "text": [
      "DEBUG:minerl.env.malmo.instance.42cbc8:[18:28:51] [Netty Server IO #1/INFO]: [STDOUT]: got harbar 0\r\n"
     ]
    },
    {
     "name": "stderr",
     "output_type": "stream",
     "text": [
      "2019-12-01 18:28:51 LAPTOP-SDM3TI61 minerl.env.malmo.instance.42cbc8[24072] DEBUG [18:28:51] [Netty Server IO #1/INFO]: [STDOUT]: got harbar 0\n"
     ]
    },
    {
     "name": "stdout",
     "output_type": "stream",
     "text": [
      "DEBUG:minerl.env.malmo.instance.42cbc8:[18:28:51] [Netty Server IO #1/INFO]: [STDOUT]: got slot 0\r\n"
     ]
    },
    {
     "name": "stderr",
     "output_type": "stream",
     "text": [
      "2019-12-01 18:28:51"
     ]
    },
    {
     "name": "stdout",
     "output_type": "stream",
     "text": [
      "8.499999999999998"
     ]
    },
    {
     "name": "stderr",
     "output_type": "stream",
     "text": [
      " "
     ]
    },
    {
     "name": "stdout",
     "output_type": "stream",
     "text": [
      "\n"
     ]
    },
    {
     "name": "stderr",
     "output_type": "stream",
     "text": [
      "LAPTOP-SDM3TI61 minerl.env.malmo.instance.42cbc8[24072]"
     ]
    },
    {
     "name": "stdout",
     "output_type": "stream",
     "text": [
      "step = "
     ]
    },
    {
     "name": "stderr",
     "output_type": "stream",
     "text": [
      " "
     ]
    },
    {
     "name": "stdout",
     "output_type": "stream",
     "text": [
      " 422"
     ]
    },
    {
     "name": "stderr",
     "output_type": "stream",
     "text": [
      "DEBUG"
     ]
    },
    {
     "name": "stdout",
     "output_type": "stream",
     "text": [
      "\n"
     ]
    },
    {
     "name": "stderr",
     "output_type": "stream",
     "text": [
      " [18:28:51] [Netty Server IO #1/INFO]: [STDOUT]: got slot 0\n"
     ]
    },
    {
     "name": "stdout",
     "output_type": "stream",
     "text": [
      "DEBUG:minerl.env.malmo.instance.42cbc8:[18:28:51] [Netty Server IO #1/INFO]: [STDOUT]: Equip message recieved\r\n"
     ]
    },
    {
     "name": "stderr",
     "output_type": "stream",
     "text": [
      "2019-12-01 18:28:51 LAPTOP-SDM3TI61 minerl.env.malmo.instance.42cbc8[24072] DEBUG [18:28:51] [Netty Server IO #1/INFO]: [STDOUT]: Equip message recieved\n"
     ]
    },
    {
     "name": "stdout",
     "output_type": "stream",
     "text": [
      "DEBUG:minerl.env.malmo.instance.42cbc8:[18:28:51] [Netty Server IO #1/INFO]: [STDOUT]: got harbar 0\r\n"
     ]
    },
    {
     "name": "stderr",
     "output_type": "stream",
     "text": [
      "2019-12-01 18:28:51 LAPTOP-SDM3TI61 minerl.env.malmo.instance.42cbc8[24072]"
     ]
    },
    {
     "name": "stdout",
     "output_type": "stream",
     "text": [
      "8.499999999999998"
     ]
    },
    {
     "name": "stderr",
     "output_type": "stream",
     "text": [
      " "
     ]
    },
    {
     "name": "stdout",
     "output_type": "stream",
     "text": [
      "\n"
     ]
    },
    {
     "name": "stderr",
     "output_type": "stream",
     "text": [
      "DEBUG [18:28:51] [Netty Server IO #1/INFO]: [STDOUT]: got harbar 0\n"
     ]
    },
    {
     "name": "stdout",
     "output_type": "stream",
     "text": [
      "step = DEBUG:minerl.env.malmo.instance.42cbc8:[18:28:51] [Netty Server IO #1/INFO]: [STDOUT]: got slot 0\n",
      " "
     ]
    },
    {
     "name": "stderr",
     "output_type": "stream",
     "text": [
      "2019-12-01 18:28:51"
     ]
    },
    {
     "name": "stdout",
     "output_type": "stream",
     "text": [
      "423"
     ]
    },
    {
     "name": "stderr",
     "output_type": "stream",
     "text": [
      " "
     ]
    },
    {
     "name": "stdout",
     "output_type": "stream",
     "text": [
      "\n"
     ]
    },
    {
     "name": "stderr",
     "output_type": "stream",
     "text": [
      "LAPTOP-SDM3TI61 minerl.env.malmo.instance.42cbc8[24072] DEBUG [18:28:51] [Netty Server IO #1/INFO]: [STDOUT]: got slot 0\n"
     ]
    },
    {
     "name": "stdout",
     "output_type": "stream",
     "text": [
      "DEBUG:minerl.env.malmo.instance.42cbc8:[18:28:51] [Netty Server IO #1/INFO]: [STDOUT]: Equip message recieved\r\n"
     ]
    },
    {
     "name": "stderr",
     "output_type": "stream",
     "text": [
      "2019-12-01 18:28:51 LAPTOP-SDM3TI61 minerl.env.malmo.instance.42cbc8[24072] DEBUG [18:28:51] [Netty Server IO #1/INFO]: [STDOUT]: Equip message recieved\n"
     ]
    },
    {
     "name": "stdout",
     "output_type": "stream",
     "text": [
      "DEBUG:minerl.env.malmo.instance.42cbc8:[18:28:51] [Netty Server IO #1/INFO]: [STDOUT]: got harbar 0\r\n"
     ]
    },
    {
     "name": "stderr",
     "output_type": "stream",
     "text": [
      "2019-12-01 18:28:51"
     ]
    },
    {
     "name": "stdout",
     "output_type": "stream",
     "text": [
      "8.499999999999998"
     ]
    },
    {
     "name": "stderr",
     "output_type": "stream",
     "text": [
      " "
     ]
    },
    {
     "name": "stdout",
     "output_type": "stream",
     "text": [
      "\n"
     ]
    },
    {
     "name": "stderr",
     "output_type": "stream",
     "text": [
      "LAPTOP-SDM3TI61 minerl.env.malmo.instance.42cbc8[24072]"
     ]
    },
    {
     "name": "stdout",
     "output_type": "stream",
     "text": [
      "step = "
     ]
    },
    {
     "name": "stderr",
     "output_type": "stream",
     "text": [
      " "
     ]
    },
    {
     "name": "stdout",
     "output_type": "stream",
     "text": [
      " "
     ]
    },
    {
     "name": "stderr",
     "output_type": "stream",
     "text": [
      "DEBUG"
     ]
    },
    {
     "name": "stdout",
     "output_type": "stream",
     "text": [
      "424"
     ]
    },
    {
     "name": "stderr",
     "output_type": "stream",
     "text": [
      " "
     ]
    },
    {
     "name": "stdout",
     "output_type": "stream",
     "text": [
      "\n"
     ]
    },
    {
     "name": "stderr",
     "output_type": "stream",
     "text": [
      "[18:28:51] [Netty Server IO #1/INFO]: [STDOUT]: got harbar 0\n"
     ]
    },
    {
     "name": "stdout",
     "output_type": "stream",
     "text": [
      "DEBUG:minerl.env.malmo.instance.42cbc8:[18:28:51] [Netty Server IO #1/INFO]: [STDOUT]: got slot 0\r\n"
     ]
    },
    {
     "name": "stderr",
     "output_type": "stream",
     "text": [
      "2019-12-01 18:28:51 LAPTOP-SDM3TI61 minerl.env.malmo.instance.42cbc8[24072] DEBUG [18:28:51] [Netty Server IO #1/INFO]: [STDOUT]: got slot 0\n"
     ]
    },
    {
     "name": "stdout",
     "output_type": "stream",
     "text": [
      "8.499999999999998\n",
      "step =  425\n",
      "8.499999999999998\n",
      "step =  426\n",
      "DEBUG:minerl.env.malmo.instance.42cbc8:[18:28:51] [Netty Server IO #1/INFO]: [STDOUT]: Equip message recieved\n"
     ]
    },
    {
     "name": "stderr",
     "output_type": "stream",
     "text": [
      "2019-12-01 18:28:51 LAPTOP-SDM3TI61 minerl.env.malmo.instance.42cbc8[24072] DEBUG [18:28:51] [Netty Server IO #1/INFO]: [STDOUT]: Equip message recieved\n"
     ]
    },
    {
     "name": "stdout",
     "output_type": "stream",
     "text": [
      "DEBUG:minerl.env.malmo.instance.42cbc8:[18:28:51] [Netty Server IO #1/INFO]: [STDOUT]: got harbar 0\r\n"
     ]
    },
    {
     "name": "stderr",
     "output_type": "stream",
     "text": [
      "2019-12-01 18:28:51 LAPTOP-SDM3TI61 minerl.env.malmo.instance.42cbc8[24072] DEBUG [18:28:51] [Netty Server IO #1/INFO]: [STDOUT]: got harbar 0\n"
     ]
    },
    {
     "name": "stdout",
     "output_type": "stream",
     "text": [
      "DEBUG:minerl.env.malmo.instance.42cbc8:[18:28:51] [Netty Server IO #1/INFO]: [STDOUT]: got slot 0\r\n"
     ]
    },
    {
     "name": "stderr",
     "output_type": "stream",
     "text": [
      "2019-12-01 18:28:51"
     ]
    },
    {
     "name": "stdout",
     "output_type": "stream",
     "text": [
      "8.499999999999998"
     ]
    },
    {
     "name": "stderr",
     "output_type": "stream",
     "text": [
      " "
     ]
    },
    {
     "name": "stdout",
     "output_type": "stream",
     "text": [
      "\n"
     ]
    },
    {
     "name": "stderr",
     "output_type": "stream",
     "text": [
      "LAPTOP-SDM3TI61 minerl.env.malmo.instance.42cbc8[24072] DEBUG"
     ]
    },
    {
     "name": "stdout",
     "output_type": "stream",
     "text": [
      "step = "
     ]
    },
    {
     "name": "stderr",
     "output_type": "stream",
     "text": [
      " "
     ]
    },
    {
     "name": "stdout",
     "output_type": "stream",
     "text": [
      " "
     ]
    },
    {
     "name": "stderr",
     "output_type": "stream",
     "text": [
      "[18:28:51] [Netty Server IO #1/INFO]: [STDOUT]: got slot 0\r"
     ]
    },
    {
     "name": "stdout",
     "output_type": "stream",
     "text": [
      "427\n"
     ]
    },
    {
     "name": "stderr",
     "output_type": "stream",
     "text": [
      "\n"
     ]
    },
    {
     "name": "stdout",
     "output_type": "stream",
     "text": [
      "DEBUG:minerl.env.malmo.instance.42cbc8:[18:28:51] [Netty Server IO #1/INFO]: [STDOUT]: Equip message recieved\r\n"
     ]
    },
    {
     "name": "stderr",
     "output_type": "stream",
     "text": [
      "2019-12-01 18:28:51 LAPTOP-SDM3TI61 minerl.env.malmo.instance.42cbc8[24072] DEBUG [18:28:51] [Netty Server IO #1/INFO]: [STDOUT]: Equip message recieved\n"
     ]
    },
    {
     "name": "stdout",
     "output_type": "stream",
     "text": [
      "DEBUG:minerl.env.malmo.instance.42cbc8:[18:28:51] [Netty Server IO #1/INFO]: [STDOUT]: got harbar 0\r\n"
     ]
    },
    {
     "name": "stderr",
     "output_type": "stream",
     "text": [
      "2019-12-01 18:28:51 LAPTOP-SDM3TI61 "
     ]
    },
    {
     "name": "stdout",
     "output_type": "stream",
     "text": [
      "8.499999999999998"
     ]
    },
    {
     "name": "stderr",
     "output_type": "stream",
     "text": [
      "minerl.env.malmo.instance.42cbc8[24072]"
     ]
    },
    {
     "name": "stdout",
     "output_type": "stream",
     "text": [
      "\n"
     ]
    },
    {
     "name": "stderr",
     "output_type": "stream",
     "text": [
      " DEBUG [18:28:51] [Netty Server IO #1/INFO]: [STDOUT]: got harbar 0\n"
     ]
    },
    {
     "name": "stdout",
     "output_type": "stream",
     "text": [
      "step =  DEBUG:minerl.env.malmo.instance.42cbc8:[18:28:51] [Netty Server IO #1/INFO]: [STDOUT]: got slot 0\n"
     ]
    },
    {
     "name": "stderr",
     "output_type": "stream",
     "text": [
      "2019-12-01 18:28:51"
     ]
    },
    {
     "name": "stdout",
     "output_type": "stream",
     "text": [
      "428"
     ]
    },
    {
     "name": "stderr",
     "output_type": "stream",
     "text": [
      " "
     ]
    },
    {
     "name": "stdout",
     "output_type": "stream",
     "text": [
      "\n"
     ]
    },
    {
     "name": "stderr",
     "output_type": "stream",
     "text": [
      "LAPTOP-SDM3TI61 minerl.env.malmo.instance.42cbc8[24072] DEBUG [18:28:51] [Netty Server IO #1/INFO]: [STDOUT]: got slot 0\n"
     ]
    },
    {
     "name": "stdout",
     "output_type": "stream",
     "text": [
      "DEBUG:minerl.env.malmo.instance.42cbc8:[18:28:51] [Client thread/INFO]: [CHAT] §l878...\r\n"
     ]
    },
    {
     "name": "stderr",
     "output_type": "stream",
     "text": [
      "2019-12-01 18:28:51"
     ]
    },
    {
     "name": "stdout",
     "output_type": "stream",
     "text": [
      "8.499999999999998"
     ]
    },
    {
     "name": "stderr",
     "output_type": "stream",
     "text": [
      " "
     ]
    },
    {
     "name": "stdout",
     "output_type": "stream",
     "text": [
      "\n"
     ]
    },
    {
     "name": "stderr",
     "output_type": "stream",
     "text": [
      "LAPTOP-SDM3TI61 minerl.env.malmo.instance.42cbc8[24072]"
     ]
    },
    {
     "name": "stdout",
     "output_type": "stream",
     "text": [
      "step = "
     ]
    },
    {
     "name": "stderr",
     "output_type": "stream",
     "text": [
      " "
     ]
    },
    {
     "name": "stdout",
     "output_type": "stream",
     "text": [
      " "
     ]
    },
    {
     "name": "stderr",
     "output_type": "stream",
     "text": [
      "DEBUG"
     ]
    },
    {
     "name": "stdout",
     "output_type": "stream",
     "text": [
      "429\n"
     ]
    },
    {
     "name": "stderr",
     "output_type": "stream",
     "text": [
      " [18:28:51] [Client thread/INFO]: [CHAT] §l878...\n"
     ]
    },
    {
     "name": "stdout",
     "output_type": "stream",
     "text": [
      "8.499999999999998\n",
      "step =  430\n",
      "DEBUG:minerl.env.malmo.instance.42cbc8:[18:28:51] [Netty Server IO #1/INFO]: [STDOUT]: Equip message recieved\n"
     ]
    },
    {
     "name": "stderr",
     "output_type": "stream",
     "text": [
      "2019-12-01 18:28:51 LAPTOP-SDM3TI61 minerl.env.malmo.instance.42cbc8[24072] DEBUG [18:28:51] [Netty Server IO #1/INFO]: [STDOUT]: Equip message recieved\n"
     ]
    },
    {
     "name": "stdout",
     "output_type": "stream",
     "text": [
      "DEBUG:minerl.env.malmo.instance.42cbc8:[18:28:51] [Netty Server IO #1/INFO]: [STDOUT]: got harbar 0\r\n"
     ]
    },
    {
     "name": "stderr",
     "output_type": "stream",
     "text": [
      "2019-12-01 18:28:51 LAPTOP-SDM3TI61 minerl.env.malmo.instance.42cbc8[24072] DEBUG [18:28:51] [Netty Server IO #1/INFO]: [STDOUT]: got harbar 0\n"
     ]
    },
    {
     "name": "stdout",
     "output_type": "stream",
     "text": [
      "DEBUG:minerl.env.malmo.instance.42cbc8:[18:28:51] [Netty Server IO #1/INFO]: [STDOUT]: got slot 0\r\n"
     ]
    },
    {
     "name": "stderr",
     "output_type": "stream",
     "text": [
      "2019-12-01 18:28:51 "
     ]
    },
    {
     "name": "stdout",
     "output_type": "stream",
     "text": [
      "8.499999999999998"
     ]
    },
    {
     "name": "stderr",
     "output_type": "stream",
     "text": [
      "LAPTOP-SDM3TI61"
     ]
    },
    {
     "name": "stdout",
     "output_type": "stream",
     "text": [
      "\n"
     ]
    },
    {
     "name": "stderr",
     "output_type": "stream",
     "text": [
      " minerl.env.malmo.instance.42cbc8[24072] "
     ]
    },
    {
     "name": "stdout",
     "output_type": "stream",
     "text": [
      "step = "
     ]
    },
    {
     "name": "stderr",
     "output_type": "stream",
     "text": [
      "DEBUG"
     ]
    },
    {
     "name": "stdout",
     "output_type": "stream",
     "text": [
      " "
     ]
    },
    {
     "name": "stderr",
     "output_type": "stream",
     "text": [
      " "
     ]
    },
    {
     "name": "stdout",
     "output_type": "stream",
     "text": [
      "431"
     ]
    },
    {
     "name": "stderr",
     "output_type": "stream",
     "text": [
      "[18:28:51] [Netty Server IO #1/INFO]: [STDOUT]: got slot 0\r"
     ]
    },
    {
     "name": "stdout",
     "output_type": "stream",
     "text": [
      "\n"
     ]
    },
    {
     "name": "stderr",
     "output_type": "stream",
     "text": [
      "\n"
     ]
    },
    {
     "name": "stdout",
     "output_type": "stream",
     "text": [
      "DEBUG:minerl.env.malmo.instance.42cbc8:[18:28:51] [Netty Server IO #1/INFO]: [STDOUT]: Equip message recieved\r\n"
     ]
    },
    {
     "name": "stderr",
     "output_type": "stream",
     "text": [
      "2019-12-01 18:28:51 LAPTOP-SDM3TI61 minerl.env.malmo.instance.42cbc8[24072] DEBUG [18:28:51] [Netty Server IO #1/INFO]: [STDOUT]: Equip message recieved\n"
     ]
    },
    {
     "name": "stdout",
     "output_type": "stream",
     "text": [
      "DEBUG:minerl.env.malmo.instance.42cbc8:[18:28:51] [Netty Server IO #1/INFO]: [STDOUT]: got harbar 0\r\n"
     ]
    },
    {
     "name": "stderr",
     "output_type": "stream",
     "text": [
      "2019-12-01 18:28:51 LAPTOP-SDM3TI61 minerl.env.malmo.instance.42cbc8[24072] "
     ]
    },
    {
     "name": "stdout",
     "output_type": "stream",
     "text": [
      "8.499999999999998"
     ]
    },
    {
     "name": "stderr",
     "output_type": "stream",
     "text": [
      "DEBUG"
     ]
    },
    {
     "name": "stdout",
     "output_type": "stream",
     "text": [
      "\n"
     ]
    },
    {
     "name": "stderr",
     "output_type": "stream",
     "text": [
      " [18:28:51] [Netty Server IO #1/INFO]: [STDOUT]: got harbar 0\n"
     ]
    },
    {
     "name": "stdout",
     "output_type": "stream",
     "text": [
      "DEBUG:minerl.env.malmo.instance.42cbc8:[18:28:51] [Netty Server IO #1/INFO]: [STDOUT]: got slot 0\n",
      "step = "
     ]
    },
    {
     "name": "stderr",
     "output_type": "stream",
     "text": [
      "2019-12-01 18:28:51"
     ]
    },
    {
     "name": "stdout",
     "output_type": "stream",
     "text": [
      " "
     ]
    },
    {
     "name": "stderr",
     "output_type": "stream",
     "text": [
      " "
     ]
    },
    {
     "name": "stdout",
     "output_type": "stream",
     "text": [
      "432"
     ]
    },
    {
     "name": "stderr",
     "output_type": "stream",
     "text": [
      "LAPTOP-SDM3TI61"
     ]
    },
    {
     "name": "stdout",
     "output_type": "stream",
     "text": [
      "\n"
     ]
    },
    {
     "name": "stderr",
     "output_type": "stream",
     "text": [
      " minerl.env.malmo.instance.42cbc8[24072] DEBUG [18:28:51] [Netty Server IO #1/INFO]: [STDOUT]: got slot 0\n"
     ]
    },
    {
     "name": "stdout",
     "output_type": "stream",
     "text": [
      "8.499999999999998\n",
      "step =  433\n",
      "DEBUG:minerl.env.malmo.instance.42cbc8:[18:28:51] [Netty Server IO #1/INFO]: [STDOUT]: Equip message recieved\n"
     ]
    },
    {
     "name": "stderr",
     "output_type": "stream",
     "text": [
      "2019-12-01 18:28:51 LAPTOP-SDM3TI61 minerl.env.malmo.instance.42cbc8[24072] DEBUG [18:28:51] [Netty Server IO #1/INFO]: [STDOUT]: Equip message recieved\n"
     ]
    },
    {
     "name": "stdout",
     "output_type": "stream",
     "text": [
      "DEBUG:minerl.env.malmo.instance.42cbc8:[18:28:51] [Netty Server IO #1/INFO]: [STDOUT]: got harbar 0\r\n"
     ]
    },
    {
     "name": "stderr",
     "output_type": "stream",
     "text": [
      "2019-12-01 18:28:51 LAPTOP-SDM3TI61 minerl.env.malmo.instance.42cbc8[24072] DEBUG [18:28:51] [Netty Server IO #1/INFO]: [STDOUT]: got harbar 0\n"
     ]
    },
    {
     "name": "stdout",
     "output_type": "stream",
     "text": [
      "DEBUG:minerl.env.malmo.instance.42cbc8:[18:28:51] [Netty Server IO #1/INFO]: [STDOUT]: got slot 0\r\n"
     ]
    },
    {
     "name": "stderr",
     "output_type": "stream",
     "text": [
      "2019-12-01 18:28:51"
     ]
    },
    {
     "name": "stdout",
     "output_type": "stream",
     "text": [
      "8.499999999999998"
     ]
    },
    {
     "name": "stderr",
     "output_type": "stream",
     "text": [
      " "
     ]
    },
    {
     "name": "stdout",
     "output_type": "stream",
     "text": [
      "\n"
     ]
    },
    {
     "name": "stderr",
     "output_type": "stream",
     "text": [
      "LAPTOP-SDM3TI61 minerl.env.malmo.instance.42cbc8[24072] "
     ]
    },
    {
     "name": "stdout",
     "output_type": "stream",
     "text": [
      "step = "
     ]
    },
    {
     "name": "stderr",
     "output_type": "stream",
     "text": [
      "DEBUG"
     ]
    },
    {
     "name": "stdout",
     "output_type": "stream",
     "text": [
      " "
     ]
    },
    {
     "name": "stderr",
     "output_type": "stream",
     "text": [
      " "
     ]
    },
    {
     "name": "stdout",
     "output_type": "stream",
     "text": [
      "434"
     ]
    },
    {
     "name": "stderr",
     "output_type": "stream",
     "text": [
      "[18:28:51] [Netty Server IO #1/INFO]: [STDOUT]: got slot 0\r"
     ]
    },
    {
     "name": "stdout",
     "output_type": "stream",
     "text": [
      "\n"
     ]
    },
    {
     "name": "stderr",
     "output_type": "stream",
     "text": [
      "\n"
     ]
    },
    {
     "name": "stdout",
     "output_type": "stream",
     "text": [
      "8.499999999999998\n",
      "step =  435\n",
      "DEBUG:minerl.env.malmo.instance.42cbc8:[18:28:51] [Netty Server IO #1/INFO]: [STDOUT]: Equip message recieved\n"
     ]
    },
    {
     "name": "stderr",
     "output_type": "stream",
     "text": [
      "2019-12-01 18:28:51 LAPTOP-SDM3TI61 minerl.env.malmo.instance.42cbc8[24072] DEBUG [18:28:51] [Netty Server IO #1/INFO]: [STDOUT]: Equip message recieved\n"
     ]
    },
    {
     "name": "stdout",
     "output_type": "stream",
     "text": [
      "DEBUG:minerl.env.malmo.instance.42cbc8:[18:28:51] [Netty Server IO #1/INFO]: [STDOUT]: got harbar 0\r\n"
     ]
    },
    {
     "name": "stderr",
     "output_type": "stream",
     "text": [
      "2019-12-01 18:28:51 LAPTOP-SDM3TI61 minerl.env.malmo.instance.42cbc8[24072] DEBUG [18:28:51] [Netty Server IO #1/INFO]: [STDOUT]: got harbar 0\n"
     ]
    },
    {
     "name": "stdout",
     "output_type": "stream",
     "text": [
      "DEBUG:minerl.env.malmo.instance.42cbc8:[18:28:51] [Netty Server IO #1/INFO]: [STDOUT]: got slot 0\n",
      "8.499999999999998"
     ]
    },
    {
     "name": "stderr",
     "output_type": "stream",
     "text": [
      "2019-12-01 18:28:51"
     ]
    },
    {
     "name": "stdout",
     "output_type": "stream",
     "text": [
      "\n"
     ]
    },
    {
     "name": "stderr",
     "output_type": "stream",
     "text": [
      " LAPTOP-SDM3TI61 minerl.env.malmo.instance.42cbc8[24072]"
     ]
    },
    {
     "name": "stdout",
     "output_type": "stream",
     "text": [
      "step = "
     ]
    },
    {
     "name": "stderr",
     "output_type": "stream",
     "text": [
      " "
     ]
    },
    {
     "name": "stdout",
     "output_type": "stream",
     "text": [
      " "
     ]
    },
    {
     "name": "stderr",
     "output_type": "stream",
     "text": [
      "DEBUG"
     ]
    },
    {
     "name": "stdout",
     "output_type": "stream",
     "text": [
      "436"
     ]
    },
    {
     "name": "stderr",
     "output_type": "stream",
     "text": [
      " "
     ]
    },
    {
     "name": "stdout",
     "output_type": "stream",
     "text": [
      "\n"
     ]
    },
    {
     "name": "stderr",
     "output_type": "stream",
     "text": [
      "[18:28:51] [Netty Server IO #1/INFO]: [STDOUT]: got slot 0\n"
     ]
    },
    {
     "name": "stdout",
     "output_type": "stream",
     "text": [
      "8.799999999999999\n",
      "step =  437\n",
      "DEBUG:minerl.env.malmo.instance.42cbc8:[18:28:51] [Netty Server IO #1/INFO]: [STDOUT]: Equip message recieved\n"
     ]
    },
    {
     "name": "stderr",
     "output_type": "stream",
     "text": [
      "2019-12-01 18:28:51 LAPTOP-SDM3TI61 minerl.env.malmo.instance.42cbc8[24072] DEBUG [18:28:51] [Netty Server IO #1/INFO]: [STDOUT]: Equip message recieved\n"
     ]
    },
    {
     "name": "stdout",
     "output_type": "stream",
     "text": [
      "DEBUG:minerl.env.malmo.instance.42cbc8:[18:28:51] [Netty Server IO #1/INFO]: [STDOUT]: got harbar 0\r\n"
     ]
    },
    {
     "name": "stderr",
     "output_type": "stream",
     "text": [
      "2019-12-01 18:28:51 LAPTOP-SDM3TI61 "
     ]
    },
    {
     "name": "stdout",
     "output_type": "stream",
     "text": [
      "8.799999999999999"
     ]
    },
    {
     "name": "stderr",
     "output_type": "stream",
     "text": [
      "minerl.env.malmo.instance.42cbc8[24072]"
     ]
    },
    {
     "name": "stdout",
     "output_type": "stream",
     "text": [
      "\n"
     ]
    },
    {
     "name": "stderr",
     "output_type": "stream",
     "text": [
      " DEBUG [18:28:51] [Netty Server IO #1/INFO]: [STDOUT]: got harbar 0\n"
     ]
    },
    {
     "name": "stdout",
     "output_type": "stream",
     "text": [
      "step =  DEBUG:minerl.env.malmo.instance.42cbc8:[18:28:51] [Netty Server IO #1/INFO]: [STDOUT]: got slot 0\n"
     ]
    },
    {
     "name": "stderr",
     "output_type": "stream",
     "text": [
      "2019-12-01 18:28:51"
     ]
    },
    {
     "name": "stdout",
     "output_type": "stream",
     "text": [
      "438\n"
     ]
    },
    {
     "name": "stderr",
     "output_type": "stream",
     "text": [
      " LAPTOP-SDM3TI61 minerl.env.malmo.instance.42cbc8[24072] DEBUG [18:28:51] [Netty Server IO #1/INFO]: [STDOUT]: got slot 0\n"
     ]
    },
    {
     "name": "stdout",
     "output_type": "stream",
     "text": [
      "8.899999999999999\n",
      "step =  439\n",
      "8.899999999999999\n",
      "step =  440\n",
      "8.899999999999999\n",
      "step =  441\n",
      "8.899999999999999\n",
      "step =  442\n",
      "8.899999999999999\n",
      "step =  443\n",
      "8.899999999999999\n",
      "step =  444\n",
      "DEBUG:minerl.env.malmo.instance.42cbc8:[18:28:51] [Netty Server IO #1/INFO]: [STDOUT]: Equip message recieved\n"
     ]
    },
    {
     "name": "stderr",
     "output_type": "stream",
     "text": [
      "2019-12-01 18:28:51 LAPTOP-SDM3TI61 minerl.env.malmo.instance.42cbc8[24072] DEBUG [18:28:51] [Netty Server IO #1/INFO]: [STDOUT]: Equip message recieved\n"
     ]
    },
    {
     "name": "stdout",
     "output_type": "stream",
     "text": [
      "DEBUG:minerl.env.malmo.instance.42cbc8:[18:28:51] [Netty Server IO #1/INFO]: [STDOUT]: got harbar 0\r\n"
     ]
    },
    {
     "name": "stderr",
     "output_type": "stream",
     "text": [
      "2019-12-01 18:28:51 LAPTOP-SDM3TI61 minerl.env.malmo.instance.42cbc8[24072] DEBUG [18:28:51] [Netty Server IO #1/INFO]: [STDOUT]: got harbar 0\n"
     ]
    },
    {
     "name": "stdout",
     "output_type": "stream",
     "text": [
      "DEBUG:minerl.env.malmo.instance.42cbc8:[18:28:51] [Netty Server IO #1/INFO]: [STDOUT]: got slot 0\r\n"
     ]
    },
    {
     "name": "stderr",
     "output_type": "stream",
     "text": [
      "2019-12-01 18:28:51 LAPTOP-SDM3TI61 minerl.env.malmo.instance.42cbc8[24072] DEBUG [18:28:51] [Netty Server IO #1/INFO]: [STDOUT]: got slot 0\n"
     ]
    },
    {
     "name": "stdout",
     "output_type": "stream",
     "text": [
      "8.899999999999999\n",
      "step =  445\n",
      "8.899999999999999\n",
      "step =  446\n",
      "DEBUG:minerl.env.malmo.instance.42cbc8:[18:28:52] [Netty Server IO #1/INFO]: [STDOUT]: Equip message recieved\n"
     ]
    },
    {
     "name": "stderr",
     "output_type": "stream",
     "text": [
      "2019-12-01 18:28:52 LAPTOP-SDM3TI61 minerl.env.malmo.instance.42cbc8[24072] DEBUG [18:28:52] [Netty Server IO #1/INFO]: [STDOUT]: Equip message recieved\n"
     ]
    },
    {
     "name": "stdout",
     "output_type": "stream",
     "text": [
      "DEBUG:minerl.env.malmo.instance.42cbc8:[18:28:52] [Netty Server IO #1/INFO]: [STDOUT]: got harbar 0\r\n"
     ]
    },
    {
     "name": "stderr",
     "output_type": "stream",
     "text": [
      "2019-12-01 18:28:52 LAPTOP-SDM3TI61 minerl.env.malmo.instance.42cbc8[24072] "
     ]
    },
    {
     "name": "stdout",
     "output_type": "stream",
     "text": [
      "8.899999999999999"
     ]
    },
    {
     "name": "stderr",
     "output_type": "stream",
     "text": [
      "DEBUG"
     ]
    },
    {
     "name": "stdout",
     "output_type": "stream",
     "text": [
      "\n"
     ]
    },
    {
     "name": "stderr",
     "output_type": "stream",
     "text": [
      " [18:28:52] [Netty Server IO #1/INFO]: [STDOUT]: got harbar 0\n"
     ]
    },
    {
     "name": "stdout",
     "output_type": "stream",
     "text": [
      "DEBUG:minerl.env.malmo.instance.42cbc8:[18:28:52] [Netty Server IO #1/INFO]: [STDOUT]: got slot 0\r",
      "step = \n"
     ]
    },
    {
     "name": "stderr",
     "output_type": "stream",
     "text": [
      "2019-12-01 18:28:52"
     ]
    },
    {
     "name": "stdout",
     "output_type": "stream",
     "text": [
      " "
     ]
    },
    {
     "name": "stderr",
     "output_type": "stream",
     "text": [
      " LAPTOP-SDM3TI61"
     ]
    },
    {
     "name": "stdout",
     "output_type": "stream",
     "text": [
      "447"
     ]
    },
    {
     "name": "stderr",
     "output_type": "stream",
     "text": [
      " "
     ]
    },
    {
     "name": "stdout",
     "output_type": "stream",
     "text": [
      "\n"
     ]
    },
    {
     "name": "stderr",
     "output_type": "stream",
     "text": [
      "minerl.env.malmo.instance.42cbc8[24072] DEBUG [18:28:52] [Netty Server IO #1/INFO]: [STDOUT]: got slot 0\n"
     ]
    },
    {
     "name": "stdout",
     "output_type": "stream",
     "text": [
      "DEBUG:minerl.env.malmo.instance.42cbc8:[18:28:52] [Netty Server IO #1/INFO]: [STDOUT]: Equip message recieved\r\n"
     ]
    },
    {
     "name": "stderr",
     "output_type": "stream",
     "text": [
      "2019-12-01 18:28:52 LAPTOP-SDM3TI61 minerl.env.malmo.instance.42cbc8[24072] DEBUG"
     ]
    },
    {
     "name": "stdout",
     "output_type": "stream",
     "text": [
      "8.899999999999999"
     ]
    },
    {
     "name": "stderr",
     "output_type": "stream",
     "text": [
      " "
     ]
    },
    {
     "name": "stdout",
     "output_type": "stream",
     "text": [
      "\n"
     ]
    },
    {
     "name": "stderr",
     "output_type": "stream",
     "text": [
      "[18:28:52] [Netty Server IO #1/INFO]: [STDOUT]: Equip message recieved\n"
     ]
    },
    {
     "name": "stdout",
     "output_type": "stream",
     "text": [
      "DEBUG:minerl.env.malmo.instance.42cbc8:[18:28:52] [Netty Server IO #1/INFO]: [STDOUT]: got harbar 0\r\n"
     ]
    },
    {
     "name": "stderr",
     "output_type": "stream",
     "text": [
      "2019-12-01 18:28:52"
     ]
    },
    {
     "name": "stdout",
     "output_type": "stream",
     "text": [
      "step = "
     ]
    },
    {
     "name": "stderr",
     "output_type": "stream",
     "text": [
      " LAPTOP-SDM3TI61"
     ]
    },
    {
     "name": "stdout",
     "output_type": "stream",
     "text": [
      " "
     ]
    },
    {
     "name": "stderr",
     "output_type": "stream",
     "text": [
      " "
     ]
    },
    {
     "name": "stdout",
     "output_type": "stream",
     "text": [
      "448"
     ]
    },
    {
     "name": "stderr",
     "output_type": "stream",
     "text": [
      "minerl.env.malmo.instance.42cbc8[24072]"
     ]
    },
    {
     "name": "stdout",
     "output_type": "stream",
     "text": [
      "\n"
     ]
    },
    {
     "name": "stderr",
     "output_type": "stream",
     "text": [
      " DEBUG [18:28:52] [Netty Server IO #1/INFO]: [STDOUT]: got harbar 0\n"
     ]
    },
    {
     "name": "stdout",
     "output_type": "stream",
     "text": [
      "DEBUG:minerl.env.malmo.instance.42cbc8:[18:28:52] [Netty Server IO #1/INFO]: [STDOUT]: got slot 0\r\n"
     ]
    },
    {
     "name": "stderr",
     "output_type": "stream",
     "text": [
      "2019-12-01 18:28:52 LAPTOP-SDM3TI61 minerl.env.malmo.instance.42cbc8[24072] DEBUG [18:28:52] [Netty Server IO #1/INFO]: [STDOUT]: got slot 0\r"
     ]
    },
    {
     "name": "stdout",
     "output_type": "stream",
     "text": [
      "8.899999999999999"
     ]
    },
    {
     "name": "stderr",
     "output_type": "stream",
     "text": [
      "\n"
     ]
    },
    {
     "name": "stdout",
     "output_type": "stream",
     "text": [
      "\n",
      "DEBUG:minerl.env.malmo.instance.42cbc8:[18:28:52] [Netty Server IO #1/INFO]: [STDOUT]: Equip message recieved\n"
     ]
    },
    {
     "name": "stderr",
     "output_type": "stream",
     "text": [
      "2019-12-01 18:28:52 LAPTOP-SDM3TI61"
     ]
    },
    {
     "name": "stdout",
     "output_type": "stream",
     "text": [
      "step = "
     ]
    },
    {
     "name": "stderr",
     "output_type": "stream",
     "text": [
      " "
     ]
    },
    {
     "name": "stdout",
     "output_type": "stream",
     "text": [
      " "
     ]
    },
    {
     "name": "stderr",
     "output_type": "stream",
     "text": [
      "minerl.env.malmo.instance.42cbc8[24072]"
     ]
    },
    {
     "name": "stdout",
     "output_type": "stream",
     "text": [
      "449"
     ]
    },
    {
     "name": "stderr",
     "output_type": "stream",
     "text": [
      " "
     ]
    },
    {
     "name": "stdout",
     "output_type": "stream",
     "text": [
      "\n"
     ]
    },
    {
     "name": "stderr",
     "output_type": "stream",
     "text": [
      "DEBUG [18:28:52] [Netty Server IO #1/INFO]: [STDOUT]: Equip message recieved\n"
     ]
    },
    {
     "name": "stdout",
     "output_type": "stream",
     "text": [
      "DEBUG:minerl.env.malmo.instance.42cbc8:[18:28:52] [Netty Server IO #1/INFO]: [STDOUT]: got harbar 0\r\n"
     ]
    },
    {
     "name": "stderr",
     "output_type": "stream",
     "text": [
      "2019-12-01 18:28:52 LAPTOP-SDM3TI61 minerl.env.malmo.instance.42cbc8[24072] DEBUG [18:28:52] [Netty Server IO #1/INFO]: [STDOUT]: got harbar 0\n"
     ]
    },
    {
     "name": "stdout",
     "output_type": "stream",
     "text": [
      "DEBUG:minerl.env.malmo.instance.42cbc8:[18:28:52] [Netty Server IO #1/INFO]: [STDOUT]: got slot 0\r\n"
     ]
    },
    {
     "name": "stderr",
     "output_type": "stream",
     "text": [
      "2019-12-01 18:28:52 LAPTOP-SDM3TI61 minerl.env.malmo.instance.42cbc8[24072] DEBUG [18:28:52] [Netty Server IO #1/INFO]: [STDOUT]: got slot 0\n"
     ]
    },
    {
     "name": "stdout",
     "output_type": "stream",
     "text": [
      "DEBUG:minerl.env.malmo.instance.42cbc8:[18:28:52] [Client thread/INFO]: [CHAT] §l877...\r\n"
     ]
    },
    {
     "name": "stderr",
     "output_type": "stream",
     "text": [
      "2019-12-01 18:28:52 LAPTOP-SDM3TI61 minerl.env.malmo.instance.42cbc8[24072] DEBUG [18:28:52] [Client thread/INFO]: [CHAT] §l877...\n"
     ]
    },
    {
     "name": "stdout",
     "output_type": "stream",
     "text": [
      "DEBUG:minerl.env.malmo.instance.42cbc8:[18:28:52] [Netty Server IO #1/INFO]: [STDOUT]: Equip message recieved\r\n"
     ]
    },
    {
     "name": "stderr",
     "output_type": "stream",
     "text": [
      "2019-12-01 18:28:52 LAPTOP-SDM3TI61 minerl.env.malmo.instance.42cbc8[24072] DEBUG [18:28:52] [Netty Server IO #1/INFO]: [STDOUT]: Equip message recieved\r"
     ]
    },
    {
     "name": "stdout",
     "output_type": "stream",
     "text": [
      "8.899999999999999"
     ]
    },
    {
     "name": "stderr",
     "output_type": "stream",
     "text": [
      "\n"
     ]
    },
    {
     "name": "stdout",
     "output_type": "stream",
     "text": [
      "\n",
      "DEBUG:minerl.env.malmo.instance.42cbc8:[18:28:52] [Netty Server IO #1/INFO]: [STDOUT]: got harbar 0\n"
     ]
    },
    {
     "name": "stderr",
     "output_type": "stream",
     "text": [
      "2019-12-01 18:28:52 LAPTOP-SDM3TI61"
     ]
    },
    {
     "name": "stdout",
     "output_type": "stream",
     "text": [
      "step = "
     ]
    },
    {
     "name": "stderr",
     "output_type": "stream",
     "text": [
      " "
     ]
    },
    {
     "name": "stdout",
     "output_type": "stream",
     "text": [
      " "
     ]
    },
    {
     "name": "stderr",
     "output_type": "stream",
     "text": [
      "minerl.env.malmo.instance.42cbc8[24072]"
     ]
    },
    {
     "name": "stdout",
     "output_type": "stream",
     "text": [
      "450"
     ]
    },
    {
     "name": "stderr",
     "output_type": "stream",
     "text": [
      " "
     ]
    },
    {
     "name": "stdout",
     "output_type": "stream",
     "text": [
      "\n"
     ]
    },
    {
     "name": "stderr",
     "output_type": "stream",
     "text": [
      "DEBUG [18:28:52] [Netty Server IO #1/INFO]: [STDOUT]: got harbar 0\n"
     ]
    },
    {
     "name": "stdout",
     "output_type": "stream",
     "text": [
      "DEBUG:minerl.env.malmo.instance.42cbc8:[18:28:52] [Netty Server IO #1/INFO]: [STDOUT]: got slot 0\r\n"
     ]
    },
    {
     "name": "stderr",
     "output_type": "stream",
     "text": [
      "2019-12-01 18:28:52 LAPTOP-SDM3TI61 minerl.env.malmo.instance.42cbc8[24072] DEBUG [18:28:52] [Netty Server IO #1/INFO]: [STDOUT]: got slot 0\n"
     ]
    },
    {
     "name": "stdout",
     "output_type": "stream",
     "text": [
      "8.899999999999999\n",
      "step =  451\n",
      "9.099999999999998\n",
      "step =  452\n",
      "DEBUG:minerl.env.malmo.instance.42cbc8:[18:28:52] [Netty Server IO #1/INFO]: [STDOUT]: Equip message recieved\n"
     ]
    },
    {
     "name": "stderr",
     "output_type": "stream",
     "text": [
      "2019-12-01 18:28:52 LAPTOP-SDM3TI61 minerl.env.malmo.instance.42cbc8[24072] DEBUG [18:28:52] [Netty Server IO #1/INFO]: [STDOUT]: Equip message recieved\n"
     ]
    },
    {
     "name": "stdout",
     "output_type": "stream",
     "text": [
      "DEBUG:minerl.env.malmo.instance.42cbc8:[18:28:52] [Netty Server IO #1/INFO]: [STDOUT]: got harbar 0\r\n"
     ]
    },
    {
     "name": "stderr",
     "output_type": "stream",
     "text": [
      "2019-12-01 18:28:52 LAPTOP-SDM3TI61 minerl.env.malmo.instance.42cbc8[24072] DEBUG "
     ]
    },
    {
     "name": "stdout",
     "output_type": "stream",
     "text": [
      "9.099999999999998"
     ]
    },
    {
     "name": "stderr",
     "output_type": "stream",
     "text": [
      "[18:28:52] [Netty Server IO #1/INFO]: [STDOUT]: got harbar 0\r"
     ]
    },
    {
     "name": "stdout",
     "output_type": "stream",
     "text": [
      "\n"
     ]
    },
    {
     "name": "stderr",
     "output_type": "stream",
     "text": [
      "\n"
     ]
    },
    {
     "name": "stdout",
     "output_type": "stream",
     "text": [
      "DEBUG:minerl.env.malmo.instance.42cbc8:[18:28:52] [Netty Server IO #1/INFO]: [STDOUT]: got slot 0\r\n"
     ]
    },
    {
     "name": "stderr",
     "output_type": "stream",
     "text": [
      "2019-12-01 18:28:52"
     ]
    },
    {
     "name": "stdout",
     "output_type": "stream",
     "text": [
      "step = "
     ]
    },
    {
     "name": "stderr",
     "output_type": "stream",
     "text": [
      " "
     ]
    },
    {
     "name": "stdout",
     "output_type": "stream",
     "text": [
      " "
     ]
    },
    {
     "name": "stderr",
     "output_type": "stream",
     "text": [
      "LAPTOP-SDM3TI61"
     ]
    },
    {
     "name": "stdout",
     "output_type": "stream",
     "text": [
      "453"
     ]
    },
    {
     "name": "stderr",
     "output_type": "stream",
     "text": [
      " "
     ]
    },
    {
     "name": "stdout",
     "output_type": "stream",
     "text": [
      "\n"
     ]
    },
    {
     "name": "stderr",
     "output_type": "stream",
     "text": [
      "minerl.env.malmo.instance.42cbc8[24072] DEBUG [18:28:52] [Netty Server IO #1/INFO]: [STDOUT]: got slot 0\n"
     ]
    },
    {
     "name": "stdout",
     "output_type": "stream",
     "text": [
      "9.099999999999998\n",
      "step =  454\n",
      "DEBUG:minerl.env.malmo.instance.42cbc8:[18:28:52] [Netty Server IO #1/INFO]: [STDOUT]: Equip message recieved\n"
     ]
    },
    {
     "name": "stderr",
     "output_type": "stream",
     "text": [
      "2019-12-01 18:28:52 LAPTOP-SDM3TI61 minerl.env.malmo.instance.42cbc8[24072] DEBUG [18:28:52] [Netty Server IO #1/INFO]: [STDOUT]: Equip message recieved\n"
     ]
    },
    {
     "name": "stdout",
     "output_type": "stream",
     "text": [
      "DEBUG:minerl.env.malmo.instance.42cbc8:[18:28:52] [Netty Server IO #1/INFO]: [STDOUT]: got harbar 0\r\n"
     ]
    },
    {
     "name": "stderr",
     "output_type": "stream",
     "text": [
      "2019-12-01 18:28:52 LAPTOP-SDM3TI61 minerl.env.malmo.instance.42cbc8[24072] DEBUG [18:28:52] [Netty Server IO #1/INFO]: [STDOUT]: got harbar 0\n"
     ]
    },
    {
     "name": "stdout",
     "output_type": "stream",
     "text": [
      "DEBUG:minerl.env.malmo.instance.42cbc8:[18:28:52] [Netty Server IO #1/INFO]: [STDOUT]: got slot 0\r\n"
     ]
    },
    {
     "name": "stderr",
     "output_type": "stream",
     "text": [
      "2019-12-01 18:28:52 LAPTOP-SDM3TI61 minerl.env.malmo.instance.42cbc8[24072] DEBUG [18:28:52] [Netty Server IO #1/INFO]: [STDOUT]: got slot 0\n"
     ]
    },
    {
     "name": "stdout",
     "output_type": "stream",
     "text": [
      "9.099999999999998\n",
      "step =  455\n",
      "DEBUG:minerl.env.malmo.instance.42cbc8:[18:28:52] [Netty Server IO #1/INFO]: [STDOUT]: Equip message recieved\n"
     ]
    },
    {
     "name": "stderr",
     "output_type": "stream",
     "text": [
      "2019-12-01 18:28:52 LAPTOP-SDM3TI61 minerl.env.malmo.instance.42cbc8[24072] DEBUG [18:28:52] [Netty Server IO #1/INFO]: [STDOUT]: Equip message recieved\n"
     ]
    },
    {
     "name": "stdout",
     "output_type": "stream",
     "text": [
      "DEBUG:minerl.env.malmo.instance.42cbc8:[18:28:52] [Netty Server IO #1/INFO]: [STDOUT]: got harbar 0\r\n"
     ]
    },
    {
     "name": "stderr",
     "output_type": "stream",
     "text": [
      "2019-12-01 18:28:52 LAPTOP-SDM3TI61 minerl.env.malmo.instance.42cbc8[24072] DEBUG [18:28:52] [Netty Server IO #1/INFO]: [STDOUT]: got harbar 0\n"
     ]
    },
    {
     "name": "stdout",
     "output_type": "stream",
     "text": [
      "DEBUG:minerl.env.malmo.instance.42cbc8:[18:28:52] [Netty Server IO #1/INFO]: [STDOUT]: got slot 0\r\n"
     ]
    },
    {
     "name": "stderr",
     "output_type": "stream",
     "text": [
      "2019-12-01 18:28:52"
     ]
    },
    {
     "name": "stdout",
     "output_type": "stream",
     "text": [
      "9.099999999999998"
     ]
    },
    {
     "name": "stderr",
     "output_type": "stream",
     "text": [
      " "
     ]
    },
    {
     "name": "stdout",
     "output_type": "stream",
     "text": [
      "\n"
     ]
    },
    {
     "name": "stderr",
     "output_type": "stream",
     "text": [
      "LAPTOP-SDM3TI61 minerl.env.malmo.instance.42cbc8[24072] DEBUG"
     ]
    },
    {
     "name": "stdout",
     "output_type": "stream",
     "text": [
      "step = "
     ]
    },
    {
     "name": "stderr",
     "output_type": "stream",
     "text": [
      " "
     ]
    },
    {
     "name": "stdout",
     "output_type": "stream",
     "text": [
      " "
     ]
    },
    {
     "name": "stderr",
     "output_type": "stream",
     "text": [
      "[18:28:52] [Netty Server IO #1/INFO]: [STDOUT]: got slot 0\r"
     ]
    },
    {
     "name": "stdout",
     "output_type": "stream",
     "text": [
      "456"
     ]
    },
    {
     "name": "stderr",
     "output_type": "stream",
     "text": [
      "\n"
     ]
    },
    {
     "name": "stdout",
     "output_type": "stream",
     "text": [
      "\n",
      "DEBUG:minerl.env.malmo.instance.42cbc8:[18:28:52] [Netty Server IO #1/INFO]: [STDOUT]: Equip message recieved\n"
     ]
    },
    {
     "name": "stderr",
     "output_type": "stream",
     "text": [
      "2019-12-01 18:28:52 LAPTOP-SDM3TI61 minerl.env.malmo.instance.42cbc8[24072] DEBUG [18:28:52] [Netty Server IO #1/INFO]: [STDOUT]: Equip message recieved\n"
     ]
    },
    {
     "name": "stdout",
     "output_type": "stream",
     "text": [
      "DEBUG:minerl.env.malmo.instance.42cbc8:[18:28:52] [Netty Server IO #1/INFO]: [STDOUT]: got harbar 0\r\n"
     ]
    },
    {
     "name": "stderr",
     "output_type": "stream",
     "text": [
      "2019-12-01 18:28:52 LAPTOP-SDM3TI61 minerl.env.malmo.instance.42cbc8[24072]"
     ]
    },
    {
     "name": "stdout",
     "output_type": "stream",
     "text": [
      "9.099999999999998"
     ]
    },
    {
     "name": "stderr",
     "output_type": "stream",
     "text": [
      " "
     ]
    },
    {
     "name": "stdout",
     "output_type": "stream",
     "text": [
      "\n"
     ]
    },
    {
     "name": "stderr",
     "output_type": "stream",
     "text": [
      "DEBUG [18:28:52] [Netty Server IO #1/INFO]: [STDOUT]: got harbar 0\n"
     ]
    },
    {
     "name": "stdout",
     "output_type": "stream",
     "text": [
      "step =  DEBUG:minerl.env.malmo.instance.42cbc8:[18:28:52] [Netty Server IO #1/INFO]: [STDOUT]: got slot 0\n",
      "457"
     ]
    },
    {
     "name": "stderr",
     "output_type": "stream",
     "text": [
      "2019-12-01 18:28:52 "
     ]
    },
    {
     "name": "stdout",
     "output_type": "stream",
     "text": [
      "\n"
     ]
    },
    {
     "name": "stderr",
     "output_type": "stream",
     "text": [
      "LAPTOP-SDM3TI61 minerl.env.malmo.instance.42cbc8[24072] DEBUG [18:28:52] [Netty Server IO #1/INFO]: [STDOUT]: got slot 0\n"
     ]
    },
    {
     "name": "stdout",
     "output_type": "stream",
     "text": [
      "9.099999999999998\n",
      "step =  458\n",
      "9.099999999999998\n",
      "step =  459\n",
      "DEBUG:minerl.env.malmo.instance.42cbc8:[18:28:52] [Netty Server IO #1/INFO]: [STDOUT]: Equip message recieved\n"
     ]
    },
    {
     "name": "stderr",
     "output_type": "stream",
     "text": [
      "2019-12-01 18:28:52 LAPTOP-SDM3TI61 minerl.env.malmo.instance.42cbc8[24072] DEBUG [18:28:52] [Netty Server IO #1/INFO]: [STDOUT]: Equip message recieved\n"
     ]
    },
    {
     "name": "stdout",
     "output_type": "stream",
     "text": [
      "DEBUG:minerl.env.malmo.instance.42cbc8:[18:28:52] [Netty Server IO #1/INFO]: [STDOUT]: got harbar 0\r\n"
     ]
    },
    {
     "name": "stderr",
     "output_type": "stream",
     "text": [
      "2019-12-01 18:28:52 LAPTOP-SDM3TI61 minerl.env.malmo.instance.42cbc8[24072] DEBUG [18:28:52] [Netty Server IO #1/INFO]: [STDOUT]: got harbar 0\n"
     ]
    },
    {
     "name": "stdout",
     "output_type": "stream",
     "text": [
      "DEBUG:minerl.env.malmo.instance.42cbc8:[18:28:52] [Netty Server IO #1/INFO]: [STDOUT]: got slot 0\r\n"
     ]
    },
    {
     "name": "stderr",
     "output_type": "stream",
     "text": [
      "2019-12-01 18:28:52 LAPTOP-SDM3TI61 minerl.env.malmo.instance.42cbc8[24072] DEBUG [18:28:52] [Netty Server IO #1/INFO]: [STDOUT]: got slot 0\n"
     ]
    },
    {
     "name": "stdout",
     "output_type": "stream",
     "text": [
      "9.099999999999998\n",
      "step =  460\n",
      "DEBUG:minerl.env.malmo.instance.42cbc8:[18:28:52] [Netty Server IO #1/INFO]: [STDOUT]: Equip message recieved\n"
     ]
    },
    {
     "name": "stderr",
     "output_type": "stream",
     "text": [
      "2019-12-01 18:28:52 LAPTOP-SDM3TI61 minerl.env.malmo.instance.42cbc8[24072] DEBUG [18:28:52] [Netty Server IO #1/INFO]: [STDOUT]: Equip message recieved\n"
     ]
    },
    {
     "name": "stdout",
     "output_type": "stream",
     "text": [
      "DEBUG:minerl.env.malmo.instance.42cbc8:[18:28:52] [Netty Server IO #1/INFO]: [STDOUT]: got harbar 0\r\n"
     ]
    },
    {
     "name": "stderr",
     "output_type": "stream",
     "text": [
      "2019-12-01 18:28:52 LAPTOP-SDM3TI61 minerl.env.malmo.instance.42cbc8[24072] DEBUG [18:28:52] [Netty Server IO #1/INFO]: [STDOUT]: got harbar 0\r"
     ]
    },
    {
     "name": "stdout",
     "output_type": "stream",
     "text": [
      "9.099999999999998"
     ]
    },
    {
     "name": "stderr",
     "output_type": "stream",
     "text": [
      "\n"
     ]
    },
    {
     "name": "stdout",
     "output_type": "stream",
     "text": [
      "\n",
      "DEBUG:minerl.env.malmo.instance.42cbc8:[18:28:52] [Netty Server IO #1/INFO]: [STDOUT]: got slot 0\n"
     ]
    },
    {
     "name": "stderr",
     "output_type": "stream",
     "text": [
      "2019-12-01 18:28:52 "
     ]
    },
    {
     "name": "stdout",
     "output_type": "stream",
     "text": [
      "step = "
     ]
    },
    {
     "name": "stderr",
     "output_type": "stream",
     "text": [
      "LAPTOP-SDM3TI61"
     ]
    },
    {
     "name": "stdout",
     "output_type": "stream",
     "text": [
      " "
     ]
    },
    {
     "name": "stderr",
     "output_type": "stream",
     "text": [
      " "
     ]
    },
    {
     "name": "stdout",
     "output_type": "stream",
     "text": [
      "461"
     ]
    },
    {
     "name": "stderr",
     "output_type": "stream",
     "text": [
      "minerl.env.malmo.instance.42cbc8[24072]"
     ]
    },
    {
     "name": "stdout",
     "output_type": "stream",
     "text": [
      "\n"
     ]
    },
    {
     "name": "stderr",
     "output_type": "stream",
     "text": [
      " DEBUG [18:28:52] [Netty Server IO #1/INFO]: [STDOUT]: got slot 0\n"
     ]
    },
    {
     "name": "stdout",
     "output_type": "stream",
     "text": [
      "DEBUG:minerl.env.malmo.instance.42cbc8:[18:28:52] [Netty Server IO #1/INFO]: [STDOUT]: Equip message recieved\r\n"
     ]
    },
    {
     "name": "stderr",
     "output_type": "stream",
     "text": [
      "2019-12-01 18:28:52 LAPTOP-SDM3TI61 minerl.env.malmo.instance.42cbc8[24072] DEBUG [18:28:52] [Netty Server IO #1/INFO]: [STDOUT]: Equip message recieved\n"
     ]
    },
    {
     "name": "stdout",
     "output_type": "stream",
     "text": [
      "DEBUG:minerl.env.malmo.instance.42cbc8:[18:28:52] [Netty Server IO #1/INFO]: [STDOUT]: got harbar 0\r\n"
     ]
    },
    {
     "name": "stderr",
     "output_type": "stream",
     "text": [
      "2019-12-01 18:28:52 LAPTOP-SDM3TI61 minerl.env.malmo.instance.42cbc8[24072] DEBUG [18:28:52] [Netty Server IO #1/INFO]: [STDOUT]: got harbar 0\r"
     ]
    },
    {
     "name": "stdout",
     "output_type": "stream",
     "text": [
      "9.399999999999999"
     ]
    },
    {
     "name": "stderr",
     "output_type": "stream",
     "text": [
      "\n"
     ]
    },
    {
     "name": "stdout",
     "output_type": "stream",
     "text": [
      "\n",
      "DEBUG:minerl.env.malmo.instance.42cbc8:[18:28:52] [Netty Server IO #1/INFO]: [STDOUT]: got slot 0\n"
     ]
    },
    {
     "name": "stderr",
     "output_type": "stream",
     "text": [
      "2019-12-01 18:28:52 LAPTOP-SDM3TI61 "
     ]
    },
    {
     "name": "stdout",
     "output_type": "stream",
     "text": [
      "step = "
     ]
    },
    {
     "name": "stderr",
     "output_type": "stream",
     "text": [
      "minerl.env.malmo.instance.42cbc8[24072]"
     ]
    },
    {
     "name": "stdout",
     "output_type": "stream",
     "text": [
      " "
     ]
    },
    {
     "name": "stderr",
     "output_type": "stream",
     "text": [
      " "
     ]
    },
    {
     "name": "stdout",
     "output_type": "stream",
     "text": [
      "462"
     ]
    },
    {
     "name": "stderr",
     "output_type": "stream",
     "text": [
      "DEBUG"
     ]
    },
    {
     "name": "stdout",
     "output_type": "stream",
     "text": [
      "\n"
     ]
    },
    {
     "name": "stderr",
     "output_type": "stream",
     "text": [
      " [18:28:52] [Netty Server IO #1/INFO]: [STDOUT]: got slot 0\n"
     ]
    },
    {
     "name": "stdout",
     "output_type": "stream",
     "text": [
      "DEBUG:minerl.env.malmo.instance.42cbc8:[18:28:52] [Netty Server IO #1/INFO]: [STDOUT]: Equip message recieved\r\n"
     ]
    },
    {
     "name": "stderr",
     "output_type": "stream",
     "text": [
      "2019-12-01 18:28:52 LAPTOP-SDM3TI61 minerl.env.malmo.instance.42cbc8[24072] DEBUG [18:28:52] [Netty Server IO #1/INFO]: [STDOUT]: Equip message recieved\n"
     ]
    },
    {
     "name": "stdout",
     "output_type": "stream",
     "text": [
      "DEBUG:minerl.env.malmo.instance.42cbc8:[18:28:52] [Netty Server IO #1/INFO]: [STDOUT]: got harbar 0\r\n"
     ]
    },
    {
     "name": "stderr",
     "output_type": "stream",
     "text": [
      "2019-12-01 18:28:52 LAPTOP-SDM3TI61 minerl.env.malmo.instance.42cbc8[24072]"
     ]
    },
    {
     "name": "stdout",
     "output_type": "stream",
     "text": [
      "9.399999999999999"
     ]
    },
    {
     "name": "stderr",
     "output_type": "stream",
     "text": [
      " "
     ]
    },
    {
     "name": "stdout",
     "output_type": "stream",
     "text": [
      "\n"
     ]
    },
    {
     "name": "stderr",
     "output_type": "stream",
     "text": [
      "DEBUG [18:28:52] [Netty Server IO #1/INFO]: [STDOUT]: got harbar 0\n"
     ]
    },
    {
     "name": "stdout",
     "output_type": "stream",
     "text": [
      "step = DEBUG:minerl.env.malmo.instance.42cbc8:[18:28:52] [Netty Server IO #1/INFO]: [STDOUT]: got slot 0\n"
     ]
    },
    {
     "name": "stderr",
     "output_type": "stream",
     "text": [
      "2019-12-01 18:28:52"
     ]
    },
    {
     "name": "stdout",
     "output_type": "stream",
     "text": [
      " "
     ]
    },
    {
     "name": "stderr",
     "output_type": "stream",
     "text": [
      " "
     ]
    },
    {
     "name": "stdout",
     "output_type": "stream",
     "text": [
      "463"
     ]
    },
    {
     "name": "stderr",
     "output_type": "stream",
     "text": [
      "LAPTOP-SDM3TI61"
     ]
    },
    {
     "name": "stdout",
     "output_type": "stream",
     "text": [
      "\n"
     ]
    },
    {
     "name": "stderr",
     "output_type": "stream",
     "text": [
      " minerl.env.malmo.instance.42cbc8[24072] DEBUG [18:28:52] [Netty Server IO #1/INFO]: [STDOUT]: got slot 0\n"
     ]
    },
    {
     "name": "stdout",
     "output_type": "stream",
     "text": [
      "DEBUG:minerl.env.malmo.instance.42cbc8:[18:28:52] [Netty Server IO #1/INFO]: [STDOUT]: Equip message recieved\r\n"
     ]
    },
    {
     "name": "stderr",
     "output_type": "stream",
     "text": [
      "2019-12-01 18:28:52 LAPTOP-SDM3TI61 minerl.env.malmo.instance.42cbc8[24072] DEBUG [18:28:52] [Netty Server IO #1/INFO]: [STDOUT]: Equip message recieved\n"
     ]
    },
    {
     "name": "stdout",
     "output_type": "stream",
     "text": [
      "DEBUG:minerl.env.malmo.instance.42cbc8:[18:28:52] [Netty Server IO #1/INFO]: [STDOUT]: got harbar 0\r\n"
     ]
    },
    {
     "name": "stderr",
     "output_type": "stream",
     "text": [
      "2019-12-01 18:28:52 LAPTOP-SDM3TI61"
     ]
    },
    {
     "name": "stdout",
     "output_type": "stream",
     "text": [
      "9.399999999999999\n"
     ]
    },
    {
     "name": "stderr",
     "output_type": "stream",
     "text": [
      " minerl.env.malmo.instance.42cbc8[24072] DEBUG "
     ]
    },
    {
     "name": "stdout",
     "output_type": "stream",
     "text": [
      "step = "
     ]
    },
    {
     "name": "stderr",
     "output_type": "stream",
     "text": [
      "[18:28:52] [Netty Server IO #1/INFO]: [STDOUT]: got harbar 0\r"
     ]
    },
    {
     "name": "stdout",
     "output_type": "stream",
     "text": [
      " "
     ]
    },
    {
     "name": "stderr",
     "output_type": "stream",
     "text": [
      "\n"
     ]
    },
    {
     "name": "stdout",
     "output_type": "stream",
     "text": [
      "464\n",
      "DEBUG:minerl.env.malmo.instance.42cbc8:[18:28:52] [Netty Server IO #1/INFO]: [STDOUT]: got slot 0\n"
     ]
    },
    {
     "name": "stderr",
     "output_type": "stream",
     "text": [
      "2019-12-01 18:28:52 LAPTOP-SDM3TI61 minerl.env.malmo.instance.42cbc8[24072] DEBUG [18:28:52] [Netty Server IO #1/INFO]: [STDOUT]: got slot 0\n"
     ]
    },
    {
     "name": "stdout",
     "output_type": "stream",
     "text": [
      "9.399999999999999\n",
      "step =  465\n",
      "9.399999999999999\n",
      "step =  466\n",
      "9.399999999999999\n",
      "step =  467\n",
      "9.399999999999999\n",
      "step =  468\n",
      "9.399999999999999DEBUG:minerl.env.malmo.instance.42cbc8:[18:28:52] [Client thread/INFO]: [CHAT] §l876...\n"
     ]
    },
    {
     "name": "stderr",
     "output_type": "stream",
     "text": [
      "2019-12-01 18:28:52"
     ]
    },
    {
     "name": "stdout",
     "output_type": "stream",
     "text": [
      "\n"
     ]
    },
    {
     "name": "stderr",
     "output_type": "stream",
     "text": [
      " LAPTOP-SDM3TI61 minerl.env.malmo.instance.42cbc8[24072]"
     ]
    },
    {
     "name": "stdout",
     "output_type": "stream",
     "text": [
      "step = "
     ]
    },
    {
     "name": "stderr",
     "output_type": "stream",
     "text": [
      " "
     ]
    },
    {
     "name": "stdout",
     "output_type": "stream",
     "text": [
      " "
     ]
    },
    {
     "name": "stderr",
     "output_type": "stream",
     "text": [
      "DEBUG"
     ]
    },
    {
     "name": "stdout",
     "output_type": "stream",
     "text": [
      "469"
     ]
    },
    {
     "name": "stderr",
     "output_type": "stream",
     "text": [
      " "
     ]
    },
    {
     "name": "stdout",
     "output_type": "stream",
     "text": [
      "\n"
     ]
    },
    {
     "name": "stderr",
     "output_type": "stream",
     "text": [
      "[18:28:52] [Client thread/INFO]: [CHAT] §l876...\n"
     ]
    },
    {
     "name": "stdout",
     "output_type": "stream",
     "text": [
      "DEBUG:minerl.env.malmo.instance.42cbc8:[18:28:52] [Netty Server IO #1/INFO]: [STDOUT]: Equip message recieved\r\n"
     ]
    },
    {
     "name": "stderr",
     "output_type": "stream",
     "text": [
      "2019-12-01 18:28:52 LAPTOP-SDM3TI61 minerl.env.malmo.instance.42cbc8[24072] DEBUG [18:28:52] [Netty Server IO #1/INFO]: [STDOUT]: Equip message recieved\n"
     ]
    },
    {
     "name": "stdout",
     "output_type": "stream",
     "text": [
      "DEBUG:minerl.env.malmo.instance.42cbc8:[18:28:52] [Netty Server IO #1/INFO]: [STDOUT]: got harbar 0\r\n"
     ]
    },
    {
     "name": "stderr",
     "output_type": "stream",
     "text": [
      "2019-12-01 18:28:52 LAPTOP-SDM3TI61 "
     ]
    },
    {
     "name": "stdout",
     "output_type": "stream",
     "text": [
      "9.499999999999998"
     ]
    },
    {
     "name": "stderr",
     "output_type": "stream",
     "text": [
      "minerl.env.malmo.instance.42cbc8[24072]"
     ]
    },
    {
     "name": "stdout",
     "output_type": "stream",
     "text": [
      "\n"
     ]
    },
    {
     "name": "stderr",
     "output_type": "stream",
     "text": [
      " DEBUG "
     ]
    },
    {
     "name": "stdout",
     "output_type": "stream",
     "text": [
      "step =  "
     ]
    },
    {
     "name": "stderr",
     "output_type": "stream",
     "text": [
      "[18:28:52] [Netty Server IO #1/INFO]: [STDOUT]: got harbar 0\r"
     ]
    },
    {
     "name": "stdout",
     "output_type": "stream",
     "text": [
      "470"
     ]
    },
    {
     "name": "stderr",
     "output_type": "stream",
     "text": [
      "\n"
     ]
    },
    {
     "name": "stdout",
     "output_type": "stream",
     "text": [
      "\n",
      "DEBUG:minerl.env.malmo.instance.42cbc8:[18:28:52] [Netty Server IO #1/INFO]: [STDOUT]: got slot 0\n"
     ]
    },
    {
     "name": "stderr",
     "output_type": "stream",
     "text": [
      "2019-12-01 18:28:52 LAPTOP-SDM3TI61 minerl.env.malmo.instance.42cbc8[24072] DEBUG [18:28:52] [Netty Server IO #1/INFO]: [STDOUT]: got slot 0\n"
     ]
    },
    {
     "name": "stdout",
     "output_type": "stream",
     "text": [
      "DEBUG:minerl.env.malmo.instance.42cbc8:[18:28:52] [Netty Server IO #1/INFO]: [STDOUT]: Equip message recieved\r\n"
     ]
    },
    {
     "name": "stderr",
     "output_type": "stream",
     "text": [
      "2019-12-01 18:28:52 LAPTOP-SDM3TI61 minerl.env.malmo.instance.42cbc8[24072] "
     ]
    },
    {
     "name": "stdout",
     "output_type": "stream",
     "text": [
      "9.499999999999998\n"
     ]
    },
    {
     "name": "stderr",
     "output_type": "stream",
     "text": [
      "DEBUG [18:28:52] [Netty Server IO #1/INFO]: [STDOUT]: Equip message recieved\n"
     ]
    },
    {
     "name": "stdout",
     "output_type": "stream",
     "text": [
      "DEBUG:minerl.env.malmo.instance.42cbc8:[18:28:52] [Netty Server IO #1/INFO]: [STDOUT]: got harbar 0\n",
      "step = "
     ]
    },
    {
     "name": "stderr",
     "output_type": "stream",
     "text": [
      "2019-12-01 18:28:52 "
     ]
    },
    {
     "name": "stdout",
     "output_type": "stream",
     "text": [
      " "
     ]
    },
    {
     "name": "stderr",
     "output_type": "stream",
     "text": [
      "LAPTOP-SDM3TI61"
     ]
    },
    {
     "name": "stdout",
     "output_type": "stream",
     "text": [
      "471"
     ]
    },
    {
     "name": "stderr",
     "output_type": "stream",
     "text": [
      " "
     ]
    },
    {
     "name": "stdout",
     "output_type": "stream",
     "text": [
      "\n"
     ]
    },
    {
     "name": "stderr",
     "output_type": "stream",
     "text": [
      "minerl.env.malmo.instance.42cbc8[24072] DEBUG [18:28:52] [Netty Server IO #1/INFO]: [STDOUT]: got harbar 0\n"
     ]
    },
    {
     "name": "stdout",
     "output_type": "stream",
     "text": [
      "DEBUG:minerl.env.malmo.instance.42cbc8:[18:28:52] [Netty Server IO #1/INFO]: [STDOUT]: got slot 0\r\n"
     ]
    },
    {
     "name": "stderr",
     "output_type": "stream",
     "text": [
      "2019-12-01 18:28:52 LAPTOP-SDM3TI61 minerl.env.malmo.instance.42cbc8[24072] DEBUG [18:28:52] [Netty Server IO #1/INFO]: [STDOUT]: got slot 0\r"
     ]
    },
    {
     "name": "stdout",
     "output_type": "stream",
     "text": [
      "9.499999999999998"
     ]
    },
    {
     "name": "stderr",
     "output_type": "stream",
     "text": [
      "\n"
     ]
    },
    {
     "name": "stdout",
     "output_type": "stream",
     "text": [
      "\n",
      "DEBUG:minerl.env.malmo.instance.42cbc8:[18:28:52] [Netty Server IO #1/INFO]: [STDOUT]: Equip message recieved\n"
     ]
    },
    {
     "name": "stderr",
     "output_type": "stream",
     "text": [
      "2019-12-01 18:28:53 LAPTOP-SDM3TI61"
     ]
    },
    {
     "name": "stdout",
     "output_type": "stream",
     "text": [
      "step = "
     ]
    },
    {
     "name": "stderr",
     "output_type": "stream",
     "text": [
      " "
     ]
    },
    {
     "name": "stdout",
     "output_type": "stream",
     "text": [
      " "
     ]
    },
    {
     "name": "stderr",
     "output_type": "stream",
     "text": [
      "minerl.env.malmo.instance.42cbc8[24072]"
     ]
    },
    {
     "name": "stdout",
     "output_type": "stream",
     "text": [
      "472"
     ]
    },
    {
     "name": "stderr",
     "output_type": "stream",
     "text": [
      " "
     ]
    },
    {
     "name": "stdout",
     "output_type": "stream",
     "text": [
      "\n"
     ]
    },
    {
     "name": "stderr",
     "output_type": "stream",
     "text": [
      "DEBUG [18:28:52] [Netty Server IO #1/INFO]: [STDOUT]: Equip message recieved\n"
     ]
    },
    {
     "name": "stdout",
     "output_type": "stream",
     "text": [
      "DEBUG:minerl.env.malmo.instance.42cbc8:[18:28:52] [Netty Server IO #1/INFO]: [STDOUT]: got harbar 0\r\n"
     ]
    },
    {
     "name": "stderr",
     "output_type": "stream",
     "text": [
      "2019-12-01 18:28:53 LAPTOP-SDM3TI61 minerl.env.malmo.instance.42cbc8[24072] DEBUG [18:28:52] [Netty Server IO #1/INFO]: [STDOUT]: got harbar 0\n"
     ]
    },
    {
     "name": "stdout",
     "output_type": "stream",
     "text": [
      "DEBUG:minerl.env.malmo.instance.42cbc8:[18:28:52] [Netty Server IO #1/INFO]: [STDOUT]: got slot 0\r\n"
     ]
    },
    {
     "name": "stderr",
     "output_type": "stream",
     "text": [
      "2019-12-01 18:28:53 "
     ]
    },
    {
     "name": "stdout",
     "output_type": "stream",
     "text": [
      "9.499999999999998"
     ]
    },
    {
     "name": "stderr",
     "output_type": "stream",
     "text": [
      "LAPTOP-SDM3TI61"
     ]
    },
    {
     "name": "stdout",
     "output_type": "stream",
     "text": [
      "\n"
     ]
    },
    {
     "name": "stderr",
     "output_type": "stream",
     "text": [
      " minerl.env.malmo.instance.42cbc8[24072] DEBUG"
     ]
    },
    {
     "name": "stdout",
     "output_type": "stream",
     "text": [
      "step = "
     ]
    },
    {
     "name": "stderr",
     "output_type": "stream",
     "text": [
      " "
     ]
    },
    {
     "name": "stdout",
     "output_type": "stream",
     "text": [
      " 473"
     ]
    },
    {
     "name": "stderr",
     "output_type": "stream",
     "text": [
      "[18:28:52] [Netty Server IO #1/INFO]: [STDOUT]: got slot 0\r"
     ]
    },
    {
     "name": "stdout",
     "output_type": "stream",
     "text": [
      "\n"
     ]
    },
    {
     "name": "stderr",
     "output_type": "stream",
     "text": [
      "\n"
     ]
    },
    {
     "name": "stdout",
     "output_type": "stream",
     "text": [
      "DEBUG:minerl.env.malmo.instance.42cbc8:[18:28:53] [Netty Server IO #1/INFO]: [STDOUT]: Equip message recieved\r\n"
     ]
    },
    {
     "name": "stderr",
     "output_type": "stream",
     "text": [
      "2019-12-01 18:28:53 LAPTOP-SDM3TI61 minerl.env.malmo.instance.42cbc8[24072] DEBUG [18:28:53] [Netty Server IO #1/INFO]: [STDOUT]: Equip message recieved\n"
     ]
    },
    {
     "name": "stdout",
     "output_type": "stream",
     "text": [
      "DEBUG:minerl.env.malmo.instance.42cbc8:[18:28:53] [Netty Server IO #1/INFO]: [STDOUT]: got harbar 0\r\n"
     ]
    },
    {
     "name": "stderr",
     "output_type": "stream",
     "text": [
      "2019-12-01 18:28:53"
     ]
    },
    {
     "name": "stdout",
     "output_type": "stream",
     "text": [
      "9.499999999999998"
     ]
    },
    {
     "name": "stderr",
     "output_type": "stream",
     "text": [
      " "
     ]
    },
    {
     "name": "stdout",
     "output_type": "stream",
     "text": [
      "\n"
     ]
    },
    {
     "name": "stderr",
     "output_type": "stream",
     "text": [
      "LAPTOP-SDM3TI61 minerl.env.malmo.instance.42cbc8[24072] "
     ]
    },
    {
     "name": "stdout",
     "output_type": "stream",
     "text": [
      "step = "
     ]
    },
    {
     "name": "stderr",
     "output_type": "stream",
     "text": [
      "DEBUG "
     ]
    },
    {
     "name": "stdout",
     "output_type": "stream",
     "text": [
      " "
     ]
    },
    {
     "name": "stderr",
     "output_type": "stream",
     "text": [
      "[18:28:53] [Netty Server IO #1/INFO]: [STDOUT]: got harbar 0\r"
     ]
    },
    {
     "name": "stdout",
     "output_type": "stream",
     "text": [
      "474"
     ]
    },
    {
     "name": "stderr",
     "output_type": "stream",
     "text": [
      "\n"
     ]
    },
    {
     "name": "stdout",
     "output_type": "stream",
     "text": [
      "\n",
      "DEBUG:minerl.env.malmo.instance.42cbc8:[18:28:53] [Netty Server IO #1/INFO]: [STDOUT]: got slot 0\n"
     ]
    },
    {
     "name": "stderr",
     "output_type": "stream",
     "text": [
      "2019-12-01 18:28:53 LAPTOP-SDM3TI61 minerl.env.malmo.instance.42cbc8[24072] DEBUG [18:28:53] [Netty Server IO #1/INFO]: [STDOUT]: got slot 0\n"
     ]
    },
    {
     "name": "stdout",
     "output_type": "stream",
     "text": [
      "DEBUG:minerl.env.malmo.instance.42cbc8:[18:28:53] [Netty Server IO #1/INFO]: [STDOUT]: Equip message recieved\r\n"
     ]
    },
    {
     "name": "stderr",
     "output_type": "stream",
     "text": [
      "2019-12-01 18:28:53 LAPTOP-SDM3TI61"
     ]
    },
    {
     "name": "stdout",
     "output_type": "stream",
     "text": [
      "9.499999999999998"
     ]
    },
    {
     "name": "stderr",
     "output_type": "stream",
     "text": [
      " "
     ]
    },
    {
     "name": "stdout",
     "output_type": "stream",
     "text": [
      "\n"
     ]
    },
    {
     "name": "stderr",
     "output_type": "stream",
     "text": [
      "minerl.env.malmo.instance.42cbc8[24072] DEBUG [18:28:53] [Netty Server IO #1/INFO]: [STDOUT]: Equip message recieved\r"
     ]
    },
    {
     "name": "stdout",
     "output_type": "stream",
     "text": [
      "step = "
     ]
    },
    {
     "name": "stderr",
     "output_type": "stream",
     "text": [
      "\n"
     ]
    },
    {
     "name": "stdout",
     "output_type": "stream",
     "text": [
      " DEBUG:minerl.env.malmo.instance.42cbc8:[18:28:53] [Netty Server IO #1/INFO]: [STDOUT]: got harbar 0\n",
      "475"
     ]
    },
    {
     "name": "stderr",
     "output_type": "stream",
     "text": [
      "2019-12-01 18:28:53"
     ]
    },
    {
     "name": "stdout",
     "output_type": "stream",
     "text": [
      "\n"
     ]
    },
    {
     "name": "stderr",
     "output_type": "stream",
     "text": [
      " LAPTOP-SDM3TI61 minerl.env.malmo.instance.42cbc8[24072] DEBUG [18:28:53] [Netty Server IO #1/INFO]: [STDOUT]: got harbar 0\n"
     ]
    },
    {
     "name": "stdout",
     "output_type": "stream",
     "text": [
      "DEBUG:minerl.env.malmo.instance.42cbc8:[18:28:53] [Netty Server IO #1/INFO]: [STDOUT]: got slot 0\r\n"
     ]
    },
    {
     "name": "stderr",
     "output_type": "stream",
     "text": [
      "2019-12-01 18:28:53 LAPTOP-SDM3TI61 minerl.env.malmo.instance.42cbc8[24072]"
     ]
    },
    {
     "name": "stdout",
     "output_type": "stream",
     "text": [
      "9.499999999999998"
     ]
    },
    {
     "name": "stderr",
     "output_type": "stream",
     "text": [
      " "
     ]
    },
    {
     "name": "stdout",
     "output_type": "stream",
     "text": [
      "\n"
     ]
    },
    {
     "name": "stderr",
     "output_type": "stream",
     "text": [
      "DEBUG [18:28:53] [Netty Server IO #1/INFO]: [STDOUT]: got slot 0\n"
     ]
    },
    {
     "name": "stdout",
     "output_type": "stream",
     "text": [
      "step =  476\n",
      "DEBUG:minerl.env.malmo.instance.42cbc8:[18:28:53] [Netty Server IO #1/INFO]: [STDOUT]: Equip message recieved\n"
     ]
    },
    {
     "name": "stderr",
     "output_type": "stream",
     "text": [
      "2019-12-01 18:28:53 LAPTOP-SDM3TI61 minerl.env.malmo.instance.42cbc8[24072] DEBUG [18:28:53] [Netty Server IO #1/INFO]: [STDOUT]: Equip message recieved\n"
     ]
    },
    {
     "name": "stdout",
     "output_type": "stream",
     "text": [
      "DEBUG:minerl.env.malmo.instance.42cbc8:[18:28:53] [Netty Server IO #1/INFO]: [STDOUT]: got harbar 0\r\n"
     ]
    },
    {
     "name": "stderr",
     "output_type": "stream",
     "text": [
      "2019-12-01 18:28:53 LAPTOP-SDM3TI61 minerl.env.malmo.instance.42cbc8[24072]"
     ]
    },
    {
     "name": "stdout",
     "output_type": "stream",
     "text": [
      "9.499999999999998"
     ]
    },
    {
     "name": "stderr",
     "output_type": "stream",
     "text": [
      " DEBUG"
     ]
    },
    {
     "name": "stdout",
     "output_type": "stream",
     "text": [
      "\n"
     ]
    },
    {
     "name": "stderr",
     "output_type": "stream",
     "text": [
      " [18:28:53] [Netty Server IO #1/INFO]: [STDOUT]: got harbar 0\n"
     ]
    },
    {
     "name": "stdout",
     "output_type": "stream",
     "text": [
      "step = DEBUG:minerl.env.malmo.instance.42cbc8:[18:28:53] [Netty Server IO #1/INFO]: [STDOUT]: got slot 0\n",
      " 477\n"
     ]
    },
    {
     "name": "stderr",
     "output_type": "stream",
     "text": [
      "2019-12-01 18:28:53 LAPTOP-SDM3TI61 minerl.env.malmo.instance.42cbc8[24072] DEBUG [18:28:53] [Netty Server IO #1/INFO]: [STDOUT]: got slot 0\n"
     ]
    },
    {
     "name": "stdout",
     "output_type": "stream",
     "text": [
      "9.499999999999998\n",
      "step =  478\n",
      "9.499999999999998\n",
      "step =  479\n",
      "9.499999999999998\n",
      "step =  480\n",
      "9.499999999999998\n",
      "step =  481\n",
      "DEBUG:minerl.env.malmo.instance.42cbc8:[18:28:53] [Netty Server IO #1/INFO]: [STDOUT]: Equip message recieved\n"
     ]
    },
    {
     "name": "stderr",
     "output_type": "stream",
     "text": [
      "2019-12-01 18:28:53 LAPTOP-SDM3TI61 minerl.env.malmo.instance.42cbc8[24072] DEBUG [18:28:53] [Netty Server IO #1/INFO]: [STDOUT]: Equip message recieved\n"
     ]
    },
    {
     "name": "stdout",
     "output_type": "stream",
     "text": [
      "DEBUG:minerl.env.malmo.instance.42cbc8:[18:28:53] [Netty Server IO #1/INFO]: [STDOUT]: got harbar 0\r\n"
     ]
    },
    {
     "name": "stderr",
     "output_type": "stream",
     "text": [
      "2019-12-01 18:28:53 LAPTOP-SDM3TI61 "
     ]
    },
    {
     "name": "stdout",
     "output_type": "stream",
     "text": [
      "9.499999999999998"
     ]
    },
    {
     "name": "stderr",
     "output_type": "stream",
     "text": [
      "minerl.env.malmo.instance.42cbc8[24072]"
     ]
    },
    {
     "name": "stdout",
     "output_type": "stream",
     "text": [
      "\n"
     ]
    },
    {
     "name": "stderr",
     "output_type": "stream",
     "text": [
      " DEBUG [18:28:53] [Netty Server IO #1/INFO]: [STDOUT]: got harbar 0\r"
     ]
    },
    {
     "name": "stdout",
     "output_type": "stream",
     "text": [
      "step = "
     ]
    },
    {
     "name": "stderr",
     "output_type": "stream",
     "text": [
      "\n"
     ]
    },
    {
     "name": "stdout",
     "output_type": "stream",
     "text": [
      " 482DEBUG:minerl.env.malmo.instance.42cbc8:[18:28:53] [Netty Server IO #1/INFO]: [STDOUT]: got slot 0\n",
      "\n"
     ]
    },
    {
     "name": "stderr",
     "output_type": "stream",
     "text": [
      "2019-12-01 18:28:53 LAPTOP-SDM3TI61 minerl.env.malmo.instance.42cbc8[24072] DEBUG [18:28:53] [Netty Server IO #1/INFO]: [STDOUT]: got slot 0\n"
     ]
    },
    {
     "name": "stdout",
     "output_type": "stream",
     "text": [
      "9.499999999999998\n",
      "step =  483\n",
      "9.499999999999998\n",
      "step =  484\n",
      "DEBUG:minerl.env.malmo.instance.42cbc8:[18:28:53] [Netty Server IO #1/INFO]: [STDOUT]: Equip message recieved\n"
     ]
    },
    {
     "name": "stderr",
     "output_type": "stream",
     "text": [
      "2019-12-01 18:28:53 LAPTOP-SDM3TI61 minerl.env.malmo.instance.42cbc8[24072] DEBUG [18:28:53] [Netty Server IO #1/INFO]: [STDOUT]: Equip message recieved\n"
     ]
    },
    {
     "name": "stdout",
     "output_type": "stream",
     "text": [
      "DEBUG:minerl.env.malmo.instance.42cbc8:[18:28:53] [Netty Server IO #1/INFO]: [STDOUT]: got harbar 0\r\n"
     ]
    },
    {
     "name": "stderr",
     "output_type": "stream",
     "text": [
      "2019-12-01 18:28:53 LAPTOP-SDM3TI61 minerl.env.malmo.instance.42cbc8[24072] "
     ]
    },
    {
     "name": "stdout",
     "output_type": "stream",
     "text": [
      "9.499999999999998"
     ]
    },
    {
     "name": "stderr",
     "output_type": "stream",
     "text": [
      "DEBUG"
     ]
    },
    {
     "name": "stdout",
     "output_type": "stream",
     "text": [
      "\n"
     ]
    },
    {
     "name": "stderr",
     "output_type": "stream",
     "text": [
      " [18:28:53] [Netty Server IO #1/INFO]: [STDOUT]: got harbar 0\n"
     ]
    },
    {
     "name": "stdout",
     "output_type": "stream",
     "text": [
      "DEBUG:minerl.env.malmo.instance.42cbc8:[18:28:53] [Netty Server IO #1/INFO]: [STDOUT]: got slot 0\r\n"
     ]
    },
    {
     "name": "stderr",
     "output_type": "stream",
     "text": [
      "2019-12-01 18:28:53"
     ]
    },
    {
     "name": "stdout",
     "output_type": "stream",
     "text": [
      "step =  "
     ]
    },
    {
     "name": "stderr",
     "output_type": "stream",
     "text": [
      " "
     ]
    },
    {
     "name": "stdout",
     "output_type": "stream",
     "text": [
      "485"
     ]
    },
    {
     "name": "stderr",
     "output_type": "stream",
     "text": [
      "LAPTOP-SDM3TI61"
     ]
    },
    {
     "name": "stdout",
     "output_type": "stream",
     "text": [
      "\n"
     ]
    },
    {
     "name": "stderr",
     "output_type": "stream",
     "text": [
      " minerl.env.malmo.instance.42cbc8[24072] DEBUG [18:28:53] [Netty Server IO #1/INFO]: [STDOUT]: got slot 0\n"
     ]
    },
    {
     "name": "stdout",
     "output_type": "stream",
     "text": [
      "9.499999999999998\n",
      "step =  486\n",
      "DEBUG:minerl.env.malmo.instance.42cbc8:[18:28:53] [Netty Server IO #1/INFO]: [STDOUT]: Equip message recieved\n"
     ]
    },
    {
     "name": "stderr",
     "output_type": "stream",
     "text": [
      "2019-12-01 18:28:53 LAPTOP-SDM3TI61 minerl.env.malmo.instance.42cbc8[24072] DEBUG [18:28:53] [Netty Server IO #1/INFO]: [STDOUT]: Equip message recieved\n"
     ]
    },
    {
     "name": "stdout",
     "output_type": "stream",
     "text": [
      "DEBUG:minerl.env.malmo.instance.42cbc8:[18:28:53] [Netty Server IO #1/INFO]: [STDOUT]: got harbar 0\r\n"
     ]
    },
    {
     "name": "stderr",
     "output_type": "stream",
     "text": [
      "2019-12-01 18:28:53 LAPTOP-SDM3TI61 minerl.env.malmo.instance.42cbc8[24072] "
     ]
    },
    {
     "name": "stdout",
     "output_type": "stream",
     "text": [
      "9.499999999999998\n"
     ]
    },
    {
     "name": "stderr",
     "output_type": "stream",
     "text": [
      "DEBUG [18:28:53] [Netty Server IO #1/INFO]: [STDOUT]: got harbar 0\n"
     ]
    },
    {
     "name": "stdout",
     "output_type": "stream",
     "text": [
      "DEBUG:minerl.env.malmo.instance.42cbc8:[18:28:53] [Netty Server IO #1/INFO]: [STDOUT]: got slot 0\n",
      "step = "
     ]
    },
    {
     "name": "stderr",
     "output_type": "stream",
     "text": [
      "2019-12-01 18:28:53"
     ]
    },
    {
     "name": "stdout",
     "output_type": "stream",
     "text": [
      " "
     ]
    },
    {
     "name": "stderr",
     "output_type": "stream",
     "text": [
      " LAPTOP-SDM3TI61"
     ]
    },
    {
     "name": "stdout",
     "output_type": "stream",
     "text": [
      "487\n"
     ]
    },
    {
     "name": "stderr",
     "output_type": "stream",
     "text": [
      " minerl.env.malmo.instance.42cbc8[24072] DEBUG [18:28:53] [Netty Server IO #1/INFO]: [STDOUT]: got slot 0\n"
     ]
    },
    {
     "name": "stdout",
     "output_type": "stream",
     "text": [
      "DEBUG:minerl.env.malmo.instance.42cbc8:[18:28:53] [Netty Server IO #1/INFO]: [STDOUT]: Equip message recieved\r\n"
     ]
    },
    {
     "name": "stderr",
     "output_type": "stream",
     "text": [
      "2019-12-01 18:28:53 LAPTOP-SDM3TI61 minerl.env.malmo.instance.42cbc8[24072] DEBUG "
     ]
    },
    {
     "name": "stdout",
     "output_type": "stream",
     "text": [
      "9.699999999999998"
     ]
    },
    {
     "name": "stderr",
     "output_type": "stream",
     "text": [
      "[18:28:53] [Netty Server IO #1/INFO]: [STDOUT]: Equip message recieved\r"
     ]
    },
    {
     "name": "stdout",
     "output_type": "stream",
     "text": [
      "\n"
     ]
    },
    {
     "name": "stderr",
     "output_type": "stream",
     "text": [
      "\n"
     ]
    },
    {
     "name": "stdout",
     "output_type": "stream",
     "text": [
      "DEBUG:minerl.env.malmo.instance.42cbc8:[18:28:53] [Netty Server IO #1/INFO]: [STDOUT]: got harbar 0\r\n"
     ]
    },
    {
     "name": "stderr",
     "output_type": "stream",
     "text": [
      "2019-12-01 18:28:53 LAPTOP-SDM3TI61"
     ]
    },
    {
     "name": "stdout",
     "output_type": "stream",
     "text": [
      "step = "
     ]
    },
    {
     "name": "stderr",
     "output_type": "stream",
     "text": [
      " "
     ]
    },
    {
     "name": "stdout",
     "output_type": "stream",
     "text": [
      " "
     ]
    },
    {
     "name": "stderr",
     "output_type": "stream",
     "text": [
      "minerl.env.malmo.instance.42cbc8[24072]"
     ]
    },
    {
     "name": "stdout",
     "output_type": "stream",
     "text": [
      "488\n"
     ]
    },
    {
     "name": "stderr",
     "output_type": "stream",
     "text": [
      " DEBUG [18:28:53] [Netty Server IO #1/INFO]: [STDOUT]: got harbar 0\n"
     ]
    },
    {
     "name": "stdout",
     "output_type": "stream",
     "text": [
      "DEBUG:minerl.env.malmo.instance.42cbc8:[18:28:53] [Netty Server IO #1/INFO]: [STDOUT]: got slot 0\r\n"
     ]
    },
    {
     "name": "stderr",
     "output_type": "stream",
     "text": [
      "2019-12-01 18:28:53 LAPTOP-SDM3TI61 minerl.env.malmo.instance.42cbc8[24072] DEBUG [18:28:53] [Netty Server IO #1/INFO]: [STDOUT]: got slot 0\n"
     ]
    },
    {
     "name": "stdout",
     "output_type": "stream",
     "text": [
      "DEBUG:minerl.env.malmo.instance.42cbc8:[18:28:53] [Client thread/INFO]: [CHAT] §l875...\r\n"
     ]
    },
    {
     "name": "stderr",
     "output_type": "stream",
     "text": [
      "2019-12-01 18:28:53"
     ]
    },
    {
     "name": "stdout",
     "output_type": "stream",
     "text": [
      "9.699999999999998"
     ]
    },
    {
     "name": "stderr",
     "output_type": "stream",
     "text": [
      " "
     ]
    },
    {
     "name": "stdout",
     "output_type": "stream",
     "text": [
      "\n"
     ]
    },
    {
     "name": "stderr",
     "output_type": "stream",
     "text": [
      "LAPTOP-SDM3TI61 minerl.env.malmo.instance.42cbc8[24072] "
     ]
    },
    {
     "name": "stdout",
     "output_type": "stream",
     "text": [
      "step =  "
     ]
    },
    {
     "name": "stderr",
     "output_type": "stream",
     "text": [
      "DEBUG"
     ]
    },
    {
     "name": "stdout",
     "output_type": "stream",
     "text": [
      "489"
     ]
    },
    {
     "name": "stderr",
     "output_type": "stream",
     "text": [
      " "
     ]
    },
    {
     "name": "stdout",
     "output_type": "stream",
     "text": [
      "\n"
     ]
    },
    {
     "name": "stderr",
     "output_type": "stream",
     "text": [
      "[18:28:53] [Client thread/INFO]: [CHAT] §l875...\n"
     ]
    },
    {
     "name": "stdout",
     "output_type": "stream",
     "text": [
      "DEBUG:minerl.env.malmo.instance.42cbc8:[18:28:53] [Netty Server IO #1/INFO]: [STDOUT]: Equip message recieved\r\n"
     ]
    },
    {
     "name": "stderr",
     "output_type": "stream",
     "text": [
      "2019-12-01 18:28:53 LAPTOP-SDM3TI61 minerl.env.malmo.instance.42cbc8[24072] DEBUG [18:28:53] [Netty Server IO #1/INFO]: [STDOUT]: Equip message recieved\n"
     ]
    },
    {
     "name": "stdout",
     "output_type": "stream",
     "text": [
      "DEBUG:minerl.env.malmo.instance.42cbc8:[18:28:53] [Netty Server IO #1/INFO]: [STDOUT]: got harbar 0\r\n"
     ]
    },
    {
     "name": "stderr",
     "output_type": "stream",
     "text": [
      "2019-12-01 18:28:53 "
     ]
    },
    {
     "name": "stdout",
     "output_type": "stream",
     "text": [
      "9.699999999999998\n"
     ]
    },
    {
     "name": "stderr",
     "output_type": "stream",
     "text": [
      "LAPTOP-SDM3TI61 minerl.env.malmo.instance.42cbc8[24072] DEBUG"
     ]
    },
    {
     "name": "stdout",
     "output_type": "stream",
     "text": [
      "step = "
     ]
    },
    {
     "name": "stderr",
     "output_type": "stream",
     "text": [
      " "
     ]
    },
    {
     "name": "stdout",
     "output_type": "stream",
     "text": [
      " "
     ]
    },
    {
     "name": "stderr",
     "output_type": "stream",
     "text": [
      "[18:28:53] [Netty Server IO #1/INFO]: [STDOUT]: got harbar 0\r"
     ]
    },
    {
     "name": "stdout",
     "output_type": "stream",
     "text": [
      "490"
     ]
    },
    {
     "name": "stderr",
     "output_type": "stream",
     "text": [
      "\n"
     ]
    },
    {
     "name": "stdout",
     "output_type": "stream",
     "text": [
      "\n",
      "DEBUG:minerl.env.malmo.instance.42cbc8:[18:28:53] [Netty Server IO #1/INFO]: [STDOUT]: got slot 0\n"
     ]
    },
    {
     "name": "stderr",
     "output_type": "stream",
     "text": [
      "2019-12-01 18:28:53 LAPTOP-SDM3TI61 minerl.env.malmo.instance.42cbc8[24072] DEBUG [18:28:53] [Netty Server IO #1/INFO]: [STDOUT]: got slot 0\n"
     ]
    },
    {
     "name": "stdout",
     "output_type": "stream",
     "text": [
      "9.699999999999998\n",
      "step =  491\n",
      "9.699999999999998\n",
      "step =  492\n",
      "9.699999999999998\n",
      "step =  493\n",
      "9.699999999999998\n",
      "step =  494\n",
      "9.699999999999998\n",
      "step =  495\n",
      "9.699999999999998\n",
      "step =  496\n",
      "DEBUG:minerl.env.malmo.instance.42cbc8:[18:28:53] [Netty Server IO #1/INFO]: [STDOUT]: Equip message recieved\n"
     ]
    },
    {
     "name": "stderr",
     "output_type": "stream",
     "text": [
      "2019-12-01 18:28:53 LAPTOP-SDM3TI61 minerl.env.malmo.instance.42cbc8[24072] DEBUG [18:28:53] [Netty Server IO #1/INFO]: [STDOUT]: Equip message recieved\n"
     ]
    },
    {
     "name": "stdout",
     "output_type": "stream",
     "text": [
      "DEBUG:minerl.env.malmo.instance.42cbc8:[18:28:53] [Netty Server IO #1/INFO]: [STDOUT]: got harbar 0\r\n"
     ]
    },
    {
     "name": "stderr",
     "output_type": "stream",
     "text": [
      "2019-12-01 18:28:53 LAPTOP-SDM3TI61 minerl.env.malmo.instance.42cbc8[24072] "
     ]
    },
    {
     "name": "stdout",
     "output_type": "stream",
     "text": [
      "9.699999999999998"
     ]
    },
    {
     "name": "stderr",
     "output_type": "stream",
     "text": [
      "DEBUG "
     ]
    },
    {
     "name": "stdout",
     "output_type": "stream",
     "text": [
      "\n"
     ]
    },
    {
     "name": "stderr",
     "output_type": "stream",
     "text": [
      "[18:28:53] [Netty Server IO #1/INFO]: [STDOUT]: got harbar 0\n"
     ]
    },
    {
     "name": "stdout",
     "output_type": "stream",
     "text": [
      "step = DEBUG:minerl.env.malmo.instance.42cbc8:[18:28:53] [Netty Server IO #1/INFO]: [STDOUT]: got slot 0\n",
      " "
     ]
    },
    {
     "name": "stderr",
     "output_type": "stream",
     "text": [
      "2019-12-01 18:28:53"
     ]
    },
    {
     "name": "stdout",
     "output_type": "stream",
     "text": [
      "497"
     ]
    },
    {
     "name": "stderr",
     "output_type": "stream",
     "text": [
      " "
     ]
    },
    {
     "name": "stdout",
     "output_type": "stream",
     "text": [
      "\n"
     ]
    },
    {
     "name": "stderr",
     "output_type": "stream",
     "text": [
      "LAPTOP-SDM3TI61 minerl.env.malmo.instance.42cbc8[24072] DEBUG [18:28:53] [Netty Server IO #1/INFO]: [STDOUT]: got slot 0\n"
     ]
    },
    {
     "name": "stdout",
     "output_type": "stream",
     "text": [
      "9.699999999999998\n",
      "step =  498\n",
      "9.699999999999998\n",
      "step =  499\n",
      "9.699999999999998\n",
      "step =  500\n",
      "9.699999999999998\n",
      "step =  501\n",
      "9.699999999999998\n",
      "step =  502\n",
      "9.699999999999998\n",
      "step =  503\n",
      "9.699999999999998\n",
      "step =  504\n",
      "9.699999999999998\n",
      "step =  505\n",
      "9.699999999999998\n",
      "step =  506\n",
      "9.699999999999998\n",
      "step =  507\n",
      "9.699999999999998\n",
      "step =  508\n",
      "9.899999999999997\n",
      "step =  509\n",
      "9.899999999999997\n",
      "step =  510\n",
      "9.899999999999997\n",
      "step =  511\n",
      "DEBUG:minerl.env.malmo.instance.42cbc8:[18:28:53] [Netty Server IO #1/INFO]: [STDOUT]: Equip message recieved\n"
     ]
    },
    {
     "name": "stderr",
     "output_type": "stream",
     "text": [
      "2019-12-01 18:28:54 LAPTOP-SDM3TI61 minerl.env.malmo.instance.42cbc8[24072] DEBUG [18:28:53] [Netty Server IO #1/INFO]: [STDOUT]: Equip message recieved\n"
     ]
    },
    {
     "name": "stdout",
     "output_type": "stream",
     "text": [
      "DEBUG:minerl.env.malmo.instance.42cbc8:[18:28:53] [Netty Server IO #1/INFO]: [STDOUT]: got harbar 0\r\n"
     ]
    },
    {
     "name": "stderr",
     "output_type": "stream",
     "text": [
      "2019-12-01 18:28:54 LAPTOP-SDM3TI61 minerl.env.malmo.instance.42cbc8[24072] DEBUG [18:28:53] [Netty Server IO #1/INFO]: [STDOUT]: got harbar 0\n"
     ]
    },
    {
     "name": "stdout",
     "output_type": "stream",
     "text": [
      "DEBUG:minerl.env.malmo.instance.42cbc8:[18:28:53] [Netty Server IO #1/INFO]: [STDOUT]: got slot 0\r\n"
     ]
    },
    {
     "name": "stderr",
     "output_type": "stream",
     "text": [
      "2019-12-01 18:28:54"
     ]
    },
    {
     "name": "stdout",
     "output_type": "stream",
     "text": [
      "9.899999999999997"
     ]
    },
    {
     "name": "stderr",
     "output_type": "stream",
     "text": [
      " "
     ]
    },
    {
     "name": "stdout",
     "output_type": "stream",
     "text": [
      "\n"
     ]
    },
    {
     "name": "stderr",
     "output_type": "stream",
     "text": [
      "LAPTOP-SDM3TI61 minerl.env.malmo.instance.42cbc8[24072]"
     ]
    },
    {
     "name": "stdout",
     "output_type": "stream",
     "text": [
      "step = "
     ]
    },
    {
     "name": "stderr",
     "output_type": "stream",
     "text": [
      " "
     ]
    },
    {
     "name": "stdout",
     "output_type": "stream",
     "text": [
      " "
     ]
    },
    {
     "name": "stderr",
     "output_type": "stream",
     "text": [
      "DEBUG"
     ]
    },
    {
     "name": "stdout",
     "output_type": "stream",
     "text": [
      "512"
     ]
    },
    {
     "name": "stderr",
     "output_type": "stream",
     "text": [
      " "
     ]
    },
    {
     "name": "stdout",
     "output_type": "stream",
     "text": [
      "\n"
     ]
    },
    {
     "name": "stderr",
     "output_type": "stream",
     "text": [
      "[18:28:53] [Netty Server IO #1/INFO]: [STDOUT]: got slot 0\n"
     ]
    },
    {
     "name": "stdout",
     "output_type": "stream",
     "text": [
      "DEBUG:minerl.env.malmo.instance.42cbc8:[18:28:53] [Netty Server IO #1/INFO]: [STDOUT]: Equip message recieved\r\n"
     ]
    },
    {
     "name": "stderr",
     "output_type": "stream",
     "text": [
      "2019-12-01 18:28:54 LAPTOP-SDM3TI61 minerl.env.malmo.instance.42cbc8[24072] DEBUG [18:28:53] [Netty Server IO #1/INFO]: [STDOUT]: Equip message recieved\n"
     ]
    },
    {
     "name": "stdout",
     "output_type": "stream",
     "text": [
      "DEBUG:minerl.env.malmo.instance.42cbc8:[18:28:53] [Netty Server IO #1/INFO]: [STDOUT]: got harbar 0\r\n"
     ]
    },
    {
     "name": "stderr",
     "output_type": "stream",
     "text": [
      "2019-12-01 18:28:54 LAPTOP-SDM3TI61 minerl.env.malmo.instance.42cbc8[24072] "
     ]
    },
    {
     "name": "stdout",
     "output_type": "stream",
     "text": [
      "9.899999999999997"
     ]
    },
    {
     "name": "stderr",
     "output_type": "stream",
     "text": [
      "DEBUG"
     ]
    },
    {
     "name": "stdout",
     "output_type": "stream",
     "text": [
      "\n"
     ]
    },
    {
     "name": "stderr",
     "output_type": "stream",
     "text": [
      " [18:28:53] [Netty Server IO #1/INFO]: [STDOUT]: got harbar 0\n"
     ]
    },
    {
     "name": "stdout",
     "output_type": "stream",
     "text": [
      "step = DEBUG:minerl.env.malmo.instance.42cbc8:[18:28:53] [Netty Server IO #1/INFO]: [STDOUT]: got slot 0\n"
     ]
    },
    {
     "name": "stderr",
     "output_type": "stream",
     "text": [
      "2019-12-01 18:28:54"
     ]
    },
    {
     "name": "stdout",
     "output_type": "stream",
     "text": [
      " "
     ]
    },
    {
     "name": "stderr",
     "output_type": "stream",
     "text": [
      " "
     ]
    },
    {
     "name": "stdout",
     "output_type": "stream",
     "text": [
      "513"
     ]
    },
    {
     "name": "stderr",
     "output_type": "stream",
     "text": [
      "LAPTOP-SDM3TI61"
     ]
    },
    {
     "name": "stdout",
     "output_type": "stream",
     "text": [
      "\n"
     ]
    },
    {
     "name": "stderr",
     "output_type": "stream",
     "text": [
      " minerl.env.malmo.instance.42cbc8[24072] DEBUG [18:28:53] [Netty Server IO #1/INFO]: [STDOUT]: got slot 0\n"
     ]
    },
    {
     "name": "stdout",
     "output_type": "stream",
     "text": [
      "DEBUG:minerl.env.malmo.instance.42cbc8:[18:28:53] [Netty Server IO #1/INFO]: [STDOUT]: Equip message recieved\r\n"
     ]
    },
    {
     "name": "stderr",
     "output_type": "stream",
     "text": [
      "2019-12-01 18:28:54 LAPTOP-SDM3TI61 minerl.env.malmo.instance.42cbc8[24072] DEBUG [18:28:53] [Netty Server IO #1/INFO]: [STDOUT]: Equip message recieved\n"
     ]
    },
    {
     "name": "stdout",
     "output_type": "stream",
     "text": [
      "DEBUG:minerl.env.malmo.instance.42cbc8:[18:28:53] [Netty Server IO #1/INFO]: [STDOUT]: got harbar 0\r\n"
     ]
    },
    {
     "name": "stderr",
     "output_type": "stream",
     "text": [
      "2019-12-01 18:28:54 "
     ]
    },
    {
     "name": "stdout",
     "output_type": "stream",
     "text": [
      "9.899999999999997"
     ]
    },
    {
     "name": "stderr",
     "output_type": "stream",
     "text": [
      "LAPTOP-SDM3TI61"
     ]
    },
    {
     "name": "stdout",
     "output_type": "stream",
     "text": [
      "\n"
     ]
    },
    {
     "name": "stderr",
     "output_type": "stream",
     "text": [
      " minerl.env.malmo.instance.42cbc8[24072] DEBUG "
     ]
    },
    {
     "name": "stdout",
     "output_type": "stream",
     "text": [
      "step = "
     ]
    },
    {
     "name": "stderr",
     "output_type": "stream",
     "text": [
      "[18:28:53] [Netty Server IO #1/INFO]: [STDOUT]: got harbar 0\n"
     ]
    },
    {
     "name": "stdout",
     "output_type": "stream",
     "text": [
      " 514DEBUG:minerl.env.malmo.instance.42cbc8:[18:28:53] [Netty Server IO #1/INFO]: [STDOUT]: got slot 0\n",
      "\n"
     ]
    },
    {
     "name": "stderr",
     "output_type": "stream",
     "text": [
      "2019-12-01 18:28:54 LAPTOP-SDM3TI61 minerl.env.malmo.instance.42cbc8[24072] DEBUG [18:28:53] [Netty Server IO #1/INFO]: [STDOUT]: got slot 0\n"
     ]
    },
    {
     "name": "stdout",
     "output_type": "stream",
     "text": [
      "DEBUG:minerl.env.malmo.instance.42cbc8:[18:28:54] [Netty Server IO #1/INFO]: [STDOUT]: Equip message recieved\r\n"
     ]
    },
    {
     "name": "stderr",
     "output_type": "stream",
     "text": [
      "2019-12-01 18:28:54 LAPTOP-SDM3TI61 minerl.env.malmo.instance.42cbc8[24072] DEBUG [18:28:54] [Netty Server IO #1/INFO]: [STDOUT]: Equip message recieved\n"
     ]
    },
    {
     "name": "stdout",
     "output_type": "stream",
     "text": [
      "9.899999999999997\n",
      "DEBUG:minerl.env.malmo.instance.42cbc8:[18:28:54] [Netty Server IO #1/INFO]: [STDOUT]: got harbar 0\n"
     ]
    },
    {
     "name": "stderr",
     "output_type": "stream",
     "text": [
      "2019-12-01 18:28:54 LAPTOP-SDM3TI61 "
     ]
    },
    {
     "name": "stdout",
     "output_type": "stream",
     "text": [
      "step = "
     ]
    },
    {
     "name": "stderr",
     "output_type": "stream",
     "text": [
      "minerl.env.malmo.instance.42cbc8[24072]"
     ]
    },
    {
     "name": "stdout",
     "output_type": "stream",
     "text": [
      " "
     ]
    },
    {
     "name": "stderr",
     "output_type": "stream",
     "text": [
      " "
     ]
    },
    {
     "name": "stdout",
     "output_type": "stream",
     "text": [
      "515"
     ]
    },
    {
     "name": "stderr",
     "output_type": "stream",
     "text": [
      "DEBUG"
     ]
    },
    {
     "name": "stdout",
     "output_type": "stream",
     "text": [
      "\n"
     ]
    },
    {
     "name": "stderr",
     "output_type": "stream",
     "text": [
      " [18:28:54] [Netty Server IO #1/INFO]: [STDOUT]: got harbar 0\n"
     ]
    },
    {
     "name": "stdout",
     "output_type": "stream",
     "text": [
      "DEBUG:minerl.env.malmo.instance.42cbc8:[18:28:54] [Netty Server IO #1/INFO]: [STDOUT]: got slot 0\r\n"
     ]
    },
    {
     "name": "stderr",
     "output_type": "stream",
     "text": [
      "2019-12-01 18:28:54 LAPTOP-SDM3TI61 minerl.env.malmo.instance.42cbc8[24072] DEBUG [18:28:54] [Netty Server IO #1/INFO]: [STDOUT]: got slot 0\n"
     ]
    },
    {
     "name": "stdout",
     "output_type": "stream",
     "text": [
      "DEBUG:minerl.env.malmo.instance.42cbc8:[18:28:54] [Netty Server IO #1/INFO]: [STDOUT]: Equip message recieved\r\n"
     ]
    },
    {
     "name": "stderr",
     "output_type": "stream",
     "text": [
      "2019-12-01 18:28:54 LAPTOP-SDM3TI61 minerl.env.malmo.instance.42cbc8[24072] DEBUG [18:28:54] [Netty Server IO #1/INFO]: [STDOUT]: Equip message recieved\n"
     ]
    },
    {
     "name": "stdout",
     "output_type": "stream",
     "text": [
      "DEBUG:minerl.env.malmo.instance.42cbc8:[18:28:54] [Netty Server IO #1/INFO]: [STDOUT]: got harbar 0\r\n"
     ]
    },
    {
     "name": "stderr",
     "output_type": "stream",
     "text": [
      "2019-12-01 18:28:54 LAPTOP-SDM3TI61 minerl.env.malmo.instance.42cbc8[24072] DEBUG [18:28:54] [Netty Server IO #1/INFO]: [STDOUT]: got harbar 0\n"
     ]
    },
    {
     "name": "stdout",
     "output_type": "stream",
     "text": [
      "9.899999999999997DEBUG:minerl.env.malmo.instance.42cbc8:[18:28:54] [Netty Server IO #1/INFO]: [STDOUT]: got slot 0\n",
      "\n"
     ]
    },
    {
     "name": "stderr",
     "output_type": "stream",
     "text": [
      "2019-12-01 18:28:54 LAPTOP-SDM3TI61"
     ]
    },
    {
     "name": "stdout",
     "output_type": "stream",
     "text": [
      "step = "
     ]
    },
    {
     "name": "stderr",
     "output_type": "stream",
     "text": [
      " "
     ]
    },
    {
     "name": "stdout",
     "output_type": "stream",
     "text": [
      " "
     ]
    },
    {
     "name": "stderr",
     "output_type": "stream",
     "text": [
      "minerl.env.malmo.instance.42cbc8[24072]"
     ]
    },
    {
     "name": "stdout",
     "output_type": "stream",
     "text": [
      "516"
     ]
    },
    {
     "name": "stderr",
     "output_type": "stream",
     "text": [
      " "
     ]
    },
    {
     "name": "stdout",
     "output_type": "stream",
     "text": [
      "\n"
     ]
    },
    {
     "name": "stderr",
     "output_type": "stream",
     "text": [
      "DEBUG [18:28:54] [Netty Server IO #1/INFO]: [STDOUT]: got slot 0\n"
     ]
    },
    {
     "name": "stdout",
     "output_type": "stream",
     "text": [
      "DEBUG:minerl.env.malmo.instance.42cbc8:[18:28:54] [Netty Server IO #1/INFO]: [STDOUT]: Equip message recieved\r\n"
     ]
    },
    {
     "name": "stderr",
     "output_type": "stream",
     "text": [
      "2019-12-01 18:28:54 LAPTOP-SDM3TI61 minerl.env.malmo.instance.42cbc8[24072] DEBUG [18:28:54] [Netty Server IO #1/INFO]: [STDOUT]: Equip message recieved\n"
     ]
    },
    {
     "name": "stdout",
     "output_type": "stream",
     "text": [
      "DEBUG:minerl.env.malmo.instance.42cbc8:[18:28:54] [Netty Server IO #1/INFO]: [STDOUT]: got harbar 0\r\n"
     ]
    },
    {
     "name": "stderr",
     "output_type": "stream",
     "text": [
      "2019-12-01 18:28:54 LAPTOP-SDM3TI61 "
     ]
    },
    {
     "name": "stdout",
     "output_type": "stream",
     "text": [
      "9.899999999999997"
     ]
    },
    {
     "name": "stderr",
     "output_type": "stream",
     "text": [
      "minerl.env.malmo.instance.42cbc8[24072]"
     ]
    },
    {
     "name": "stdout",
     "output_type": "stream",
     "text": [
      "\n"
     ]
    },
    {
     "name": "stderr",
     "output_type": "stream",
     "text": [
      " DEBUG [18:28:54] [Netty Server IO #1/INFO]: [STDOUT]: got harbar 0\r"
     ]
    },
    {
     "name": "stdout",
     "output_type": "stream",
     "text": [
      "step = "
     ]
    },
    {
     "name": "stderr",
     "output_type": "stream",
     "text": [
      "\n"
     ]
    },
    {
     "name": "stdout",
     "output_type": "stream",
     "text": [
      " 517DEBUG:minerl.env.malmo.instance.42cbc8:[18:28:54] [Netty Server IO #1/INFO]: [STDOUT]: got slot 0\n"
     ]
    },
    {
     "name": "stderr",
     "output_type": "stream",
     "text": [
      "2019-12-01 18:28:54"
     ]
    },
    {
     "name": "stdout",
     "output_type": "stream",
     "text": [
      "\n"
     ]
    },
    {
     "name": "stderr",
     "output_type": "stream",
     "text": [
      " LAPTOP-SDM3TI61 minerl.env.malmo.instance.42cbc8[24072] DEBUG [18:28:54] [Netty Server IO #1/INFO]: [STDOUT]: got slot 0\n"
     ]
    },
    {
     "name": "stdout",
     "output_type": "stream",
     "text": [
      "DEBUG:minerl.env.malmo.instance.42cbc8:[18:28:54] [Client thread/INFO]: [CHAT] §l874...\r\n"
     ]
    },
    {
     "name": "stderr",
     "output_type": "stream",
     "text": [
      "2019-12-01 18:28:54 LAPTOP-SDM3TI61 minerl.env.malmo.instance.42cbc8[24072] DEBUG [18:28:54] [Client thread/INFO]: [CHAT] §l874...\r"
     ]
    },
    {
     "name": "stdout",
     "output_type": "stream",
     "text": [
      "9.899999999999997"
     ]
    },
    {
     "name": "stderr",
     "output_type": "stream",
     "text": [
      "\n"
     ]
    },
    {
     "name": "stdout",
     "output_type": "stream",
     "text": [
      "\n",
      "DEBUG:minerl.env.malmo.instance.42cbc8:[18:28:54] [Netty Server IO #1/INFO]: [STDOUT]: Equip message recieved\n"
     ]
    },
    {
     "name": "stderr",
     "output_type": "stream",
     "text": [
      "2019-12-01 18:28:54"
     ]
    },
    {
     "name": "stdout",
     "output_type": "stream",
     "text": [
      "step = "
     ]
    },
    {
     "name": "stderr",
     "output_type": "stream",
     "text": [
      " "
     ]
    },
    {
     "name": "stdout",
     "output_type": "stream",
     "text": [
      " "
     ]
    },
    {
     "name": "stderr",
     "output_type": "stream",
     "text": [
      "LAPTOP-SDM3TI61"
     ]
    },
    {
     "name": "stdout",
     "output_type": "stream",
     "text": [
      "518"
     ]
    },
    {
     "name": "stderr",
     "output_type": "stream",
     "text": [
      " "
     ]
    },
    {
     "name": "stdout",
     "output_type": "stream",
     "text": [
      "\n"
     ]
    },
    {
     "name": "stderr",
     "output_type": "stream",
     "text": [
      "minerl.env.malmo.instance.42cbc8[24072] DEBUG [18:28:54] [Netty Server IO #1/INFO]: [STDOUT]: Equip message recieved\n"
     ]
    },
    {
     "name": "stdout",
     "output_type": "stream",
     "text": [
      "DEBUG:minerl.env.malmo.instance.42cbc8:[18:28:54] [Netty Server IO #1/INFO]: [STDOUT]: got harbar 0\r\n"
     ]
    },
    {
     "name": "stderr",
     "output_type": "stream",
     "text": [
      "2019-12-01 18:28:54 LAPTOP-SDM3TI61 minerl.env.malmo.instance.42cbc8[24072] DEBUG [18:28:54] [Netty Server IO #1/INFO]: [STDOUT]: got harbar 0\n"
     ]
    },
    {
     "name": "stdout",
     "output_type": "stream",
     "text": [
      "DEBUG:minerl.env.malmo.instance.42cbc8:[18:28:54] [Netty Server IO #1/INFO]: [STDOUT]: got slot 0\r\n"
     ]
    },
    {
     "name": "stderr",
     "output_type": "stream",
     "text": [
      "2019-12-01 18:28:54"
     ]
    },
    {
     "name": "stdout",
     "output_type": "stream",
     "text": [
      "10.099999999999996"
     ]
    },
    {
     "name": "stderr",
     "output_type": "stream",
     "text": [
      " "
     ]
    },
    {
     "name": "stdout",
     "output_type": "stream",
     "text": [
      "\n"
     ]
    },
    {
     "name": "stderr",
     "output_type": "stream",
     "text": [
      "LAPTOP-SDM3TI61 minerl.env.malmo.instance.42cbc8[24072] DEBUG"
     ]
    },
    {
     "name": "stdout",
     "output_type": "stream",
     "text": [
      "step = "
     ]
    },
    {
     "name": "stderr",
     "output_type": "stream",
     "text": [
      " "
     ]
    },
    {
     "name": "stdout",
     "output_type": "stream",
     "text": [
      " "
     ]
    },
    {
     "name": "stderr",
     "output_type": "stream",
     "text": [
      "[18:28:54] [Netty Server IO #1/INFO]: [STDOUT]: got slot 0\r"
     ]
    },
    {
     "name": "stdout",
     "output_type": "stream",
     "text": [
      "519"
     ]
    },
    {
     "name": "stderr",
     "output_type": "stream",
     "text": [
      "\n"
     ]
    },
    {
     "name": "stdout",
     "output_type": "stream",
     "text": [
      "\n",
      "DEBUG:minerl.env.malmo.instance.42cbc8:[18:28:54] [Netty Server IO #1/INFO]: [STDOUT]: Equip message recieved\n"
     ]
    },
    {
     "name": "stderr",
     "output_type": "stream",
     "text": [
      "2019-12-01 18:28:54 LAPTOP-SDM3TI61 minerl.env.malmo.instance.42cbc8[24072] DEBUG [18:28:54] [Netty Server IO #1/INFO]: [STDOUT]: Equip message recieved\n"
     ]
    },
    {
     "name": "stdout",
     "output_type": "stream",
     "text": [
      "DEBUG:minerl.env.malmo.instance.42cbc8:[18:28:54] [Netty Server IO #1/INFO]: [STDOUT]: got harbar 0\r\n"
     ]
    },
    {
     "name": "stderr",
     "output_type": "stream",
     "text": [
      "2019-12-01 18:28:54 LAPTOP-SDM3TI61 minerl.env.malmo.instance.42cbc8[24072] DEBUG"
     ]
    },
    {
     "name": "stdout",
     "output_type": "stream",
     "text": [
      "10.099999999999996\n"
     ]
    },
    {
     "name": "stderr",
     "output_type": "stream",
     "text": [
      " [18:28:54] [Netty Server IO #1/INFO]: [STDOUT]: got harbar 0\n"
     ]
    },
    {
     "name": "stdout",
     "output_type": "stream",
     "text": [
      "DEBUG:minerl.env.malmo.instance.42cbc8:[18:28:54] [Netty Server IO #1/INFO]: [STDOUT]: got slot 0\r\n"
     ]
    },
    {
     "name": "stderr",
     "output_type": "stream",
     "text": [
      "2019-12-01 18:28:54 "
     ]
    },
    {
     "name": "stdout",
     "output_type": "stream",
     "text": [
      "step = "
     ]
    },
    {
     "name": "stderr",
     "output_type": "stream",
     "text": [
      "LAPTOP-SDM3TI61"
     ]
    },
    {
     "name": "stdout",
     "output_type": "stream",
     "text": [
      " "
     ]
    },
    {
     "name": "stderr",
     "output_type": "stream",
     "text": [
      " "
     ]
    },
    {
     "name": "stdout",
     "output_type": "stream",
     "text": [
      "520"
     ]
    },
    {
     "name": "stderr",
     "output_type": "stream",
     "text": [
      "minerl.env.malmo.instance.42cbc8[24072]"
     ]
    },
    {
     "name": "stdout",
     "output_type": "stream",
     "text": [
      "\n"
     ]
    },
    {
     "name": "stderr",
     "output_type": "stream",
     "text": [
      " DEBUG [18:28:54] [Netty Server IO #1/INFO]: [STDOUT]: got slot 0\r"
     ]
    },
    {
     "name": "stdout",
     "output_type": "stream",
     "text": [
      "10.099999999999996\n",
      "step =  521\n",
      "10.099999999999996\n",
      "step =  522\n",
      "10.099999999999996\n",
      "step =  523\n"
     ]
    },
    {
     "name": "stderr",
     "output_type": "stream",
     "text": [
      "\n"
     ]
    },
    {
     "name": "stdout",
     "output_type": "stream",
     "text": [
      "DEBUG:minerl.env.malmo.instance.42cbc8:[18:28:54] [Netty Server IO #1/INFO]: [STDOUT]: Equip message recieved\r\n"
     ]
    },
    {
     "name": "stderr",
     "output_type": "stream",
     "text": [
      "2019-12-01 18:28:54 LAPTOP-SDM3TI61 minerl.env.malmo.instance.42cbc8[24072] DEBUG "
     ]
    },
    {
     "name": "stdout",
     "output_type": "stream",
     "text": [
      "10.099999999999996"
     ]
    },
    {
     "name": "stderr",
     "output_type": "stream",
     "text": [
      "[18:28:54] [Netty Server IO #1/INFO]: [STDOUT]: Equip message recieved\r"
     ]
    },
    {
     "name": "stdout",
     "output_type": "stream",
     "text": [
      "\n"
     ]
    },
    {
     "name": "stderr",
     "output_type": "stream",
     "text": [
      "\n"
     ]
    },
    {
     "name": "stdout",
     "output_type": "stream",
     "text": [
      "DEBUG:minerl.env.malmo.instance.42cbc8:[18:28:54] [Netty Server IO #1/INFO]: [STDOUT]: got harbar 0\n"
     ]
    },
    {
     "name": "stderr",
     "output_type": "stream",
     "text": [
      "2019-12-01 18:28:54 "
     ]
    },
    {
     "name": "stdout",
     "output_type": "stream",
     "text": [
      "step = "
     ]
    },
    {
     "name": "stderr",
     "output_type": "stream",
     "text": [
      "LAPTOP-SDM3TI61"
     ]
    },
    {
     "name": "stdout",
     "output_type": "stream",
     "text": [
      " "
     ]
    },
    {
     "name": "stderr",
     "output_type": "stream",
     "text": [
      " minerl.env.malmo.instance.42cbc8[24072]"
     ]
    },
    {
     "name": "stdout",
     "output_type": "stream",
     "text": [
      "524"
     ]
    },
    {
     "name": "stderr",
     "output_type": "stream",
     "text": [
      " "
     ]
    },
    {
     "name": "stdout",
     "output_type": "stream",
     "text": [
      "\n"
     ]
    },
    {
     "name": "stderr",
     "output_type": "stream",
     "text": [
      "DEBUG [18:28:54] [Netty Server IO #1/INFO]: [STDOUT]: got harbar 0\n"
     ]
    },
    {
     "name": "stdout",
     "output_type": "stream",
     "text": [
      "DEBUG:minerl.env.malmo.instance.42cbc8:[18:28:54] [Netty Server IO #1/INFO]: [STDOUT]: got slot 0\r\n"
     ]
    },
    {
     "name": "stderr",
     "output_type": "stream",
     "text": [
      "2019-12-01 18:28:54 LAPTOP-SDM3TI61 minerl.env.malmo.instance.42cbc8[24072] DEBUG [18:28:54] [Netty Server IO #1/INFO]: [STDOUT]: got slot 0\n"
     ]
    },
    {
     "name": "stdout",
     "output_type": "stream",
     "text": [
      "DEBUG:minerl.env.malmo.instance.42cbc8:[18:28:54] [Netty Server IO #1/INFO]: [STDOUT]: Equip message recieved\r\n"
     ]
    },
    {
     "name": "stderr",
     "output_type": "stream",
     "text": [
      "2019-12-01 18:28:54 LAPTOP-SDM3TI61"
     ]
    },
    {
     "name": "stdout",
     "output_type": "stream",
     "text": [
      "10.099999999999996"
     ]
    },
    {
     "name": "stderr",
     "output_type": "stream",
     "text": [
      " "
     ]
    },
    {
     "name": "stdout",
     "output_type": "stream",
     "text": [
      "\n"
     ]
    },
    {
     "name": "stderr",
     "output_type": "stream",
     "text": [
      "minerl.env.malmo.instance.42cbc8[24072] DEBUG [18:28:54] [Netty Server IO #1/INFO]: [STDOUT]: Equip message recieved\r"
     ]
    },
    {
     "name": "stdout",
     "output_type": "stream",
     "text": [
      "step = "
     ]
    },
    {
     "name": "stderr",
     "output_type": "stream",
     "text": [
      "\n"
     ]
    },
    {
     "name": "stdout",
     "output_type": "stream",
     "text": [
      " 525DEBUG:minerl.env.malmo.instance.42cbc8:[18:28:54] [Netty Server IO #1/INFO]: [STDOUT]: got harbar 0\n"
     ]
    },
    {
     "name": "stderr",
     "output_type": "stream",
     "text": [
      "2019-12-01 18:28:54"
     ]
    },
    {
     "name": "stdout",
     "output_type": "stream",
     "text": [
      "\n"
     ]
    },
    {
     "name": "stderr",
     "output_type": "stream",
     "text": [
      " LAPTOP-SDM3TI61 minerl.env.malmo.instance.42cbc8[24072] DEBUG [18:28:54] [Netty Server IO #1/INFO]: [STDOUT]: got harbar 0\n"
     ]
    },
    {
     "name": "stdout",
     "output_type": "stream",
     "text": [
      "DEBUG:minerl.env.malmo.instance.42cbc8:[18:28:54] [Netty Server IO #1/INFO]: [STDOUT]: got slot 0\r\n"
     ]
    },
    {
     "name": "stderr",
     "output_type": "stream",
     "text": [
      "2019-12-01 18:28:54 LAPTOP-SDM3TI61 minerl.env.malmo.instance.42cbc8[24072] "
     ]
    },
    {
     "name": "stdout",
     "output_type": "stream",
     "text": [
      "10.099999999999996"
     ]
    },
    {
     "name": "stderr",
     "output_type": "stream",
     "text": [
      "DEBUG"
     ]
    },
    {
     "name": "stdout",
     "output_type": "stream",
     "text": [
      "\n"
     ]
    },
    {
     "name": "stderr",
     "output_type": "stream",
     "text": [
      " [18:28:54] [Netty Server IO #1/INFO]: [STDOUT]: got slot 0\n"
     ]
    },
    {
     "name": "stdout",
     "output_type": "stream",
     "text": [
      "DEBUG:minerl.env.malmo.instance.42cbc8:[18:28:54] [Netty Server IO #1/INFO]: [STDOUT]: Equip message recieved\n",
      "step = "
     ]
    },
    {
     "name": "stderr",
     "output_type": "stream",
     "text": [
      "2019-12-01 18:28:54"
     ]
    },
    {
     "name": "stdout",
     "output_type": "stream",
     "text": [
      " "
     ]
    },
    {
     "name": "stderr",
     "output_type": "stream",
     "text": [
      " "
     ]
    },
    {
     "name": "stdout",
     "output_type": "stream",
     "text": [
      "526"
     ]
    },
    {
     "name": "stderr",
     "output_type": "stream",
     "text": [
      "LAPTOP-SDM3TI61 "
     ]
    },
    {
     "name": "stdout",
     "output_type": "stream",
     "text": [
      "\n"
     ]
    },
    {
     "name": "stderr",
     "output_type": "stream",
     "text": [
      "minerl.env.malmo.instance.42cbc8[24072] DEBUG [18:28:54] [Netty Server IO #1/INFO]: [STDOUT]: Equip message recieved\n"
     ]
    },
    {
     "name": "stdout",
     "output_type": "stream",
     "text": [
      "DEBUG:minerl.env.malmo.instance.42cbc8:[18:28:54] [Netty Server IO #1/INFO]: [STDOUT]: got harbar 0\r\n"
     ]
    },
    {
     "name": "stderr",
     "output_type": "stream",
     "text": [
      "2019-12-01 18:28:54 LAPTOP-SDM3TI61 minerl.env.malmo.instance.42cbc8[24072] DEBUG [18:28:54] [Netty Server IO #1/INFO]: [STDOUT]: got harbar 0\n"
     ]
    },
    {
     "name": "stdout",
     "output_type": "stream",
     "text": [
      "DEBUG:minerl.env.malmo.instance.42cbc8:[18:28:54] [Netty Server IO #1/INFO]: [STDOUT]: got slot 0\r\n"
     ]
    },
    {
     "name": "stderr",
     "output_type": "stream",
     "text": [
      "2019-12-01 18:28:54"
     ]
    },
    {
     "name": "stdout",
     "output_type": "stream",
     "text": [
      "10.099999999999996"
     ]
    },
    {
     "name": "stderr",
     "output_type": "stream",
     "text": [
      " "
     ]
    },
    {
     "name": "stdout",
     "output_type": "stream",
     "text": [
      "\n"
     ]
    },
    {
     "name": "stderr",
     "output_type": "stream",
     "text": [
      "LAPTOP-SDM3TI61 minerl.env.malmo.instance.42cbc8[24072] DEBUG"
     ]
    },
    {
     "name": "stdout",
     "output_type": "stream",
     "text": [
      "step = "
     ]
    },
    {
     "name": "stderr",
     "output_type": "stream",
     "text": [
      " "
     ]
    },
    {
     "name": "stdout",
     "output_type": "stream",
     "text": [
      " "
     ]
    },
    {
     "name": "stderr",
     "output_type": "stream",
     "text": [
      "[18:28:54] [Netty Server IO #1/INFO]: [STDOUT]: got slot 0\r"
     ]
    },
    {
     "name": "stdout",
     "output_type": "stream",
     "text": [
      "527"
     ]
    },
    {
     "name": "stderr",
     "output_type": "stream",
     "text": [
      "\n"
     ]
    },
    {
     "name": "stdout",
     "output_type": "stream",
     "text": [
      "\n",
      "DEBUG:minerl.env.malmo.instance.42cbc8:[18:28:54] [Netty Server IO #1/INFO]: [STDOUT]: Equip message recieved\n"
     ]
    },
    {
     "name": "stderr",
     "output_type": "stream",
     "text": [
      "2019-12-01 18:28:54 LAPTOP-SDM3TI61 minerl.env.malmo.instance.42cbc8[24072] DEBUG [18:28:54] [Netty Server IO #1/INFO]: [STDOUT]: Equip message recieved\n"
     ]
    },
    {
     "name": "stdout",
     "output_type": "stream",
     "text": [
      "DEBUG:minerl.env.malmo.instance.42cbc8:[18:28:54] [Netty Server IO #1/INFO]: [STDOUT]: got harbar 0\r\n"
     ]
    },
    {
     "name": "stderr",
     "output_type": "stream",
     "text": [
      "2019-12-01 18:28:54 LAPTOP-SDM3TI61 minerl.env.malmo.instance.42cbc8[24072] "
     ]
    },
    {
     "name": "stdout",
     "output_type": "stream",
     "text": [
      "10.099999999999996"
     ]
    },
    {
     "name": "stderr",
     "output_type": "stream",
     "text": [
      "DEBUG"
     ]
    },
    {
     "name": "stdout",
     "output_type": "stream",
     "text": [
      "\n"
     ]
    },
    {
     "name": "stderr",
     "output_type": "stream",
     "text": [
      " [18:28:54] [Netty Server IO #1/INFO]: [STDOUT]: got harbar 0\n"
     ]
    },
    {
     "name": "stdout",
     "output_type": "stream",
     "text": [
      "DEBUG:minerl.env.malmo.instance.42cbc8:[18:28:54] [Netty Server IO #1/INFO]: [STDOUT]: got slot 0\n",
      "step = "
     ]
    },
    {
     "name": "stderr",
     "output_type": "stream",
     "text": [
      "2019-12-01 18:28:54"
     ]
    },
    {
     "name": "stdout",
     "output_type": "stream",
     "text": [
      " "
     ]
    },
    {
     "name": "stderr",
     "output_type": "stream",
     "text": [
      " "
     ]
    },
    {
     "name": "stdout",
     "output_type": "stream",
     "text": [
      "528"
     ]
    },
    {
     "name": "stderr",
     "output_type": "stream",
     "text": [
      "LAPTOP-SDM3TI61 "
     ]
    },
    {
     "name": "stdout",
     "output_type": "stream",
     "text": [
      "\n"
     ]
    },
    {
     "name": "stderr",
     "output_type": "stream",
     "text": [
      "minerl.env.malmo.instance.42cbc8[24072] DEBUG [18:28:54] [Netty Server IO #1/INFO]: [STDOUT]: got slot 0\n"
     ]
    },
    {
     "name": "stdout",
     "output_type": "stream",
     "text": [
      "DEBUG:minerl.env.malmo.instance.42cbc8:[18:28:54] [Netty Server IO #1/INFO]: [STDOUT]: Equip message recieved\r\n"
     ]
    },
    {
     "name": "stderr",
     "output_type": "stream",
     "text": [
      "2019-12-01 18:28:54 LAPTOP-SDM3TI61 minerl.env.malmo.instance.42cbc8[24072] DEBUG [18:28:54] [Netty Server IO #1/INFO]: [STDOUT]: Equip message recieved\n"
     ]
    },
    {
     "name": "stdout",
     "output_type": "stream",
     "text": [
      "DEBUG:minerl.env.malmo.instance.42cbc8:[18:28:54] [Netty Server IO #1/INFO]: [STDOUT]: got harbar 0\r\n"
     ]
    },
    {
     "name": "stderr",
     "output_type": "stream",
     "text": [
      "2019-12-01 18:28:54"
     ]
    },
    {
     "name": "stdout",
     "output_type": "stream",
     "text": [
      "10.099999999999996"
     ]
    },
    {
     "name": "stderr",
     "output_type": "stream",
     "text": [
      " "
     ]
    },
    {
     "name": "stdout",
     "output_type": "stream",
     "text": [
      "\n"
     ]
    },
    {
     "name": "stderr",
     "output_type": "stream",
     "text": [
      "LAPTOP-SDM3TI61 minerl.env.malmo.instance.42cbc8[24072] "
     ]
    },
    {
     "name": "stdout",
     "output_type": "stream",
     "text": [
      "step =  "
     ]
    },
    {
     "name": "stderr",
     "output_type": "stream",
     "text": [
      "DEBUG"
     ]
    },
    {
     "name": "stdout",
     "output_type": "stream",
     "text": [
      "529"
     ]
    },
    {
     "name": "stderr",
     "output_type": "stream",
     "text": [
      " "
     ]
    },
    {
     "name": "stdout",
     "output_type": "stream",
     "text": [
      "\n"
     ]
    },
    {
     "name": "stderr",
     "output_type": "stream",
     "text": [
      "[18:28:54] [Netty Server IO #1/INFO]: [STDOUT]: got harbar 0\n"
     ]
    },
    {
     "name": "stdout",
     "output_type": "stream",
     "text": [
      "DEBUG:minerl.env.malmo.instance.42cbc8:[18:28:54] [Netty Server IO #1/INFO]: [STDOUT]: got slot 0\r\n"
     ]
    },
    {
     "name": "stderr",
     "output_type": "stream",
     "text": [
      "2019-12-01 18:28:54 LAPTOP-SDM3TI61 minerl.env.malmo.instance.42cbc8[24072] DEBUG "
     ]
    },
    {
     "name": "stdout",
     "output_type": "stream",
     "text": [
      "10.099999999999996\n",
      "step =  530\n",
      "10.099999999999996\n",
      "step =  531\n",
      "10.099999999999996\n",
      "step =  532\n"
     ]
    },
    {
     "name": "stderr",
     "output_type": "stream",
     "text": [
      "[18:28:54] [Netty Server IO #1/INFO]: [STDOUT]: got slot 0\n"
     ]
    },
    {
     "name": "stdout",
     "output_type": "stream",
     "text": [
      "DEBUG:minerl.env.malmo.instance.42cbc8:[18:28:54] [Netty Server IO #1/INFO]: [STDOUT]: Equip message recieved\r\n"
     ]
    },
    {
     "name": "stderr",
     "output_type": "stream",
     "text": [
      "2019-12-01 18:28:55 LAPTOP-SDM3TI61 minerl.env.malmo.instance.42cbc8[24072] "
     ]
    },
    {
     "name": "stdout",
     "output_type": "stream",
     "text": [
      "10.099999999999996"
     ]
    },
    {
     "name": "stderr",
     "output_type": "stream",
     "text": [
      "DEBUG"
     ]
    },
    {
     "name": "stdout",
     "output_type": "stream",
     "text": [
      "\n"
     ]
    },
    {
     "name": "stderr",
     "output_type": "stream",
     "text": [
      " [18:28:54] [Netty Server IO #1/INFO]: [STDOUT]: Equip message recieved\n"
     ]
    },
    {
     "name": "stdout",
     "output_type": "stream",
     "text": [
      "DEBUG:minerl.env.malmo.instance.42cbc8:[18:28:54] [Netty Server IO #1/INFO]: [STDOUT]: got harbar 0\r\n"
     ]
    },
    {
     "name": "stderr",
     "output_type": "stream",
     "text": [
      "2019-12-01 18:28:55"
     ]
    },
    {
     "name": "stdout",
     "output_type": "stream",
     "text": [
      "step = "
     ]
    },
    {
     "name": "stderr",
     "output_type": "stream",
     "text": [
      " "
     ]
    },
    {
     "name": "stdout",
     "output_type": "stream",
     "text": [
      " "
     ]
    },
    {
     "name": "stderr",
     "output_type": "stream",
     "text": [
      "LAPTOP-SDM3TI61"
     ]
    },
    {
     "name": "stdout",
     "output_type": "stream",
     "text": [
      "533"
     ]
    },
    {
     "name": "stderr",
     "output_type": "stream",
     "text": [
      " "
     ]
    },
    {
     "name": "stdout",
     "output_type": "stream",
     "text": [
      "\n"
     ]
    },
    {
     "name": "stderr",
     "output_type": "stream",
     "text": [
      "minerl.env.malmo.instance.42cbc8[24072] DEBUG [18:28:54] [Netty Server IO #1/INFO]: [STDOUT]: got harbar 0\n"
     ]
    },
    {
     "name": "stdout",
     "output_type": "stream",
     "text": [
      "DEBUG:minerl.env.malmo.instance.42cbc8:[18:28:54] [Netty Server IO #1/INFO]: [STDOUT]: got slot 0\r\n"
     ]
    },
    {
     "name": "stderr",
     "output_type": "stream",
     "text": [
      "2019-12-01 18:28:55 LAPTOP-SDM3TI61 minerl.env.malmo.instance.42cbc8[24072] DEBUG [18:28:54] [Netty Server IO #1/INFO]: [STDOUT]: got slot 0\n"
     ]
    },
    {
     "name": "stdout",
     "output_type": "stream",
     "text": [
      "DEBUG:minerl.env.malmo.instance.42cbc8:[18:28:54] [Netty Server IO #1/INFO]: [STDOUT]: Equip message recieved\r\n"
     ]
    },
    {
     "name": "stderr",
     "output_type": "stream",
     "text": [
      "2019-12-01 18:28:55 LAPTOP-SDM3TI61"
     ]
    },
    {
     "name": "stdout",
     "output_type": "stream",
     "text": [
      "10.099999999999996"
     ]
    },
    {
     "name": "stderr",
     "output_type": "stream",
     "text": [
      " "
     ]
    },
    {
     "name": "stdout",
     "output_type": "stream",
     "text": [
      "\n"
     ]
    },
    {
     "name": "stderr",
     "output_type": "stream",
     "text": [
      "minerl.env.malmo.instance.42cbc8[24072] DEBUG "
     ]
    },
    {
     "name": "stdout",
     "output_type": "stream",
     "text": [
      "step = "
     ]
    },
    {
     "name": "stderr",
     "output_type": "stream",
     "text": [
      "[18:28:54] [Netty Server IO #1/INFO]: [STDOUT]: Equip message recieved\r"
     ]
    },
    {
     "name": "stdout",
     "output_type": "stream",
     "text": [
      " "
     ]
    },
    {
     "name": "stderr",
     "output_type": "stream",
     "text": [
      "\n"
     ]
    },
    {
     "name": "stdout",
     "output_type": "stream",
     "text": [
      "534DEBUG:minerl.env.malmo.instance.42cbc8:[18:28:54] [Netty Server IO #1/INFO]: [STDOUT]: got harbar 0\n",
      "\n"
     ]
    },
    {
     "name": "stderr",
     "output_type": "stream",
     "text": [
      "2019-12-01 18:28:55 LAPTOP-SDM3TI61 minerl.env.malmo.instance.42cbc8[24072] DEBUG [18:28:54] [Netty Server IO #1/INFO]: [STDOUT]: got harbar 0\n"
     ]
    },
    {
     "name": "stdout",
     "output_type": "stream",
     "text": [
      "DEBUG:minerl.env.malmo.instance.42cbc8:[18:28:54] [Netty Server IO #1/INFO]: [STDOUT]: got slot 0\r\n"
     ]
    },
    {
     "name": "stderr",
     "output_type": "stream",
     "text": [
      "2019-12-01 18:28:55 LAPTOP-SDM3TI61 minerl.env.malmo.instance.42cbc8[24072] DEBUG [18:28:54] [Netty Server IO #1/INFO]: [STDOUT]: got slot 0\r"
     ]
    },
    {
     "name": "stdout",
     "output_type": "stream",
     "text": [
      "10.099999999999996"
     ]
    },
    {
     "name": "stderr",
     "output_type": "stream",
     "text": [
      "\n"
     ]
    },
    {
     "name": "stdout",
     "output_type": "stream",
     "text": [
      "\n",
      "DEBUG:minerl.env.malmo.instance.42cbc8:[18:28:54] [Client thread/INFO]: [CHAT] §l873...\n"
     ]
    },
    {
     "name": "stderr",
     "output_type": "stream",
     "text": [
      "2019-12-01 18:28:55 "
     ]
    },
    {
     "name": "stdout",
     "output_type": "stream",
     "text": [
      "step = "
     ]
    },
    {
     "name": "stderr",
     "output_type": "stream",
     "text": [
      "LAPTOP-SDM3TI61"
     ]
    },
    {
     "name": "stdout",
     "output_type": "stream",
     "text": [
      " "
     ]
    },
    {
     "name": "stderr",
     "output_type": "stream",
     "text": [
      " "
     ]
    },
    {
     "name": "stdout",
     "output_type": "stream",
     "text": [
      "535"
     ]
    },
    {
     "name": "stderr",
     "output_type": "stream",
     "text": [
      "minerl.env.malmo.instance.42cbc8[24072]"
     ]
    },
    {
     "name": "stdout",
     "output_type": "stream",
     "text": [
      "\n"
     ]
    },
    {
     "name": "stderr",
     "output_type": "stream",
     "text": [
      " DEBUG [18:28:54] [Client thread/INFO]: [CHAT] §l873...\n"
     ]
    },
    {
     "name": "stdout",
     "output_type": "stream",
     "text": [
      "DEBUG:minerl.env.malmo.instance.42cbc8:[18:28:54] [Netty Server IO #1/INFO]: [STDOUT]: Equip message recieved\r\n"
     ]
    },
    {
     "name": "stderr",
     "output_type": "stream",
     "text": [
      "2019-12-01 18:28:55 LAPTOP-SDM3TI61 minerl.env.malmo.instance.42cbc8[24072] DEBUG [18:28:54] [Netty Server IO #1/INFO]: [STDOUT]: Equip message recieved\n"
     ]
    },
    {
     "name": "stdout",
     "output_type": "stream",
     "text": [
      "DEBUG:minerl.env.malmo.instance.42cbc8:[18:28:54] [Netty Server IO #1/INFO]: [STDOUT]: got harbar 0\r\n"
     ]
    },
    {
     "name": "stderr",
     "output_type": "stream",
     "text": [
      "2019-12-01 18:28:55 "
     ]
    },
    {
     "name": "stdout",
     "output_type": "stream",
     "text": [
      "10.099999999999996"
     ]
    },
    {
     "name": "stderr",
     "output_type": "stream",
     "text": [
      "LAPTOP-SDM3TI61"
     ]
    },
    {
     "name": "stdout",
     "output_type": "stream",
     "text": [
      "\n"
     ]
    },
    {
     "name": "stderr",
     "output_type": "stream",
     "text": [
      " minerl.env.malmo.instance.42cbc8[24072] DEBUG"
     ]
    },
    {
     "name": "stdout",
     "output_type": "stream",
     "text": [
      "step = "
     ]
    },
    {
     "name": "stderr",
     "output_type": "stream",
     "text": [
      " "
     ]
    },
    {
     "name": "stdout",
     "output_type": "stream",
     "text": [
      " "
     ]
    },
    {
     "name": "stderr",
     "output_type": "stream",
     "text": [
      "[18:28:54] [Netty Server IO #1/INFO]: [STDOUT]: got harbar 0\r"
     ]
    },
    {
     "name": "stdout",
     "output_type": "stream",
     "text": [
      "536"
     ]
    },
    {
     "name": "stderr",
     "output_type": "stream",
     "text": [
      "\n"
     ]
    },
    {
     "name": "stdout",
     "output_type": "stream",
     "text": [
      "\n",
      "DEBUG:minerl.env.malmo.instance.42cbc8:[18:28:54] [Netty Server IO #1/INFO]: [STDOUT]: got slot 0\n"
     ]
    },
    {
     "name": "stderr",
     "output_type": "stream",
     "text": [
      "2019-12-01 18:28:55 LAPTOP-SDM3TI61 minerl.env.malmo.instance.42cbc8[24072] DEBUG [18:28:54] [Netty Server IO #1/INFO]: [STDOUT]: got slot 0\n"
     ]
    },
    {
     "name": "stdout",
     "output_type": "stream",
     "text": [
      "DEBUG:minerl.env.malmo.instance.42cbc8:[18:28:55] [Netty Server IO #1/INFO]: [STDOUT]: Equip message recieved\r\n"
     ]
    },
    {
     "name": "stderr",
     "output_type": "stream",
     "text": [
      "2019-12-01 18:28:55 LAPTOP-SDM3TI61 minerl.env.malmo.instance.42cbc8[24072] "
     ]
    },
    {
     "name": "stdout",
     "output_type": "stream",
     "text": [
      "10.099999999999996"
     ]
    },
    {
     "name": "stderr",
     "output_type": "stream",
     "text": [
      "DEBUG"
     ]
    },
    {
     "name": "stdout",
     "output_type": "stream",
     "text": [
      "\n"
     ]
    },
    {
     "name": "stderr",
     "output_type": "stream",
     "text": [
      " [18:28:55] [Netty Server IO #1/INFO]: [STDOUT]: Equip message recieved\n"
     ]
    },
    {
     "name": "stdout",
     "output_type": "stream",
     "text": [
      "DEBUG:minerl.env.malmo.instance.42cbc8:[18:28:55] [Netty Server IO #1/INFO]: [STDOUT]: got harbar 0\r\n"
     ]
    },
    {
     "name": "stderr",
     "output_type": "stream",
     "text": [
      "2019-12-01 18:28:55 "
     ]
    },
    {
     "name": "stdout",
     "output_type": "stream",
     "text": [
      "step = "
     ]
    },
    {
     "name": "stderr",
     "output_type": "stream",
     "text": [
      "LAPTOP-SDM3TI61"
     ]
    },
    {
     "name": "stdout",
     "output_type": "stream",
     "text": [
      " "
     ]
    },
    {
     "name": "stderr",
     "output_type": "stream",
     "text": [
      " "
     ]
    },
    {
     "name": "stdout",
     "output_type": "stream",
     "text": [
      "537"
     ]
    },
    {
     "name": "stderr",
     "output_type": "stream",
     "text": [
      "minerl.env.malmo.instance.42cbc8[24072]"
     ]
    },
    {
     "name": "stdout",
     "output_type": "stream",
     "text": [
      "\n"
     ]
    },
    {
     "name": "stderr",
     "output_type": "stream",
     "text": [
      " DEBUG [18:28:55] [Netty Server IO #1/INFO]: [STDOUT]: got harbar 0\n"
     ]
    },
    {
     "name": "stdout",
     "output_type": "stream",
     "text": [
      "DEBUG:minerl.env.malmo.instance.42cbc8:[18:28:55] [Netty Server IO #1/INFO]: [STDOUT]: got slot 0\r\n"
     ]
    },
    {
     "name": "stderr",
     "output_type": "stream",
     "text": [
      "2019-12-01 18:28:55 LAPTOP-SDM3TI61 minerl.env.malmo.instance.42cbc8[24072] DEBUG [18:28:55] [Netty Server IO #1/INFO]: [STDOUT]: got slot 0\n"
     ]
    },
    {
     "name": "stdout",
     "output_type": "stream",
     "text": [
      "DEBUG:minerl.env.malmo.instance.42cbc8:[18:28:55] [Netty Server IO #1/INFO]: [STDOUT]: Equip message recieved\r\n"
     ]
    },
    {
     "name": "stderr",
     "output_type": "stream",
     "text": [
      "2019-12-01 18:28:55"
     ]
    },
    {
     "name": "stdout",
     "output_type": "stream",
     "text": [
      "10.099999999999996"
     ]
    },
    {
     "name": "stderr",
     "output_type": "stream",
     "text": [
      " "
     ]
    },
    {
     "name": "stdout",
     "output_type": "stream",
     "text": [
      "\n"
     ]
    },
    {
     "name": "stderr",
     "output_type": "stream",
     "text": [
      "LAPTOP-SDM3TI61 minerl.env.malmo.instance.42cbc8[24072] DEBUG"
     ]
    },
    {
     "name": "stdout",
     "output_type": "stream",
     "text": [
      "step = "
     ]
    },
    {
     "name": "stderr",
     "output_type": "stream",
     "text": [
      " "
     ]
    },
    {
     "name": "stdout",
     "output_type": "stream",
     "text": [
      " "
     ]
    },
    {
     "name": "stderr",
     "output_type": "stream",
     "text": [
      "[18:28:55] [Netty Server IO #1/INFO]: [STDOUT]: Equip message recieved\r"
     ]
    },
    {
     "name": "stdout",
     "output_type": "stream",
     "text": [
      "538"
     ]
    },
    {
     "name": "stderr",
     "output_type": "stream",
     "text": [
      "\n"
     ]
    },
    {
     "name": "stdout",
     "output_type": "stream",
     "text": [
      "\n",
      "DEBUG:minerl.env.malmo.instance.42cbc8:[18:28:55] [Netty Server IO #1/INFO]: [STDOUT]: got harbar 0\n"
     ]
    },
    {
     "name": "stderr",
     "output_type": "stream",
     "text": [
      "2019-12-01 18:28:55 LAPTOP-SDM3TI61 minerl.env.malmo.instance.42cbc8[24072] DEBUG"
     ]
    },
    {
     "name": "stdout",
     "output_type": "stream",
     "text": [
      "10.099999999999996\n",
      "step =  539\n",
      "10.099999999999996\n",
      "step =  540\n",
      "10.099999999999996\n",
      "step =  541\n"
     ]
    },
    {
     "name": "stderr",
     "output_type": "stream",
     "text": [
      " [18:28:55] [Netty Server IO #1/INFO]: [STDOUT]: got harbar 0\n"
     ]
    },
    {
     "name": "stdout",
     "output_type": "stream",
     "text": [
      "DEBUG:minerl.env.malmo.instance.42cbc8:[18:28:55] [Netty Server IO #1/INFO]: [STDOUT]: got slot 0\r\n"
     ]
    },
    {
     "name": "stderr",
     "output_type": "stream",
     "text": [
      "2019-12-01 18:28:55"
     ]
    },
    {
     "name": "stdout",
     "output_type": "stream",
     "text": [
      "10.099999999999996"
     ]
    },
    {
     "name": "stderr",
     "output_type": "stream",
     "text": [
      " "
     ]
    },
    {
     "name": "stdout",
     "output_type": "stream",
     "text": [
      "\n"
     ]
    },
    {
     "name": "stderr",
     "output_type": "stream",
     "text": [
      "LAPTOP-SDM3TI61 minerl.env.malmo.instance.42cbc8[24072] DEBUG"
     ]
    },
    {
     "name": "stdout",
     "output_type": "stream",
     "text": [
      "step = "
     ]
    },
    {
     "name": "stderr",
     "output_type": "stream",
     "text": [
      " "
     ]
    },
    {
     "name": "stdout",
     "output_type": "stream",
     "text": [
      " "
     ]
    },
    {
     "name": "stderr",
     "output_type": "stream",
     "text": [
      "[18:28:55] [Netty Server IO #1/INFO]: [STDOUT]: got slot 0\n"
     ]
    },
    {
     "name": "stdout",
     "output_type": "stream",
     "text": [
      "542\n",
      "DEBUG:minerl.env.malmo.instance.42cbc8:[18:28:55] [Netty Server IO #1/INFO]: [STDOUT]: Equip message recieved\n"
     ]
    },
    {
     "name": "stderr",
     "output_type": "stream",
     "text": [
      "2019-12-01 18:28:55 LAPTOP-SDM3TI61 minerl.env.malmo.instance.42cbc8[24072] DEBUG [18:28:55] [Netty Server IO #1/INFO]: [STDOUT]: Equip message recieved\n"
     ]
    },
    {
     "name": "stdout",
     "output_type": "stream",
     "text": [
      "DEBUG:minerl.env.malmo.instance.42cbc8:[18:28:55] [Netty Server IO #1/INFO]: [STDOUT]: got harbar 0\r\n"
     ]
    },
    {
     "name": "stderr",
     "output_type": "stream",
     "text": [
      "2019-12-01 18:28:55 LAPTOP-SDM3TI61 minerl.env.malmo.instance.42cbc8[24072] DEBUG"
     ]
    },
    {
     "name": "stdout",
     "output_type": "stream",
     "text": [
      "10.099999999999996"
     ]
    },
    {
     "name": "stderr",
     "output_type": "stream",
     "text": [
      " "
     ]
    },
    {
     "name": "stdout",
     "output_type": "stream",
     "text": [
      "\n"
     ]
    },
    {
     "name": "stderr",
     "output_type": "stream",
     "text": [
      "[18:28:55] [Netty Server IO #1/INFO]: [STDOUT]: got harbar 0\n"
     ]
    },
    {
     "name": "stdout",
     "output_type": "stream",
     "text": [
      "DEBUG:minerl.env.malmo.instance.42cbc8:[18:28:55] [Netty Server IO #1/INFO]: [STDOUT]: got slot 0\r\n"
     ]
    },
    {
     "name": "stderr",
     "output_type": "stream",
     "text": [
      "2019-12-01 18:28:55 LAPTOP-SDM3TI61 "
     ]
    },
    {
     "name": "stdout",
     "output_type": "stream",
     "text": [
      "step = "
     ]
    },
    {
     "name": "stderr",
     "output_type": "stream",
     "text": [
      "minerl.env.malmo.instance.42cbc8[24072]"
     ]
    },
    {
     "name": "stdout",
     "output_type": "stream",
     "text": [
      " "
     ]
    },
    {
     "name": "stderr",
     "output_type": "stream",
     "text": [
      " "
     ]
    },
    {
     "name": "stdout",
     "output_type": "stream",
     "text": [
      "543\n"
     ]
    },
    {
     "name": "stderr",
     "output_type": "stream",
     "text": [
      "DEBUG [18:28:55] [Netty Server IO #1/INFO]: [STDOUT]: got slot 0\n"
     ]
    },
    {
     "name": "stdout",
     "output_type": "stream",
     "text": [
      "DEBUG:minerl.env.malmo.instance.42cbc8:[18:28:55] [Netty Server IO #1/INFO]: [STDOUT]: Equip message recieved\r\n"
     ]
    },
    {
     "name": "stderr",
     "output_type": "stream",
     "text": [
      "2019-12-01 18:28:55 LAPTOP-SDM3TI61 minerl.env.malmo.instance.42cbc8[24072] DEBUG [18:28:55] [Netty Server IO #1/INFO]: [STDOUT]: Equip message recieved\n"
     ]
    },
    {
     "name": "stdout",
     "output_type": "stream",
     "text": [
      "DEBUG:minerl.env.malmo.instance.42cbc8:[18:28:55] [Netty Server IO #1/INFO]: [STDOUT]: got harbar 0\r\n"
     ]
    },
    {
     "name": "stderr",
     "output_type": "stream",
     "text": [
      "2019-12-01 18:28:55 LAPTOP-SDM3TI61 "
     ]
    },
    {
     "name": "stdout",
     "output_type": "stream",
     "text": [
      "10.099999999999996"
     ]
    },
    {
     "name": "stderr",
     "output_type": "stream",
     "text": [
      "minerl.env.malmo.instance.42cbc8[24072]"
     ]
    },
    {
     "name": "stdout",
     "output_type": "stream",
     "text": [
      "\n"
     ]
    },
    {
     "name": "stderr",
     "output_type": "stream",
     "text": [
      " DEBUG [18:28:55] [Netty Server IO #1/INFO]: [STDOUT]: got harbar 0\n"
     ]
    },
    {
     "name": "stdout",
     "output_type": "stream",
     "text": [
      "DEBUG:minerl.env.malmo.instance.42cbc8:[18:28:55] [Netty Server IO #1/INFO]: [STDOUT]: got slot 0\r\n"
     ]
    },
    {
     "name": "stderr",
     "output_type": "stream",
     "text": [
      "2019-12-01 18:28:55"
     ]
    },
    {
     "name": "stdout",
     "output_type": "stream",
     "text": [
      "step =  "
     ]
    },
    {
     "name": "stderr",
     "output_type": "stream",
     "text": [
      " "
     ]
    },
    {
     "name": "stdout",
     "output_type": "stream",
     "text": [
      "544"
     ]
    },
    {
     "name": "stderr",
     "output_type": "stream",
     "text": [
      "LAPTOP-SDM3TI61"
     ]
    },
    {
     "name": "stdout",
     "output_type": "stream",
     "text": [
      "\n"
     ]
    },
    {
     "name": "stderr",
     "output_type": "stream",
     "text": [
      " minerl.env.malmo.instance.42cbc8[24072] DEBUG [18:28:55] [Netty Server IO #1/INFO]: [STDOUT]: got slot 0\n"
     ]
    },
    {
     "name": "stdout",
     "output_type": "stream",
     "text": [
      "DEBUG:minerl.env.malmo.instance.42cbc8:[18:28:55] [Netty Server IO #1/INFO]: [STDOUT]: Equip message recieved\r\n"
     ]
    },
    {
     "name": "stderr",
     "output_type": "stream",
     "text": [
      "2019-12-01 18:28:55 LAPTOP-SDM3TI61 minerl.env.malmo.instance.42cbc8[24072] DEBUG [18:28:55] [Netty Server IO #1/INFO]: [STDOUT]: Equip message recieved\n"
     ]
    },
    {
     "name": "stdout",
     "output_type": "stream",
     "text": [
      "DEBUG:minerl.env.malmo.instance.42cbc8:[18:28:55] [Netty Server IO #1/INFO]: [STDOUT]: got harbar 0\r\n"
     ]
    },
    {
     "name": "stderr",
     "output_type": "stream",
     "text": [
      "2019-12-01 18:28:55"
     ]
    },
    {
     "name": "stdout",
     "output_type": "stream",
     "text": [
      "10.099999999999996"
     ]
    },
    {
     "name": "stderr",
     "output_type": "stream",
     "text": [
      " "
     ]
    },
    {
     "name": "stdout",
     "output_type": "stream",
     "text": [
      "\n"
     ]
    },
    {
     "name": "stderr",
     "output_type": "stream",
     "text": [
      "LAPTOP-SDM3TI61 minerl.env.malmo.instance.42cbc8[24072] DEBUG "
     ]
    },
    {
     "name": "stdout",
     "output_type": "stream",
     "text": [
      "step = "
     ]
    },
    {
     "name": "stderr",
     "output_type": "stream",
     "text": [
      "[18:28:55] [Netty Server IO #1/INFO]: [STDOUT]: got harbar 0\r"
     ]
    },
    {
     "name": "stdout",
     "output_type": "stream",
     "text": [
      " "
     ]
    },
    {
     "name": "stderr",
     "output_type": "stream",
     "text": [
      "\n"
     ]
    },
    {
     "name": "stdout",
     "output_type": "stream",
     "text": [
      "545\n",
      "DEBUG:minerl.env.malmo.instance.42cbc8:[18:28:55] [Netty Server IO #1/INFO]: [STDOUT]: got slot 0\n"
     ]
    },
    {
     "name": "stderr",
     "output_type": "stream",
     "text": [
      "2019-12-01 18:28:55 LAPTOP-SDM3TI61 minerl.env.malmo.instance.42cbc8[24072] DEBUG [18:28:55] [Netty Server IO #1/INFO]: [STDOUT]: got slot 0\n"
     ]
    },
    {
     "name": "stdout",
     "output_type": "stream",
     "text": [
      "DEBUG:minerl.env.malmo.instance.42cbc8:[18:28:55] [Netty Server IO #1/INFO]: [STDOUT]: Equip message recieved\r\n"
     ]
    },
    {
     "name": "stderr",
     "output_type": "stream",
     "text": [
      "2019-12-01 18:28:55 LAPTOP-SDM3TI61 minerl.env.malmo.instance.42cbc8[24072] DEBUG [18:28:55] [Netty Server IO #1/INFO]: [STDOUT]: Equip message recieved\r"
     ]
    },
    {
     "name": "stdout",
     "output_type": "stream",
     "text": [
      "10.099999999999996\n"
     ]
    },
    {
     "name": "stderr",
     "output_type": "stream",
     "text": [
      "\n"
     ]
    },
    {
     "name": "stdout",
     "output_type": "stream",
     "text": [
      "DEBUG:minerl.env.malmo.instance.42cbc8:[18:28:55] [Netty Server IO #1/INFO]: [STDOUT]: got harbar 0\r\n"
     ]
    },
    {
     "name": "stderr",
     "output_type": "stream",
     "text": [
      "2019-12-01 18:28:55 LAPTOP-SDM3TI61 minerl.env.malmo.instance.42cbc8[24072]"
     ]
    },
    {
     "name": "stdout",
     "output_type": "stream",
     "text": [
      "step = "
     ]
    },
    {
     "name": "stderr",
     "output_type": "stream",
     "text": [
      " DEBUG"
     ]
    },
    {
     "name": "stdout",
     "output_type": "stream",
     "text": [
      " 546"
     ]
    },
    {
     "name": "stderr",
     "output_type": "stream",
     "text": [
      " "
     ]
    },
    {
     "name": "stdout",
     "output_type": "stream",
     "text": [
      "\n"
     ]
    },
    {
     "name": "stderr",
     "output_type": "stream",
     "text": [
      "[18:28:55] [Netty Server IO #1/INFO]: [STDOUT]: got harbar 0\n"
     ]
    },
    {
     "name": "stdout",
     "output_type": "stream",
     "text": [
      "DEBUG:minerl.env.malmo.instance.42cbc8:[18:28:55] [Netty Server IO #1/INFO]: [STDOUT]: got slot 0\r\n"
     ]
    },
    {
     "name": "stderr",
     "output_type": "stream",
     "text": [
      "2019-12-01 18:28:55 LAPTOP-SDM3TI61 minerl.env.malmo.instance.42cbc8[24072] DEBUG [18:28:55] [Netty Server IO #1/INFO]: [STDOUT]: got slot 0\n"
     ]
    },
    {
     "name": "stdout",
     "output_type": "stream",
     "text": [
      "DEBUG:minerl.env.malmo.instance.42cbc8:[18:28:55] [Netty Server IO #1/INFO]: [STDOUT]: Equip message recieved\r\n"
     ]
    },
    {
     "name": "stderr",
     "output_type": "stream",
     "text": [
      "2019-12-01 18:28:55 LAPTOP-SDM3TI61 minerl.env.malmo.instance.42cbc8[24072] "
     ]
    },
    {
     "name": "stdout",
     "output_type": "stream",
     "text": [
      "10.099999999999996"
     ]
    },
    {
     "name": "stderr",
     "output_type": "stream",
     "text": [
      "DEBUG"
     ]
    },
    {
     "name": "stdout",
     "output_type": "stream",
     "text": [
      "\n"
     ]
    },
    {
     "name": "stderr",
     "output_type": "stream",
     "text": [
      " [18:28:55] [Netty Server IO #1/INFO]: [STDOUT]: Equip message recieved\n"
     ]
    },
    {
     "name": "stdout",
     "output_type": "stream",
     "text": [
      "DEBUG:minerl.env.malmo.instance.42cbc8:[18:28:55] [Netty Server IO #1/INFO]: [STDOUT]: got harbar 0\r\n"
     ]
    },
    {
     "name": "stderr",
     "output_type": "stream",
     "text": [
      "2019-12-01 18:28:55 "
     ]
    },
    {
     "name": "stdout",
     "output_type": "stream",
     "text": [
      "step = "
     ]
    },
    {
     "name": "stderr",
     "output_type": "stream",
     "text": [
      "LAPTOP-SDM3TI61"
     ]
    },
    {
     "name": "stdout",
     "output_type": "stream",
     "text": [
      " "
     ]
    },
    {
     "name": "stderr",
     "output_type": "stream",
     "text": [
      " "
     ]
    },
    {
     "name": "stdout",
     "output_type": "stream",
     "text": [
      "547"
     ]
    },
    {
     "name": "stderr",
     "output_type": "stream",
     "text": [
      "minerl.env.malmo.instance.42cbc8[24072]"
     ]
    },
    {
     "name": "stdout",
     "output_type": "stream",
     "text": [
      "\n"
     ]
    },
    {
     "name": "stderr",
     "output_type": "stream",
     "text": [
      " "
     ]
    },
    {
     "name": "stdout",
     "output_type": "stream",
     "text": [
      "10.099999999999996\n",
      "step =  548\n",
      "10.099999999999996\n",
      "step =  549\n",
      "10.099999999999996\n",
      "step =  550\n"
     ]
    },
    {
     "name": "stderr",
     "output_type": "stream",
     "text": [
      "DEBUG [18:28:55] [Netty Server IO #1/INFO]: [STDOUT]: got harbar 0\n"
     ]
    },
    {
     "name": "stdout",
     "output_type": "stream",
     "text": [
      "DEBUG:minerl.env.malmo.instance.42cbc8:[18:28:55] [Netty Server IO #1/INFO]: [STDOUT]: got slot 0\r\n"
     ]
    },
    {
     "name": "stderr",
     "output_type": "stream",
     "text": [
      "2019-12-01 18:28:55 LAPTOP-SDM3TI61 minerl.env.malmo.instance.42cbc8[24072] DEBUG [18:28:55] [Netty Server IO #1/INFO]: [STDOUT]: got slot 0\n"
     ]
    },
    {
     "name": "stdout",
     "output_type": "stream",
     "text": [
      "10.099999999999996\n",
      "DEBUG:minerl.env.malmo.instance.42cbc8:[18:28:55] [Netty Server IO #1/INFO]: [STDOUT]: Equip message recieved\n"
     ]
    },
    {
     "name": "stderr",
     "output_type": "stream",
     "text": [
      "2019-12-01 18:28:55 LAPTOP-SDM3TI61 minerl.env.malmo.instance.42cbc8[24072]"
     ]
    },
    {
     "name": "stdout",
     "output_type": "stream",
     "text": [
      "step = "
     ]
    },
    {
     "name": "stderr",
     "output_type": "stream",
     "text": [
      " "
     ]
    },
    {
     "name": "stdout",
     "output_type": "stream",
     "text": [
      " "
     ]
    },
    {
     "name": "stderr",
     "output_type": "stream",
     "text": [
      "DEBUG"
     ]
    },
    {
     "name": "stdout",
     "output_type": "stream",
     "text": [
      "551"
     ]
    },
    {
     "name": "stderr",
     "output_type": "stream",
     "text": [
      " "
     ]
    },
    {
     "name": "stdout",
     "output_type": "stream",
     "text": [
      "\n"
     ]
    },
    {
     "name": "stderr",
     "output_type": "stream",
     "text": [
      "[18:28:55] [Netty Server IO #1/INFO]: [STDOUT]: Equip message recieved\n"
     ]
    },
    {
     "name": "stdout",
     "output_type": "stream",
     "text": [
      "DEBUG:minerl.env.malmo.instance.42cbc8:[18:28:55] [Netty Server IO #1/INFO]: [STDOUT]: got harbar 0\r\n"
     ]
    },
    {
     "name": "stderr",
     "output_type": "stream",
     "text": [
      "2019-12-01 18:28:55 LAPTOP-SDM3TI61 minerl.env.malmo.instance.42cbc8[24072] DEBUG [18:28:55] [Netty Server IO #1/INFO]: [STDOUT]: got harbar 0\n"
     ]
    },
    {
     "name": "stdout",
     "output_type": "stream",
     "text": [
      "DEBUG:minerl.env.malmo.instance.42cbc8:[18:28:55] [Netty Server IO #1/INFO]: [STDOUT]: got slot 0\r\n"
     ]
    },
    {
     "name": "stderr",
     "output_type": "stream",
     "text": [
      "2019-12-01 18:28:55 LAPTOP-SDM3TI61"
     ]
    },
    {
     "name": "stdout",
     "output_type": "stream",
     "text": [
      "10.099999999999996"
     ]
    },
    {
     "name": "stderr",
     "output_type": "stream",
     "text": [
      " "
     ]
    },
    {
     "name": "stdout",
     "output_type": "stream",
     "text": [
      "\n"
     ]
    },
    {
     "name": "stderr",
     "output_type": "stream",
     "text": [
      "minerl.env.malmo.instance.42cbc8[24072] DEBUG [18:28:55] [Netty Server IO #1/INFO]: [STDOUT]: got slot 0\n"
     ]
    },
    {
     "name": "stdout",
     "output_type": "stream",
     "text": [
      "step =  DEBUG:minerl.env.malmo.instance.42cbc8:[18:28:55] [Netty Server IO #1/INFO]: [STDOUT]: Equip message recieved\n"
     ]
    },
    {
     "name": "stderr",
     "output_type": "stream",
     "text": [
      "2019-12-01 18:28:55"
     ]
    },
    {
     "name": "stdout",
     "output_type": "stream",
     "text": [
      "552"
     ]
    },
    {
     "name": "stderr",
     "output_type": "stream",
     "text": [
      " "
     ]
    },
    {
     "name": "stdout",
     "output_type": "stream",
     "text": [
      "\n"
     ]
    },
    {
     "name": "stderr",
     "output_type": "stream",
     "text": [
      "LAPTOP-SDM3TI61 minerl.env.malmo.instance.42cbc8[24072] DEBUG [18:28:55] [Netty Server IO #1/INFO]: [STDOUT]: Equip message recieved\n"
     ]
    },
    {
     "name": "stdout",
     "output_type": "stream",
     "text": [
      "DEBUG:minerl.env.malmo.instance.42cbc8:[18:28:55] [Netty Server IO #1/INFO]: [STDOUT]: got harbar 0\r\n"
     ]
    },
    {
     "name": "stderr",
     "output_type": "stream",
     "text": [
      "2019-12-01 18:28:55 LAPTOP-SDM3TI61 minerl.env.malmo.instance.42cbc8[24072] DEBUG [18:28:55] [Netty Server IO #1/INFO]: [STDOUT]: got harbar 0\n"
     ]
    },
    {
     "name": "stdout",
     "output_type": "stream",
     "text": [
      "DEBUG:minerl.env.malmo.instance.42cbc8:[18:28:55] [Netty Server IO #1/INFO]: [STDOUT]: got slot 0\n",
      "10.099999999999996"
     ]
    },
    {
     "name": "stderr",
     "output_type": "stream",
     "text": [
      "2019-12-01 18:28:55"
     ]
    },
    {
     "name": "stdout",
     "output_type": "stream",
     "text": [
      "\n"
     ]
    },
    {
     "name": "stderr",
     "output_type": "stream",
     "text": [
      " LAPTOP-SDM3TI61 minerl.env.malmo.instance.42cbc8[24072] DEBUG [18:28:55] [Netty Server IO #1/INFO]: [STDOUT]: got slot 0\r"
     ]
    },
    {
     "name": "stdout",
     "output_type": "stream",
     "text": [
      "step = "
     ]
    },
    {
     "name": "stderr",
     "output_type": "stream",
     "text": [
      "\n"
     ]
    },
    {
     "name": "stdout",
     "output_type": "stream",
     "text": [
      " 553DEBUG:minerl.env.malmo.instance.42cbc8:[18:28:55] [Client thread/INFO]: [CHAT] §l872...\n",
      "\n"
     ]
    },
    {
     "name": "stderr",
     "output_type": "stream",
     "text": [
      "2019-12-01 18:28:55 LAPTOP-SDM3TI61 minerl.env.malmo.instance.42cbc8[24072] DEBUG [18:28:55] [Client thread/INFO]: [CHAT] §l872...\n"
     ]
    },
    {
     "name": "stdout",
     "output_type": "stream",
     "text": [
      "10.099999999999996\n",
      "step =  554\n",
      "10.099999999999996\n",
      "step =  555\n",
      "DEBUG:minerl.env.malmo.instance.42cbc8:[18:28:55] [Netty Server IO #1/INFO]: [STDOUT]: Equip message recieved\n"
     ]
    },
    {
     "name": "stderr",
     "output_type": "stream",
     "text": [
      "2019-12-01 18:28:55 LAPTOP-SDM3TI61 minerl.env.malmo.instance.42cbc8[24072] DEBUG [18:28:55] [Netty Server IO #1/INFO]: [STDOUT]: Equip message recieved\n"
     ]
    },
    {
     "name": "stdout",
     "output_type": "stream",
     "text": [
      "DEBUG:minerl.env.malmo.instance.42cbc8:[18:28:55] [Netty Server IO #1/INFO]: [STDOUT]: got harbar 0\r\n"
     ]
    },
    {
     "name": "stderr",
     "output_type": "stream",
     "text": [
      "2019-12-01 18:28:55 LAPTOP-SDM3TI61 minerl.env.malmo.instance.42cbc8[24072] DEBUG"
     ]
    },
    {
     "name": "stdout",
     "output_type": "stream",
     "text": [
      "10.099999999999996"
     ]
    },
    {
     "name": "stderr",
     "output_type": "stream",
     "text": [
      " "
     ]
    },
    {
     "name": "stdout",
     "output_type": "stream",
     "text": [
      "\n"
     ]
    },
    {
     "name": "stderr",
     "output_type": "stream",
     "text": [
      "[18:28:55] [Netty Server IO #1/INFO]: [STDOUT]: got harbar 0\n"
     ]
    },
    {
     "name": "stdout",
     "output_type": "stream",
     "text": [
      "DEBUG:minerl.env.malmo.instance.42cbc8:[18:28:55] [Netty Server IO #1/INFO]: [STDOUT]: got slot 0\r\n"
     ]
    },
    {
     "name": "stderr",
     "output_type": "stream",
     "text": [
      "2019-12-01 18:28:55 "
     ]
    },
    {
     "name": "stdout",
     "output_type": "stream",
     "text": [
      "step = "
     ]
    },
    {
     "name": "stderr",
     "output_type": "stream",
     "text": [
      "LAPTOP-SDM3TI61"
     ]
    },
    {
     "name": "stdout",
     "output_type": "stream",
     "text": [
      " "
     ]
    },
    {
     "name": "stderr",
     "output_type": "stream",
     "text": [
      " "
     ]
    },
    {
     "name": "stdout",
     "output_type": "stream",
     "text": [
      "556"
     ]
    },
    {
     "name": "stderr",
     "output_type": "stream",
     "text": [
      "minerl.env.malmo.instance.42cbc8[24072]"
     ]
    },
    {
     "name": "stdout",
     "output_type": "stream",
     "text": [
      "\n"
     ]
    },
    {
     "name": "stderr",
     "output_type": "stream",
     "text": [
      " DEBUG [18:28:55] [Netty Server IO #1/INFO]: [STDOUT]: got slot 0\n"
     ]
    },
    {
     "name": "stdout",
     "output_type": "stream",
     "text": [
      "10.099999999999996\n",
      "step =  557\n",
      "DEBUG:minerl.env.malmo.instance.42cbc8:[18:28:55] [Netty Server IO #1/INFO]: [STDOUT]: Equip message recieved\n"
     ]
    },
    {
     "name": "stderr",
     "output_type": "stream",
     "text": [
      "2019-12-01 18:28:55 LAPTOP-SDM3TI61 minerl.env.malmo.instance.42cbc8[24072] DEBUG [18:28:55] [Netty Server IO #1/INFO]: [STDOUT]: Equip message recieved\n"
     ]
    },
    {
     "name": "stdout",
     "output_type": "stream",
     "text": [
      "DEBUG:minerl.env.malmo.instance.42cbc8:[18:28:55] [Netty Server IO #1/INFO]: [STDOUT]: got harbar 0\r\n"
     ]
    },
    {
     "name": "stderr",
     "output_type": "stream",
     "text": [
      "2019-12-01 18:28:55 LAPTOP-SDM3TI61 minerl.env.malmo.instance.42cbc8[24072] DEBUG [18:28:55] [Netty Server IO #1/INFO]: [STDOUT]: got harbar 0\r"
     ]
    },
    {
     "name": "stdout",
     "output_type": "stream",
     "text": [
      "10.399999999999997"
     ]
    },
    {
     "name": "stderr",
     "output_type": "stream",
     "text": [
      "\n"
     ]
    },
    {
     "name": "stdout",
     "output_type": "stream",
     "text": [
      "\n",
      "DEBUG:minerl.env.malmo.instance.42cbc8:[18:28:55] [Netty Server IO #1/INFO]: [STDOUT]: got slot 0\n"
     ]
    },
    {
     "name": "stderr",
     "output_type": "stream",
     "text": [
      "2019-12-01 18:28:55 LAPTOP-SDM3TI61 minerl.env.malmo.instance.42cbc8[24072] "
     ]
    },
    {
     "name": "stdout",
     "output_type": "stream",
     "text": [
      "step = "
     ]
    },
    {
     "name": "stderr",
     "output_type": "stream",
     "text": [
      "DEBUG"
     ]
    },
    {
     "name": "stdout",
     "output_type": "stream",
     "text": [
      " "
     ]
    },
    {
     "name": "stderr",
     "output_type": "stream",
     "text": [
      " "
     ]
    },
    {
     "name": "stdout",
     "output_type": "stream",
     "text": [
      "558"
     ]
    },
    {
     "name": "stderr",
     "output_type": "stream",
     "text": [
      "[18:28:55] [Netty Server IO #1/INFO]: [STDOUT]: got slot 0\n"
     ]
    },
    {
     "name": "stdout",
     "output_type": "stream",
     "text": [
      "\n",
      "10.399999999999997\n",
      "step =  559\n",
      "DEBUG:minerl.env.malmo.instance.42cbc8:[18:28:55] [Netty Server IO #1/INFO]: [STDOUT]: Equip message recieved\n"
     ]
    },
    {
     "name": "stderr",
     "output_type": "stream",
     "text": [
      "2019-12-01 18:28:55 LAPTOP-SDM3TI61 minerl.env.malmo.instance.42cbc8[24072] DEBUG [18:28:55] [Netty Server IO #1/INFO]: [STDOUT]: Equip message recieved\n"
     ]
    },
    {
     "name": "stdout",
     "output_type": "stream",
     "text": [
      "DEBUG:minerl.env.malmo.instance.42cbc8:[18:28:55] [Netty Server IO #1/INFO]: [STDOUT]: got harbar 0\r\n"
     ]
    },
    {
     "name": "stderr",
     "output_type": "stream",
     "text": [
      "2019-12-01 18:28:55 LAPTOP-SDM3TI61 minerl.env.malmo.instance.42cbc8[24072] DEBUG "
     ]
    },
    {
     "name": "stdout",
     "output_type": "stream",
     "text": [
      "10.399999999999997"
     ]
    },
    {
     "name": "stderr",
     "output_type": "stream",
     "text": [
      "[18:28:55] [Netty Server IO #1/INFO]: [STDOUT]: got harbar 0\r"
     ]
    },
    {
     "name": "stdout",
     "output_type": "stream",
     "text": [
      "\n"
     ]
    },
    {
     "name": "stderr",
     "output_type": "stream",
     "text": [
      "\n"
     ]
    },
    {
     "name": "stdout",
     "output_type": "stream",
     "text": [
      "DEBUG:minerl.env.malmo.instance.42cbc8:[18:28:55] [Netty Server IO #1/INFO]: [STDOUT]: got slot 0\r\n"
     ]
    },
    {
     "name": "stderr",
     "output_type": "stream",
     "text": [
      "2019-12-01 18:28:55 LAPTOP-SDM3TI61 minerl.env.malmo.instance.42cbc8[24072]"
     ]
    },
    {
     "name": "stdout",
     "output_type": "stream",
     "text": [
      "step = "
     ]
    },
    {
     "name": "stderr",
     "output_type": "stream",
     "text": [
      " "
     ]
    },
    {
     "name": "stdout",
     "output_type": "stream",
     "text": [
      " "
     ]
    },
    {
     "name": "stderr",
     "output_type": "stream",
     "text": [
      "DEBUG"
     ]
    },
    {
     "name": "stdout",
     "output_type": "stream",
     "text": [
      "560"
     ]
    },
    {
     "name": "stderr",
     "output_type": "stream",
     "text": [
      " "
     ]
    },
    {
     "name": "stdout",
     "output_type": "stream",
     "text": [
      "\n"
     ]
    },
    {
     "name": "stderr",
     "output_type": "stream",
     "text": [
      "[18:28:55] [Netty Server IO #1/INFO]: [STDOUT]: got slot 0\n"
     ]
    },
    {
     "name": "stdout",
     "output_type": "stream",
     "text": [
      "10.399999999999997\n",
      "step =  561\n",
      "DEBUG:minerl.env.malmo.instance.42cbc8:[18:28:56] [Netty Server IO #1/INFO]: [STDOUT]: Equip message recieved\n"
     ]
    },
    {
     "name": "stderr",
     "output_type": "stream",
     "text": [
      "2019-12-01 18:28:56 LAPTOP-SDM3TI61 minerl.env.malmo.instance.42cbc8[24072] DEBUG [18:28:56] [Netty Server IO #1/INFO]: [STDOUT]: Equip message recieved\n"
     ]
    },
    {
     "name": "stdout",
     "output_type": "stream",
     "text": [
      "DEBUG:minerl.env.malmo.instance.42cbc8:[18:28:56] [Netty Server IO #1/INFO]: [STDOUT]: got harbar 0\r\n"
     ]
    },
    {
     "name": "stderr",
     "output_type": "stream",
     "text": [
      "2019-12-01 18:28:56 LAPTOP-SDM3TI61 minerl.env.malmo.instance.42cbc8[24072] DEBUG [18:28:56] [Netty Server IO #1/INFO]: [STDOUT]: got harbar 0\r"
     ]
    },
    {
     "name": "stdout",
     "output_type": "stream",
     "text": [
      "10.399999999999997"
     ]
    },
    {
     "name": "stderr",
     "output_type": "stream",
     "text": [
      "\n"
     ]
    },
    {
     "name": "stdout",
     "output_type": "stream",
     "text": [
      "\n",
      "DEBUG:minerl.env.malmo.instance.42cbc8:[18:28:56] [Netty Server IO #1/INFO]: [STDOUT]: got slot 0\n"
     ]
    },
    {
     "name": "stderr",
     "output_type": "stream",
     "text": [
      "2019-12-01 18:28:56 LAPTOP-SDM3TI61 minerl.env.malmo.instance.42cbc8[24072]"
     ]
    },
    {
     "name": "stdout",
     "output_type": "stream",
     "text": [
      "step = "
     ]
    },
    {
     "name": "stderr",
     "output_type": "stream",
     "text": [
      " "
     ]
    },
    {
     "name": "stdout",
     "output_type": "stream",
     "text": [
      " "
     ]
    },
    {
     "name": "stderr",
     "output_type": "stream",
     "text": [
      "DEBUG"
     ]
    },
    {
     "name": "stdout",
     "output_type": "stream",
     "text": [
      "562"
     ]
    },
    {
     "name": "stderr",
     "output_type": "stream",
     "text": [
      " "
     ]
    },
    {
     "name": "stdout",
     "output_type": "stream",
     "text": [
      "\n"
     ]
    },
    {
     "name": "stderr",
     "output_type": "stream",
     "text": [
      "[18:28:56] [Netty Server IO #1/INFO]: [STDOUT]: got slot 0\n"
     ]
    },
    {
     "name": "stdout",
     "output_type": "stream",
     "text": [
      "10.399999999999997\n",
      "step =  563\n",
      "10.699999999999998\n",
      "step =  564\n",
      "10.699999999999998\n",
      "step =  565\n",
      "DEBUG:minerl.env.malmo.instance.42cbc8:[18:28:56] [Netty Server IO #1/INFO]: [STDOUT]: Equip message recieved\n"
     ]
    },
    {
     "name": "stderr",
     "output_type": "stream",
     "text": [
      "2019-12-01 18:28:56 LAPTOP-SDM3TI61 minerl.env.malmo.instance.42cbc8[24072] DEBUG [18:28:56] [Netty Server IO #1/INFO]: [STDOUT]: Equip message recieved\n"
     ]
    },
    {
     "name": "stdout",
     "output_type": "stream",
     "text": [
      "DEBUG:minerl.env.malmo.instance.42cbc8:[18:28:56] [Netty Server IO #1/INFO]: [STDOUT]: got harbar 0\r\n"
     ]
    },
    {
     "name": "stderr",
     "output_type": "stream",
     "text": [
      "2019-12-01 18:28:56 LAPTOP-SDM3TI61 minerl.env.malmo.instance.42cbc8[24072] "
     ]
    },
    {
     "name": "stdout",
     "output_type": "stream",
     "text": [
      "10.699999999999998"
     ]
    },
    {
     "name": "stderr",
     "output_type": "stream",
     "text": [
      "DEBUG"
     ]
    },
    {
     "name": "stdout",
     "output_type": "stream",
     "text": [
      "\n"
     ]
    },
    {
     "name": "stderr",
     "output_type": "stream",
     "text": [
      " [18:28:56] [Netty Server IO #1/INFO]: [STDOUT]: got harbar 0\n"
     ]
    },
    {
     "name": "stdout",
     "output_type": "stream",
     "text": [
      "DEBUG:minerl.env.malmo.instance.42cbc8:[18:28:56] [Netty Server IO #1/INFO]: [STDOUT]: got slot 0\r\n"
     ]
    },
    {
     "name": "stderr",
     "output_type": "stream",
     "text": [
      "2019-12-01 18:28:56 LAPTOP-SDM3TI61"
     ]
    },
    {
     "name": "stdout",
     "output_type": "stream",
     "text": [
      "step = "
     ]
    },
    {
     "name": "stderr",
     "output_type": "stream",
     "text": [
      " "
     ]
    },
    {
     "name": "stdout",
     "output_type": "stream",
     "text": [
      " "
     ]
    },
    {
     "name": "stderr",
     "output_type": "stream",
     "text": [
      "minerl.env.malmo.instance.42cbc8[24072] "
     ]
    },
    {
     "name": "stdout",
     "output_type": "stream",
     "text": [
      "566"
     ]
    },
    {
     "name": "stderr",
     "output_type": "stream",
     "text": [
      "DEBUG"
     ]
    },
    {
     "name": "stdout",
     "output_type": "stream",
     "text": [
      "\n"
     ]
    },
    {
     "name": "stderr",
     "output_type": "stream",
     "text": [
      " [18:28:56] [Netty Server IO #1/INFO]: [STDOUT]: got slot 0\n"
     ]
    },
    {
     "name": "stdout",
     "output_type": "stream",
     "text": [
      "10.699999999999998\n",
      "step =  567\n",
      "10.699999999999998\n",
      "step =  568\n",
      "DEBUG:minerl.env.malmo.instance.42cbc8:[18:28:56] [Client thread/INFO]: [CHAT] §l871...\n",
      "10.699999999999998"
     ]
    },
    {
     "name": "stderr",
     "output_type": "stream",
     "text": [
      "2019-12-01 18:28:56"
     ]
    },
    {
     "name": "stdout",
     "output_type": "stream",
     "text": [
      "\n"
     ]
    },
    {
     "name": "stderr",
     "output_type": "stream",
     "text": [
      " LAPTOP-SDM3TI61 minerl.env.malmo.instance.42cbc8[24072] DEBUG"
     ]
    },
    {
     "name": "stdout",
     "output_type": "stream",
     "text": [
      "step = "
     ]
    },
    {
     "name": "stderr",
     "output_type": "stream",
     "text": [
      " "
     ]
    },
    {
     "name": "stdout",
     "output_type": "stream",
     "text": [
      " "
     ]
    },
    {
     "name": "stderr",
     "output_type": "stream",
     "text": [
      "[18:28:56] [Client thread/INFO]: [CHAT] §l871...\n"
     ]
    },
    {
     "name": "stdout",
     "output_type": "stream",
     "text": [
      "569\n",
      "10.699999999999998\n",
      "step =  570\n",
      "10.699999999999998\n",
      "step =  571\n",
      "DEBUG:minerl.env.malmo.instance.42cbc8:[18:28:56] [Netty Server IO #1/INFO]: [STDOUT]: Equip message recieved\n"
     ]
    },
    {
     "name": "stderr",
     "output_type": "stream",
     "text": [
      "2019-12-01 18:28:56 LAPTOP-SDM3TI61 minerl.env.malmo.instance.42cbc8[24072] DEBUG [18:28:56] [Netty Server IO #1/INFO]: [STDOUT]: Equip message recieved\n"
     ]
    },
    {
     "name": "stdout",
     "output_type": "stream",
     "text": [
      "DEBUG:minerl.env.malmo.instance.42cbc8:[18:28:56] [Netty Server IO #1/INFO]: [STDOUT]: got harbar 0\r\n"
     ]
    },
    {
     "name": "stderr",
     "output_type": "stream",
     "text": [
      "2019-12-01 18:28:56 LAPTOP-SDM3TI61"
     ]
    },
    {
     "name": "stdout",
     "output_type": "stream",
     "text": [
      "10.799999999999997"
     ]
    },
    {
     "name": "stderr",
     "output_type": "stream",
     "text": [
      " "
     ]
    },
    {
     "name": "stdout",
     "output_type": "stream",
     "text": [
      "\n"
     ]
    },
    {
     "name": "stderr",
     "output_type": "stream",
     "text": [
      "minerl.env.malmo.instance.42cbc8[24072] DEBUG [18:28:56] [Netty Server IO #1/INFO]: [STDOUT]: got harbar 0\n"
     ]
    },
    {
     "name": "stdout",
     "output_type": "stream",
     "text": [
      "step =  DEBUG:minerl.env.malmo.instance.42cbc8:[18:28:56] [Netty Server IO #1/INFO]: [STDOUT]: got slot 0\n"
     ]
    },
    {
     "name": "stderr",
     "output_type": "stream",
     "text": [
      "2019-12-01 18:28:56"
     ]
    },
    {
     "name": "stdout",
     "output_type": "stream",
     "text": [
      "572"
     ]
    },
    {
     "name": "stderr",
     "output_type": "stream",
     "text": [
      " "
     ]
    },
    {
     "name": "stdout",
     "output_type": "stream",
     "text": [
      "\n"
     ]
    },
    {
     "name": "stderr",
     "output_type": "stream",
     "text": [
      "LAPTOP-SDM3TI61 minerl.env.malmo.instance.42cbc8[24072] DEBUG [18:28:56] [Netty Server IO #1/INFO]: [STDOUT]: got slot 0\n"
     ]
    },
    {
     "name": "stdout",
     "output_type": "stream",
     "text": [
      "DEBUG:minerl.env.malmo.instance.42cbc8:[18:28:56] [Netty Server IO #1/INFO]: [STDOUT]: Equip message recieved\r\n"
     ]
    },
    {
     "name": "stderr",
     "output_type": "stream",
     "text": [
      "2019-12-01 18:28:56 LAPTOP-SDM3TI61 minerl.env.malmo.instance.42cbc8[24072] DEBUG "
     ]
    },
    {
     "name": "stdout",
     "output_type": "stream",
     "text": [
      "10.799999999999997"
     ]
    },
    {
     "name": "stderr",
     "output_type": "stream",
     "text": [
      "[18:28:56] [Netty Server IO #1/INFO]: [STDOUT]: Equip message recieved\r"
     ]
    },
    {
     "name": "stdout",
     "output_type": "stream",
     "text": [
      "\n"
     ]
    },
    {
     "name": "stderr",
     "output_type": "stream",
     "text": [
      "\n"
     ]
    },
    {
     "name": "stdout",
     "output_type": "stream",
     "text": [
      "DEBUG:minerl.env.malmo.instance.42cbc8:[18:28:56] [Netty Server IO #1/INFO]: [STDOUT]: got harbar 0\r\n"
     ]
    },
    {
     "name": "stderr",
     "output_type": "stream",
     "text": [
      "2019-12-01 18:28:56 "
     ]
    },
    {
     "name": "stdout",
     "output_type": "stream",
     "text": [
      "step = "
     ]
    },
    {
     "name": "stderr",
     "output_type": "stream",
     "text": [
      "LAPTOP-SDM3TI61"
     ]
    },
    {
     "name": "stdout",
     "output_type": "stream",
     "text": [
      " "
     ]
    },
    {
     "name": "stderr",
     "output_type": "stream",
     "text": [
      " "
     ]
    },
    {
     "name": "stdout",
     "output_type": "stream",
     "text": [
      "573"
     ]
    },
    {
     "name": "stderr",
     "output_type": "stream",
     "text": [
      "minerl.env.malmo.instance.42cbc8[24072]"
     ]
    },
    {
     "name": "stdout",
     "output_type": "stream",
     "text": [
      "\n"
     ]
    },
    {
     "name": "stderr",
     "output_type": "stream",
     "text": [
      " DEBUG [18:28:56] [Netty Server IO #1/INFO]: [STDOUT]: got harbar 0\n"
     ]
    },
    {
     "name": "stdout",
     "output_type": "stream",
     "text": [
      "DEBUG:minerl.env.malmo.instance.42cbc8:[18:28:56] [Netty Server IO #1/INFO]: [STDOUT]: got slot 0\r\n"
     ]
    },
    {
     "name": "stderr",
     "output_type": "stream",
     "text": [
      "2019-12-01 18:28:56 LAPTOP-SDM3TI61 minerl.env.malmo.instance.42cbc8[24072] DEBUG [18:28:56] [Netty Server IO #1/INFO]: [STDOUT]: got slot 0\n"
     ]
    },
    {
     "name": "stdout",
     "output_type": "stream",
     "text": [
      "10.799999999999997\n",
      "step =  574\n",
      "DEBUG:minerl.env.malmo.instance.42cbc8:[18:28:56] [Netty Server IO #1/INFO]: [STDOUT]: Equip message recieved\n"
     ]
    },
    {
     "name": "stderr",
     "output_type": "stream",
     "text": [
      "2019-12-01 18:28:56 LAPTOP-SDM3TI61 minerl.env.malmo.instance.42cbc8[24072] DEBUG [18:28:56] [Netty Server IO #1/INFO]: [STDOUT]: Equip message recieved\n"
     ]
    },
    {
     "name": "stdout",
     "output_type": "stream",
     "text": [
      "DEBUG:minerl.env.malmo.instance.42cbc8:[18:28:56] [Netty Server IO #1/INFO]: [STDOUT]: got harbar 0\r\n"
     ]
    },
    {
     "name": "stderr",
     "output_type": "stream",
     "text": [
      "2019-12-01 18:28:56 LAPTOP-SDM3TI61 minerl.env.malmo.instance.42cbc8[24072] DEBUG "
     ]
    },
    {
     "name": "stdout",
     "output_type": "stream",
     "text": [
      "10.799999999999997"
     ]
    },
    {
     "name": "stderr",
     "output_type": "stream",
     "text": [
      "[18:28:56] [Netty Server IO #1/INFO]: [STDOUT]: got harbar 0\r"
     ]
    },
    {
     "name": "stdout",
     "output_type": "stream",
     "text": [
      "\n"
     ]
    },
    {
     "name": "stderr",
     "output_type": "stream",
     "text": [
      "\n"
     ]
    },
    {
     "name": "stdout",
     "output_type": "stream",
     "text": [
      "DEBUG:minerl.env.malmo.instance.42cbc8:[18:28:56] [Netty Server IO #1/INFO]: [STDOUT]: got slot 0\r\n"
     ]
    },
    {
     "name": "stderr",
     "output_type": "stream",
     "text": [
      "2019-12-01 18:28:56 LAPTOP-SDM3TI61 "
     ]
    },
    {
     "name": "stdout",
     "output_type": "stream",
     "text": [
      "step = "
     ]
    },
    {
     "name": "stderr",
     "output_type": "stream",
     "text": [
      "minerl.env.malmo.instance.42cbc8[24072]"
     ]
    },
    {
     "name": "stdout",
     "output_type": "stream",
     "text": [
      " "
     ]
    },
    {
     "name": "stderr",
     "output_type": "stream",
     "text": [
      " "
     ]
    },
    {
     "name": "stdout",
     "output_type": "stream",
     "text": [
      "575"
     ]
    },
    {
     "name": "stderr",
     "output_type": "stream",
     "text": [
      "DEBUG"
     ]
    },
    {
     "name": "stdout",
     "output_type": "stream",
     "text": [
      "\n"
     ]
    },
    {
     "name": "stderr",
     "output_type": "stream",
     "text": [
      " [18:28:56] [Netty Server IO #1/INFO]: [STDOUT]: got slot 0\n"
     ]
    },
    {
     "name": "stdout",
     "output_type": "stream",
     "text": [
      "10.799999999999997\n",
      "step =  576\n",
      "DEBUG:minerl.env.malmo.instance.42cbc8:[18:28:56] [Netty Server IO #1/INFO]: [STDOUT]: Equip message recieved\n"
     ]
    },
    {
     "name": "stderr",
     "output_type": "stream",
     "text": [
      "2019-12-01 18:28:56 LAPTOP-SDM3TI61 minerl.env.malmo.instance.42cbc8[24072] DEBUG [18:28:56] [Netty Server IO #1/INFO]: [STDOUT]: Equip message recieved\n"
     ]
    },
    {
     "name": "stdout",
     "output_type": "stream",
     "text": [
      "DEBUG:minerl.env.malmo.instance.42cbc8:[18:28:56] [Netty Server IO #1/INFO]: [STDOUT]: got harbar 0\r\n"
     ]
    },
    {
     "name": "stderr",
     "output_type": "stream",
     "text": [
      "2019-12-01 18:28:56 LAPTOP-SDM3TI61 minerl.env.malmo.instance.42cbc8[24072] DEBUG "
     ]
    },
    {
     "name": "stdout",
     "output_type": "stream",
     "text": [
      "10.799999999999997\n"
     ]
    },
    {
     "name": "stderr",
     "output_type": "stream",
     "text": [
      "[18:28:56] [Netty Server IO #1/INFO]: [STDOUT]: got harbar 0\n"
     ]
    },
    {
     "name": "stdout",
     "output_type": "stream",
     "text": [
      "DEBUG:minerl.env.malmo.instance.42cbc8:[18:28:56] [Netty Server IO #1/INFO]: [STDOUT]: got slot 0\r\n"
     ]
    },
    {
     "name": "stderr",
     "output_type": "stream",
     "text": [
      "2019-12-01 18:28:56 LAPTOP-SDM3TI61 "
     ]
    },
    {
     "name": "stdout",
     "output_type": "stream",
     "text": [
      "step = "
     ]
    },
    {
     "name": "stderr",
     "output_type": "stream",
     "text": [
      "minerl.env.malmo.instance.42cbc8[24072]"
     ]
    },
    {
     "name": "stdout",
     "output_type": "stream",
     "text": [
      " "
     ]
    },
    {
     "name": "stderr",
     "output_type": "stream",
     "text": [
      " "
     ]
    },
    {
     "name": "stdout",
     "output_type": "stream",
     "text": [
      "577\n"
     ]
    },
    {
     "name": "stderr",
     "output_type": "stream",
     "text": [
      "DEBUG [18:28:56] [Netty Server IO #1/INFO]: [STDOUT]: got slot 0\n"
     ]
    },
    {
     "name": "stdout",
     "output_type": "stream",
     "text": [
      "DEBUG:minerl.env.malmo.instance.42cbc8:[18:28:56] [Netty Server IO #1/INFO]: [STDOUT]: Equip message recieved\r\n"
     ]
    },
    {
     "name": "stderr",
     "output_type": "stream",
     "text": [
      "2019-12-01 18:28:56 LAPTOP-SDM3TI61 minerl.env.malmo.instance.42cbc8[24072] DEBUG [18:28:56] [Netty Server IO #1/INFO]: [STDOUT]: Equip message recieved\n"
     ]
    },
    {
     "name": "stdout",
     "output_type": "stream",
     "text": [
      "DEBUG:minerl.env.malmo.instance.42cbc8:[18:28:56] [Netty Server IO #1/INFO]: [STDOUT]: got harbar 0\r\n"
     ]
    },
    {
     "name": "stderr",
     "output_type": "stream",
     "text": [
      "2019-12-01 18:28:56 "
     ]
    },
    {
     "name": "stdout",
     "output_type": "stream",
     "text": [
      "10.799999999999997"
     ]
    },
    {
     "name": "stderr",
     "output_type": "stream",
     "text": [
      "LAPTOP-SDM3TI61"
     ]
    },
    {
     "name": "stdout",
     "output_type": "stream",
     "text": [
      "\n"
     ]
    },
    {
     "name": "stderr",
     "output_type": "stream",
     "text": [
      " minerl.env.malmo.instance.42cbc8[24072] DEBUG [18:28:56] [Netty Server IO #1/INFO]: [STDOUT]: got harbar 0\r"
     ]
    },
    {
     "name": "stdout",
     "output_type": "stream",
     "text": [
      "step = "
     ]
    },
    {
     "name": "stderr",
     "output_type": "stream",
     "text": [
      "\n"
     ]
    },
    {
     "name": "stdout",
     "output_type": "stream",
     "text": [
      " 578DEBUG:minerl.env.malmo.instance.42cbc8:[18:28:56] [Netty Server IO #1/INFO]: [STDOUT]: got slot 0\n"
     ]
    },
    {
     "name": "stderr",
     "output_type": "stream",
     "text": [
      "2019-12-01 18:28:56"
     ]
    },
    {
     "name": "stdout",
     "output_type": "stream",
     "text": [
      "\n"
     ]
    },
    {
     "name": "stderr",
     "output_type": "stream",
     "text": [
      " LAPTOP-SDM3TI61 minerl.env.malmo.instance.42cbc8[24072] DEBUG [18:28:56] [Netty Server IO #1/INFO]: [STDOUT]: got slot 0\n"
     ]
    },
    {
     "name": "stdout",
     "output_type": "stream",
     "text": [
      "DEBUG:minerl.env.malmo.instance.42cbc8:[18:28:56] [Netty Server IO #1/INFO]: [STDOUT]: Equip message recieved\r\n"
     ]
    },
    {
     "name": "stderr",
     "output_type": "stream",
     "text": [
      "2019-12-01 18:28:56 LAPTOP-SDM3TI61 minerl.env.malmo.instance.42cbc8[24072] DEBUG "
     ]
    },
    {
     "name": "stdout",
     "output_type": "stream",
     "text": [
      "10.799999999999997"
     ]
    },
    {
     "name": "stderr",
     "output_type": "stream",
     "text": [
      "[18:28:56] [Netty Server IO #1/INFO]: [STDOUT]: Equip message recieved\r"
     ]
    },
    {
     "name": "stdout",
     "output_type": "stream",
     "text": [
      "\n"
     ]
    },
    {
     "name": "stderr",
     "output_type": "stream",
     "text": [
      "\n"
     ]
    },
    {
     "name": "stdout",
     "output_type": "stream",
     "text": [
      "DEBUG:minerl.env.malmo.instance.42cbc8:[18:28:56] [Netty Server IO #1/INFO]: [STDOUT]: got harbar 0\r\n"
     ]
    },
    {
     "name": "stderr",
     "output_type": "stream",
     "text": [
      "2019-12-01 18:28:56 LAPTOP-SDM3TI61"
     ]
    },
    {
     "name": "stdout",
     "output_type": "stream",
     "text": [
      "step = "
     ]
    },
    {
     "name": "stderr",
     "output_type": "stream",
     "text": [
      " "
     ]
    },
    {
     "name": "stdout",
     "output_type": "stream",
     "text": [
      " "
     ]
    },
    {
     "name": "stderr",
     "output_type": "stream",
     "text": [
      "minerl.env.malmo.instance.42cbc8[24072] "
     ]
    },
    {
     "name": "stdout",
     "output_type": "stream",
     "text": [
      "579\n"
     ]
    },
    {
     "name": "stderr",
     "output_type": "stream",
     "text": [
      "DEBUG [18:28:56] [Netty Server IO #1/INFO]: [STDOUT]: got harbar 0\n"
     ]
    },
    {
     "name": "stdout",
     "output_type": "stream",
     "text": [
      "DEBUG:minerl.env.malmo.instance.42cbc8:[18:28:56] [Netty Server IO #1/INFO]: [STDOUT]: got slot 0\r\n"
     ]
    },
    {
     "name": "stderr",
     "output_type": "stream",
     "text": [
      "2019-12-01 18:28:56 LAPTOP-SDM3TI61 minerl.env.malmo.instance.42cbc8[24072] DEBUG [18:28:56] [Netty Server IO #1/INFO]: [STDOUT]: got slot 0\n"
     ]
    },
    {
     "name": "stdout",
     "output_type": "stream",
     "text": [
      "DEBUG:minerl.env.malmo.instance.42cbc8:[18:28:56] [Netty Server IO #1/INFO]: [STDOUT]: Equip message recieved\r\n"
     ]
    },
    {
     "name": "stderr",
     "output_type": "stream",
     "text": [
      "2019-12-01 18:28:56 "
     ]
    },
    {
     "name": "stdout",
     "output_type": "stream",
     "text": [
      "10.799999999999997"
     ]
    },
    {
     "name": "stderr",
     "output_type": "stream",
     "text": [
      "LAPTOP-SDM3TI61"
     ]
    },
    {
     "name": "stdout",
     "output_type": "stream",
     "text": [
      "\n"
     ]
    },
    {
     "name": "stderr",
     "output_type": "stream",
     "text": [
      " minerl.env.malmo.instance.42cbc8[24072] DEBUG [18:28:56] [Netty Server IO #1/INFO]: [STDOUT]: Equip message recieved\r"
     ]
    },
    {
     "name": "stdout",
     "output_type": "stream",
     "text": [
      "step =  "
     ]
    },
    {
     "name": "stderr",
     "output_type": "stream",
     "text": [
      "\n"
     ]
    },
    {
     "name": "stdout",
     "output_type": "stream",
     "text": [
      "580\n",
      "DEBUG:minerl.env.malmo.instance.42cbc8:[18:28:56] [Netty Server IO #1/INFO]: [STDOUT]: got harbar 0\n"
     ]
    },
    {
     "name": "stderr",
     "output_type": "stream",
     "text": [
      "2019-12-01 18:28:56 LAPTOP-SDM3TI61 minerl.env.malmo.instance.42cbc8[24072] DEBUG [18:28:56] [Netty Server IO #1/INFO]: [STDOUT]: got harbar 0\n"
     ]
    },
    {
     "name": "stdout",
     "output_type": "stream",
     "text": [
      "DEBUG:minerl.env.malmo.instance.42cbc8:[18:28:56] [Netty Server IO #1/INFO]: [STDOUT]: got slot 0\r\n"
     ]
    },
    {
     "name": "stderr",
     "output_type": "stream",
     "text": [
      "2019-12-01 18:28:56 LAPTOP-SDM3TI61 minerl.env.malmo.instance.42cbc8[24072] DEBUG [18:28:56] [Netty Server IO #1/INFO]: [STDOUT]: got slot 0\r"
     ]
    },
    {
     "name": "stdout",
     "output_type": "stream",
     "text": [
      "10.799999999999997"
     ]
    },
    {
     "name": "stderr",
     "output_type": "stream",
     "text": [
      "\n"
     ]
    },
    {
     "name": "stdout",
     "output_type": "stream",
     "text": [
      "\n",
      "DEBUG:minerl.env.malmo.instance.42cbc8:[18:28:56] [Netty Server IO #1/INFO]: [STDOUT]: Equip message recieved\n"
     ]
    },
    {
     "name": "stderr",
     "output_type": "stream",
     "text": [
      "2019-12-01 18:28:56 LAPTOP-SDM3TI61 "
     ]
    },
    {
     "name": "stdout",
     "output_type": "stream",
     "text": [
      "step = "
     ]
    },
    {
     "name": "stderr",
     "output_type": "stream",
     "text": [
      "minerl.env.malmo.instance.42cbc8[24072]"
     ]
    },
    {
     "name": "stdout",
     "output_type": "stream",
     "text": [
      " "
     ]
    },
    {
     "name": "stderr",
     "output_type": "stream",
     "text": [
      " "
     ]
    },
    {
     "name": "stdout",
     "output_type": "stream",
     "text": [
      "581"
     ]
    },
    {
     "name": "stderr",
     "output_type": "stream",
     "text": [
      "DEBUG"
     ]
    },
    {
     "name": "stdout",
     "output_type": "stream",
     "text": [
      "\n"
     ]
    },
    {
     "name": "stderr",
     "output_type": "stream",
     "text": [
      " [18:28:56] [Netty Server IO #1/INFO]: [STDOUT]: Equip message recieved\n"
     ]
    },
    {
     "name": "stdout",
     "output_type": "stream",
     "text": [
      "DEBUG:minerl.env.malmo.instance.42cbc8:[18:28:56] [Netty Server IO #1/INFO]: [STDOUT]: got harbar 0\r\n"
     ]
    },
    {
     "name": "stderr",
     "output_type": "stream",
     "text": [
      "2019-12-01 18:28:56 LAPTOP-SDM3TI61 minerl.env.malmo.instance.42cbc8[24072] DEBUG [18:28:56] [Netty Server IO #1/INFO]: [STDOUT]: got harbar 0\n"
     ]
    },
    {
     "name": "stdout",
     "output_type": "stream",
     "text": [
      "DEBUG:minerl.env.malmo.instance.42cbc8:[18:28:56] [Netty Server IO #1/INFO]: [STDOUT]: got slot 0\r\n"
     ]
    },
    {
     "name": "stderr",
     "output_type": "stream",
     "text": [
      "2019-12-01 18:28:56 LAPTOP-SDM3TI61 minerl.env.malmo.instance.42cbc8[24072]"
     ]
    },
    {
     "name": "stdout",
     "output_type": "stream",
     "text": [
      "10.799999999999997"
     ]
    },
    {
     "name": "stderr",
     "output_type": "stream",
     "text": [
      " "
     ]
    },
    {
     "name": "stdout",
     "output_type": "stream",
     "text": [
      "\n"
     ]
    },
    {
     "name": "stderr",
     "output_type": "stream",
     "text": [
      "DEBUG [18:28:56] [Netty Server IO #1/INFO]: [STDOUT]: got slot 0\n"
     ]
    },
    {
     "name": "stdout",
     "output_type": "stream",
     "text": [
      "step =  582\n",
      "10.799999999999997\n",
      "step =  583\n",
      "DEBUG:minerl.env.malmo.instance.42cbc8:[18:28:56] [Netty Server IO #1/INFO]: [STDOUT]: Equip message recieved\n"
     ]
    },
    {
     "name": "stderr",
     "output_type": "stream",
     "text": [
      "2019-12-01 18:28:56 LAPTOP-SDM3TI61 minerl.env.malmo.instance.42cbc8[24072] DEBUG [18:28:56] [Netty Server IO #1/INFO]: [STDOUT]: Equip message recieved\n"
     ]
    },
    {
     "name": "stdout",
     "output_type": "stream",
     "text": [
      "DEBUG:minerl.env.malmo.instance.42cbc8:[18:28:56] [Netty Server IO #1/INFO]: [STDOUT]: got harbar 0\r\n"
     ]
    },
    {
     "name": "stderr",
     "output_type": "stream",
     "text": [
      "2019-12-01 18:28:56 LAPTOP-SDM3TI61 minerl.env.malmo.instance.42cbc8[24072] DEBUG [18:28:56] [Netty Server IO #1/INFO]: [STDOUT]: got harbar 0\n"
     ]
    },
    {
     "name": "stdout",
     "output_type": "stream",
     "text": [
      "DEBUG:minerl.env.malmo.instance.42cbc8:[18:28:56] [Netty Server IO #1/INFO]: [STDOUT]: got slot 0\r\n"
     ]
    },
    {
     "name": "stderr",
     "output_type": "stream",
     "text": [
      "2019-12-01 18:28:56 LAPTOP-SDM3TI61 minerl.env.malmo.instance.42cbc8[24072] DEBUG [18:28:56] [Netty Server IO #1/INFO]: [STDOUT]: got slot 0\n"
     ]
    },
    {
     "name": "stdout",
     "output_type": "stream",
     "text": [
      "10.799999999999997\n",
      "step =  584\n",
      "DEBUG:minerl.env.malmo.instance.42cbc8:[18:28:56] [Netty Server IO #1/INFO]: [STDOUT]: Equip message recieved\n"
     ]
    },
    {
     "name": "stderr",
     "output_type": "stream",
     "text": [
      "2019-12-01 18:28:56 LAPTOP-SDM3TI61 minerl.env.malmo.instance.42cbc8[24072] DEBUG [18:28:56] [Netty Server IO #1/INFO]: [STDOUT]: Equip message recieved\n"
     ]
    },
    {
     "name": "stdout",
     "output_type": "stream",
     "text": [
      "DEBUG:minerl.env.malmo.instance.42cbc8:[18:28:56] [Netty Server IO #1/INFO]: [STDOUT]: got harbar 0\r\n"
     ]
    },
    {
     "name": "stderr",
     "output_type": "stream",
     "text": [
      "2019-12-01 18:28:56 LAPTOP-SDM3TI61 minerl.env.malmo.instance.42cbc8[24072] DEBUG [18:28:56] [Netty Server IO #1/INFO]: [STDOUT]: got harbar 0\n"
     ]
    },
    {
     "name": "stdout",
     "output_type": "stream",
     "text": [
      "DEBUG:minerl.env.malmo.instance.42cbc8:[18:28:56] [Netty Server IO #1/INFO]: [STDOUT]: got slot 0\r\n"
     ]
    },
    {
     "name": "stderr",
     "output_type": "stream",
     "text": [
      "2019-12-01 18:28:56 LAPTOP-SDM3TI61 minerl.env.malmo.instance.42cbc8[24072] DEBUG [18:28:56] [Netty Server IO #1/INFO]: [STDOUT]: got slot 0\n"
     ]
    },
    {
     "name": "stdout",
     "output_type": "stream",
     "text": [
      "10.999999999999996\n",
      "step =  585\n",
      "10.999999999999996\n",
      "step =  586\n",
      "DEBUG:minerl.env.malmo.instance.42cbc8:[18:28:56] [Netty Server IO #1/INFO]: [STDOUT]: Equip message recieved\n"
     ]
    },
    {
     "name": "stderr",
     "output_type": "stream",
     "text": [
      "2019-12-01 18:28:56 LAPTOP-SDM3TI61 minerl.env.malmo.instance.42cbc8[24072] DEBUG [18:28:56] [Netty Server IO #1/INFO]: [STDOUT]: Equip message recieved\n"
     ]
    },
    {
     "name": "stdout",
     "output_type": "stream",
     "text": [
      "DEBUG:minerl.env.malmo.instance.42cbc8:[18:28:56] [Netty Server IO #1/INFO]: [STDOUT]: got harbar 0\r\n"
     ]
    },
    {
     "name": "stderr",
     "output_type": "stream",
     "text": [
      "2019-12-01 18:28:56 LAPTOP-SDM3TI61 minerl.env.malmo.instance.42cbc8[24072] DEBUG [18:28:56] [Netty Server IO #1/INFO]: [STDOUT]: got harbar 0\n"
     ]
    },
    {
     "name": "stdout",
     "output_type": "stream",
     "text": [
      "DEBUG:minerl.env.malmo.instance.42cbc8:[18:28:56] [Netty Server IO #1/INFO]: [STDOUT]: got slot 0\r\n"
     ]
    },
    {
     "name": "stderr",
     "output_type": "stream",
     "text": [
      "2019-12-01 18:28:56 LAPTOP-SDM3TI61 "
     ]
    },
    {
     "name": "stdout",
     "output_type": "stream",
     "text": [
      "10.999999999999996"
     ]
    },
    {
     "name": "stderr",
     "output_type": "stream",
     "text": [
      "minerl.env.malmo.instance.42cbc8[24072]"
     ]
    },
    {
     "name": "stdout",
     "output_type": "stream",
     "text": [
      "\n"
     ]
    },
    {
     "name": "stderr",
     "output_type": "stream",
     "text": [
      " DEBUG [18:28:56] [Netty Server IO #1/INFO]: [STDOUT]: got slot 0\r"
     ]
    },
    {
     "name": "stdout",
     "output_type": "stream",
     "text": [
      "step = "
     ]
    },
    {
     "name": "stderr",
     "output_type": "stream",
     "text": [
      "\n"
     ]
    },
    {
     "name": "stdout",
     "output_type": "stream",
     "text": [
      " 587\n",
      "DEBUG:minerl.env.malmo.instance.42cbc8:[18:28:56] [Netty Server IO #1/INFO]: [STDOUT]: Equip message recieved\n"
     ]
    },
    {
     "name": "stderr",
     "output_type": "stream",
     "text": [
      "2019-12-01 18:28:56 LAPTOP-SDM3TI61 minerl.env.malmo.instance.42cbc8[24072] DEBUG [18:28:56] [Netty Server IO #1/INFO]: [STDOUT]: Equip message recieved\n"
     ]
    },
    {
     "name": "stdout",
     "output_type": "stream",
     "text": [
      "DEBUG:minerl.env.malmo.instance.42cbc8:[18:28:56] [Netty Server IO #1/INFO]: [STDOUT]: got harbar 0\r\n"
     ]
    },
    {
     "name": "stderr",
     "output_type": "stream",
     "text": [
      "2019-12-01 18:28:56 LAPTOP-SDM3TI61 minerl.env.malmo.instance.42cbc8[24072] DEBUG [18:28:56] [Netty Server IO #1/INFO]: [STDOUT]: got harbar 0\r"
     ]
    },
    {
     "name": "stdout",
     "output_type": "stream",
     "text": [
      "10.999999999999996"
     ]
    },
    {
     "name": "stderr",
     "output_type": "stream",
     "text": [
      "\n"
     ]
    },
    {
     "name": "stdout",
     "output_type": "stream",
     "text": [
      "\n",
      "DEBUG:minerl.env.malmo.instance.42cbc8:[18:28:56] [Netty Server IO #1/INFO]: [STDOUT]: got slot 0\n"
     ]
    },
    {
     "name": "stderr",
     "output_type": "stream",
     "text": [
      "2019-12-01 18:28:56 LAPTOP-SDM3TI61 "
     ]
    },
    {
     "name": "stdout",
     "output_type": "stream",
     "text": [
      "step = "
     ]
    },
    {
     "name": "stderr",
     "output_type": "stream",
     "text": [
      "minerl.env.malmo.instance.42cbc8[24072]"
     ]
    },
    {
     "name": "stdout",
     "output_type": "stream",
     "text": [
      " "
     ]
    },
    {
     "name": "stderr",
     "output_type": "stream",
     "text": [
      " "
     ]
    },
    {
     "name": "stdout",
     "output_type": "stream",
     "text": [
      "588"
     ]
    },
    {
     "name": "stderr",
     "output_type": "stream",
     "text": [
      "DEBUG"
     ]
    },
    {
     "name": "stdout",
     "output_type": "stream",
     "text": [
      "\n"
     ]
    },
    {
     "name": "stderr",
     "output_type": "stream",
     "text": [
      " [18:28:56] [Netty Server IO #1/INFO]: [STDOUT]: got slot 0\n"
     ]
    },
    {
     "name": "stdout",
     "output_type": "stream",
     "text": [
      "DEBUG:minerl.env.malmo.instance.42cbc8:[18:28:56] [Netty Server IO #1/INFO]: [STDOUT]: Equip message recieved\r\n"
     ]
    },
    {
     "name": "stderr",
     "output_type": "stream",
     "text": [
      "2019-12-01 18:28:57 LAPTOP-SDM3TI61 minerl.env.malmo.instance.42cbc8[24072] DEBUG [18:28:56] [Netty Server IO #1/INFO]: [STDOUT]: Equip message recieved\n"
     ]
    },
    {
     "name": "stdout",
     "output_type": "stream",
     "text": [
      "DEBUG:minerl.env.malmo.instance.42cbc8:[18:28:57] [Netty Server IO #1/INFO]: [STDOUT]: got harbar 0\r\n"
     ]
    },
    {
     "name": "stderr",
     "output_type": "stream",
     "text": [
      "2019-12-01 18:28:57 LAPTOP-SDM3TI61"
     ]
    },
    {
     "name": "stdout",
     "output_type": "stream",
     "text": [
      "10.999999999999996"
     ]
    },
    {
     "name": "stderr",
     "output_type": "stream",
     "text": [
      " "
     ]
    },
    {
     "name": "stdout",
     "output_type": "stream",
     "text": [
      "\n"
     ]
    },
    {
     "name": "stderr",
     "output_type": "stream",
     "text": [
      "minerl.env.malmo.instance.42cbc8[24072] DEBUG "
     ]
    },
    {
     "name": "stdout",
     "output_type": "stream",
     "text": [
      "step = "
     ]
    },
    {
     "name": "stderr",
     "output_type": "stream",
     "text": [
      "[18:28:57] [Netty Server IO #1/INFO]: [STDOUT]: got harbar 0\r"
     ]
    },
    {
     "name": "stdout",
     "output_type": "stream",
     "text": [
      " "
     ]
    },
    {
     "name": "stderr",
     "output_type": "stream",
     "text": [
      "\n"
     ]
    },
    {
     "name": "stdout",
     "output_type": "stream",
     "text": [
      "589\n",
      "DEBUG:minerl.env.malmo.instance.42cbc8:[18:28:57] [Netty Server IO #1/INFO]: [STDOUT]: got slot 0\n"
     ]
    },
    {
     "name": "stderr",
     "output_type": "stream",
     "text": [
      "2019-12-01 18:28:57 LAPTOP-SDM3TI61 minerl.env.malmo.instance.42cbc8[24072] DEBUG [18:28:57] [Netty Server IO #1/INFO]: [STDOUT]: got slot 0\n"
     ]
    },
    {
     "name": "stdout",
     "output_type": "stream",
     "text": [
      "DEBUG:minerl.env.malmo.instance.42cbc8:[18:28:57] [Client thread/INFO]: [CHAT] §l870...\r\n"
     ]
    },
    {
     "name": "stderr",
     "output_type": "stream",
     "text": [
      "2019-12-01 18:28:57 LAPTOP-SDM3TI61 minerl.env.malmo.instance.42cbc8[24072] DEBUG [18:28:57] [Client thread/INFO]: [CHAT] §l870...\n"
     ]
    },
    {
     "name": "stdout",
     "output_type": "stream",
     "text": [
      "DEBUG:minerl.env.malmo.instance.42cbc8:[18:28:57] [Netty Server IO #1/INFO]: [STDOUT]: Equip message recieved\r\n"
     ]
    },
    {
     "name": "stderr",
     "output_type": "stream",
     "text": [
      "2019-12-01 18:28:57 LAPTOP-SDM3TI61 minerl.env.malmo.instance.42cbc8[24072] DEBUG [18:28:57] [Netty Server IO #1/INFO]: [STDOUT]: Equip message recieved\n"
     ]
    },
    {
     "name": "stdout",
     "output_type": "stream",
     "text": [
      "DEBUG:minerl.env.malmo.instance.42cbc8:[18:28:57] [Netty Server IO #1/INFO]: [STDOUT]: got harbar 0\r\n"
     ]
    },
    {
     "name": "stderr",
     "output_type": "stream",
     "text": [
      "2019-12-01 18:28:57 LAPTOP-SDM3TI61 minerl.env.malmo.instance.42cbc8[24072] DEBUG [18:28:57] [Netty Server IO #1/INFO]: [STDOUT]: got harbar 0\n"
     ]
    },
    {
     "name": "stdout",
     "output_type": "stream",
     "text": [
      "DEBUG:minerl.env.malmo.instance.42cbc8:[18:28:57] [Netty Server IO #1/INFO]: [STDOUT]: got slot 0\r\n"
     ]
    },
    {
     "name": "stderr",
     "output_type": "stream",
     "text": [
      "2019-12-01 18:28:57 "
     ]
    },
    {
     "name": "stdout",
     "output_type": "stream",
     "text": [
      "10.999999999999996\n"
     ]
    },
    {
     "name": "stderr",
     "output_type": "stream",
     "text": [
      "LAPTOP-SDM3TI61 minerl.env.malmo.instance.42cbc8[24072] "
     ]
    },
    {
     "name": "stdout",
     "output_type": "stream",
     "text": [
      "step = "
     ]
    },
    {
     "name": "stderr",
     "output_type": "stream",
     "text": [
      "DEBUG"
     ]
    },
    {
     "name": "stdout",
     "output_type": "stream",
     "text": [
      " "
     ]
    },
    {
     "name": "stderr",
     "output_type": "stream",
     "text": [
      " "
     ]
    },
    {
     "name": "stdout",
     "output_type": "stream",
     "text": [
      "590"
     ]
    },
    {
     "name": "stderr",
     "output_type": "stream",
     "text": [
      "[18:28:57] [Netty Server IO #1/INFO]: [STDOUT]: got slot 0\r"
     ]
    },
    {
     "name": "stdout",
     "output_type": "stream",
     "text": [
      "\n"
     ]
    },
    {
     "name": "stderr",
     "output_type": "stream",
     "text": [
      "\n"
     ]
    },
    {
     "name": "stdout",
     "output_type": "stream",
     "text": [
      "DEBUG:minerl.env.malmo.instance.42cbc8:[18:28:57] [Netty Server IO #1/INFO]: [STDOUT]: Equip message recieved\r\n"
     ]
    },
    {
     "name": "stderr",
     "output_type": "stream",
     "text": [
      "2019-12-01 18:28:57 LAPTOP-SDM3TI61 minerl.env.malmo.instance.42cbc8[24072] DEBUG [18:28:57] [Netty Server IO #1/INFO]: [STDOUT]: Equip message recieved\n"
     ]
    },
    {
     "name": "stdout",
     "output_type": "stream",
     "text": [
      "DEBUG:minerl.env.malmo.instance.42cbc8:[18:28:57] [Netty Server IO #1/INFO]: [STDOUT]: got harbar 0\r\n"
     ]
    },
    {
     "name": "stderr",
     "output_type": "stream",
     "text": [
      "2019-12-01 18:28:57 LAPTOP-SDM3TI61 minerl.env.malmo.instance.42cbc8[24072] DEBUG"
     ]
    },
    {
     "name": "stdout",
     "output_type": "stream",
     "text": [
      "11.299999999999997"
     ]
    },
    {
     "name": "stderr",
     "output_type": "stream",
     "text": [
      " [18:28:57] [Netty Server IO #1/INFO]: [STDOUT]: got harbar 0\r"
     ]
    },
    {
     "name": "stdout",
     "output_type": "stream",
     "text": [
      "\n"
     ]
    },
    {
     "name": "stderr",
     "output_type": "stream",
     "text": [
      "\n"
     ]
    },
    {
     "name": "stdout",
     "output_type": "stream",
     "text": [
      "DEBUG:minerl.env.malmo.instance.42cbc8:[18:28:57] [Netty Server IO #1/INFO]: [STDOUT]: got slot 0\r\n"
     ]
    },
    {
     "name": "stderr",
     "output_type": "stream",
     "text": [
      "2019-12-01 18:28:57"
     ]
    },
    {
     "name": "stdout",
     "output_type": "stream",
     "text": [
      "step = "
     ]
    },
    {
     "name": "stderr",
     "output_type": "stream",
     "text": [
      " "
     ]
    },
    {
     "name": "stdout",
     "output_type": "stream",
     "text": [
      " "
     ]
    },
    {
     "name": "stderr",
     "output_type": "stream",
     "text": [
      "LAPTOP-SDM3TI61"
     ]
    },
    {
     "name": "stdout",
     "output_type": "stream",
     "text": [
      "591"
     ]
    },
    {
     "name": "stderr",
     "output_type": "stream",
     "text": [
      " "
     ]
    },
    {
     "name": "stdout",
     "output_type": "stream",
     "text": [
      "\n"
     ]
    },
    {
     "name": "stderr",
     "output_type": "stream",
     "text": [
      "minerl.env.malmo.instance.42cbc8[24072] DEBUG [18:28:57] [Netty Server IO #1/INFO]: [STDOUT]: got slot 0\n"
     ]
    },
    {
     "name": "stdout",
     "output_type": "stream",
     "text": [
      "11.299999999999997\n",
      "step =  592\n",
      "DEBUG:minerl.env.malmo.instance.42cbc8:[18:28:57] [Netty Server IO #1/INFO]: [STDOUT]: Equip message recieved\n"
     ]
    },
    {
     "name": "stderr",
     "output_type": "stream",
     "text": [
      "2019-12-01 18:28:57 LAPTOP-SDM3TI61 minerl.env.malmo.instance.42cbc8[24072] DEBUG [18:28:57] [Netty Server IO #1/INFO]: [STDOUT]: Equip message recieved\n"
     ]
    },
    {
     "name": "stdout",
     "output_type": "stream",
     "text": [
      "DEBUG:minerl.env.malmo.instance.42cbc8:[18:28:57] [Netty Server IO #1/INFO]: [STDOUT]: got harbar 0\r\n"
     ]
    },
    {
     "name": "stderr",
     "output_type": "stream",
     "text": [
      "2019-12-01 18:28:57 LAPTOP-SDM3TI61 minerl.env.malmo.instance.42cbc8[24072] DEBUG [18:28:57] [Netty Server IO #1/INFO]: [STDOUT]: got harbar 0\n"
     ]
    },
    {
     "name": "stdout",
     "output_type": "stream",
     "text": [
      "11.299999999999997\n",
      "DEBUG:minerl.env.malmo.instance.42cbc8:[18:28:57] [Netty Server IO #1/INFO]: [STDOUT]: got slot 0\n"
     ]
    },
    {
     "name": "stderr",
     "output_type": "stream",
     "text": [
      "2019-12-01 18:28:57 LAPTOP-SDM3TI61 minerl.env.malmo.instance.42cbc8[24072]"
     ]
    },
    {
     "name": "stdout",
     "output_type": "stream",
     "text": [
      "step = "
     ]
    },
    {
     "name": "stderr",
     "output_type": "stream",
     "text": [
      " "
     ]
    },
    {
     "name": "stdout",
     "output_type": "stream",
     "text": [
      " "
     ]
    },
    {
     "name": "stderr",
     "output_type": "stream",
     "text": [
      "DEBUG"
     ]
    },
    {
     "name": "stdout",
     "output_type": "stream",
     "text": [
      "593"
     ]
    },
    {
     "name": "stderr",
     "output_type": "stream",
     "text": [
      " "
     ]
    },
    {
     "name": "stdout",
     "output_type": "stream",
     "text": [
      "\n"
     ]
    },
    {
     "name": "stderr",
     "output_type": "stream",
     "text": [
      "[18:28:57] [Netty Server IO #1/INFO]: [STDOUT]: got slot 0\n"
     ]
    },
    {
     "name": "stdout",
     "output_type": "stream",
     "text": [
      "11.299999999999997\n",
      "step =  594\n",
      "DEBUG:minerl.env.malmo.instance.42cbc8:[18:28:57] [Netty Server IO #1/INFO]: [STDOUT]: Equip message recieved\n"
     ]
    },
    {
     "name": "stderr",
     "output_type": "stream",
     "text": [
      "2019-12-01 18:28:57 LAPTOP-SDM3TI61 minerl.env.malmo.instance.42cbc8[24072] DEBUG [18:28:57] [Netty Server IO #1/INFO]: [STDOUT]: Equip message recieved\n"
     ]
    },
    {
     "name": "stdout",
     "output_type": "stream",
     "text": [
      "DEBUG:minerl.env.malmo.instance.42cbc8:[18:28:57] [Netty Server IO #1/INFO]: [STDOUT]: got harbar 0\r\n"
     ]
    },
    {
     "name": "stderr",
     "output_type": "stream",
     "text": [
      "2019-12-01 18:28:57 LAPTOP-SDM3TI61 minerl.env.malmo.instance.42cbc8[24072] DEBUG [18:28:57] [Netty Server IO #1/INFO]: [STDOUT]: got harbar 0\n"
     ]
    },
    {
     "name": "stdout",
     "output_type": "stream",
     "text": [
      "DEBUG:minerl.env.malmo.instance.42cbc8:[18:28:57] [Netty Server IO #1/INFO]: [STDOUT]: got slot 0\r\n"
     ]
    },
    {
     "name": "stderr",
     "output_type": "stream",
     "text": [
      "2019-12-01 18:28:57 LAPTOP-SDM3TI61 minerl.env.malmo.instance.42cbc8[24072] DEBUG"
     ]
    },
    {
     "name": "stdout",
     "output_type": "stream",
     "text": [
      "11.299999999999997"
     ]
    },
    {
     "name": "stderr",
     "output_type": "stream",
     "text": [
      " "
     ]
    },
    {
     "name": "stdout",
     "output_type": "stream",
     "text": [
      "\n"
     ]
    },
    {
     "name": "stderr",
     "output_type": "stream",
     "text": [
      "[18:28:57] [Netty Server IO #1/INFO]: [STDOUT]: got slot 0\n"
     ]
    },
    {
     "name": "stdout",
     "output_type": "stream",
     "text": [
      "step =  595\n",
      "11.299999999999997\n",
      "step =  596\n",
      "11.299999999999997\n",
      "step =  597\n",
      "DEBUG:minerl.env.malmo.instance.42cbc8:[18:28:57] [Netty Server IO #1/INFO]: [STDOUT]: Equip message recieved\n"
     ]
    },
    {
     "name": "stderr",
     "output_type": "stream",
     "text": [
      "2019-12-01 18:28:57 LAPTOP-SDM3TI61 minerl.env.malmo.instance.42cbc8[24072] DEBUG [18:28:57] [Netty Server IO #1/INFO]: [STDOUT]: Equip message recieved\n"
     ]
    },
    {
     "name": "stdout",
     "output_type": "stream",
     "text": [
      "DEBUG:minerl.env.malmo.instance.42cbc8:[18:28:57] [Netty Server IO #1/INFO]: [STDOUT]: got harbar 0\r\n"
     ]
    },
    {
     "name": "stderr",
     "output_type": "stream",
     "text": [
      "2019-12-01 18:28:57 LAPTOP-SDM3TI61 minerl.env.malmo.instance.42cbc8[24072] DEBUG [18:28:57] [Netty Server IO #1/INFO]: [STDOUT]: got harbar 0\n"
     ]
    },
    {
     "name": "stdout",
     "output_type": "stream",
     "text": [
      "DEBUG:minerl.env.malmo.instance.42cbc8:[18:28:57] [Netty Server IO #1/INFO]: [STDOUT]: got slot 0\r\n"
     ]
    },
    {
     "name": "stderr",
     "output_type": "stream",
     "text": [
      "2019-12-01 18:28:57 LAPTOP-SDM3TI61"
     ]
    },
    {
     "name": "stdout",
     "output_type": "stream",
     "text": [
      "11.499999999999996"
     ]
    },
    {
     "name": "stderr",
     "output_type": "stream",
     "text": [
      " "
     ]
    },
    {
     "name": "stdout",
     "output_type": "stream",
     "text": [
      "\n"
     ]
    },
    {
     "name": "stderr",
     "output_type": "stream",
     "text": [
      "minerl.env.malmo.instance.42cbc8[24072] DEBUG "
     ]
    },
    {
     "name": "stdout",
     "output_type": "stream",
     "text": [
      "step = "
     ]
    },
    {
     "name": "stderr",
     "output_type": "stream",
     "text": [
      "[18:28:57] [Netty Server IO #1/INFO]: [STDOUT]: got slot 0\r"
     ]
    },
    {
     "name": "stdout",
     "output_type": "stream",
     "text": [
      " 598"
     ]
    },
    {
     "name": "stderr",
     "output_type": "stream",
     "text": [
      "\n"
     ]
    },
    {
     "name": "stdout",
     "output_type": "stream",
     "text": [
      "\n",
      "DEBUG:minerl.env.malmo.instance.42cbc8:[18:28:57] [Netty Server IO #1/INFO]: [STDOUT]: Equip message recieved\n"
     ]
    },
    {
     "name": "stderr",
     "output_type": "stream",
     "text": [
      "2019-12-01 18:28:57 LAPTOP-SDM3TI61 minerl.env.malmo.instance.42cbc8[24072] DEBUG [18:28:57] [Netty Server IO #1/INFO]: [STDOUT]: Equip message recieved\n"
     ]
    },
    {
     "name": "stdout",
     "output_type": "stream",
     "text": [
      "DEBUG:minerl.env.malmo.instance.42cbc8:[18:28:57] [Netty Server IO #1/INFO]: [STDOUT]: got harbar 0\r\n"
     ]
    },
    {
     "name": "stderr",
     "output_type": "stream",
     "text": [
      "2019-12-01 18:28:57 LAPTOP-SDM3TI61 minerl.env.malmo.instance.42cbc8[24072] DEBUG "
     ]
    },
    {
     "name": "stdout",
     "output_type": "stream",
     "text": [
      "11.499999999999996"
     ]
    },
    {
     "name": "stderr",
     "output_type": "stream",
     "text": [
      "[18:28:57] [Netty Server IO #1/INFO]: [STDOUT]: got harbar 0\r"
     ]
    },
    {
     "name": "stdout",
     "output_type": "stream",
     "text": [
      "\n"
     ]
    },
    {
     "name": "stderr",
     "output_type": "stream",
     "text": [
      "\n"
     ]
    },
    {
     "name": "stdout",
     "output_type": "stream",
     "text": [
      "DEBUG:minerl.env.malmo.instance.42cbc8:[18:28:57] [Netty Server IO #1/INFO]: [STDOUT]: got slot 0\r\n"
     ]
    },
    {
     "name": "stderr",
     "output_type": "stream",
     "text": [
      "2019-12-01 18:28:57 "
     ]
    },
    {
     "name": "stdout",
     "output_type": "stream",
     "text": [
      "step = "
     ]
    },
    {
     "name": "stderr",
     "output_type": "stream",
     "text": [
      "LAPTOP-SDM3TI61 "
     ]
    },
    {
     "name": "stdout",
     "output_type": "stream",
     "text": [
      " 599"
     ]
    },
    {
     "name": "stderr",
     "output_type": "stream",
     "text": [
      "minerl.env.malmo.instance.42cbc8[24072]"
     ]
    },
    {
     "name": "stdout",
     "output_type": "stream",
     "text": [
      "\n"
     ]
    },
    {
     "name": "stderr",
     "output_type": "stream",
     "text": [
      " DEBUG [18:28:57] [Netty Server IO #1/INFO]: [STDOUT]: got slot 0\n"
     ]
    },
    {
     "name": "stdout",
     "output_type": "stream",
     "text": [
      "11.499999999999996\n",
      "step =  600\n",
      "DEBUG:minerl.env.malmo.instance.42cbc8:[18:28:57] [Netty Server IO #1/INFO]: [STDOUT]: Equip message recieved\n"
     ]
    },
    {
     "name": "stderr",
     "output_type": "stream",
     "text": [
      "2019-12-01 18:28:57 LAPTOP-SDM3TI61 minerl.env.malmo.instance.42cbc8[24072] DEBUG [18:28:57] [Netty Server IO #1/INFO]: [STDOUT]: Equip message recieved\n"
     ]
    },
    {
     "name": "stdout",
     "output_type": "stream",
     "text": [
      "DEBUG:minerl.env.malmo.instance.42cbc8:[18:28:57] [Netty Server IO #1/INFO]: [STDOUT]: got harbar 0\r\n"
     ]
    },
    {
     "name": "stderr",
     "output_type": "stream",
     "text": [
      "2019-12-01 18:28:57 LAPTOP-SDM3TI61 minerl.env.malmo.instance.42cbc8[24072] DEBUG [18:28:57] [Netty Server IO #1/INFO]: [STDOUT]: got harbar 0\n"
     ]
    },
    {
     "name": "stdout",
     "output_type": "stream",
     "text": [
      "DEBUG:minerl.env.malmo.instance.42cbc8:[18:28:57] [Netty Server IO #1/INFO]: [STDOUT]: got slot 0\n",
      "11.499999999999996"
     ]
    },
    {
     "name": "stderr",
     "output_type": "stream",
     "text": [
      "2019-12-01 18:28:57"
     ]
    },
    {
     "name": "stdout",
     "output_type": "stream",
     "text": [
      "\n"
     ]
    },
    {
     "name": "stderr",
     "output_type": "stream",
     "text": [
      " LAPTOP-SDM3TI61 minerl.env.malmo.instance.42cbc8[24072] "
     ]
    },
    {
     "name": "stdout",
     "output_type": "stream",
     "text": [
      "step = "
     ]
    },
    {
     "name": "stderr",
     "output_type": "stream",
     "text": [
      "DEBUG"
     ]
    },
    {
     "name": "stdout",
     "output_type": "stream",
     "text": [
      " "
     ]
    },
    {
     "name": "stderr",
     "output_type": "stream",
     "text": [
      " "
     ]
    },
    {
     "name": "stdout",
     "output_type": "stream",
     "text": [
      "601"
     ]
    },
    {
     "name": "stderr",
     "output_type": "stream",
     "text": [
      "[18:28:57] [Netty Server IO #1/INFO]: [STDOUT]: got slot 0\r"
     ]
    },
    {
     "name": "stdout",
     "output_type": "stream",
     "text": [
      "\n"
     ]
    },
    {
     "name": "stderr",
     "output_type": "stream",
     "text": [
      "\n"
     ]
    },
    {
     "name": "stdout",
     "output_type": "stream",
     "text": [
      "DEBUG:minerl.env.malmo.instance.42cbc8:[18:28:57] [Netty Server IO #1/INFO]: [STDOUT]: Equip message recieved\r\n"
     ]
    },
    {
     "name": "stderr",
     "output_type": "stream",
     "text": [
      "2019-12-01 18:28:57 LAPTOP-SDM3TI61 minerl.env.malmo.instance.42cbc8[24072] DEBUG [18:28:57] [Netty Server IO #1/INFO]: [STDOUT]: Equip message recieved\n"
     ]
    },
    {
     "name": "stdout",
     "output_type": "stream",
     "text": [
      "DEBUG:minerl.env.malmo.instance.42cbc8:[18:28:57] [Netty Server IO #1/INFO]: [STDOUT]: got harbar 0\r\n"
     ]
    },
    {
     "name": "stderr",
     "output_type": "stream",
     "text": [
      "2019-12-01 18:28:57 LAPTOP-SDM3TI61 minerl.env.malmo.instance.42cbc8[24072] DEBUG "
     ]
    },
    {
     "name": "stdout",
     "output_type": "stream",
     "text": [
      "11.499999999999996"
     ]
    },
    {
     "name": "stderr",
     "output_type": "stream",
     "text": [
      "[18:28:57] [Netty Server IO #1/INFO]: [STDOUT]: got harbar 0\r"
     ]
    },
    {
     "name": "stdout",
     "output_type": "stream",
     "text": [
      "\n"
     ]
    },
    {
     "name": "stderr",
     "output_type": "stream",
     "text": [
      "\n"
     ]
    },
    {
     "name": "stdout",
     "output_type": "stream",
     "text": [
      "DEBUG:minerl.env.malmo.instance.42cbc8:[18:28:57] [Netty Server IO #1/INFO]: [STDOUT]: got slot 0\r\n"
     ]
    },
    {
     "name": "stderr",
     "output_type": "stream",
     "text": [
      "2019-12-01 18:28:57 LAPTOP-SDM3TI61 "
     ]
    },
    {
     "name": "stdout",
     "output_type": "stream",
     "text": [
      "step = "
     ]
    },
    {
     "name": "stderr",
     "output_type": "stream",
     "text": [
      "minerl.env.malmo.instance.42cbc8[24072]"
     ]
    },
    {
     "name": "stdout",
     "output_type": "stream",
     "text": [
      " "
     ]
    },
    {
     "name": "stderr",
     "output_type": "stream",
     "text": [
      " "
     ]
    },
    {
     "name": "stdout",
     "output_type": "stream",
     "text": [
      "602"
     ]
    },
    {
     "name": "stderr",
     "output_type": "stream",
     "text": [
      "DEBUG"
     ]
    },
    {
     "name": "stdout",
     "output_type": "stream",
     "text": [
      "\n"
     ]
    },
    {
     "name": "stderr",
     "output_type": "stream",
     "text": [
      " [18:28:57] [Netty Server IO #1/INFO]: [STDOUT]: got slot 0\n"
     ]
    },
    {
     "name": "stdout",
     "output_type": "stream",
     "text": [
      "11.499999999999996\n",
      "step =  603\n",
      "DEBUG:minerl.env.malmo.instance.42cbc8:[18:28:57] [Netty Server IO #1/INFO]: [STDOUT]: Equip message recieved\n"
     ]
    },
    {
     "name": "stderr",
     "output_type": "stream",
     "text": [
      "2019-12-01 18:28:57 LAPTOP-SDM3TI61 minerl.env.malmo.instance.42cbc8[24072] DEBUG [18:28:57] [Netty Server IO #1/INFO]: [STDOUT]: Equip message recieved\n"
     ]
    },
    {
     "name": "stdout",
     "output_type": "stream",
     "text": [
      "DEBUG:minerl.env.malmo.instance.42cbc8:[18:28:57] [Netty Server IO #1/INFO]: [STDOUT]: got harbar 0\r\n"
     ]
    },
    {
     "name": "stderr",
     "output_type": "stream",
     "text": [
      "2019-12-01 18:28:57 LAPTOP-SDM3TI61 minerl.env.malmo.instance.42cbc8[24072] DEBUG [18:28:57] [Netty Server IO #1/INFO]: [STDOUT]: got harbar 0\n"
     ]
    },
    {
     "name": "stdout",
     "output_type": "stream",
     "text": [
      "11.499999999999996\n",
      "DEBUG:minerl.env.malmo.instance.42cbc8:[18:28:57] [Netty Server IO #1/INFO]: [STDOUT]: got slot 0\n"
     ]
    },
    {
     "name": "stderr",
     "output_type": "stream",
     "text": [
      "2019-12-01 18:28:57 LAPTOP-SDM3TI61 minerl.env.malmo.instance.42cbc8[24072] "
     ]
    },
    {
     "name": "stdout",
     "output_type": "stream",
     "text": [
      "step =  "
     ]
    },
    {
     "name": "stderr",
     "output_type": "stream",
     "text": [
      "DEBUG"
     ]
    },
    {
     "name": "stdout",
     "output_type": "stream",
     "text": [
      "604"
     ]
    },
    {
     "name": "stderr",
     "output_type": "stream",
     "text": [
      " [18:28:57] [Netty Server IO #1/INFO]: [STDOUT]: got slot 0\r"
     ]
    },
    {
     "name": "stdout",
     "output_type": "stream",
     "text": [
      "\n"
     ]
    },
    {
     "name": "stderr",
     "output_type": "stream",
     "text": [
      "\n"
     ]
    },
    {
     "name": "stdout",
     "output_type": "stream",
     "text": [
      "11.599999999999996\n",
      "step =  605\n",
      "DEBUG:minerl.env.malmo.instance.42cbc8:[18:28:57] [Netty Server IO #1/INFO]: [STDOUT]: Equip message recieved\n"
     ]
    },
    {
     "name": "stderr",
     "output_type": "stream",
     "text": [
      "2019-12-01 18:28:57 LAPTOP-SDM3TI61 minerl.env.malmo.instance.42cbc8[24072] DEBUG [18:28:57] [Netty Server IO #1/INFO]: [STDOUT]: Equip message recieved\n"
     ]
    },
    {
     "name": "stdout",
     "output_type": "stream",
     "text": [
      "DEBUG:minerl.env.malmo.instance.42cbc8:[18:28:57] [Netty Server IO #1/INFO]: [STDOUT]: got harbar 0\r\n"
     ]
    },
    {
     "name": "stderr",
     "output_type": "stream",
     "text": [
      "2019-12-01 18:28:57 LAPTOP-SDM3TI61 minerl.env.malmo.instance.42cbc8[24072] DEBUG [18:28:57] [Netty Server IO #1/INFO]: [STDOUT]: got harbar 0\n"
     ]
    },
    {
     "name": "stdout",
     "output_type": "stream",
     "text": [
      "DEBUG:minerl.env.malmo.instance.42cbc8:[18:28:57] [Netty Server IO #1/INFO]: [STDOUT]: got slot 0\r\n"
     ]
    },
    {
     "name": "stderr",
     "output_type": "stream",
     "text": [
      "2019-12-01 18:28:57 LAPTOP-SDM3TI61 minerl.env.malmo.instance.42cbc8[24072] DEBUG [18:28:57] [Netty Server IO #1/INFO]: [STDOUT]: got slot 0\n"
     ]
    },
    {
     "name": "stdout",
     "output_type": "stream",
     "text": [
      "11.599999999999996\n",
      "step =  606\n",
      "DEBUG:minerl.env.malmo.instance.42cbc8:[18:28:57] [Netty Server IO #1/INFO]: [STDOUT]: Equip message recieved\n"
     ]
    },
    {
     "name": "stderr",
     "output_type": "stream",
     "text": [
      "2019-12-01 18:28:57 LAPTOP-SDM3TI61 minerl.env.malmo.instance.42cbc8[24072] DEBUG [18:28:57] [Netty Server IO #1/INFO]: [STDOUT]: Equip message recieved\n"
     ]
    },
    {
     "name": "stdout",
     "output_type": "stream",
     "text": [
      "DEBUG:minerl.env.malmo.instance.42cbc8:[18:28:57] [Netty Server IO #1/INFO]: [STDOUT]: got harbar 0\r\n"
     ]
    },
    {
     "name": "stderr",
     "output_type": "stream",
     "text": [
      "2019-12-01 18:28:57 LAPTOP-SDM3TI61 minerl.env.malmo.instance.42cbc8[24072] DEBUG [18:28:57] [Netty Server IO #1/INFO]: [STDOUT]: got harbar 0\n"
     ]
    },
    {
     "name": "stdout",
     "output_type": "stream",
     "text": [
      "DEBUG:minerl.env.malmo.instance.42cbc8:[18:28:57] [Netty Server IO #1/INFO]: [STDOUT]: got slot 0\r\n"
     ]
    },
    {
     "name": "stderr",
     "output_type": "stream",
     "text": [
      "2019-12-01 18:28:57 LAPTOP-SDM3TI61 minerl.env.malmo.instance.42cbc8[24072]"
     ]
    },
    {
     "name": "stdout",
     "output_type": "stream",
     "text": [
      "11.599999999999996"
     ]
    },
    {
     "name": "stderr",
     "output_type": "stream",
     "text": [
      " "
     ]
    },
    {
     "name": "stdout",
     "output_type": "stream",
     "text": [
      "\n"
     ]
    },
    {
     "name": "stderr",
     "output_type": "stream",
     "text": [
      "DEBUG [18:28:57] [Netty Server IO #1/INFO]: [STDOUT]: got slot 0\n"
     ]
    },
    {
     "name": "stdout",
     "output_type": "stream",
     "text": [
      "step =  607\n",
      "11.599999999999996\n",
      "step =  608\n",
      "DEBUG:minerl.env.malmo.instance.42cbc8:[18:28:57] [Netty Server IO #1/INFO]: [STDOUT]: Equip message recieved\n"
     ]
    },
    {
     "name": "stderr",
     "output_type": "stream",
     "text": [
      "2019-12-01 18:28:57 LAPTOP-SDM3TI61 minerl.env.malmo.instance.42cbc8[24072] DEBUG [18:28:57] [Netty Server IO #1/INFO]: [STDOUT]: Equip message recieved\n"
     ]
    },
    {
     "name": "stdout",
     "output_type": "stream",
     "text": [
      "DEBUG:minerl.env.malmo.instance.42cbc8:[18:28:57] [Netty Server IO #1/INFO]: [STDOUT]: got harbar 0\r\n"
     ]
    },
    {
     "name": "stderr",
     "output_type": "stream",
     "text": [
      "2019-12-01 18:28:57 LAPTOP-SDM3TI61 minerl.env.malmo.instance.42cbc8[24072] DEBUG "
     ]
    },
    {
     "name": "stdout",
     "output_type": "stream",
     "text": [
      "11.599999999999996"
     ]
    },
    {
     "name": "stderr",
     "output_type": "stream",
     "text": [
      "[18:28:57] [Netty Server IO #1/INFO]: [STDOUT]: got harbar 0\r"
     ]
    },
    {
     "name": "stdout",
     "output_type": "stream",
     "text": [
      "\n"
     ]
    },
    {
     "name": "stderr",
     "output_type": "stream",
     "text": [
      "\n"
     ]
    },
    {
     "name": "stdout",
     "output_type": "stream",
     "text": [
      "DEBUG:minerl.env.malmo.instance.42cbc8:[18:28:57] [Netty Server IO #1/INFO]: [STDOUT]: got slot 0\r\n"
     ]
    },
    {
     "name": "stderr",
     "output_type": "stream",
     "text": [
      "2019-12-01 18:28:57 "
     ]
    },
    {
     "name": "stdout",
     "output_type": "stream",
     "text": [
      "step = "
     ]
    },
    {
     "name": "stderr",
     "output_type": "stream",
     "text": [
      "LAPTOP-SDM3TI61"
     ]
    },
    {
     "name": "stdout",
     "output_type": "stream",
     "text": [
      " "
     ]
    },
    {
     "name": "stderr",
     "output_type": "stream",
     "text": [
      " "
     ]
    },
    {
     "name": "stdout",
     "output_type": "stream",
     "text": [
      "609"
     ]
    },
    {
     "name": "stderr",
     "output_type": "stream",
     "text": [
      "minerl.env.malmo.instance.42cbc8[24072]"
     ]
    },
    {
     "name": "stdout",
     "output_type": "stream",
     "text": [
      "\n"
     ]
    },
    {
     "name": "stderr",
     "output_type": "stream",
     "text": [
      " DEBUG [18:28:57] [Netty Server IO #1/INFO]: [STDOUT]: got slot 0\n"
     ]
    },
    {
     "name": "stdout",
     "output_type": "stream",
     "text": [
      "DEBUG:minerl.env.malmo.instance.42cbc8:[18:28:57] [Client thread/INFO]: [CHAT] §l869...\r\n"
     ]
    },
    {
     "name": "stderr",
     "output_type": "stream",
     "text": [
      "2019-12-01 18:28:57 LAPTOP-SDM3TI61 minerl.env.malmo.instance.42cbc8[24072] DEBUG [18:28:57] [Client thread/INFO]: [CHAT] §l869...\n"
     ]
    },
    {
     "name": "stdout",
     "output_type": "stream",
     "text": [
      "DEBUG:minerl.env.malmo.instance.42cbc8:[18:28:57] [Netty Server IO #1/INFO]: [STDOUT]: Equip message recieved\r\n"
     ]
    },
    {
     "name": "stderr",
     "output_type": "stream",
     "text": [
      "2019-12-01 18:28:57 LAPTOP-SDM3TI61 minerl.env.malmo.instance.42cbc8[24072] DEBUG [18:28:57] [Netty Server IO #1/INFO]: [STDOUT]: Equip message recieved\n"
     ]
    },
    {
     "name": "stdout",
     "output_type": "stream",
     "text": [
      "DEBUG:minerl.env.malmo.instance.42cbc8:[18:28:57] [Netty Server IO #1/INFO]: [STDOUT]: got harbar 0\r\n"
     ]
    },
    {
     "name": "stderr",
     "output_type": "stream",
     "text": [
      "2019-12-01 18:28:57 LAPTOP-SDM3TI61 minerl.env.malmo.instance.42cbc8[24072] "
     ]
    },
    {
     "name": "stdout",
     "output_type": "stream",
     "text": [
      "11.599999999999996"
     ]
    },
    {
     "name": "stderr",
     "output_type": "stream",
     "text": [
      "DEBUG"
     ]
    },
    {
     "name": "stdout",
     "output_type": "stream",
     "text": [
      "\n"
     ]
    },
    {
     "name": "stderr",
     "output_type": "stream",
     "text": [
      " [18:28:57] [Netty Server IO #1/INFO]: [STDOUT]: got harbar 0\n"
     ]
    },
    {
     "name": "stdout",
     "output_type": "stream",
     "text": [
      "step = DEBUG:minerl.env.malmo.instance.42cbc8:[18:28:57] [Netty Server IO #1/INFO]: [STDOUT]: got slot 0\r\n"
     ]
    },
    {
     "name": "stderr",
     "output_type": "stream",
     "text": [
      "2019-12-01 18:28:57"
     ]
    },
    {
     "name": "stdout",
     "output_type": "stream",
     "text": [
      " "
     ]
    },
    {
     "name": "stderr",
     "output_type": "stream",
     "text": [
      " "
     ]
    },
    {
     "name": "stdout",
     "output_type": "stream",
     "text": [
      "610"
     ]
    },
    {
     "name": "stderr",
     "output_type": "stream",
     "text": [
      "LAPTOP-SDM3TI61 "
     ]
    },
    {
     "name": "stdout",
     "output_type": "stream",
     "text": [
      "\n"
     ]
    },
    {
     "name": "stderr",
     "output_type": "stream",
     "text": [
      "minerl.env.malmo.instance.42cbc8[24072] DEBUG [18:28:57] [Netty Server IO #1/INFO]: [STDOUT]: got slot 0\n"
     ]
    },
    {
     "name": "stdout",
     "output_type": "stream",
     "text": [
      "11.599999999999996\n",
      "step =  611\n",
      "DEBUG:minerl.env.malmo.instance.42cbc8:[18:28:57] [Netty Server IO #1/INFO]: [STDOUT]: Equip message recieved\n"
     ]
    },
    {
     "name": "stderr",
     "output_type": "stream",
     "text": [
      "2019-12-01 18:28:57 LAPTOP-SDM3TI61 minerl.env.malmo.instance.42cbc8[24072] DEBUG [18:28:57] [Netty Server IO #1/INFO]: [STDOUT]: Equip message recieved\n"
     ]
    },
    {
     "name": "stdout",
     "output_type": "stream",
     "text": [
      "DEBUG:minerl.env.malmo.instance.42cbc8:[18:28:57] [Netty Server IO #1/INFO]: [STDOUT]: got harbar 0\r\n"
     ]
    },
    {
     "name": "stderr",
     "output_type": "stream",
     "text": [
      "2019-12-01 18:28:57 LAPTOP-SDM3TI61 minerl.env.malmo.instance.42cbc8[24072] "
     ]
    },
    {
     "name": "stdout",
     "output_type": "stream",
     "text": [
      "11.599999999999996"
     ]
    },
    {
     "name": "stderr",
     "output_type": "stream",
     "text": [
      "DEBUG"
     ]
    },
    {
     "name": "stdout",
     "output_type": "stream",
     "text": [
      "\n"
     ]
    },
    {
     "name": "stderr",
     "output_type": "stream",
     "text": [
      " [18:28:57] [Netty Server IO #1/INFO]: [STDOUT]: got harbar 0\n"
     ]
    },
    {
     "name": "stdout",
     "output_type": "stream",
     "text": [
      "step = DEBUG:minerl.env.malmo.instance.42cbc8:[18:28:57] [Netty Server IO #1/INFO]: [STDOUT]: got slot 0\n"
     ]
    },
    {
     "name": "stderr",
     "output_type": "stream",
     "text": [
      "2019-12-01 18:28:57"
     ]
    },
    {
     "name": "stdout",
     "output_type": "stream",
     "text": [
      " "
     ]
    },
    {
     "name": "stderr",
     "output_type": "stream",
     "text": [
      " "
     ]
    },
    {
     "name": "stdout",
     "output_type": "stream",
     "text": [
      "612\n"
     ]
    },
    {
     "name": "stderr",
     "output_type": "stream",
     "text": [
      "LAPTOP-SDM3TI61 minerl.env.malmo.instance.42cbc8[24072] DEBUG [18:28:57] [Netty Server IO #1/INFO]: [STDOUT]: got slot 0\n"
     ]
    },
    {
     "name": "stdout",
     "output_type": "stream",
     "text": [
      "11.599999999999996\n",
      "step =  613\n",
      "DEBUG:minerl.env.malmo.instance.42cbc8:[18:28:57] [Netty Server IO #1/INFO]: [STDOUT]: Equip message recieved\n"
     ]
    },
    {
     "name": "stderr",
     "output_type": "stream",
     "text": [
      "2019-12-01 18:28:57 LAPTOP-SDM3TI61 minerl.env.malmo.instance.42cbc8[24072] DEBUG [18:28:57] [Netty Server IO #1/INFO]: [STDOUT]: Equip message recieved\n"
     ]
    },
    {
     "name": "stdout",
     "output_type": "stream",
     "text": [
      "DEBUG:minerl.env.malmo.instance.42cbc8:[18:28:57] [Netty Server IO #1/INFO]: [STDOUT]: got harbar 0\r\n"
     ]
    },
    {
     "name": "stderr",
     "output_type": "stream",
     "text": [
      "2019-12-01 18:28:57 LAPTOP-SDM3TI61 minerl.env.malmo.instance.42cbc8[24072] DEBUG [18:28:57] [Netty Server IO #1/INFO]: [STDOUT]: got harbar 0\n"
     ]
    },
    {
     "name": "stdout",
     "output_type": "stream",
     "text": [
      "11.599999999999996DEBUG:minerl.env.malmo.instance.42cbc8:[18:28:57] [Netty Server IO #1/INFO]: [STDOUT]: got slot 0\n",
      "\n"
     ]
    },
    {
     "name": "stderr",
     "output_type": "stream",
     "text": [
      "2019-12-01 18:28:57 LAPTOP-SDM3TI61 minerl.env.malmo.instance.42cbc8[24072]"
     ]
    },
    {
     "name": "stdout",
     "output_type": "stream",
     "text": [
      "step = "
     ]
    },
    {
     "name": "stderr",
     "output_type": "stream",
     "text": [
      " "
     ]
    },
    {
     "name": "stdout",
     "output_type": "stream",
     "text": [
      " "
     ]
    },
    {
     "name": "stderr",
     "output_type": "stream",
     "text": [
      "DEBUG"
     ]
    },
    {
     "name": "stdout",
     "output_type": "stream",
     "text": [
      "614"
     ]
    },
    {
     "name": "stderr",
     "output_type": "stream",
     "text": [
      " "
     ]
    },
    {
     "name": "stdout",
     "output_type": "stream",
     "text": [
      "\n"
     ]
    },
    {
     "name": "stderr",
     "output_type": "stream",
     "text": [
      "[18:28:57] [Netty Server IO #1/INFO]: [STDOUT]: got slot 0\n"
     ]
    },
    {
     "name": "stdout",
     "output_type": "stream",
     "text": [
      "DEBUG:minerl.env.malmo.instance.42cbc8:[18:28:57] [Netty Server IO #1/INFO]: [STDOUT]: Equip message recieved\r\n"
     ]
    },
    {
     "name": "stderr",
     "output_type": "stream",
     "text": [
      "2019-12-01 18:28:57 LAPTOP-SDM3TI61 minerl.env.malmo.instance.42cbc8[24072] DEBUG [18:28:57] [Netty Server IO #1/INFO]: [STDOUT]: Equip message recieved\n"
     ]
    },
    {
     "name": "stdout",
     "output_type": "stream",
     "text": [
      "DEBUG:minerl.env.malmo.instance.42cbc8:[18:28:57] [Netty Server IO #1/INFO]: [STDOUT]: got harbar 0\r\n"
     ]
    },
    {
     "name": "stderr",
     "output_type": "stream",
     "text": [
      "2019-12-01 18:28:57 LAPTOP-SDM3TI61 minerl.env.malmo.instance.42cbc8[24072] DEBUG [18:28:57] [Netty Server IO #1/INFO]: [STDOUT]: got harbar 0\n"
     ]
    },
    {
     "name": "stdout",
     "output_type": "stream",
     "text": [
      "DEBUG:minerl.env.malmo.instance.42cbc8:[18:28:57] [Netty Server IO #1/INFO]: [STDOUT]: got slot 0\r\n"
     ]
    },
    {
     "name": "stderr",
     "output_type": "stream",
     "text": [
      "2019-12-01 18:28:57 LAPTOP-SDM3TI61 minerl.env.malmo.instance.42cbc8[24072] DEBUG [18:28:57] [Netty Server IO #1/INFO]: [STDOUT]: got slot 0\n"
     ]
    },
    {
     "name": "stdout",
     "output_type": "stream",
     "text": [
      "11.599999999999996\n",
      "step =  615\n",
      "DEBUG:minerl.env.malmo.instance.42cbc8:[18:28:58] [Netty Server IO #1/INFO]: [STDOUT]: Equip message recieved\n"
     ]
    },
    {
     "name": "stderr",
     "output_type": "stream",
     "text": [
      "2019-12-01 18:28:58 LAPTOP-SDM3TI61 minerl.env.malmo.instance.42cbc8[24072] DEBUG [18:28:58] [Netty Server IO #1/INFO]: [STDOUT]: Equip message recieved\n"
     ]
    },
    {
     "name": "stdout",
     "output_type": "stream",
     "text": [
      "DEBUG:minerl.env.malmo.instance.42cbc8:[18:28:58] [Netty Server IO #1/INFO]: [STDOUT]: got harbar 0\r\n"
     ]
    },
    {
     "name": "stderr",
     "output_type": "stream",
     "text": [
      "2019-12-01 18:28:58 LAPTOP-SDM3TI61 minerl.env.malmo.instance.42cbc8[24072] DEBUG [18:28:58] [Netty Server IO #1/INFO]: [STDOUT]: got harbar 0\n"
     ]
    },
    {
     "name": "stdout",
     "output_type": "stream",
     "text": [
      "DEBUG:minerl.env.malmo.instance.42cbc8:[18:28:58] [Netty Server IO #1/INFO]: [STDOUT]: got slot 0\r\n"
     ]
    },
    {
     "name": "stderr",
     "output_type": "stream",
     "text": [
      "2019-12-01 18:28:58 LAPTOP-SDM3TI61 minerl.env.malmo.instance.42cbc8[24072] "
     ]
    },
    {
     "name": "stdout",
     "output_type": "stream",
     "text": [
      "11.799999999999995"
     ]
    },
    {
     "name": "stderr",
     "output_type": "stream",
     "text": [
      "DEBUG"
     ]
    },
    {
     "name": "stdout",
     "output_type": "stream",
     "text": [
      "\n"
     ]
    },
    {
     "name": "stderr",
     "output_type": "stream",
     "text": [
      " [18:28:58] [Netty Server IO #1/INFO]: [STDOUT]: got slot 0\n"
     ]
    },
    {
     "name": "stdout",
     "output_type": "stream",
     "text": [
      "step =  616\n",
      "DEBUG:minerl.env.malmo.instance.42cbc8:[18:28:58] [Netty Server IO #1/INFO]: [STDOUT]: Equip message recieved\n"
     ]
    },
    {
     "name": "stderr",
     "output_type": "stream",
     "text": [
      "2019-12-01 18:28:58 LAPTOP-SDM3TI61 minerl.env.malmo.instance.42cbc8[24072] DEBUG [18:28:58] [Netty Server IO #1/INFO]: [STDOUT]: Equip message recieved\n"
     ]
    },
    {
     "name": "stdout",
     "output_type": "stream",
     "text": [
      "DEBUG:minerl.env.malmo.instance.42cbc8:[18:28:58] [Netty Server IO #1/INFO]: [STDOUT]: got harbar 0\r\n"
     ]
    },
    {
     "name": "stderr",
     "output_type": "stream",
     "text": [
      "2019-12-01 18:28:58 LAPTOP-SDM3TI61 minerl.env.malmo.instance.42cbc8[24072] DEBUG [18:28:58] [Netty Server IO #1/INFO]: [STDOUT]: got harbar 0\n"
     ]
    },
    {
     "name": "stdout",
     "output_type": "stream",
     "text": [
      "DEBUG:minerl.env.malmo.instance.42cbc8:[18:28:58] [Netty Server IO #1/INFO]: [STDOUT]: got slot 0\r",
      "11.799999999999995\n"
     ]
    },
    {
     "name": "stderr",
     "output_type": "stream",
     "text": [
      "2019-12-01 18:28:58"
     ]
    },
    {
     "name": "stdout",
     "output_type": "stream",
     "text": [
      "\n"
     ]
    },
    {
     "name": "stderr",
     "output_type": "stream",
     "text": [
      " LAPTOP-SDM3TI61 "
     ]
    },
    {
     "name": "stdout",
     "output_type": "stream",
     "text": [
      "step = "
     ]
    },
    {
     "name": "stderr",
     "output_type": "stream",
     "text": [
      "minerl.env.malmo.instance.42cbc8[24072]"
     ]
    },
    {
     "name": "stdout",
     "output_type": "stream",
     "text": [
      " "
     ]
    },
    {
     "name": "stderr",
     "output_type": "stream",
     "text": [
      " "
     ]
    },
    {
     "name": "stdout",
     "output_type": "stream",
     "text": [
      "617"
     ]
    },
    {
     "name": "stderr",
     "output_type": "stream",
     "text": [
      "DEBUG"
     ]
    },
    {
     "name": "stdout",
     "output_type": "stream",
     "text": [
      "\n"
     ]
    },
    {
     "name": "stderr",
     "output_type": "stream",
     "text": [
      " [18:28:58] [Netty Server IO #1/INFO]: [STDOUT]: got slot 0\n"
     ]
    },
    {
     "name": "stdout",
     "output_type": "stream",
     "text": [
      "11.799999999999995\n",
      "step =  618\n",
      "11.799999999999995\n",
      "step =  619\n",
      "DEBUG:minerl.env.malmo.instance.42cbc8:[18:28:58] [Netty Server IO #1/INFO]: [STDOUT]: Equip message recieved\n"
     ]
    },
    {
     "name": "stderr",
     "output_type": "stream",
     "text": [
      "2019-12-01 18:28:58 LAPTOP-SDM3TI61 minerl.env.malmo.instance.42cbc8[24072] DEBUG [18:28:58] [Netty Server IO #1/INFO]: [STDOUT]: Equip message recieved\n"
     ]
    },
    {
     "name": "stdout",
     "output_type": "stream",
     "text": [
      "DEBUG:minerl.env.malmo.instance.42cbc8:[18:28:58] [Netty Server IO #1/INFO]: [STDOUT]: got harbar 0\r\n"
     ]
    },
    {
     "name": "stderr",
     "output_type": "stream",
     "text": [
      "2019-12-01 18:28:58 LAPTOP-SDM3TI61 minerl.env.malmo.instance.42cbc8[24072] DEBUG [18:28:58] [Netty Server IO #1/INFO]: [STDOUT]: got harbar 0\n"
     ]
    },
    {
     "name": "stdout",
     "output_type": "stream",
     "text": [
      "DEBUG:minerl.env.malmo.instance.42cbc8:[18:28:58] [Netty Server IO #1/INFO]: [STDOUT]: got slot 0\r\n"
     ]
    },
    {
     "name": "stderr",
     "output_type": "stream",
     "text": [
      "2019-12-01 18:28:58 LAPTOP-SDM3TI61 "
     ]
    },
    {
     "name": "stdout",
     "output_type": "stream",
     "text": [
      "11.799999999999995"
     ]
    },
    {
     "name": "stderr",
     "output_type": "stream",
     "text": [
      "minerl.env.malmo.instance.42cbc8[24072]"
     ]
    },
    {
     "name": "stdout",
     "output_type": "stream",
     "text": [
      "\n"
     ]
    },
    {
     "name": "stderr",
     "output_type": "stream",
     "text": [
      " DEBUG [18:28:58] [Netty Server IO #1/INFO]: [STDOUT]: got slot 0\r"
     ]
    },
    {
     "name": "stdout",
     "output_type": "stream",
     "text": [
      "step = "
     ]
    },
    {
     "name": "stderr",
     "output_type": "stream",
     "text": [
      "\n"
     ]
    },
    {
     "name": "stdout",
     "output_type": "stream",
     "text": [
      " 620\n",
      "DEBUG:minerl.env.malmo.instance.42cbc8:[18:28:58] [Netty Server IO #1/INFO]: [STDOUT]: Equip message recieved\n"
     ]
    },
    {
     "name": "stderr",
     "output_type": "stream",
     "text": [
      "2019-12-01 18:28:58 LAPTOP-SDM3TI61 minerl.env.malmo.instance.42cbc8[24072] DEBUG [18:28:58] [Netty Server IO #1/INFO]: [STDOUT]: Equip message recieved\n"
     ]
    },
    {
     "name": "stdout",
     "output_type": "stream",
     "text": [
      "DEBUG:minerl.env.malmo.instance.42cbc8:[18:28:58] [Netty Server IO #1/INFO]: [STDOUT]: got harbar 0\r\n"
     ]
    },
    {
     "name": "stderr",
     "output_type": "stream",
     "text": [
      "2019-12-01 18:28:58 LAPTOP-SDM3TI61 minerl.env.malmo.instance.42cbc8[24072] DEBUG [18:28:58] [Netty Server IO #1/INFO]: [STDOUT]: got harbar 0\n"
     ]
    },
    {
     "name": "stdout",
     "output_type": "stream",
     "text": [
      "DEBUG:minerl.env.malmo.instance.42cbc8:[18:28:58] [Netty Server IO #1/INFO]: [STDOUT]: got slot 0\r\n"
     ]
    },
    {
     "name": "stderr",
     "output_type": "stream",
     "text": [
      "2019-12-01 18:28:58"
     ]
    },
    {
     "name": "stdout",
     "output_type": "stream",
     "text": [
      "11.799999999999995"
     ]
    },
    {
     "name": "stderr",
     "output_type": "stream",
     "text": [
      " "
     ]
    },
    {
     "name": "stdout",
     "output_type": "stream",
     "text": [
      "\n"
     ]
    },
    {
     "name": "stderr",
     "output_type": "stream",
     "text": [
      "LAPTOP-SDM3TI61 minerl.env.malmo.instance.42cbc8[24072] "
     ]
    },
    {
     "name": "stdout",
     "output_type": "stream",
     "text": [
      "step = "
     ]
    },
    {
     "name": "stderr",
     "output_type": "stream",
     "text": [
      "DEBUG"
     ]
    },
    {
     "name": "stdout",
     "output_type": "stream",
     "text": [
      " "
     ]
    },
    {
     "name": "stderr",
     "output_type": "stream",
     "text": [
      " "
     ]
    },
    {
     "name": "stdout",
     "output_type": "stream",
     "text": [
      "621"
     ]
    },
    {
     "name": "stderr",
     "output_type": "stream",
     "text": [
      "[18:28:58] [Netty Server IO #1/INFO]: [STDOUT]: got slot 0\r"
     ]
    },
    {
     "name": "stdout",
     "output_type": "stream",
     "text": [
      "\n"
     ]
    },
    {
     "name": "stderr",
     "output_type": "stream",
     "text": [
      "\n"
     ]
    },
    {
     "name": "stdout",
     "output_type": "stream",
     "text": [
      "DEBUG:minerl.env.malmo.instance.42cbc8:[18:28:58] [Netty Server IO #1/INFO]: [STDOUT]: Equip message recieved\r\n"
     ]
    },
    {
     "name": "stderr",
     "output_type": "stream",
     "text": [
      "2019-12-01 18:28:58 LAPTOP-SDM3TI61 minerl.env.malmo.instance.42cbc8[24072] DEBUG [18:28:58] [Netty Server IO #1/INFO]: [STDOUT]: Equip message recieved\n"
     ]
    },
    {
     "name": "stdout",
     "output_type": "stream",
     "text": [
      "DEBUG:minerl.env.malmo.instance.42cbc8:[18:28:58] [Netty Server IO #1/INFO]: [STDOUT]: got harbar 0\r\n"
     ]
    },
    {
     "name": "stderr",
     "output_type": "stream",
     "text": [
      "2019-12-01 18:28:58 LAPTOP-SDM3TI61 minerl.env.malmo.instance.42cbc8[24072] DEBUG [18:28:58] [Netty Server IO #1/INFO]: [STDOUT]: got harbar 0\n"
     ]
    },
    {
     "name": "stdout",
     "output_type": "stream",
     "text": [
      "11.799999999999995\n",
      "DEBUG:minerl.env.malmo.instance.42cbc8:[18:28:58] [Netty Server IO #1/INFO]: [STDOUT]: got slot 0\n"
     ]
    },
    {
     "name": "stderr",
     "output_type": "stream",
     "text": [
      "2019-12-01 18:28:58 LAPTOP-SDM3TI61 "
     ]
    },
    {
     "name": "stdout",
     "output_type": "stream",
     "text": [
      "step = "
     ]
    },
    {
     "name": "stderr",
     "output_type": "stream",
     "text": [
      "minerl.env.malmo.instance.42cbc8[24072]"
     ]
    },
    {
     "name": "stdout",
     "output_type": "stream",
     "text": [
      " "
     ]
    },
    {
     "name": "stderr",
     "output_type": "stream",
     "text": [
      " "
     ]
    },
    {
     "name": "stdout",
     "output_type": "stream",
     "text": [
      "622"
     ]
    },
    {
     "name": "stderr",
     "output_type": "stream",
     "text": [
      "DEBUG"
     ]
    },
    {
     "name": "stdout",
     "output_type": "stream",
     "text": [
      "\n"
     ]
    },
    {
     "name": "stderr",
     "output_type": "stream",
     "text": [
      " [18:28:58] [Netty Server IO #1/INFO]: [STDOUT]: got slot 0\n"
     ]
    },
    {
     "name": "stdout",
     "output_type": "stream",
     "text": [
      "11.799999999999995\n",
      "step =  623\n",
      "11.799999999999995\n",
      "step =  624\n",
      "11.799999999999995\n",
      "step =  625\n",
      "11.799999999999995\n",
      "step =  626\n",
      "11.799999999999995\n",
      "step =  627\n",
      "DEBUG:minerl.env.malmo.instance.42cbc8:[18:28:58] [Netty Server IO #1/INFO]: [STDOUT]: Equip message recieved\n"
     ]
    },
    {
     "name": "stderr",
     "output_type": "stream",
     "text": [
      "2019-12-01 18:28:58 LAPTOP-SDM3TI61 minerl.env.malmo.instance.42cbc8[24072] DEBUG [18:28:58] [Netty Server IO #1/INFO]: [STDOUT]: Equip message recieved\n"
     ]
    },
    {
     "name": "stdout",
     "output_type": "stream",
     "text": [
      "DEBUG:minerl.env.malmo.instance.42cbc8:[18:28:58] [Netty Server IO #1/INFO]: [STDOUT]: got harbar 0\r\n"
     ]
    },
    {
     "name": "stderr",
     "output_type": "stream",
     "text": [
      "2019-12-01 18:28:58 LAPTOP-SDM3TI61 minerl.env.malmo.instance.42cbc8[24072] DEBUG [18:28:58] [Netty Server IO #1/INFO]: [STDOUT]: got harbar 0\n"
     ]
    },
    {
     "name": "stdout",
     "output_type": "stream",
     "text": [
      "DEBUG:minerl.env.malmo.instance.42cbc8:[18:28:58] [Netty Server IO #1/INFO]: [STDOUT]: got slot 0\r\n"
     ]
    },
    {
     "name": "stderr",
     "output_type": "stream",
     "text": [
      "2019-12-01 18:28:58 LAPTOP-SDM3TI61 minerl.env.malmo.instance.42cbc8[24072] DEBUG"
     ]
    },
    {
     "name": "stdout",
     "output_type": "stream",
     "text": [
      "11.799999999999995"
     ]
    },
    {
     "name": "stderr",
     "output_type": "stream",
     "text": [
      " "
     ]
    },
    {
     "name": "stdout",
     "output_type": "stream",
     "text": [
      "\n"
     ]
    },
    {
     "name": "stderr",
     "output_type": "stream",
     "text": [
      "[18:28:58] [Netty Server IO #1/INFO]: [STDOUT]: got slot 0\n"
     ]
    },
    {
     "name": "stdout",
     "output_type": "stream",
     "text": [
      "step =  628\n",
      "DEBUG:minerl.env.malmo.instance.42cbc8:[18:28:58] [Netty Server IO #1/INFO]: [STDOUT]: Equip message recieved\n"
     ]
    },
    {
     "name": "stderr",
     "output_type": "stream",
     "text": [
      "2019-12-01 18:28:58 LAPTOP-SDM3TI61 minerl.env.malmo.instance.42cbc8[24072] DEBUG [18:28:58] [Netty Server IO #1/INFO]: [STDOUT]: Equip message recieved\n"
     ]
    },
    {
     "name": "stdout",
     "output_type": "stream",
     "text": [
      "DEBUG:minerl.env.malmo.instance.42cbc8:[18:28:58] [Netty Server IO #1/INFO]: [STDOUT]: got harbar 0\r\n"
     ]
    },
    {
     "name": "stderr",
     "output_type": "stream",
     "text": [
      "2019-12-01 18:28:58 LAPTOP-SDM3TI61 minerl.env.malmo.instance.42cbc8[24072] DEBUG"
     ]
    },
    {
     "name": "stdout",
     "output_type": "stream",
     "text": [
      "11.799999999999995\n"
     ]
    },
    {
     "name": "stderr",
     "output_type": "stream",
     "text": [
      " [18:28:58] [Netty Server IO #1/INFO]: [STDOUT]: got harbar 0\n"
     ]
    },
    {
     "name": "stdout",
     "output_type": "stream",
     "text": [
      "step = DEBUG:minerl.env.malmo.instance.42cbc8:[18:28:58] [Netty Server IO #1/INFO]: [STDOUT]: got slot 0\n"
     ]
    },
    {
     "name": "stderr",
     "output_type": "stream",
     "text": [
      "2019-12-01 18:28:58"
     ]
    },
    {
     "name": "stdout",
     "output_type": "stream",
     "text": [
      " "
     ]
    },
    {
     "name": "stderr",
     "output_type": "stream",
     "text": [
      " "
     ]
    },
    {
     "name": "stdout",
     "output_type": "stream",
     "text": [
      "629"
     ]
    },
    {
     "name": "stderr",
     "output_type": "stream",
     "text": [
      "LAPTOP-SDM3TI61"
     ]
    },
    {
     "name": "stdout",
     "output_type": "stream",
     "text": [
      "\n"
     ]
    },
    {
     "name": "stderr",
     "output_type": "stream",
     "text": [
      " minerl.env.malmo.instance.42cbc8[24072] DEBUG [18:28:58] [Netty Server IO #1/INFO]: [STDOUT]: got slot 0\n"
     ]
    },
    {
     "name": "stdout",
     "output_type": "stream",
     "text": [
      "DEBUG:minerl.env.malmo.instance.42cbc8:[18:28:58] [Client thread/INFO]: [CHAT] §l868...\r\n"
     ]
    },
    {
     "name": "stderr",
     "output_type": "stream",
     "text": [
      "2019-12-01 18:28:58 LAPTOP-SDM3TI61 "
     ]
    },
    {
     "name": "stdout",
     "output_type": "stream",
     "text": [
      "11.799999999999995"
     ]
    },
    {
     "name": "stderr",
     "output_type": "stream",
     "text": [
      "minerl.env.malmo.instance.42cbc8[24072]"
     ]
    },
    {
     "name": "stdout",
     "output_type": "stream",
     "text": [
      "\n"
     ]
    },
    {
     "name": "stderr",
     "output_type": "stream",
     "text": [
      " DEBUG [18:28:58] [Client thread/INFO]: [CHAT] §l868...\n"
     ]
    },
    {
     "name": "stdout",
     "output_type": "stream",
     "text": [
      "DEBUG:minerl.env.malmo.instance.42cbc8:[18:28:58] [Netty Server IO #1/INFO]: [STDOUT]: Equip message recieved\n",
      "step = "
     ]
    },
    {
     "name": "stderr",
     "output_type": "stream",
     "text": [
      "2019-12-01 18:28:58"
     ]
    },
    {
     "name": "stdout",
     "output_type": "stream",
     "text": [
      " 630\n"
     ]
    },
    {
     "name": "stderr",
     "output_type": "stream",
     "text": [
      " LAPTOP-SDM3TI61 minerl.env.malmo.instance.42cbc8[24072] DEBUG [18:28:58] [Netty Server IO #1/INFO]: [STDOUT]: Equip message recieved\n"
     ]
    },
    {
     "name": "stdout",
     "output_type": "stream",
     "text": [
      "DEBUG:minerl.env.malmo.instance.42cbc8:[18:28:58] [Netty Server IO #1/INFO]: [STDOUT]: got harbar 0\r\n"
     ]
    },
    {
     "name": "stderr",
     "output_type": "stream",
     "text": [
      "2019-12-01 18:28:58 LAPTOP-SDM3TI61 minerl.env.malmo.instance.42cbc8[24072] "
     ]
    },
    {
     "name": "stdout",
     "output_type": "stream",
     "text": [
      "12.099999999999996"
     ]
    },
    {
     "name": "stderr",
     "output_type": "stream",
     "text": [
      "DEBUG"
     ]
    },
    {
     "name": "stdout",
     "output_type": "stream",
     "text": [
      "\n"
     ]
    },
    {
     "name": "stderr",
     "output_type": "stream",
     "text": [
      " [18:28:58] [Netty Server IO #1/INFO]: [STDOUT]: got harbar 0\n"
     ]
    },
    {
     "name": "stdout",
     "output_type": "stream",
     "text": [
      "DEBUG:minerl.env.malmo.instance.42cbc8:[18:28:58] [Netty Server IO #1/INFO]: [STDOUT]: got slot 0\r\n"
     ]
    },
    {
     "name": "stderr",
     "output_type": "stream",
     "text": [
      "2019-12-01 18:28:58"
     ]
    },
    {
     "name": "stdout",
     "output_type": "stream",
     "text": [
      "step = "
     ]
    },
    {
     "name": "stderr",
     "output_type": "stream",
     "text": [
      " "
     ]
    },
    {
     "name": "stdout",
     "output_type": "stream",
     "text": [
      " "
     ]
    },
    {
     "name": "stderr",
     "output_type": "stream",
     "text": [
      "LAPTOP-SDM3TI61"
     ]
    },
    {
     "name": "stdout",
     "output_type": "stream",
     "text": [
      "631"
     ]
    },
    {
     "name": "stderr",
     "output_type": "stream",
     "text": [
      " "
     ]
    },
    {
     "name": "stdout",
     "output_type": "stream",
     "text": [
      "\n"
     ]
    },
    {
     "name": "stderr",
     "output_type": "stream",
     "text": [
      "minerl.env.malmo.instance.42cbc8[24072] DEBUG [18:28:58] [Netty Server IO #1/INFO]: [STDOUT]: got slot 0\n"
     ]
    },
    {
     "name": "stdout",
     "output_type": "stream",
     "text": [
      "12.099999999999996\n",
      "step =  632\n",
      "12.099999999999996\n",
      "step =  633\n",
      "12.099999999999996\n",
      "step =  634\n",
      "12.099999999999996\n",
      "step =  635\n",
      "DEBUG:minerl.env.malmo.instance.42cbc8:[18:28:58] [Netty Server IO #1/INFO]: [STDOUT]: Equip message recieved\n"
     ]
    },
    {
     "name": "stderr",
     "output_type": "stream",
     "text": [
      "2019-12-01 18:28:58 LAPTOP-SDM3TI61 minerl.env.malmo.instance.42cbc8[24072] DEBUG [18:28:58] [Netty Server IO #1/INFO]: [STDOUT]: Equip message recieved\n"
     ]
    },
    {
     "name": "stdout",
     "output_type": "stream",
     "text": [
      "DEBUG:minerl.env.malmo.instance.42cbc8:[18:28:58] [Netty Server IO #1/INFO]: [STDOUT]: got harbar 0\r\n"
     ]
    },
    {
     "name": "stderr",
     "output_type": "stream",
     "text": [
      "2019-12-01 18:28:58 LAPTOP-SDM3TI61 minerl.env.malmo.instance.42cbc8[24072] DEBUG [18:28:58] [Netty Server IO #1/INFO]: [STDOUT]: got harbar 0\n"
     ]
    },
    {
     "name": "stdout",
     "output_type": "stream",
     "text": [
      "12.099999999999996DEBUG:minerl.env.malmo.instance.42cbc8:[18:28:58] [Netty Server IO #1/INFO]: [STDOUT]: got slot 0\n"
     ]
    },
    {
     "name": "stderr",
     "output_type": "stream",
     "text": [
      "2019-12-01 18:28:58"
     ]
    },
    {
     "name": "stdout",
     "output_type": "stream",
     "text": [
      "\n"
     ]
    },
    {
     "name": "stderr",
     "output_type": "stream",
     "text": [
      " LAPTOP-SDM3TI61 minerl.env.malmo.instance.42cbc8[24072] "
     ]
    },
    {
     "name": "stdout",
     "output_type": "stream",
     "text": [
      "step = "
     ]
    },
    {
     "name": "stderr",
     "output_type": "stream",
     "text": [
      "DEBUG"
     ]
    },
    {
     "name": "stdout",
     "output_type": "stream",
     "text": [
      " "
     ]
    },
    {
     "name": "stderr",
     "output_type": "stream",
     "text": [
      " "
     ]
    },
    {
     "name": "stdout",
     "output_type": "stream",
     "text": [
      "636"
     ]
    },
    {
     "name": "stderr",
     "output_type": "stream",
     "text": [
      "[18:28:58] [Netty Server IO #1/INFO]: [STDOUT]: got slot 0\r"
     ]
    },
    {
     "name": "stdout",
     "output_type": "stream",
     "text": [
      "\n"
     ]
    },
    {
     "name": "stderr",
     "output_type": "stream",
     "text": [
      "\n"
     ]
    },
    {
     "name": "stdout",
     "output_type": "stream",
     "text": [
      "DEBUG:minerl.env.malmo.instance.42cbc8:[18:28:58] [Netty Server IO #1/INFO]: [STDOUT]: Equip message recieved\r\n"
     ]
    },
    {
     "name": "stderr",
     "output_type": "stream",
     "text": [
      "2019-12-01 18:28:58 LAPTOP-SDM3TI61 minerl.env.malmo.instance.42cbc8[24072] DEBUG [18:28:58] [Netty Server IO #1/INFO]: [STDOUT]: Equip message recieved\n"
     ]
    },
    {
     "name": "stdout",
     "output_type": "stream",
     "text": [
      "DEBUG:minerl.env.malmo.instance.42cbc8:[18:28:58] [Netty Server IO #1/INFO]: [STDOUT]: got harbar 0\r\n"
     ]
    },
    {
     "name": "stderr",
     "output_type": "stream",
     "text": [
      "2019-12-01 18:28:58 LAPTOP-SDM3TI61 minerl.env.malmo.instance.42cbc8[24072] DEBUG [18:28:58] [Netty Server IO #1/INFO]: [STDOUT]: got harbar 0\n"
     ]
    },
    {
     "name": "stdout",
     "output_type": "stream",
     "text": [
      "DEBUG:minerl.env.malmo.instance.42cbc8:[18:28:58] [Netty Server IO #1/INFO]: [STDOUT]: got slot 0\r\n"
     ]
    },
    {
     "name": "stderr",
     "output_type": "stream",
     "text": [
      "2019-12-01 18:28:58 LAPTOP-SDM3TI61 minerl.env.malmo.instance.42cbc8[24072]"
     ]
    },
    {
     "name": "stdout",
     "output_type": "stream",
     "text": [
      "12.099999999999996"
     ]
    },
    {
     "name": "stderr",
     "output_type": "stream",
     "text": [
      " "
     ]
    },
    {
     "name": "stdout",
     "output_type": "stream",
     "text": [
      "\n"
     ]
    },
    {
     "name": "stderr",
     "output_type": "stream",
     "text": [
      "DEBUG [18:28:58] [Netty Server IO #1/INFO]: [STDOUT]: got slot 0\n"
     ]
    },
    {
     "name": "stdout",
     "output_type": "stream",
     "text": [
      "step =  637\n",
      "DEBUG:minerl.env.malmo.instance.42cbc8:[18:28:58] [Netty Server IO #1/INFO]: [STDOUT]: Equip message recieved\n"
     ]
    },
    {
     "name": "stderr",
     "output_type": "stream",
     "text": [
      "2019-12-01 18:28:58 LAPTOP-SDM3TI61 minerl.env.malmo.instance.42cbc8[24072] DEBUG [18:28:58] [Netty Server IO #1/INFO]: [STDOUT]: Equip message recieved\n"
     ]
    },
    {
     "name": "stdout",
     "output_type": "stream",
     "text": [
      "DEBUG:minerl.env.malmo.instance.42cbc8:[18:28:58] [Netty Server IO #1/INFO]: [STDOUT]: got harbar 0\r\n"
     ]
    },
    {
     "name": "stderr",
     "output_type": "stream",
     "text": [
      "2019-12-01 18:28:58 LAPTOP-SDM3TI61 minerl.env.malmo.instance.42cbc8[24072] DEBUG [18:28:58] [Netty Server IO #1/INFO]: [STDOUT]: got harbar 0\n"
     ]
    },
    {
     "name": "stdout",
     "output_type": "stream",
     "text": [
      "12.099999999999996\n",
      "DEBUG:minerl.env.malmo.instance.42cbc8:[18:28:58] [Netty Server IO #1/INFO]: [STDOUT]: got slot 0\n"
     ]
    },
    {
     "name": "stderr",
     "output_type": "stream",
     "text": [
      "2019-12-01 18:28:58 LAPTOP-SDM3TI61 "
     ]
    },
    {
     "name": "stdout",
     "output_type": "stream",
     "text": [
      "step = "
     ]
    },
    {
     "name": "stderr",
     "output_type": "stream",
     "text": [
      "minerl.env.malmo.instance.42cbc8[24072]"
     ]
    },
    {
     "name": "stdout",
     "output_type": "stream",
     "text": [
      " "
     ]
    },
    {
     "name": "stderr",
     "output_type": "stream",
     "text": [
      " "
     ]
    },
    {
     "name": "stdout",
     "output_type": "stream",
     "text": [
      "638"
     ]
    },
    {
     "name": "stderr",
     "output_type": "stream",
     "text": [
      "DEBUG"
     ]
    },
    {
     "name": "stdout",
     "output_type": "stream",
     "text": [
      "\n"
     ]
    },
    {
     "name": "stderr",
     "output_type": "stream",
     "text": [
      " [18:28:58] [Netty Server IO #1/INFO]: [STDOUT]: got slot 0\n"
     ]
    },
    {
     "name": "stdout",
     "output_type": "stream",
     "text": [
      "DEBUG:minerl.env.malmo.instance.42cbc8:[18:28:58] [Netty Server IO #1/INFO]: [STDOUT]: Equip message recieved\r\n"
     ]
    },
    {
     "name": "stderr",
     "output_type": "stream",
     "text": [
      "2019-12-01 18:28:58 LAPTOP-SDM3TI61 minerl.env.malmo.instance.42cbc8[24072] DEBUG [18:28:58] [Netty Server IO #1/INFO]: [STDOUT]: Equip message recieved\n"
     ]
    },
    {
     "name": "stdout",
     "output_type": "stream",
     "text": [
      "DEBUG:minerl.env.malmo.instance.42cbc8:[18:28:58] [Netty Server IO #1/INFO]: [STDOUT]: got harbar 0\r\n"
     ]
    },
    {
     "name": "stderr",
     "output_type": "stream",
     "text": [
      "2019-12-01 18:28:58 LAPTOP-SDM3TI61 minerl.env.malmo.instance.42cbc8[24072] DEBUG [18:28:58] [Netty Server IO #1/INFO]: [STDOUT]: got harbar 0\r"
     ]
    },
    {
     "name": "stdout",
     "output_type": "stream",
     "text": [
      "12.099999999999996\n"
     ]
    },
    {
     "name": "stderr",
     "output_type": "stream",
     "text": [
      "\n"
     ]
    },
    {
     "name": "stdout",
     "output_type": "stream",
     "text": [
      "DEBUG:minerl.env.malmo.instance.42cbc8:[18:28:58] [Netty Server IO #1/INFO]: [STDOUT]: got slot 0\r\n"
     ]
    },
    {
     "name": "stderr",
     "output_type": "stream",
     "text": [
      "2019-12-01 18:28:58 "
     ]
    },
    {
     "name": "stdout",
     "output_type": "stream",
     "text": [
      "step = "
     ]
    },
    {
     "name": "stderr",
     "output_type": "stream",
     "text": [
      "LAPTOP-SDM3TI61"
     ]
    },
    {
     "name": "stdout",
     "output_type": "stream",
     "text": [
      " "
     ]
    },
    {
     "name": "stderr",
     "output_type": "stream",
     "text": [
      " "
     ]
    },
    {
     "name": "stdout",
     "output_type": "stream",
     "text": [
      "639"
     ]
    },
    {
     "name": "stderr",
     "output_type": "stream",
     "text": [
      "minerl.env.malmo.instance.42cbc8[24072]"
     ]
    },
    {
     "name": "stdout",
     "output_type": "stream",
     "text": [
      "\n"
     ]
    },
    {
     "name": "stderr",
     "output_type": "stream",
     "text": [
      " DEBUG [18:28:58] [Netty Server IO #1/INFO]: [STDOUT]: got slot 0\n"
     ]
    },
    {
     "name": "stdout",
     "output_type": "stream",
     "text": [
      "DEBUG:minerl.env.malmo.instance.42cbc8:[18:28:58] [Netty Server IO #1/INFO]: [STDOUT]: Equip message recieved\r\n"
     ]
    },
    {
     "name": "stderr",
     "output_type": "stream",
     "text": [
      "2019-12-01 18:28:58 LAPTOP-SDM3TI61 minerl.env.malmo.instance.42cbc8[24072] DEBUG [18:28:58] [Netty Server IO #1/INFO]: [STDOUT]: Equip message recieved\n"
     ]
    },
    {
     "name": "stdout",
     "output_type": "stream",
     "text": [
      "DEBUG:minerl.env.malmo.instance.42cbc8:[18:28:58] [Netty Server IO #1/INFO]: [STDOUT]: got harbar 0\r\n"
     ]
    },
    {
     "name": "stderr",
     "output_type": "stream",
     "text": [
      "2019-12-01 18:28:58"
     ]
    },
    {
     "name": "stdout",
     "output_type": "stream",
     "text": [
      "12.099999999999996"
     ]
    },
    {
     "name": "stderr",
     "output_type": "stream",
     "text": [
      " "
     ]
    },
    {
     "name": "stdout",
     "output_type": "stream",
     "text": [
      "\n"
     ]
    },
    {
     "name": "stderr",
     "output_type": "stream",
     "text": [
      "LAPTOP-SDM3TI61 minerl.env.malmo.instance.42cbc8[24072] DEBUG "
     ]
    },
    {
     "name": "stdout",
     "output_type": "stream",
     "text": [
      "step = "
     ]
    },
    {
     "name": "stderr",
     "output_type": "stream",
     "text": [
      "[18:28:58] [Netty Server IO #1/INFO]: [STDOUT]: got harbar 0\r"
     ]
    },
    {
     "name": "stdout",
     "output_type": "stream",
     "text": [
      " "
     ]
    },
    {
     "name": "stderr",
     "output_type": "stream",
     "text": [
      "\n"
     ]
    },
    {
     "name": "stdout",
     "output_type": "stream",
     "text": [
      "640DEBUG:minerl.env.malmo.instance.42cbc8:[18:28:58] [Netty Server IO #1/INFO]: [STDOUT]: got slot 0\n",
      "\n"
     ]
    },
    {
     "name": "stderr",
     "output_type": "stream",
     "text": [
      "2019-12-01 18:28:58 LAPTOP-SDM3TI61 minerl.env.malmo.instance.42cbc8[24072] DEBUG [18:28:58] [Netty Server IO #1/INFO]: [STDOUT]: got slot 0\n"
     ]
    },
    {
     "name": "stdout",
     "output_type": "stream",
     "text": [
      "12.099999999999996\n",
      "step =  641\n",
      "12.099999999999996\n",
      "step =  642\n",
      "12.099999999999996\n",
      "step =  643\n",
      "12.099999999999996\n",
      "step =  644\n",
      "12.099999999999996\n",
      "step =  645\n",
      "DEBUG:minerl.env.malmo.instance.42cbc8:[18:28:59] [Netty Server IO #1/INFO]: [STDOUT]: Equip message recieved\n"
     ]
    },
    {
     "name": "stderr",
     "output_type": "stream",
     "text": [
      "2019-12-01 18:28:59 LAPTOP-SDM3TI61 minerl.env.malmo.instance.42cbc8[24072] DEBUG [18:28:59] [Netty Server IO #1/INFO]: [STDOUT]: Equip message recieved\n"
     ]
    },
    {
     "name": "stdout",
     "output_type": "stream",
     "text": [
      "DEBUG:minerl.env.malmo.instance.42cbc8:[18:28:59] [Netty Server IO #1/INFO]: [STDOUT]: got harbar 0\r\n"
     ]
    },
    {
     "name": "stderr",
     "output_type": "stream",
     "text": [
      "2019-12-01 18:28:59 LAPTOP-SDM3TI61 minerl.env.malmo.instance.42cbc8[24072] DEBUG [18:28:59] [Netty Server IO #1/INFO]: [STDOUT]: got harbar 0\n"
     ]
    },
    {
     "name": "stdout",
     "output_type": "stream",
     "text": [
      "DEBUG:minerl.env.malmo.instance.42cbc8:[18:28:59] [Netty Server IO #1/INFO]: [STDOUT]: got slot 0\r\n"
     ]
    },
    {
     "name": "stderr",
     "output_type": "stream",
     "text": [
      "2019-12-01 18:28:59 LAPTOP-SDM3TI61"
     ]
    },
    {
     "name": "stdout",
     "output_type": "stream",
     "text": [
      "12.099999999999996\n"
     ]
    },
    {
     "name": "stderr",
     "output_type": "stream",
     "text": [
      " minerl.env.malmo.instance.42cbc8[24072] DEBUG"
     ]
    },
    {
     "name": "stdout",
     "output_type": "stream",
     "text": [
      "step = "
     ]
    },
    {
     "name": "stderr",
     "output_type": "stream",
     "text": [
      " "
     ]
    },
    {
     "name": "stdout",
     "output_type": "stream",
     "text": [
      " "
     ]
    },
    {
     "name": "stderr",
     "output_type": "stream",
     "text": [
      "[18:28:59] [Netty Server IO #1/INFO]: [STDOUT]: got slot 0\r"
     ]
    },
    {
     "name": "stdout",
     "output_type": "stream",
     "text": [
      "646\n"
     ]
    },
    {
     "name": "stderr",
     "output_type": "stream",
     "text": [
      "\n"
     ]
    },
    {
     "name": "stdout",
     "output_type": "stream",
     "text": [
      "DEBUG:minerl.env.malmo.instance.42cbc8:[18:28:59] [Netty Server IO #1/INFO]: [STDOUT]: Equip message recieved\r\n"
     ]
    },
    {
     "name": "stderr",
     "output_type": "stream",
     "text": [
      "2019-12-01 18:28:59 LAPTOP-SDM3TI61 minerl.env.malmo.instance.42cbc8[24072] DEBUG [18:28:59] [Netty Server IO #1/INFO]: [STDOUT]: Equip message recieved\n"
     ]
    },
    {
     "name": "stdout",
     "output_type": "stream",
     "text": [
      "DEBUG:minerl.env.malmo.instance.42cbc8:[18:28:59] [Netty Server IO #1/INFO]: [STDOUT]: got harbar 0\r\n"
     ]
    },
    {
     "name": "stderr",
     "output_type": "stream",
     "text": [
      "2019-12-01 18:28:59 LAPTOP-SDM3TI61 minerl.env.malmo.instance.42cbc8[24072] DEBUG [18:28:59] [Netty Server IO #1/INFO]: [STDOUT]: got harbar 0\n"
     ]
    },
    {
     "name": "stdout",
     "output_type": "stream",
     "text": [
      "12.099999999999996DEBUG:minerl.env.malmo.instance.42cbc8:[18:28:59] [Netty Server IO #1/INFO]: [STDOUT]: got slot 0\n",
      "\n"
     ]
    },
    {
     "name": "stderr",
     "output_type": "stream",
     "text": [
      "2019-12-01 18:28:59 LAPTOP-SDM3TI61 "
     ]
    },
    {
     "name": "stdout",
     "output_type": "stream",
     "text": [
      "step = "
     ]
    },
    {
     "name": "stderr",
     "output_type": "stream",
     "text": [
      "minerl.env.malmo.instance.42cbc8[24072] "
     ]
    },
    {
     "name": "stdout",
     "output_type": "stream",
     "text": [
      " "
     ]
    },
    {
     "name": "stderr",
     "output_type": "stream",
     "text": [
      "DEBUG"
     ]
    },
    {
     "name": "stdout",
     "output_type": "stream",
     "text": [
      "647"
     ]
    },
    {
     "name": "stderr",
     "output_type": "stream",
     "text": [
      " "
     ]
    },
    {
     "name": "stdout",
     "output_type": "stream",
     "text": [
      "\n"
     ]
    },
    {
     "name": "stderr",
     "output_type": "stream",
     "text": [
      "[18:28:59] [Netty Server IO #1/INFO]: [STDOUT]: got slot 0\n"
     ]
    },
    {
     "name": "stdout",
     "output_type": "stream",
     "text": [
      "DEBUG:minerl.env.malmo.instance.42cbc8:[18:28:59] [Netty Server IO #1/INFO]: [STDOUT]: Equip message recieved\r\n"
     ]
    },
    {
     "name": "stderr",
     "output_type": "stream",
     "text": [
      "2019-12-01 18:28:59 LAPTOP-SDM3TI61 minerl.env.malmo.instance.42cbc8[24072] DEBUG [18:28:59] [Netty Server IO #1/INFO]: [STDOUT]: Equip message recieved\n"
     ]
    },
    {
     "name": "stdout",
     "output_type": "stream",
     "text": [
      "DEBUG:minerl.env.malmo.instance.42cbc8:[18:28:59] [Netty Server IO #1/INFO]: [STDOUT]: got harbar 0\r\n"
     ]
    },
    {
     "name": "stderr",
     "output_type": "stream",
     "text": [
      "2019-12-01 18:28:59 LAPTOP-SDM3TI61 minerl.env.malmo.instance.42cbc8[24072] DEBUG [18:28:59] [Netty Server IO #1/INFO]: [STDOUT]: got harbar 0\r"
     ]
    },
    {
     "name": "stdout",
     "output_type": "stream",
     "text": [
      "12.099999999999996"
     ]
    },
    {
     "name": "stderr",
     "output_type": "stream",
     "text": [
      "\n"
     ]
    },
    {
     "name": "stdout",
     "output_type": "stream",
     "text": [
      "\n",
      "DEBUG:minerl.env.malmo.instance.42cbc8:[18:28:59] [Netty Server IO #1/INFO]: [STDOUT]: got slot 0\n"
     ]
    },
    {
     "name": "stderr",
     "output_type": "stream",
     "text": [
      "2019-12-01 18:28:59 "
     ]
    },
    {
     "name": "stdout",
     "output_type": "stream",
     "text": [
      "step = "
     ]
    },
    {
     "name": "stderr",
     "output_type": "stream",
     "text": [
      "LAPTOP-SDM3TI61"
     ]
    },
    {
     "name": "stdout",
     "output_type": "stream",
     "text": [
      " "
     ]
    },
    {
     "name": "stderr",
     "output_type": "stream",
     "text": [
      " "
     ]
    },
    {
     "name": "stdout",
     "output_type": "stream",
     "text": [
      "648"
     ]
    },
    {
     "name": "stderr",
     "output_type": "stream",
     "text": [
      "minerl.env.malmo.instance.42cbc8[24072]"
     ]
    },
    {
     "name": "stdout",
     "output_type": "stream",
     "text": [
      "\n"
     ]
    },
    {
     "name": "stderr",
     "output_type": "stream",
     "text": [
      " DEBUG [18:28:59] [Netty Server IO #1/INFO]: [STDOUT]: got slot 0\n"
     ]
    },
    {
     "name": "stdout",
     "output_type": "stream",
     "text": [
      "DEBUG:minerl.env.malmo.instance.42cbc8:[18:28:59] [Client thread/INFO]: [CHAT] §l867...\n",
      "12.099999999999996"
     ]
    },
    {
     "name": "stderr",
     "output_type": "stream",
     "text": [
      "2019-12-01 18:28:59"
     ]
    },
    {
     "name": "stdout",
     "output_type": "stream",
     "text": [
      "\n"
     ]
    },
    {
     "name": "stderr",
     "output_type": "stream",
     "text": [
      " LAPTOP-SDM3TI61 minerl.env.malmo.instance.42cbc8[24072] "
     ]
    },
    {
     "name": "stdout",
     "output_type": "stream",
     "text": [
      "step = "
     ]
    },
    {
     "name": "stderr",
     "output_type": "stream",
     "text": [
      "DEBUG "
     ]
    },
    {
     "name": "stdout",
     "output_type": "stream",
     "text": [
      " "
     ]
    },
    {
     "name": "stderr",
     "output_type": "stream",
     "text": [
      "[18:28:59] [Client thread/INFO]: [CHAT] §l867...\r"
     ]
    },
    {
     "name": "stdout",
     "output_type": "stream",
     "text": [
      "649"
     ]
    },
    {
     "name": "stderr",
     "output_type": "stream",
     "text": [
      "\n"
     ]
    },
    {
     "name": "stdout",
     "output_type": "stream",
     "text": [
      "\n",
      "DEBUG:minerl.env.malmo.instance.42cbc8:[18:28:59] [Netty Server IO #1/INFO]: [STDOUT]: Equip message recieved\n"
     ]
    },
    {
     "name": "stderr",
     "output_type": "stream",
     "text": [
      "2019-12-01 18:28:59 LAPTOP-SDM3TI61 minerl.env.malmo.instance.42cbc8[24072] DEBUG [18:28:59] [Netty Server IO #1/INFO]: [STDOUT]: Equip message recieved\n"
     ]
    },
    {
     "name": "stdout",
     "output_type": "stream",
     "text": [
      "DEBUG:minerl.env.malmo.instance.42cbc8:[18:28:59] [Netty Server IO #1/INFO]: [STDOUT]: got harbar 0\r\n"
     ]
    },
    {
     "name": "stderr",
     "output_type": "stream",
     "text": [
      "2019-12-01 18:28:59 LAPTOP-SDM3TI61 minerl.env.malmo.instance.42cbc8[24072] DEBUG [18:28:59] [Netty Server IO #1/INFO]: [STDOUT]: got harbar 0\n"
     ]
    },
    {
     "name": "stdout",
     "output_type": "stream",
     "text": [
      "12.299999999999995\n",
      "DEBUG:minerl.env.malmo.instance.42cbc8:[18:28:59] [Netty Server IO #1/INFO]: [STDOUT]: got slot 0\n"
     ]
    },
    {
     "name": "stderr",
     "output_type": "stream",
     "text": [
      "2019-12-01 18:28:59 LAPTOP-SDM3TI61"
     ]
    },
    {
     "name": "stdout",
     "output_type": "stream",
     "text": [
      "step = "
     ]
    },
    {
     "name": "stderr",
     "output_type": "stream",
     "text": [
      " "
     ]
    },
    {
     "name": "stdout",
     "output_type": "stream",
     "text": [
      " "
     ]
    },
    {
     "name": "stderr",
     "output_type": "stream",
     "text": [
      "minerl.env.malmo.instance.42cbc8[24072]"
     ]
    },
    {
     "name": "stdout",
     "output_type": "stream",
     "text": [
      "650"
     ]
    },
    {
     "name": "stderr",
     "output_type": "stream",
     "text": [
      " "
     ]
    },
    {
     "name": "stdout",
     "output_type": "stream",
     "text": [
      "\n"
     ]
    },
    {
     "name": "stderr",
     "output_type": "stream",
     "text": [
      "DEBUG [18:28:59] [Netty Server IO #1/INFO]: [STDOUT]: got slot 0\n"
     ]
    },
    {
     "name": "stdout",
     "output_type": "stream",
     "text": [
      "12.299999999999995\n",
      "step =  651\n",
      "DEBUG:minerl.env.malmo.instance.42cbc8:[18:28:59] [Netty Server IO #1/INFO]: [STDOUT]: Equip message recieved\n"
     ]
    },
    {
     "name": "stderr",
     "output_type": "stream",
     "text": [
      "2019-12-01 18:28:59 LAPTOP-SDM3TI61 minerl.env.malmo.instance.42cbc8[24072] DEBUG [18:28:59] [Netty Server IO #1/INFO]: [STDOUT]: Equip message recieved\n"
     ]
    },
    {
     "name": "stdout",
     "output_type": "stream",
     "text": [
      "DEBUG:minerl.env.malmo.instance.42cbc8:[18:28:59] [Netty Server IO #1/INFO]: [STDOUT]: got harbar 0\r\n"
     ]
    },
    {
     "name": "stderr",
     "output_type": "stream",
     "text": [
      "2019-12-01 18:28:59 LAPTOP-SDM3TI61 minerl.env.malmo.instance.42cbc8[24072] DEBUG [18:28:59] [Netty Server IO #1/INFO]: [STDOUT]: got harbar 0\n"
     ]
    },
    {
     "name": "stdout",
     "output_type": "stream",
     "text": [
      "12.299999999999995DEBUG:minerl.env.malmo.instance.42cbc8:[18:28:59] [Netty Server IO #1/INFO]: [STDOUT]: got slot 0\n",
      "\n"
     ]
    },
    {
     "name": "stderr",
     "output_type": "stream",
     "text": [
      "2019-12-01 18:28:59 LAPTOP-SDM3TI61 minerl.env.malmo.instance.42cbc8[24072] DEBUG"
     ]
    },
    {
     "name": "stdout",
     "output_type": "stream",
     "text": [
      "step = "
     ]
    },
    {
     "name": "stderr",
     "output_type": "stream",
     "text": [
      " "
     ]
    },
    {
     "name": "stdout",
     "output_type": "stream",
     "text": [
      " "
     ]
    },
    {
     "name": "stderr",
     "output_type": "stream",
     "text": [
      "[18:28:59] [Netty Server IO #1/INFO]: [STDOUT]: got slot 0\r"
     ]
    },
    {
     "name": "stdout",
     "output_type": "stream",
     "text": [
      "652"
     ]
    },
    {
     "name": "stderr",
     "output_type": "stream",
     "text": [
      "\n"
     ]
    },
    {
     "name": "stdout",
     "output_type": "stream",
     "text": [
      "\n",
      "DEBUG:minerl.env.malmo.instance.42cbc8:[18:28:59] [Netty Server IO #1/INFO]: [STDOUT]: Equip message recieved\n"
     ]
    },
    {
     "name": "stderr",
     "output_type": "stream",
     "text": [
      "2019-12-01 18:28:59 LAPTOP-SDM3TI61 minerl.env.malmo.instance.42cbc8[24072] DEBUG [18:28:59] [Netty Server IO #1/INFO]: [STDOUT]: Equip message recieved\n"
     ]
    },
    {
     "name": "stdout",
     "output_type": "stream",
     "text": [
      "DEBUG:minerl.env.malmo.instance.42cbc8:[18:28:59] [Netty Server IO #1/INFO]: [STDOUT]: got harbar 0\r\n"
     ]
    },
    {
     "name": "stderr",
     "output_type": "stream",
     "text": [
      "2019-12-01 18:28:59 LAPTOP-SDM3TI61 "
     ]
    },
    {
     "name": "stdout",
     "output_type": "stream",
     "text": [
      "12.299999999999995"
     ]
    },
    {
     "name": "stderr",
     "output_type": "stream",
     "text": [
      "minerl.env.malmo.instance.42cbc8[24072]"
     ]
    },
    {
     "name": "stdout",
     "output_type": "stream",
     "text": [
      "\n"
     ]
    },
    {
     "name": "stderr",
     "output_type": "stream",
     "text": [
      " DEBUG [18:28:59] [Netty Server IO #1/INFO]: [STDOUT]: got harbar 0\r"
     ]
    },
    {
     "name": "stdout",
     "output_type": "stream",
     "text": [
      "step = "
     ]
    },
    {
     "name": "stderr",
     "output_type": "stream",
     "text": [
      "\n"
     ]
    },
    {
     "name": "stdout",
     "output_type": "stream",
     "text": [
      " DEBUG:minerl.env.malmo.instance.42cbc8:[18:28:59] [Netty Server IO #1/INFO]: [STDOUT]: got slot 0\n",
      "653"
     ]
    },
    {
     "name": "stderr",
     "output_type": "stream",
     "text": [
      "2019-12-01 18:28:59"
     ]
    },
    {
     "name": "stdout",
     "output_type": "stream",
     "text": [
      "\n"
     ]
    },
    {
     "name": "stderr",
     "output_type": "stream",
     "text": [
      " LAPTOP-SDM3TI61 minerl.env.malmo.instance.42cbc8[24072] DEBUG [18:28:59] [Netty Server IO #1/INFO]: [STDOUT]: got slot 0\n"
     ]
    },
    {
     "name": "stdout",
     "output_type": "stream",
     "text": [
      "12.299999999999995\n",
      "step =  654\n",
      "DEBUG:minerl.env.malmo.instance.42cbc8:[18:28:59] [Netty Server IO #1/INFO]: [STDOUT]: Equip message recieved\n"
     ]
    },
    {
     "name": "stderr",
     "output_type": "stream",
     "text": [
      "2019-12-01 18:28:59 LAPTOP-SDM3TI61 minerl.env.malmo.instance.42cbc8[24072] DEBUG [18:28:59] [Netty Server IO #1/INFO]: [STDOUT]: Equip message recieved\n"
     ]
    },
    {
     "name": "stdout",
     "output_type": "stream",
     "text": [
      "DEBUG:minerl.env.malmo.instance.42cbc8:[18:28:59] [Netty Server IO #1/INFO]: [STDOUT]: got harbar 0\r\n"
     ]
    },
    {
     "name": "stderr",
     "output_type": "stream",
     "text": [
      "2019-12-01 18:28:59 LAPTOP-SDM3TI61 minerl.env.malmo.instance.42cbc8[24072] DEBUG [18:28:59] [Netty Server IO #1/INFO]: [STDOUT]: got harbar 0\n"
     ]
    },
    {
     "name": "stdout",
     "output_type": "stream",
     "text": [
      "DEBUG:minerl.env.malmo.instance.42cbc8:[18:28:59] [Netty Server IO #1/INFO]: [STDOUT]: got slot 0\r\n"
     ]
    },
    {
     "name": "stderr",
     "output_type": "stream",
     "text": [
      "2019-12-01 18:28:59 LAPTOP-SDM3TI61 minerl.env.malmo.instance.42cbc8[24072] DEBUG [18:28:59] [Netty Server IO #1/INFO]: [STDOUT]: got slot 0\n"
     ]
    },
    {
     "name": "stdout",
     "output_type": "stream",
     "text": [
      "12.299999999999995\n",
      "step =  655\n",
      "DEBUG:minerl.env.malmo.instance.42cbc8:[18:28:59] [Netty Server IO #1/INFO]: [STDOUT]: Equip message recieved\n"
     ]
    },
    {
     "name": "stderr",
     "output_type": "stream",
     "text": [
      "2019-12-01 18:28:59 LAPTOP-SDM3TI61 minerl.env.malmo.instance.42cbc8[24072] DEBUG [18:28:59] [Netty Server IO #1/INFO]: [STDOUT]: Equip message recieved\n"
     ]
    },
    {
     "name": "stdout",
     "output_type": "stream",
     "text": [
      "DEBUG:minerl.env.malmo.instance.42cbc8:[18:28:59] [Netty Server IO #1/INFO]: [STDOUT]: got harbar 0\r\n"
     ]
    },
    {
     "name": "stderr",
     "output_type": "stream",
     "text": [
      "2019-12-01 18:28:59 LAPTOP-SDM3TI61 minerl.env.malmo.instance.42cbc8[24072] DEBUG [18:28:59] [Netty Server IO #1/INFO]: [STDOUT]: got harbar 0\n"
     ]
    },
    {
     "name": "stdout",
     "output_type": "stream",
     "text": [
      "DEBUG:minerl.env.malmo.instance.42cbc8:[18:28:59] [Netty Server IO #1/INFO]: [STDOUT]: got slot 0\r\n"
     ]
    },
    {
     "name": "stderr",
     "output_type": "stream",
     "text": [
      "2019-12-01 18:28:59 LAPTOP-SDM3TI61"
     ]
    },
    {
     "name": "stdout",
     "output_type": "stream",
     "text": [
      "12.299999999999995"
     ]
    },
    {
     "name": "stderr",
     "output_type": "stream",
     "text": [
      " "
     ]
    },
    {
     "name": "stdout",
     "output_type": "stream",
     "text": [
      "\n"
     ]
    },
    {
     "name": "stderr",
     "output_type": "stream",
     "text": [
      "minerl.env.malmo.instance.42cbc8[24072] DEBUG "
     ]
    },
    {
     "name": "stdout",
     "output_type": "stream",
     "text": [
      "step = "
     ]
    },
    {
     "name": "stderr",
     "output_type": "stream",
     "text": [
      "[18:28:59] [Netty Server IO #1/INFO]: [STDOUT]: got slot 0\r"
     ]
    },
    {
     "name": "stdout",
     "output_type": "stream",
     "text": [
      " "
     ]
    },
    {
     "name": "stderr",
     "output_type": "stream",
     "text": [
      "\n"
     ]
    },
    {
     "name": "stdout",
     "output_type": "stream",
     "text": [
      "656\n",
      "12.299999999999995\n",
      "step =  657\n",
      "12.299999999999995\n",
      "step =  658\n",
      "12.299999999999995\n",
      "step =  659\n",
      "DEBUG:minerl.env.malmo.instance.42cbc8:[18:28:59] [Netty Server IO #1/INFO]: [STDOUT]: Equip message recieved\n"
     ]
    },
    {
     "name": "stderr",
     "output_type": "stream",
     "text": [
      "2019-12-01 18:28:59 LAPTOP-SDM3TI61 minerl.env.malmo.instance.42cbc8[24072] DEBUG [18:28:59] [Netty Server IO #1/INFO]: [STDOUT]: Equip message recieved\n"
     ]
    },
    {
     "name": "stdout",
     "output_type": "stream",
     "text": [
      "DEBUG:minerl.env.malmo.instance.42cbc8:[18:28:59] [Netty Server IO #1/INFO]: [STDOUT]: got harbar 0\r\n"
     ]
    },
    {
     "name": "stderr",
     "output_type": "stream",
     "text": [
      "2019-12-01 18:28:59 LAPTOP-SDM3TI61 minerl.env.malmo.instance.42cbc8[24072] DEBUG [18:28:59] [Netty Server IO #1/INFO]: [STDOUT]: got harbar 0\n"
     ]
    },
    {
     "name": "stdout",
     "output_type": "stream",
     "text": [
      "DEBUG:minerl.env.malmo.instance.42cbc8:[18:28:59] [Netty Server IO #1/INFO]: [STDOUT]: got slot 0\r\n"
     ]
    },
    {
     "name": "stderr",
     "output_type": "stream",
     "text": [
      "2019-12-01 18:28:59"
     ]
    },
    {
     "name": "stdout",
     "output_type": "stream",
     "text": [
      "12.499999999999995\n"
     ]
    },
    {
     "name": "stderr",
     "output_type": "stream",
     "text": [
      " LAPTOP-SDM3TI61 minerl.env.malmo.instance.42cbc8[24072] "
     ]
    },
    {
     "name": "stdout",
     "output_type": "stream",
     "text": [
      "step = "
     ]
    },
    {
     "name": "stderr",
     "output_type": "stream",
     "text": [
      "DEBUG"
     ]
    },
    {
     "name": "stdout",
     "output_type": "stream",
     "text": [
      " "
     ]
    },
    {
     "name": "stderr",
     "output_type": "stream",
     "text": [
      " "
     ]
    },
    {
     "name": "stdout",
     "output_type": "stream",
     "text": [
      "660"
     ]
    },
    {
     "name": "stderr",
     "output_type": "stream",
     "text": [
      "[18:28:59] [Netty Server IO #1/INFO]: [STDOUT]: got slot 0\r"
     ]
    },
    {
     "name": "stdout",
     "output_type": "stream",
     "text": [
      "\n"
     ]
    },
    {
     "name": "stderr",
     "output_type": "stream",
     "text": [
      "\n"
     ]
    },
    {
     "name": "stdout",
     "output_type": "stream",
     "text": [
      "12.499999999999995\n",
      "step =  661\n",
      "DEBUG:minerl.env.malmo.instance.42cbc8:[18:28:59] [Netty Server IO #1/INFO]: [STDOUT]: Equip message recieved\n"
     ]
    },
    {
     "name": "stderr",
     "output_type": "stream",
     "text": [
      "2019-12-01 18:28:59 LAPTOP-SDM3TI61 minerl.env.malmo.instance.42cbc8[24072] DEBUG [18:28:59] [Netty Server IO #1/INFO]: [STDOUT]: Equip message recieved\n"
     ]
    },
    {
     "name": "stdout",
     "output_type": "stream",
     "text": [
      "DEBUG:minerl.env.malmo.instance.42cbc8:[18:28:59] [Netty Server IO #1/INFO]: [STDOUT]: got harbar 0\r\n"
     ]
    },
    {
     "name": "stderr",
     "output_type": "stream",
     "text": [
      "2019-12-01 18:28:59 LAPTOP-SDM3TI61 minerl.env.malmo.instance.42cbc8[24072] DEBUG [18:28:59] [Netty Server IO #1/INFO]: [STDOUT]: got harbar 0\n"
     ]
    },
    {
     "name": "stdout",
     "output_type": "stream",
     "text": [
      "12.499999999999995\n",
      "DEBUG:minerl.env.malmo.instance.42cbc8:[18:28:59] [Netty Server IO #1/INFO]: [STDOUT]: got slot 0\n"
     ]
    },
    {
     "name": "stderr",
     "output_type": "stream",
     "text": [
      "2019-12-01 18:28:59 LAPTOP-SDM3TI61 minerl.env.malmo.instance.42cbc8[24072]"
     ]
    },
    {
     "name": "stdout",
     "output_type": "stream",
     "text": [
      "step = "
     ]
    },
    {
     "name": "stderr",
     "output_type": "stream",
     "text": [
      " "
     ]
    },
    {
     "name": "stdout",
     "output_type": "stream",
     "text": [
      " "
     ]
    },
    {
     "name": "stderr",
     "output_type": "stream",
     "text": [
      "DEBUG"
     ]
    },
    {
     "name": "stdout",
     "output_type": "stream",
     "text": [
      "662"
     ]
    },
    {
     "name": "stderr",
     "output_type": "stream",
     "text": [
      " "
     ]
    },
    {
     "name": "stdout",
     "output_type": "stream",
     "text": [
      "\n"
     ]
    },
    {
     "name": "stderr",
     "output_type": "stream",
     "text": [
      "[18:28:59] [Netty Server IO #1/INFO]: [STDOUT]: got slot 0\n"
     ]
    },
    {
     "name": "stdout",
     "output_type": "stream",
     "text": [
      "DEBUG:minerl.env.malmo.instance.42cbc8:[18:28:59] [Netty Server IO #1/INFO]: [STDOUT]: Equip message recieved\r\n"
     ]
    },
    {
     "name": "stderr",
     "output_type": "stream",
     "text": [
      "2019-12-01 18:28:59 LAPTOP-SDM3TI61 minerl.env.malmo.instance.42cbc8[24072] DEBUG [18:28:59] [Netty Server IO #1/INFO]: [STDOUT]: Equip message recieved\n"
     ]
    },
    {
     "name": "stdout",
     "output_type": "stream",
     "text": [
      "DEBUG:minerl.env.malmo.instance.42cbc8:[18:28:59] [Netty Server IO #1/INFO]: [STDOUT]: got harbar 0\r\n"
     ]
    },
    {
     "name": "stderr",
     "output_type": "stream",
     "text": [
      "2019-12-01 18:28:59 LAPTOP-SDM3TI61 minerl.env.malmo.instance.42cbc8[24072] DEBUG [18:28:59] [Netty Server IO #1/INFO]: [STDOUT]: got harbar 0\r"
     ]
    },
    {
     "name": "stdout",
     "output_type": "stream",
     "text": [
      "12.499999999999995"
     ]
    },
    {
     "name": "stderr",
     "output_type": "stream",
     "text": [
      "\n"
     ]
    },
    {
     "name": "stdout",
     "output_type": "stream",
     "text": [
      "\n",
      "DEBUG:minerl.env.malmo.instance.42cbc8:[18:28:59] [Netty Server IO #1/INFO]: [STDOUT]: got slot 0\n"
     ]
    },
    {
     "name": "stderr",
     "output_type": "stream",
     "text": [
      "2019-12-01 18:28:59 LAPTOP-SDM3TI61"
     ]
    },
    {
     "name": "stdout",
     "output_type": "stream",
     "text": [
      "step = "
     ]
    },
    {
     "name": "stderr",
     "output_type": "stream",
     "text": [
      " "
     ]
    },
    {
     "name": "stdout",
     "output_type": "stream",
     "text": [
      " "
     ]
    },
    {
     "name": "stderr",
     "output_type": "stream",
     "text": [
      "minerl.env.malmo.instance.42cbc8[24072]"
     ]
    },
    {
     "name": "stdout",
     "output_type": "stream",
     "text": [
      "663"
     ]
    },
    {
     "name": "stderr",
     "output_type": "stream",
     "text": [
      " "
     ]
    },
    {
     "name": "stdout",
     "output_type": "stream",
     "text": [
      "\n"
     ]
    },
    {
     "name": "stderr",
     "output_type": "stream",
     "text": [
      "DEBUG [18:28:59] [Netty Server IO #1/INFO]: [STDOUT]: got slot 0\n"
     ]
    },
    {
     "name": "stdout",
     "output_type": "stream",
     "text": [
      "DEBUG:minerl.env.malmo.instance.42cbc8:[18:28:59] [Netty Server IO #1/INFO]: [STDOUT]: Equip message recieved\r\n"
     ]
    },
    {
     "name": "stderr",
     "output_type": "stream",
     "text": [
      "2019-12-01 18:28:59 LAPTOP-SDM3TI61 minerl.env.malmo.instance.42cbc8[24072] DEBUG [18:28:59] [Netty Server IO #1/INFO]: [STDOUT]: Equip message recieved\n"
     ]
    },
    {
     "name": "stdout",
     "output_type": "stream",
     "text": [
      "DEBUG:minerl.env.malmo.instance.42cbc8:[18:28:59] [Netty Server IO #1/INFO]: [STDOUT]: got harbar 0\r\n"
     ]
    },
    {
     "name": "stderr",
     "output_type": "stream",
     "text": [
      "2019-12-01 18:28:59 LAPTOP-SDM3TI61 minerl.env.malmo.instance.42cbc8[24072] DEBUG [18:28:59] [Netty Server IO #1/INFO]: [STDOUT]: got harbar 0\n"
     ]
    },
    {
     "name": "stdout",
     "output_type": "stream",
     "text": [
      "DEBUG:minerl.env.malmo.instance.42cbc8:[18:28:59] [Netty Server IO #1/INFO]: [STDOUT]: got slot 0\r\n"
     ]
    },
    {
     "name": "stderr",
     "output_type": "stream",
     "text": [
      "2019-12-01 18:28:59 LAPTOP-SDM3TI61"
     ]
    },
    {
     "name": "stdout",
     "output_type": "stream",
     "text": [
      "12.699999999999994"
     ]
    },
    {
     "name": "stderr",
     "output_type": "stream",
     "text": [
      " "
     ]
    },
    {
     "name": "stdout",
     "output_type": "stream",
     "text": [
      "\n"
     ]
    },
    {
     "name": "stderr",
     "output_type": "stream",
     "text": [
      "minerl.env.malmo.instance.42cbc8[24072] DEBUG"
     ]
    },
    {
     "name": "stdout",
     "output_type": "stream",
     "text": [
      "step = "
     ]
    },
    {
     "name": "stderr",
     "output_type": "stream",
     "text": [
      " "
     ]
    },
    {
     "name": "stdout",
     "output_type": "stream",
     "text": [
      " "
     ]
    },
    {
     "name": "stderr",
     "output_type": "stream",
     "text": [
      "[18:28:59] [Netty Server IO #1/INFO]: [STDOUT]: got slot 0\r"
     ]
    },
    {
     "name": "stdout",
     "output_type": "stream",
     "text": [
      "664"
     ]
    },
    {
     "name": "stderr",
     "output_type": "stream",
     "text": [
      "\n"
     ]
    },
    {
     "name": "stdout",
     "output_type": "stream",
     "text": [
      "\n",
      "12.699999999999994\n",
      "step =  665\n",
      "DEBUG:minerl.env.malmo.instance.42cbc8:[18:28:59] [Netty Server IO #1/INFO]: [STDOUT]: Equip message recieved\n"
     ]
    },
    {
     "name": "stderr",
     "output_type": "stream",
     "text": [
      "2019-12-01 18:28:59 LAPTOP-SDM3TI61 minerl.env.malmo.instance.42cbc8[24072] DEBUG [18:28:59] [Netty Server IO #1/INFO]: [STDOUT]: Equip message recieved\n"
     ]
    },
    {
     "name": "stdout",
     "output_type": "stream",
     "text": [
      "DEBUG:minerl.env.malmo.instance.42cbc8:[18:28:59] [Netty Server IO #1/INFO]: [STDOUT]: got harbar 0\r\n"
     ]
    },
    {
     "name": "stderr",
     "output_type": "stream",
     "text": [
      "2019-12-01 18:28:59 LAPTOP-SDM3TI61 minerl.env.malmo.instance.42cbc8[24072] DEBUG [18:28:59] [Netty Server IO #1/INFO]: [STDOUT]: got harbar 0\n"
     ]
    },
    {
     "name": "stdout",
     "output_type": "stream",
     "text": [
      "DEBUG:minerl.env.malmo.instance.42cbc8:[18:28:59] [Netty Server IO #1/INFO]: [STDOUT]: got slot 0\r\n"
     ]
    },
    {
     "name": "stderr",
     "output_type": "stream",
     "text": [
      "2019-12-01 18:28:59 "
     ]
    },
    {
     "name": "stdout",
     "output_type": "stream",
     "text": [
      "12.699999999999994\n"
     ]
    },
    {
     "name": "stderr",
     "output_type": "stream",
     "text": [
      "LAPTOP-SDM3TI61 minerl.env.malmo.instance.42cbc8[24072]"
     ]
    },
    {
     "name": "stdout",
     "output_type": "stream",
     "text": [
      "step = "
     ]
    },
    {
     "name": "stderr",
     "output_type": "stream",
     "text": [
      " DEBUG"
     ]
    },
    {
     "name": "stdout",
     "output_type": "stream",
     "text": [
      " 666"
     ]
    },
    {
     "name": "stderr",
     "output_type": "stream",
     "text": [
      " [18:28:59] [Netty Server IO #1/INFO]: [STDOUT]: got slot 0\r"
     ]
    },
    {
     "name": "stdout",
     "output_type": "stream",
     "text": [
      "\n"
     ]
    },
    {
     "name": "stderr",
     "output_type": "stream",
     "text": [
      "\n"
     ]
    },
    {
     "name": "stdout",
     "output_type": "stream",
     "text": [
      "12.699999999999994\n",
      "step =  667\n",
      "12.699999999999994\n",
      "step =  668\n",
      "DEBUG:minerl.env.malmo.instance.42cbc8:[18:28:59] [Client thread/INFO]: [CHAT] §l866...\n",
      "12.699999999999994"
     ]
    },
    {
     "name": "stderr",
     "output_type": "stream",
     "text": [
      "2019-12-01 18:28:59 "
     ]
    },
    {
     "name": "stdout",
     "output_type": "stream",
     "text": [
      "\n"
     ]
    },
    {
     "name": "stderr",
     "output_type": "stream",
     "text": [
      "LAPTOP-SDM3TI61 "
     ]
    },
    {
     "name": "stdout",
     "output_type": "stream",
     "text": [
      "step = "
     ]
    },
    {
     "name": "stderr",
     "output_type": "stream",
     "text": [
      "minerl.env.malmo.instance.42cbc8[24072]"
     ]
    },
    {
     "name": "stdout",
     "output_type": "stream",
     "text": [
      " "
     ]
    },
    {
     "name": "stderr",
     "output_type": "stream",
     "text": [
      " "
     ]
    },
    {
     "name": "stdout",
     "output_type": "stream",
     "text": [
      "669"
     ]
    },
    {
     "name": "stderr",
     "output_type": "stream",
     "text": [
      "DEBUG"
     ]
    },
    {
     "name": "stdout",
     "output_type": "stream",
     "text": [
      "\n"
     ]
    },
    {
     "name": "stderr",
     "output_type": "stream",
     "text": [
      " [18:28:59] [Client thread/INFO]: [CHAT] §l866...\n"
     ]
    },
    {
     "name": "stdout",
     "output_type": "stream",
     "text": [
      "DEBUG:minerl.env.malmo.instance.42cbc8:[18:28:59] [Netty Server IO #1/INFO]: [STDOUT]: Equip message recieved\r\n"
     ]
    },
    {
     "name": "stderr",
     "output_type": "stream",
     "text": [
      "2019-12-01 18:28:59 LAPTOP-SDM3TI61 minerl.env.malmo.instance.42cbc8[24072] DEBUG [18:28:59] [Netty Server IO #1/INFO]: [STDOUT]: Equip message recieved\n"
     ]
    },
    {
     "name": "stdout",
     "output_type": "stream",
     "text": [
      "DEBUG:minerl.env.malmo.instance.42cbc8:[18:28:59] [Netty Server IO #1/INFO]: [STDOUT]: got harbar 0\r\n"
     ]
    },
    {
     "name": "stderr",
     "output_type": "stream",
     "text": [
      "2019-12-01 18:28:59 LAPTOP-SDM3TI61"
     ]
    },
    {
     "name": "stdout",
     "output_type": "stream",
     "text": [
      "12.699999999999994"
     ]
    },
    {
     "name": "stderr",
     "output_type": "stream",
     "text": [
      " minerl.env.malmo.instance.42cbc8[24072]"
     ]
    },
    {
     "name": "stdout",
     "output_type": "stream",
     "text": [
      "\n"
     ]
    },
    {
     "name": "stderr",
     "output_type": "stream",
     "text": [
      " DEBUG [18:28:59] [Netty Server IO #1/INFO]: [STDOUT]: got harbar 0\r"
     ]
    },
    {
     "name": "stdout",
     "output_type": "stream",
     "text": [
      "step = "
     ]
    },
    {
     "name": "stderr",
     "output_type": "stream",
     "text": [
      "\n"
     ]
    },
    {
     "name": "stdout",
     "output_type": "stream",
     "text": [
      " 670DEBUG:minerl.env.malmo.instance.42cbc8:[18:28:59] [Netty Server IO #1/INFO]: [STDOUT]: got slot 0\n",
      "\n"
     ]
    },
    {
     "name": "stderr",
     "output_type": "stream",
     "text": [
      "2019-12-01 18:28:59 LAPTOP-SDM3TI61 minerl.env.malmo.instance.42cbc8[24072] DEBUG [18:28:59] [Netty Server IO #1/INFO]: [STDOUT]: got slot 0\n"
     ]
    },
    {
     "name": "stdout",
     "output_type": "stream",
     "text": [
      "12.699999999999994\n",
      "step =  671\n",
      "12.699999999999994\n",
      "step =  672\n",
      "12.699999999999994\n",
      "step =  673\n",
      "12.699999999999994\n",
      "step =  674\n",
      "12.699999999999994\n",
      "step =  675\n",
      "12.699999999999994\n",
      "step =  676\n",
      "DEBUG:minerl.env.malmo.instance.42cbc8:[18:29:00] [Netty Server IO #1/INFO]: [STDOUT]: Equip message recieved\n"
     ]
    },
    {
     "name": "stderr",
     "output_type": "stream",
     "text": [
      "2019-12-01 18:29:00 LAPTOP-SDM3TI61 minerl.env.malmo.instance.42cbc8[24072] DEBUG [18:29:00] [Netty Server IO #1/INFO]: [STDOUT]: Equip message recieved\n"
     ]
    },
    {
     "name": "stdout",
     "output_type": "stream",
     "text": [
      "DEBUG:minerl.env.malmo.instance.42cbc8:[18:29:00] [Netty Server IO #1/INFO]: [STDOUT]: got harbar 0\r\n"
     ]
    },
    {
     "name": "stderr",
     "output_type": "stream",
     "text": [
      "2019-12-01 18:29:00 LAPTOP-SDM3TI61 minerl.env.malmo.instance.42cbc8[24072] "
     ]
    },
    {
     "name": "stdout",
     "output_type": "stream",
     "text": [
      "12.699999999999994"
     ]
    },
    {
     "name": "stderr",
     "output_type": "stream",
     "text": [
      "DEBUG"
     ]
    },
    {
     "name": "stdout",
     "output_type": "stream",
     "text": [
      "\n"
     ]
    },
    {
     "name": "stderr",
     "output_type": "stream",
     "text": [
      " [18:29:00] [Netty Server IO #1/INFO]: [STDOUT]: got harbar 0\n"
     ]
    },
    {
     "name": "stdout",
     "output_type": "stream",
     "text": [
      "DEBUG:minerl.env.malmo.instance.42cbc8:[18:29:00] [Netty Server IO #1/INFO]: [STDOUT]: got slot 0\r\n"
     ]
    },
    {
     "name": "stderr",
     "output_type": "stream",
     "text": [
      "2019-12-01 18:29:00"
     ]
    },
    {
     "name": "stdout",
     "output_type": "stream",
     "text": [
      "step = "
     ]
    },
    {
     "name": "stderr",
     "output_type": "stream",
     "text": [
      " "
     ]
    },
    {
     "name": "stdout",
     "output_type": "stream",
     "text": [
      " "
     ]
    },
    {
     "name": "stderr",
     "output_type": "stream",
     "text": [
      "LAPTOP-SDM3TI61"
     ]
    },
    {
     "name": "stdout",
     "output_type": "stream",
     "text": [
      "677"
     ]
    },
    {
     "name": "stderr",
     "output_type": "stream",
     "text": [
      " "
     ]
    },
    {
     "name": "stdout",
     "output_type": "stream",
     "text": [
      "\n"
     ]
    },
    {
     "name": "stderr",
     "output_type": "stream",
     "text": [
      "minerl.env.malmo.instance.42cbc8[24072] DEBUG [18:29:00] [Netty Server IO #1/INFO]: [STDOUT]: got slot 0\n"
     ]
    },
    {
     "name": "stdout",
     "output_type": "stream",
     "text": [
      "12.699999999999994\n",
      "step =  678\n",
      "12.699999999999994\n",
      "step =  679\n",
      "DEBUG:minerl.env.malmo.instance.42cbc8:[18:29:00] [Netty Server IO #1/INFO]: [STDOUT]: Equip message recieved\n"
     ]
    },
    {
     "name": "stderr",
     "output_type": "stream",
     "text": [
      "2019-12-01 18:29:00 LAPTOP-SDM3TI61 minerl.env.malmo.instance.42cbc8[24072] DEBUG [18:29:00] [Netty Server IO #1/INFO]: [STDOUT]: Equip message recieved\n"
     ]
    },
    {
     "name": "stdout",
     "output_type": "stream",
     "text": [
      "DEBUG:minerl.env.malmo.instance.42cbc8:[18:29:00] [Netty Server IO #1/INFO]: [STDOUT]: got harbar 0\r\n"
     ]
    },
    {
     "name": "stderr",
     "output_type": "stream",
     "text": [
      "2019-12-01 18:29:00 LAPTOP-SDM3TI61 minerl.env.malmo.instance.42cbc8[24072] "
     ]
    },
    {
     "name": "stdout",
     "output_type": "stream",
     "text": [
      "12.699999999999994"
     ]
    },
    {
     "name": "stderr",
     "output_type": "stream",
     "text": [
      "DEBUG"
     ]
    },
    {
     "name": "stdout",
     "output_type": "stream",
     "text": [
      "\n"
     ]
    },
    {
     "name": "stderr",
     "output_type": "stream",
     "text": [
      " [18:29:00] [Netty Server IO #1/INFO]: [STDOUT]: got harbar 0\n"
     ]
    },
    {
     "name": "stdout",
     "output_type": "stream",
     "text": [
      "DEBUG:minerl.env.malmo.instance.42cbc8:[18:29:00] [Netty Server IO #1/INFO]: [STDOUT]: got slot 0\r\n"
     ]
    },
    {
     "name": "stderr",
     "output_type": "stream",
     "text": [
      "2019-12-01 18:29:00 "
     ]
    },
    {
     "name": "stdout",
     "output_type": "stream",
     "text": [
      "step = "
     ]
    },
    {
     "name": "stderr",
     "output_type": "stream",
     "text": [
      "LAPTOP-SDM3TI61"
     ]
    },
    {
     "name": "stdout",
     "output_type": "stream",
     "text": [
      " "
     ]
    },
    {
     "name": "stderr",
     "output_type": "stream",
     "text": [
      " "
     ]
    },
    {
     "name": "stdout",
     "output_type": "stream",
     "text": [
      "680"
     ]
    },
    {
     "name": "stderr",
     "output_type": "stream",
     "text": [
      "minerl.env.malmo.instance.42cbc8[24072]"
     ]
    },
    {
     "name": "stdout",
     "output_type": "stream",
     "text": [
      "\n"
     ]
    },
    {
     "name": "stderr",
     "output_type": "stream",
     "text": [
      " DEBUG [18:29:00] [Netty Server IO #1/INFO]: [STDOUT]: got slot 0\n"
     ]
    },
    {
     "name": "stdout",
     "output_type": "stream",
     "text": [
      "DEBUG:minerl.env.malmo.instance.42cbc8:[18:29:00] [Netty Server IO #1/INFO]: [STDOUT]: Equip message recieved\r\n"
     ]
    },
    {
     "name": "stderr",
     "output_type": "stream",
     "text": [
      "2019-12-01 18:29:00 LAPTOP-SDM3TI61 minerl.env.malmo.instance.42cbc8[24072] DEBUG [18:29:00] [Netty Server IO #1/INFO]: [STDOUT]: Equip message recieved\n"
     ]
    },
    {
     "name": "stdout",
     "output_type": "stream",
     "text": [
      "DEBUG:minerl.env.malmo.instance.42cbc8:[18:29:00] [Netty Server IO #1/INFO]: [STDOUT]: got harbar 0\r\n"
     ]
    },
    {
     "name": "stderr",
     "output_type": "stream",
     "text": [
      "2019-12-01 18:29:00 LAPTOP-SDM3TI61 minerl.env.malmo.instance.42cbc8[24072] DEBUG [18:29:00] [Netty Server IO #1/INFO]: [STDOUT]: got harbar 0\n"
     ]
    },
    {
     "name": "stdout",
     "output_type": "stream",
     "text": [
      "DEBUG:minerl.env.malmo.instance.42cbc8:[18:29:00] [Netty Server IO #1/INFO]: [STDOUT]: got slot 0\r\n"
     ]
    },
    {
     "name": "stderr",
     "output_type": "stream",
     "text": [
      "2019-12-01 18:29:00 LAPTOP-SDM3TI61"
     ]
    },
    {
     "name": "stdout",
     "output_type": "stream",
     "text": [
      "12.699999999999994"
     ]
    },
    {
     "name": "stderr",
     "output_type": "stream",
     "text": [
      " "
     ]
    },
    {
     "name": "stdout",
     "output_type": "stream",
     "text": [
      "\n"
     ]
    },
    {
     "name": "stderr",
     "output_type": "stream",
     "text": [
      "minerl.env.malmo.instance.42cbc8[24072] DEBUG [18:29:00] [Netty Server IO #1/INFO]: [STDOUT]: got slot 0\r"
     ]
    },
    {
     "name": "stdout",
     "output_type": "stream",
     "text": [
      "step = "
     ]
    },
    {
     "name": "stderr",
     "output_type": "stream",
     "text": [
      "\n"
     ]
    },
    {
     "name": "stdout",
     "output_type": "stream",
     "text": [
      " 681\n",
      "DEBUG:minerl.env.malmo.instance.42cbc8:[18:29:00] [Netty Server IO #1/INFO]: [STDOUT]: Equip message recieved\n"
     ]
    },
    {
     "name": "stderr",
     "output_type": "stream",
     "text": [
      "2019-12-01 18:29:00 LAPTOP-SDM3TI61 minerl.env.malmo.instance.42cbc8[24072] DEBUG [18:29:00] [Netty Server IO #1/INFO]: [STDOUT]: Equip message recieved\n"
     ]
    },
    {
     "name": "stdout",
     "output_type": "stream",
     "text": [
      "DEBUG:minerl.env.malmo.instance.42cbc8:[18:29:00] [Netty Server IO #1/INFO]: [STDOUT]: got harbar 0\r\n"
     ]
    },
    {
     "name": "stderr",
     "output_type": "stream",
     "text": [
      "2019-12-01 18:29:00 LAPTOP-SDM3TI61 minerl.env.malmo.instance.42cbc8[24072] DEBUG [18:29:00] [Netty Server IO #1/INFO]: [STDOUT]: got harbar 0\n"
     ]
    },
    {
     "name": "stdout",
     "output_type": "stream",
     "text": [
      "DEBUG:minerl.env.malmo.instance.42cbc8:[18:29:00] [Netty Server IO #1/INFO]: [STDOUT]: got slot 0\r\n"
     ]
    },
    {
     "name": "stderr",
     "output_type": "stream",
     "text": [
      "2019-12-01 18:29:00 LAPTOP-SDM3TI61 minerl.env.malmo.instance.42cbc8[24072]"
     ]
    },
    {
     "name": "stdout",
     "output_type": "stream",
     "text": [
      "12.699999999999994"
     ]
    },
    {
     "name": "stderr",
     "output_type": "stream",
     "text": [
      " "
     ]
    },
    {
     "name": "stdout",
     "output_type": "stream",
     "text": [
      "\n"
     ]
    },
    {
     "name": "stderr",
     "output_type": "stream",
     "text": [
      "DEBUG [18:29:00] [Netty Server IO #1/INFO]: [STDOUT]: got slot 0\r"
     ]
    },
    {
     "name": "stdout",
     "output_type": "stream",
     "text": [
      "step = "
     ]
    },
    {
     "name": "stderr",
     "output_type": "stream",
     "text": [
      "\n"
     ]
    },
    {
     "name": "stdout",
     "output_type": "stream",
     "text": [
      " 682\n",
      "DEBUG:minerl.env.malmo.instance.42cbc8:[18:29:00] [Netty Server IO #1/INFO]: [STDOUT]: Equip message recieved\n"
     ]
    },
    {
     "name": "stderr",
     "output_type": "stream",
     "text": [
      "2019-12-01 18:29:00 LAPTOP-SDM3TI61 minerl.env.malmo.instance.42cbc8[24072] DEBUG [18:29:00] [Netty Server IO #1/INFO]: [STDOUT]: Equip message recieved\n"
     ]
    },
    {
     "name": "stdout",
     "output_type": "stream",
     "text": [
      "DEBUG:minerl.env.malmo.instance.42cbc8:[18:29:00] [Netty Server IO #1/INFO]: [STDOUT]: got harbar 0\r\n"
     ]
    },
    {
     "name": "stderr",
     "output_type": "stream",
     "text": [
      "2019-12-01 18:29:00 LAPTOP-SDM3TI61 minerl.env.malmo.instance.42cbc8[24072] DEBUG [18:29:00] [Netty Server IO #1/INFO]: [STDOUT]: got harbar 0\n"
     ]
    },
    {
     "name": "stdout",
     "output_type": "stream",
     "text": [
      "DEBUG:minerl.env.malmo.instance.42cbc8:[18:29:00] [Netty Server IO #1/INFO]: [STDOUT]: got slot 0\r\n"
     ]
    },
    {
     "name": "stderr",
     "output_type": "stream",
     "text": [
      "2019-12-01 18:29:00 LAPTOP-SDM3TI61 "
     ]
    },
    {
     "name": "stdout",
     "output_type": "stream",
     "text": [
      "12.699999999999994"
     ]
    },
    {
     "name": "stderr",
     "output_type": "stream",
     "text": [
      "minerl.env.malmo.instance.42cbc8[24072]"
     ]
    },
    {
     "name": "stdout",
     "output_type": "stream",
     "text": [
      "\n"
     ]
    },
    {
     "name": "stderr",
     "output_type": "stream",
     "text": [
      " DEBUG [18:29:00] [Netty Server IO #1/INFO]: [STDOUT]: got slot 0\r"
     ]
    },
    {
     "name": "stdout",
     "output_type": "stream",
     "text": [
      "step = "
     ]
    },
    {
     "name": "stderr",
     "output_type": "stream",
     "text": [
      "\n"
     ]
    },
    {
     "name": "stdout",
     "output_type": "stream",
     "text": [
      " 683\n",
      "DEBUG:minerl.env.malmo.instance.42cbc8:[18:29:00] [Netty Server IO #1/INFO]: [STDOUT]: Equip message recieved\n"
     ]
    },
    {
     "name": "stderr",
     "output_type": "stream",
     "text": [
      "2019-12-01 18:29:00 LAPTOP-SDM3TI61 minerl.env.malmo.instance.42cbc8[24072] DEBUG [18:29:00] [Netty Server IO #1/INFO]: [STDOUT]: Equip message recieved\n"
     ]
    },
    {
     "name": "stdout",
     "output_type": "stream",
     "text": [
      "DEBUG:minerl.env.malmo.instance.42cbc8:[18:29:00] [Netty Server IO #1/INFO]: [STDOUT]: got harbar 0\r\n"
     ]
    },
    {
     "name": "stderr",
     "output_type": "stream",
     "text": [
      "2019-12-01 18:29:00 LAPTOP-SDM3TI61 minerl.env.malmo.instance.42cbc8[24072] DEBUG "
     ]
    },
    {
     "name": "stdout",
     "output_type": "stream",
     "text": [
      "12.699999999999994"
     ]
    },
    {
     "name": "stderr",
     "output_type": "stream",
     "text": [
      "[18:29:00] [Netty Server IO #1/INFO]: [STDOUT]: got harbar 0\r"
     ]
    },
    {
     "name": "stdout",
     "output_type": "stream",
     "text": [
      "\n"
     ]
    },
    {
     "name": "stderr",
     "output_type": "stream",
     "text": [
      "\n"
     ]
    },
    {
     "name": "stdout",
     "output_type": "stream",
     "text": [
      "DEBUG:minerl.env.malmo.instance.42cbc8:[18:29:00] [Netty Server IO #1/INFO]: [STDOUT]: got slot 0\r\n"
     ]
    },
    {
     "name": "stderr",
     "output_type": "stream",
     "text": [
      "2019-12-01 18:29:00"
     ]
    },
    {
     "name": "stdout",
     "output_type": "stream",
     "text": [
      "step =  "
     ]
    },
    {
     "name": "stderr",
     "output_type": "stream",
     "text": [
      " "
     ]
    },
    {
     "name": "stdout",
     "output_type": "stream",
     "text": [
      "684"
     ]
    },
    {
     "name": "stderr",
     "output_type": "stream",
     "text": [
      "LAPTOP-SDM3TI61 "
     ]
    },
    {
     "name": "stdout",
     "output_type": "stream",
     "text": [
      "\n"
     ]
    },
    {
     "name": "stderr",
     "output_type": "stream",
     "text": [
      "minerl.env.malmo.instance.42cbc8[24072] DEBUG [18:29:00] [Netty Server IO #1/INFO]: [STDOUT]: got slot 0\n"
     ]
    },
    {
     "name": "stdout",
     "output_type": "stream",
     "text": [
      "12.699999999999994\n",
      "step =  685\n",
      "12.699999999999994\n",
      "step =  686\n",
      "DEBUG:minerl.env.malmo.instance.42cbc8:[18:29:00] [Netty Server IO #1/INFO]: [STDOUT]: Equip message recieved\n"
     ]
    },
    {
     "name": "stderr",
     "output_type": "stream",
     "text": [
      "2019-12-01 18:29:00 LAPTOP-SDM3TI61 minerl.env.malmo.instance.42cbc8[24072] DEBUG [18:29:00] [Netty Server IO #1/INFO]: [STDOUT]: Equip message recieved\n"
     ]
    },
    {
     "name": "stdout",
     "output_type": "stream",
     "text": [
      "DEBUG:minerl.env.malmo.instance.42cbc8:[18:29:00] [Netty Server IO #1/INFO]: [STDOUT]: got harbar 0\r\n"
     ]
    },
    {
     "name": "stderr",
     "output_type": "stream",
     "text": [
      "2019-12-01 18:29:00 LAPTOP-SDM3TI61 minerl.env.malmo.instance.42cbc8[24072] DEBUG [18:29:00] [Netty Server IO #1/INFO]: [STDOUT]: got harbar 0\n"
     ]
    },
    {
     "name": "stdout",
     "output_type": "stream",
     "text": [
      "DEBUG:minerl.env.malmo.instance.42cbc8:[18:29:00] [Netty Server IO #1/INFO]: [STDOUT]: got slot 0\r\n"
     ]
    },
    {
     "name": "stderr",
     "output_type": "stream",
     "text": [
      "2019-12-01 18:29:00 LAPTOP-SDM3TI61 minerl.env.malmo.instance.42cbc8[24072] DEBUG [18:29:00] [Netty Server IO #1/INFO]: [STDOUT]: got slot 0\n"
     ]
    },
    {
     "name": "stdout",
     "output_type": "stream",
     "text": [
      "12.699999999999994\n",
      "step =  687\n",
      "DEBUG:minerl.env.malmo.instance.42cbc8:[18:29:00] [Netty Server IO #1/INFO]: [STDOUT]: Equip message recieved\n"
     ]
    },
    {
     "name": "stderr",
     "output_type": "stream",
     "text": [
      "2019-12-01 18:29:00 LAPTOP-SDM3TI61 minerl.env.malmo.instance.42cbc8[24072] DEBUG [18:29:00] [Netty Server IO #1/INFO]: [STDOUT]: Equip message recieved\n"
     ]
    },
    {
     "name": "stdout",
     "output_type": "stream",
     "text": [
      "DEBUG:minerl.env.malmo.instance.42cbc8:[18:29:00] [Netty Server IO #1/INFO]: [STDOUT]: got harbar 0\r\n"
     ]
    },
    {
     "name": "stderr",
     "output_type": "stream",
     "text": [
      "2019-12-01 18:29:00 LAPTOP-SDM3TI61 minerl.env.malmo.instance.42cbc8[24072] DEBUG [18:29:00] [Netty Server IO #1/INFO]: [STDOUT]: got harbar 0\n"
     ]
    },
    {
     "name": "stdout",
     "output_type": "stream",
     "text": [
      "DEBUG:minerl.env.malmo.instance.42cbc8:[18:29:00] [Netty Server IO #1/INFO]: [STDOUT]: got slot 0\r\n"
     ]
    },
    {
     "name": "stderr",
     "output_type": "stream",
     "text": [
      "2019-12-01 18:29:00"
     ]
    },
    {
     "name": "stdout",
     "output_type": "stream",
     "text": [
      "12.699999999999994"
     ]
    },
    {
     "name": "stderr",
     "output_type": "stream",
     "text": [
      " "
     ]
    },
    {
     "name": "stdout",
     "output_type": "stream",
     "text": [
      "\n"
     ]
    },
    {
     "name": "stderr",
     "output_type": "stream",
     "text": [
      "LAPTOP-SDM3TI61 minerl.env.malmo.instance.42cbc8[24072] "
     ]
    },
    {
     "name": "stdout",
     "output_type": "stream",
     "text": [
      "step = "
     ]
    },
    {
     "name": "stderr",
     "output_type": "stream",
     "text": [
      "DEBUG"
     ]
    },
    {
     "name": "stdout",
     "output_type": "stream",
     "text": [
      " "
     ]
    },
    {
     "name": "stderr",
     "output_type": "stream",
     "text": [
      " "
     ]
    },
    {
     "name": "stdout",
     "output_type": "stream",
     "text": [
      "688"
     ]
    },
    {
     "name": "stderr",
     "output_type": "stream",
     "text": [
      "[18:29:00] [Netty Server IO #1/INFO]: [STDOUT]: got slot 0\n"
     ]
    },
    {
     "name": "stdout",
     "output_type": "stream",
     "text": [
      "\n",
      "DEBUG:minerl.env.malmo.instance.42cbc8:[18:29:00] [Client thread/INFO]: [CHAT] §l865...\n",
      "12.699999999999994"
     ]
    },
    {
     "name": "stderr",
     "output_type": "stream",
     "text": [
      "2019-12-01 18:29:00"
     ]
    },
    {
     "name": "stdout",
     "output_type": "stream",
     "text": [
      "\n"
     ]
    },
    {
     "name": "stderr",
     "output_type": "stream",
     "text": [
      " LAPTOP-SDM3TI61 minerl.env.malmo.instance.42cbc8[24072] "
     ]
    },
    {
     "name": "stdout",
     "output_type": "stream",
     "text": [
      "step = "
     ]
    },
    {
     "name": "stderr",
     "output_type": "stream",
     "text": [
      "DEBUG"
     ]
    },
    {
     "name": "stdout",
     "output_type": "stream",
     "text": [
      " "
     ]
    },
    {
     "name": "stderr",
     "output_type": "stream",
     "text": [
      " "
     ]
    },
    {
     "name": "stdout",
     "output_type": "stream",
     "text": [
      "689"
     ]
    },
    {
     "name": "stderr",
     "output_type": "stream",
     "text": [
      "[18:29:00] [Client thread/INFO]: [CHAT] §l865...\r"
     ]
    },
    {
     "name": "stdout",
     "output_type": "stream",
     "text": [
      "\n"
     ]
    },
    {
     "name": "stderr",
     "output_type": "stream",
     "text": [
      "\n"
     ]
    },
    {
     "name": "stdout",
     "output_type": "stream",
     "text": [
      "DEBUG:minerl.env.malmo.instance.42cbc8:[18:29:00] [Netty Server IO #1/INFO]: [STDOUT]: Equip message recieved\r\n"
     ]
    },
    {
     "name": "stderr",
     "output_type": "stream",
     "text": [
      "2019-12-01 18:29:00 LAPTOP-SDM3TI61 minerl.env.malmo.instance.42cbc8[24072] DEBUG [18:29:00] [Netty Server IO #1/INFO]: [STDOUT]: Equip message recieved\n"
     ]
    },
    {
     "name": "stdout",
     "output_type": "stream",
     "text": [
      "DEBUG:minerl.env.malmo.instance.42cbc8:[18:29:00] [Netty Server IO #1/INFO]: [STDOUT]: got harbar 0\r\n"
     ]
    },
    {
     "name": "stderr",
     "output_type": "stream",
     "text": [
      "2019-12-01 18:29:00 LAPTOP-SDM3TI61 minerl.env.malmo.instance.42cbc8[24072] DEBUG [18:29:00] [Netty Server IO #1/INFO]: [STDOUT]: got harbar 0\r"
     ]
    },
    {
     "name": "stdout",
     "output_type": "stream",
     "text": [
      "12.699999999999994"
     ]
    },
    {
     "name": "stderr",
     "output_type": "stream",
     "text": [
      "\n"
     ]
    },
    {
     "name": "stdout",
     "output_type": "stream",
     "text": [
      "\n",
      "DEBUG:minerl.env.malmo.instance.42cbc8:[18:29:00] [Netty Server IO #1/INFO]: [STDOUT]: got slot 0\n"
     ]
    },
    {
     "name": "stderr",
     "output_type": "stream",
     "text": [
      "2019-12-01 18:29:00 "
     ]
    },
    {
     "name": "stdout",
     "output_type": "stream",
     "text": [
      "step = "
     ]
    },
    {
     "name": "stderr",
     "output_type": "stream",
     "text": [
      "LAPTOP-SDM3TI61"
     ]
    },
    {
     "name": "stdout",
     "output_type": "stream",
     "text": [
      " "
     ]
    },
    {
     "name": "stderr",
     "output_type": "stream",
     "text": [
      " "
     ]
    },
    {
     "name": "stdout",
     "output_type": "stream",
     "text": [
      "690"
     ]
    },
    {
     "name": "stderr",
     "output_type": "stream",
     "text": [
      "minerl.env.malmo.instance.42cbc8[24072]"
     ]
    },
    {
     "name": "stdout",
     "output_type": "stream",
     "text": [
      "\n"
     ]
    },
    {
     "name": "stderr",
     "output_type": "stream",
     "text": [
      " DEBUG [18:29:00] [Netty Server IO #1/INFO]: [STDOUT]: got slot 0\n"
     ]
    },
    {
     "name": "stdout",
     "output_type": "stream",
     "text": [
      "12.699999999999994\n",
      "step =  691\n",
      "12.899999999999993\n",
      "step =  692\n",
      "DEBUG:minerl.env.malmo.instance.42cbc8:[18:29:00] [Netty Server IO #1/INFO]: [STDOUT]: Equip message recieved\n"
     ]
    },
    {
     "name": "stderr",
     "output_type": "stream",
     "text": [
      "2019-12-01 18:29:00 LAPTOP-SDM3TI61 minerl.env.malmo.instance.42cbc8[24072] DEBUG [18:29:00] [Netty Server IO #1/INFO]: [STDOUT]: Equip message recieved\n"
     ]
    },
    {
     "name": "stdout",
     "output_type": "stream",
     "text": [
      "DEBUG:minerl.env.malmo.instance.42cbc8:[18:29:00] [Netty Server IO #1/INFO]: [STDOUT]: got harbar 0\r\n"
     ]
    },
    {
     "name": "stderr",
     "output_type": "stream",
     "text": [
      "2019-12-01 18:29:00 LAPTOP-SDM3TI61 minerl.env.malmo.instance.42cbc8[24072] DEBUG [18:29:00] [Netty Server IO #1/INFO]: [STDOUT]: got harbar 0\n"
     ]
    },
    {
     "name": "stdout",
     "output_type": "stream",
     "text": [
      "DEBUG:minerl.env.malmo.instance.42cbc8:[18:29:00] [Netty Server IO #1/INFO]: [STDOUT]: got slot 0\r\n"
     ]
    },
    {
     "name": "stderr",
     "output_type": "stream",
     "text": [
      "2019-12-01 18:29:00 "
     ]
    },
    {
     "name": "stdout",
     "output_type": "stream",
     "text": [
      "12.999999999999993"
     ]
    },
    {
     "name": "stderr",
     "output_type": "stream",
     "text": [
      "LAPTOP-SDM3TI61"
     ]
    },
    {
     "name": "stdout",
     "output_type": "stream",
     "text": [
      "\n"
     ]
    },
    {
     "name": "stderr",
     "output_type": "stream",
     "text": [
      " minerl.env.malmo.instance.42cbc8[24072] DEBUG"
     ]
    },
    {
     "name": "stdout",
     "output_type": "stream",
     "text": [
      "step = "
     ]
    },
    {
     "name": "stderr",
     "output_type": "stream",
     "text": [
      " "
     ]
    },
    {
     "name": "stdout",
     "output_type": "stream",
     "text": [
      " "
     ]
    },
    {
     "name": "stderr",
     "output_type": "stream",
     "text": [
      "[18:29:00] [Netty Server IO #1/INFO]: [STDOUT]: got slot 0\r"
     ]
    },
    {
     "name": "stdout",
     "output_type": "stream",
     "text": [
      "693"
     ]
    },
    {
     "name": "stderr",
     "output_type": "stream",
     "text": [
      "\n"
     ]
    },
    {
     "name": "stdout",
     "output_type": "stream",
     "text": [
      "\n",
      "DEBUG:minerl.env.malmo.instance.42cbc8:[18:29:00] [Netty Server IO #1/INFO]: [STDOUT]: Equip message recieved\n"
     ]
    },
    {
     "name": "stderr",
     "output_type": "stream",
     "text": [
      "2019-12-01 18:29:00 LAPTOP-SDM3TI61 minerl.env.malmo.instance.42cbc8[24072] DEBUG [18:29:00] [Netty Server IO #1/INFO]: [STDOUT]: Equip message recieved\n"
     ]
    },
    {
     "name": "stdout",
     "output_type": "stream",
     "text": [
      "DEBUG:minerl.env.malmo.instance.42cbc8:[18:29:00] [Netty Server IO #1/INFO]: [STDOUT]: got harbar 0\r\n"
     ]
    },
    {
     "name": "stderr",
     "output_type": "stream",
     "text": [
      "2019-12-01 18:29:00 LAPTOP-SDM3TI61 minerl.env.malmo.instance.42cbc8[24072] DEBUG"
     ]
    },
    {
     "name": "stdout",
     "output_type": "stream",
     "text": [
      "12.999999999999993"
     ]
    },
    {
     "name": "stderr",
     "output_type": "stream",
     "text": [
      " "
     ]
    },
    {
     "name": "stdout",
     "output_type": "stream",
     "text": [
      "\n"
     ]
    },
    {
     "name": "stderr",
     "output_type": "stream",
     "text": [
      "[18:29:00] [Netty Server IO #1/INFO]: [STDOUT]: got harbar 0\n"
     ]
    },
    {
     "name": "stdout",
     "output_type": "stream",
     "text": [
      "DEBUG:minerl.env.malmo.instance.42cbc8:[18:29:00] [Netty Server IO #1/INFO]: [STDOUT]: got slot 0\r\n"
     ]
    },
    {
     "name": "stderr",
     "output_type": "stream",
     "text": [
      "2019-12-01 18:29:00 LAPTOP-SDM3TI61"
     ]
    },
    {
     "name": "stdout",
     "output_type": "stream",
     "text": [
      "step = "
     ]
    },
    {
     "name": "stderr",
     "output_type": "stream",
     "text": [
      " minerl.env.malmo.instance.42cbc8[24072]"
     ]
    },
    {
     "name": "stdout",
     "output_type": "stream",
     "text": [
      " "
     ]
    },
    {
     "name": "stderr",
     "output_type": "stream",
     "text": [
      " "
     ]
    },
    {
     "name": "stdout",
     "output_type": "stream",
     "text": [
      "694"
     ]
    },
    {
     "name": "stderr",
     "output_type": "stream",
     "text": [
      "DEBUG"
     ]
    },
    {
     "name": "stdout",
     "output_type": "stream",
     "text": [
      "\n"
     ]
    },
    {
     "name": "stderr",
     "output_type": "stream",
     "text": [
      " [18:29:00] [Netty Server IO #1/INFO]: [STDOUT]: got slot 0\n"
     ]
    },
    {
     "name": "stdout",
     "output_type": "stream",
     "text": [
      "12.999999999999993\n",
      "step =  695\n",
      "12.999999999999993\n",
      "step =  696\n",
      "12.999999999999993\n",
      "step =  697\n",
      "12.999999999999993\n",
      "step =  698\n",
      "12.999999999999993\n",
      "step =  699\n",
      "DEBUG:minerl.env.malmo.instance.42cbc8:[18:29:00] [Netty Server IO #1/INFO]: [STDOUT]: Equip message recieved\n"
     ]
    },
    {
     "name": "stderr",
     "output_type": "stream",
     "text": [
      "2019-12-01 18:29:00 LAPTOP-SDM3TI61 minerl.env.malmo.instance.42cbc8[24072] DEBUG [18:29:00] [Netty Server IO #1/INFO]: [STDOUT]: Equip message recieved\n"
     ]
    },
    {
     "name": "stdout",
     "output_type": "stream",
     "text": [
      "DEBUG:minerl.env.malmo.instance.42cbc8:[18:29:00] [Netty Server IO #1/INFO]: [STDOUT]: got harbar 0\r\n"
     ]
    },
    {
     "name": "stderr",
     "output_type": "stream",
     "text": [
      "2019-12-01 18:29:00 LAPTOP-SDM3TI61 minerl.env.malmo.instance.42cbc8[24072] DEBUG [18:29:00] [Netty Server IO #1/INFO]: [STDOUT]: got harbar 0\n"
     ]
    },
    {
     "name": "stdout",
     "output_type": "stream",
     "text": [
      "DEBUG:minerl.env.malmo.instance.42cbc8:[18:29:00] [Netty Server IO #1/INFO]: [STDOUT]: got slot 0\r\n"
     ]
    },
    {
     "name": "stderr",
     "output_type": "stream",
     "text": [
      "2019-12-01 18:29:00"
     ]
    },
    {
     "name": "stdout",
     "output_type": "stream",
     "text": [
      "13.299999999999994"
     ]
    },
    {
     "name": "stderr",
     "output_type": "stream",
     "text": [
      " "
     ]
    },
    {
     "name": "stdout",
     "output_type": "stream",
     "text": [
      "\n"
     ]
    },
    {
     "name": "stderr",
     "output_type": "stream",
     "text": [
      "LAPTOP-SDM3TI61 minerl.env.malmo.instance.42cbc8[24072]"
     ]
    },
    {
     "name": "stdout",
     "output_type": "stream",
     "text": [
      "step = "
     ]
    },
    {
     "name": "stderr",
     "output_type": "stream",
     "text": [
      " "
     ]
    },
    {
     "name": "stdout",
     "output_type": "stream",
     "text": [
      " "
     ]
    },
    {
     "name": "stderr",
     "output_type": "stream",
     "text": [
      "DEBUG"
     ]
    },
    {
     "name": "stdout",
     "output_type": "stream",
     "text": [
      "700\n"
     ]
    },
    {
     "name": "stderr",
     "output_type": "stream",
     "text": [
      " [18:29:00] [Netty Server IO #1/INFO]: [STDOUT]: got slot 0\n"
     ]
    },
    {
     "name": "stdout",
     "output_type": "stream",
     "text": [
      "13.299999999999994\n",
      "step =  701\n",
      "13.299999999999994\n",
      "step =  702\n",
      "13.299999999999994\n",
      "step =  703\n",
      "13.299999999999994\n",
      "step =  704\n",
      "13.299999999999994\n",
      "step =  705\n",
      "DEBUG:minerl.env.malmo.instance.42cbc8:[18:29:01] [Netty Server IO #1/INFO]: [STDOUT]: Equip message recieved\n"
     ]
    },
    {
     "name": "stderr",
     "output_type": "stream",
     "text": [
      "2019-12-01 18:29:01 LAPTOP-SDM3TI61 minerl.env.malmo.instance.42cbc8[24072] DEBUG [18:29:01] [Netty Server IO #1/INFO]: [STDOUT]: Equip message recieved\n"
     ]
    },
    {
     "name": "stdout",
     "output_type": "stream",
     "text": [
      "DEBUG:minerl.env.malmo.instance.42cbc8:[18:29:01] [Netty Server IO #1/INFO]: [STDOUT]: got harbar 0\r\n"
     ]
    },
    {
     "name": "stderr",
     "output_type": "stream",
     "text": [
      "2019-12-01 18:29:01 LAPTOP-SDM3TI61 minerl.env.malmo.instance.42cbc8[24072] DEBUG [18:29:01] [Netty Server IO #1/INFO]: [STDOUT]: got harbar 0\n"
     ]
    },
    {
     "name": "stdout",
     "output_type": "stream",
     "text": [
      "DEBUG:minerl.env.malmo.instance.42cbc8:[18:29:01] [Netty Server IO #1/INFO]: [STDOUT]: got slot 0\r\n"
     ]
    },
    {
     "name": "stderr",
     "output_type": "stream",
     "text": [
      "2019-12-01 18:29:01 LAPTOP-SDM3TI61 minerl.env.malmo.instance.42cbc8[24072]"
     ]
    },
    {
     "name": "stdout",
     "output_type": "stream",
     "text": [
      "13.299999999999994"
     ]
    },
    {
     "name": "stderr",
     "output_type": "stream",
     "text": [
      " "
     ]
    },
    {
     "name": "stdout",
     "output_type": "stream",
     "text": [
      "\n"
     ]
    },
    {
     "name": "stderr",
     "output_type": "stream",
     "text": [
      "DEBUG [18:29:01] [Netty Server IO #1/INFO]: [STDOUT]: got slot 0\n"
     ]
    },
    {
     "name": "stdout",
     "output_type": "stream",
     "text": [
      "step =  706\n",
      "DEBUG:minerl.env.malmo.instance.42cbc8:[18:29:01] [Netty Server IO #1/INFO]: [STDOUT]: Equip message recieved\n"
     ]
    },
    {
     "name": "stderr",
     "output_type": "stream",
     "text": [
      "2019-12-01 18:29:01 LAPTOP-SDM3TI61 minerl.env.malmo.instance.42cbc8[24072] DEBUG [18:29:01] [Netty Server IO #1/INFO]: [STDOUT]: Equip message recieved\n"
     ]
    },
    {
     "name": "stdout",
     "output_type": "stream",
     "text": [
      "DEBUG:minerl.env.malmo.instance.42cbc8:[18:29:01] [Netty Server IO #1/INFO]: [STDOUT]: got harbar 0\r\n"
     ]
    },
    {
     "name": "stderr",
     "output_type": "stream",
     "text": [
      "2019-12-01 18:29:01 LAPTOP-SDM3TI61 minerl.env.malmo.instance.42cbc8[24072] DEBUG [18:29:01] [Netty Server IO #1/INFO]: [STDOUT]: got harbar 0\n"
     ]
    },
    {
     "name": "stdout",
     "output_type": "stream",
     "text": [
      "DEBUG:minerl.env.malmo.instance.42cbc8:[18:29:01] [Netty Server IO #1/INFO]: [STDOUT]: got slot 0\r\n"
     ]
    },
    {
     "name": "stderr",
     "output_type": "stream",
     "text": [
      "2019-12-01 18:29:01 LAPTOP-SDM3TI61 minerl.env.malmo.instance.42cbc8[24072] DEBUG"
     ]
    },
    {
     "name": "stdout",
     "output_type": "stream",
     "text": [
      "13.299999999999994"
     ]
    },
    {
     "name": "stderr",
     "output_type": "stream",
     "text": [
      " "
     ]
    },
    {
     "name": "stdout",
     "output_type": "stream",
     "text": [
      "\n"
     ]
    },
    {
     "name": "stderr",
     "output_type": "stream",
     "text": [
      "[18:29:01] [Netty Server IO #1/INFO]: [STDOUT]: got slot 0\n"
     ]
    },
    {
     "name": "stdout",
     "output_type": "stream",
     "text": [
      "step =  707\n",
      "DEBUG:minerl.env.malmo.instance.42cbc8:[18:29:01] [Netty Server IO #1/INFO]: [STDOUT]: Equip message recieved\n"
     ]
    },
    {
     "name": "stderr",
     "output_type": "stream",
     "text": [
      "2019-12-01 18:29:01 LAPTOP-SDM3TI61 minerl.env.malmo.instance.42cbc8[24072] DEBUG [18:29:01] [Netty Server IO #1/INFO]: [STDOUT]: Equip message recieved\n"
     ]
    },
    {
     "name": "stdout",
     "output_type": "stream",
     "text": [
      "DEBUG:minerl.env.malmo.instance.42cbc8:[18:29:01] [Netty Server IO #1/INFO]: [STDOUT]: got harbar 0\r\n"
     ]
    },
    {
     "name": "stderr",
     "output_type": "stream",
     "text": [
      "2019-12-01 18:29:01 LAPTOP-SDM3TI61 minerl.env.malmo.instance.42cbc8[24072] DEBUG [18:29:01] [Netty Server IO #1/INFO]: [STDOUT]: got harbar 0\n"
     ]
    },
    {
     "name": "stdout",
     "output_type": "stream",
     "text": [
      "DEBUG:minerl.env.malmo.instance.42cbc8:[18:29:01] [Netty Server IO #1/INFO]: [STDOUT]: got slot 0\r\n"
     ]
    },
    {
     "name": "stderr",
     "output_type": "stream",
     "text": [
      "2019-12-01 18:29:01"
     ]
    },
    {
     "name": "stdout",
     "output_type": "stream",
     "text": [
      "13.299999999999994"
     ]
    },
    {
     "name": "stderr",
     "output_type": "stream",
     "text": [
      " LAPTOP-SDM3TI61"
     ]
    },
    {
     "name": "stdout",
     "output_type": "stream",
     "text": [
      "\n"
     ]
    },
    {
     "name": "stderr",
     "output_type": "stream",
     "text": [
      " minerl.env.malmo.instance.42cbc8[24072] "
     ]
    },
    {
     "name": "stdout",
     "output_type": "stream",
     "text": [
      "step = "
     ]
    },
    {
     "name": "stderr",
     "output_type": "stream",
     "text": [
      "DEBUG"
     ]
    },
    {
     "name": "stdout",
     "output_type": "stream",
     "text": [
      " "
     ]
    },
    {
     "name": "stderr",
     "output_type": "stream",
     "text": [
      " "
     ]
    },
    {
     "name": "stdout",
     "output_type": "stream",
     "text": [
      "708"
     ]
    },
    {
     "name": "stderr",
     "output_type": "stream",
     "text": [
      "[18:29:01] [Netty Server IO #1/INFO]: [STDOUT]: got slot 0\r"
     ]
    },
    {
     "name": "stdout",
     "output_type": "stream",
     "text": [
      "\n"
     ]
    },
    {
     "name": "stderr",
     "output_type": "stream",
     "text": [
      "\n"
     ]
    },
    {
     "name": "stdout",
     "output_type": "stream",
     "text": [
      "DEBUG:minerl.env.malmo.instance.42cbc8:[18:29:01] [Client thread/INFO]: [CHAT] §l864...\n",
      "13.599999999999994"
     ]
    },
    {
     "name": "stderr",
     "output_type": "stream",
     "text": [
      "2019-12-01 18:29:01"
     ]
    },
    {
     "name": "stdout",
     "output_type": "stream",
     "text": [
      "\n"
     ]
    },
    {
     "name": "stderr",
     "output_type": "stream",
     "text": [
      " LAPTOP-SDM3TI61 minerl.env.malmo.instance.42cbc8[24072]"
     ]
    },
    {
     "name": "stdout",
     "output_type": "stream",
     "text": [
      "step = "
     ]
    },
    {
     "name": "stderr",
     "output_type": "stream",
     "text": [
      " DEBUG"
     ]
    },
    {
     "name": "stdout",
     "output_type": "stream",
     "text": [
      " 709"
     ]
    },
    {
     "name": "stderr",
     "output_type": "stream",
     "text": [
      " [18:29:01] [Client thread/INFO]: [CHAT] §l864...\r"
     ]
    },
    {
     "name": "stdout",
     "output_type": "stream",
     "text": [
      "\n"
     ]
    },
    {
     "name": "stderr",
     "output_type": "stream",
     "text": [
      "\n"
     ]
    },
    {
     "name": "stdout",
     "output_type": "stream",
     "text": [
      "DEBUG:minerl.env.malmo.instance.42cbc8:[18:29:01] [Netty Server IO #1/INFO]: [STDOUT]: Equip message recieved\r\n"
     ]
    },
    {
     "name": "stderr",
     "output_type": "stream",
     "text": [
      "2019-12-01 18:29:01 LAPTOP-SDM3TI61 minerl.env.malmo.instance.42cbc8[24072] DEBUG [18:29:01] [Netty Server IO #1/INFO]: [STDOUT]: Equip message recieved\n"
     ]
    },
    {
     "name": "stdout",
     "output_type": "stream",
     "text": [
      "DEBUG:minerl.env.malmo.instance.42cbc8:[18:29:01] [Netty Server IO #1/INFO]: [STDOUT]: got harbar 0\r\n"
     ]
    },
    {
     "name": "stderr",
     "output_type": "stream",
     "text": [
      "2019-12-01 18:29:01 LAPTOP-SDM3TI61 minerl.env.malmo.instance.42cbc8[24072] DEBUG [18:29:01] [Netty Server IO #1/INFO]: [STDOUT]: got harbar 0\n"
     ]
    },
    {
     "name": "stdout",
     "output_type": "stream",
     "text": [
      "DEBUG:minerl.env.malmo.instance.42cbc8:[18:29:01] [Netty Server IO #1/INFO]: [STDOUT]: got slot 0\r\n"
     ]
    },
    {
     "name": "stderr",
     "output_type": "stream",
     "text": [
      "2019-12-01 18:29:01 LAPTOP-SDM3TI61 minerl.env.malmo.instance.42cbc8[24072] DEBUG"
     ]
    },
    {
     "name": "stdout",
     "output_type": "stream",
     "text": [
      "13.599999999999994"
     ]
    },
    {
     "name": "stderr",
     "output_type": "stream",
     "text": [
      " "
     ]
    },
    {
     "name": "stdout",
     "output_type": "stream",
     "text": [
      "\n"
     ]
    },
    {
     "name": "stderr",
     "output_type": "stream",
     "text": [
      "[18:29:01] [Netty Server IO #1/INFO]: [STDOUT]: got slot 0\n"
     ]
    },
    {
     "name": "stdout",
     "output_type": "stream",
     "text": [
      "step =  710\n",
      "13.599999999999994\n",
      "step =  711\n",
      "DEBUG:minerl.env.malmo.instance.42cbc8:[18:29:01] [Netty Server IO #1/INFO]: [STDOUT]: Equip message recieved\n"
     ]
    },
    {
     "name": "stderr",
     "output_type": "stream",
     "text": [
      "2019-12-01 18:29:01 LAPTOP-SDM3TI61 minerl.env.malmo.instance.42cbc8[24072] DEBUG [18:29:01] [Netty Server IO #1/INFO]: [STDOUT]: Equip message recieved\n"
     ]
    },
    {
     "name": "stdout",
     "output_type": "stream",
     "text": [
      "DEBUG:minerl.env.malmo.instance.42cbc8:[18:29:01] [Netty Server IO #1/INFO]: [STDOUT]: got harbar 0\r\n"
     ]
    },
    {
     "name": "stderr",
     "output_type": "stream",
     "text": [
      "2019-12-01 18:29:01 LAPTOP-SDM3TI61 minerl.env.malmo.instance.42cbc8[24072] DEBUG [18:29:01] [Netty Server IO #1/INFO]: [STDOUT]: got harbar 0\n"
     ]
    },
    {
     "name": "stdout",
     "output_type": "stream",
     "text": [
      "DEBUG:minerl.env.malmo.instance.42cbc8:[18:29:01] [Netty Server IO #1/INFO]: [STDOUT]: got slot 0\r\n"
     ]
    },
    {
     "name": "stderr",
     "output_type": "stream",
     "text": [
      "2019-12-01 18:29:01 LAPTOP-SDM3TI61 minerl.env.malmo.instance.42cbc8[24072] "
     ]
    },
    {
     "name": "stdout",
     "output_type": "stream",
     "text": [
      "13.599999999999994"
     ]
    },
    {
     "name": "stderr",
     "output_type": "stream",
     "text": [
      "DEBUG"
     ]
    },
    {
     "name": "stdout",
     "output_type": "stream",
     "text": [
      "\n"
     ]
    },
    {
     "name": "stderr",
     "output_type": "stream",
     "text": [
      " [18:29:01] [Netty Server IO #1/INFO]: [STDOUT]: got slot 0\n"
     ]
    },
    {
     "name": "stdout",
     "output_type": "stream",
     "text": [
      "step =  712\n",
      "13.599999999999994\n",
      "step =  713\n",
      "13.899999999999995\n",
      "step =  714\n",
      "13.899999999999995\n",
      "step =  715\n",
      "13.899999999999995\n",
      "step =  716\n",
      "13.899999999999995\n",
      "step =  717\n",
      "DEBUG:minerl.env.malmo.instance.42cbc8:[18:29:01] [Netty Server IO #1/INFO]: [STDOUT]: Equip message recieved\n"
     ]
    },
    {
     "name": "stderr",
     "output_type": "stream",
     "text": [
      "2019-12-01 18:29:01 LAPTOP-SDM3TI61 minerl.env.malmo.instance.42cbc8[24072] DEBUG [18:29:01] [Netty Server IO #1/INFO]: [STDOUT]: Equip message recieved\n"
     ]
    },
    {
     "name": "stdout",
     "output_type": "stream",
     "text": [
      "DEBUG:minerl.env.malmo.instance.42cbc8:[18:29:01] [Netty Server IO #1/INFO]: [STDOUT]: got harbar 0\r\n"
     ]
    },
    {
     "name": "stderr",
     "output_type": "stream",
     "text": [
      "2019-12-01 18:29:01 LAPTOP-SDM3TI61 minerl.env.malmo.instance.42cbc8[24072] DEBUG [18:29:01] [Netty Server IO #1/INFO]: [STDOUT]: got harbar 0\n"
     ]
    },
    {
     "name": "stdout",
     "output_type": "stream",
     "text": [
      "14.199999999999996DEBUG:minerl.env.malmo.instance.42cbc8:[18:29:01] [Netty Server IO #1/INFO]: [STDOUT]: got slot 0\n",
      "\n"
     ]
    },
    {
     "name": "stderr",
     "output_type": "stream",
     "text": [
      "2019-12-01 18:29:01 LAPTOP-SDM3TI61"
     ]
    },
    {
     "name": "stdout",
     "output_type": "stream",
     "text": [
      "step = "
     ]
    },
    {
     "name": "stderr",
     "output_type": "stream",
     "text": [
      " "
     ]
    },
    {
     "name": "stdout",
     "output_type": "stream",
     "text": [
      " "
     ]
    },
    {
     "name": "stderr",
     "output_type": "stream",
     "text": [
      "minerl.env.malmo.instance.42cbc8[24072]"
     ]
    },
    {
     "name": "stdout",
     "output_type": "stream",
     "text": [
      "718"
     ]
    },
    {
     "name": "stderr",
     "output_type": "stream",
     "text": [
      " "
     ]
    },
    {
     "name": "stdout",
     "output_type": "stream",
     "text": [
      "\n"
     ]
    },
    {
     "name": "stderr",
     "output_type": "stream",
     "text": [
      "DEBUG [18:29:01] [Netty Server IO #1/INFO]: [STDOUT]: got slot 0\n"
     ]
    },
    {
     "name": "stdout",
     "output_type": "stream",
     "text": [
      "DEBUG:minerl.env.malmo.instance.42cbc8:[18:29:01] [Netty Server IO #1/INFO]: [STDOUT]: Equip message recieved\r\n"
     ]
    },
    {
     "name": "stderr",
     "output_type": "stream",
     "text": [
      "2019-12-01 18:29:01 LAPTOP-SDM3TI61 minerl.env.malmo.instance.42cbc8[24072] DEBUG [18:29:01] [Netty Server IO #1/INFO]: [STDOUT]: Equip message recieved\n"
     ]
    },
    {
     "name": "stdout",
     "output_type": "stream",
     "text": [
      "DEBUG:minerl.env.malmo.instance.42cbc8:[18:29:01] [Netty Server IO #1/INFO]: [STDOUT]: got harbar 0\r\n"
     ]
    },
    {
     "name": "stderr",
     "output_type": "stream",
     "text": [
      "2019-12-01 18:29:01 LAPTOP-SDM3TI61"
     ]
    },
    {
     "name": "stdout",
     "output_type": "stream",
     "text": [
      "14.199999999999996"
     ]
    },
    {
     "name": "stderr",
     "output_type": "stream",
     "text": [
      " "
     ]
    },
    {
     "name": "stdout",
     "output_type": "stream",
     "text": [
      "\n"
     ]
    },
    {
     "name": "stderr",
     "output_type": "stream",
     "text": [
      "minerl.env.malmo.instance.42cbc8[24072] DEBUG [18:29:01] [Netty Server IO #1/INFO]: [STDOUT]: got harbar 0\r"
     ]
    },
    {
     "name": "stdout",
     "output_type": "stream",
     "text": [
      "step = "
     ]
    },
    {
     "name": "stderr",
     "output_type": "stream",
     "text": [
      "\n"
     ]
    },
    {
     "name": "stdout",
     "output_type": "stream",
     "text": [
      " 719DEBUG:minerl.env.malmo.instance.42cbc8:[18:29:01] [Netty Server IO #1/INFO]: [STDOUT]: got slot 0\n",
      "\n"
     ]
    },
    {
     "name": "stderr",
     "output_type": "stream",
     "text": [
      "2019-12-01 18:29:01 LAPTOP-SDM3TI61 minerl.env.malmo.instance.42cbc8[24072] DEBUG [18:29:01] [Netty Server IO #1/INFO]: [STDOUT]: got slot 0\n"
     ]
    },
    {
     "name": "stdout",
     "output_type": "stream",
     "text": [
      "14.199999999999996\n",
      "step =  720\n",
      "DEBUG:minerl.env.malmo.instance.42cbc8:[18:29:01] [Netty Server IO #1/INFO]: [STDOUT]: Equip message recieved\n"
     ]
    },
    {
     "name": "stderr",
     "output_type": "stream",
     "text": [
      "2019-12-01 18:29:01 LAPTOP-SDM3TI61 minerl.env.malmo.instance.42cbc8[24072] DEBUG [18:29:01] [Netty Server IO #1/INFO]: [STDOUT]: Equip message recieved\n"
     ]
    },
    {
     "name": "stdout",
     "output_type": "stream",
     "text": [
      "DEBUG:minerl.env.malmo.instance.42cbc8:[18:29:01] [Netty Server IO #1/INFO]: [STDOUT]: got harbar 0\r\n"
     ]
    },
    {
     "name": "stderr",
     "output_type": "stream",
     "text": [
      "2019-12-01 18:29:01 LAPTOP-SDM3TI61 minerl.env.malmo.instance.42cbc8[24072] DEBUG [18:29:01] [Netty Server IO #1/INFO]: [STDOUT]: got harbar 0\r"
     ]
    },
    {
     "name": "stdout",
     "output_type": "stream",
     "text": [
      "14.199999999999996"
     ]
    },
    {
     "name": "stderr",
     "output_type": "stream",
     "text": [
      "\n"
     ]
    },
    {
     "name": "stdout",
     "output_type": "stream",
     "text": [
      "\n",
      "DEBUG:minerl.env.malmo.instance.42cbc8:[18:29:01] [Netty Server IO #1/INFO]: [STDOUT]: got slot 0\n"
     ]
    },
    {
     "name": "stderr",
     "output_type": "stream",
     "text": [
      "2019-12-01 18:29:01 LAPTOP-SDM3TI61 "
     ]
    },
    {
     "name": "stdout",
     "output_type": "stream",
     "text": [
      "step = "
     ]
    },
    {
     "name": "stderr",
     "output_type": "stream",
     "text": [
      "minerl.env.malmo.instance.42cbc8[24072]"
     ]
    },
    {
     "name": "stdout",
     "output_type": "stream",
     "text": [
      " 721"
     ]
    },
    {
     "name": "stderr",
     "output_type": "stream",
     "text": [
      " "
     ]
    },
    {
     "name": "stdout",
     "output_type": "stream",
     "text": [
      "\n"
     ]
    },
    {
     "name": "stderr",
     "output_type": "stream",
     "text": [
      "DEBUG [18:29:01] [Netty Server IO #1/INFO]: [STDOUT]: got slot 0\n"
     ]
    },
    {
     "name": "stdout",
     "output_type": "stream",
     "text": [
      "DEBUG:minerl.env.malmo.instance.42cbc8:[18:29:01] [Netty Server IO #1/INFO]: [STDOUT]: Equip message recieved\r\n"
     ]
    },
    {
     "name": "stderr",
     "output_type": "stream",
     "text": [
      "2019-12-01 18:29:01 LAPTOP-SDM3TI61 minerl.env.malmo.instance.42cbc8[24072] DEBUG [18:29:01] [Netty Server IO #1/INFO]: [STDOUT]: Equip message recieved\n"
     ]
    },
    {
     "name": "stdout",
     "output_type": "stream",
     "text": [
      "DEBUG:minerl.env.malmo.instance.42cbc8:[18:29:01] [Netty Server IO #1/INFO]: [STDOUT]: got harbar 0\r\n"
     ]
    },
    {
     "name": "stderr",
     "output_type": "stream",
     "text": [
      "2019-12-01 18:29:01 LAPTOP-SDM3TI61 "
     ]
    },
    {
     "name": "stdout",
     "output_type": "stream",
     "text": [
      "14.199999999999996"
     ]
    },
    {
     "name": "stderr",
     "output_type": "stream",
     "text": [
      "minerl.env.malmo.instance.42cbc8[24072]"
     ]
    },
    {
     "name": "stdout",
     "output_type": "stream",
     "text": [
      "\n"
     ]
    },
    {
     "name": "stderr",
     "output_type": "stream",
     "text": [
      " DEBUG [18:29:01] [Netty Server IO #1/INFO]: [STDOUT]: got harbar 0\n"
     ]
    },
    {
     "name": "stdout",
     "output_type": "stream",
     "text": [
      "step =  DEBUG:minerl.env.malmo.instance.42cbc8:[18:29:01] [Netty Server IO #1/INFO]: [STDOUT]: got slot 0\n"
     ]
    },
    {
     "name": "stderr",
     "output_type": "stream",
     "text": [
      "2019-12-01 18:29:01"
     ]
    },
    {
     "name": "stdout",
     "output_type": "stream",
     "text": [
      "722"
     ]
    },
    {
     "name": "stderr",
     "output_type": "stream",
     "text": [
      " "
     ]
    },
    {
     "name": "stdout",
     "output_type": "stream",
     "text": [
      "\n"
     ]
    },
    {
     "name": "stderr",
     "output_type": "stream",
     "text": [
      "LAPTOP-SDM3TI61 minerl.env.malmo.instance.42cbc8[24072] DEBUG [18:29:01] [Netty Server IO #1/INFO]: [STDOUT]: got slot 0\n"
     ]
    },
    {
     "name": "stdout",
     "output_type": "stream",
     "text": [
      "14.199999999999996\n",
      "step =  723\n",
      "DEBUG:minerl.env.malmo.instance.42cbc8:[18:29:01] [Netty Server IO #1/INFO]: [STDOUT]: Equip message recieved\n"
     ]
    },
    {
     "name": "stderr",
     "output_type": "stream",
     "text": [
      "2019-12-01 18:29:01 LAPTOP-SDM3TI61 minerl.env.malmo.instance.42cbc8[24072] DEBUG [18:29:01] [Netty Server IO #1/INFO]: [STDOUT]: Equip message recieved\n"
     ]
    },
    {
     "name": "stdout",
     "output_type": "stream",
     "text": [
      "DEBUG:minerl.env.malmo.instance.42cbc8:[18:29:01] [Netty Server IO #1/INFO]: [STDOUT]: got harbar 0\r\n"
     ]
    },
    {
     "name": "stderr",
     "output_type": "stream",
     "text": [
      "2019-12-01 18:29:01 LAPTOP-SDM3TI61 minerl.env.malmo.instance.42cbc8[24072] DEBUG"
     ]
    },
    {
     "name": "stdout",
     "output_type": "stream",
     "text": [
      "14.199999999999996"
     ]
    },
    {
     "name": "stderr",
     "output_type": "stream",
     "text": [
      " "
     ]
    },
    {
     "name": "stdout",
     "output_type": "stream",
     "text": [
      "\n"
     ]
    },
    {
     "name": "stderr",
     "output_type": "stream",
     "text": [
      "[18:29:01] [Netty Server IO #1/INFO]: [STDOUT]: got harbar 0\n"
     ]
    },
    {
     "name": "stdout",
     "output_type": "stream",
     "text": [
      "DEBUG:minerl.env.malmo.instance.42cbc8:[18:29:01] [Netty Server IO #1/INFO]: [STDOUT]: got slot 0\r\n"
     ]
    },
    {
     "name": "stderr",
     "output_type": "stream",
     "text": [
      "2019-12-01 18:29:01 "
     ]
    },
    {
     "name": "stdout",
     "output_type": "stream",
     "text": [
      "step = "
     ]
    },
    {
     "name": "stderr",
     "output_type": "stream",
     "text": [
      "LAPTOP-SDM3TI61"
     ]
    },
    {
     "name": "stdout",
     "output_type": "stream",
     "text": [
      " "
     ]
    },
    {
     "name": "stderr",
     "output_type": "stream",
     "text": [
      " "
     ]
    },
    {
     "name": "stdout",
     "output_type": "stream",
     "text": [
      "724"
     ]
    },
    {
     "name": "stderr",
     "output_type": "stream",
     "text": [
      "minerl.env.malmo.instance.42cbc8[24072]"
     ]
    },
    {
     "name": "stdout",
     "output_type": "stream",
     "text": [
      "\n"
     ]
    },
    {
     "name": "stderr",
     "output_type": "stream",
     "text": [
      " DEBUG [18:29:01] [Netty Server IO #1/INFO]: [STDOUT]: got slot 0\n"
     ]
    },
    {
     "name": "stdout",
     "output_type": "stream",
     "text": [
      "14.499999999999996\n",
      "step =  725\n",
      "DEBUG:minerl.env.malmo.instance.42cbc8:[18:29:01] [Netty Server IO #1/INFO]: [STDOUT]: Equip message recieved\n"
     ]
    },
    {
     "name": "stderr",
     "output_type": "stream",
     "text": [
      "2019-12-01 18:29:01 LAPTOP-SDM3TI61 minerl.env.malmo.instance.42cbc8[24072] DEBUG [18:29:01] [Netty Server IO #1/INFO]: [STDOUT]: Equip message recieved\n"
     ]
    },
    {
     "name": "stdout",
     "output_type": "stream",
     "text": [
      "DEBUG:minerl.env.malmo.instance.42cbc8:[18:29:01] [Netty Server IO #1/INFO]: [STDOUT]: got harbar 0\r\n"
     ]
    },
    {
     "name": "stderr",
     "output_type": "stream",
     "text": [
      "2019-12-01 18:29:01 LAPTOP-SDM3TI61 minerl.env.malmo.instance.42cbc8[24072] "
     ]
    },
    {
     "name": "stdout",
     "output_type": "stream",
     "text": [
      "14.499999999999996"
     ]
    },
    {
     "name": "stderr",
     "output_type": "stream",
     "text": [
      "DEBUG"
     ]
    },
    {
     "name": "stdout",
     "output_type": "stream",
     "text": [
      "\n"
     ]
    },
    {
     "name": "stderr",
     "output_type": "stream",
     "text": [
      " [18:29:01] [Netty Server IO #1/INFO]: [STDOUT]: got harbar 0\n"
     ]
    },
    {
     "name": "stdout",
     "output_type": "stream",
     "text": [
      "DEBUG:minerl.env.malmo.instance.42cbc8:[18:29:01] [Netty Server IO #1/INFO]: [STDOUT]: got slot 0\r\n"
     ]
    },
    {
     "name": "stderr",
     "output_type": "stream",
     "text": [
      "2019-12-01 18:29:01"
     ]
    },
    {
     "name": "stdout",
     "output_type": "stream",
     "text": [
      "step = "
     ]
    },
    {
     "name": "stderr",
     "output_type": "stream",
     "text": [
      " "
     ]
    },
    {
     "name": "stdout",
     "output_type": "stream",
     "text": [
      " "
     ]
    },
    {
     "name": "stderr",
     "output_type": "stream",
     "text": [
      "LAPTOP-SDM3TI61"
     ]
    },
    {
     "name": "stdout",
     "output_type": "stream",
     "text": [
      "726"
     ]
    },
    {
     "name": "stderr",
     "output_type": "stream",
     "text": [
      " "
     ]
    },
    {
     "name": "stdout",
     "output_type": "stream",
     "text": [
      "\n"
     ]
    },
    {
     "name": "stderr",
     "output_type": "stream",
     "text": [
      "minerl.env.malmo.instance.42cbc8[24072] DEBUG [18:29:01] [Netty Server IO #1/INFO]: [STDOUT]: got slot 0\n"
     ]
    },
    {
     "name": "stdout",
     "output_type": "stream",
     "text": [
      "DEBUG:minerl.env.malmo.instance.42cbc8:[18:29:01] [Netty Server IO #1/INFO]: [STDOUT]: Equip message recieved\r\n"
     ]
    },
    {
     "name": "stderr",
     "output_type": "stream",
     "text": [
      "2019-12-01 18:29:01 LAPTOP-SDM3TI61 minerl.env.malmo.instance.42cbc8[24072] DEBUG [18:29:01] [Netty Server IO #1/INFO]: [STDOUT]: Equip message recieved\n"
     ]
    },
    {
     "name": "stdout",
     "output_type": "stream",
     "text": [
      "DEBUG:minerl.env.malmo.instance.42cbc8:[18:29:01] [Netty Server IO #1/INFO]: [STDOUT]: got harbar 0\r\n"
     ]
    },
    {
     "name": "stderr",
     "output_type": "stream",
     "text": [
      "2019-12-01 18:29:01"
     ]
    },
    {
     "name": "stdout",
     "output_type": "stream",
     "text": [
      "14.499999999999996"
     ]
    },
    {
     "name": "stderr",
     "output_type": "stream",
     "text": [
      " "
     ]
    },
    {
     "name": "stdout",
     "output_type": "stream",
     "text": [
      "\n"
     ]
    },
    {
     "name": "stderr",
     "output_type": "stream",
     "text": [
      "LAPTOP-SDM3TI61 minerl.env.malmo.instance.42cbc8[24072]"
     ]
    },
    {
     "name": "stdout",
     "output_type": "stream",
     "text": [
      "step = "
     ]
    },
    {
     "name": "stderr",
     "output_type": "stream",
     "text": [
      " "
     ]
    },
    {
     "name": "stdout",
     "output_type": "stream",
     "text": [
      " "
     ]
    },
    {
     "name": "stderr",
     "output_type": "stream",
     "text": [
      "DEBUG"
     ]
    },
    {
     "name": "stdout",
     "output_type": "stream",
     "text": [
      "727"
     ]
    },
    {
     "name": "stderr",
     "output_type": "stream",
     "text": [
      " "
     ]
    },
    {
     "name": "stdout",
     "output_type": "stream",
     "text": [
      "\n"
     ]
    },
    {
     "name": "stderr",
     "output_type": "stream",
     "text": [
      "[18:29:01] [Netty Server IO #1/INFO]: [STDOUT]: got harbar 0\n"
     ]
    },
    {
     "name": "stdout",
     "output_type": "stream",
     "text": [
      "DEBUG:minerl.env.malmo.instance.42cbc8:[18:29:01] [Netty Server IO #1/INFO]: [STDOUT]: got slot 0\r\n"
     ]
    },
    {
     "name": "stderr",
     "output_type": "stream",
     "text": [
      "2019-12-01 18:29:01 LAPTOP-SDM3TI61 minerl.env.malmo.instance.42cbc8[24072] DEBUG [18:29:01] [Netty Server IO #1/INFO]: [STDOUT]: got slot 0\n"
     ]
    },
    {
     "name": "stdout",
     "output_type": "stream",
     "text": [
      "14.499999999999996\n",
      "step =  728\n",
      "DEBUG:minerl.env.malmo.instance.42cbc8:[18:29:01] [Netty Server IO #1/INFO]: [STDOUT]: Equip message recieved\n"
     ]
    },
    {
     "name": "stderr",
     "output_type": "stream",
     "text": [
      "2019-12-01 18:29:01 LAPTOP-SDM3TI61 minerl.env.malmo.instance.42cbc8[24072] DEBUG [18:29:01] [Netty Server IO #1/INFO]: [STDOUT]: Equip message recieved\n"
     ]
    },
    {
     "name": "stdout",
     "output_type": "stream",
     "text": [
      "DEBUG:minerl.env.malmo.instance.42cbc8:[18:29:01] [Netty Server IO #1/INFO]: [STDOUT]: got harbar 0\r\n"
     ]
    },
    {
     "name": "stderr",
     "output_type": "stream",
     "text": [
      "2019-12-01 18:29:01 LAPTOP-SDM3TI61 minerl.env.malmo.instance.42cbc8[24072] DEBUG [18:29:01] [Netty Server IO #1/INFO]: [STDOUT]: got harbar 0\r"
     ]
    },
    {
     "name": "stdout",
     "output_type": "stream",
     "text": [
      "14.499999999999996"
     ]
    },
    {
     "name": "stderr",
     "output_type": "stream",
     "text": [
      "\n"
     ]
    },
    {
     "name": "stdout",
     "output_type": "stream",
     "text": [
      "\n",
      "DEBUG:minerl.env.malmo.instance.42cbc8:[18:29:01] [Netty Server IO #1/INFO]: [STDOUT]: got slot 0\n"
     ]
    },
    {
     "name": "stderr",
     "output_type": "stream",
     "text": [
      "2019-12-01 18:29:01 LAPTOP-SDM3TI61"
     ]
    },
    {
     "name": "stdout",
     "output_type": "stream",
     "text": [
      "step = "
     ]
    },
    {
     "name": "stderr",
     "output_type": "stream",
     "text": [
      " "
     ]
    },
    {
     "name": "stdout",
     "output_type": "stream",
     "text": [
      " "
     ]
    },
    {
     "name": "stderr",
     "output_type": "stream",
     "text": [
      "minerl.env.malmo.instance.42cbc8[24072]"
     ]
    },
    {
     "name": "stdout",
     "output_type": "stream",
     "text": [
      "729"
     ]
    },
    {
     "name": "stderr",
     "output_type": "stream",
     "text": [
      " "
     ]
    },
    {
     "name": "stdout",
     "output_type": "stream",
     "text": [
      "\n"
     ]
    },
    {
     "name": "stderr",
     "output_type": "stream",
     "text": [
      "DEBUG [18:29:01] [Netty Server IO #1/INFO]: [STDOUT]: got slot 0\n"
     ]
    },
    {
     "name": "stdout",
     "output_type": "stream",
     "text": [
      "DEBUG:minerl.env.malmo.instance.42cbc8:[18:29:01] [Client thread/INFO]: [CHAT] §l863...\r\n"
     ]
    },
    {
     "name": "stderr",
     "output_type": "stream",
     "text": [
      "2019-12-01 18:29:02 LAPTOP-SDM3TI61 minerl.env.malmo.instance.42cbc8[24072] DEBUG [18:29:01] [Client thread/INFO]: [CHAT] §l863...\n"
     ]
    },
    {
     "name": "stdout",
     "output_type": "stream",
     "text": [
      "14.499999999999996\n",
      "step =  730\n",
      "DEBUG:minerl.env.malmo.instance.42cbc8:[18:29:02] [Netty Server IO #1/INFO]: [STDOUT]: Equip message recieved\n"
     ]
    },
    {
     "name": "stderr",
     "output_type": "stream",
     "text": [
      "2019-12-01 18:29:02 LAPTOP-SDM3TI61 minerl.env.malmo.instance.42cbc8[24072] DEBUG [18:29:02] [Netty Server IO #1/INFO]: [STDOUT]: Equip message recieved\n"
     ]
    },
    {
     "name": "stdout",
     "output_type": "stream",
     "text": [
      "DEBUG:minerl.env.malmo.instance.42cbc8:[18:29:02] [Netty Server IO #1/INFO]: [STDOUT]: got harbar 0\r\n"
     ]
    },
    {
     "name": "stderr",
     "output_type": "stream",
     "text": [
      "2019-12-01 18:29:02 LAPTOP-SDM3TI61 minerl.env.malmo.instance.42cbc8[24072] DEBUG [18:29:02] [Netty Server IO #1/INFO]: [STDOUT]: got harbar 0\n"
     ]
    },
    {
     "name": "stdout",
     "output_type": "stream",
     "text": [
      "DEBUG:minerl.env.malmo.instance.42cbc8:[18:29:02] [Netty Server IO #1/INFO]: [STDOUT]: got slot 0\r\n"
     ]
    },
    {
     "name": "stderr",
     "output_type": "stream",
     "text": [
      "2019-12-01 18:29:02 LAPTOP-SDM3TI61 minerl.env.malmo.instance.42cbc8[24072] DEBUG"
     ]
    },
    {
     "name": "stdout",
     "output_type": "stream",
     "text": [
      "14.499999999999996"
     ]
    },
    {
     "name": "stderr",
     "output_type": "stream",
     "text": [
      " "
     ]
    },
    {
     "name": "stdout",
     "output_type": "stream",
     "text": [
      "\n"
     ]
    },
    {
     "name": "stderr",
     "output_type": "stream",
     "text": [
      "[18:29:02] [Netty Server IO #1/INFO]: [STDOUT]: got slot 0\n"
     ]
    },
    {
     "name": "stdout",
     "output_type": "stream",
     "text": [
      "step =  731\n",
      "DEBUG:minerl.env.malmo.instance.42cbc8:[18:29:02] [Netty Server IO #1/INFO]: [STDOUT]: Equip message recieved\n"
     ]
    },
    {
     "name": "stderr",
     "output_type": "stream",
     "text": [
      "2019-12-01 18:29:02 LAPTOP-SDM3TI61 minerl.env.malmo.instance.42cbc8[24072] DEBUG [18:29:02] [Netty Server IO #1/INFO]: [STDOUT]: Equip message recieved\n"
     ]
    },
    {
     "name": "stdout",
     "output_type": "stream",
     "text": [
      "DEBUG:minerl.env.malmo.instance.42cbc8:[18:29:02] [Netty Server IO #1/INFO]: [STDOUT]: got harbar 0\r\n"
     ]
    },
    {
     "name": "stderr",
     "output_type": "stream",
     "text": [
      "2019-12-01 18:29:02 LAPTOP-SDM3TI61 minerl.env.malmo.instance.42cbc8[24072] DEBUG [18:29:02] [Netty Server IO #1/INFO]: [STDOUT]: got harbar 0\n"
     ]
    },
    {
     "name": "stdout",
     "output_type": "stream",
     "text": [
      "DEBUG:minerl.env.malmo.instance.42cbc8:[18:29:02] [Netty Server IO #1/INFO]: [STDOUT]: got slot 0\r\n"
     ]
    },
    {
     "name": "stderr",
     "output_type": "stream",
     "text": [
      "2019-12-01 18:29:02 LAPTOP-SDM3TI61 minerl.env.malmo.instance.42cbc8[24072] DEBUG"
     ]
    },
    {
     "name": "stdout",
     "output_type": "stream",
     "text": [
      "14.499999999999996"
     ]
    },
    {
     "name": "stderr",
     "output_type": "stream",
     "text": [
      " "
     ]
    },
    {
     "name": "stdout",
     "output_type": "stream",
     "text": [
      "\n"
     ]
    },
    {
     "name": "stderr",
     "output_type": "stream",
     "text": [
      "[18:29:02] [Netty Server IO #1/INFO]: [STDOUT]: got slot 0\n"
     ]
    },
    {
     "name": "stdout",
     "output_type": "stream",
     "text": [
      "step =  732\n",
      "14.499999999999996\n",
      "step =  733\n",
      "14.499999999999996\n",
      "step =  734\n",
      "14.499999999999996\n",
      "step =  735\n",
      "14.499999999999996\n",
      "step =  736\n",
      "DEBUG:minerl.env.malmo.instance.42cbc8:[18:29:02] [Netty Server IO #1/INFO]: [STDOUT]: Equip message recieved\n"
     ]
    },
    {
     "name": "stderr",
     "output_type": "stream",
     "text": [
      "2019-12-01 18:29:02 LAPTOP-SDM3TI61 minerl.env.malmo.instance.42cbc8[24072] DEBUG [18:29:02] [Netty Server IO #1/INFO]: [STDOUT]: Equip message recieved\n"
     ]
    },
    {
     "name": "stdout",
     "output_type": "stream",
     "text": [
      "DEBUG:minerl.env.malmo.instance.42cbc8:[18:29:02] [Netty Server IO #1/INFO]: [STDOUT]: got harbar 0\r\n"
     ]
    },
    {
     "name": "stderr",
     "output_type": "stream",
     "text": [
      "2019-12-01 18:29:02 LAPTOP-SDM3TI61 minerl.env.malmo.instance.42cbc8[24072] DEBUG [18:29:02] [Netty Server IO #1/INFO]: [STDOUT]: got harbar 0\n"
     ]
    },
    {
     "name": "stdout",
     "output_type": "stream",
     "text": [
      "DEBUG:minerl.env.malmo.instance.42cbc8:[18:29:02] [Netty Server IO #1/INFO]: [STDOUT]: got slot 0\r\n"
     ]
    },
    {
     "name": "stderr",
     "output_type": "stream",
     "text": [
      "2019-12-01 18:29:02 "
     ]
    },
    {
     "name": "stdout",
     "output_type": "stream",
     "text": [
      "14.499999999999996"
     ]
    },
    {
     "name": "stderr",
     "output_type": "stream",
     "text": [
      "LAPTOP-SDM3TI61"
     ]
    },
    {
     "name": "stdout",
     "output_type": "stream",
     "text": [
      "\n"
     ]
    },
    {
     "name": "stderr",
     "output_type": "stream",
     "text": [
      " minerl.env.malmo.instance.42cbc8[24072] "
     ]
    },
    {
     "name": "stdout",
     "output_type": "stream",
     "text": [
      "step = "
     ]
    },
    {
     "name": "stderr",
     "output_type": "stream",
     "text": [
      "DEBUG"
     ]
    },
    {
     "name": "stdout",
     "output_type": "stream",
     "text": [
      " 737"
     ]
    },
    {
     "name": "stderr",
     "output_type": "stream",
     "text": [
      " "
     ]
    },
    {
     "name": "stdout",
     "output_type": "stream",
     "text": [
      "\n"
     ]
    },
    {
     "name": "stderr",
     "output_type": "stream",
     "text": [
      "[18:29:02] [Netty Server IO #1/INFO]: [STDOUT]: got slot 0\n"
     ]
    },
    {
     "name": "stdout",
     "output_type": "stream",
     "text": [
      "14.499999999999996\n",
      "step =  738\n",
      "14.499999999999996\n",
      "step =  739\n",
      "14.499999999999996\n",
      "step =  740\n",
      "DEBUG:minerl.env.malmo.instance.42cbc8:[18:29:02] [Netty Server IO #1/INFO]: [STDOUT]: Equip message recieved\n"
     ]
    },
    {
     "name": "stderr",
     "output_type": "stream",
     "text": [
      "2019-12-01 18:29:02 LAPTOP-SDM3TI61 minerl.env.malmo.instance.42cbc8[24072] DEBUG [18:29:02] [Netty Server IO #1/INFO]: [STDOUT]: Equip message recieved\n"
     ]
    },
    {
     "name": "stdout",
     "output_type": "stream",
     "text": [
      "DEBUG:minerl.env.malmo.instance.42cbc8:[18:29:02] [Netty Server IO #1/INFO]: [STDOUT]: got harbar 0\r\n"
     ]
    },
    {
     "name": "stderr",
     "output_type": "stream",
     "text": [
      "2019-12-01 18:29:02 LAPTOP-SDM3TI61 minerl.env.malmo.instance.42cbc8[24072] DEBUG [18:29:02] [Netty Server IO #1/INFO]: [STDOUT]: got harbar 0\n"
     ]
    },
    {
     "name": "stdout",
     "output_type": "stream",
     "text": [
      "DEBUG:minerl.env.malmo.instance.42cbc8:[18:29:02] [Netty Server IO #1/INFO]: [STDOUT]: got slot 0\r\n"
     ]
    },
    {
     "name": "stderr",
     "output_type": "stream",
     "text": [
      "2019-12-01 18:29:02 LAPTOP-SDM3TI61 minerl.env.malmo.instance.42cbc8[24072] "
     ]
    },
    {
     "name": "stdout",
     "output_type": "stream",
     "text": [
      "14.499999999999996"
     ]
    },
    {
     "name": "stderr",
     "output_type": "stream",
     "text": [
      "DEBUG"
     ]
    },
    {
     "name": "stdout",
     "output_type": "stream",
     "text": [
      "\n"
     ]
    },
    {
     "name": "stderr",
     "output_type": "stream",
     "text": [
      " [18:29:02] [Netty Server IO #1/INFO]: [STDOUT]: got slot 0\n"
     ]
    },
    {
     "name": "stdout",
     "output_type": "stream",
     "text": [
      "step =  741\n",
      "DEBUG:minerl.env.malmo.instance.42cbc8:[18:29:02] [Netty Server IO #1/INFO]: [STDOUT]: Equip message recieved\n"
     ]
    },
    {
     "name": "stderr",
     "output_type": "stream",
     "text": [
      "2019-12-01 18:29:02 LAPTOP-SDM3TI61 minerl.env.malmo.instance.42cbc8[24072] DEBUG [18:29:02] [Netty Server IO #1/INFO]: [STDOUT]: Equip message recieved\n"
     ]
    },
    {
     "name": "stdout",
     "output_type": "stream",
     "text": [
      "DEBUG:minerl.env.malmo.instance.42cbc8:[18:29:02] [Netty Server IO #1/INFO]: [STDOUT]: got harbar 0\r\n"
     ]
    },
    {
     "name": "stderr",
     "output_type": "stream",
     "text": [
      "2019-12-01 18:29:02 LAPTOP-SDM3TI61 minerl.env.malmo.instance.42cbc8[24072] "
     ]
    },
    {
     "name": "stdout",
     "output_type": "stream",
     "text": [
      "14.699999999999996"
     ]
    },
    {
     "name": "stderr",
     "output_type": "stream",
     "text": [
      "DEBUG"
     ]
    },
    {
     "name": "stdout",
     "output_type": "stream",
     "text": [
      "\n"
     ]
    },
    {
     "name": "stderr",
     "output_type": "stream",
     "text": [
      " [18:29:02] [Netty Server IO #1/INFO]: [STDOUT]: got harbar 0\n"
     ]
    },
    {
     "name": "stdout",
     "output_type": "stream",
     "text": [
      "DEBUG:minerl.env.malmo.instance.42cbc8:[18:29:02] [Netty Server IO #1/INFO]: [STDOUT]: got slot 0\r\n"
     ]
    },
    {
     "name": "stderr",
     "output_type": "stream",
     "text": [
      "2019-12-01 18:29:02"
     ]
    },
    {
     "name": "stdout",
     "output_type": "stream",
     "text": [
      "step =  "
     ]
    },
    {
     "name": "stderr",
     "output_type": "stream",
     "text": [
      " "
     ]
    },
    {
     "name": "stdout",
     "output_type": "stream",
     "text": [
      "742"
     ]
    },
    {
     "name": "stderr",
     "output_type": "stream",
     "text": [
      "LAPTOP-SDM3TI61"
     ]
    },
    {
     "name": "stdout",
     "output_type": "stream",
     "text": [
      "\n"
     ]
    },
    {
     "name": "stderr",
     "output_type": "stream",
     "text": [
      " minerl.env.malmo.instance.42cbc8[24072] DEBUG [18:29:02] [Netty Server IO #1/INFO]: [STDOUT]: got slot 0\n"
     ]
    },
    {
     "name": "stdout",
     "output_type": "stream",
     "text": [
      "DEBUG:minerl.env.malmo.instance.42cbc8:[18:29:02] [Netty Server IO #1/INFO]: [STDOUT]: Equip message recieved\r\n"
     ]
    },
    {
     "name": "stderr",
     "output_type": "stream",
     "text": [
      "2019-12-01 18:29:02 LAPTOP-SDM3TI61 minerl.env.malmo.instance.42cbc8[24072] DEBUG [18:29:02] [Netty Server IO #1/INFO]: [STDOUT]: Equip message recieved\n"
     ]
    },
    {
     "name": "stdout",
     "output_type": "stream",
     "text": [
      "DEBUG:minerl.env.malmo.instance.42cbc8:[18:29:02] [Netty Server IO #1/INFO]: [STDOUT]: got harbar 0\r\n"
     ]
    },
    {
     "name": "stderr",
     "output_type": "stream",
     "text": [
      "2019-12-01 18:29:02"
     ]
    },
    {
     "name": "stdout",
     "output_type": "stream",
     "text": [
      "14.699999999999996"
     ]
    },
    {
     "name": "stderr",
     "output_type": "stream",
     "text": [
      " "
     ]
    },
    {
     "name": "stdout",
     "output_type": "stream",
     "text": [
      "\n"
     ]
    },
    {
     "name": "stderr",
     "output_type": "stream",
     "text": [
      "LAPTOP-SDM3TI61 minerl.env.malmo.instance.42cbc8[24072] "
     ]
    },
    {
     "name": "stdout",
     "output_type": "stream",
     "text": [
      "step =  "
     ]
    },
    {
     "name": "stderr",
     "output_type": "stream",
     "text": [
      "DEBUG"
     ]
    },
    {
     "name": "stdout",
     "output_type": "stream",
     "text": [
      "743"
     ]
    },
    {
     "name": "stderr",
     "output_type": "stream",
     "text": [
      " "
     ]
    },
    {
     "name": "stdout",
     "output_type": "stream",
     "text": [
      "\n"
     ]
    },
    {
     "name": "stderr",
     "output_type": "stream",
     "text": [
      "[18:29:02] [Netty Server IO #1/INFO]: [STDOUT]: got harbar 0\n"
     ]
    },
    {
     "name": "stdout",
     "output_type": "stream",
     "text": [
      "DEBUG:minerl.env.malmo.instance.42cbc8:[18:29:02] [Netty Server IO #1/INFO]: [STDOUT]: got slot 0\r\n"
     ]
    },
    {
     "name": "stderr",
     "output_type": "stream",
     "text": [
      "2019-12-01 18:29:02 LAPTOP-SDM3TI61 minerl.env.malmo.instance.42cbc8[24072] DEBUG [18:29:02] [Netty Server IO #1/INFO]: [STDOUT]: got slot 0\n"
     ]
    },
    {
     "name": "stdout",
     "output_type": "stream",
     "text": [
      "DEBUG:minerl.env.malmo.instance.42cbc8:[18:29:02] [Netty Server IO #1/INFO]: [STDOUT]: Equip message recieved\r\n"
     ]
    },
    {
     "name": "stderr",
     "output_type": "stream",
     "text": [
      "2019-12-01 18:29:02 LAPTOP-SDM3TI61"
     ]
    },
    {
     "name": "stdout",
     "output_type": "stream",
     "text": [
      "14.699999999999996"
     ]
    },
    {
     "name": "stderr",
     "output_type": "stream",
     "text": [
      " "
     ]
    },
    {
     "name": "stdout",
     "output_type": "stream",
     "text": [
      "\n"
     ]
    },
    {
     "name": "stderr",
     "output_type": "stream",
     "text": [
      "minerl.env.malmo.instance.42cbc8[24072] DEBUG [18:29:02] [Netty Server IO #1/INFO]: [STDOUT]: Equip message recieved\r"
     ]
    },
    {
     "name": "stdout",
     "output_type": "stream",
     "text": [
      "step =  "
     ]
    },
    {
     "name": "stderr",
     "output_type": "stream",
     "text": [
      "\n"
     ]
    },
    {
     "name": "stdout",
     "output_type": "stream",
     "text": [
      "744DEBUG:minerl.env.malmo.instance.42cbc8:[18:29:02] [Netty Server IO #1/INFO]: [STDOUT]: got harbar 0\n",
      "\n"
     ]
    },
    {
     "name": "stderr",
     "output_type": "stream",
     "text": [
      "2019-12-01 18:29:02 LAPTOP-SDM3TI61 minerl.env.malmo.instance.42cbc8[24072] DEBUG [18:29:02] [Netty Server IO #1/INFO]: [STDOUT]: got harbar 0\n"
     ]
    },
    {
     "name": "stdout",
     "output_type": "stream",
     "text": [
      "DEBUG:minerl.env.malmo.instance.42cbc8:[18:29:02] [Netty Server IO #1/INFO]: [STDOUT]: got slot 0\r\n"
     ]
    },
    {
     "name": "stderr",
     "output_type": "stream",
     "text": [
      "2019-12-01 18:29:02 LAPTOP-SDM3TI61 minerl.env.malmo.instance.42cbc8[24072] DEBUG"
     ]
    },
    {
     "name": "stdout",
     "output_type": "stream",
     "text": [
      "14.699999999999996"
     ]
    },
    {
     "name": "stderr",
     "output_type": "stream",
     "text": [
      " "
     ]
    },
    {
     "name": "stdout",
     "output_type": "stream",
     "text": [
      "\n"
     ]
    },
    {
     "name": "stderr",
     "output_type": "stream",
     "text": [
      "[18:29:02] [Netty Server IO #1/INFO]: [STDOUT]: got slot 0\n"
     ]
    },
    {
     "name": "stdout",
     "output_type": "stream",
     "text": [
      "DEBUG:minerl.env.malmo.instance.42cbc8:[18:29:02] [Netty Server IO #1/INFO]: [STDOUT]: Equip message recieved\r\n"
     ]
    },
    {
     "name": "stderr",
     "output_type": "stream",
     "text": [
      "2019-12-01 18:29:02 LAPTOP-SDM3TI61 "
     ]
    },
    {
     "name": "stdout",
     "output_type": "stream",
     "text": [
      "step = "
     ]
    },
    {
     "name": "stderr",
     "output_type": "stream",
     "text": [
      "minerl.env.malmo.instance.42cbc8[24072]"
     ]
    },
    {
     "name": "stdout",
     "output_type": "stream",
     "text": [
      " "
     ]
    },
    {
     "name": "stderr",
     "output_type": "stream",
     "text": [
      " "
     ]
    },
    {
     "name": "stdout",
     "output_type": "stream",
     "text": [
      "745"
     ]
    },
    {
     "name": "stderr",
     "output_type": "stream",
     "text": [
      "DEBUG"
     ]
    },
    {
     "name": "stdout",
     "output_type": "stream",
     "text": [
      "\n"
     ]
    },
    {
     "name": "stderr",
     "output_type": "stream",
     "text": [
      " [18:29:02] [Netty Server IO #1/INFO]: [STDOUT]: Equip message recieved\n"
     ]
    },
    {
     "name": "stdout",
     "output_type": "stream",
     "text": [
      "DEBUG:minerl.env.malmo.instance.42cbc8:[18:29:02] [Netty Server IO #1/INFO]: [STDOUT]: got harbar 0\r\n"
     ]
    },
    {
     "name": "stderr",
     "output_type": "stream",
     "text": [
      "2019-12-01 18:29:02 LAPTOP-SDM3TI61 minerl.env.malmo.instance.42cbc8[24072] DEBUG [18:29:02] [Netty Server IO #1/INFO]: [STDOUT]: got harbar 0\n"
     ]
    },
    {
     "name": "stdout",
     "output_type": "stream",
     "text": [
      "DEBUG:minerl.env.malmo.instance.42cbc8:[18:29:02] [Netty Server IO #1/INFO]: [STDOUT]: got slot 0\r\n"
     ]
    },
    {
     "name": "stderr",
     "output_type": "stream",
     "text": [
      "2019-12-01 18:29:02 LAPTOP-SDM3TI61"
     ]
    },
    {
     "name": "stdout",
     "output_type": "stream",
     "text": [
      "14.699999999999996"
     ]
    },
    {
     "name": "stderr",
     "output_type": "stream",
     "text": [
      " "
     ]
    },
    {
     "name": "stdout",
     "output_type": "stream",
     "text": [
      "\n"
     ]
    },
    {
     "name": "stderr",
     "output_type": "stream",
     "text": [
      "minerl.env.malmo.instance.42cbc8[24072] DEBUG [18:29:02] [Netty Server IO #1/INFO]: [STDOUT]: got slot 0\r"
     ]
    },
    {
     "name": "stdout",
     "output_type": "stream",
     "text": [
      "step = "
     ]
    },
    {
     "name": "stderr",
     "output_type": "stream",
     "text": [
      "\n"
     ]
    },
    {
     "name": "stdout",
     "output_type": "stream",
     "text": [
      " 746\n",
      "DEBUG:minerl.env.malmo.instance.42cbc8:[18:29:02] [Netty Server IO #1/INFO]: [STDOUT]: Equip message recieved\n"
     ]
    },
    {
     "name": "stderr",
     "output_type": "stream",
     "text": [
      "2019-12-01 18:29:02 LAPTOP-SDM3TI61 minerl.env.malmo.instance.42cbc8[24072] DEBUG [18:29:02] [Netty Server IO #1/INFO]: [STDOUT]: Equip message recieved\n"
     ]
    },
    {
     "name": "stdout",
     "output_type": "stream",
     "text": [
      "DEBUG:minerl.env.malmo.instance.42cbc8:[18:29:02] [Netty Server IO #1/INFO]: [STDOUT]: got harbar 0\r\n"
     ]
    },
    {
     "name": "stderr",
     "output_type": "stream",
     "text": [
      "2019-12-01 18:29:02 LAPTOP-SDM3TI61 minerl.env.malmo.instance.42cbc8[24072] DEBUG [18:29:02] [Netty Server IO #1/INFO]: [STDOUT]: got harbar 0\r"
     ]
    },
    {
     "name": "stdout",
     "output_type": "stream",
     "text": [
      "14.699999999999996"
     ]
    },
    {
     "name": "stderr",
     "output_type": "stream",
     "text": [
      "\n"
     ]
    },
    {
     "name": "stdout",
     "output_type": "stream",
     "text": [
      "\n",
      "DEBUG:minerl.env.malmo.instance.42cbc8:[18:29:02] [Netty Server IO #1/INFO]: [STDOUT]: got slot 0\n"
     ]
    },
    {
     "name": "stderr",
     "output_type": "stream",
     "text": [
      "2019-12-01 18:29:02 LAPTOP-SDM3TI61 "
     ]
    },
    {
     "name": "stdout",
     "output_type": "stream",
     "text": [
      "step = "
     ]
    },
    {
     "name": "stderr",
     "output_type": "stream",
     "text": [
      "minerl.env.malmo.instance.42cbc8[24072] "
     ]
    },
    {
     "name": "stdout",
     "output_type": "stream",
     "text": [
      " "
     ]
    },
    {
     "name": "stderr",
     "output_type": "stream",
     "text": [
      "DEBUG"
     ]
    },
    {
     "name": "stdout",
     "output_type": "stream",
     "text": [
      "747"
     ]
    },
    {
     "name": "stderr",
     "output_type": "stream",
     "text": [
      " "
     ]
    },
    {
     "name": "stdout",
     "output_type": "stream",
     "text": [
      "\n"
     ]
    },
    {
     "name": "stderr",
     "output_type": "stream",
     "text": [
      "[18:29:02] [Netty Server IO #1/INFO]: [STDOUT]: got slot 0\n"
     ]
    },
    {
     "name": "stdout",
     "output_type": "stream",
     "text": [
      "14.699999999999996\n",
      "step =  748\n",
      "DEBUG:minerl.env.malmo.instance.42cbc8:[18:29:02] [Netty Server IO #1/INFO]: [STDOUT]: Equip message recieved\n"
     ]
    },
    {
     "name": "stderr",
     "output_type": "stream",
     "text": [
      "2019-12-01 18:29:02 LAPTOP-SDM3TI61 minerl.env.malmo.instance.42cbc8[24072] DEBUG [18:29:02] [Netty Server IO #1/INFO]: [STDOUT]: Equip message recieved\n"
     ]
    },
    {
     "name": "stdout",
     "output_type": "stream",
     "text": [
      "DEBUG:minerl.env.malmo.instance.42cbc8:[18:29:02] [Netty Server IO #1/INFO]: [STDOUT]: got harbar 0\r\n"
     ]
    },
    {
     "name": "stderr",
     "output_type": "stream",
     "text": [
      "2019-12-01 18:29:02 LAPTOP-SDM3TI61 minerl.env.malmo.instance.42cbc8[24072] DEBUG"
     ]
    },
    {
     "name": "stdout",
     "output_type": "stream",
     "text": [
      "14.699999999999996"
     ]
    },
    {
     "name": "stderr",
     "output_type": "stream",
     "text": [
      " "
     ]
    },
    {
     "name": "stdout",
     "output_type": "stream",
     "text": [
      "\n"
     ]
    },
    {
     "name": "stderr",
     "output_type": "stream",
     "text": [
      "[18:29:02] [Netty Server IO #1/INFO]: [STDOUT]: got harbar 0\n"
     ]
    },
    {
     "name": "stdout",
     "output_type": "stream",
     "text": [
      "DEBUG:minerl.env.malmo.instance.42cbc8:[18:29:02] [Netty Server IO #1/INFO]: [STDOUT]: got slot 0\r\n"
     ]
    },
    {
     "name": "stderr",
     "output_type": "stream",
     "text": [
      "2019-12-01 18:29:02 LAPTOP-SDM3TI61"
     ]
    },
    {
     "name": "stdout",
     "output_type": "stream",
     "text": [
      "step = "
     ]
    },
    {
     "name": "stderr",
     "output_type": "stream",
     "text": [
      " minerl.env.malmo.instance.42cbc8[24072]"
     ]
    },
    {
     "name": "stdout",
     "output_type": "stream",
     "text": [
      " "
     ]
    },
    {
     "name": "stderr",
     "output_type": "stream",
     "text": [
      " "
     ]
    },
    {
     "name": "stdout",
     "output_type": "stream",
     "text": [
      "749"
     ]
    },
    {
     "name": "stderr",
     "output_type": "stream",
     "text": [
      "DEBUG"
     ]
    },
    {
     "name": "stdout",
     "output_type": "stream",
     "text": [
      "\n"
     ]
    },
    {
     "name": "stderr",
     "output_type": "stream",
     "text": [
      " [18:29:02] [Netty Server IO #1/INFO]: [STDOUT]: got slot 0\n"
     ]
    },
    {
     "name": "stdout",
     "output_type": "stream",
     "text": [
      "DEBUG:minerl.env.malmo.instance.42cbc8:[18:29:02] [Client thread/INFO]: [CHAT] §l862...\r\n"
     ]
    },
    {
     "name": "stderr",
     "output_type": "stream",
     "text": [
      "2019-12-01 18:29:02 LAPTOP-SDM3TI61 minerl.env.malmo.instance.42cbc8[24072] DEBUG [18:29:02] [Client thread/INFO]: [CHAT] §l862...\n"
     ]
    },
    {
     "name": "stdout",
     "output_type": "stream",
     "text": [
      "14.699999999999996\n",
      "step =  750\n",
      "14.699999999999996\n",
      "step =  751\n",
      "DEBUG:minerl.env.malmo.instance.42cbc8:[18:29:02] [Netty Server IO #1/INFO]: [STDOUT]: Equip message recieved\n"
     ]
    },
    {
     "name": "stderr",
     "output_type": "stream",
     "text": [
      "2019-12-01 18:29:02 LAPTOP-SDM3TI61 minerl.env.malmo.instance.42cbc8[24072] DEBUG [18:29:02] [Netty Server IO #1/INFO]: [STDOUT]: Equip message recieved\n"
     ]
    },
    {
     "name": "stdout",
     "output_type": "stream",
     "text": [
      "DEBUG:minerl.env.malmo.instance.42cbc8:[18:29:02] [Netty Server IO #1/INFO]: [STDOUT]: got harbar 0\r\n"
     ]
    },
    {
     "name": "stderr",
     "output_type": "stream",
     "text": [
      "2019-12-01 18:29:02 LAPTOP-SDM3TI61 minerl.env.malmo.instance.42cbc8[24072] DEBUG [18:29:02] [Netty Server IO #1/INFO]: [STDOUT]: got harbar 0\n"
     ]
    },
    {
     "name": "stdout",
     "output_type": "stream",
     "text": [
      "DEBUG:minerl.env.malmo.instance.42cbc8:[18:29:02] [Netty Server IO #1/INFO]: [STDOUT]: got slot 0\r\n"
     ]
    },
    {
     "name": "stderr",
     "output_type": "stream",
     "text": [
      "2019-12-01 18:29:02 LAPTOP-SDM3TI61 minerl.env.malmo.instance.42cbc8[24072] DEBUG [18:29:02] [Netty Server IO #1/INFO]: [STDOUT]: got slot 0\r"
     ]
    },
    {
     "name": "stdout",
     "output_type": "stream",
     "text": [
      "14.699999999999996"
     ]
    },
    {
     "name": "stderr",
     "output_type": "stream",
     "text": [
      "\n"
     ]
    },
    {
     "name": "stdout",
     "output_type": "stream",
     "text": [
      "\n",
      "step =  752\n",
      "14.699999999999996\n",
      "step =  753\n",
      "14.699999999999996\n",
      "step =  754\n",
      "14.699999999999996\n",
      "step =  755\n",
      "14.699999999999996\n",
      "step =  756\n",
      "14.699999999999996\n",
      "step =  757\n",
      "DEBUG:minerl.env.malmo.instance.42cbc8:[18:29:02] [Netty Server IO #1/INFO]: [STDOUT]: Equip message recieved\n"
     ]
    },
    {
     "name": "stderr",
     "output_type": "stream",
     "text": [
      "2019-12-01 18:29:02 LAPTOP-SDM3TI61 minerl.env.malmo.instance.42cbc8[24072] DEBUG [18:29:02] [Netty Server IO #1/INFO]: [STDOUT]: Equip message recieved\n"
     ]
    },
    {
     "name": "stdout",
     "output_type": "stream",
     "text": [
      "DEBUG:minerl.env.malmo.instance.42cbc8:[18:29:02] [Netty Server IO #1/INFO]: [STDOUT]: got harbar 0\r\n"
     ]
    },
    {
     "name": "stderr",
     "output_type": "stream",
     "text": [
      "2019-12-01 18:29:03 LAPTOP-SDM3TI61 minerl.env.malmo.instance.42cbc8[24072] DEBUG [18:29:02] [Netty Server IO #1/INFO]: [STDOUT]: got harbar 0\n"
     ]
    },
    {
     "name": "stdout",
     "output_type": "stream",
     "text": [
      "DEBUG:minerl.env.malmo.instance.42cbc8:[18:29:02] [Netty Server IO #1/INFO]: [STDOUT]: got slot 0\r\n"
     ]
    },
    {
     "name": "stderr",
     "output_type": "stream",
     "text": [
      "2019-12-01 18:29:03 "
     ]
    },
    {
     "name": "stdout",
     "output_type": "stream",
     "text": [
      "14.699999999999996"
     ]
    },
    {
     "name": "stderr",
     "output_type": "stream",
     "text": [
      "LAPTOP-SDM3TI61"
     ]
    },
    {
     "name": "stdout",
     "output_type": "stream",
     "text": [
      "\n"
     ]
    },
    {
     "name": "stderr",
     "output_type": "stream",
     "text": [
      " minerl.env.malmo.instance.42cbc8[24072] "
     ]
    },
    {
     "name": "stdout",
     "output_type": "stream",
     "text": [
      "step = "
     ]
    },
    {
     "name": "stderr",
     "output_type": "stream",
     "text": [
      "DEBUG"
     ]
    },
    {
     "name": "stdout",
     "output_type": "stream",
     "text": [
      " "
     ]
    },
    {
     "name": "stderr",
     "output_type": "stream",
     "text": [
      " "
     ]
    },
    {
     "name": "stdout",
     "output_type": "stream",
     "text": [
      "758"
     ]
    },
    {
     "name": "stderr",
     "output_type": "stream",
     "text": [
      "[18:29:02] [Netty Server IO #1/INFO]: [STDOUT]: got slot 0\r"
     ]
    },
    {
     "name": "stdout",
     "output_type": "stream",
     "text": [
      "\n"
     ]
    },
    {
     "name": "stderr",
     "output_type": "stream",
     "text": [
      "\n"
     ]
    },
    {
     "name": "stdout",
     "output_type": "stream",
     "text": [
      "14.699999999999996\n",
      "step =  759\n",
      "DEBUG:minerl.env.malmo.instance.42cbc8:[18:29:03] [Netty Server IO #1/INFO]: [STDOUT]: Equip message recieved\n"
     ]
    },
    {
     "name": "stderr",
     "output_type": "stream",
     "text": [
      "2019-12-01 18:29:03 LAPTOP-SDM3TI61 minerl.env.malmo.instance.42cbc8[24072] DEBUG [18:29:03] [Netty Server IO #1/INFO]: [STDOUT]: Equip message recieved\n"
     ]
    },
    {
     "name": "stdout",
     "output_type": "stream",
     "text": [
      "DEBUG:minerl.env.malmo.instance.42cbc8:[18:29:03] [Netty Server IO #1/INFO]: [STDOUT]: got harbar 0\r\n"
     ]
    },
    {
     "name": "stderr",
     "output_type": "stream",
     "text": [
      "2019-12-01 18:29:03 LAPTOP-SDM3TI61 minerl.env.malmo.instance.42cbc8[24072] DEBUG [18:29:03] [Netty Server IO #1/INFO]: [STDOUT]: got harbar 0\n"
     ]
    },
    {
     "name": "stdout",
     "output_type": "stream",
     "text": [
      "DEBUG:minerl.env.malmo.instance.42cbc8:[18:29:03] [Netty Server IO #1/INFO]: [STDOUT]: got slot 0\r\n"
     ]
    },
    {
     "name": "stderr",
     "output_type": "stream",
     "text": [
      "2019-12-01 18:29:03 LAPTOP-SDM3TI61 minerl.env.malmo.instance.42cbc8[24072] DEBUG [18:29:03] [Netty Server IO #1/INFO]: [STDOUT]: got slot 0\n"
     ]
    },
    {
     "name": "stdout",
     "output_type": "stream",
     "text": [
      "14.699999999999996\n",
      "step =  760\n",
      "DEBUG:minerl.env.malmo.instance.42cbc8:[18:29:03] [Netty Server IO #1/INFO]: [STDOUT]: Equip message recieved\n"
     ]
    },
    {
     "name": "stderr",
     "output_type": "stream",
     "text": [
      "2019-12-01 18:29:03 LAPTOP-SDM3TI61 minerl.env.malmo.instance.42cbc8[24072] DEBUG [18:29:03] [Netty Server IO #1/INFO]: [STDOUT]: Equip message recieved\n"
     ]
    },
    {
     "name": "stdout",
     "output_type": "stream",
     "text": [
      "DEBUG:minerl.env.malmo.instance.42cbc8:[18:29:03] [Netty Server IO #1/INFO]: [STDOUT]: got harbar 0\r\n"
     ]
    },
    {
     "name": "stderr",
     "output_type": "stream",
     "text": [
      "2019-12-01 18:29:03 LAPTOP-SDM3TI61 minerl.env.malmo.instance.42cbc8[24072] DEBUG [18:29:03] [Netty Server IO #1/INFO]: [STDOUT]: got harbar 0\n"
     ]
    },
    {
     "name": "stdout",
     "output_type": "stream",
     "text": [
      "DEBUG:minerl.env.malmo.instance.42cbc8:[18:29:03] [Netty Server IO #1/INFO]: [STDOUT]: got slot 0\r\n"
     ]
    },
    {
     "name": "stderr",
     "output_type": "stream",
     "text": [
      "2019-12-01 18:29:03 "
     ]
    }
   ],
   "source": [
    "main()"
   ]
  },
  {
   "cell_type": "code",
   "execution_count": null,
   "metadata": {},
   "outputs": [],
   "source": [
    "# run.py\n",
    "import os\n",
    "EVALUATION_RUNNING_ON = os.getenv('EVALUATION_RUNNING_ON', None)\n",
    "EVALUATION_STAGE = os.getenv('EVALUATION_STAGE', 'training')#''all')\n",
    "EXITED_SIGNAL_PATH = os.getenv('EXITED_SIGNAL_PATH', 'shared/exited')\n",
    "\n",
    "# Training Phase\n",
    "if EVALUATION_STAGE in ['all', 'training']:\n",
    "    aicrowd_helper.training_start()\n",
    "    #main()\n",
    "    if i == 0:\n",
    "        try:\n",
    "            i+=1\n",
    "            main()\n",
    "            aicrowd_helper.training_end()\n",
    "        except Exception as e:\n",
    "            aicrowd_helper.training_error()\n",
    "            print(e)"
   ]
  }
 ],
 "metadata": {
  "kernelspec": {
   "display_name": "Python 3",
   "language": "python",
   "name": "python3"
  },
  "language_info": {
   "codemirror_mode": {
    "name": "ipython",
    "version": 3
   },
   "file_extension": ".py",
   "mimetype": "text/x-python",
   "name": "python",
   "nbconvert_exporter": "python",
   "pygments_lexer": "ipython3",
   "version": "3.6.8"
  }
 },
 "nbformat": 4,
 "nbformat_minor": 2
}
