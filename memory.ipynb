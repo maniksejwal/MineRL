{
 "cells": [
  {
   "cell_type": "code",
   "execution_count": 1,
   "metadata": {},
   "outputs": [],
   "source": [
    "import random as rand\n",
    "from collections import deque\n",
    "\n",
    "\n",
    "class Memory:\n",
    "\n",
    "    def __init__(self, size, batch_size):\n",
    "        self.batch_size = batch_size\n",
    "        self.memory = deque(maxlen=size)\n",
    "\n",
    "    def __len__(self):\n",
    "        return len(self.memory)\n",
    "        \n",
    "    def add(self, state, action, reward, next_state, terminal):\n",
    "        if len(self.memory) >= self.memory.maxlen:\n",
    "            self.memory.popleft()\n",
    "        self.memory.append( (state, action, reward, next_state, terminal) )\n",
    "\n",
    "    def getSample(self):\n",
    "        return rand.sample(self.memory, self.batch_size)\n",
    "\n",
    "    def reset(self):\n",
    "        self.memory.clear()"
   ]
  },
  {
   "cell_type": "code",
   "execution_count": null,
   "metadata": {},
   "outputs": [],
   "source": []
  }
 ],
 "metadata": {
  "kernelspec": {
   "display_name": "Python 3",
   "language": "python",
   "name": "python3"
  },
  "language_info": {
   "codemirror_mode": {
    "name": "ipython",
    "version": 3
   },
   "file_extension": ".py",
   "mimetype": "text/x-python",
   "name": "python",
   "nbconvert_exporter": "python",
   "pygments_lexer": "ipython3",
   "version": "3.6.8"
  }
 },
 "nbformat": 4,
 "nbformat_minor": 2
}
